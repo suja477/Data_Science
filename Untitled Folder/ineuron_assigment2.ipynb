{
 "cells": [
  {
   "cell_type": "raw",
   "id": "a9139ccd",
   "metadata": {},
   "source": [
    "1.What are the two values of the Boolean data type? How do you write them?"
   ]
  },
  {
   "cell_type": "raw",
   "id": "d8150140",
   "metadata": {},
   "source": [
    "True ,False are the two values of Boolean data type"
   ]
  },
  {
   "cell_type": "raw",
   "id": "9ec8ede0",
   "metadata": {},
   "source": [
    "2. What are the three different types of Boolean operators?"
   ]
  },
  {
   "cell_type": "code",
   "execution_count": null,
   "id": "a6e1586a",
   "metadata": {},
   "outputs": [],
   "source": [
    "AND operator\n",
    "OR operator\n",
    "NOT operator"
   ]
  },
  {
   "cell_type": "raw",
   "id": "c1450e9c",
   "metadata": {},
   "source": [
    "3. Make a list of each Boolean operator&#39;s truth tables (i.e. every possible combination of Boolean\n",
    "values for the operator and what it evaluate )."
   ]
  },
  {
   "cell_type": "raw",
   "id": "734da1bd",
   "metadata": {},
   "source": [
    "True and True - True\n",
    "True and False -False\n",
    "False  and False -False\n",
    "True or True -True\n",
    "True or False -True\n",
    "False or False -False\n",
    "True not -False\n",
    "False not -True"
   ]
  },
  {
   "cell_type": "raw",
   "id": "40e178b0",
   "metadata": {},
   "source": [
    "4. What are the values of the following expressions?\n",
    "(5 > 4) and (3 == 5)    ans : False\n",
    "not (5 > 4)             ans False\n",
    "(5 > 4) or (3 == 5)     ans : True\n",
    "not ((5 > 4) or (3 == 5)) ans:False\n",
    "(True and True) and (True == False) ans : False\n",
    "(not False) or (not True) ans :True"
   ]
  },
  {
   "cell_type": "raw",
   "id": "753e18b1",
   "metadata": {},
   "source": [
    "5. What are the six comparison operators?"
   ]
  },
  {
   "cell_type": "raw",
   "id": "964fb63e",
   "metadata": {},
   "source": [
    "Less than < \n",
    "Greater than >\n",
    "less than or equal to <=\n",
    "greater than or equal to >=\n",
    "equal to ==\n",
    "not equal to !="
   ]
  },
  {
   "cell_type": "raw",
   "id": "a9b122eb",
   "metadata": {},
   "source": [
    "6. How do you tell the difference between the equal to and assignment operators?Describe a\n",
    "condition and when you would use one."
   ]
  },
  {
   "cell_type": "raw",
   "id": "5087bfbd",
   "metadata": {},
   "source": [
    "equal to compares if left value is equal to right value .eg .\n",
    "5==4 -->  ans gives false\n",
    "assignment operator is used to assign a value to variable. \n",
    "a=4 -->     gives 'a' value 4"
   ]
  },
  {
   "cell_type": "raw",
   "id": "dbd464c4",
   "metadata": {},
   "source": [
    "7. Identify the three blocks in this code:\n",
    "spam = 0\n",
    "if spam == 10:\n",
    "    print('eggs')--->first block\n",
    "if spam > 5:--------->second block starts\n",
    "    print('bacon')\n",
    "else:\n",
    "    print('ham')-------->second block ends\n",
    "print('spam') -------->3rd block\n",
    "print('spam')\n"
   ]
  },
  {
   "cell_type": "raw",
   "id": "145cb35b",
   "metadata": {},
   "source": [
    "8. Write code that prints Hello if 1 is stored in spam, prints Howdy if 2 is stored in spam, and prints Greetings! if anything else is stored in spam.\n"
   ]
  },
  {
   "cell_type": "code",
   "execution_count": 4,
   "id": "24761d6a",
   "metadata": {},
   "outputs": [
    {
     "name": "stdout",
     "output_type": "stream",
     "text": [
      "Greetings\n"
     ]
    }
   ],
   "source": [
    "spam =1\n",
    "if spam == 1:\n",
    "    print('Hello')\n",
    "elif spam ==2:\n",
    "    print('Howdy')\n",
    "else:\n",
    "    print('Greetings')\n"
   ]
  },
  {
   "cell_type": "raw",
   "id": "23819faf",
   "metadata": {},
   "source": [
    "9.If your programme is stuck in an endless loop, what keys you’ll press?\n",
    "Control+C"
   ]
  },
  {
   "cell_type": "raw",
   "id": "d4168d37",
   "metadata": {},
   "source": [
    "10. How can you tell the difference between break and continue?\n",
    " break will take control to end of loop\n",
    "continue will take control to next iteration"
   ]
  },
  {
   "cell_type": "raw",
   "id": "debf4d9d",
   "metadata": {},
   "source": [
    "11. In a for loop, what is the difference between range(10), range(0, 10), and range(0, 10, 1)?\n",
    "range(10) means iterate from 0 to 10\n",
    "range (0,10) means iterate from 0 to 10\n",
    "range (0,10,1) means iterate from 0 to 10 taking step 1"
   ]
  },
  {
   "cell_type": "code",
   "execution_count": null,
   "id": "7dce349e",
   "metadata": {},
   "outputs": [],
   "source": [
    "12. Write a short program that prints the numbers 1 to 10 using a for loop.\n",
    "Then write an equivalent program that prints the numbers 1 to 10 using a while loop.\n"
   ]
  },
  {
   "cell_type": "code",
   "execution_count": 6,
   "id": "e2c7289f",
   "metadata": {},
   "outputs": [
    {
     "name": "stdout",
     "output_type": "stream",
     "text": [
      "1\n",
      "2\n",
      "3\n",
      "4\n",
      "5\n",
      "6\n",
      "7\n",
      "8\n",
      "9\n",
      "10\n"
     ]
    }
   ],
   "source": [
    "for i in range(1,11):\n",
    "    print(i)"
   ]
  },
  {
   "cell_type": "code",
   "execution_count": 11,
   "id": "5de2fa0a",
   "metadata": {},
   "outputs": [
    {
     "name": "stdout",
     "output_type": "stream",
     "text": [
      "1\n",
      "2\n",
      "3\n",
      "4\n",
      "5\n",
      "6\n",
      "7\n",
      "8\n",
      "9\n",
      "10\n"
     ]
    }
   ],
   "source": [
    "i=1\n",
    "while(i<=10):\n",
    "    print(i)\n",
    "    i=i+1"
   ]
  },
  {
   "cell_type": "raw",
   "id": "8068e12f",
   "metadata": {},
   "source": [
    "13. If you had a function named bacon() inside a module named spam, how would you call it after importing spam?\n",
    "import spam as sp\n",
    "sp.bacon()"
   ]
  },
  {
   "cell_type": "code",
   "execution_count": null,
   "id": "3e9bc536",
   "metadata": {},
   "outputs": [],
   "source": []
  },
  {
   "cell_type": "code",
   "execution_count": null,
   "id": "d8eada32",
   "metadata": {},
   "outputs": [],
   "source": []
  }
 ],
 "metadata": {
  "kernelspec": {
   "display_name": "Python 3 (ipykernel)",
   "language": "python",
   "name": "python3"
  },
  "language_info": {
   "codemirror_mode": {
    "name": "ipython",
    "version": 3
   },
   "file_extension": ".py",
   "mimetype": "text/x-python",
   "name": "python",
   "nbconvert_exporter": "python",
   "pygments_lexer": "ipython3",
   "version": "3.9.12"
  }
 },
 "nbformat": 4,
 "nbformat_minor": 5
}
