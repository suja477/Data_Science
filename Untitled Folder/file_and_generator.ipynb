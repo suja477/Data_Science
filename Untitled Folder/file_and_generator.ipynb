{
 "cells": [
  {
   "cell_type": "code",
   "execution_count": 1,
   "id": "a5624831",
   "metadata": {},
   "outputs": [
    {
     "data": {
      "text/plain": [
       "'C:\\\\Users\\\\Suja4\\\\OneDrive\\\\Documents\\\\Data Science\\\\DataScience\\\\Untitled Folder'"
      ]
     },
     "execution_count": 1,
     "metadata": {},
     "output_type": "execute_result"
    }
   ],
   "source": [
    "pwd()"
   ]
  },
  {
   "cell_type": "code",
   "execution_count": 3,
   "id": "a417d8cd",
   "metadata": {},
   "outputs": [
    {
     "name": "stdout",
     "output_type": "stream",
     "text": [
      " Volume in drive C is OS\n",
      " Volume Serial Number is 2856-1763\n",
      "\n",
      " Directory of C:\\Users\\Suja4\\OneDrive\\Documents\\Data Science\\DataScience\\Untitled Folder\n",
      "\n",
      "11-04-2023  12:59    <DIR>          .\n",
      "02-02-2023  17:44    <DIR>          ..\n",
      "11-04-2023  12:58    <DIR>          .ipynb_checkpoints\n",
      "25-01-2023  18:39             6,850 Assignment ANN.ipynb\n",
      "02-02-2023  21:48             6,764 Assignment_programme_4.ipynb\n",
      "24-03-2023  12:43             2,025 Assignment_programme5.ipynb\n",
      "24-03-2023  12:38             4,958 Assignment10.ipynb\n",
      "11-04-2023  12:39            10,053 Assignment11.ipynb\n",
      "11-04-2023  12:59             3,532 Assignment12.ipynb\n",
      "06-03-2023  17:13             2,998 Assignment8_ineuron.ipynb\n",
      "31-01-2023  20:16             2,891 Assignment9_ineuron.ipynb\n",
      "24-11-2022  20:04             6,672 ineuron_assigment2.ipynb\n",
      "24-11-2022  21:31             5,072 ineuron_assignment3.ipynb\n",
      "25-11-2022  17:58             4,635 ineuron_assignment4.ipynb\n",
      "25-11-2022  19:13             2,539 ineuron_assignment5.ipynb\n",
      "25-11-2022  19:39             3,057 ineuron_assignment6.ipynb\n",
      "11-04-2023  12:00             3,774 ineuron_prog_assignment1.ipynb\n",
      "26-11-2022  12:12             4,834 ineuron_progassignment2.ipynb\n",
      "26-11-2022  13:52            24,113 ineuron_progAssignment3.ipynb\n",
      "24-03-2023  12:36             5,475 selectiveFolder\n",
      "24-03-2023  12:33    <DIR>          test1\n",
      "24-03-2023  12:33    <DIR>          test2\n",
      "30-03-2023  17:07             2,515 Untitled.ipynb\n",
      "11-04-2023  12:58                72 Untitled1.ipynb\n",
      "              19 File(s)        102,829 bytes\n",
      "               5 Dir(s)  271,735,980,032 bytes free\n"
     ]
    }
   ],
   "source": [
    "%ls"
   ]
  },
  {
   "cell_type": "code",
   "execution_count": 14,
   "id": "024f6191",
   "metadata": {},
   "outputs": [],
   "source": [
    "f=open(\"Assignment_programme_4.ipynb\")"
   ]
  },
  {
   "cell_type": "code",
   "execution_count": 11,
   "id": "132fb771",
   "metadata": {},
   "outputs": [
    {
     "data": {
      "text/plain": [
       "''"
      ]
     },
     "execution_count": 11,
     "metadata": {},
     "output_type": "execute_result"
    }
   ],
   "source": [
    "f.read()"
   ]
  },
  {
   "cell_type": "code",
   "execution_count": 16,
   "id": "d24453e6",
   "metadata": {},
   "outputs": [
    {
     "data": {
      "text/plain": [
       "_io.TextIOWrapper"
      ]
     },
     "execution_count": 16,
     "metadata": {},
     "output_type": "execute_result"
    }
   ],
   "source": [
    "type(f)"
   ]
  },
  {
   "cell_type": "code",
   "execution_count": 17,
   "id": "b1669954",
   "metadata": {},
   "outputs": [],
   "source": [
    "f=open(\"test.txt\",'w')"
   ]
  },
  {
   "cell_type": "code",
   "execution_count": 18,
   "id": "564ecf2e",
   "metadata": {},
   "outputs": [
    {
     "data": {
      "text/plain": [
       "7"
      ]
     },
     "execution_count": 18,
     "metadata": {},
     "output_type": "execute_result"
    }
   ],
   "source": [
    "f.write(\"testing\")"
   ]
  },
  {
   "cell_type": "code",
   "execution_count": 19,
   "id": "492818d9",
   "metadata": {},
   "outputs": [],
   "source": [
    "f.close()"
   ]
  },
  {
   "cell_type": "code",
   "execution_count": 28,
   "id": "2a9939ed",
   "metadata": {},
   "outputs": [
    {
     "name": "stdout",
     "output_type": "stream",
     "text": [
      "enter the number2\n",
      "enter second0\n"
     ]
    }
   ],
   "source": [
    "try:\n",
    "    a=int(input(\"enter the number\"))\n",
    "    b=int(input(\"enter second\"))\n",
    "    c=a/b\n",
    "except ArithmeticError as e:\n",
    "    f=open(\"error.txt\",'w+')\n",
    "    f.write(\"error\")\n",
    "    f.close()\n",
    "else:\n",
    "    print(\"successfull\")\n",
    "\n"
   ]
  },
  {
   "cell_type": "code",
   "execution_count": 51,
   "id": "b0cc1a7b",
   "metadata": {},
   "outputs": [],
   "source": [
    "def square(n):\n",
    "    for i in range(n):\n",
    "         yield(i**2)"
   ]
  },
  {
   "cell_type": "code",
   "execution_count": 52,
   "id": "d4bcf1b2",
   "metadata": {},
   "outputs": [],
   "source": [
    "k=square(3)"
   ]
  },
  {
   "cell_type": "code",
   "execution_count": 53,
   "id": "5e545200",
   "metadata": {},
   "outputs": [
    {
     "name": "stdout",
     "output_type": "stream",
     "text": [
      "0\n",
      "1\n",
      "4\n"
     ]
    }
   ],
   "source": [
    "for i in k:\n",
    "    print(i)"
   ]
  },
  {
   "cell_type": "code",
   "execution_count": null,
   "id": "d7252472",
   "metadata": {},
   "outputs": [],
   "source": []
  }
 ],
 "metadata": {
  "kernelspec": {
   "display_name": "Python 3 (ipykernel)",
   "language": "python",
   "name": "python3"
  },
  "language_info": {
   "codemirror_mode": {
    "name": "ipython",
    "version": 3
   },
   "file_extension": ".py",
   "mimetype": "text/x-python",
   "name": "python",
   "nbconvert_exporter": "python",
   "pygments_lexer": "ipython3",
   "version": "3.9.15"
  }
 },
 "nbformat": 4,
 "nbformat_minor": 5
}
