{
 "cells": [
  {
   "cell_type": "raw",
   "id": "2d9014ed",
   "metadata": {},
   "source": [
    "1. Write a Python program to convert kilometers to miles?\n"
   ]
  },
  {
   "cell_type": "code",
   "execution_count": 1,
   "id": "9af9247e",
   "metadata": {},
   "outputs": [
    {
     "name": "stdout",
     "output_type": "stream",
     "text": [
      "Enter kilometers33\n",
      "miles is 20.505209999999998\n"
     ]
    }
   ],
   "source": [
    "x=input(\"Enter kilometers\")\n",
    "print(\"miles is \"+str(float(x) * 0.62137))"
   ]
  },
  {
   "cell_type": "raw",
   "id": "a35ed35f",
   "metadata": {},
   "source": [
    "2. Write a Python program to convert Celsius to Fahrenheit?\n"
   ]
  },
  {
   "cell_type": "code",
   "execution_count": 4,
   "id": "2062a7eb",
   "metadata": {},
   "outputs": [
    {
     "name": "stdout",
     "output_type": "stream",
     "text": [
      "Enter Celcius45\n",
      "Fahrenheit is 113.0\n"
     ]
    }
   ],
   "source": [
    "\n",
    "x=input(\"Enter Celcius\")\n",
    "print(\"Fahrenheit is \"+str((float(x) * (9/5))+32))"
   ]
  },
  {
   "cell_type": "raw",
   "id": "2b8f8ab9",
   "metadata": {},
   "source": [
    "3. Write a Python program to display calendar?\n"
   ]
  },
  {
   "cell_type": "code",
   "execution_count": 6,
   "id": "dd606182",
   "metadata": {},
   "outputs": [
    {
     "name": "stdout",
     "output_type": "stream",
     "text": [
      "Enter year22\n",
      "Enter month11\n",
      "    November 22\n",
      "Mo Tu We Th Fr Sa Su\n",
      "    1  2  3  4  5  6\n",
      " 7  8  9 10 11 12 13\n",
      "14 15 16 17 18 19 20\n",
      "21 22 23 24 25 26 27\n",
      "28 29 30\n",
      "\n"
     ]
    }
   ],
   "source": [
    "yy=int(input(\"Enter year\"))\n",
    "mm=int(input(\"Enter month\"))\n",
    "import calendar\n",
    "print(calendar.month(yy, mm))"
   ]
  },
  {
   "cell_type": "raw",
   "id": "e991d2fd",
   "metadata": {},
   "source": [
    "4. Write a Python program to solve quadratic equation?\n"
   ]
  },
  {
   "cell_type": "raw",
   "id": "94e4c33f",
   "metadata": {},
   "source": [
    "The blue part (b2 - 4ac) is called the \"discriminant\", because it can \"discriminate\" between the possible types of answer:\n",
    "\n",
    "when it is positive, we get two real solutions,\n",
    "when it is zero we get just ONE solution,\n",
    "when it is negative we get complex solutions."
   ]
  },
  {
   "cell_type": "code",
   "execution_count": 10,
   "id": "0cc438cf",
   "metadata": {},
   "outputs": [
    {
     "name": "stdout",
     "output_type": "stream",
     "text": [
      "Enter value of a9\n",
      "Enter value of b12\n",
      "Enter value of c4\n",
      "one solution\n"
     ]
    },
    {
     "data": {
      "text/plain": [
       "(-54.0, -54.0)"
      ]
     },
     "execution_count": 10,
     "metadata": {},
     "output_type": "execute_result"
    }
   ],
   "source": [
    "import math\n",
    "a=int(input(\"Enter value of a\"))\n",
    "b=int(input(\"Enter value of b\"))\n",
    "c=int(input(\"Enter value of c\"))\n",
    "dis = b * b - 4 * a * c \n",
    "sqrt_val = math.sqrt(abs(dis)) \n",
    "if(dis>0):\n",
    "    print(\"Real\")\n",
    "    x1=(-b+sqrt_val)/2*a\n",
    "    x2=(-b-sqrt_val)/2*a\n",
    "elif(dis==0):\n",
    "    print(\"one solution\")\n",
    "    x1=(-b+sqrt_val)/2*a\n",
    "    x2=(-b-sqrt_val)/2*a\n",
    "elif(dis<0):\n",
    "    print(\"complex\")\n",
    "    x1=(-b+sqrt_val)/2*a\n",
    "    x2=(-b-sqrt_val)/2*a\n",
    "    \n",
    "x1,x2"
   ]
  },
  {
   "cell_type": "raw",
   "id": "01cacf8a",
   "metadata": {},
   "source": [
    "5. Write a Python program to swap two variables without temp variable?"
   ]
  },
  {
   "cell_type": "code",
   "execution_count": 2,
   "id": "64df173f",
   "metadata": {},
   "outputs": [
    {
     "name": "stdout",
     "output_type": "stream",
     "text": [
      "Enter value of a10\n",
      "Enter value of b2\n",
      "a :2\n",
      "b :10\n"
     ]
    }
   ],
   "source": [
    "a=int(input(\"Enter value of a\"))\n",
    "b=int(input(\"Enter value of b\"))\n",
    "a=a+b\n",
    "b=a-b\n",
    "a=a-b\n",
    "print(\"a :\"+ str(a))\n",
    "print(\"b :\"+ str(b))\n"
   ]
  },
  {
   "cell_type": "code",
   "execution_count": null,
   "id": "46b1835a",
   "metadata": {},
   "outputs": [],
   "source": []
  }
 ],
 "metadata": {
  "kernelspec": {
   "display_name": "Python 3 (ipykernel)",
   "language": "python",
   "name": "python3"
  },
  "language_info": {
   "codemirror_mode": {
    "name": "ipython",
    "version": 3
   },
   "file_extension": ".py",
   "mimetype": "text/x-python",
   "name": "python",
   "nbconvert_exporter": "python",
   "pygments_lexer": "ipython3",
   "version": "3.9.12"
  }
 },
 "nbformat": 4,
 "nbformat_minor": 5
}
