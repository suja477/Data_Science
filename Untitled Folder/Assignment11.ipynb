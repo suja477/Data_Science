{
 "cells": [
  {
   "cell_type": "code",
   "execution_count": null,
   "id": "4abd81ba",
   "metadata": {},
   "outputs": [],
   "source": [
    "1. Create an assert statement that throws an AssertionError if the variable spam is a negative integer.\n"
   ]
  },
  {
   "cell_type": "code",
   "execution_count": 3,
   "id": "b8c41385",
   "metadata": {},
   "outputs": [
    {
     "ename": "AssertionError",
     "evalue": "Spam is negative",
     "output_type": "error",
     "traceback": [
      "\u001b[1;31m---------------------------------------------------------------------------\u001b[0m",
      "\u001b[1;31mAssertionError\u001b[0m                            Traceback (most recent call last)",
      "Cell \u001b[1;32mIn [3], line 2\u001b[0m\n\u001b[0;32m      1\u001b[0m spam\u001b[38;5;241m=\u001b[39m\u001b[38;5;241m-\u001b[39m\u001b[38;5;241m1\u001b[39m\n\u001b[1;32m----> 2\u001b[0m \u001b[38;5;28;01massert\u001b[39;00m(spam\u001b[38;5;241m>\u001b[39m\u001b[38;5;241m0\u001b[39m),(\u001b[38;5;124m\"\u001b[39m\u001b[38;5;124mSpam is negative\u001b[39m\u001b[38;5;124m\"\u001b[39m)\n",
      "\u001b[1;31mAssertionError\u001b[0m: Spam is negative"
     ]
    }
   ],
   "source": [
    "spam=-1\n",
    "assert(spam>0),(\"Spam is negative\")"
   ]
  },
  {
   "cell_type": "code",
   "execution_count": null,
   "id": "1a1a85cd",
   "metadata": {},
   "outputs": [],
   "source": [
    "2. Write an assert statement that triggers an AssertionError if the variables eggs and bacon \n",
    "contain strings that are the same as each other, even if their cases are different \n",
    "(that is, 'hello' and 'hello' are considered the same, and 'goodbye' and 'GOODbye' are also considered the same).\n"
   ]
  },
  {
   "cell_type": "code",
   "execution_count": 8,
   "id": "34cc91e4",
   "metadata": {},
   "outputs": [
    {
     "name": "stdout",
     "output_type": "stream",
     "text": [
      "Enter first stringhello\n",
      "Entr second stringhello\n"
     ]
    },
    {
     "ename": "AssertionError",
     "evalue": "both are same",
     "output_type": "error",
     "traceback": [
      "\u001b[1;31m---------------------------------------------------------------------------\u001b[0m",
      "\u001b[1;31mAssertionError\u001b[0m                            Traceback (most recent call last)",
      "Cell \u001b[1;32mIn [8], line 3\u001b[0m\n\u001b[0;32m      1\u001b[0m eggs\u001b[38;5;241m=\u001b[39m\u001b[38;5;28minput\u001b[39m(\u001b[38;5;124m\"\u001b[39m\u001b[38;5;124mEnter first string\u001b[39m\u001b[38;5;124m\"\u001b[39m)\n\u001b[0;32m      2\u001b[0m bacon\u001b[38;5;241m=\u001b[39m\u001b[38;5;28minput\u001b[39m(\u001b[38;5;124m\"\u001b[39m\u001b[38;5;124mEntr second string\u001b[39m\u001b[38;5;124m\"\u001b[39m)\n\u001b[1;32m----> 3\u001b[0m \u001b[38;5;28;01massert\u001b[39;00m(eggs\u001b[38;5;241m.\u001b[39mlower()\u001b[38;5;241m!=\u001b[39mbacon\u001b[38;5;241m.\u001b[39mlower() \u001b[38;5;129;01mor\u001b[39;00m eggs\u001b[38;5;241m.\u001b[39mupper()\u001b[38;5;241m!=\u001b[39mbacon\u001b[38;5;241m.\u001b[39mupper()),(\u001b[38;5;124m\"\u001b[39m\u001b[38;5;124mboth are same\u001b[39m\u001b[38;5;124m\"\u001b[39m)\n",
      "\u001b[1;31mAssertionError\u001b[0m: both are same"
     ]
    }
   ],
   "source": [
    "eggs=input(\"Enter first string\")\n",
    "bacon=input(\"Entr second string\")\n",
    "assert(eggs.lower()!=bacon.lower() or eggs.upper()!=bacon.upper()),(\"both are same\")"
   ]
  },
  {
   "cell_type": "code",
   "execution_count": null,
   "id": "7e18e658",
   "metadata": {},
   "outputs": [],
   "source": [
    "3. Create an assert statement that throws an AssertionError every time.\n"
   ]
  },
  {
   "cell_type": "code",
   "execution_count": 9,
   "id": "a2caffc2",
   "metadata": {},
   "outputs": [
    {
     "ename": "AssertionError",
     "evalue": "Error everytime",
     "output_type": "error",
     "traceback": [
      "\u001b[1;31m---------------------------------------------------------------------------\u001b[0m",
      "\u001b[1;31mAssertionError\u001b[0m                            Traceback (most recent call last)",
      "Cell \u001b[1;32mIn [9], line 1\u001b[0m\n\u001b[1;32m----> 1\u001b[0m \u001b[38;5;28;01massert\u001b[39;00m(\u001b[38;5;241m1\u001b[39m\u001b[38;5;241m!=\u001b[39m\u001b[38;5;241m1\u001b[39m),(\u001b[38;5;124m\"\u001b[39m\u001b[38;5;124mError everytime\u001b[39m\u001b[38;5;124m\"\u001b[39m)\n",
      "\u001b[1;31mAssertionError\u001b[0m: Error everytime"
     ]
    }
   ],
   "source": [
    "assert(1!=1),(\"Error everytime\")"
   ]
  },
  {
   "cell_type": "code",
   "execution_count": null,
   "id": "be84dba7",
   "metadata": {},
   "outputs": [],
   "source": [
    "4. What are the two lines that must be present in your software in order to call logging.debug()?\n"
   ]
  },
  {
   "cell_type": "code",
   "execution_count": null,
   "id": "d523a873",
   "metadata": {},
   "outputs": [],
   "source": [
    "import logging\n",
    "logging.basicConfig(format='%(levelname)s:%(message)s', level=logging.DEBUG)"
   ]
  },
  {
   "cell_type": "code",
   "execution_count": null,
   "id": "b717d4dc",
   "metadata": {},
   "outputs": [],
   "source": [
    "5. What are the two lines that your program must have in order to have logging.debug() \n",
    "send a logging message to a file named programLog.txt?\n"
   ]
  },
  {
   "cell_type": "code",
   "execution_count": null,
   "id": "8e37804d",
   "metadata": {},
   "outputs": [],
   "source": [
    "import logging\n",
    "logging.basicConfig(filename='programLog.txt', encoding='utf-8', level=logging.DEBUG)\n"
   ]
  },
  {
   "cell_type": "code",
   "execution_count": null,
   "id": "045e14f9",
   "metadata": {},
   "outputs": [],
   "source": [
    "6. What are the five levels of logging?\n"
   ]
  },
  {
   "cell_type": "code",
   "execution_count": null,
   "id": "a5c2bc60",
   "metadata": {},
   "outputs": [],
   "source": [
    "debug-Detailed information, typically of interest only when diagnosing problems.\n",
    "info-Confirmation that things are working as expected.\n",
    "warning-\t\n",
    "An indication that something unexpected happened, or indicative of some problem in the near future (e.g. ‘disk space low’). The software is still working as expected.\n",
    "error-Due to a more serious problem, the software has not been able to perform some function.\n",
    "critical-A serious error, indicating that the program itself may be unable to continue running."
   ]
  },
  {
   "cell_type": "code",
   "execution_count": null,
   "id": "324e195e",
   "metadata": {},
   "outputs": [],
   "source": [
    "7. What line of code would you add to your software to disable all logging messages?\n"
   ]
  },
  {
   "cell_type": "code",
   "execution_count": null,
   "id": "383325c3",
   "metadata": {},
   "outputs": [],
   "source": [
    "logging.disable(logging.DEBUG)"
   ]
  },
  {
   "cell_type": "code",
   "execution_count": null,
   "id": "3b1404f1",
   "metadata": {},
   "outputs": [],
   "source": [
    "8.Why is using logging messages better than using print() to display the same message?\n"
   ]
  },
  {
   "cell_type": "code",
   "execution_count": null,
   "id": "90ca0a8f",
   "metadata": {},
   "outputs": [],
   "source": [
    "if print is used we need to manually comment all print statement before production.for log message we need to only turn it on /off \n",
    "using level setting and disable ."
   ]
  },
  {
   "cell_type": "code",
   "execution_count": null,
   "id": "f33c0a64",
   "metadata": {},
   "outputs": [],
   "source": [
    "9. What are the differences between the Step Over, Step In, and Step Out buttons in the debugger?\n"
   ]
  },
  {
   "cell_type": "code",
   "execution_count": null,
   "id": "e6fbfaa1",
   "metadata": {},
   "outputs": [],
   "source": [
    "step over-This command lets the application execute the next action.\n",
    "If the action involves a call to an operation, it does not step into its implementation (it steps over it instead).\n",
    "step in --This command lets the application execute the next action. If the action involves a call to an operation, \n",
    "it steps into its implementation and breaks the execution on the first action of that implementation.\n",
    "step out -This command lets the application execute until the currently executed operation implementation is returned.\n"
   ]
  },
  {
   "cell_type": "code",
   "execution_count": null,
   "id": "6d8a3875",
   "metadata": {},
   "outputs": [],
   "source": [
    "10.After you click Continue, when will the debugger stop ?\n"
   ]
  },
  {
   "cell_type": "code",
   "execution_count": null,
   "id": "7a365476",
   "metadata": {},
   "outputs": [],
   "source": [
    " Continue execution, only stop when a breakpoint is encountered."
   ]
  },
  {
   "cell_type": "code",
   "execution_count": null,
   "id": "84c438cd",
   "metadata": {},
   "outputs": [],
   "source": [
    "11. What is the concept of a breakpoint?\n"
   ]
  },
  {
   "cell_type": "code",
   "execution_count": null,
   "id": "95cd400a",
   "metadata": {},
   "outputs": [],
   "source": [
    "When you have Debugger enabled and you can right click on any lines\n",
    " to create a breakpoint. During Go - it will stop there and await your next\n",
    " command."
   ]
  },
  {
   "cell_type": "code",
   "execution_count": null,
   "id": "88a9d93b",
   "metadata": {},
   "outputs": [],
   "source": []
  },
  {
   "cell_type": "code",
   "execution_count": null,
   "id": "eec45c7c",
   "metadata": {},
   "outputs": [],
   "source": []
  }
 ],
 "metadata": {
  "kernelspec": {
   "display_name": "Python 3 (ipykernel)",
   "language": "python",
   "name": "python3"
  },
  "language_info": {
   "codemirror_mode": {
    "name": "ipython",
    "version": 3
   },
   "file_extension": ".py",
   "mimetype": "text/x-python",
   "name": "python",
   "nbconvert_exporter": "python",
   "pygments_lexer": "ipython3",
   "version": "3.9.15"
  }
 },
 "nbformat": 4,
 "nbformat_minor": 5
}
