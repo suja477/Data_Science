{
 "cells": [
  {
   "cell_type": "raw",
   "id": "72962a0a",
   "metadata": {},
   "source": [
    "Write a program to download the data from the link given below and then read the data and convert the into the \n",
    "proper structure and return it as a CSV file. "
   ]
  },
  {
   "cell_type": "code",
   "execution_count": 20,
   "id": "156a591e",
   "metadata": {},
   "outputs": [
    {
     "name": "stdout",
     "output_type": "stream",
     "text": [
      "JSON file downloaded successfully and saved as data_4.json.\n",
      "JSON data converted and saved as data.csv.\n"
     ]
    }
   ],
   "source": [
    "import csv\n",
    "import requests\n",
    "import json\n",
    "def download_json(url, save_path):\n",
    "    response = requests.get(url)\n",
    "    if response.status_code == 200:\n",
    "        with open(save_path, 'wb') as file:\n",
    "            file.write(response.content)\n",
    "            \n",
    "            print(f\"JSON file downloaded successfully and saved as {save_path}.\")\n",
    "            return file\n",
    "    else:\n",
    "        print(\"Failed to download JSON file.\")\n",
    "        \n",
    "def convert_json_to_csv(json_data, csv_filename):\n",
    "    # Extract the keys from the first JSON object to use as CSV headers\n",
    "    headers = list(json_data[0].keys())\n",
    "    \n",
    "    with open(csv_filename, 'w', newline='',encoding=\"utf-8\") as file:\n",
    "        writer = csv.DictWriter(file, fieldnames=headers,extrasaction='ignore')\n",
    "        writer.writeheader()\n",
    "        writer.writerows(json_data)\n",
    "\n",
    "    print(f\"JSON data converted and saved as {csv_filename}.\")\n",
    "\n",
    "from pathlib import Path\n",
    "\n",
    "save_path='data_4.json'\n",
    "url = \"https://data.nasa.gov/resource/y77d-th95.json\" \n",
    "filename = \"processed_data.csv\"  \n",
    "\n",
    "try:\n",
    "    # Download data\n",
    "    file = download_json(url,save_path)\n",
    "   # file = str(data.encode('utf-8'))\n",
    "\n",
    "    # Process data\n",
    "    with open('data_4.json', 'r',encoding='utf-8') as file:\n",
    "        json_data = json.load(file)\n",
    "        \n",
    "\n",
    "    csv_filename = \"data.csv\"  \n",
    "   \n",
    "\n",
    "     # Convert JSON to CSV\n",
    "    convert_json_to_csv(json_data, csv_filename)\n",
    "\n",
    "\n",
    "except Exception as e:\n",
    "    print(f\"An error occurred: {str(e)}\")"
   ]
  },
  {
   "cell_type": "code",
   "execution_count": null,
   "id": "73d3e7cb",
   "metadata": {},
   "outputs": [],
   "source": []
  },
  {
   "cell_type": "code",
   "execution_count": null,
   "id": "3a53d4e8",
   "metadata": {},
   "outputs": [],
   "source": []
  },
  {
   "cell_type": "code",
   "execution_count": null,
   "id": "acd2f59e",
   "metadata": {},
   "outputs": [],
   "source": []
  },
  {
   "cell_type": "code",
   "execution_count": null,
   "id": "a322208c",
   "metadata": {},
   "outputs": [],
   "source": []
  },
  {
   "cell_type": "code",
   "execution_count": null,
   "id": "b9205da2",
   "metadata": {},
   "outputs": [],
   "source": []
  }
 ],
 "metadata": {
  "kernelspec": {
   "display_name": "Python 3 (ipykernel)",
   "language": "python",
   "name": "python3"
  },
  "language_info": {
   "codemirror_mode": {
    "name": "ipython",
    "version": 3
   },
   "file_extension": ".py",
   "mimetype": "text/x-python",
   "name": "python",
   "nbconvert_exporter": "python",
   "pygments_lexer": "ipython3",
   "version": "3.9.15"
  }
 },
 "nbformat": 4,
 "nbformat_minor": 5
}
