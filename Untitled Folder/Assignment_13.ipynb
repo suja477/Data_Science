{
 "cells": [
  {
   "cell_type": "code",
   "execution_count": null,
   "id": "ce6bfe9e",
   "metadata": {},
   "outputs": [],
   "source": [
    "1. What advantages do Excel spreadsheets have over CSV spreadsheets?\n"
   ]
  },
  {
   "cell_type": "raw",
   "id": "2607134b",
   "metadata": {},
   "source": [
    "While Excel (XLS and XLSX) file formats are better for storing more complex data, CSV files are supported by nearly\n",
    "all data upload interfaces. If we are planning to move your data between platforms, \n",
    "export and import it from one interface to another,csv format is better"
   ]
  },
  {
   "cell_type": "code",
   "execution_count": null,
   "id": "d950d7a1",
   "metadata": {},
   "outputs": [],
   "source": [
    "2.What do you pass to csv.reader() and csv.writer() to create reader and writer objects?\n"
   ]
  },
  {
   "cell_type": "code",
   "execution_count": null,
   "id": "f5ba1294",
   "metadata": {},
   "outputs": [],
   "source": [
    "we pass file object to csv.reader() and csv.writer() to create reader and writer objects"
   ]
  },
  {
   "cell_type": "code",
   "execution_count": null,
   "id": "47c94f32",
   "metadata": {},
   "outputs": [],
   "source": [
    "3. What modes do File objects for reader and writer objects need to be opened in?\n"
   ]
  },
  {
   "cell_type": "code",
   "execution_count": null,
   "id": "009237f7",
   "metadata": {},
   "outputs": [],
   "source": [
    "file object need to be opened in write mode 'w' for writing and in read mode 'r' for reading "
   ]
  },
  {
   "cell_type": "code",
   "execution_count": null,
   "id": "b0e8b499",
   "metadata": {},
   "outputs": [],
   "source": [
    "4. What method takes a list argument and writes it to a CSV file?\n"
   ]
  },
  {
   "cell_type": "code",
   "execution_count": null,
   "id": "f2e68b28",
   "metadata": {},
   "outputs": [],
   "source": [
    "writerows takes list argument and writes it to csv file"
   ]
  },
  {
   "cell_type": "code",
   "execution_count": 8,
   "id": "6dcc71a8",
   "metadata": {},
   "outputs": [],
   "source": [
    "import csv\n",
    "csv_rowlist = [[\"SN\", \"Movie\", \"Protagonist\"], [1, \"Lord of the Rings\", \"Frodo Baggins\"],\n",
    "               [2, \"Harry Potter\", \"Harry Potter\"]]\n",
    "with open('list.csv', 'w') as file:\n",
    "    writer = csv.writer(file)\n",
    "    writer.writerows(csv_rowlist)"
   ]
  },
  {
   "cell_type": "code",
   "execution_count": 9,
   "id": "c0de34af",
   "metadata": {},
   "outputs": [
    {
     "name": "stdout",
     "output_type": "stream",
     "text": [
      "['SN', 'Movie', 'Protagonist']\n",
      "[]\n",
      "['1', 'Lord of the Rings', 'Frodo Baggins']\n",
      "[]\n",
      "['2', 'Harry Potter', 'Harry Potter']\n",
      "[]\n"
     ]
    }
   ],
   "source": [
    "with open('list.csv','r') as file :\n",
    "    reader =csv.reader(file)\n",
    "    for row in reader:\n",
    "        print(row)\n",
    "   "
   ]
  },
  {
   "cell_type": "raw",
   "id": "75a6a81a",
   "metadata": {},
   "source": [
    "5. What do the keyword arguments delimiter and line terminator do?\n"
   ]
  },
  {
   "cell_type": "code",
   "execution_count": null,
   "id": "ffecae94",
   "metadata": {},
   "outputs": [],
   "source": [
    "This changes the delimiter and line terminator characters in your file. \n",
    "The delimiter is the character that appears between cells on a row.\n",
    "By default, the delimiter for a CSV file is a comma.\n",
    "The line terminator is the character that comes at the end of a row. By default, the line terminator is a newline. \n",
    "You can change characters to different values by using the delimiter and lineterminator keyword arguments with csv.writer()."
   ]
  },
  {
   "cell_type": "code",
   "execution_count": null,
   "id": "02c1c3f5",
   "metadata": {},
   "outputs": [],
   "source": [
    "6. What function takes a string of JSON data and returns a Python data structure?\n"
   ]
  },
  {
   "cell_type": "code",
   "execution_count": null,
   "id": "0b77f777",
   "metadata": {},
   "outputs": [],
   "source": [
    "json.loads(data)   take string of json data and returns python data structure "
   ]
  },
  {
   "cell_type": "code",
   "execution_count": null,
   "id": "7b764a00",
   "metadata": {},
   "outputs": [],
   "source": [
    "7. What function takes a Python data structure and returns a string of JSON data?\n",
    "\n"
   ]
  },
  {
   "cell_type": "code",
   "execution_count": null,
   "id": "bc11faff",
   "metadata": {},
   "outputs": [],
   "source": [
    "json.dumps(data) takes python data structure and returns json data"
   ]
  },
  {
   "cell_type": "code",
   "execution_count": 10,
   "id": "63f05701",
   "metadata": {},
   "outputs": [
    {
     "name": "stdout",
     "output_type": "stream",
     "text": [
      "{\"name\": \"Felix Maina\", \"years\": 21, \"school\": \"Makerere\"}\n"
     ]
    }
   ],
   "source": [
    "import json\n",
    "# Data to be written\n",
    "details = {\n",
    "        \"name\": \"Felix Maina\",\n",
    "        \"years\": 21,\n",
    "        \"school\": \"Makerere\"\n",
    "}\n",
    "# Serializing JSON\n",
    "json_string = json.dumps( details )\n",
    "print( json_string )  "
   ]
  },
  {
   "cell_type": "code",
   "execution_count": null,
   "id": "4e445e70",
   "metadata": {},
   "outputs": [],
   "source": []
  },
  {
   "cell_type": "code",
   "execution_count": null,
   "id": "f6a54be8",
   "metadata": {},
   "outputs": [],
   "source": []
  }
 ],
 "metadata": {
  "kernelspec": {
   "display_name": "Python 3 (ipykernel)",
   "language": "python",
   "name": "python3"
  },
  "language_info": {
   "codemirror_mode": {
    "name": "ipython",
    "version": 3
   },
   "file_extension": ".py",
   "mimetype": "text/x-python",
   "name": "python",
   "nbconvert_exporter": "python",
   "pygments_lexer": "ipython3",
   "version": "3.9.15"
  }
 },
 "nbformat": 4,
 "nbformat_minor": 5
}
