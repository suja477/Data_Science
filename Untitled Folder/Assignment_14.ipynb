{
 "cells": [
  {
   "cell_type": "code",
   "execution_count": null,
   "id": "121506f1",
   "metadata": {},
   "outputs": [],
   "source": [
    "1. What does RGBA stand for?\n"
   ]
  },
  {
   "cell_type": "code",
   "execution_count": null,
   "id": "cbc7c5c4",
   "metadata": {},
   "outputs": [],
   "source": [
    "An RGBA color value is specified with: rgba(red, green, blue, alpha). \n",
    "    The alpha parameter is a number between 0.0 (fully transparent) and 1.0 (fully opaque)."
   ]
  },
  {
   "cell_type": "code",
   "execution_count": null,
   "id": "237e7536",
   "metadata": {},
   "outputs": [],
   "source": [
    "2. From the Pillow module, how do you get the RGBA value of any images?\n"
   ]
  },
  {
   "cell_type": "code",
   "execution_count": null,
   "id": "a88bc9a1",
   "metadata": {},
   "outputs": [],
   "source": [
    "\n",
    "\n",
    "Pillow offers the ImageColor.getcolor() function so you don’t have to memorize RGBA values for the colors you want to use. \n",
    "This function takes a color name string as its first argument,\n",
    "and the string 'RGBA' as its second argument, and it returns an RGBA tuple."
   ]
  },
  {
   "cell_type": "code",
   "execution_count": 6,
   "id": "09be2405",
   "metadata": {},
   "outputs": [
    {
     "name": "stdout",
     "output_type": "stream",
     "text": [
      "Requirement already satisfied: pillow in c:\\users\\suja4\\anaconda3\\lib\\site-packages (9.2.0)\n",
      "Note: you may need to restart the kernel to use updated packages.\n"
     ]
    }
   ],
   "source": [
    "pip install pillow"
   ]
  },
  {
   "cell_type": "code",
   "execution_count": 11,
   "id": "d9053411",
   "metadata": {},
   "outputs": [],
   "source": [
    "from PIL import ImageColor"
   ]
  },
  {
   "cell_type": "code",
   "execution_count": 13,
   "id": "666f16a0",
   "metadata": {},
   "outputs": [
    {
     "data": {
      "text/plain": [
       "(255, 0, 0, 255)"
      ]
     },
     "execution_count": 13,
     "metadata": {},
     "output_type": "execute_result"
    }
   ],
   "source": [
    "ImageColor.getcolor('Red','RGBA')"
   ]
  },
  {
   "cell_type": "raw",
   "id": "ab5249f1",
   "metadata": {},
   "source": [
    "3. What is a box tuple, and how does it work?\n",
    "Many of Pillow’s functions and methods take a box tuple argument.\n",
    "This means Pillow is expecting a tuple of four integer coordinates that represent a rectangular region in an image. \n",
    "The four integers are, in order, as follows:\n",
    "\n",
    "Left The x-coordinate of the leftmost edge of the box.\n",
    "\n",
    "Top The y-coordinate of the top edge of the box.\n",
    "\n",
    "Right The x-coordinate of one pixel to the right of the rightmost edge of the box.\n",
    "This integer must be greater than the left integer.\n",
    "\n",
    "Bottom The y-coordinate of one pixel lower than the bottom edge of the box.\n",
    "This integer must be greater than the top integer.\n",
    "\n",
    "the box includes the left and top coordinates and goes up to but does not include the right and bottom coordinates"
   ]
  },
  {
   "cell_type": "code",
   "execution_count": null,
   "id": "1a70ebb1",
   "metadata": {},
   "outputs": [],
   "source": [
    "4. Use your image and load in notebook then, How can you find out the width and height of an\n",
    "Image object?\n"
   ]
  },
  {
   "cell_type": "code",
   "execution_count": 15,
   "id": "3300e755",
   "metadata": {},
   "outputs": [],
   "source": [
    "from PIL import Image \n"
   ]
  },
  {
   "cell_type": "code",
   "execution_count": 19,
   "id": "29a9de14",
   "metadata": {},
   "outputs": [],
   "source": [
    "filepath =r\"C:\\Users\\Suja4\\Downloads\\budha.jfif\""
   ]
  },
  {
   "cell_type": "code",
   "execution_count": 20,
   "id": "1b9d104f",
   "metadata": {},
   "outputs": [
    {
     "name": "stdout",
     "output_type": "stream",
     "text": [
      "The height of the image is:  247\n",
      "The width of the image is:  204\n"
     ]
    }
   ],
   "source": [
    "img = Image.open(filepath)\n",
    "  \n",
    "# get width and height\n",
    "width = img.width\n",
    "height = img.height\n",
    "  \n",
    "# display width and height\n",
    "print(\"The height of the image is: \", height)\n",
    "print(\"The width of the image is: \", width)"
   ]
  },
  {
   "cell_type": "raw",
   "id": "48a01152",
   "metadata": {},
   "source": [
    "5. What method would you call to get Image object for a 100×100 image, excluding the lower-left\n",
    "quarter of it?\n"
   ]
  },
  {
   "cell_type": "code",
   "execution_count": 35,
   "id": "d9c80608",
   "metadata": {},
   "outputs": [],
   "source": [
    "filepath =r\"C:\\Users\\Suja4\\Downloads\\download.png\"\n",
    "img = Image.open(filepath)\n",
    "\n",
    "left = 25\n",
    "\n",
    "upper = 0\n",
    "\n",
    "right = 100\n",
    "\n",
    "lower = 75\n",
    "\n",
    "# Use the crop() method to extract the region\n",
    "#img.resize(100,100)\n",
    "img_cropped = img.crop((left, upper, right, lower))\n",
    "img_cropped.show()"
   ]
  },
  {
   "cell_type": "code",
   "execution_count": null,
   "id": "d149442b",
   "metadata": {},
   "outputs": [],
   "source": [
    "6. After making changes to an Image object, how could you save it as an image file?\n"
   ]
  },
  {
   "cell_type": "code",
   "execution_count": null,
   "id": "8a6d196e",
   "metadata": {},
   "outputs": [],
   "source": [
    "image.save('name.png')  function save it as image file"
   ]
  },
  {
   "cell_type": "raw",
   "id": "d2ed4176",
   "metadata": {},
   "source": [
    "7. What module contains Pillow’s shape-drawing code?\n",
    "The ‘ImageDraw’ module provides simple 2D graphics support for Image Object. Generally, we use this module to create new images,\n",
    "annotate or retouch existing images and to generate graphics on the fly for web use."
   ]
  },
  {
   "cell_type": "code",
   "execution_count": null,
   "id": "1df992dd",
   "metadata": {},
   "outputs": [],
   "source": []
  },
  {
   "cell_type": "code",
   "execution_count": null,
   "id": "f4b7b823",
   "metadata": {},
   "outputs": [],
   "source": [
    "8. Image objects do not have drawing methods. What kind of object does? How do you get this kind\n",
    "of object?"
   ]
  },
  {
   "cell_type": "code",
   "execution_count": null,
   "id": "c192f2e6",
   "metadata": {},
   "outputs": [],
   "source": [
    "ImageDraw object have drawing methods \n",
    "calling ImageDraw.Draw(image) creates ImageDraw object "
   ]
  },
  {
   "cell_type": "code",
   "execution_count": null,
   "id": "fd8ca04d",
   "metadata": {},
   "outputs": [],
   "source": []
  }
 ],
 "metadata": {
  "kernelspec": {
   "display_name": "Python 3 (ipykernel)",
   "language": "python",
   "name": "python3"
  },
  "language_info": {
   "codemirror_mode": {
    "name": "ipython",
    "version": 3
   },
   "file_extension": ".py",
   "mimetype": "text/x-python",
   "name": "python",
   "nbconvert_exporter": "python",
   "pygments_lexer": "ipython3",
   "version": "3.9.15"
  }
 },
 "nbformat": 4,
 "nbformat_minor": 5
}
