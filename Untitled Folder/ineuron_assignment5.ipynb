{
 "cells": [
  {
   "cell_type": "raw",
   "id": "55d54337",
   "metadata": {},
   "source": [
    "1. What does an empty dictionary's code look like?\n",
    "{}"
   ]
  },
  {
   "cell_type": "raw",
   "id": "eb43a31c",
   "metadata": {},
   "source": [
    "2. What is the value of a dictionary value with the key 'foo' and the value 42?\n",
    "{'foo':42}"
   ]
  },
  {
   "cell_type": "raw",
   "id": "95eb0a3a",
   "metadata": {},
   "source": [
    "3. What is the most significant distinction between a dictionary and a list?\n",
    "dictionary has key value pair\n",
    "list has only values\n",
    "indexes in dictionary uses different data types ,they are called called keys\n",
    "whereas list uses only integers"
   ]
  },
  {
   "cell_type": "raw",
   "id": "9b838c96",
   "metadata": {},
   "source": [
    "4. What happens if you try to access spam['foo'] if spam is {'bar': 100}?\n",
    "keyerror"
   ]
  },
  {
   "cell_type": "raw",
   "id": "e7b4cbec",
   "metadata": {},
   "source": [
    "5. If a dictionary is stored in spam, what is the difference between the expressions 'cat' in spam and 'cat' in spam.keys()?\n",
    "both are same\n",
    "'cat' in spam checks for key 'cat'\n",
    "'cat' in spam.keys() checks for keys 'cat' in dictionary"
   ]
  },
  {
   "cell_type": "raw",
   "id": "4bd30651",
   "metadata": {},
   "source": [
    "6. If a dictionary is stored in spam, what is the difference between the expressions 'cat' in spam and 'cat' in spam.values()?\n",
    "'cat' in spam checks for key 'cat'\n",
    "'cat' in spam.values() checks for value 'cat' in dictionary"
   ]
  },
  {
   "cell_type": "raw",
   "id": "b3dd471f",
   "metadata": {},
   "source": [
    "7. What is a shortcut for the following code?\n",
    "if 'color' not in spam:\n",
    "    spam['color'] = 'black'\n",
    "\n",
    "spam.setdefault('color','black')"
   ]
  },
  {
   "cell_type": "raw",
   "id": "8375562c",
   "metadata": {},
   "source": [
    "8. How do you \"pretty print\" dictionary values using which module and function?\n",
    "pprint.pprint()"
   ]
  }
 ],
 "metadata": {
  "kernelspec": {
   "display_name": "Python 3 (ipykernel)",
   "language": "python",
   "name": "python3"
  },
  "language_info": {
   "codemirror_mode": {
    "name": "ipython",
    "version": 3
   },
   "file_extension": ".py",
   "mimetype": "text/x-python",
   "name": "python",
   "nbconvert_exporter": "python",
   "pygments_lexer": "ipython3",
   "version": "3.9.12"
  }
 },
 "nbformat": 4,
 "nbformat_minor": 5
}
