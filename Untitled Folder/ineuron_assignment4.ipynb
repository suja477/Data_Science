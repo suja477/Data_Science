{
 "cells": [
  {
   "cell_type": "raw",
   "id": "6e536e4a",
   "metadata": {},
   "source": [
    "1. What exactly is []?\n",
    "This is list and list is used to store multiple values\n"
   ]
  },
  {
   "cell_type": "raw",
   "id": "3df43fbf",
   "metadata": {},
   "source": [
    "2. In a list of values stored in a variable called spam, how would you assign the value 'hello' as the third value?\n",
    "(Assume [2, 4, 6, 8, 10] are in spam.)\n",
    "\n"
   ]
  },
  {
   "cell_type": "raw",
   "id": "b5adcef4",
   "metadata": {},
   "source": [
    "spam=[2, 4, 6, 8, 10]\n",
    "spam[2]='hello'\n",
    "spam"
   ]
  },
  {
   "cell_type": "raw",
   "id": "7c8ffbd9",
   "metadata": {},
   "source": [
    "Let's pretend the spam includes the list ['a', 'b', 'c', 'd'] for the next three queries.\n",
    "3. What is the value of spam[int(int('3' * 2) / 11)]?\n"
   ]
  },
  {
   "cell_type": "raw",
   "id": "1c7cb7fd",
   "metadata": {},
   "source": [
    "d"
   ]
  },
  {
   "cell_type": "raw",
   "id": "46e7e48c",
   "metadata": {},
   "source": [
    "4. What is the value of spam[-1]?\n",
    "d"
   ]
  },
  {
   "cell_type": "raw",
   "id": "8fa4a5a0",
   "metadata": {},
   "source": [
    "5. What is the value of spam[:2]?\n",
    "['a','b']\n"
   ]
  },
  {
   "cell_type": "raw",
   "id": "a70a9321",
   "metadata": {},
   "source": [
    "Let's pretend bacon has the list [3.14, 'cat,' 11, 'cat,' True] for the next three questions.\n",
    "6. What is the value of bacon.index('cat')?\n",
    "1"
   ]
  },
  {
   "cell_type": "raw",
   "id": "dc480261",
   "metadata": {},
   "source": [
    "7. How does bacon.append(99) change the look of the list value in bacon?\n",
    "[3.14, 'cat', 11, 'cat', True,99]"
   ]
  },
  {
   "cell_type": "raw",
   "id": "8a403d6c",
   "metadata": {},
   "source": [
    "8. How does bacon.remove('cat') change the look of the list in bacon?\n",
    "[3.14, 11, 'cat', True,99] --removed first 'cat'"
   ]
  },
  {
   "cell_type": "raw",
   "id": "b0dfa18a",
   "metadata": {},
   "source": [
    "9. What are the list concatenation and list replication operators?\n",
    "+ indicates concatenation and * is used for replication"
   ]
  },
  {
   "cell_type": "raw",
   "id": "4a75d496",
   "metadata": {},
   "source": [
    "10. What is difference between the list methods append() and insert()?\n",
    "append will add at the end \n",
    "insert can add at any location"
   ]
  },
  {
   "cell_type": "raw",
   "id": "f5e78c57",
   "metadata": {},
   "source": [
    "11. What are the two methods for removing items from a list?\n",
    "remove will remove specified item,pop will remove item from index or last item if no index given"
   ]
  },
  {
   "cell_type": "raw",
   "id": "2502f23e",
   "metadata": {},
   "source": [
    "12. Describe how list values and string values are identical.\n",
    "list is a collection of data\n",
    "string is a collection of character\n",
    "list is mutable \n",
    "string is immutable "
   ]
  },
  {
   "cell_type": "raw",
   "id": "5f7569b5",
   "metadata": {},
   "source": [
    "13. What's the difference between tuples and lists?\n",
    "list is mutable \n",
    "tuple is immutable "
   ]
  },
  {
   "cell_type": "raw",
   "id": "1539237c",
   "metadata": {},
   "source": [
    "14. How do you type a tuple value that only contains the integer 42?\n",
    "(42)"
   ]
  },
  {
   "cell_type": "raw",
   "id": "f8409d0f",
   "metadata": {},
   "source": [
    "15. How do you get a list value's tuple form? How do you get a tuple value's list form?\n",
    "typecast list to tuple\n",
    "typecast tuple to list"
   ]
  },
  {
   "cell_type": "raw",
   "id": "7da24eb2",
   "metadata": {},
   "source": [
    "16. Variables that \"contain\" list values are not necessarily lists themselves. Instead, what do they contain?\n",
    "they contain refernce to the list"
   ]
  },
  {
   "cell_type": "raw",
   "id": "38ac179e",
   "metadata": {},
   "source": [
    "17. How do you distinguish between copy.copy() and copy.deepcopy()?\n",
    "copy.copy makes a shallow copy pf list\n",
    "copy.deepcopy makes copy of even nested list inside,recursively"
   ]
  }
 ],
 "metadata": {
  "kernelspec": {
   "display_name": "Python 3 (ipykernel)",
   "language": "python",
   "name": "python3"
  },
  "language_info": {
   "codemirror_mode": {
    "name": "ipython",
    "version": 3
   },
   "file_extension": ".py",
   "mimetype": "text/x-python",
   "name": "python",
   "nbconvert_exporter": "python",
   "pygments_lexer": "ipython3",
   "version": "3.9.12"
  }
 },
 "nbformat": 4,
 "nbformat_minor": 5
}
