{
 "cells": [
  {
   "cell_type": "raw",
   "id": "53c6955a",
   "metadata": {},
   "source": [
    "1. Why are functions advantageous to have in your programs?\n",
    "2. When does the code in a function run: when it's specified or when it's called?\n",
    "3. What statement creates a function?\n",
    "4. What is the difference between a function and a function call?\n",
    "5. How many global scopes are there in a Python program? How many local scopes?\n",
    "6. What happens to variables in a local scope when the function call returns?\n",
    "7. What is the concept of a return value? Is it possible to have a return value in an expression?\n",
    "8. If a function does not have a return statement, what is the return value of a call to that function?\n",
    "9. How do you make a function variable refer to the global variable?\n",
    "10. What is the data type of None?\n",
    "11. What does the sentence import areallyourpetsnamederic do?\n",
    "12. If you had a bacon() feature in a spam module, what would you call it after importing spam?\n",
    "13. What can you do to save a programme from crashing if it encounters an error?\n",
    "14. What is the purpose of the try clause? What is the purpose of the except clause?\n"
   ]
  },
  {
   "cell_type": "raw",
   "id": "0b7ee4e2",
   "metadata": {},
   "source": [
    "1. Why are functions advantageous to have in your programs?\n",
    "a.It will help in saving time by reducing number of lines of code to write\n",
    "b.make program easy to understand \n",
    "c.reuse of code "
   ]
  },
  {
   "cell_type": "raw",
   "id": "6f76113a",
   "metadata": {},
   "source": [
    "2. When does the code in a function run: when it's specified or when it's called?\n",
    "    when its called"
   ]
  },
  {
   "cell_type": "raw",
   "id": "5263b730",
   "metadata": {},
   "source": [
    "3. What statement creates a function?\n",
    "def"
   ]
  },
  {
   "cell_type": "raw",
   "id": "3152ae83",
   "metadata": {},
   "source": [
    "4. What is the difference between a function and a function call?\n",
    "function is a group of code written to perform a task\n",
    "function call is used to execute the function"
   ]
  },
  {
   "cell_type": "raw",
   "id": "388805ae",
   "metadata": {},
   "source": [
    "5. How many global scopes are there in a Python program? How many local scopes?\n",
    "1 global scope\n",
    "1 local scope"
   ]
  },
  {
   "cell_type": "raw",
   "id": "f61648b3",
   "metadata": {},
   "source": [
    "6. What happens to variables in a local scope when the function call returns?\n",
    "local variables are destroyed"
   ]
  },
  {
   "cell_type": "raw",
   "id": "d42d0b08",
   "metadata": {},
   "source": [
    "7. What is the concept of a return value? Is it possible to have a return value in an expression?\n",
    "value returned by a function .\n",
    "yes ,it is possible to have a return value in epression"
   ]
  },
  {
   "cell_type": "raw",
   "id": "3d1341c1",
   "metadata": {},
   "source": [
    "8. If a function does not have a return statement, what is the return value of a call to that function?\n",
    "void"
   ]
  },
  {
   "cell_type": "raw",
   "id": "48e2ad62",
   "metadata": {},
   "source": [
    "9. How do you make a function variable refer to the global variable?\n",
    "use global keyword"
   ]
  },
  {
   "cell_type": "raw",
   "id": "6e7f3573",
   "metadata": {},
   "source": [
    "10. What is the data type of None?\n",
    "NoneType"
   ]
  },
  {
   "cell_type": "raw",
   "id": "72042156",
   "metadata": {},
   "source": [
    "11. What does the sentence import areallyourpetsnamederic do?\n",
    "it imports all the functions in that module"
   ]
  },
  {
   "cell_type": "raw",
   "id": "1dcd03c8",
   "metadata": {},
   "source": [
    "12. If you had a bacon() feature in a spam module, what would you call it after importing spam?\n",
    "spam.bacon()"
   ]
  },
  {
   "cell_type": "raw",
   "id": "f83f5411",
   "metadata": {},
   "source": [
    "13. What can you do to save a programme from crashing if it encounters an error?\n",
    "we can use a exception handling "
   ]
  },
  {
   "cell_type": "raw",
   "id": "5cdfd247",
   "metadata": {},
   "source": [
    "14. What is the purpose of the try clause? What is the purpose of the except clause?\n",
    "try clause is used to execute a code which may throw some exception\n",
    "this code is executed if there is any exception thrown \n"
   ]
  },
  {
   "cell_type": "code",
   "execution_count": null,
   "id": "5cf512a4",
   "metadata": {},
   "outputs": [],
   "source": []
  }
 ],
 "metadata": {
  "kernelspec": {
   "display_name": "Python 3 (ipykernel)",
   "language": "python",
   "name": "python3"
  },
  "language_info": {
   "codemirror_mode": {
    "name": "ipython",
    "version": 3
   },
   "file_extension": ".py",
   "mimetype": "text/x-python",
   "name": "python",
   "nbconvert_exporter": "python",
   "pygments_lexer": "ipython3",
   "version": "3.9.12"
  }
 },
 "nbformat": 4,
 "nbformat_minor": 5
}
