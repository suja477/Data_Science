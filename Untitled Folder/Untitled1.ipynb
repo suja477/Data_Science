{
 "cells": [
  {
   "cell_type": "code",
   "execution_count": null,
   "id": "308be360",
   "metadata": {},
   "outputs": [],
   "source": [
    "Write a Python Program to Display Fibonacci Sequence Using Recursion?\n",
    "Write a Python Program to Find Factorial of Number Using Recursion?\n",
    "Write a Python Program to calculate your Body Mass Index?\n",
    "Write a Python Program to calculate the natural logarithm of any number?\n",
    "Write a Python Program for cube sum of first n natural numbers?\n"
   ]
  }
 ],
 "metadata": {
  "kernelspec": {
   "display_name": "Python 3 (ipykernel)",
   "language": "python",
   "name": "python3"
  },
  "language_info": {
   "codemirror_mode": {
    "name": "ipython",
    "version": 3
   },
   "file_extension": ".py",
   "mimetype": "text/x-python",
   "name": "python",
   "nbconvert_exporter": "python",
   "pygments_lexer": "ipython3",
   "version": "3.9.15"
  }
 },
 "nbformat": 4,
 "nbformat_minor": 5
}
