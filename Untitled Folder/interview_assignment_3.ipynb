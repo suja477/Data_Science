{
 "cells": [
  {
   "cell_type": "code",
   "execution_count": null,
   "id": "fa545af7",
   "metadata": {},
   "outputs": [],
   "source": [
    "Write a program, which would download the data from the provided link, and then read the data and convert\n",
    "that into properly structured data and return it in Excel format."
   ]
  },
  {
   "cell_type": "code",
   "execution_count": 4,
   "id": "e48e12d1",
   "metadata": {},
   "outputs": [
    {
     "name": "stdout",
     "output_type": "stream",
     "text": [
      "Note: you may need to restart the kernel to use updated packages.\n"
     ]
    },
    {
     "name": "stderr",
     "output_type": "stream",
     "text": [
      "ERROR: Could not find a version that satisfies the requirement urllib2 (from versions: none)\n",
      "ERROR: No matching distribution found for urllib2\n"
     ]
    }
   ],
   "source": [
    "pip install urllib2"
   ]
  },
  {
   "cell_type": "code",
   "execution_count": 43,
   "id": "5375f5fe",
   "metadata": {},
   "outputs": [
    {
     "name": "stdout",
     "output_type": "stream",
     "text": [
      "JSON file downloaded successfully and saved as data_3.json.\n",
      "JSON data converted and saved as data3.csv.\n",
      "JSON data converted and saved as output_3\n"
     ]
    }
   ],
   "source": [
    "import csv\n",
    "import requests\n",
    "import json\n",
    "def download_json(url, save_path):\n",
    "    response = requests.get(url)\n",
    "    if response.status_code == 200:\n",
    "        with open(save_path, 'wb') as file:\n",
    "            file.write(response.content)\n",
    "            \n",
    "            print(f\"JSON file downloaded successfully and saved as {save_path}.\")\n",
    "            return file\n",
    "    else:\n",
    "        print(\"Failed to download JSON file.\")\n",
    "        \n",
    "def convert_json_to_csv(json_data, csv_filename):\n",
    "    # Extract the keys from the first JSON object to use as CSV headers\n",
    "    headers = list(json_data[0].keys())\n",
    "    #print(json_data[0].keys())\n",
    "    \n",
    "    with open(csv_filename, 'w', newline='',encoding=\"utf-8\") as file:\n",
    "        writer = csv.DictWriter(file, fieldnames=headers,extrasaction='ignore')\n",
    "        writer.writeheader()\n",
    "        writer.writerows(json_data)\n",
    "\n",
    "    print(f\"JSON data converted and saved as {csv_filename}.\")\n",
    "\n",
    "from pathlib import Path\n",
    "\n",
    "save_path='data_3.json'\n",
    "url = \"https://raw.githubusercontent.com/Biuni/PokemonGO-Pokedex/master/pokedex.json\" \n",
    "\n",
    "\n",
    "try:\n",
    "    # Download data\n",
    "    file = download_json(url,save_path)\n",
    "   # file = str(data.encode('utf-8'))\n",
    "\n",
    "    # Process data\n",
    "    with open('data_3.json', 'r',encoding='utf-8') as file:\n",
    "        json_data = json.load(file)\n",
    "        #print(json_data)\n",
    "        #json.dump(json_data['pokemon'],file)\n",
    "  \n",
    "\n",
    "    csv_filename = \"data3.csv\"  \n",
    "   \n",
    "\n",
    "     # Convert JSON to CSV\n",
    "    \n",
    "    convert_json_to_csv(json_data['pokemon'], csv_filename)\n",
    "    import pandas as pd\n",
    "\n",
    "    # Reading the csv file content \n",
    "    csv_df = pd.read_csv(\"data3.csv\")\n",
    "\n",
    "    # send excel file back \n",
    "    csv_df.to_excel(\"output_3.xlsx\", index=False)\n",
    "    print(f\"JSON data converted and saved as output_3\")\n",
    "\n",
    "except Exception as e:\n",
    "    print(f\"An error occurred: {str(e)}\")"
   ]
  },
  {
   "cell_type": "code",
   "execution_count": null,
   "id": "3a51ac83",
   "metadata": {},
   "outputs": [],
   "source": []
  }
 ],
 "metadata": {
  "kernelspec": {
   "display_name": "Python 3 (ipykernel)",
   "language": "python",
   "name": "python3"
  },
  "language_info": {
   "codemirror_mode": {
    "name": "ipython",
    "version": 3
   },
   "file_extension": ".py",
   "mimetype": "text/x-python",
   "name": "python",
   "nbconvert_exporter": "python",
   "pygments_lexer": "ipython3",
   "version": "3.9.15"
  }
 },
 "nbformat": 4,
 "nbformat_minor": 5
}
