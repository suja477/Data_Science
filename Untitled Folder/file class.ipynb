{
 "cells": [
  {
   "cell_type": "code",
   "execution_count": 1,
   "id": "a7313f02",
   "metadata": {},
   "outputs": [],
   "source": [
    "import logging \n",
    "\n",
    "import doc\n",
    "\n"
   ]
  },
  {
   "cell_type": "code",
   "execution_count": 16,
   "id": "9550b692",
   "metadata": {},
   "outputs": [
    {
     "ename": "TypeError",
     "evalue": "basicConfig() takes 0 positional arguments but 1 was given",
     "output_type": "error",
     "traceback": [
      "\u001b[1;31m---------------------------------------------------------------------------\u001b[0m",
      "\u001b[1;31mTypeError\u001b[0m                                 Traceback (most recent call last)",
      "Cell \u001b[1;32mIn [16], line 1\u001b[0m\n\u001b[1;32m----> 1\u001b[0m \u001b[43mlogging\u001b[49m\u001b[38;5;241;43m.\u001b[39;49m\u001b[43mbasicConfig\u001b[49m\u001b[43m(\u001b[49m\u001b[43mlogging\u001b[49m\u001b[38;5;241;43m.\u001b[39;49m\u001b[43mDEBUG\u001b[49m\u001b[43m)\u001b[49m\n",
      "\u001b[1;31mTypeError\u001b[0m: basicConfig() takes 0 positional arguments but 1 was given"
     ]
    }
   ],
   "source": [
    "logging.basicConfig(logging.DEBUG)"
   ]
  },
  {
   "cell_type": "code",
   "execution_count": 17,
   "id": "b8b09559",
   "metadata": {},
   "outputs": [],
   "source": [
    "class fileClass:\n",
    "    \n",
    "    logging.debug(\"inside class\")\n",
    "    \n",
    "    def __init__(self,url):\n",
    "           self.url=url\n",
    "       \n",
    "    def read(url):\n",
    "        \n",
    "        try:\n",
    "            with open(\"text.txt\",'r')as file :\n",
    "                data =file.read()\n",
    "        except FileNotFoundError as e:\n",
    "                logging.debug(e)\n",
    "                print(e)\n",
    "    \n",
    "        \n",
    "    def write(url):\n",
    "        \n",
    "        try:\n",
    "            with open(\"text.txt\",'w')as file :\n",
    "                data =file.write()\n",
    "        except FileNotFoundError as e:\n",
    "                logging.debug(e)\n",
    "    "
   ]
  },
  {
   "cell_type": "code",
   "execution_count": 18,
   "id": "f0126cab",
   "metadata": {},
   "outputs": [],
   "source": [
    "file= fileClass(\"text.txt\")"
   ]
  },
  {
   "cell_type": "code",
   "execution_count": 19,
   "id": "303cc763",
   "metadata": {},
   "outputs": [
    {
     "name": "stdout",
     "output_type": "stream",
     "text": [
      "[Errno 2] No such file or directory: 'text.txt'\n"
     ]
    }
   ],
   "source": [
    "file.read()"
   ]
  },
  {
   "cell_type": "code",
   "execution_count": null,
   "id": "8fa5c5a3",
   "metadata": {},
   "outputs": [],
   "source": []
  }
 ],
 "metadata": {
  "kernelspec": {
   "display_name": "Python 3 (ipykernel)",
   "language": "python",
   "name": "python3"
  },
  "language_info": {
   "codemirror_mode": {
    "name": "ipython",
    "version": 3
   },
   "file_extension": ".py",
   "mimetype": "text/x-python",
   "name": "python",
   "nbconvert_exporter": "python",
   "pygments_lexer": "ipython3",
   "version": "3.9.15"
  }
 },
 "nbformat": 4,
 "nbformat_minor": 5
}
