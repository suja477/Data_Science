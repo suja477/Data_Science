{
 "cells": [
  {
   "cell_type": "code",
   "execution_count": null,
   "id": "09fdd023",
   "metadata": {},
   "outputs": [],
   "source": [
    "1. Write a Python program to print \"Hello Python\"?\n",
    "\n"
   ]
  },
  {
   "cell_type": "code",
   "execution_count": 2,
   "id": "f18044dd",
   "metadata": {},
   "outputs": [
    {
     "name": "stdout",
     "output_type": "stream",
     "text": [
      "Hello Python\n"
     ]
    }
   ],
   "source": [
    "print(\"Hello Python\")"
   ]
  },
  {
   "cell_type": "raw",
   "id": "722f2c79",
   "metadata": {},
   "source": [
    "2. Write a Python program to do arithmetical operations addition and division.?\n"
   ]
  },
  {
   "cell_type": "code",
   "execution_count": 9,
   "id": "d46a3203",
   "metadata": {},
   "outputs": [
    {
     "name": "stdout",
     "output_type": "stream",
     "text": [
      "Enter 1 for add,2 for divison3\n",
      "Enter first number4\n",
      "Enter second number6\n",
      "wrong input\n"
     ]
    }
   ],
   "source": [
    "x=input(\"Enter 1 for add,2 for divison\")\n",
    "y=input(\"Enter first number\")\n",
    "z=input(\"Enter second number\")\n",
    "if(x=='1'):\n",
    "    print(int(y)+int(z))\n",
    "elif(x=='2'):\n",
    "    print(int(y)/int(z))\n",
    "else:\n",
    "    print(\"wrong input\")"
   ]
  },
  {
   "cell_type": "raw",
   "id": "3051a68c",
   "metadata": {},
   "source": [
    "3. Write a Python program to find the area of a triangle?\n"
   ]
  },
  {
   "cell_type": "code",
   "execution_count": 11,
   "id": "5c1eed32",
   "metadata": {},
   "outputs": [
    {
     "name": "stdout",
     "output_type": "stream",
     "text": [
      "Enter base of triangle34\n",
      "Enter height of triangle5\n",
      "Area is 85.0\n"
     ]
    }
   ],
   "source": [
    "x=input(\"Enter base of triangle\")\n",
    "y=input(\"Enter height of triangle\")\n",
    "print(\"Area is \"+ str(float(x)*float(y)/2))"
   ]
  },
  {
   "cell_type": "code",
   "execution_count": null,
   "id": "6936aab7",
   "metadata": {},
   "outputs": [],
   "source": [
    "4. Write a Python program to swap two variables?\n"
   ]
  },
  {
   "cell_type": "code",
   "execution_count": 14,
   "id": "53b79a8a",
   "metadata": {},
   "outputs": [
    {
     "name": "stdout",
     "output_type": "stream",
     "text": [
      "Enter first number2\n",
      "Enter second number4\n",
      "first number:4\n",
      "second number:2\n"
     ]
    }
   ],
   "source": [
    "x=input(\"Enter first number\")\n",
    "y=input(\"Enter second number\")\n",
    "z=x\n",
    "x=y\n",
    "y=z\n",
    "print(\"first number:\"+x)\n",
    "print(\"second number:\"+y)"
   ]
  },
  {
   "cell_type": "code",
   "execution_count": null,
   "id": "3ae761a6",
   "metadata": {},
   "outputs": [],
   "source": [
    "5. Write a Python program to generate a random number?"
   ]
  },
  {
   "cell_type": "code",
   "execution_count": 18,
   "id": "106a90d7",
   "metadata": {},
   "outputs": [
    {
     "name": "stdout",
     "output_type": "stream",
     "text": [
      "0.5836250275327239\n"
     ]
    }
   ],
   "source": [
    "import random\n",
    "print(random.random())"
   ]
  },
  {
   "cell_type": "code",
   "execution_count": null,
   "id": "28a9aa48",
   "metadata": {},
   "outputs": [],
   "source": []
  }
 ],
 "metadata": {
  "kernelspec": {
   "display_name": "Python 3 (ipykernel)",
   "language": "python",
   "name": "python3"
  },
  "language_info": {
   "codemirror_mode": {
    "name": "ipython",
    "version": 3
   },
   "file_extension": ".py",
   "mimetype": "text/x-python",
   "name": "python",
   "nbconvert_exporter": "python",
   "pygments_lexer": "ipython3",
   "version": "3.9.15"
  }
 },
 "nbformat": 4,
 "nbformat_minor": 5
}
