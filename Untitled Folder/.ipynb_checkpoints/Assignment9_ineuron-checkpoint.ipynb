{
 "cells": [
  {
   "cell_type": "raw",
   "id": "bada77fa",
   "metadata": {},
   "source": [
    "1. To what does a relative path refer?\n",
    "Relative paths are relative to the current working directory"
   ]
  },
  {
   "cell_type": "raw",
   "id": "3f72dbc5",
   "metadata": {},
   "source": [
    "2. What does an absolute path start with your operating system?\n",
    "Absolute paths start with the root folder, such as / or C:\\."
   ]
  },
  {
   "cell_type": "raw",
   "id": "7c154e4f",
   "metadata": {},
   "source": [
    "3. What do the functions os.getcwd() and os.chdir() do?\n",
    " The os.getcwd() function returns the current working directory. The os.chdir() function changes the current working directory"
   ]
  },
  {
   "cell_type": "raw",
   "id": "3d62d9cb",
   "metadata": {},
   "source": [
    "4. What are the . and .. folders?\n",
    " The . folder is the current folder, and .. is the parent folder"
   ]
  },
  {
   "cell_type": "raw",
   "id": "2ee3bf91",
   "metadata": {},
   "source": [
    "5. In C:\\bacon\\eggs\\spam.txt, which part is the dir name, and which part is the base name?\n",
    "C:\\bacon\\eggs is the dir name, while spam.txt is the base name."
   ]
  },
  {
   "cell_type": "raw",
   "id": "f921790f",
   "metadata": {},
   "source": [
    "6. What are the three “mode” arguments that can be passed to the open() function?\n",
    "The string 'r' for read mode, 'w' for write mode, and 'a' for append mode\n",
    "\n"
   ]
  },
  {
   "cell_type": "raw",
   "id": "250e9b70",
   "metadata": {},
   "source": [
    "7. What happens if an existing file is opened in write mode?\n",
    "An existing file opened in write mode is erased and completely overwritten"
   ]
  },
  {
   "cell_type": "raw",
   "id": "20e0cead",
   "metadata": {},
   "source": [
    "8. How do you tell the difference between read() and readlines()?\n",
    "The read() method returns the file’s entire contents as a single string value. The readlines() method returns a list of strings, where each string is a line from the file’s contents."
   ]
  },
  {
   "cell_type": "raw",
   "id": "19810af2",
   "metadata": {},
   "source": [
    "9. What data structure does a shelf value resemble?\n",
    "A shelf value resembles a dictionary value; it has keys and values, along with keys() and values() methods that work similarly to the dictionary methods of the same names\n",
    "\n",
    "\n"
   ]
  }
 ],
 "metadata": {
  "kernelspec": {
   "display_name": "Python 3 (ipykernel)",
   "language": "python",
   "name": "python3"
  },
  "language_info": {
   "codemirror_mode": {
    "name": "ipython",
    "version": 3
   },
   "file_extension": ".py",
   "mimetype": "text/x-python",
   "name": "python",
   "nbconvert_exporter": "python",
   "pygments_lexer": "ipython3",
   "version": "3.9.15"
  }
 },
 "nbformat": 4,
 "nbformat_minor": 5
}
