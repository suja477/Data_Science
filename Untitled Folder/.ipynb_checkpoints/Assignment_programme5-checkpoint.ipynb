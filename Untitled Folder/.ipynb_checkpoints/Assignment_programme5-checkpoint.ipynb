{
 "cells": [
  {
   "cell_type": "code",
   "execution_count": null,
   "id": "ff7a8f51",
   "metadata": {},
   "outputs": [],
   "source": [
    "Write a Python Program to Find LCM?\n"
   ]
  },
  {
   "cell_type": "code",
   "execution_count": 45,
   "id": "7a9357fc",
   "metadata": {},
   "outputs": [],
   "source": [
    "def lcm(a,b):\n",
    "    \n",
    "    num1 = a\n",
    "    num2 = b\n",
    "    for i in range(max(num1, num2), 1 + (num1 * num2), max(num1, num2)):\n",
    "        if i % num1 == i % num2 == 0:\n",
    "            lcm = i\n",
    "            break\n",
    "\n",
    "    print(\"LCM of\", num1, \"and\", num2, \"is\", lcm)\n",
    "    return        \n",
    "    \n"
   ]
  },
  {
   "cell_type": "code",
   "execution_count": 46,
   "id": "b3f98039",
   "metadata": {},
   "outputs": [
    {
     "name": "stdout",
     "output_type": "stream",
     "text": [
      "LCM of 3 and 4 is 12\n"
     ]
    }
   ],
   "source": [
    "lcm(3,4)"
   ]
  },
  {
   "cell_type": "code",
   "execution_count": 6,
   "id": "005f0e39",
   "metadata": {},
   "outputs": [
    {
     "name": "stdout",
     "output_type": "stream",
     "text": [
      "Object `HCF` not found.\n"
     ]
    }
   ],
   "source": [
    "Write a Python Program to Find HCF?\n"
   ]
  },
  {
   "cell_type": "code",
   "execution_count": 47,
   "id": "21acd426",
   "metadata": {},
   "outputs": [
    {
     "name": "stdout",
     "output_type": "stream",
     "text": [
      "Enter the first number: 3\n",
      "Enter the second number: 6\n",
      "First Number is:  3\n",
      "Second Number is:  6\n",
      "HCF of the numbers is:  3\n"
     ]
    }
   ],
   "source": [
    "a = int(input(\"Enter the first number: \"))\n",
    "b = int(input(\"Enter the second number: \"))\n",
    "\n",
    "HCF = 1\n",
    "\n",
    "for i in range(2,a+1):\n",
    "    if(a%i==0 and b%i==0):\n",
    "        HCF = i\n",
    "\n",
    "print(\"HCF of the numbers is: \",HCF)"
   ]
  },
  {
   "cell_type": "code",
   "execution_count": null,
   "id": "273cd84e",
   "metadata": {},
   "outputs": [],
   "source": [
    "Write a Python Program to Convert Decimal to Binary, Octal and Hexadecimal?\n"
   ]
  },
  {
   "cell_type": "code",
   "execution_count": 48,
   "id": "081b4321",
   "metadata": {},
   "outputs": [
    {
     "name": "stdout",
     "output_type": "stream",
     "text": [
      "Enter an integer: 4\n",
      "The decimal value of 4 is:\n",
      "0b100 in binary.\n",
      "0o4 in octal.\n",
      "0x4 in hexadecimal.\n"
     ]
    }
   ],
   "source": [
    "dec = int(input(\"Enter an integer: \"))\n",
    "print(\"The decimal value of\",dec,\"is:\")\n",
    "print(bin(dec),\"in binary.\")\n",
    "print(oct(dec),\"in octal.\")\n",
    "print(hex(dec),\"in hexadecimal.\")"
   ]
  },
  {
   "cell_type": "code",
   "execution_count": null,
   "id": "b71e4f80",
   "metadata": {},
   "outputs": [],
   "source": [
    "Write a Python Program To Find ASCII value of a character?\n"
   ]
  },
  {
   "cell_type": "code",
   "execution_count": 54,
   "id": "6e95f3b5",
   "metadata": {},
   "outputs": [
    {
     "name": "stdout",
     "output_type": "stream",
     "text": [
      "Enter an char: y\n",
      "The decimal value of y is:\n",
      "121 in ASCII.\n"
     ]
    }
   ],
   "source": [
    "dec = (input(\"Enter an char: \"))\n",
    "print(\"The decimal value of\",dec,\"is:\")\n",
    "print(ord(dec),\"in ASCII.\")"
   ]
  },
  {
   "cell_type": "code",
   "execution_count": null,
   "id": "6a2a5cce",
   "metadata": {},
   "outputs": [],
   "source": [
    "Write a Python Program to Make a Simple Calculator with 4 basic mathematical operations?\n"
   ]
  },
  {
   "cell_type": "code",
   "execution_count": 55,
   "id": "47c35a2c",
   "metadata": {},
   "outputs": [
    {
     "name": "stdout",
     "output_type": "stream",
     "text": [
      "Please select the operation.\n",
      "a. Add\n",
      "b. Subtract\n",
      "c. Multiply\n",
      "d. Divide\n",
      "Please enter choice (a/ b/ c/ d): a\n",
      "Please enter the first number: 3\n",
      "Please enter the second number: 4\n",
      "3  +  4  =  7\n"
     ]
    }
   ],
   "source": [
    "def add(P, Q):    \n",
    "   # This function is used for adding two numbers   \n",
    "   return P + Q   \n",
    "def subtract(P, Q):   \n",
    "   # This function is used for subtracting two numbers   \n",
    "   return P - Q   \n",
    "def multiply(P, Q):   \n",
    "   # This function is used for multiplying two numbers   \n",
    "   return P * Q   \n",
    "def divide(P, Q):   \n",
    "   # This function is used for dividing two numbers    \n",
    "   return P / Q    \n",
    "# Now we will take inputs from the user    \n",
    "print (\"Please select the operation.\")    \n",
    "print (\"a. Add\")    \n",
    "print (\"b. Subtract\")    \n",
    "print (\"c. Multiply\")    \n",
    "print (\"d. Divide\")    \n",
    "    \n",
    "choice = input(\"Please enter choice (a/ b/ c/ d): \")    \n",
    "    \n",
    "num_1 = int (input (\"Please enter the first number: \"))    \n",
    "num_2 = int (input (\"Please enter the second number: \"))    \n",
    "    \n",
    "if choice == 'a':    \n",
    "    print(num_1, \" + \", num_2, \" = \", add(num_1, num_2))    \n",
    "    \n",
    "elif choice == 'b':    \n",
    "    print (num_1, \" - \", num_2, \" = \", subtract(num_1, num_2))    \n",
    "    \n",
    "elif choice == 'c':    \n",
    "    print (num1, \" * \", num2, \" = \", multiply(num1, num2))    \n",
    "elif choice == 'd':    \n",
    "    print (num_1, \" / \", num_2, \" = \", divide(num_1, num_2))    \n",
    "else:    \n",
    "    print (\"invalid input\")    "
   ]
  },
  {
   "cell_type": "code",
   "execution_count": null,
   "id": "70857ac3",
   "metadata": {},
   "outputs": [],
   "source": []
  },
  {
   "cell_type": "code",
   "execution_count": null,
   "id": "eb6b366a",
   "metadata": {},
   "outputs": [],
   "source": []
  }
 ],
 "metadata": {
  "kernelspec": {
   "display_name": "Python 3 (ipykernel)",
   "language": "python",
   "name": "python3"
  },
  "language_info": {
   "codemirror_mode": {
    "name": "ipython",
    "version": 3
   },
   "file_extension": ".py",
   "mimetype": "text/x-python",
   "name": "python",
   "nbconvert_exporter": "python",
   "pygments_lexer": "ipython3",
   "version": "3.9.15"
  }
 },
 "nbformat": 4,
 "nbformat_minor": 5
}
