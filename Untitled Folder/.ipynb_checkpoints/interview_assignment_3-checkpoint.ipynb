{
 "cells": [
  {
   "cell_type": "code",
   "execution_count": null,
   "id": "38dff881",
   "metadata": {},
   "outputs": [],
   "source": [
    "Write a program, which would download the data from the provided link, and then read the data and convert\n",
    "that into properly structured data and return it in Excel format."
   ]
  },
  {
   "cell_type": "code",
   "execution_count": 4,
   "id": "86bc4c8e",
   "metadata": {},
   "outputs": [
    {
     "name": "stdout",
     "output_type": "stream",
     "text": [
      "Note: you may need to restart the kernel to use updated packages.\n"
     ]
    },
    {
     "name": "stderr",
     "output_type": "stream",
     "text": [
      "ERROR: Could not find a version that satisfies the requirement urllib2 (from versions: none)\n",
      "ERROR: No matching distribution found for urllib2\n"
     ]
    }
   ],
   "source": [
    "pip install urllib2"
   ]
  },
  {
   "cell_type": "code",
   "execution_count": 17,
   "id": "a030822d",
   "metadata": {},
   "outputs": [
    {
     "name": "stdout",
     "output_type": "stream",
     "text": [
      "0      {'id': 1, 'num': '001', 'name': 'Bulbasaur', '...\n",
      "1      {'id': 2, 'num': '002', 'name': 'Ivysaur', 'im...\n",
      "2      {'id': 3, 'num': '003', 'name': 'Venusaur', 'i...\n",
      "3      {'id': 4, 'num': '004', 'name': 'Charmander', ...\n",
      "4      {'id': 5, 'num': '005', 'name': 'Charmeleon', ...\n",
      "                             ...                        \n",
      "146    {'id': 147, 'num': '147', 'name': 'Dratini', '...\n",
      "147    {'id': 148, 'num': '148', 'name': 'Dragonair',...\n",
      "148    {'id': 149, 'num': '149', 'name': 'Dragonite',...\n",
      "149    {'id': 150, 'num': '150', 'name': 'Mewtwo', 'i...\n",
      "150    {'id': 151, 'num': '151', 'name': 'Mew', 'img'...\n",
      "Name: pokemon, Length: 151, dtype: object\n"
     ]
    }
   ],
   "source": [
    " import json\n",
    "from urllib.request import urlopen\n",
    "json_url = urlopen(\"https://raw.githubusercontent.com/Biuni/PokemonGO-Pokedex/master/pokedex.json\")\n",
    "\n",
    "import pandas as pd\n",
    "df_json = pd.read_json(json_url)\n",
    "print(df_json['pokemon'])\n",
    "#df_json.to_excel('DATAFILE.xlsx')"
   ]
  },
  {
   "cell_type": "code",
   "execution_count": 20,
   "id": "dae62230",
   "metadata": {},
   "outputs": [
    {
     "ename": "TypeError",
     "evalue": "Unsupported type <class 'list'> in write()",
     "output_type": "error",
     "traceback": [
      "\u001b[1;31m---------------------------------------------------------------------------\u001b[0m",
      "\u001b[1;31mTypeError\u001b[0m                                 Traceback (most recent call last)",
      "File \u001b[1;32m~\\anaconda3\\lib\\site-packages\\xlsxwriter\\worksheet.py:512\u001b[0m, in \u001b[0;36mWorksheet._write\u001b[1;34m(self, row, col, *args)\u001b[0m\n\u001b[0;32m    511\u001b[0m \u001b[38;5;28;01mtry\u001b[39;00m:\n\u001b[1;32m--> 512\u001b[0m     f \u001b[38;5;241m=\u001b[39m \u001b[38;5;28;43mfloat\u001b[39;49m\u001b[43m(\u001b[49m\u001b[43mtoken\u001b[49m\u001b[43m)\u001b[49m\n\u001b[0;32m    513\u001b[0m     \u001b[38;5;28;01mreturn\u001b[39;00m \u001b[38;5;28mself\u001b[39m\u001b[38;5;241m.\u001b[39m_write_number(row, col, f, \u001b[38;5;241m*\u001b[39margs[\u001b[38;5;241m1\u001b[39m:])\n",
      "\u001b[1;31mTypeError\u001b[0m: float() argument must be a string or a number, not 'list'",
      "\nDuring handling of the above exception, another exception occurred:\n",
      "\u001b[1;31mTypeError\u001b[0m                                 Traceback (most recent call last)",
      "Cell \u001b[1;32mIn [20], line 39\u001b[0m\n\u001b[0;32m     15\u001b[0m headers \u001b[38;5;241m=\u001b[39m {\n\u001b[0;32m     16\u001b[0m     \u001b[38;5;124m'\u001b[39m\u001b[38;5;124mid\u001b[39m\u001b[38;5;124m'\u001b[39m: \u001b[38;5;124m'\u001b[39m\u001b[38;5;124mIdentification Number\u001b[39m\u001b[38;5;124m'\u001b[39m,\n\u001b[0;32m     17\u001b[0m     \u001b[38;5;124m'\u001b[39m\u001b[38;5;124mnum\u001b[39m\u001b[38;5;124m'\u001b[39m: \u001b[38;5;124m'\u001b[39m\u001b[38;5;124mFull Name\u001b[39m\u001b[38;5;124m'\u001b[39m,\n\u001b[1;32m   (...)\u001b[0m\n\u001b[0;32m     34\u001b[0m     \n\u001b[0;32m     35\u001b[0m }\n\u001b[0;32m     37\u001b[0m items\u001b[38;5;241m=\u001b[39m df_json[\u001b[38;5;124m'\u001b[39m\u001b[38;5;124mpokemon\u001b[39m\u001b[38;5;124m'\u001b[39m]\n\u001b[1;32m---> 39\u001b[0m \u001b[43mcreate_xlsx_file\u001b[49m\u001b[43m(\u001b[49m\u001b[38;5;124;43m\"\u001b[39;49m\u001b[38;5;124;43mmy-xlsx-file.xlsx\u001b[39;49m\u001b[38;5;124;43m\"\u001b[39;49m\u001b[43m,\u001b[49m\u001b[43m \u001b[49m\u001b[43mheaders\u001b[49m\u001b[43m,\u001b[49m\u001b[43m \u001b[49m\u001b[43mitems\u001b[49m\u001b[43m)\u001b[49m\n",
      "Cell \u001b[1;32mIn [20], line 12\u001b[0m, in \u001b[0;36mcreate_xlsx_file\u001b[1;34m(file_path, headers, items)\u001b[0m\n\u001b[0;32m     10\u001b[0m \u001b[38;5;28;01mfor\u001b[39;00m index, item \u001b[38;5;129;01min\u001b[39;00m \u001b[38;5;28menumerate\u001b[39m(items):\n\u001b[0;32m     11\u001b[0m     row \u001b[38;5;241m=\u001b[39m \u001b[38;5;28mmap\u001b[39m(\u001b[38;5;28;01mlambda\u001b[39;00m field_id: item\u001b[38;5;241m.\u001b[39mget(field_id, \u001b[38;5;124m'\u001b[39m\u001b[38;5;124m'\u001b[39m), header_keys)\n\u001b[1;32m---> 12\u001b[0m     \u001b[43mworksheet\u001b[49m\u001b[38;5;241;43m.\u001b[39;49m\u001b[43mwrite_row\u001b[49m\u001b[43m(\u001b[49m\u001b[43mrow\u001b[49m\u001b[38;5;241;43m=\u001b[39;49m\u001b[43mindex\u001b[49m\u001b[43m \u001b[49m\u001b[38;5;241;43m+\u001b[39;49m\u001b[43m \u001b[49m\u001b[38;5;241;43m1\u001b[39;49m\u001b[43m,\u001b[49m\u001b[43m \u001b[49m\u001b[43mcol\u001b[49m\u001b[38;5;241;43m=\u001b[39;49m\u001b[38;5;241;43m0\u001b[39;49m\u001b[43m,\u001b[49m\u001b[43m \u001b[49m\u001b[43mdata\u001b[49m\u001b[38;5;241;43m=\u001b[39;49m\u001b[43mrow\u001b[49m\u001b[43m)\u001b[49m\n",
      "File \u001b[1;32m~\\anaconda3\\lib\\site-packages\\xlsxwriter\\worksheet.py:85\u001b[0m, in \u001b[0;36mconvert_cell_args.<locals>.cell_wrapper\u001b[1;34m(self, *args, **kwargs)\u001b[0m\n\u001b[0;32m     82\u001b[0m     new_args \u001b[38;5;241m=\u001b[39m xl_cell_to_rowcol(first_arg)\n\u001b[0;32m     83\u001b[0m     args \u001b[38;5;241m=\u001b[39m new_args \u001b[38;5;241m+\u001b[39m args[\u001b[38;5;241m1\u001b[39m:]\n\u001b[1;32m---> 85\u001b[0m \u001b[38;5;28;01mreturn\u001b[39;00m method(\u001b[38;5;28mself\u001b[39m, \u001b[38;5;241m*\u001b[39margs, \u001b[38;5;241m*\u001b[39m\u001b[38;5;241m*\u001b[39mkwargs)\n",
      "File \u001b[1;32m~\\anaconda3\\lib\\site-packages\\xlsxwriter\\worksheet.py:1370\u001b[0m, in \u001b[0;36mWorksheet.write_row\u001b[1;34m(self, row, col, data, cell_format)\u001b[0m\n\u001b[0;32m   1356\u001b[0m \u001b[38;5;124;03m\"\"\"\u001b[39;00m\n\u001b[0;32m   1357\u001b[0m \u001b[38;5;124;03mWrite a row of data starting from (row, col).\u001b[39;00m\n\u001b[0;32m   1358\u001b[0m \n\u001b[1;32m   (...)\u001b[0m\n\u001b[0;32m   1367\u001b[0m \n\u001b[0;32m   1368\u001b[0m \u001b[38;5;124;03m\"\"\"\u001b[39;00m\n\u001b[0;32m   1369\u001b[0m \u001b[38;5;28;01mfor\u001b[39;00m token \u001b[38;5;129;01min\u001b[39;00m data:\n\u001b[1;32m-> 1370\u001b[0m     error \u001b[38;5;241m=\u001b[39m \u001b[38;5;28;43mself\u001b[39;49m\u001b[38;5;241;43m.\u001b[39;49m\u001b[43m_write\u001b[49m\u001b[43m(\u001b[49m\u001b[43mrow\u001b[49m\u001b[43m,\u001b[49m\u001b[43m \u001b[49m\u001b[43mcol\u001b[49m\u001b[43m,\u001b[49m\u001b[43m \u001b[49m\u001b[43mtoken\u001b[49m\u001b[43m,\u001b[49m\u001b[43m \u001b[49m\u001b[43mcell_format\u001b[49m\u001b[43m)\u001b[49m\n\u001b[0;32m   1371\u001b[0m     \u001b[38;5;28;01mif\u001b[39;00m error:\n\u001b[0;32m   1372\u001b[0m         \u001b[38;5;28;01mreturn\u001b[39;00m error\n",
      "File \u001b[1;32m~\\anaconda3\\lib\\site-packages\\xlsxwriter\\worksheet.py:517\u001b[0m, in \u001b[0;36mWorksheet._write\u001b[1;34m(self, row, col, *args)\u001b[0m\n\u001b[0;32m    515\u001b[0m     \u001b[38;5;28;01mpass\u001b[39;00m\n\u001b[0;32m    516\u001b[0m \u001b[38;5;28;01mexcept\u001b[39;00m \u001b[38;5;167;01mTypeError\u001b[39;00m:\n\u001b[1;32m--> 517\u001b[0m     \u001b[38;5;28;01mraise\u001b[39;00m \u001b[38;5;167;01mTypeError\u001b[39;00m(\u001b[38;5;124m\"\u001b[39m\u001b[38;5;124mUnsupported type \u001b[39m\u001b[38;5;132;01m%s\u001b[39;00m\u001b[38;5;124m in write()\u001b[39m\u001b[38;5;124m\"\u001b[39m \u001b[38;5;241m%\u001b[39m \u001b[38;5;28mtype\u001b[39m(token))\n\u001b[0;32m    519\u001b[0m \u001b[38;5;66;03m# Finally try string.\u001b[39;00m\n\u001b[0;32m    520\u001b[0m \u001b[38;5;28;01mtry\u001b[39;00m:\n",
      "\u001b[1;31mTypeError\u001b[0m: Unsupported type <class 'list'> in write()"
     ]
    }
   ],
   "source": [
    "from xlsxwriter import Workbook\n",
    "\n",
    "\n",
    "def create_xlsx_file(file_path: str, headers: dict, items: list):\n",
    "    with Workbook(file_path) as workbook:\n",
    "        worksheet = workbook.add_worksheet()\n",
    "        worksheet.write_row(row=0, col=0, data=headers.values())\n",
    "        header_keys = list(headers.keys())\n",
    "      \n",
    "        for index, item in enumerate(items):\n",
    "            row = map(lambda field_id: item.get(field_id, ''), header_keys)\n",
    "            worksheet.write_row(row=index + 1, col=0, data=row)\n",
    "           \n",
    "\n",
    "headers = {\n",
    "    'id': 'Identification Number',\n",
    "    'num': 'Full Name',\n",
    "    'name': 'Rating',\n",
    "    'img': ' ',\n",
    "    'type':' ',\n",
    "    'height':' ',\n",
    "    'weight': '',\n",
    "    'candy':' ',\n",
    "    'candy_count':'',\n",
    "    'egg':' ',\n",
    "    'spawn_chance':'',\n",
    "    'avg_spawns':' ',\n",
    "    'spawn_time':'',\n",
    "    'multipliers':'',\n",
    "    'weakness':'',\n",
    "    'next_evolution':'',\n",
    "    'prev_evolution':''\n",
    "    \n",
    "    \n",
    "}\n",
    "\n",
    "items= df_json['pokemon']\n",
    "\n",
    "create_xlsx_file(\"my-xlsx-file.xlsx\", headers, items)"
   ]
  },
  {
   "cell_type": "code",
   "execution_count": null,
   "id": "a6de3b27",
   "metadata": {},
   "outputs": [],
   "source": []
  }
 ],
 "metadata": {
  "kernelspec": {
   "display_name": "Python 3 (ipykernel)",
   "language": "python",
   "name": "python3"
  },
  "language_info": {
   "codemirror_mode": {
    "name": "ipython",
    "version": 3
   },
   "file_extension": ".py",
   "mimetype": "text/x-python",
   "name": "python",
   "nbconvert_exporter": "python",
   "pygments_lexer": "ipython3",
   "version": "3.9.15"
  }
 },
 "nbformat": 4,
 "nbformat_minor": 5
}
