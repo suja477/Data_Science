{
 "cells": [
  {
   "cell_type": "code",
   "execution_count": null,
   "id": "ff7a8f51",
   "metadata": {},
   "outputs": [],
   "source": [
    "Write a Python Program to Find LCM?\n"
   ]
  },
  {
   "cell_type": "code",
   "execution_count": 45,
   "id": "7a9357fc",
   "metadata": {},
   "outputs": [],
   "source": [
    "def lcm(a,b):\n",
    "    \n",
    "    num1 = a\n",
    "    num2 = b\n",
    "    for i in range(max(num1, num2), 1 + (num1 * num2), max(num1, num2)):\n",
    "        if i % num1 == i % num2 == 0:\n",
    "            lcm = i\n",
    "            break\n",
    "\n",
    "    print(\"LCM of\", num1, \"and\", num2, \"is\", lcm)\n",
    "    return        \n",
    "    \n"
   ]
  },
  {
   "cell_type": "code",
   "execution_count": 46,
   "id": "b3f98039",
   "metadata": {},
   "outputs": [
    {
     "name": "stdout",
     "output_type": "stream",
     "text": [
      "LCM of 3 and 4 is 12\n"
     ]
    }
   ],
   "source": [
    "lcm(3,4)"
   ]
  },
  {
   "cell_type": "code",
   "execution_count": 6,
   "id": "005f0e39",
   "metadata": {},
   "outputs": [
    {
     "name": "stdout",
     "output_type": "stream",
     "text": [
      "Object `HCF` not found.\n"
     ]
    }
   ],
   "source": [
    "Write a Python Program to Find HCF?\n"
   ]
  },
  {
   "cell_type": "code",
   "execution_count": 47,
   "id": "21acd426",
   "metadata": {},
   "outputs": [
    {
     "name": "stdout",
     "output_type": "stream",
     "text": [
      "Enter the first number: 3\n",
      "Enter the second number: 6\n",
      "First Number is:  3\n",
      "Second Number is:  6\n",
      "HCF of the numbers is:  3\n"
     ]
    }
   ],
   "source": [
    "a = int(input(\"Enter the first number: \"))\n",
    "b = int(input(\"Enter the second number: \"))\n",
    "\n",
    "HCF = 1\n",
    "\n",
    "for i in range(2,a+1):\n",
    "    if(a%i==0 and b%i==0):\n",
    "        HCF = i\n",
    "\n",
    "print(\"HCF of the numbers is: \",HCF)"
   ]
  },
  {
   "cell_type": "code",
   "execution_count": null,
   "id": "273cd84e",
   "metadata": {},
   "outputs": [],
   "source": [
    "Write a Python Program to Convert Decimal to Binary, Octal and Hexadecimal?\n"
   ]
  },
  {
   "cell_type": "code",
   "execution_count": 48,
   "id": "081b4321",
   "metadata": {},
   "outputs": [
    {
     "name": "stdout",
     "output_type": "stream",
     "text": [
      "Enter an integer: 4\n",
      "The decimal value of 4 is:\n",
      "0b100 in binary.\n",
      "0o4 in octal.\n",
      "0x4 in hexadecimal.\n"
     ]
    }
   ],
   "source": [
    "dec = int(input(\"Enter an integer: \"))\n",
    "print(\"The decimal value of\",dec,\"is:\")\n",
    "print(bin(dec),\"in binary.\")\n",
    "print(oct(dec),\"in octal.\")\n",
    "print(hex(dec),\"in hexadecimal.\")"
   ]
  },
  {
   "cell_type": "code",
   "execution_count": null,
   "id": "b71e4f80",
   "metadata": {},
   "outputs": [],
   "source": [
    "Write a Python Program To Find ASCII value of a character?\n"
   ]
  },
  {
   "cell_type": "code",
   "execution_count": 54,
   "id": "6e95f3b5",
   "metadata": {},
   "outputs": [
    {
     "name": "stdout",
     "output_type": "stream",
     "text": [
      "Enter an char: y\n",
      "The decimal value of y is:\n",
      "121 in ASCII.\n"
     ]
    }
   ],
   "source": [
    "dec = (input(\"Enter an char: \"))\n",
    "print(\"The decimal value of\",dec,\"is:\")\n",
    "print(ord(dec),\"in ASCII.\")"
   ]
  },
  {
   "cell_type": "code",
   "execution_count": null,
   "id": "6a2a5cce",
   "metadata": {},
   "outputs": [],
   "source": [
    "Write a Python Program to Make a Simple Calculator with 4 basic mathematical operations?\n"
   ]
  },
  {
   "cell_type": "code",
   "execution_count": 25,
   "id": "47c35a2c",
   "metadata": {},
   "outputs": [
    {
     "name": "stdout",
     "output_type": "stream",
     "text": [
      "enter number 1 -23\n",
      "enter number 2 -34\n",
      " 1- add ,2 - substract,3 - multiply,4- division\n",
      "select action -3\n",
      "result of multiply 782\n"
     ]
    }
   ],
   "source": [
    "def calc(a,b,action):\n",
    "    if(action==1):\n",
    "        print(\"result of addition\" ,a+b)\n",
    "    elif(action==2):\n",
    "        print(\"result of substraction\",a-b)\n",
    "    elif(action==3):\n",
    "        print(\"result of multiply\",a*b)\n",
    "    elif(action==4):\n",
    "        print(\"result of division\",a/b)\n",
    "        return   \n",
    "a=int(input(\"enter number 1 -\"))\n",
    "b=int(input(\"enter number 2 -\"))\n",
    "print(\" 1- add ,2 - substract,3 - multiply,4- division\")\n",
    "c=int(input(\"select action -\"))\n",
    "calc(a,b,c)"
   ]
  },
  {
   "cell_type": "code",
   "execution_count": 18,
   "id": "70857ac3",
   "metadata": {},
   "outputs": [
    {
     "name": "stdout",
     "output_type": "stream",
     "text": [
      "result of addition 3\n"
     ]
    }
   ],
   "source": [
    "calc(1,2,1)"
   ]
  },
  {
   "cell_type": "code",
   "execution_count": null,
   "id": "eb6b366a",
   "metadata": {},
   "outputs": [],
   "source": []
  }
 ],
 "metadata": {
  "kernelspec": {
   "display_name": "Python 3 (ipykernel)",
   "language": "python",
   "name": "python3"
  },
  "language_info": {
   "codemirror_mode": {
    "name": "ipython",
    "version": 3
   },
   "file_extension": ".py",
   "mimetype": "text/x-python",
   "name": "python",
   "nbconvert_exporter": "python",
   "pygments_lexer": "ipython3",
   "version": "3.9.15"
  }
 },
 "nbformat": 4,
 "nbformat_minor": 5
}
