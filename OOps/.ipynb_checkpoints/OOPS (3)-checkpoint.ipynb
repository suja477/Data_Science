{
 "cells": [
  {
   "cell_type": "markdown",
   "metadata": {
    "id": "c9Vl2QHBrfIG"
   },
   "source": [
    "What Is Object-Oriented Programming?\n",
    "\n",
    "Object-Oriented Programming(OOP), is all about creating “objects”. An object is a group of interrelated variables and functions. These variables are often referred to as properties of the object and functions are referred to as the behavior of the objects. These objects provide a better and clear structure for the program.\n",
    "\n",
    "For example, a car can be an object. If we consider the car as an object then its properties would be – its color, its model, its price, its brand, etc. And its behavior/function would be acceleration, slowing down, gear change."
   ]
  },
  {
   "cell_type": "markdown",
   "metadata": {
    "id": "SLOEtwuhrfVx"
   },
   "source": [
    "What is a Class?\n",
    "\n",
    "A straight forward answer to this question is- A class is a collection of objects.  Unlike the primitive data structures, classes are data structures that the user defines. They make the code more manageable."
   ]
  },
  {
   "cell_type": "markdown",
   "metadata": {
    "id": "Qzya36Enpt5L"
   },
   "source": [
    "OR"
   ]
  },
  {
   "cell_type": "markdown",
   "metadata": {
    "id": "xdzL2VnsprmQ"
   },
   "source": [
    "Class creates a user-defined data structure, which holds its own data members and member functions, which can be accessed and used by creating an instance of that class.\n",
    "\n"
   ]
  },
  {
   "cell_type": "markdown",
   "metadata": {
    "id": "a1HZktXlr_DC"
   },
   "source": [
    "Consider the case of a car showroom. You want to store the details of each car. Let’s start by defining a class first-\n",
    "\n"
   ]
  },
  {
   "cell_type": "code",
   "execution_count": 1,
   "metadata": {
    "id": "AzdeRq9Cn9SB"
   },
   "outputs": [],
   "source": [
    "class Car:\n",
    "    pass"
   ]
  },
  {
   "cell_type": "markdown",
   "metadata": {
    "id": "10aTawIq4ukJ"
   },
   "source": [
    "When we define a class only the description or a blueprint of the object is created. There is no memory allocation until we create its object. The objector instance contains real data or information.\n",
    "\n",
    "Instantiation is nothing but creating a new object/instance of a class. Let’s create the object of the above class we defined-\n",
    "\n"
   ]
  },
  {
   "cell_type": "code",
   "execution_count": 2,
   "metadata": {
    "id": "sDONjtaYsFxd"
   },
   "outputs": [],
   "source": [
    "#Let’s create the object of the above class we defined-\n",
    "\n",
    "BMW = Car()\n"
   ]
  },
  {
   "cell_type": "code",
   "execution_count": 3,
   "metadata": {
    "colab": {
     "base_uri": "https://localhost:8080/"
    },
    "id": "JuFzCuRIsX4W",
    "outputId": "581cb838-63cf-49d4-ee48-ba344b9a7d1b"
   },
   "outputs": [
    {
     "name": "stdout",
     "output_type": "stream",
     "text": [
      "<__main__.Car object at 0x00000264D4F77250>\n"
     ]
    }
   ],
   "source": [
    "#Try printing this object-\n",
    "\n",
    "print(BMW)\n"
   ]
  },
  {
   "cell_type": "markdown",
   "metadata": {
    "id": "30D-Psntsehr"
   },
   "source": [
    "Since our class was empty, it returns the address where the object is stored i.e 0x7fc5e677b6d8\n",
    "\n"
   ]
  },
  {
   "cell_type": "markdown",
   "metadata": {
    "id": "cJiDMRXq5W5_"
   },
   "source": [
    "#### Class Constructor\n",
    "\n",
    "Until now we have an empty class Car, time to fill up our class with the properties of the car.  The job of the class constructor is to assign the values to the data members of the class when an object of the class is created.\n",
    "\n",
    "There can be various properties of a car such as its name, color, model, brand name, engine power, weight, price, etc. We’ll choose only a few for understanding purposes."
   ]
  },
  {
   "cell_type": "code",
   "execution_count": 4,
   "metadata": {
    "id": "X1N2sfDhsabV"
   },
   "outputs": [],
   "source": [
    "class Car:\n",
    "    def __init__(self, name, color):\n",
    "        self.name = name\n",
    "        self.color = color\n",
    "       "
   ]
  },
  {
   "cell_type": "markdown",
   "metadata": {
    "id": "WJEP2iwr6rcL"
   },
   "source": [
    "So, the properties of the car or any other object must be inside a method that we call __init__( ). This __init__() method is also known as the constructor method. We call a constructor method whenever an object of the class is constructed.\n",
    "\n",
    "Now let’s talk about the parameter of the __init__() method. So, the first parameter of this method has to be self. Then only will the rest of the parameters come."
   ]
  },
  {
   "cell_type": "markdown",
   "metadata": {
    "id": "yhrO9df_67rv"
   },
   "source": [
    "Note: You can create attributes outside of this __init__() method also. But those attributes will be universal to the whole class and you will have to assign the value to them.\n",
    "\n",
    "Suppose all the cars in your showroom are Sedan and instead of specifying it again and again you can fix the value of car_type as Sedan by creating an attribute outside the __init__()."
   ]
  },
  {
   "cell_type": "code",
   "execution_count": 2,
   "metadata": {
    "colab": {
     "base_uri": "https://localhost:8080/",
     "height": 130
    },
    "id": "lh_e1P_L69eq",
    "outputId": "a71d69c8-ccf9-4498-bcac-d9cde63b3455"
   },
   "outputs": [],
   "source": [
    "class Car:\n",
    "    car_type = \"Sedan\"                 #class attribute\n",
    "    def __init__(self, name, color):\n",
    "        self.name = name               #instance attribute   \n",
    "        self.color = color             #instance attribute"
   ]
  },
  {
   "cell_type": "markdown",
   "metadata": {
    "id": "cpM4ibX56Hl6"
   },
   "source": [
    "## Class methods"
   ]
  },
  {
   "cell_type": "markdown",
   "metadata": {
    "id": "20GoNFjA6La-"
   },
   "source": [
    "So far we’ve added the properties of the car. Now it’s time to add some behavior. Methods are the functions that we use to describe the behavior of the objects. They are also defined inside a class. \n",
    "\n",
    "Look at the following code-\n",
    "\n"
   ]
  },
  {
   "cell_type": "code",
   "execution_count": 8,
   "metadata": {
    "id": "VCOA4RQr7BG0"
   },
   "outputs": [],
   "source": [
    "class Car:   \n",
    "    car_type = \"suv\" \n",
    "\n",
    "    def __init__(self, name, mileage):\n",
    "        self.name = name \n",
    "        self.mileage = mileage \n",
    "\n",
    "    def description(self):                 \n",
    "        return f\"The {self.name} car gives the mileage of {self.mileage}km/l\"\n",
    "\n",
    "    def max_speed(self, speed):\n",
    "        return  f\"The {self.name} runs at the maximum speed of { speed  }km/hr & have mileage of {self.mileage}km/l\""
   ]
  },
  {
   "cell_type": "code",
   "execution_count": null,
   "metadata": {},
   "outputs": [],
   "source": [
    "a = 10\n",
    "# a is a parameter\n",
    "# 10 is a value ,(attribute)"
   ]
  },
  {
   "cell_type": "markdown",
   "metadata": {
    "id": "iv4mh-xy6-V8"
   },
   "source": [
    "The methods defined inside a class other than the constructor method are known as the instance methods. \n",
    "\n",
    "Furthermore, we have two instance methods here- description() and max_speed(). \n",
    "\n"
   ]
  },
  {
   "cell_type": "markdown",
   "metadata": {
    "id": "aitB76Vj7RZ3"
   },
   "source": [
    "Notice that the additional parameter speed is not using the “self” keyword. Since speed is not an instance variable, we don’t use the self keyword as its prefix. \n",
    "\n",
    " Let’s create an object for the class described above.\n",
    "\n"
   ]
  },
  {
   "cell_type": "code",
   "execution_count": 9,
   "metadata": {
    "colab": {
     "base_uri": "https://localhost:8080/"
    },
    "id": "Icd-2n1q6ZPP",
    "outputId": "44015624-d6ec-4c2a-f96d-02875782ed49"
   },
   "outputs": [
    {
     "name": "stdout",
     "output_type": "stream",
     "text": [
      "The Honda City car gives the mileage of 24.1km/l\n",
      "The Honda City runs at the maximum speed of 150km/hr & have mileage of 24.1km/l\n",
      "suv\n"
     ]
    }
   ],
   "source": [
    "obj2 = Car(\"Honda City\",24.1)\n",
    "print(obj2.description())\n",
    "print(obj2.max_speed(150)) \n",
    "print(Car.car_type)"
   ]
  },
  {
   "cell_type": "code",
   "execution_count": 13,
   "metadata": {},
   "outputs": [],
   "source": [
    "class car:\n",
    "    def __init__(self, name , model):\n",
    "        self.name = name\n",
    "        self.model = model\n",
    "        \n",
    "    def mileage(self):\n",
    "        return f\"the car mlieage is {self.name}km/h\"\n",
    "    def speed_1(self, speed):\n",
    "        return f\"this car maximum speed is {speed}km/h\"\n"
   ]
  },
  {
   "cell_type": "code",
   "execution_count": 16,
   "metadata": {},
   "outputs": [
    {
     "name": "stdout",
     "output_type": "stream",
     "text": [
      "the car mlieage is hondakm/h\n",
      "this car maximum speed is 55km/h\n"
     ]
    }
   ],
   "source": [
    "obj1 = car(\"honda\", \"KIA123\")\n",
    "print(obj1.mileage())\n",
    "print(obj1.speed_1(55))\n"
   ]
  },
  {
   "cell_type": "markdown",
   "metadata": {
    "id": "tJWoReI_9-ID"
   },
   "source": [
    "The method description() didn’t have any additional parameter so we did not pass any argument while calling it.\n",
    "\n",
    "\n",
    "The method max_speed() has one additional parameter so we passed one argument while calling it.\n",
    "\n",
    "\n",
    "Note: Three important things to remember are-\n",
    "\n",
    "\n",
    "1. You can create any number of objects of a class.\n",
    "\n",
    "2. If the method requires n parameters and you do not pass the same number of arguments then an error will occur.\n",
    "\n",
    "3. Order of the arguments matters.\n"
   ]
  },
  {
   "cell_type": "markdown",
   "metadata": {
    "id": "YVGKxkew-SVn"
   },
   "source": [
    "### Creating more than one object of a class\n"
   ]
  },
  {
   "cell_type": "code",
   "execution_count": 31,
   "metadata": {
    "colab": {
     "base_uri": "https://localhost:8080/"
    },
    "id": "4gxvI1zn9qqM",
    "outputId": "92e53375-f58e-42e2-c42b-22575c12757b"
   },
   "outputs": [
    {
     "name": "stdout",
     "output_type": "stream",
     "text": [
      "The Honda city runs at the maximum speed of 150km/hr\n",
      "The Honda city runs at the maximum speed of 210km/hr\n",
      "88\n"
     ]
    }
   ],
   "source": [
    "class Car:\n",
    "    def __init__(self, name, mileage):\n",
    "        self.name = name \n",
    "        self.mileage = mileage \n",
    "\n",
    "    def max_speed(self, speed):\n",
    "        return f\"The {self.name} runs at the maximum speed of {speed}km/hr\"\n",
    "    def value(self,qq):\n",
    "        return f\"{qq}\"\n",
    "\n",
    "Honda = Car(\"Honda city\",25)\n",
    "print(Honda.max_speed(150))\n",
    "\n",
    "Skoda = Car(\"Honda city\",25)\n",
    "print(Skoda.max_speed(210))\n",
    "\n",
    "Bmw = Car(\"Honda city\",25)\n",
    "print(Bmw.value(88))\n"
   ]
  },
  {
   "cell_type": "code",
   "execution_count": 6,
   "metadata": {},
   "outputs": [
    {
     "name": "stdout",
     "output_type": "stream",
     "text": [
      "Bilanchi Naagin  Nighali.\n"
     ]
    }
   ],
   "source": [
    "class Comedian:\n",
    "    def __init__(self, first_name, last_name, age):\n",
    "        self.first_name = first_name\n",
    "        self.last_name = last_name\n",
    "        self.age = age\n",
    "\n",
    "    def oneself(self):\n",
    "        return f\"{self.first_name} {self.last_name}  {self.age}.\"\n",
    "\n",
    "jony = Comedian ('Bilanchi','Naagin',\"Nighali\")\n",
    "print (jony.oneself())\n"
   ]
  },
  {
   "cell_type": "code",
   "execution_count": 7,
   "metadata": {},
   "outputs": [
    {
     "name": "stdout",
     "output_type": "stream",
     "text": [
      "I am xyz, my usual behaviour is Formal and Minimal\n"
     ]
    }
   ],
   "source": [
    "class data_analytics:\n",
    "    \n",
    "    def __init__(self,name,properties):\n",
    "        self.name=name\n",
    "        self.properties=properties\n",
    "    def data_behaviour(self,behaviour) :   \n",
    "        return f\"I am {self.name}, my usual behaviour is {self.properties} and {behaviour}\"\n",
    "Data=data_analytics(\"xyz\",\"Formal\")\n",
    "print(Data.data_behaviour(\"Minimal\"))\n"
   ]
  },
  {
   "cell_type": "code",
   "execution_count": 31,
   "metadata": {},
   "outputs": [
    {
     "name": "stdout",
     "output_type": "stream",
     "text": [
      "virat\n"
     ]
    },
    {
     "ename": "TypeError",
     "evalue": "'str' object is not callable",
     "output_type": "error",
     "traceback": [
      "\u001b[1;31m---------------------------------------------------------------------------\u001b[0m",
      "\u001b[1;31mTypeError\u001b[0m                                 Traceback (most recent call last)",
      "\u001b[1;32m<ipython-input-31-b5fab05e945e>\u001b[0m in \u001b[0;36m<module>\u001b[1;34m\u001b[0m\n\u001b[0;32m      9\u001b[0m \u001b[0mobj\u001b[0m \u001b[1;33m=\u001b[0m \u001b[0mshe\u001b[0m\u001b[1;33m(\u001b[0m\u001b[1;34m\"virat\"\u001b[0m\u001b[1;33m)\u001b[0m\u001b[1;33m\u001b[0m\u001b[1;33m\u001b[0m\u001b[0m\n\u001b[0;32m     10\u001b[0m \u001b[0mobj\u001b[0m\u001b[1;33m.\u001b[0m\u001b[0mpassion\u001b[0m\u001b[1;33m(\u001b[0m\u001b[1;33m)\u001b[0m\u001b[1;33m\u001b[0m\u001b[1;33m\u001b[0m\u001b[0m\n\u001b[1;32m---> 11\u001b[1;33m \u001b[0mobj\u001b[0m\u001b[1;33m.\u001b[0m\u001b[0mname\u001b[0m\u001b[1;33m(\u001b[0m\u001b[1;33m)\u001b[0m\u001b[1;33m\u001b[0m\u001b[1;33m\u001b[0m\u001b[0m\n\u001b[0m\u001b[0;32m     12\u001b[0m \u001b[1;33m\u001b[0m\u001b[0m\n",
      "\u001b[1;31mTypeError\u001b[0m: 'str' object is not callable"
     ]
    }
   ],
   "source": [
    "class he:\n",
    "    def __init__(self,name):\n",
    "        self.name = name\n",
    "    def passion(self):\n",
    "        print(self.name)\n",
    "class she(he):\n",
    "    def name(self):\n",
    "        print(\"She is Intelligent\")\n",
    "obj = she(\"virat\")\n",
    "obj.passion()\n",
    "obj.name()\n",
    "           "
   ]
  },
  {
   "cell_type": "code",
   "execution_count": 3,
   "metadata": {},
   "outputs": [
    {
     "name": "stdout",
     "output_type": "stream",
     "text": [
      "His name is Vikas\n"
     ]
    }
   ],
   "source": [
    "class he():\n",
    "    def __init__(self,name):# parameter\n",
    "        self.name = name\n",
    "    def printname(self):# Method to do a task\n",
    "        print(\"His name is\", self.name)\n",
    "class she(he):\n",
    "    def hername(self):\n",
    "        print(\"Her name is\",self.name)\n",
    "#obj = she(\"Aliya\")\n",
    "obj = he(\"Vikas\")\n",
    "#obj.hername()\n",
    "obj.printname()\n",
    "    "
   ]
  },
  {
   "cell_type": "code",
   "execution_count": 8,
   "metadata": {},
   "outputs": [
    {
     "name": "stdout",
     "output_type": "stream",
     "text": [
      "The python is 5 in rate and scope is high \n"
     ]
    }
   ],
   "source": [
    "class data_analytics:\n",
    "    def __init__(self,name,rate):\n",
    "        self.name=name\n",
    "        self.rate=rate\n",
    "    def data_analytics_scope(self,scope):\n",
    "        return f\"The {self.name} is {self.rate} in rate and scope is {scope} \"\n",
    "data_analytics1=data_analytics(\"python\",\"5\")\n",
    "print(data_analytics1.data_analytics_scope(\"high\"))\n"
   ]
  },
  {
   "cell_type": "code",
   "execution_count": 14,
   "metadata": {},
   "outputs": [],
   "source": [
    "class planets:\n",
    "    def __init__(self,name,planets):\n",
    "        self.name=name\n",
    "        self.planets=planets\n",
    "    def solar_family(self,celestial_body):\n",
    "        return f\"The {self.name} is the {self.planets} in the solar sysytem having many{celestial_body}\"\n"
   ]
  },
  {
   "cell_type": "code",
   "execution_count": 13,
   "metadata": {},
   "outputs": [
    {
     "name": "stdout",
     "output_type": "stream",
     "text": [
      "The Jupiter is the largest in the solar sysytem having manyMoons\n"
     ]
    }
   ],
   "source": [
    "Jupiter=planets(\"Jupiter\",\"largest\")\n",
    "print(Jupiter.solar_family(\"Moons\"))\n"
   ]
  },
  {
   "cell_type": "code",
   "execution_count": 15,
   "metadata": {},
   "outputs": [
    {
     "name": "stdout",
     "output_type": "stream",
     "text": [
      "Niteka's favourite subject is Maths and has a IQ level of 90\n",
      "Sakshi's favourite subject is History and has a IQ level of 79\n"
     ]
    }
   ],
   "source": [
    "class Project:\n",
    "    def __init__(self,name,subject):\n",
    "        self.name=name\n",
    "        self.subject=subject\n",
    "        \n",
    "    def Qualities(self,IQ):\n",
    "        return f\"{self.name}'s favourite subject is {self.subject} and has a IQ level of {IQ}\"\n",
    "    \n",
    "mattoo=Project(\"Niteka\",\"Maths\")\n",
    "print(mattoo.Qualities(\"90\"))\n",
    "\n",
    "pandit=Project(\"Sakshi\",\"History\")\n",
    "print(pandit.Qualities(\"79\"))\n"
   ]
  },
  {
   "cell_type": "code",
   "execution_count": 73,
   "metadata": {},
   "outputs": [
    {
     "ename": "TypeError",
     "evalue": "Bird_size() takes 1 positional argument but 4 were given",
     "output_type": "error",
     "traceback": [
      "\u001b[1;31m---------------------------------------------------------------------------\u001b[0m",
      "\u001b[1;31mTypeError\u001b[0m                                 Traceback (most recent call last)",
      "\u001b[1;32m<ipython-input-73-2ef678868884>\u001b[0m in \u001b[0;36m<module>\u001b[1;34m\u001b[0m\n\u001b[0;32m      8\u001b[0m \u001b[1;33m\u001b[0m\u001b[0m\n\u001b[0;32m      9\u001b[0m \u001b[0mbirds\u001b[0m\u001b[1;33m=\u001b[0m \u001b[0mbird\u001b[0m\u001b[1;33m(\u001b[0m\u001b[1;34m'Parrot'\u001b[0m\u001b[1;33m,\u001b[0m\u001b[1;34m'green'\u001b[0m\u001b[1;33m,\u001b[0m\u001b[1;34m\"medium\"\u001b[0m\u001b[1;33m)\u001b[0m\u001b[1;33m\u001b[0m\u001b[1;33m\u001b[0m\u001b[0m\n\u001b[1;32m---> 10\u001b[1;33m \u001b[0mprint\u001b[0m\u001b[1;33m(\u001b[0m\u001b[0mbirds\u001b[0m\u001b[1;33m.\u001b[0m\u001b[0mBird_size\u001b[0m\u001b[1;33m(\u001b[0m\u001b[1;34m\"Dog\"\u001b[0m\u001b[1;33m,\u001b[0m\u001b[1;34m\"Brown\"\u001b[0m\u001b[1;33m,\u001b[0m\u001b[1;34m\"small\"\u001b[0m\u001b[1;33m)\u001b[0m\u001b[1;33m)\u001b[0m\u001b[1;33m\u001b[0m\u001b[1;33m\u001b[0m\u001b[0m\n\u001b[0m",
      "\u001b[1;31mTypeError\u001b[0m: Bird_size() takes 1 positional argument but 4 were given"
     ]
    }
   ],
   "source": [
    "class bird:\n",
    "    def __init__(self,name,colour,size):\n",
    "        self.colour=colour\n",
    "        self.name=name\n",
    "        self.size=size\n",
    "    def Bird_size(self):\n",
    "        return f\"The {self.name} is {self.colour} in colour and size is {self.size}\"\n",
    "\n",
    "birds= bird('Parrot','green',\"medium\")\n",
    "print(birds.Bird_size(\"Dog\",\"Brown\",\"small\"))"
   ]
  },
  {
   "cell_type": "markdown",
   "metadata": {
    "id": "6q7hZXu6A_aW"
   },
   "source": [
    "## Encapsulation\n",
    "\n",
    "Encapsulation, as I mentioned in the initial part of the article, is a way to ensure security. Basically, it hides the data from the access of outsiders. Such as if an organization wants to protect an object/information from unwanted access by clients or any unauthorized person then encapsulation is the way to ensure this.\n",
    "\n",
    "\n",
    "You can declare the methods or the attributes protected by using a single underscore ( _ ) before their names. Such as- self._name or def _method( ); Both of these lines tell that the attribute and method are protected and should not be used outside the access of the class and sub-classes but can be accessed by class methods and objects.\n",
    "\n",
    "\n"
   ]
  },
  {
   "cell_type": "markdown",
   "metadata": {
    "id": "bUOsMbjMB_Ma"
   },
   "source": [
    "Now for actually preventing the access of attributes/methods from outside the scope of a class, you can use “private members“. In order to declare the attributes/method as private members, use double underscore ( __ ) in the prefix. Such as – self.__name or def __method(); Both of these lines tell that the attribute and method are private and access is not possible from outside the class.\n",
    "\n"
   ]
  },
  {
   "cell_type": "markdown",
   "metadata": {
    "colab": {
     "base_uri": "https://localhost:8080/"
    },
    "id": "8VppJ7XL_QzZ",
    "outputId": "dcb5cf25-7341-4bd8-9c41-0f3a595f98e0"
   },
   "source": [
    "# class car:\n",
    "\n",
    "    def __init__(self, name, mileage):\n",
    "        self.name = name                #public variable\n",
    "        self.mileage = mileage \n",
    "\n",
    "    def description(self):                \n",
    "        return f\"The {self.name} car gives the mileage of {self.mileage}km/l\"\n",
    "obj = car(\"BMW 7-series\",39.53)\n",
    "\n",
    "#accessing protected variable via class method \n",
    "print(obj.description()) \n",
    "  \n",
    "#accessing protected variable directly from outside\n",
    "print(obj.name)\n",
    "print(obj.mileage)"
   ]
  },
  {
   "cell_type": "markdown",
   "metadata": {
    "id": "chip-9MfDIMP"
   },
   "source": [
    "Notice how we accessed the protected variable without any error. It is clear that access to the variable is still public. Let us see how encapsulation works-\n"
   ]
  },
  {
   "cell_type": "code",
   "execution_count": 77,
   "metadata": {
    "colab": {
     "base_uri": "https://localhost:8080/",
     "height": 235
    },
    "id": "Prz-3ymdDBHy",
    "outputId": "12ce6ea0-bc26-455e-df79-86ada2ac051c"
   },
   "outputs": [
    {
     "name": "stdout",
     "output_type": "stream",
     "text": [
      "The Audi_R8 car gives the mileage of 11.23km/l\n"
     ]
    },
    {
     "ename": "AttributeError",
     "evalue": "'Car' object has no attribute '__name'",
     "output_type": "error",
     "traceback": [
      "\u001b[1;31m---------------------------------------------------------------------------\u001b[0m",
      "\u001b[1;31mAttributeError\u001b[0m                            Traceback (most recent call last)",
      "\u001b[1;32m<ipython-input-77-f3ec0416ce0e>\u001b[0m in \u001b[0;36m<module>\u001b[1;34m\u001b[0m\n\u001b[0;32m     13\u001b[0m \u001b[1;33m\u001b[0m\u001b[0m\n\u001b[0;32m     14\u001b[0m \u001b[1;31m#accessing private variable directly from outside\u001b[0m\u001b[1;33m\u001b[0m\u001b[1;33m\u001b[0m\u001b[1;33m\u001b[0m\u001b[0m\n\u001b[1;32m---> 15\u001b[1;33m \u001b[0mprint\u001b[0m\u001b[1;33m(\u001b[0m\u001b[0mobj\u001b[0m\u001b[1;33m.\u001b[0m\u001b[0m__name\u001b[0m\u001b[1;33m)\u001b[0m\u001b[1;33m\u001b[0m\u001b[1;33m\u001b[0m\u001b[0m\n\u001b[0m\u001b[0;32m     16\u001b[0m \u001b[0mprint\u001b[0m\u001b[1;33m(\u001b[0m\u001b[0mobj\u001b[0m\u001b[1;33m.\u001b[0m\u001b[0m__mileage\u001b[0m\u001b[1;33m)\u001b[0m\u001b[1;33m\u001b[0m\u001b[1;33m\u001b[0m\u001b[0m\n\u001b[0;32m     17\u001b[0m \u001b[1;33m\u001b[0m\u001b[0m\n",
      "\u001b[1;31mAttributeError\u001b[0m: 'Car' object has no attribute '__name'"
     ]
    }
   ],
   "source": [
    "class Car:\n",
    "\n",
    "    def __init__(self, name = \"Audi_R8\", mileage = 11.23):\n",
    "        self.__name = name              #private variable        \n",
    "        self.__mileage = mileage \n",
    "\n",
    "    def description(self):                \n",
    "        return f\"The {self.__name} car gives the mileage of {self.__mileage}km/l\"\n",
    "obj = Car()\n",
    "\n",
    "#accessing private variable via class method \n",
    "print(obj.description())\n",
    "\n",
    "#accessing private variable directly from outside\n",
    "print(obj.__name)\n",
    "print(obj.__mileage)\n",
    " "
   ]
  },
  {
   "cell_type": "markdown",
   "metadata": {
    "id": "CYMb5cf4DU9g"
   },
   "source": [
    "When we tried accessing the private variable using the description() method, we encountered no error. But when we tried accessing the private variable directly outside the class, then Python gave us an error stating: car object has no attribute ‘__name’.\n",
    "\n"
   ]
  },
  {
   "cell_type": "markdown",
   "metadata": {
    "id": "iJBw7QPuDrne"
   },
   "source": [
    "You can still access this attribute directly using its mangled name. Name mangling is a mechanism we use for accessing the class members from outside."
   ]
  },
  {
   "cell_type": "code",
   "execution_count": 4,
   "metadata": {
    "colab": {
     "base_uri": "https://localhost:8080/"
    },
    "id": "jRtEcGAeDNlP",
    "outputId": "b17f9ba4-5b4f-42dc-df72-46d7d6473c57"
   },
   "outputs": [
    {
     "name": "stdout",
     "output_type": "stream",
     "text": [
      "The BMW 7-series car gives the mileage of 39.53km/l\n",
      "BMW 7-series\n",
      "39.53\n"
     ]
    },
    {
     "ename": "AttributeError",
     "evalue": "'Car' object has no attribute 'mileage'",
     "output_type": "error",
     "traceback": [
      "\u001b[1;31m---------------------------------------------------------------------------\u001b[0m",
      "\u001b[1;31mAttributeError\u001b[0m                            Traceback (most recent call last)",
      "\u001b[1;32m<ipython-input-4-8eb734f6cef7>\u001b[0m in \u001b[0;36m<module>\u001b[1;34m\u001b[0m\n\u001b[0;32m     16\u001b[0m \u001b[0mprint\u001b[0m\u001b[1;33m(\u001b[0m\u001b[0mobj\u001b[0m\u001b[1;33m.\u001b[0m\u001b[0m_Car__name\u001b[0m\u001b[1;33m)\u001b[0m      \u001b[1;31m#mangled name\u001b[0m\u001b[1;33m\u001b[0m\u001b[1;33m\u001b[0m\u001b[0m\n\u001b[0;32m     17\u001b[0m \u001b[0mprint\u001b[0m\u001b[1;33m(\u001b[0m\u001b[0mobj\u001b[0m\u001b[1;33m.\u001b[0m\u001b[0m_Car__mileage\u001b[0m\u001b[1;33m)\u001b[0m\u001b[1;33m\u001b[0m\u001b[1;33m\u001b[0m\u001b[0m\n\u001b[1;32m---> 18\u001b[1;33m \u001b[0mprint\u001b[0m\u001b[1;33m(\u001b[0m\u001b[0mobj\u001b[0m\u001b[1;33m.\u001b[0m\u001b[0mmileage\u001b[0m\u001b[1;33m)\u001b[0m\u001b[1;33m\u001b[0m\u001b[1;33m\u001b[0m\u001b[0m\n\u001b[0m",
      "\u001b[1;31mAttributeError\u001b[0m: 'Car' object has no attribute 'mileage'"
     ]
    }
   ],
   "source": [
    "class Car:\n",
    "\n",
    "    def __init__(self, name, mileage):\n",
    "        self.__name = name              #private variable        \n",
    "        self.__mileage = mileage \n",
    "\n",
    "    def description(self):                \n",
    "        return f\"The {self.__name} car gives the mileage of {self.__mileage}km/l\"\n",
    "obj = Car(\"BMW 7-series\",39.53)\n",
    "\n",
    "#accessing private variable via class method \n",
    "print(obj.description())\n",
    "\n",
    "#accessing private variable directly from outside\n",
    "\n",
    "print(obj._Car__name)      #mangled name\n",
    "print(obj._Car__mileage)\n",
    "print(obj.mileage)"
   ]
  },
  {
   "cell_type": "markdown",
   "metadata": {
    "id": "6TZsA0OGEEZE"
   },
   "source": [
    "## Inheritance in Python Class"
   ]
  },
  {
   "cell_type": "markdown",
   "metadata": {
    "id": "bdvssOiToxnE"
   },
   "source": [
    "Inheritance is the procedure in which one class inherits the attributes and methods of another class.  The class whose properties and methods are inherited is known as Parent class. And the class that inherits the properties from the parent class is the Child class.\n",
    "\n",
    "The interesting thing is, along with the inherited properties and methods, a child class can have its own properties and methods.\n",
    "\n"
   ]
  },
  {
   "cell_type": "code",
   "execution_count": 13,
   "metadata": {
    "colab": {
     "base_uri": "https://localhost:8080/"
    },
    "id": "slBbgBNrDySH",
    "outputId": "67da24a1-84ca-4151-bd12-6a5cfc8a0955"
   },
   "outputs": [
    {
     "name": "stdout",
     "output_type": "stream",
     "text": [
      "The BMW 7-series car gives the mileage of 39.53km/l\n",
      "The Audi A8 L car gives the mileage of 44km/l\n",
      "This is the description method of class Audi.\n"
     ]
    }
   ],
   "source": [
    "class Car:          #parent class\n",
    "\n",
    "    def __init__(self, name, mileage):\n",
    "        self.name = name \n",
    "        self.mileage = mileage \n",
    "\n",
    "    def description(self):                \n",
    "        return f\"The {self.name} car gives the mileage of {self.mileage}km/l\"\n",
    "\n",
    "class BMW(Car):     #child class\n",
    "    pass\n",
    "\n",
    "class Audi(Car):     #child class\n",
    "    def audi_desc(self):\n",
    "        return \"This is the description method of class Audi.\"\n",
    "obj1 = BMW(\"BMW 7-series\",39.53)\n",
    "print(obj1.description())\n",
    "\n",
    "obj2 = Audi(\"Audi A8 L\",44)\n",
    "print(obj2.description())\n",
    "print(obj2.audi_desc())\n",
    " "
   ]
  },
  {
   "cell_type": "code",
   "execution_count": 19,
   "metadata": {},
   "outputs": [
    {
     "name": "stdout",
     "output_type": "stream",
     "text": [
      "dog barking\n",
      "Animal Speaking\n"
     ]
    }
   ],
   "source": [
    "class Animal: # Parent \n",
    "    def speak(self):  \n",
    "        print(\"Animal Speaking\")  \n",
    "#child class Dog inherits the base class Animal  \n",
    "class Dog(Animal): # Child \n",
    "    def bark(self):  \n",
    "        print(\"dog barking\")  \n",
    "Akshay = Dog()  \n",
    "Akshay.bark()  \n",
    "Akshay.speak() \n"
   ]
  },
  {
   "cell_type": "markdown",
   "metadata": {
    "id": "DX4zLqzNpOZX"
   },
   "source": [
    "We have created two child classes namely “BMW” and “Audi” who have inherited the methods and properties of the parent class “Car”.  We have provided no additional features and methods in the class BMW. Whereas one additional method inside the class Audi.\n",
    "\n",
    "Notice how the instance method description() of the parent class is accessible by the objects of child classes with the help of obj1.description() and obj2.description(). And also the separate method of class Audi is also accessible using obj2.audi_desc().\n",
    "\n"
   ]
  },
  {
   "cell_type": "code",
   "execution_count": 75,
   "metadata": {
    "colab": {
     "base_uri": "https://localhost:8080/"
    },
    "id": "HyqKCCfEpEON",
    "outputId": "4377542d-2df7-4fba-8539-d94af6392e5c"
   },
   "outputs": [
    {
     "name": "stdout",
     "output_type": "stream",
     "text": [
      "Hello, my name is Nikhil\n"
     ]
    }
   ],
   "source": [
    "#Example\n",
    " # A Sample class with init method\n",
    "class Person:\n",
    "\n",
    "    # init method or constructor\n",
    "    def __init__(ok, name = \"Nikhil\"):\n",
    "        ok.name = name\n",
    "\n",
    "    # Sample Method\n",
    "    def say_hi(ok):\n",
    "        print('Hello, my name is', ok.name)\n",
    "\n",
    "p = Person()\n",
    "p.say_hi()\n"
   ]
  },
  {
   "cell_type": "code",
   "execution_count": 4,
   "metadata": {
    "id": "SeLV81ibravU"
   },
   "outputs": [
    {
     "name": "stdout",
     "output_type": "stream",
     "text": [
      "Rodger details:\n",
      "Rodger is a dog\n",
      "Breed:  Pug\n",
      "Color:  brown\n",
      "\n",
      "Buzo details:\n",
      "Buzo is a dog\n",
      "Breed:  Bulldog\n",
      "Color:  black\n",
      "\n",
      "Accessing class variable using class name\n",
      "dog\n"
     ]
    }
   ],
   "source": [
    "#Exercise :\n",
    "# Python3 program to show that the variables with a value\n",
    "# assigned in the class declaration, are class variables and\n",
    "# variables inside methods and constructors are instance\n",
    "# variables.\n",
    "\n",
    "# Class for Dog\n",
    "class Dog:\n",
    "\n",
    "    # Class Variable\n",
    "    animal = 'dog'\n",
    "\n",
    "    # The init method or constructor\n",
    "    def __init__(my, breed, color):\n",
    "\n",
    "        # Instance Variable\n",
    "        my.breed = breed\n",
    "        my.color = color\n",
    "\n",
    "# Objects of Dog class\n",
    "Rodger = Dog(\"Pug\", \"brown\")\n",
    "Buzo = Dog(\"Bulldog\", \"black\")\n",
    "\n",
    "print('Rodger details:')\n",
    "print('Rodger is a', Rodger.animal)\n",
    "print('Breed: ', Rodger.breed)\n",
    "print('Color: ', Rodger.color)\n",
    "\n",
    "print('\\nBuzo details:')\n",
    "print('Buzo is a', Buzo.animal)\n",
    "print('Breed: ', Buzo.breed)\n",
    "print('Color: ', Buzo.color)\n",
    "\n",
    "# Class variables can be accessed using class\n",
    "# name also\n",
    "print(\"\\nAccessing class variable using class name\")\n",
    "print(Dog.animal)\n"
   ]
  },
  {
   "cell_type": "code",
   "execution_count": null,
   "metadata": {},
   "outputs": [],
   "source": []
  },
  {
   "cell_type": "markdown",
   "metadata": {},
   "source": [
    "# Single Inheritance\n",
    "\n",
    "# When a child class inherits only a single parent class."
   ]
  },
  {
   "cell_type": "code",
   "execution_count": 22,
   "metadata": {},
   "outputs": [
    {
     "name": "stdout",
     "output_type": "stream",
     "text": [
      " this is function 2 \n",
      "this is function one\n"
     ]
    }
   ],
   "source": [
    "class Parent:\n",
    "     def func1(ee):\n",
    "            print(\"this is function one\")\n",
    "class Child(Parent):\n",
    "     def func2(ee):\n",
    "            print(\" this is function 2 \")\n",
    "ob = Child()\n",
    "ob.func2()\n",
    "ob.func1()"
   ]
  },
  {
   "cell_type": "code",
   "execution_count": 46,
   "metadata": {},
   "outputs": [
    {
     "name": "stdout",
     "output_type": "stream",
     "text": [
      "Her name is Sakshi\n",
      "His name is  Omkar\n"
     ]
    }
   ],
   "source": [
    "class he:\n",
    "    def hisname(self,name):\n",
    "        print(\"His name is \",name)\n",
    "class she(he):\n",
    "    def hername(self,name):\n",
    "        print(\"Her name is\",name)\n",
    "        \n",
    "obj  = she()\n",
    "obj.hername(\"Sakshi\")\n",
    "obj.hisname(\"Omkar\")"
   ]
  },
  {
   "cell_type": "markdown",
   "metadata": {},
   "source": [
    "# Multiple Inheritance\n",
    "\n",
    "# When a child class inherits from more than one parent class."
   ]
  },
  {
   "cell_type": "code",
   "execution_count": 23,
   "metadata": {},
   "outputs": [],
   "source": [
    "class Parent:\n",
    "    \n",
    "    def func1(self):\n",
    "        \n",
    "        print(\"this is function 1\")\n",
    "        \n",
    "class Parent2:\n",
    "    \n",
    "    def func2(self):\n",
    "        \n",
    "        print(\"this is function 2\")\n",
    "        \n",
    "class Child(Parent , Parent2):\n",
    "    \n",
    "    def func3(self):\n",
    "        \n",
    "        print(\"this is function 3\")\n",
    "        ob = Child()\n",
    "        \n",
    "        ob.func1()\n",
    "        ob.func2()\n",
    "        ob.func3()"
   ]
  },
  {
   "cell_type": "code",
   "execution_count": 1,
   "metadata": {},
   "outputs": [
    {
     "name": "stdout",
     "output_type": "stream",
     "text": [
      "this is function 1\n",
      "this is function 2\n",
      "this is function 3\n"
     ]
    }
   ],
   "source": [
    "class Parent:\n",
    "     def func1(self):\n",
    "        print(\"this is function 1\")\n",
    "        \n",
    "class Parent2:\n",
    "    def func2(self):\n",
    "        print(\"this is function 2\")\n",
    "        \n",
    "class Child(Parent , Parent2):\n",
    "    def func3(self):\n",
    "        print(\"this is function 3\")\n",
    "ob = Child()\n",
    "ob.func1()\n",
    "ob.func2()\n",
    "ob.func3()        "
   ]
  },
  {
   "cell_type": "markdown",
   "metadata": {},
   "source": [
    "# Multilevel Inheritance\n",
    "# `When a child class becomes a parent class for another child class."
   ]
  },
  {
   "cell_type": "code",
   "execution_count": 24,
   "metadata": {},
   "outputs": [
    {
     "name": "stdout",
     "output_type": "stream",
     "text": [
      "this is function 3\n",
      "this is function 2\n",
      "this is function 1\n"
     ]
    }
   ],
   "source": [
    "class Parent:\n",
    "      def func1(self):\n",
    "            print(\"this is function 1\")\n",
    "class Child(Parent):\n",
    "      def func2(self):\n",
    "            print(\"this is function 2\")\n",
    "class Child2(Child):\n",
    "      def func3(self):\n",
    "            print(\"this is function 3\")\n",
    "ob = Child2()\n",
    "ob.func3()\n",
    "ob.func2()\n",
    "ob.func1()"
   ]
  },
  {
   "cell_type": "markdown",
   "metadata": {},
   "source": [
    "# Hierarchical Inheritance\n",
    "\n",
    "* Hierarchical inheritance involves multiple inheritance from the same base or parent class"
   ]
  },
  {
   "cell_type": "code",
   "execution_count": 29,
   "metadata": {},
   "outputs": [
    {
     "name": "stdout",
     "output_type": "stream",
     "text": [
      "this is function 2\n",
      "this is function 1\n",
      "this is function 3\n",
      "this is function 1\n"
     ]
    }
   ],
   "source": [
    "class Parent:\n",
    "      def func1(self):\n",
    "            print(\"this is function 1\")\n",
    "class Child1(Parent):\n",
    "      def func2(self):\n",
    "            print(\"this is function 2\")\n",
    "class Child2(Parent):\n",
    "      def func3(self):\n",
    "            print(\"this is function 3\")\n",
    " \n",
    "ob = Child1()\n",
    "ob1 = Child2()\n",
    "ob.func2()\n",
    "ob.func1()\n",
    "ob1.func3()\n",
    "ob1.func1() "
   ]
  },
  {
   "cell_type": "markdown",
   "metadata": {},
   "source": [
    "# Polymorphism.."
   ]
  },
  {
   "cell_type": "markdown",
   "metadata": {},
   "source": [
    "* In programming, polymorphism means the same function name (but different signatures) being used for different types.\n",
    "\n",
    "* The key difference is the data types and number of arguments used in function."
   ]
  },
  {
   "cell_type": "code",
   "execution_count": 62,
   "metadata": {},
   "outputs": [
    {
     "name": "stdout",
     "output_type": "stream",
     "text": [
      "5\n",
      "3\n"
     ]
    }
   ],
   "source": [
    "# Python program to demonstrate in-built poly-\n",
    "# morphic functions\n",
    "\n",
    "# len() being used for a string\n",
    "print(len(\"geeks\"))\n",
    "\n",
    "# len() being used for a list\n",
    "print(len([10, 20, 30]))\n"
   ]
  },
  {
   "cell_type": "code",
   "execution_count": 64,
   "metadata": {},
   "outputs": [],
   "source": [
    "a = [1,2,3,4,5]"
   ]
  },
  {
   "cell_type": "code",
   "execution_count": 66,
   "metadata": {},
   "outputs": [
    {
     "name": "stdout",
     "output_type": "stream",
     "text": [
      "[1, 2, 3, 4, 5]\n",
      "5\n"
     ]
    }
   ],
   "source": [
    "print(a)\n",
    "print(len(a))"
   ]
  },
  {
   "cell_type": "code",
   "execution_count": 68,
   "metadata": {},
   "outputs": [
    {
     "name": "stdout",
     "output_type": "stream",
     "text": [
      "1\n"
     ]
    }
   ],
   "source": [
    "b = {\"a\":[1,2,3,4,5]}\n",
    "print(len(b))"
   ]
  },
  {
   "cell_type": "code",
   "execution_count": 69,
   "metadata": {},
   "outputs": [
    {
     "name": "stdout",
     "output_type": "stream",
     "text": [
      "7\n"
     ]
    }
   ],
   "source": [
    "a_1= {1,2,3,44,55,66,77}\n",
    "print(len(a_1))"
   ]
  },
  {
   "cell_type": "code",
   "execution_count": null,
   "metadata": {},
   "outputs": [],
   "source": []
  },
  {
   "cell_type": "code",
   "execution_count": null,
   "metadata": {},
   "outputs": [],
   "source": []
  },
  {
   "cell_type": "markdown",
   "metadata": {
    "id": "ntCHnRoB9mFM"
   },
   "source": [
    "1. In the method overloading, methods or functions must have the same name and different signatures.\t\n",
    "\n",
    "2. Method overloading is a example of compile time polymorphism.\n",
    "\n",
    "3. In the method overloading, inheritance may or may not be required.\n",
    "\n",
    "4. Method overloading is performed between methods within the class.\n",
    "\n",
    "5. It is used in order to add more to the behavior of methods.\n",
    "\n",
    "6. In method overloading, there is no need of more than one class."
   ]
  },
  {
   "cell_type": "code",
   "execution_count": 109,
   "metadata": {
    "colab": {
     "base_uri": "https://localhost:8080/"
    },
    "id": "9rxHRrAJxJI5",
    "outputId": "fc6d2b26-a711-4046-d31b-990939ca15bc"
   },
   "outputs": [
    {
     "name": "stdout",
     "output_type": "stream",
     "text": [
      "Nothing\n",
      "100.0\n",
      "NoneNoneNoneNoneNone\n"
     ]
    }
   ],
   "source": [
    "class area :\n",
    "    def find_area(self, x = None, y = None):\n",
    "        if x != None and y != None:\n",
    "            print(x*y)\n",
    "            \n",
    "        \n",
    "        elif x != None:\n",
    "            print(x*x)\n",
    "        \n",
    "        elif y != None:\n",
    "            print(y*y)\n",
    "        \n",
    "        else:\n",
    "            print(\"Nothing\")\n",
    "        \n",
    "\n",
    "obj1 = area()\n",
    "obj1.find_area()\n",
    "obj1.find_area(y = 10.0)\n",
    "obj1.find_area(\"None\", 5)"
   ]
  },
  {
   "cell_type": "markdown",
   "metadata": {
    "id": "ZyIhig9X0hNz"
   },
   "source": [
    "### Method Overriding"
   ]
  },
  {
   "cell_type": "code",
   "execution_count": 15,
   "metadata": {},
   "outputs": [],
   "source": [
    "a = 10\n",
    "# a (parameter) \n",
    "# 10 (argument)"
   ]
  },
  {
   "cell_type": "markdown",
   "metadata": {
    "id": "Li_BrSRqApg-"
   },
   "source": [
    "1. Whereas in the method overriding, methods or functions must have the same name and same signatures.\n",
    "\n",
    "2. Whereas method overriding is a example of run time polymorphism.\n",
    "\n",
    "3. Whereas in method overriding, inheritance always required.\n",
    "\n",
    "4. Whereas method overriding is done between parent class and child class methods.\n",
    "\n",
    "5. Whereas it is used in order to change the behavior of exist methods.\n",
    "\n",
    "6. Whereas in method overriding, there is need of at least of two classes.\n",
    " "
   ]
  },
  {
   "cell_type": "code",
   "execution_count": 110,
   "metadata": {
    "colab": {
     "base_uri": "https://localhost:8080/"
    },
    "id": "M0PQJKkjzMN8",
    "outputId": "fd138ee1-f0f9-4d12-ddee-933e3a9674c5"
   },
   "outputs": [
    {
     "name": "stdout",
     "output_type": "stream",
     "text": [
      "I'm in class A\n",
      "I'm in class B\n"
     ]
    }
   ],
   "source": [
    "class A:\n",
    "    def Data(self):\n",
    "        print(\"I'm in class A\")\n",
    "class B(A):\n",
    "    def Data(self):\n",
    "        print(\"I'm in class B\")\n",
    "\n",
    "\n",
    "obj = A()\n",
    "obj.Data()\n",
    "obj = B()\n",
    "obj.Data()"
   ]
  },
  {
   "cell_type": "code",
   "execution_count": 11,
   "metadata": {
    "id": "_21WEz4K2AMv"
   },
   "outputs": [
    {
     "name": "stdout",
     "output_type": "stream",
     "text": [
      "200\n"
     ]
    }
   ],
   "source": [
    "# First product method.\n",
    "# Takes two argument and print their\n",
    "# product\n",
    "def product(a, b):\n",
    "    \n",
    "\tp = a * b\n",
    "    \n",
    "\tprint(p)\n",
    "\t\n",
    "# Second product method\n",
    "# Takes three argument and print their\n",
    "# product\n",
    "def product(a, b, c):\n",
    "\tp = a * b*c\n",
    "\tprint(p)\n",
    "\n",
    "# Uncommenting the below line shows an error\n",
    "\n",
    "product(4, 5,10)\n",
    "\n",
    "# This line will call the second product method\n",
    "#product(4, 5, 5)\n"
   ]
  },
  {
   "cell_type": "code",
   "execution_count": 16,
   "metadata": {},
   "outputs": [
    {
     "name": "stdout",
     "output_type": "stream",
     "text": [
      "Inside Parent\n",
      "Inside Child\n"
     ]
    }
   ],
   "source": [
    "# Python program to demonstrate\n",
    "# method overriding\n",
    "\n",
    "\n",
    "# Defining parent class\n",
    "class Parent():\n",
    "\n",
    "# Constructor\n",
    "\tdef __init__(self):\n",
    "\t\tself.value = \"Inside Parent\"\n",
    "\t\t\n",
    "\t# Parent's show method\n",
    "\tdef show(self):\n",
    "\t\tprint(self.value)\n",
    "\t\t\n",
    "# Defining child class\n",
    "class Child(Parent):\n",
    "\t\n",
    "\t# Constructor\n",
    "\tdef __init__(self):\n",
    "\t\tself.value = \"Inside Child\"\n",
    "\t\t\n",
    "\t# Child's show method\n",
    "\tdef show(self):\n",
    "\t\tprint(self.value)\n",
    "\t\t\n",
    "\t\t\n",
    "# Driver's code\n",
    "obj1 = Parent()\n",
    "obj2 = Child()\n",
    "\n",
    "obj1.show()\n",
    "obj2.show()\n"
   ]
  },
  {
   "cell_type": "code",
   "execution_count": 4,
   "metadata": {},
   "outputs": [
    {
     "name": "stdout",
     "output_type": "stream",
     "text": [
      "Inside Child\n",
      "Inside Parent2\n"
     ]
    }
   ],
   "source": [
    "# Python program to demonstrate\n",
    "# overriding in multiple inheritance\n",
    "\n",
    "\n",
    "# Defining parent class 1\n",
    "class Parent1():\n",
    "\n",
    "# Parent's show method\n",
    "    def show(self):\n",
    "        print(\"Inside Parent1\")\n",
    "\n",
    "# Defining Parent class 2\n",
    "class Parent2():\n",
    "\n",
    "# Parent's show method\n",
    "    def display(self):\n",
    "        print(\"Inside Parent2\")\n",
    "\n",
    "\n",
    "# Defining child class\n",
    "class Child(Parent1, Parent2):\n",
    "\n",
    "# Child's show method\n",
    "    def show(self):\n",
    "        print(\"Inside Child\")\n",
    "\n",
    "\n",
    "# Driver's code\n",
    "obj = Child()\n",
    "\n",
    "obj.show()\n",
    "obj.display()\n"
   ]
  },
  {
   "cell_type": "code",
   "execution_count": 3,
   "metadata": {},
   "outputs": [
    {
     "ename": "TypeError",
     "evalue": "'int' object is not subscriptable",
     "output_type": "error",
     "traceback": [
      "\u001b[1;31m---------------------------------------------------------------------------\u001b[0m",
      "\u001b[1;31mTypeError\u001b[0m                                 Traceback (most recent call last)",
      "\u001b[1;32m<ipython-input-3-1f4b0c6b446c>\u001b[0m in \u001b[0;36m<module>\u001b[1;34m\u001b[0m\n\u001b[0;32m      1\u001b[0m \u001b[0mX_train\u001b[0m \u001b[1;33m=\u001b[0m \u001b[1;36m1\u001b[0m\u001b[1;33m\u001b[0m\u001b[1;33m\u001b[0m\u001b[0m\n\u001b[1;32m----> 2\u001b[1;33m \u001b[0mlen\u001b[0m\u001b[1;33m(\u001b[0m\u001b[0mX_train\u001b[0m\u001b[1;33m[\u001b[0m\u001b[0mX_train\u001b[0m\u001b[1;33m[\u001b[0m\u001b[1;34m\"Age\"\u001b[0m\u001b[1;33m]\u001b[0m \u001b[1;33m<=\u001b[0m \u001b[1;36m42.5\u001b[0m\u001b[1;33m]\u001b[0m\u001b[1;33m)\u001b[0m\u001b[1;33m\u001b[0m\u001b[1;33m\u001b[0m\u001b[0m\n\u001b[0m",
      "\u001b[1;31mTypeError\u001b[0m: 'int' object is not subscriptable"
     ]
    }
   ],
   "source": []
  },
  {
   "cell_type": "markdown",
   "metadata": {},
   "source": [
    "### super()\n",
    "* The super() function is used to give access to methods and properties of a parent or sibling class.\n",
    "\n",
    "* The super() function returns an object that represents the parent class."
   ]
  },
  {
   "cell_type": "code",
   "execution_count": 53,
   "metadata": {},
   "outputs": [
    {
     "name": "stdout",
     "output_type": "stream",
     "text": [
      "Hello, and welcome!\n",
      "Ankit\n"
     ]
    }
   ],
   "source": [
    "class Parent:\n",
    "    def __init__(self, txt,name):# I am defining text\n",
    "        \n",
    "        self.message = txt\n",
    "        self.name = name\n",
    "\n",
    "    def printmessage(self):# I am calling text\n",
    "        \n",
    "        print(self.message)\n",
    "        print(self.name)\n",
    "\n",
    "class Child(Parent):\n",
    "    def age(self, txt,name):\n",
    "        \n",
    "        super()\n",
    "    \n",
    "        \n",
    "\n",
    "obj= Child(\"Hello, and welcome!\",\"Ankit\")\n",
    "\n",
    "\n",
    "obj.printmessage()\n",
    "# obj.age(25)\n",
    "\n"
   ]
  },
  {
   "cell_type": "code",
   "execution_count": 12,
   "metadata": {},
   "outputs": [
    {
     "ename": "NameError",
     "evalue": "name 'rohit' is not defined",
     "output_type": "error",
     "traceback": [
      "\u001b[1;31m---------------------------------------------------------------------------\u001b[0m",
      "\u001b[1;31mNameError\u001b[0m                                 Traceback (most recent call last)",
      "\u001b[1;32m<ipython-input-12-a021672c7aab>\u001b[0m in \u001b[0;36m<module>\u001b[1;34m\u001b[0m\n\u001b[0;32m      4\u001b[0m         \u001b[1;32mdef\u001b[0m \u001b[0mpassion\u001b[0m\u001b[1;33m(\u001b[0m\u001b[0mself\u001b[0m\u001b[1;33m)\u001b[0m\u001b[1;33m:\u001b[0m\u001b[1;33m\u001b[0m\u001b[1;33m\u001b[0m\u001b[0m\n\u001b[0;32m      5\u001b[0m             \u001b[0mprint\u001b[0m\u001b[1;33m(\u001b[0m\u001b[1;34m\"King..\"\u001b[0m\u001b[1;33m)\u001b[0m\u001b[1;33m\u001b[0m\u001b[1;33m\u001b[0m\u001b[0m\n\u001b[1;32m----> 6\u001b[1;33m \u001b[0mobj\u001b[0m \u001b[1;33m=\u001b[0m \u001b[0mhe\u001b[0m\u001b[1;33m(\u001b[0m\u001b[0mrohit\u001b[0m\u001b[1;33m)\u001b[0m\u001b[1;33m\u001b[0m\u001b[1;33m\u001b[0m\u001b[0m\n\u001b[0m\u001b[0;32m      7\u001b[0m \u001b[1;33m\u001b[0m\u001b[0m\n",
      "\u001b[1;31mNameError\u001b[0m: name 'rohit' is not defined"
     ]
    }
   ],
   "source": [
    " "
   ]
  },
  {
   "cell_type": "code",
   "execution_count": 60,
   "metadata": {},
   "outputs": [],
   "source": [
    "class parent:\n",
    "    def __init__(self,text,n):\n",
    "        self.text = text\n",
    "        self.n = n\n",
    "    def message(self):\n",
    "        return f\"the message is {self.text} the number is {self.n}\"\n",
    "                \n",
    "class child(parent):\n",
    "    def test(self):\n",
    "        super()\n",
    "    def ee(self):\n",
    "        print(\"Anything..\")\n"
   ]
  },
  {
   "cell_type": "code",
   "execution_count": 61,
   "metadata": {},
   "outputs": [
    {
     "name": "stdout",
     "output_type": "stream",
     "text": [
      "Anything..\n"
     ]
    }
   ],
   "source": [
    "x = child(\"Aliya\",3)\n",
    "x.message()\n",
    "x.test()\n",
    "x.ee()\n"
   ]
  },
  {
   "cell_type": "markdown",
   "metadata": {},
   "source": [
    "### An example of Hierarchial inheritance\n",
    "\n",
    "### An example of encapsulation\n",
    "\n",
    "### An example of Multi- level inheritance"
   ]
  },
  {
   "cell_type": "markdown",
   "metadata": {},
   "source": [
    "### Significance of __init()__ & self"
   ]
  },
  {
   "cell_type": "markdown",
   "metadata": {},
   "source": [
    "### What are the main features of OOPs?"
   ]
  },
  {
   "cell_type": "markdown",
   "metadata": {},
   "source": [
    "###  What is exception handling?\n",
    "### What is the difference between an error and an exception?\n",
    "### What is the difference between a class and an object?\n",
    "\n"
   ]
  },
  {
   "cell_type": "markdown",
   "metadata": {},
   "source": [
    "### What is significance of try, else, finally,except block?"
   ]
  },
  {
   "cell_type": "code",
   "execution_count": 74,
   "metadata": {},
   "outputs": [
    {
     "name": "stdout",
     "output_type": "stream",
     "text": [
      "21\n",
      "21\n"
     ]
    }
   ],
   "source": [
    "# Python program showing a use\n",
    "# of get() and set() method in\n",
    "# normal function\n",
    "\n",
    "class Geek:\n",
    "\tdef __init__(self, age = 0):\n",
    "\t\tself._age = age\n",
    "\t\n",
    "\t# getter method\n",
    "\tdef get_age(self):\n",
    "\t\treturn self._age\n",
    "\t\n",
    "\t# setter method\n",
    "\tdef set_age(self, x):\n",
    "\t\tself._age = x\n",
    "\n",
    "raj = Geek()\n",
    "\n",
    "# setting the age using setter\n",
    "raj.set_age(21)\n",
    "\n",
    "# retrieving age using getter\n",
    "print(raj.get_age())\n",
    "\n",
    "print(raj._age)\n"
   ]
  },
  {
   "cell_type": "code",
   "execution_count": 107,
   "metadata": {},
   "outputs": [
    {
     "ename": "SyntaxError",
     "evalue": "non-default argument follows default argument (<ipython-input-107-eb1348d2ec86>, line 2)",
     "output_type": "error",
     "traceback": [
      "\u001b[1;36m  File \u001b[1;32m\"<ipython-input-107-eb1348d2ec86>\"\u001b[1;36m, line \u001b[1;32m2\u001b[0m\n\u001b[1;33m    def __init__(self,a = \"Hii..\" ,b ):\u001b[0m\n\u001b[1;37m                 ^\u001b[0m\n\u001b[1;31mSyntaxError\u001b[0m\u001b[1;31m:\u001b[0m non-default argument follows default argument\n"
     ]
    }
   ],
   "source": [
    "class bb:\n",
    "    def __init__(self,a  ,b ):\n",
    "        self.a = a\n",
    "        self.b = b\n",
    "    def mm(self):# getter\n",
    "        print(self.a,self.b)#\n",
    "    def gg(self):# setter\n",
    "        self.b = b\n",
    "     \n",
    "        \n",
    "# Creating a object\n",
    "z = bb(\"bvchv\",23)\n",
    "\n",
    "z.mm()\n",
    "z.gg(25)\n",
    "    \n",
    "    \n",
    "        \n",
    "    "
   ]
  },
  {
   "cell_type": "code",
   "execution_count": 86,
   "metadata": {},
   "outputs": [
    {
     "name": "stdout",
     "output_type": "stream",
     "text": [
      "The name : Hina.\n",
      " The Age : 20.\n"
     ]
    }
   ],
   "source": [
    "class GetSet:\n",
    "    def __init__(self,name,age):\n",
    "        self.name = name\n",
    "        self.age = age\n",
    "    def Getit(self):  #Getter\n",
    "        return f\"The name : {self.name}.\\n The Age : {self.age}.\"\n",
    "    \n",
    "    def Setit(self,x,y):   #Setter\n",
    "        self.name = x\n",
    "        self.age = y\n",
    "        \n",
    "a = GetSet(\"Lina\",20)\n",
    "a.Setit(\"Hina\",20)\n",
    "print(a.Getit())\n"
   ]
  },
  {
   "cell_type": "code",
   "execution_count": 104,
   "metadata": {},
   "outputs": [
    {
     "data": {
      "text/plain": [
       "10"
      ]
     },
     "execution_count": 104,
     "metadata": {},
     "output_type": "execute_result"
    }
   ],
   "source": [
    "a = 10\n",
    "a"
   ]
  },
  {
   "cell_type": "code",
   "execution_count": 105,
   "metadata": {},
   "outputs": [],
   "source": [
    "a\n",
    "a = 11"
   ]
  },
  {
   "cell_type": "code",
   "execution_count": null,
   "metadata": {},
   "outputs": [],
   "source": []
  }
 ],
 "metadata": {
  "colab": {
   "collapsed_sections": [],
   "name": "OOPS.ipynb",
   "provenance": []
  },
  "kernelspec": {
   "display_name": "Python 3",
   "language": "python",
   "name": "python3"
  },
  "language_info": {
   "codemirror_mode": {
    "name": "ipython",
    "version": 3
   },
   "file_extension": ".py",
   "mimetype": "text/x-python",
   "name": "python",
   "nbconvert_exporter": "python",
   "pygments_lexer": "ipython3",
   "version": "3.8.8"
  }
 },
 "nbformat": 4,
 "nbformat_minor": 1
}
