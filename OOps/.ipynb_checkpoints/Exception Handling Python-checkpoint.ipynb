{
 "cells": [
  {
   "cell_type": "markdown",
   "id": "4156f362",
   "metadata": {},
   "source": [
    "# Python Exception Handling"
   ]
  },
  {
   "cell_type": "markdown",
   "id": "626d15d9",
   "metadata": {},
   "source": [
    "* Error in Python can be of two types i.e. Syntax errors and Exceptions\n",
    "* Errors are the problems in a program due to which the program will stop the execution. On the other hand, exceptions are raised when some internal events occur which changes the normal flow of the program."
   ]
  },
  {
   "cell_type": "markdown",
   "id": "5cbfff89",
   "metadata": {},
   "source": [
    "# Difference between Syntax Error and Exceptions"
   ]
  },
  {
   "cell_type": "markdown",
   "id": "52b1c975",
   "metadata": {},
   "source": [
    "*  Syntax Error: As the name suggests this error is caused by the wrong syntax in the code. It leads to the termination of the program."
   ]
  },
  {
   "cell_type": "code",
   "execution_count": 1,
   "id": "1a4d1cc3",
   "metadata": {},
   "outputs": [
    {
     "ename": "SyntaxError",
     "evalue": "invalid syntax (<ipython-input-1-8d94ddc68478>, line 6)",
     "output_type": "error",
     "traceback": [
      "\u001b[1;36m  File \u001b[1;32m\"<ipython-input-1-8d94ddc68478>\"\u001b[1;36m, line \u001b[1;32m6\u001b[0m\n\u001b[1;33m    if(amount > 2999)\u001b[0m\n\u001b[1;37m                     ^\u001b[0m\n\u001b[1;31mSyntaxError\u001b[0m\u001b[1;31m:\u001b[0m invalid syntax\n"
     ]
    }
   ],
   "source": [
    "# initialize the amount variable\n",
    "amount = 10000\n",
    "\n",
    "# check that You are eligible to\n",
    "# purchase Dsa Self Paced or not\n",
    "if(amount > 2999)\n",
    "print(\"You are eligible to purchase Dsa Self Paced\")\n"
   ]
  },
  {
   "cell_type": "markdown",
   "id": "59a5c6b9",
   "metadata": {},
   "source": [
    "* Exceptions: Exceptions are raised when the program is syntactically correct, but the code resulted in an error. This error does not stop the execution of the program, however, it changes the normal flow of the program."
   ]
  },
  {
   "cell_type": "code",
   "execution_count": 2,
   "id": "37f965e9",
   "metadata": {},
   "outputs": [
    {
     "ename": "ZeroDivisionError",
     "evalue": "division by zero",
     "output_type": "error",
     "traceback": [
      "\u001b[1;31m---------------------------------------------------------------------------\u001b[0m",
      "\u001b[1;31mZeroDivisionError\u001b[0m                         Traceback (most recent call last)",
      "\u001b[1;32m<ipython-input-2-5f312778a383>\u001b[0m in \u001b[0;36m<module>\u001b[1;34m\u001b[0m\n\u001b[0;32m      3\u001b[0m \u001b[1;33m\u001b[0m\u001b[0m\n\u001b[0;32m      4\u001b[0m \u001b[1;31m# perform division with 0\u001b[0m\u001b[1;33m\u001b[0m\u001b[1;33m\u001b[0m\u001b[1;33m\u001b[0m\u001b[0m\n\u001b[1;32m----> 5\u001b[1;33m \u001b[0ma\u001b[0m \u001b[1;33m=\u001b[0m \u001b[0mmarks\u001b[0m \u001b[1;33m/\u001b[0m \u001b[1;36m0\u001b[0m\u001b[1;33m\u001b[0m\u001b[1;33m\u001b[0m\u001b[0m\n\u001b[0m\u001b[0;32m      6\u001b[0m \u001b[0mprint\u001b[0m\u001b[1;33m(\u001b[0m\u001b[0ma\u001b[0m\u001b[1;33m)\u001b[0m\u001b[1;33m\u001b[0m\u001b[1;33m\u001b[0m\u001b[0m\n",
      "\u001b[1;31mZeroDivisionError\u001b[0m: division by zero"
     ]
    }
   ],
   "source": [
    "# initialize the amount variable\n",
    "marks = 10000\n",
    "\n",
    "# perform division with 0\n",
    "a = marks / 0\n",
    "print(a)\n"
   ]
  },
  {
   "cell_type": "code",
   "execution_count": 3,
   "id": "27826674",
   "metadata": {},
   "outputs": [],
   "source": [
    "# In the above example raised the Zero Division Error as we are trying to divide a number by 0."
   ]
  },
  {
   "cell_type": "markdown",
   "id": "dc52fecc",
   "metadata": {},
   "source": [
    "# Try and Except Statement – Catching Exceptions\n",
    "* Try and except statements are used to catch and handle exceptions in Python. \n",
    "* Statements that can raise exceptions are kept inside the try clause and the statements that handle the exception are written inside except clause."
   ]
  },
  {
   "cell_type": "code",
   "execution_count": 2,
   "id": "75f2a946",
   "metadata": {},
   "outputs": [
    {
     "name": "stdout",
     "output_type": "stream",
     "text": [
      "2\n",
      "An error occurred\n"
     ]
    }
   ],
   "source": [
    "# Python program to handle simple runtime error\n",
    "#Python 3\n",
    "\n",
    "a = [1, 2, 3]\n",
    "try:\n",
    "    print (a[1])\n",
    "\n",
    "# Throws error since there are only 3 elements in array\n",
    "    print (a[-8])\n",
    "\n",
    "except:\n",
    "    print (\"An error occurred\")\n"
   ]
  },
  {
   "cell_type": "markdown",
   "id": "20d8aff4",
   "metadata": {},
   "source": [
    "* In the above example, the statements that can cause the error are placed inside the try statement (second print statement in our case). \n",
    "* The second print statement tries to access the fourth element of the list which is not there and this throws an exception. "
   ]
  },
  {
   "cell_type": "markdown",
   "id": "2df01f66",
   "metadata": {},
   "source": [
    "# Catching Specific Exception\n",
    "* A try statement can have more than one except clause, to specify handlers for different exceptions. * Please note that at most one handler will be executed. "
   ]
  },
  {
   "cell_type": "code",
   "execution_count": 6,
   "id": "0a9aa145",
   "metadata": {},
   "outputs": [
    {
     "ename": "IndentationError",
     "evalue": "expected an indented block (<ipython-input-6-8007121af987>, line 4)",
     "output_type": "error",
     "traceback": [
      "\u001b[1;36m  File \u001b[1;32m\"<ipython-input-6-8007121af987>\"\u001b[1;36m, line \u001b[1;32m4\u001b[0m\n\u001b[1;33m    except IndexError:\u001b[0m\n\u001b[1;37m    ^\u001b[0m\n\u001b[1;31mIndentationError\u001b[0m\u001b[1;31m:\u001b[0m expected an indented block\n"
     ]
    }
   ],
   "source": [
    "#  The general syntax for adding specific exceptions are\n",
    "try:\n",
    "    # statement(s)\n",
    "except IndexError:\n",
    "    # statement(s) \n",
    "except ValueError:\n",
    "    # statement(s) "
   ]
  },
  {
   "cell_type": "code",
   "execution_count": 6,
   "id": "58809f7f",
   "metadata": {},
   "outputs": [
    {
     "name": "stdout",
     "output_type": "stream",
     "text": [
      "Value of b =  -2.0\n",
      "ZeroDivisionError Occurred and Handled\n"
     ]
    }
   ],
   "source": [
    "# Program to handle multiple errors with one\n",
    "# except statement\n",
    "# Python 3\n",
    "\n",
    "def fun(a):\n",
    "    if a < 4:\n",
    "# throws ZeroDivisionError for a = 3\n",
    "        b = a/(a-3)\n",
    "# throws NameError if a >= 4\n",
    "    print(\"Value of b = \", b)\n",
    "\n",
    "try:\n",
    "    #fun(5) # try to comment this line<----------\n",
    "    fun(2) \n",
    "    fun(3)\n",
    "\n",
    "# note that braces () are necessary here for\n",
    "# multiple exceptions\n",
    "except ZeroDivisionError:\n",
    "    print(\"ZeroDivisionError Occurred and Handled\")\n",
    "except NameError:\n",
    "    print(\"NameError Occurred and Handled\")\n"
   ]
  },
  {
   "cell_type": "markdown",
   "id": "53c6a03b",
   "metadata": {},
   "source": [
    "# Try with Else Clause\n",
    "* In python, you can also use the else clause on the try-except block which must be present after all the except clauses. \n",
    "* The code enters the else block only if the try clause does not raise an exception."
   ]
  },
  {
   "cell_type": "code",
   "execution_count": 18,
   "id": "e2faed1d",
   "metadata": {},
   "outputs": [
    {
     "name": "stdout",
     "output_type": "stream",
     "text": [
      "-5.0\n",
      "a/b result in 0\n"
     ]
    }
   ],
   "source": [
    "# Program to depict else clause with try-except\n",
    "# Python 3\n",
    "# Function which returns a/b\n",
    "def AbyB(a , b):\n",
    "    try:\n",
    "        c = ((a+b) / (a-b))\n",
    "    except ZeroDivisionError:\n",
    "        print (\"a/b result in 0\")\n",
    "    else:\n",
    "        print (c)\n",
    "\n",
    "# Driver program to test above function\n",
    "AbyB(2.0, 3.0)\n",
    "AbyB(3.0, 3.0)\n"
   ]
  },
  {
   "cell_type": "code",
   "execution_count": 9,
   "id": "d3775d88",
   "metadata": {},
   "outputs": [
    {
     "name": "stdout",
     "output_type": "stream",
     "text": [
      "10\n"
     ]
    }
   ],
   "source": [
    "a = 10\n",
    "print(a)"
   ]
  },
  {
   "cell_type": "markdown",
   "id": "9aa5930c",
   "metadata": {},
   "source": [
    "# Finally Keyword in Python\n",
    "* Python provides a keyword finally, which is always executed after the try and except blocks.\n",
    "* The final block always executes after normal termination of try block or after try block terminates due to some exception."
   ]
  },
  {
   "cell_type": "code",
   "execution_count": 14,
   "id": "bee42115",
   "metadata": {},
   "outputs": [
    {
     "ename": "IndentationError",
     "evalue": "expected an indented block (<ipython-input-14-b01aa075331d>, line 4)",
     "output_type": "error",
     "traceback": [
      "\u001b[1;36m  File \u001b[1;32m\"<ipython-input-14-b01aa075331d>\"\u001b[1;36m, line \u001b[1;32m4\u001b[0m\n\u001b[1;33m    except:\u001b[0m\n\u001b[1;37m    ^\u001b[0m\n\u001b[1;31mIndentationError\u001b[0m\u001b[1;31m:\u001b[0m expected an indented block\n"
     ]
    }
   ],
   "source": [
    "# Syntax\n",
    "try:\n",
    "    # Some Code.... \n",
    "\n",
    "except:\n",
    "    # optional block\n",
    "    # Handling of exception (if required)\n",
    "\n",
    "else:\n",
    "    # execute if no exception\n",
    "\n",
    "finally:\n",
    "    # Some code .....(always executed)"
   ]
  },
  {
   "cell_type": "code",
   "execution_count": 11,
   "id": "6a0e6ab2",
   "metadata": {},
   "outputs": [
    {
     "name": "stdout",
     "output_type": "stream",
     "text": [
      "5\n",
      "This is always executed\n"
     ]
    }
   ],
   "source": [
    "# Python program to demonstrate finally\n",
    "\n",
    "# No exception Exception raised in try block\n",
    "try:\n",
    "    k = 5//1 # raises divide by zero exception.\n",
    "    print(k)\n",
    "\n",
    "# handles zerodivision exception\n",
    "except ZeroDivisionError:\n",
    "    print(\"Can't divide by zero\")\n",
    "\n",
    "finally:\n",
    "# this block is always executed\n",
    "# regardless of exception generation.\n",
    "   print('This is always executed')\n"
   ]
  },
  {
   "cell_type": "markdown",
   "id": "706c2b66",
   "metadata": {},
   "source": [
    "# Raising Exception"
   ]
  },
  {
   "cell_type": "markdown",
   "id": "32de2382",
   "metadata": {},
   "source": [
    "* The raise statement allows the programmer to force a specific exception to occur. The sole argument in raise indicates the exception to be raised. This must be either an exception instance or an exception class "
   ]
  },
  {
   "cell_type": "code",
   "execution_count": 12,
   "id": "6095c863",
   "metadata": {},
   "outputs": [
    {
     "name": "stdout",
     "output_type": "stream",
     "text": [
      "An exception\n"
     ]
    },
    {
     "ename": "NameError",
     "evalue": "Hi there",
     "output_type": "error",
     "traceback": [
      "\u001b[1;31m---------------------------------------------------------------------------\u001b[0m",
      "\u001b[1;31mNameError\u001b[0m                                 Traceback (most recent call last)",
      "\u001b[1;32m<ipython-input-12-23e59b0f9c23>\u001b[0m in \u001b[0;36m<module>\u001b[1;34m\u001b[0m\n\u001b[0;32m      2\u001b[0m \u001b[1;33m\u001b[0m\u001b[0m\n\u001b[0;32m      3\u001b[0m \u001b[1;32mtry\u001b[0m\u001b[1;33m:\u001b[0m\u001b[1;33m\u001b[0m\u001b[1;33m\u001b[0m\u001b[0m\n\u001b[1;32m----> 4\u001b[1;33m     \u001b[1;32mraise\u001b[0m \u001b[0mNameError\u001b[0m\u001b[1;33m(\u001b[0m\u001b[1;34m\"Hi there\"\u001b[0m\u001b[1;33m)\u001b[0m \u001b[1;31m# Raise Error\u001b[0m\u001b[1;33m\u001b[0m\u001b[1;33m\u001b[0m\u001b[0m\n\u001b[0m\u001b[0;32m      5\u001b[0m \u001b[1;32mexcept\u001b[0m \u001b[0mNameError\u001b[0m\u001b[1;33m:\u001b[0m\u001b[1;33m\u001b[0m\u001b[1;33m\u001b[0m\u001b[0m\n\u001b[0;32m      6\u001b[0m     \u001b[0mprint\u001b[0m \u001b[1;33m(\u001b[0m\u001b[1;34m\"An exception\"\u001b[0m\u001b[1;33m)\u001b[0m\u001b[1;33m\u001b[0m\u001b[1;33m\u001b[0m\u001b[0m\n",
      "\u001b[1;31mNameError\u001b[0m: Hi there"
     ]
    }
   ],
   "source": [
    "# Program to depict Raising Exception\n",
    "\n",
    "try:\n",
    "    raise NameError(\"Hi there\") # Raise Error\n",
    "except NameError:\n",
    "    print (\"An exception\")\n",
    "    raise # To determine whether the exception was raised or not\n"
   ]
  },
  {
   "cell_type": "markdown",
   "id": "7d0d73e7",
   "metadata": {},
   "source": [
    "### The output of the above code will simply line printed as “An exception” but a Runtime error will also occur in the last due to the raise statement in the last line"
   ]
  },
  {
   "cell_type": "markdown",
   "id": "df11ada0",
   "metadata": {},
   "source": [
    "# Interview questions.."
   ]
  },
  {
   "cell_type": "markdown",
   "id": "d1ec30a4",
   "metadata": {},
   "source": [
    "# 1. What do you mean by an exception?\n",
    "\n",
    "* It is an abnormal condition that is sometimes encountered when a program is executed. It disrupts the normal flow of the program. It is necessary to handle this exception; otherwise,it can cause the program to be terminated abruptly."
   ]
  },
  {
   "cell_type": "markdown",
   "id": "04f26375",
   "metadata": {},
   "source": [
    "# 2. Explain how exceptions can be handled in python. What is the exception handling mechanism behind the process?\n",
    "\n",
    "* There are three parts to the exception handling mechanism. These are called:\n",
    "\n",
    "Try block: The section of the code which is first attempted to be executed and monitored for any exception that might occur. \n",
    "Except block: If any exception is thrown by the ‘try’ block, it is caught by this code section. \n",
    "* Finally block: Code under this section is always executed irrespective of exceptions caught in ‘try’ block, if any. Even if there is no exception, the code under this block will be executed. "
   ]
  },
  {
   "cell_type": "markdown",
   "id": "7f7eb5a7",
   "metadata": {},
   "source": [
    "# 3.  Is it possible to keep other statements in between ‘try’, ‘except’, and ‘finally’ blocks?\n",
    "\n",
    "* It is not recommended to include any statements between the sections of  ‘try’, ‘catch’, and ‘finally’ blocks, since they form one whole unit of the exception handling mechanism. "
   ]
  },
  {
   "cell_type": "markdown",
   "id": "9d1d2cd7",
   "metadata": {},
   "source": [
    "# 4.  Will it be possible to only include a ‘try’ block without the ‘except’ and ‘finally’ blocks?\n",
    "\n",
    "This would give a compilation error. It is necessary for the ‘try’ block to be followed with either a ‘except’ block or a ‘finally’ block, if not both. Either one of ‘except’ or ‘finally’ blocks is needed so that the flow of exception handling is undisrupted. "
   ]
  },
  {
   "cell_type": "markdown",
   "id": "ebe0e795",
   "metadata": {},
   "source": [
    "# 5. Will it be possible to keep the statements after the ‘finally’ block if the control is returning from the finally block itself?\n",
    "\n",
    "This will result in an unreachable catch block error. This is because the control will be returning from the ‘finally’ block itself. The compiler will fail to execute the code after the line with the exception. That is why the execution will show an unreachable code error"
   ]
  },
  {
   "cell_type": "markdown",
   "id": "f6ccbdee",
   "metadata": {},
   "source": [
    "# 6. Does the ‘finally’ block get executed if either of ‘try’ or ‘catch’ blocks return the control?\n",
    "\n",
    "The ‘finally’ block is always executed irrespective of whether try or catch blocks are returning the control or not."
   ]
  },
  {
   "cell_type": "code",
   "execution_count": null,
   "id": "e026471e",
   "metadata": {},
   "outputs": [],
   "source": [
    " "
   ]
  }
 ],
 "metadata": {
  "kernelspec": {
   "display_name": "Python 3",
   "language": "python",
   "name": "python3"
  },
  "language_info": {
   "codemirror_mode": {
    "name": "ipython",
    "version": 3
   },
   "file_extension": ".py",
   "mimetype": "text/x-python",
   "name": "python",
   "nbconvert_exporter": "python",
   "pygments_lexer": "ipython3",
   "version": "3.8.8"
  }
 },
 "nbformat": 4,
 "nbformat_minor": 5
}
