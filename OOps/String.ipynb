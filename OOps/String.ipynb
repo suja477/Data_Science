{
 "cells": [
  {
   "cell_type": "code",
   "execution_count": 5,
   "id": "f3f2227a",
   "metadata": {},
   "outputs": [],
   "source": [
    "a=\"Akshay\"\n"
   ]
  },
  {
   "cell_type": "code",
   "execution_count": 6,
   "id": "b4ad4971",
   "metadata": {},
   "outputs": [
    {
     "ename": "ValueError",
     "evalue": "invalid literal for int() with base 10: 'Akshay'",
     "output_type": "error",
     "traceback": [
      "\u001b[1;31m---------------------------------------------------------------------------\u001b[0m",
      "\u001b[1;31mValueError\u001b[0m                                Traceback (most recent call last)",
      "Cell \u001b[1;32mIn [6], line 1\u001b[0m\n\u001b[1;32m----> 1\u001b[0m a1\u001b[38;5;241m=\u001b[39m\u001b[38;5;28;43mint\u001b[39;49m\u001b[43m(\u001b[49m\u001b[43ma\u001b[49m\u001b[43m)\u001b[49m\n",
      "\u001b[1;31mValueError\u001b[0m: invalid literal for int() with base 10: 'Akshay'"
     ]
    }
   ],
   "source": [
    "a1=int(a)"
   ]
  },
  {
   "cell_type": "markdown",
   "id": "646b51bd",
   "metadata": {},
   "source": [
    "# string indexing and Slicing "
   ]
  },
  {
   "cell_type": "code",
   "execution_count": 7,
   "id": "51552f93",
   "metadata": {},
   "outputs": [
    {
     "data": {
      "text/plain": [
       "'A'"
      ]
     },
     "execution_count": 7,
     "metadata": {},
     "output_type": "execute_result"
    }
   ],
   "source": [
    "a[0]"
   ]
  },
  {
   "cell_type": "code",
   "execution_count": 8,
   "id": "6a5958a4",
   "metadata": {},
   "outputs": [
    {
     "data": {
      "text/plain": [
       "'a'"
      ]
     },
     "execution_count": 8,
     "metadata": {},
     "output_type": "execute_result"
    }
   ],
   "source": [
    "a[-2]"
   ]
  },
  {
   "cell_type": "code",
   "execution_count": 9,
   "id": "d2f5c125",
   "metadata": {},
   "outputs": [
    {
     "data": {
      "text/plain": [
       "'Akshay'"
      ]
     },
     "execution_count": 9,
     "metadata": {},
     "output_type": "execute_result"
    }
   ],
   "source": [
    "a[:]"
   ]
  },
  {
   "cell_type": "code",
   "execution_count": 12,
   "id": "d208969f",
   "metadata": {},
   "outputs": [
    {
     "data": {
      "text/plain": [
       "'Aksh'"
      ]
     },
     "execution_count": 12,
     "metadata": {},
     "output_type": "execute_result"
    }
   ],
   "source": [
    "a[:-2]"
   ]
  },
  {
   "cell_type": "code",
   "execution_count": 13,
   "id": "44f9669e",
   "metadata": {},
   "outputs": [
    {
     "data": {
      "text/plain": [
       "'shay'"
      ]
     },
     "execution_count": 13,
     "metadata": {},
     "output_type": "execute_result"
    }
   ],
   "source": [
    "a[2:]"
   ]
  },
  {
   "cell_type": "markdown",
   "id": "b114cdc8",
   "metadata": {},
   "source": [
    "# String formatting"
   ]
  },
  {
   "cell_type": "code",
   "execution_count": 14,
   "id": "4364303f",
   "metadata": {},
   "outputs": [],
   "source": [
    "a='{},{},{}'.format(11.23,45,True)"
   ]
  },
  {
   "cell_type": "code",
   "execution_count": 15,
   "id": "7ced2b3c",
   "metadata": {},
   "outputs": [
    {
     "data": {
      "text/plain": [
       "'11.23,45,True'"
      ]
     },
     "execution_count": 15,
     "metadata": {},
     "output_type": "execute_result"
    }
   ],
   "source": [
    "a"
   ]
  },
  {
   "cell_type": "code",
   "execution_count": 19,
   "id": "51a7a9ed",
   "metadata": {},
   "outputs": [],
   "source": [
    "a='{0},{2},{1}'.format(11.23,45,True)"
   ]
  },
  {
   "cell_type": "code",
   "execution_count": 20,
   "id": "22f59b9a",
   "metadata": {},
   "outputs": [
    {
     "data": {
      "text/plain": [
       "'11.23,True,45'"
      ]
     },
     "execution_count": 20,
     "metadata": {},
     "output_type": "execute_result"
    }
   ],
   "source": [
    "a"
   ]
  },
  {
   "cell_type": "code",
   "execution_count": 21,
   "id": "bcb60c32",
   "metadata": {},
   "outputs": [],
   "source": [
    "a='{a},{b},{a}'.format(a=11.23,b=45,c=True)"
   ]
  },
  {
   "cell_type": "code",
   "execution_count": 22,
   "id": "97d288b8",
   "metadata": {},
   "outputs": [
    {
     "data": {
      "text/plain": [
       "'11.23,45,11.23'"
      ]
     },
     "execution_count": 22,
     "metadata": {},
     "output_type": "execute_result"
    }
   ],
   "source": [
    "a"
   ]
  },
  {
   "cell_type": "code",
   "execution_count": null,
   "id": "640c7631",
   "metadata": {},
   "outputs": [],
   "source": []
  }
 ],
 "metadata": {
  "kernelspec": {
   "display_name": "Python 3 (ipykernel)",
   "language": "python",
   "name": "python3"
  },
  "language_info": {
   "codemirror_mode": {
    "name": "ipython",
    "version": 3
   },
   "file_extension": ".py",
   "mimetype": "text/x-python",
   "name": "python",
   "nbconvert_exporter": "python",
   "pygments_lexer": "ipython3",
   "version": "3.9.15"
  }
 },
 "nbformat": 4,
 "nbformat_minor": 5
}
