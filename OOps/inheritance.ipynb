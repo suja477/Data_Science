{
 "cells": [
  {
   "cell_type": "markdown",
   "id": "ff8706d9",
   "metadata": {},
   "source": [
    "Single inheritance"
   ]
  },
  {
   "cell_type": "code",
   "execution_count": 6,
   "id": "b94f30df",
   "metadata": {},
   "outputs": [],
   "source": [
    "class parent1:\n",
    "    def a1(ww):\n",
    "        print(\"Mother\")\n",
    "class child(parent1):\n",
    "    def a3(ww):\n",
    "        print(\"child\")\n"
   ]
  },
  {
   "cell_type": "code",
   "execution_count": 8,
   "id": "d0bb9e32",
   "metadata": {},
   "outputs": [
    {
     "name": "stdout",
     "output_type": "stream",
     "text": [
      "Mother\n",
      "child\n"
     ]
    }
   ],
   "source": [
    "ab=child()\n",
    "ab.a1()\n",
    "\n",
    "ab.a3()"
   ]
  },
  {
   "cell_type": "markdown",
   "id": "a7b814c7",
   "metadata": {},
   "source": [
    "Multi level inheritance"
   ]
  },
  {
   "cell_type": "code",
   "execution_count": 10,
   "id": "fe85e112",
   "metadata": {},
   "outputs": [
    {
     "name": "stdout",
     "output_type": "stream",
     "text": [
      "grand father\n",
      "father\n",
      "child\n"
     ]
    }
   ],
   "source": [
    "class Grandfather:\n",
    "    def a1(ww):\n",
    "        print(\"grand father\")\n",
    "class Father(Grandfather):\n",
    "    def a2(ww):\n",
    "        print(\"father\")\n",
    "class child(Father):\n",
    "    def a3(ww):\n",
    "        print(\"child\")\n",
    "\n",
    "ab= child()\n",
    "ab.a1()\n",
    "ab.a2()\n",
    "ab.a3()"
   ]
  },
  {
   "cell_type": "markdown",
   "id": "983bf2d2",
   "metadata": {},
   "source": [
    "Multiple inheritance"
   ]
  },
  {
   "cell_type": "code",
   "execution_count": 5,
   "id": "1307239a",
   "metadata": {},
   "outputs": [
    {
     "name": "stdout",
     "output_type": "stream",
     "text": [
      "Mother\n",
      "Father\n",
      "child\n"
     ]
    }
   ],
   "source": [
    "class parent1:\n",
    "    def a1(ww):\n",
    "        print(\"Mother\")\n",
    "class parent2:\n",
    "    def a2(ww):\n",
    "        print(\"Father\")\n",
    "        \n",
    "class child(parent1,parent2):\n",
    "    def a3(ww):\n",
    "        print(\"child\")\n",
    "\n",
    "ab=child()\n",
    "ab.a1()\n",
    "ab.a2()\n",
    "ab.a3()"
   ]
  },
  {
   "cell_type": "markdown",
   "id": "aa4fa6ec",
   "metadata": {},
   "source": [
    "Heirarchical inheritance"
   ]
  },
  {
   "cell_type": "code",
   "execution_count": 11,
   "id": "e3e29c95",
   "metadata": {},
   "outputs": [
    {
     "name": "stdout",
     "output_type": "stream",
     "text": [
      "Mother\n",
      "child2\n"
     ]
    }
   ],
   "source": [
    "class parent1:\n",
    "    def a1(ww):\n",
    "        print(\"Mother\")\n",
    "class child1:\n",
    "    def a2(ww):\n",
    "        print(\"child1\")\n",
    "        \n",
    "class child2(parent1,parent2):\n",
    "    def a3(ww):\n",
    "        print(\"child2\")\n",
    "\n",
    "ab=child2()\n",
    "ab.a1()\n",
    "\n",
    "ab.a3()"
   ]
  },
  {
   "cell_type": "code",
   "execution_count": null,
   "id": "1fea09bf",
   "metadata": {},
   "outputs": [],
   "source": []
  },
  {
   "cell_type": "code",
   "execution_count": null,
   "id": "29437d0e",
   "metadata": {},
   "outputs": [],
   "source": []
  }
 ],
 "metadata": {
  "kernelspec": {
   "display_name": "Python 3 (ipykernel)",
   "language": "python",
   "name": "python3"
  },
  "language_info": {
   "codemirror_mode": {
    "name": "ipython",
    "version": 3
   },
   "file_extension": ".py",
   "mimetype": "text/x-python",
   "name": "python",
   "nbconvert_exporter": "python",
   "pygments_lexer": "ipython3",
   "version": "3.9.15"
  }
 },
 "nbformat": 4,
 "nbformat_minor": 5
}
