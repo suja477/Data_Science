{
 "cells": [
  {
   "cell_type": "code",
   "execution_count": 20,
   "id": "9f8602a2",
   "metadata": {},
   "outputs": [
    {
     "name": "stdout",
     "output_type": "stream",
     "text": [
      "10\n",
      "10\n",
      "angle°\n"
     ]
    }
   ],
   "source": [
    "# Enter your code here. Read input from STDIN. Print output to STDOUT\n",
    "import math\n",
    "\n",
    "a=int(input())\n",
    "b=int(input())\n",
    "inv_tan1 =math.degrees( math.atan(a/b))\n",
    "angle=90-inv_tan1\n",
    "print(u\"angle\\u00b0\") "
   ]
  },
  {
   "cell_type": "code",
   "execution_count": 17,
   "id": "f5d43aa8",
   "metadata": {},
   "outputs": [
    {
     "data": {
      "text/plain": [
       "0.7853981633974483"
      ]
     },
     "execution_count": 17,
     "metadata": {},
     "output_type": "execute_result"
    }
   ],
   "source": [
    "import numpy as np\n",
    "np.arctan(1)"
   ]
  },
  {
   "cell_type": "code",
   "execution_count": null,
   "id": "a0c68119",
   "metadata": {},
   "outputs": [],
   "source": [
    "12\n",
    "34\n",
    "\n"
   ]
  }
 ],
 "metadata": {
  "kernelspec": {
   "display_name": "Python 3 (ipykernel)",
   "language": "python",
   "name": "python3"
  },
  "language_info": {
   "codemirror_mode": {
    "name": "ipython",
    "version": 3
   },
   "file_extension": ".py",
   "mimetype": "text/x-python",
   "name": "python",
   "nbconvert_exporter": "python",
   "pygments_lexer": "ipython3",
   "version": "3.9.12"
  }
 },
 "nbformat": 4,
 "nbformat_minor": 5
}
