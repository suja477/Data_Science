{
 "cells": [
  {
   "cell_type": "markdown",
   "id": "23b1ce2a",
   "metadata": {},
   "source": [
    "# 3.)If customer is not eligible for the input required amount and duration:\n",
    "\n",
    "# a.)what can be amount for the given duration.(Regression)\n",
    "1.create a regression model to predict loan amount .\n",
    "2.use the earlier predicted data and predict the loan amount for all customers with \n",
    "loan_status=\"N\""
   ]
  },
  {
   "cell_type": "code",
   "execution_count": 1,
   "id": "1118048e",
   "metadata": {},
   "outputs": [],
   "source": [
    "import pandas as pd"
   ]
  },
  {
   "cell_type": "code",
   "execution_count": 2,
   "id": "e8887a5b",
   "metadata": {},
   "outputs": [],
   "source": [
    "import pandas as pd\n",
    "A=pd.read_csv(\"C:/Users/Suja4/OneDrive/Documents/Data Science/Loan_project/training_set.csv\")\n",
    "B=pd.read_csv(\"C:/Users/Suja4/OneDrive/Documents/Data Science/Dataset/submission_loan_1.csv\")\n",
    "B=B[(B.Loan_Status ==\"N\")]"
   ]
  },
  {
   "cell_type": "code",
   "execution_count": 3,
   "id": "4ae4422d",
   "metadata": {},
   "outputs": [
    {
     "data": {
      "text/plain": [
       "(62, 14)"
      ]
     },
     "execution_count": 3,
     "metadata": {},
     "output_type": "execute_result"
    }
   ],
   "source": [
    "B.shape"
   ]
  },
  {
   "cell_type": "code",
   "execution_count": 4,
   "id": "e3a01e5a",
   "metadata": {},
   "outputs": [
    {
     "data": {
      "text/html": [
       "<div>\n",
       "<style scoped>\n",
       "    .dataframe tbody tr th:only-of-type {\n",
       "        vertical-align: middle;\n",
       "    }\n",
       "\n",
       "    .dataframe tbody tr th {\n",
       "        vertical-align: top;\n",
       "    }\n",
       "\n",
       "    .dataframe thead th {\n",
       "        text-align: right;\n",
       "    }\n",
       "</style>\n",
       "<table border=\"1\" class=\"dataframe\">\n",
       "  <thead>\n",
       "    <tr style=\"text-align: right;\">\n",
       "      <th></th>\n",
       "      <th>Loan_ID</th>\n",
       "      <th>Gender</th>\n",
       "      <th>Married</th>\n",
       "      <th>Dependents</th>\n",
       "      <th>Education</th>\n",
       "      <th>Self_Employed</th>\n",
       "      <th>ApplicantIncome</th>\n",
       "      <th>CoapplicantIncome</th>\n",
       "      <th>LoanAmount</th>\n",
       "      <th>Loan_Amount_Term</th>\n",
       "      <th>Credit_History</th>\n",
       "      <th>Property_Area</th>\n",
       "      <th>Loan_Status</th>\n",
       "    </tr>\n",
       "  </thead>\n",
       "  <tbody>\n",
       "    <tr>\n",
       "      <th>0</th>\n",
       "      <td>LP001002</td>\n",
       "      <td>Male</td>\n",
       "      <td>No</td>\n",
       "      <td>0</td>\n",
       "      <td>Graduate</td>\n",
       "      <td>No</td>\n",
       "      <td>5849.0</td>\n",
       "      <td>0.0</td>\n",
       "      <td>NaN</td>\n",
       "      <td>360.0</td>\n",
       "      <td>1.0</td>\n",
       "      <td>Urban</td>\n",
       "      <td>Y</td>\n",
       "    </tr>\n",
       "    <tr>\n",
       "      <th>1</th>\n",
       "      <td>LP001003</td>\n",
       "      <td>Male</td>\n",
       "      <td>Yes</td>\n",
       "      <td>1</td>\n",
       "      <td>Graduate</td>\n",
       "      <td>No</td>\n",
       "      <td>NaN</td>\n",
       "      <td>1508.0</td>\n",
       "      <td>128.0</td>\n",
       "      <td>360.0</td>\n",
       "      <td>1.0</td>\n",
       "      <td>Rural</td>\n",
       "      <td>N</td>\n",
       "    </tr>\n",
       "    <tr>\n",
       "      <th>2</th>\n",
       "      <td>LP001005</td>\n",
       "      <td>Male</td>\n",
       "      <td>Yes</td>\n",
       "      <td>0</td>\n",
       "      <td>Graduate</td>\n",
       "      <td>Yes</td>\n",
       "      <td>3000.0</td>\n",
       "      <td>0.0</td>\n",
       "      <td>66.0</td>\n",
       "      <td>360.0</td>\n",
       "      <td>1.0</td>\n",
       "      <td>Urban</td>\n",
       "      <td>Y</td>\n",
       "    </tr>\n",
       "    <tr>\n",
       "      <th>3</th>\n",
       "      <td>LP001006</td>\n",
       "      <td>Male</td>\n",
       "      <td>Yes</td>\n",
       "      <td>0</td>\n",
       "      <td>Not Graduate</td>\n",
       "      <td>No</td>\n",
       "      <td>2583.0</td>\n",
       "      <td>2358.0</td>\n",
       "      <td>120.0</td>\n",
       "      <td>360.0</td>\n",
       "      <td>1.0</td>\n",
       "      <td>Urban</td>\n",
       "      <td>Y</td>\n",
       "    </tr>\n",
       "    <tr>\n",
       "      <th>4</th>\n",
       "      <td>LP001008</td>\n",
       "      <td>Male</td>\n",
       "      <td>No</td>\n",
       "      <td>0</td>\n",
       "      <td>Graduate</td>\n",
       "      <td>No</td>\n",
       "      <td>6000.0</td>\n",
       "      <td>0.0</td>\n",
       "      <td>141.0</td>\n",
       "      <td>360.0</td>\n",
       "      <td>1.0</td>\n",
       "      <td>Urban</td>\n",
       "      <td>Y</td>\n",
       "    </tr>\n",
       "    <tr>\n",
       "      <th>...</th>\n",
       "      <td>...</td>\n",
       "      <td>...</td>\n",
       "      <td>...</td>\n",
       "      <td>...</td>\n",
       "      <td>...</td>\n",
       "      <td>...</td>\n",
       "      <td>...</td>\n",
       "      <td>...</td>\n",
       "      <td>...</td>\n",
       "      <td>...</td>\n",
       "      <td>...</td>\n",
       "      <td>...</td>\n",
       "      <td>...</td>\n",
       "    </tr>\n",
       "    <tr>\n",
       "      <th>609</th>\n",
       "      <td>LP002978</td>\n",
       "      <td>Female</td>\n",
       "      <td>No</td>\n",
       "      <td>0</td>\n",
       "      <td>Graduate</td>\n",
       "      <td>No</td>\n",
       "      <td>2900.0</td>\n",
       "      <td>0.0</td>\n",
       "      <td>71.0</td>\n",
       "      <td>360.0</td>\n",
       "      <td>1.0</td>\n",
       "      <td>Rural</td>\n",
       "      <td>Y</td>\n",
       "    </tr>\n",
       "    <tr>\n",
       "      <th>610</th>\n",
       "      <td>LP002979</td>\n",
       "      <td>Male</td>\n",
       "      <td>Yes</td>\n",
       "      <td>3+</td>\n",
       "      <td>Graduate</td>\n",
       "      <td>No</td>\n",
       "      <td>4106.0</td>\n",
       "      <td>0.0</td>\n",
       "      <td>40.0</td>\n",
       "      <td>180.0</td>\n",
       "      <td>1.0</td>\n",
       "      <td>Rural</td>\n",
       "      <td>Y</td>\n",
       "    </tr>\n",
       "    <tr>\n",
       "      <th>611</th>\n",
       "      <td>LP002983</td>\n",
       "      <td>Male</td>\n",
       "      <td>Yes</td>\n",
       "      <td>1</td>\n",
       "      <td>Graduate</td>\n",
       "      <td>No</td>\n",
       "      <td>8072.0</td>\n",
       "      <td>240.0</td>\n",
       "      <td>253.0</td>\n",
       "      <td>360.0</td>\n",
       "      <td>1.0</td>\n",
       "      <td>Urban</td>\n",
       "      <td>Y</td>\n",
       "    </tr>\n",
       "    <tr>\n",
       "      <th>612</th>\n",
       "      <td>LP002984</td>\n",
       "      <td>Male</td>\n",
       "      <td>Yes</td>\n",
       "      <td>2</td>\n",
       "      <td>Graduate</td>\n",
       "      <td>No</td>\n",
       "      <td>7583.0</td>\n",
       "      <td>0.0</td>\n",
       "      <td>187.0</td>\n",
       "      <td>360.0</td>\n",
       "      <td>1.0</td>\n",
       "      <td>Urban</td>\n",
       "      <td>Y</td>\n",
       "    </tr>\n",
       "    <tr>\n",
       "      <th>613</th>\n",
       "      <td>LP002990</td>\n",
       "      <td>Female</td>\n",
       "      <td>No</td>\n",
       "      <td>0</td>\n",
       "      <td>Graduate</td>\n",
       "      <td>Yes</td>\n",
       "      <td>4583.0</td>\n",
       "      <td>0.0</td>\n",
       "      <td>133.0</td>\n",
       "      <td>360.0</td>\n",
       "      <td>0.0</td>\n",
       "      <td>Semiurban</td>\n",
       "      <td>N</td>\n",
       "    </tr>\n",
       "  </tbody>\n",
       "</table>\n",
       "<p>614 rows × 13 columns</p>\n",
       "</div>"
      ],
      "text/plain": [
       "      Loan_ID  Gender Married Dependents     Education Self_Employed  \\\n",
       "0    LP001002    Male      No          0      Graduate            No   \n",
       "1    LP001003    Male     Yes          1      Graduate            No   \n",
       "2    LP001005    Male     Yes          0      Graduate           Yes   \n",
       "3    LP001006    Male     Yes          0  Not Graduate            No   \n",
       "4    LP001008    Male      No          0      Graduate            No   \n",
       "..        ...     ...     ...        ...           ...           ...   \n",
       "609  LP002978  Female      No          0      Graduate            No   \n",
       "610  LP002979    Male     Yes         3+      Graduate            No   \n",
       "611  LP002983    Male     Yes          1      Graduate            No   \n",
       "612  LP002984    Male     Yes          2      Graduate            No   \n",
       "613  LP002990  Female      No          0      Graduate           Yes   \n",
       "\n",
       "     ApplicantIncome  CoapplicantIncome  LoanAmount  Loan_Amount_Term  \\\n",
       "0             5849.0                0.0         NaN             360.0   \n",
       "1                NaN             1508.0       128.0             360.0   \n",
       "2             3000.0                0.0        66.0             360.0   \n",
       "3             2583.0             2358.0       120.0             360.0   \n",
       "4             6000.0                0.0       141.0             360.0   \n",
       "..               ...                ...         ...               ...   \n",
       "609           2900.0                0.0        71.0             360.0   \n",
       "610           4106.0                0.0        40.0             180.0   \n",
       "611           8072.0              240.0       253.0             360.0   \n",
       "612           7583.0                0.0       187.0             360.0   \n",
       "613           4583.0                0.0       133.0             360.0   \n",
       "\n",
       "     Credit_History Property_Area Loan_Status  \n",
       "0               1.0         Urban           Y  \n",
       "1               1.0         Rural           N  \n",
       "2               1.0         Urban           Y  \n",
       "3               1.0         Urban           Y  \n",
       "4               1.0         Urban           Y  \n",
       "..              ...           ...         ...  \n",
       "609             1.0         Rural           Y  \n",
       "610             1.0         Rural           Y  \n",
       "611             1.0         Urban           Y  \n",
       "612             1.0         Urban           Y  \n",
       "613             0.0     Semiurban           N  \n",
       "\n",
       "[614 rows x 13 columns]"
      ]
     },
     "execution_count": 4,
     "metadata": {},
     "output_type": "execute_result"
    }
   ],
   "source": [
    "A"
   ]
  },
  {
   "cell_type": "markdown",
   "id": "a123e699",
   "metadata": {},
   "source": [
    "# missing data treatment"
   ]
  },
  {
   "cell_type": "code",
   "execution_count": 5,
   "id": "ebd5a573",
   "metadata": {},
   "outputs": [
    {
     "data": {
      "text/plain": [
       "Loan_ID               0\n",
       "Gender               15\n",
       "Married               3\n",
       "Dependents           15\n",
       "Education             1\n",
       "Self_Employed        32\n",
       "ApplicantIncome       2\n",
       "CoapplicantIncome     1\n",
       "LoanAmount           22\n",
       "Loan_Amount_Term     14\n",
       "Credit_History       50\n",
       "Property_Area         0\n",
       "Loan_Status           0\n",
       "dtype: int64"
      ]
     },
     "execution_count": 5,
     "metadata": {},
     "output_type": "execute_result"
    }
   ],
   "source": [
    "A.isna().sum()"
   ]
  },
  {
   "cell_type": "code",
   "execution_count": 6,
   "id": "3501ef9e",
   "metadata": {},
   "outputs": [],
   "source": [
    "from Wd8pm import replacer\n",
    "    "
   ]
  },
  {
   "cell_type": "code",
   "execution_count": 7,
   "id": "53410395",
   "metadata": {},
   "outputs": [],
   "source": [
    "replacer(A)\n",
    "replacer(B)"
   ]
  },
  {
   "cell_type": "code",
   "execution_count": 8,
   "id": "1c973d9c",
   "metadata": {},
   "outputs": [
    {
     "data": {
      "text/plain": [
       "Loan_ID              0\n",
       "Gender               0\n",
       "Married              0\n",
       "Dependents           0\n",
       "Education            0\n",
       "Self_Employed        0\n",
       "ApplicantIncome      0\n",
       "CoapplicantIncome    0\n",
       "LoanAmount           0\n",
       "Loan_Amount_Term     0\n",
       "Credit_History       0\n",
       "Property_Area        0\n",
       "Loan_Status          0\n",
       "dtype: int64"
      ]
     },
     "execution_count": 8,
     "metadata": {},
     "output_type": "execute_result"
    }
   ],
   "source": [
    "A.isna().sum()"
   ]
  },
  {
   "cell_type": "markdown",
   "id": "14ea84cf",
   "metadata": {},
   "source": [
    "# Outliers removal"
   ]
  },
  {
   "cell_type": "code",
   "execution_count": 9,
   "id": "fb03f760",
   "metadata": {
    "scrolled": true
   },
   "outputs": [],
   "source": [
    "from Wd8pm import OL"
   ]
  },
  {
   "cell_type": "code",
   "execution_count": 10,
   "id": "e73a3fdb",
   "metadata": {},
   "outputs": [
    {
     "data": {
      "text/plain": [
       "[9,\n",
       " 14,\n",
       " 68,\n",
       " 94,\n",
       " 126,\n",
       " 130,\n",
       " 133,\n",
       " 155,\n",
       " 171,\n",
       " 177,\n",
       " 183,\n",
       " 185,\n",
       " 242,\n",
       " 262,\n",
       " 278,\n",
       " 308,\n",
       " 313,\n",
       " 333,\n",
       " 369,\n",
       " 402,\n",
       " 409,\n",
       " 417,\n",
       " 432,\n",
       " 443,\n",
       " 487,\n",
       " 495,\n",
       " 497,\n",
       " 506,\n",
       " 523,\n",
       " 525,\n",
       " 546,\n",
       " 561,\n",
       " 575,\n",
       " 581,\n",
       " 585,\n",
       " 600,\n",
       " 604]"
      ]
     },
     "execution_count": 10,
     "metadata": {},
     "output_type": "execute_result"
    }
   ],
   "source": [
    "OL(A)"
   ]
  },
  {
   "cell_type": "code",
   "execution_count": null,
   "id": "e13734ce",
   "metadata": {},
   "outputs": [],
   "source": []
  },
  {
   "cell_type": "code",
   "execution_count": 11,
   "id": "783c4c12",
   "metadata": {},
   "outputs": [],
   "source": [
    "outlier=OL(A)"
   ]
  },
  {
   "cell_type": "code",
   "execution_count": 12,
   "id": "f78f14bc",
   "metadata": {},
   "outputs": [],
   "source": [
    "A=A.drop(index=outlier,axis=0)"
   ]
  },
  {
   "cell_type": "code",
   "execution_count": 13,
   "id": "3795b7e0",
   "metadata": {},
   "outputs": [
    {
     "data": {
      "text/plain": [
       "(577, 13)"
      ]
     },
     "execution_count": 13,
     "metadata": {},
     "output_type": "execute_result"
    }
   ],
   "source": [
    "A.shape"
   ]
  },
  {
   "cell_type": "code",
   "execution_count": 14,
   "id": "663102dc",
   "metadata": {},
   "outputs": [],
   "source": [
    "A.index=range(0,577)"
   ]
  },
  {
   "cell_type": "code",
   "execution_count": 15,
   "id": "47036eaa",
   "metadata": {},
   "outputs": [
    {
     "data": {
      "text/plain": [
       "(62, 14)"
      ]
     },
     "execution_count": 15,
     "metadata": {},
     "output_type": "execute_result"
    }
   ],
   "source": [
    "B.shape"
   ]
  },
  {
   "cell_type": "code",
   "execution_count": 16,
   "id": "09ed76a3",
   "metadata": {},
   "outputs": [],
   "source": [
    "B.index=range(0,62)"
   ]
  },
  {
   "cell_type": "markdown",
   "id": "983647d6",
   "metadata": {},
   "source": [
    "# Define X and Y"
   ]
  },
  {
   "cell_type": "code",
   "execution_count": 17,
   "id": "cdb405ee",
   "metadata": {},
   "outputs": [],
   "source": [
    "Y = A[[\"LoanAmount\"]]\n",
    "X=A.drop(labels=[\"LoanAmount\",\"Loan_Status\",\"Loan_ID\"],axis=1)\n",
    "\n"
   ]
  },
  {
   "cell_type": "markdown",
   "id": "b64c2196",
   "metadata": {},
   "source": [
    "# check correlation"
   ]
  },
  {
   "cell_type": "code",
   "execution_count": 18,
   "id": "a7f13feb",
   "metadata": {},
   "outputs": [
    {
     "data": {
      "text/plain": [
       "Credit_History       0.006094\n",
       "Loan_Amount_Term     0.040302\n",
       "CoapplicantIncome    0.309603\n",
       "ApplicantIncome      0.442229\n",
       "LoanAmount           1.000000\n",
       "Name: LoanAmount, dtype: float64"
      ]
     },
     "execution_count": 18,
     "metadata": {},
     "output_type": "execute_result"
    }
   ],
   "source": [
    "Q=A.corr()[\"LoanAmount\"]\n",
    "Q.sort_values()\n"
   ]
  },
  {
   "cell_type": "code",
   "execution_count": 19,
   "id": "7be0fb84",
   "metadata": {},
   "outputs": [
    {
     "data": {
      "text/plain": [
       "Index(['ApplicantIncome'], dtype='object')"
      ]
     },
     "execution_count": 19,
     "metadata": {},
     "output_type": "execute_result"
    }
   ],
   "source": [
    "Q=Q[Q!=1]\n",
    "Q=Q[(Q<-0.4) |(Q>0.4)]\n",
    "Q.index"
   ]
  },
  {
   "cell_type": "markdown",
   "id": "c336a311",
   "metadata": {},
   "source": [
    "# anova and chisquare"
   ]
  },
  {
   "cell_type": "code",
   "execution_count": 20,
   "id": "3e46c853",
   "metadata": {},
   "outputs": [
    {
     "name": "stdout",
     "output_type": "stream",
     "text": [
      "LoanAmount ~ Gender ----> 0.36631\n",
      "LoanAmount ~ Married ----> 0.27157\n",
      "LoanAmount ~ Dependents ----> 0.31099\n",
      "LoanAmount ~ Education ----> 0.88622\n",
      "LoanAmount ~ Self_Employed ----> 0.26231\n",
      "LoanAmount ~ ApplicantIncome ----> 0.0\n",
      "LoanAmount ~ CoapplicantIncome ----> 0.0\n",
      "LoanAmount ~ Loan_Amount_Term ----> 0.33386\n",
      "LoanAmount ~ Credit_History ----> 0.88388\n",
      "LoanAmount ~ Property_Area ----> 0.2452\n"
     ]
    }
   ],
   "source": [
    "imp_cols = []\n",
    "from Wd8pm import ANOVA,chisq\n",
    "for i in X.columns:\n",
    "    if(X[i].dtypes == \"object\"):\n",
    "        pval = chisq(A,\"LoanAmount\",i)\n",
    "        print(\"LoanAmount ~\",i,\"---->\",pval)\n",
    "        if(pval<0.7):\n",
    "            imp_cols.append(i)\n",
    "    else:\n",
    "        pval = ANOVA(A,\"LoanAmount\",i)\n",
    "        print(\"LoanAmount ~\",i,\"---->\",pval)\n",
    "        if(pval<0.7):\n",
    "            imp_cols.append(i)"
   ]
  },
  {
   "cell_type": "code",
   "execution_count": 21,
   "id": "500ac079",
   "metadata": {},
   "outputs": [
    {
     "data": {
      "text/plain": [
       "['Gender',\n",
       " 'Married',\n",
       " 'Dependents',\n",
       " 'Self_Employed',\n",
       " 'ApplicantIncome',\n",
       " 'CoapplicantIncome',\n",
       " 'Loan_Amount_Term',\n",
       " 'Property_Area']"
      ]
     },
     "execution_count": 21,
     "metadata": {},
     "output_type": "execute_result"
    }
   ],
   "source": [
    "imp_cols"
   ]
  },
  {
   "cell_type": "markdown",
   "id": "926ef4b7",
   "metadata": {},
   "source": [
    "# final predictors"
   ]
  },
  {
   "cell_type": "code",
   "execution_count": 22,
   "id": "bade6761",
   "metadata": {},
   "outputs": [],
   "source": [
    "Y = A[[\"LoanAmount\"]]\n",
    "X = A[imp_cols]\n",
    "Xb=B[imp_cols]"
   ]
  },
  {
   "cell_type": "code",
   "execution_count": 23,
   "id": "1efd87ac",
   "metadata": {},
   "outputs": [],
   "source": [
    "con = []\n",
    "cat = []\n",
    "for i in X.columns:\n",
    "    if(X[i].dtypes == \"object\"):\n",
    "        cat.append(i)\n",
    "    else:\n",
    "        con.append(i)\n",
    "        "
   ]
  },
  {
   "cell_type": "code",
   "execution_count": 24,
   "id": "0722334b",
   "metadata": {},
   "outputs": [],
   "source": [
    "X1 = pd.get_dummies(X[cat])\n",
    "from sklearn.preprocessing import StandardScaler\n",
    "ss = StandardScaler()\n",
    "X2 = pd.DataFrame(ss.fit_transform(X[con]),columns=con)\n",
    "Xnew = X2.join(X1)"
   ]
  },
  {
   "cell_type": "code",
   "execution_count": 25,
   "id": "cc1be0f5",
   "metadata": {},
   "outputs": [
    {
     "data": {
      "text/html": [
       "<table class=\"simpletable\">\n",
       "<caption>OLS Regression Results</caption>\n",
       "<tr>\n",
       "  <th>Dep. Variable:</th>       <td>LoanAmount</td>    <th>  R-squared:         </th> <td>   0.407</td>\n",
       "</tr>\n",
       "<tr>\n",
       "  <th>Model:</th>                   <td>OLS</td>       <th>  Adj. R-squared:    </th> <td>   0.392</td>\n",
       "</tr>\n",
       "<tr>\n",
       "  <th>Method:</th>             <td>Least Squares</td>  <th>  F-statistic:       </th> <td>   27.98</td>\n",
       "</tr>\n",
       "<tr>\n",
       "  <th>Date:</th>             <td>Sat, 07 Jan 2023</td> <th>  Prob (F-statistic):</th> <td>1.73e-44</td>\n",
       "</tr>\n",
       "<tr>\n",
       "  <th>Time:</th>                 <td>20:42:18</td>     <th>  Log-Likelihood:    </th> <td> -2399.8</td>\n",
       "</tr>\n",
       "<tr>\n",
       "  <th>No. Observations:</th>      <td>   461</td>      <th>  AIC:               </th> <td>   4824.</td>\n",
       "</tr>\n",
       "<tr>\n",
       "  <th>Df Residuals:</th>          <td>   449</td>      <th>  BIC:               </th> <td>   4873.</td>\n",
       "</tr>\n",
       "<tr>\n",
       "  <th>Df Model:</th>              <td>    11</td>      <th>                     </th>     <td> </td>   \n",
       "</tr>\n",
       "<tr>\n",
       "  <th>Covariance Type:</th>      <td>nonrobust</td>    <th>                     </th>     <td> </td>   \n",
       "</tr>\n",
       "</table>\n",
       "<table class=\"simpletable\">\n",
       "<tr>\n",
       "             <td></td>                <th>coef</th>     <th>std err</th>      <th>t</th>      <th>P>|t|</th>  <th>[0.025</th>    <th>0.975]</th>  \n",
       "</tr>\n",
       "<tr>\n",
       "  <th>const</th>                   <td>   45.5573</td> <td>    1.345</td> <td>   33.865</td> <td> 0.000</td> <td>   42.913</td> <td>   48.201</td>\n",
       "</tr>\n",
       "<tr>\n",
       "  <th>ApplicantIncome</th>         <td>   30.7786</td> <td>    2.257</td> <td>   13.637</td> <td> 0.000</td> <td>   26.343</td> <td>   35.214</td>\n",
       "</tr>\n",
       "<tr>\n",
       "  <th>CoapplicantIncome</th>       <td>   24.7653</td> <td>    2.212</td> <td>   11.195</td> <td> 0.000</td> <td>   20.418</td> <td>   29.113</td>\n",
       "</tr>\n",
       "<tr>\n",
       "  <th>Loan_Amount_Term</th>        <td>    5.9854</td> <td>    2.103</td> <td>    2.847</td> <td> 0.005</td> <td>    1.853</td> <td>   10.118</td>\n",
       "</tr>\n",
       "<tr>\n",
       "  <th>Gender_Female</th>           <td>   19.3716</td> <td>    3.345</td> <td>    5.792</td> <td> 0.000</td> <td>   12.799</td> <td>   25.945</td>\n",
       "</tr>\n",
       "<tr>\n",
       "  <th>Gender_Male</th>             <td>   26.1856</td> <td>    2.774</td> <td>    9.440</td> <td> 0.000</td> <td>   20.734</td> <td>   31.637</td>\n",
       "</tr>\n",
       "<tr>\n",
       "  <th>Married_No</th>              <td>   21.1430</td> <td>    2.736</td> <td>    7.728</td> <td> 0.000</td> <td>   15.766</td> <td>   26.520</td>\n",
       "</tr>\n",
       "<tr>\n",
       "  <th>Married_Yes</th>             <td>   24.4143</td> <td>    2.581</td> <td>    9.461</td> <td> 0.000</td> <td>   19.343</td> <td>   29.486</td>\n",
       "</tr>\n",
       "<tr>\n",
       "  <th>Dependents_0</th>            <td>    2.2569</td> <td>    3.420</td> <td>    0.660</td> <td> 0.510</td> <td>   -4.464</td> <td>    8.978</td>\n",
       "</tr>\n",
       "<tr>\n",
       "  <th>Dependents_1</th>            <td>   14.8476</td> <td>    4.556</td> <td>    3.259</td> <td> 0.001</td> <td>    5.894</td> <td>   23.801</td>\n",
       "</tr>\n",
       "<tr>\n",
       "  <th>Dependents_2</th>            <td>   10.3414</td> <td>    4.586</td> <td>    2.255</td> <td> 0.025</td> <td>    1.329</td> <td>   19.354</td>\n",
       "</tr>\n",
       "<tr>\n",
       "  <th>Dependents_3+</th>           <td>   18.1113</td> <td>    6.256</td> <td>    2.895</td> <td> 0.004</td> <td>    5.816</td> <td>   30.406</td>\n",
       "</tr>\n",
       "<tr>\n",
       "  <th>Self_Employed_No</th>        <td>   21.4806</td> <td>    2.866</td> <td>    7.495</td> <td> 0.000</td> <td>   15.848</td> <td>   27.113</td>\n",
       "</tr>\n",
       "<tr>\n",
       "  <th>Self_Employed_Yes</th>       <td>   24.0767</td> <td>    3.574</td> <td>    6.736</td> <td> 0.000</td> <td>   17.052</td> <td>   31.101</td>\n",
       "</tr>\n",
       "<tr>\n",
       "  <th>Property_Area_Rural</th>     <td>   15.2188</td> <td>    3.126</td> <td>    4.868</td> <td> 0.000</td> <td>    9.075</td> <td>   21.362</td>\n",
       "</tr>\n",
       "<tr>\n",
       "  <th>Property_Area_Semiurban</th> <td>   17.1750</td> <td>    2.886</td> <td>    5.951</td> <td> 0.000</td> <td>   11.503</td> <td>   22.847</td>\n",
       "</tr>\n",
       "<tr>\n",
       "  <th>Property_Area_Urban</th>     <td>   13.1635</td> <td>    3.073</td> <td>    4.284</td> <td> 0.000</td> <td>    7.125</td> <td>   19.202</td>\n",
       "</tr>\n",
       "</table>\n",
       "<table class=\"simpletable\">\n",
       "<tr>\n",
       "  <th>Omnibus:</th>       <td>21.051</td> <th>  Durbin-Watson:     </th> <td>   1.950</td>\n",
       "</tr>\n",
       "<tr>\n",
       "  <th>Prob(Omnibus):</th> <td> 0.000</td> <th>  Jarque-Bera (JB):  </th> <td>  57.091</td>\n",
       "</tr>\n",
       "<tr>\n",
       "  <th>Skew:</th>          <td> 0.033</td> <th>  Prob(JB):          </th> <td>4.01e-13</td>\n",
       "</tr>\n",
       "<tr>\n",
       "  <th>Kurtosis:</th>      <td> 4.723</td> <th>  Cond. No.          </th> <td>4.68e+16</td>\n",
       "</tr>\n",
       "</table><br/><br/>Notes:<br/>[1] Standard Errors assume that the covariance matrix of the errors is correctly specified.<br/>[2] The smallest eigenvalue is 8.02e-31. This might indicate that there are<br/>strong multicollinearity problems or that the design matrix is singular."
      ],
      "text/plain": [
       "<class 'statsmodels.iolib.summary.Summary'>\n",
       "\"\"\"\n",
       "                            OLS Regression Results                            \n",
       "==============================================================================\n",
       "Dep. Variable:             LoanAmount   R-squared:                       0.407\n",
       "Model:                            OLS   Adj. R-squared:                  0.392\n",
       "Method:                 Least Squares   F-statistic:                     27.98\n",
       "Date:                Sat, 07 Jan 2023   Prob (F-statistic):           1.73e-44\n",
       "Time:                        20:42:18   Log-Likelihood:                -2399.8\n",
       "No. Observations:                 461   AIC:                             4824.\n",
       "Df Residuals:                     449   BIC:                             4873.\n",
       "Df Model:                          11                                         \n",
       "Covariance Type:            nonrobust                                         \n",
       "===========================================================================================\n",
       "                              coef    std err          t      P>|t|      [0.025      0.975]\n",
       "-------------------------------------------------------------------------------------------\n",
       "const                      45.5573      1.345     33.865      0.000      42.913      48.201\n",
       "ApplicantIncome            30.7786      2.257     13.637      0.000      26.343      35.214\n",
       "CoapplicantIncome          24.7653      2.212     11.195      0.000      20.418      29.113\n",
       "Loan_Amount_Term            5.9854      2.103      2.847      0.005       1.853      10.118\n",
       "Gender_Female              19.3716      3.345      5.792      0.000      12.799      25.945\n",
       "Gender_Male                26.1856      2.774      9.440      0.000      20.734      31.637\n",
       "Married_No                 21.1430      2.736      7.728      0.000      15.766      26.520\n",
       "Married_Yes                24.4143      2.581      9.461      0.000      19.343      29.486\n",
       "Dependents_0                2.2569      3.420      0.660      0.510      -4.464       8.978\n",
       "Dependents_1               14.8476      4.556      3.259      0.001       5.894      23.801\n",
       "Dependents_2               10.3414      4.586      2.255      0.025       1.329      19.354\n",
       "Dependents_3+              18.1113      6.256      2.895      0.004       5.816      30.406\n",
       "Self_Employed_No           21.4806      2.866      7.495      0.000      15.848      27.113\n",
       "Self_Employed_Yes          24.0767      3.574      6.736      0.000      17.052      31.101\n",
       "Property_Area_Rural        15.2188      3.126      4.868      0.000       9.075      21.362\n",
       "Property_Area_Semiurban    17.1750      2.886      5.951      0.000      11.503      22.847\n",
       "Property_Area_Urban        13.1635      3.073      4.284      0.000       7.125      19.202\n",
       "==============================================================================\n",
       "Omnibus:                       21.051   Durbin-Watson:                   1.950\n",
       "Prob(Omnibus):                  0.000   Jarque-Bera (JB):               57.091\n",
       "Skew:                           0.033   Prob(JB):                     4.01e-13\n",
       "Kurtosis:                       4.723   Cond. No.                     4.68e+16\n",
       "==============================================================================\n",
       "\n",
       "Notes:\n",
       "[1] Standard Errors assume that the covariance matrix of the errors is correctly specified.\n",
       "[2] The smallest eigenvalue is 8.02e-31. This might indicate that there are\n",
       "strong multicollinearity problems or that the design matrix is singular.\n",
       "\"\"\""
      ]
     },
     "execution_count": 25,
     "metadata": {},
     "output_type": "execute_result"
    }
   ],
   "source": [
    "from sklearn.model_selection import train_test_split\n",
    "xtrain,xtest,ytrain,ytest=train_test_split(Xnew,Y,random_state=31,test_size=0.2)\n",
    "\n",
    "from statsmodels.api import OLS,add_constant\n",
    "xconst = add_constant(xtrain) #this is done to get b0 value(not required in LM)\n",
    "ols = OLS(ytrain,xconst).fit()\n",
    "ols.summary()"
   ]
  },
  {
   "cell_type": "code",
   "execution_count": 26,
   "id": "cf3773fb",
   "metadata": {},
   "outputs": [
    {
     "data": {
      "text/plain": [
       "'Dependents_0'"
      ]
     },
     "execution_count": 26,
     "metadata": {},
     "output_type": "execute_result"
    }
   ],
   "source": [
    "ols.pvalues.sort_values().index[-1]"
   ]
  },
  {
   "cell_type": "code",
   "execution_count": 27,
   "id": "52548c6c",
   "metadata": {},
   "outputs": [
    {
     "data": {
      "text/plain": [
       "const                      1.015285e-125\n",
       "ApplicantIncome             1.121569e-35\n",
       "CoapplicantIncome           7.948393e-26\n",
       "Married_Yes                 1.730032e-19\n",
       "Gender_Male                 2.038170e-19\n",
       "Married_No                  7.206869e-14\n",
       "Self_Employed_No            3.560780e-13\n",
       "Self_Employed_Yes           5.005582e-11\n",
       "Property_Area_Semiurban     5.361082e-09\n",
       "Gender_Female               1.309222e-08\n",
       "Property_Area_Rural         1.561051e-06\n",
       "Property_Area_Urban         2.248679e-05\n",
       "Dependents_1                1.202653e-03\n",
       "Dependents_3+               3.977158e-03\n",
       "Loan_Amount_Term            4.621436e-03\n",
       "Dependents_2                2.460490e-02\n",
       "Dependents_0                5.096322e-01\n",
       "dtype: float64"
      ]
     },
     "execution_count": 27,
     "metadata": {},
     "output_type": "execute_result"
    }
   ],
   "source": [
    "ols.pvalues.sort_values()"
   ]
  },
  {
   "cell_type": "code",
   "execution_count": 28,
   "id": "38b14c36",
   "metadata": {},
   "outputs": [
    {
     "data": {
      "text/plain": [
       "0.3922"
      ]
     },
     "execution_count": 28,
     "metadata": {},
     "output_type": "execute_result"
    }
   ],
   "source": [
    "round(ols.rsquared_adj,4)"
   ]
  },
  {
   "cell_type": "code",
   "execution_count": null,
   "id": "83fe5258",
   "metadata": {},
   "outputs": [],
   "source": []
  },
  {
   "cell_type": "markdown",
   "id": "910c3c73",
   "metadata": {},
   "source": [
    "# Final model after elimination"
   ]
  },
  {
   "cell_type": "code",
   "execution_count": 29,
   "id": "606852ab",
   "metadata": {},
   "outputs": [
    {
     "data": {
      "text/plain": [
       "Index(['ApplicantIncome', 'CoapplicantIncome', 'Loan_Amount_Term',\n",
       "       'Gender_Female', 'Gender_Male', 'Married_No', 'Married_Yes',\n",
       "       'Dependents_0', 'Dependents_1', 'Dependents_2', 'Dependents_3+',\n",
       "       'Self_Employed_No', 'Self_Employed_Yes', 'Property_Area_Rural',\n",
       "       'Property_Area_Semiurban', 'Property_Area_Urban'],\n",
       "      dtype='object')"
      ]
     },
     "execution_count": 29,
     "metadata": {},
     "output_type": "execute_result"
    }
   ],
   "source": [
    "Xnew.columns"
   ]
  },
  {
   "cell_type": "markdown",
   "id": "f91b52d3",
   "metadata": {},
   "source": [
    "# model"
   ]
  },
  {
   "cell_type": "code",
   "execution_count": 30,
   "id": "dc3e1b48",
   "metadata": {},
   "outputs": [],
   "source": [
    "from sklearn.linear_model import LinearRegression\n",
    "lm = LinearRegression()\n",
    "model = lm.fit(xtrain,ytrain)\n",
    "tr_pred = model.predict(xtrain)\n",
    "ts_pred = model.predict(xtest)"
   ]
  },
  {
   "cell_type": "code",
   "execution_count": 31,
   "id": "d4c31522",
   "metadata": {},
   "outputs": [],
   "source": [
    "from sklearn.metrics import mean_absolute_error\n",
    "tr_err = mean_absolute_error(ytrain,tr_pred)\n",
    "ts_err = mean_absolute_error(ytest,ts_pred)"
   ]
  },
  {
   "cell_type": "code",
   "execution_count": 32,
   "id": "3258b75c",
   "metadata": {},
   "outputs": [
    {
     "data": {
      "text/plain": [
       "(31.717923968136784, 28.178088124861798)"
      ]
     },
     "execution_count": 32,
     "metadata": {},
     "output_type": "execute_result"
    }
   ],
   "source": [
    "tr_err,ts_err"
   ]
  },
  {
   "cell_type": "markdown",
   "id": "73cdbf7d",
   "metadata": {},
   "source": [
    "# Ridge"
   ]
  },
  {
   "cell_type": "code",
   "execution_count": null,
   "id": "f9f9a52d",
   "metadata": {},
   "outputs": [],
   "source": []
  },
  {
   "cell_type": "code",
   "execution_count": 33,
   "id": "4359af5d",
   "metadata": {},
   "outputs": [
    {
     "data": {
      "text/plain": [
       "(31.728692556746285, 28.206920623796453)"
      ]
     },
     "execution_count": 33,
     "metadata": {},
     "output_type": "execute_result"
    }
   ],
   "source": [
    "from sklearn.metrics import mean_absolute_error\n",
    "from sklearn.linear_model import Ridge\n",
    "rr = Ridge(alpha=3.91)\n",
    "model = rr.fit(xtrain,ytrain)\n",
    "tr_pred = model.predict(xtrain)\n",
    "ts_pred = model.predict(xtest)\n",
    "tr_err = mean_absolute_error(ytrain,tr_pred)\n",
    "ts_err = mean_absolute_error(ytest,ts_pred)\n",
    "tr_err,ts_err"
   ]
  },
  {
   "cell_type": "code",
   "execution_count": 34,
   "id": "af244a8a",
   "metadata": {},
   "outputs": [],
   "source": [
    "x = .01\n",
    "alphas = []\n",
    "for i in range(0,1000,10):\n",
    "    alphas.append(x)\n",
    "    x = round(x + 50,2)"
   ]
  },
  {
   "cell_type": "code",
   "execution_count": 35,
   "id": "c4a1df44",
   "metadata": {},
   "outputs": [],
   "source": [
    "tr = []\n",
    "ts = []\n",
    "for i in alphas:\n",
    "    rr = Ridge(alpha=i)\n",
    "    model = rr.fit(xtrain,ytrain)\n",
    "    tr_pred = model.predict(xtrain)\n",
    "    ts_pred = model.predict(xtest)\n",
    "    tr_err = mean_absolute_error(ytrain,tr_pred)\n",
    "    ts_err = mean_absolute_error(ytest,ts_pred)\n",
    "    tr.append(tr_err)\n",
    "    ts.append(ts_err)    "
   ]
  },
  {
   "cell_type": "code",
   "execution_count": 36,
   "id": "8ec8599c",
   "metadata": {},
   "outputs": [
    {
     "data": {
      "text/plain": [
       "[<matplotlib.lines.Line2D at 0x258a8020220>]"
      ]
     },
     "execution_count": 36,
     "metadata": {},
     "output_type": "execute_result"
    },
    {
     "data": {
      "image/png": "[encoded data removed]",
      "text/plain": [
       "<Figure size 640x480 with 1 Axes>"
      ]
     },
     "metadata": {},
     "output_type": "display_data"
    }
   ],
   "source": [
    "import matplotlib.pyplot as plt\n",
    "plt.plot(tr,c=\"blue\")\n",
    "plt.plot(ts,c=\"red\")"
   ]
  },
  {
   "cell_type": "code",
   "execution_count": 37,
   "id": "25965c9f",
   "metadata": {},
   "outputs": [
    {
     "data": {
      "text/plain": [
       "500.01"
      ]
     },
     "execution_count": 37,
     "metadata": {},
     "output_type": "execute_result"
    }
   ],
   "source": [
    "alphas[10]"
   ]
  },
  {
   "cell_type": "markdown",
   "id": "c1013a20",
   "metadata": {},
   "source": [
    "# Gridsearch CV"
   ]
  },
  {
   "cell_type": "code",
   "execution_count": 38,
   "id": "acceff0d",
   "metadata": {},
   "outputs": [
    {
     "data": {
      "text/plain": [
       "{'alpha': 50.01}"
      ]
     },
     "execution_count": 38,
     "metadata": {},
     "output_type": "execute_result"
    }
   ],
   "source": [
    "tuning_grid = {\"alpha\":alphas}\n",
    "rr = Ridge()\n",
    "from sklearn.model_selection import GridSearchCV\n",
    "cv1 = GridSearchCV(rr,tuning_grid,scoring=\"neg_mean_squared_error\",cv=7)\n",
    "cvmodel = cv1.fit(Xnew,Y)\n",
    "cvmodel.best_params_"
   ]
  },
  {
   "cell_type": "code",
   "execution_count": 39,
   "id": "7a211abc",
   "metadata": {},
   "outputs": [
    {
     "data": {
      "text/plain": [
       "(32.01323344579916, 28.814360088881582)"
      ]
     },
     "execution_count": 39,
     "metadata": {},
     "output_type": "execute_result"
    }
   ],
   "source": [
    "from sklearn.metrics import mean_absolute_error\n",
    "from sklearn.linear_model import Ridge\n",
    "rr = Ridge(alpha=50)\n",
    "model = rr.fit(xtrain,ytrain)\n",
    "tr_pred = model.predict(xtrain)\n",
    "ts_pred = model.predict(xtest)\n",
    "tr_err = mean_absolute_error(ytrain,tr_pred)\n",
    "ts_err = mean_absolute_error(ytest,ts_pred)\n",
    "tr_err,ts_err"
   ]
  },
  {
   "cell_type": "code",
   "execution_count": null,
   "id": "6d07478a",
   "metadata": {},
   "outputs": [],
   "source": []
  },
  {
   "cell_type": "code",
   "execution_count": 40,
   "id": "b0de367f",
   "metadata": {},
   "outputs": [],
   "source": [
    "X1b = pd.get_dummies(Xb[cat])\n",
    "from sklearn.preprocessing import StandardScaler\n",
    "ss = StandardScaler()\n",
    "X2b = pd.DataFrame(ss.fit_transform(Xb[con]),columns=con)\n",
    "Xnewb = X2b.join(X1b)"
   ]
  },
  {
   "cell_type": "code",
   "execution_count": 41,
   "id": "1a48ed7f",
   "metadata": {},
   "outputs": [],
   "source": [
    "model=rr.fit(Xnew,Y)"
   ]
  },
  {
   "cell_type": "code",
   "execution_count": 42,
   "id": "ef6bc767",
   "metadata": {},
   "outputs": [],
   "source": [
    "ts_pred=model.predict(Xnewb)"
   ]
  },
  {
   "cell_type": "code",
   "execution_count": 43,
   "id": "70eb5323",
   "metadata": {},
   "outputs": [],
   "source": [
    "B[\"Loan_new_Amount\"]=model.predict(Xnewb)"
   ]
  },
  {
   "cell_type": "code",
   "execution_count": 44,
   "id": "89607af7",
   "metadata": {},
   "outputs": [
    {
     "data": {
      "text/html": [
       "<div>\n",
       "<style scoped>\n",
       "    .dataframe tbody tr th:only-of-type {\n",
       "        vertical-align: middle;\n",
       "    }\n",
       "\n",
       "    .dataframe tbody tr th {\n",
       "        vertical-align: top;\n",
       "    }\n",
       "\n",
       "    .dataframe thead th {\n",
       "        text-align: right;\n",
       "    }\n",
       "</style>\n",
       "<table border=\"1\" class=\"dataframe\">\n",
       "  <thead>\n",
       "    <tr style=\"text-align: right;\">\n",
       "      <th></th>\n",
       "      <th>Unnamed: 0</th>\n",
       "      <th>Loan_ID</th>\n",
       "      <th>Gender</th>\n",
       "      <th>Married</th>\n",
       "      <th>Dependents</th>\n",
       "      <th>Education</th>\n",
       "      <th>Self_Employed</th>\n",
       "      <th>ApplicantIncome</th>\n",
       "      <th>CoapplicantIncome</th>\n",
       "      <th>LoanAmount</th>\n",
       "      <th>Loan_Amount_Term</th>\n",
       "      <th>Credit_History</th>\n",
       "      <th>Property_Area</th>\n",
       "      <th>Loan_Status</th>\n",
       "      <th>Loan_new_Amount</th>\n",
       "    </tr>\n",
       "  </thead>\n",
       "  <tbody>\n",
       "    <tr>\n",
       "      <th>0</th>\n",
       "      <td>7</td>\n",
       "      <td>LP001056</td>\n",
       "      <td>Male</td>\n",
       "      <td>Yes</td>\n",
       "      <td>2</td>\n",
       "      <td>Not Graduate</td>\n",
       "      <td>No</td>\n",
       "      <td>3881</td>\n",
       "      <td>0</td>\n",
       "      <td>147.0</td>\n",
       "      <td>360.0</td>\n",
       "      <td>0.0</td>\n",
       "      <td>Rural</td>\n",
       "      <td>N</td>\n",
       "      <td>126.593159</td>\n",
       "    </tr>\n",
       "    <tr>\n",
       "      <th>1</th>\n",
       "      <td>13</td>\n",
       "      <td>LP001094</td>\n",
       "      <td>Male</td>\n",
       "      <td>Yes</td>\n",
       "      <td>2</td>\n",
       "      <td>Graduate</td>\n",
       "      <td>No</td>\n",
       "      <td>12173</td>\n",
       "      <td>0</td>\n",
       "      <td>166.0</td>\n",
       "      <td>360.0</td>\n",
       "      <td>0.0</td>\n",
       "      <td>Semiurban</td>\n",
       "      <td>N</td>\n",
       "      <td>224.480694</td>\n",
       "    </tr>\n",
       "    <tr>\n",
       "      <th>2</th>\n",
       "      <td>35</td>\n",
       "      <td>LP001203</td>\n",
       "      <td>Male</td>\n",
       "      <td>No</td>\n",
       "      <td>0</td>\n",
       "      <td>Graduate</td>\n",
       "      <td>No</td>\n",
       "      <td>3150</td>\n",
       "      <td>0</td>\n",
       "      <td>176.0</td>\n",
       "      <td>360.0</td>\n",
       "      <td>0.0</td>\n",
       "      <td>Semiurban</td>\n",
       "      <td>N</td>\n",
       "      <td>104.328912</td>\n",
       "    </tr>\n",
       "    <tr>\n",
       "      <th>3</th>\n",
       "      <td>55</td>\n",
       "      <td>LP001313</td>\n",
       "      <td>Male</td>\n",
       "      <td>No</td>\n",
       "      <td>0</td>\n",
       "      <td>Graduate</td>\n",
       "      <td>No</td>\n",
       "      <td>2750</td>\n",
       "      <td>0</td>\n",
       "      <td>130.0</td>\n",
       "      <td>360.0</td>\n",
       "      <td>0.0</td>\n",
       "      <td>Urban</td>\n",
       "      <td>N</td>\n",
       "      <td>96.654600</td>\n",
       "    </tr>\n",
       "    <tr>\n",
       "      <th>4</th>\n",
       "      <td>58</td>\n",
       "      <td>LP001323</td>\n",
       "      <td>Female</td>\n",
       "      <td>Yes</td>\n",
       "      <td>2</td>\n",
       "      <td>Graduate</td>\n",
       "      <td>No</td>\n",
       "      <td>2779</td>\n",
       "      <td>3664</td>\n",
       "      <td>176.0</td>\n",
       "      <td>360.0</td>\n",
       "      <td>0.0</td>\n",
       "      <td>Semiurban</td>\n",
       "      <td>N</td>\n",
       "      <td>153.876082</td>\n",
       "    </tr>\n",
       "    <tr>\n",
       "      <th>...</th>\n",
       "      <td>...</td>\n",
       "      <td>...</td>\n",
       "      <td>...</td>\n",
       "      <td>...</td>\n",
       "      <td>...</td>\n",
       "      <td>...</td>\n",
       "      <td>...</td>\n",
       "      <td>...</td>\n",
       "      <td>...</td>\n",
       "      <td>...</td>\n",
       "      <td>...</td>\n",
       "      <td>...</td>\n",
       "      <td>...</td>\n",
       "      <td>...</td>\n",
       "      <td>...</td>\n",
       "    </tr>\n",
       "    <tr>\n",
       "      <th>57</th>\n",
       "      <td>317</td>\n",
       "      <td>LP002774</td>\n",
       "      <td>Male</td>\n",
       "      <td>Yes</td>\n",
       "      <td>0</td>\n",
       "      <td>Not Graduate</td>\n",
       "      <td>No</td>\n",
       "      <td>1700</td>\n",
       "      <td>2900</td>\n",
       "      <td>67.0</td>\n",
       "      <td>360.0</td>\n",
       "      <td>0.0</td>\n",
       "      <td>Urban</td>\n",
       "      <td>N</td>\n",
       "      <td>127.213748</td>\n",
       "    </tr>\n",
       "    <tr>\n",
       "      <th>58</th>\n",
       "      <td>325</td>\n",
       "      <td>LP002802</td>\n",
       "      <td>Male</td>\n",
       "      <td>No</td>\n",
       "      <td>0</td>\n",
       "      <td>Graduate</td>\n",
       "      <td>No</td>\n",
       "      <td>2875</td>\n",
       "      <td>2416</td>\n",
       "      <td>95.0</td>\n",
       "      <td>6.0</td>\n",
       "      <td>0.0</td>\n",
       "      <td>Semiurban</td>\n",
       "      <td>N</td>\n",
       "      <td>108.176517</td>\n",
       "    </tr>\n",
       "    <tr>\n",
       "      <th>59</th>\n",
       "      <td>339</td>\n",
       "      <td>LP002858</td>\n",
       "      <td>Female</td>\n",
       "      <td>No</td>\n",
       "      <td>0</td>\n",
       "      <td>Graduate</td>\n",
       "      <td>No</td>\n",
       "      <td>4333</td>\n",
       "      <td>2333</td>\n",
       "      <td>162.0</td>\n",
       "      <td>360.0</td>\n",
       "      <td>0.0</td>\n",
       "      <td>Rural</td>\n",
       "      <td>N</td>\n",
       "      <td>143.563609</td>\n",
       "    </tr>\n",
       "    <tr>\n",
       "      <th>60</th>\n",
       "      <td>346</td>\n",
       "      <td>LP002879</td>\n",
       "      <td>Male</td>\n",
       "      <td>Yes</td>\n",
       "      <td>0</td>\n",
       "      <td>Graduate</td>\n",
       "      <td>No</td>\n",
       "      <td>3391</td>\n",
       "      <td>1966</td>\n",
       "      <td>133.0</td>\n",
       "      <td>360.0</td>\n",
       "      <td>0.0</td>\n",
       "      <td>Rural</td>\n",
       "      <td>N</td>\n",
       "      <td>139.129141</td>\n",
       "    </tr>\n",
       "    <tr>\n",
       "      <th>61</th>\n",
       "      <td>354</td>\n",
       "      <td>LP002921</td>\n",
       "      <td>Male</td>\n",
       "      <td>Yes</td>\n",
       "      <td>3+</td>\n",
       "      <td>Not Graduate</td>\n",
       "      <td>No</td>\n",
       "      <td>5316</td>\n",
       "      <td>187</td>\n",
       "      <td>158.0</td>\n",
       "      <td>180.0</td>\n",
       "      <td>0.0</td>\n",
       "      <td>Semiurban</td>\n",
       "      <td>N</td>\n",
       "      <td>136.347576</td>\n",
       "    </tr>\n",
       "  </tbody>\n",
       "</table>\n",
       "<p>62 rows × 15 columns</p>\n",
       "</div>"
      ],
      "text/plain": [
       "    Unnamed: 0   Loan_ID  Gender Married Dependents     Education  \\\n",
       "0            7  LP001056    Male     Yes          2  Not Graduate   \n",
       "1           13  LP001094    Male     Yes          2      Graduate   \n",
       "2           35  LP001203    Male      No          0      Graduate   \n",
       "3           55  LP001313    Male      No          0      Graduate   \n",
       "4           58  LP001323  Female     Yes          2      Graduate   \n",
       "..         ...       ...     ...     ...        ...           ...   \n",
       "57         317  LP002774    Male     Yes          0  Not Graduate   \n",
       "58         325  LP002802    Male      No          0      Graduate   \n",
       "59         339  LP002858  Female      No          0      Graduate   \n",
       "60         346  LP002879    Male     Yes          0      Graduate   \n",
       "61         354  LP002921    Male     Yes         3+  Not Graduate   \n",
       "\n",
       "   Self_Employed  ApplicantIncome  CoapplicantIncome  LoanAmount  \\\n",
       "0             No             3881                  0       147.0   \n",
       "1             No            12173                  0       166.0   \n",
       "2             No             3150                  0       176.0   \n",
       "3             No             2750                  0       130.0   \n",
       "4             No             2779               3664       176.0   \n",
       "..           ...              ...                ...         ...   \n",
       "57            No             1700               2900        67.0   \n",
       "58            No             2875               2416        95.0   \n",
       "59            No             4333               2333       162.0   \n",
       "60            No             3391               1966       133.0   \n",
       "61            No             5316                187       158.0   \n",
       "\n",
       "    Loan_Amount_Term  Credit_History Property_Area Loan_Status  \\\n",
       "0              360.0             0.0         Rural           N   \n",
       "1              360.0             0.0     Semiurban           N   \n",
       "2              360.0             0.0     Semiurban           N   \n",
       "3              360.0             0.0         Urban           N   \n",
       "4              360.0             0.0     Semiurban           N   \n",
       "..               ...             ...           ...         ...   \n",
       "57             360.0             0.0         Urban           N   \n",
       "58               6.0             0.0     Semiurban           N   \n",
       "59             360.0             0.0         Rural           N   \n",
       "60             360.0             0.0         Rural           N   \n",
       "61             180.0             0.0     Semiurban           N   \n",
       "\n",
       "    Loan_new_Amount  \n",
       "0        126.593159  \n",
       "1        224.480694  \n",
       "2        104.328912  \n",
       "3         96.654600  \n",
       "4        153.876082  \n",
       "..              ...  \n",
       "57       127.213748  \n",
       "58       108.176517  \n",
       "59       143.563609  \n",
       "60       139.129141  \n",
       "61       136.347576  \n",
       "\n",
       "[62 rows x 15 columns]"
      ]
     },
     "execution_count": 44,
     "metadata": {},
     "output_type": "execute_result"
    }
   ],
   "source": [
    "B"
   ]
  },
  {
   "cell_type": "code",
   "execution_count": null,
   "id": "519a5261",
   "metadata": {},
   "outputs": [],
   "source": []
  },
  {
   "cell_type": "code",
   "execution_count": null,
   "id": "cf4a4396",
   "metadata": {},
   "outputs": [],
   "source": []
  },
  {
   "cell_type": "code",
   "execution_count": null,
   "id": "f5d9a6a9",
   "metadata": {},
   "outputs": [],
   "source": []
  }
 ],
 "metadata": {
  "kernelspec": {
   "display_name": "Python 3 (ipykernel)",
   "language": "python",
   "name": "python3"
  },
  "language_info": {
   "codemirror_mode": {
    "name": "ipython",
    "version": 3
   },
   "file_extension": ".py",
   "mimetype": "text/x-python",
   "name": "python",
   "nbconvert_exporter": "python",
   "pygments_lexer": "ipython3",
   "version": "3.9.15"
  }
 },
 "nbformat": 4,
 "nbformat_minor": 5
}
