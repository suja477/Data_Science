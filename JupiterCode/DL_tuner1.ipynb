{
 "cells": [
  {
   "cell_type": "code",
   "execution_count": 1,
   "id": "ed0e2dd8",
   "metadata": {},
   "outputs": [],
   "source": [
    "import pandas as pd\n",
    "A=pd.read_csv(\"C:/Users/Suja4/OneDrive/Documents/Data Science/Dataset/cars93.csv\")\n",
    "\n",
    "from warnings import filterwarnings\n",
    "filterwarnings(\"ignore\")"
   ]
  },
  {
   "cell_type": "code",
   "execution_count": 2,
   "id": "f2f188a3",
   "metadata": {},
   "outputs": [],
   "source": [
    "from Wd8pm import replacer\n",
    "replacer(A)"
   ]
  },
  {
   "cell_type": "code",
   "execution_count": 3,
   "id": "0c90fc09",
   "metadata": {},
   "outputs": [],
   "source": [
    "Y = A[[\"Origin\"]]\n",
    "X = A.drop(labels=[\"id\",\"Make\",\"Model\",\"Origin\"],axis=1)\n",
    "from Wd8pm import prep_NN\n",
    "Xnew,Ynew = prep_NN(X,Y)"
   ]
  },
  {
   "cell_type": "code",
   "execution_count": 4,
   "id": "fe179060",
   "metadata": {},
   "outputs": [],
   "source": [
    "from keras.models import Sequential\n",
    "from keras.layers import Dense,Dropout\n",
    "import keras_tuner as kt\n",
    "from keras.callbacks import EarlyStopping"
   ]
  },
  {
   "cell_type": "code",
   "execution_count": 5,
   "id": "10230c24",
   "metadata": {},
   "outputs": [],
   "source": [
    "def model_builder(hp):\n",
    "    nn = Sequential()\n",
    "    nn.add(Dense(200,input_dim=(len(Xnew.columns))))\n",
    "    nn.add(Dropout(0.1))\n",
    "    x = hp.Int(\"units\",min_value=32,max_value=512,step=32)\n",
    "    nn.add(Dense(units=x))\n",
    "    nn.add(Dense(1,activation=\"sigmoid\"))\n",
    "    nn.compile(loss=\"binary_crossentropy\",metrics=\"accuracy\")\n",
    "    return nn"
   ]
  },
  {
   "cell_type": "code",
   "execution_count": 6,
   "id": "04e17ac6",
   "metadata": {},
   "outputs": [
    {
     "name": "stdout",
     "output_type": "stream",
     "text": [
      "INFO:tensorflow:Reloading Oracle from existing project Desktop/KT1\\KT_ex1\\oracle.json\n",
      "INFO:tensorflow:Reloading Tuner from Desktop/KT1\\KT_ex1\\tuner0.json\n"
     ]
    }
   ],
   "source": [
    "tuner = kt.Hyperband(model_builder,\n",
    "            objective=\"val_accuracy\",\n",
    "            max_epochs=5,\n",
    "            directory=\"Desktop/KT1\",\n",
    "            project_name=\"KT_ex1\")"
   ]
  },
  {
   "cell_type": "code",
   "execution_count": 7,
   "id": "db807488",
   "metadata": {},
   "outputs": [
    {
     "name": "stdout",
     "output_type": "stream",
     "text": [
      "INFO:tensorflow:Oracle triggered exit\n"
     ]
    }
   ],
   "source": [
    "es = EarlyStopping(monitor=\"accuracy\",patience=10)\n",
    "tuner.search(Xnew,Ynew,validation_split=0.2,epochs=10,callbacks=[es])"
   ]
  },
  {
   "cell_type": "code",
   "execution_count": 8,
   "id": "47a03c34",
   "metadata": {},
   "outputs": [
    {
     "data": {
      "text/plain": [
       "448"
      ]
     },
     "execution_count": 8,
     "metadata": {},
     "output_type": "execute_result"
    }
   ],
   "source": [
    "q = tuner.get_best_hyperparameters(num_trials=11)[0]\n",
    "q.get(\"units\")"
   ]
  },
  {
   "cell_type": "code",
   "execution_count": null,
   "id": "0807e2cf",
   "metadata": {},
   "outputs": [],
   "source": []
  }
 ],
 "metadata": {
  "kernelspec": {
   "display_name": "Python 3 (ipykernel)",
   "language": "python",
   "name": "python3"
  },
  "language_info": {
   "codemirror_mode": {
    "name": "ipython",
    "version": 3
   },
   "file_extension": ".py",
   "mimetype": "text/x-python",
   "name": "python",
   "nbconvert_exporter": "python",
   "pygments_lexer": "ipython3",
   "version": "3.9.15"
  }
 },
 "nbformat": 4,
 "nbformat_minor": 5
}
