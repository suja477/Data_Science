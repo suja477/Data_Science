{
 "cells": [
  {
   "cell_type": "code",
   "execution_count": 8,
   "id": "78f354c5",
   "metadata": {},
   "outputs": [
    {
     "name": "stdout",
     "output_type": "stream",
     "text": [
      "1\n",
      "2\n",
      "3\n",
      "2\n",
      "[2, 1]\n",
      "[3, 1]\n",
      "[1, 2]\n",
      "[2, 2]\n",
      "[3, 2]\n",
      "[1, 3]\n",
      "[2, 3]\n",
      "[3, 3]\n"
     ]
    }
   ],
   "source": [
    "if __name__ == '__main__':\n",
    "    x = int(input())\n",
    "    y = int(input())\n",
    "    z = int(input())\n",
    "    n = int(input())\n",
    "    \n",
    "matrix =[ [i,j] for j in [x,y,z] for i in [x,y,z]]\n",
    "for m in range(0,len(matrix)):\n",
    "    s=matrix[m][0]+matrix[m][1]\n",
    "    if(s!=n):\n",
    "        print(matrix[m])"
   ]
  },
  {
   "cell_type": "code",
   "execution_count": null,
   "id": "51590d86",
   "metadata": {},
   "outputs": [],
   "source": []
  }
 ],
 "metadata": {
  "kernelspec": {
   "display_name": "Python 3 (ipykernel)",
   "language": "python",
   "name": "python3"
  },
  "language_info": {
   "codemirror_mode": {
    "name": "ipython",
    "version": 3
   },
   "file_extension": ".py",
   "mimetype": "text/x-python",
   "name": "python",
   "nbconvert_exporter": "python",
   "pygments_lexer": "ipython3",
   "version": "3.9.12"
  }
 },
 "nbformat": 4,
 "nbformat_minor": 5
}
