{
 "cells": [
  {
   "cell_type": "code",
   "execution_count": 1,
   "id": "691eee8b",
   "metadata": {},
   "outputs": [],
   "source": [
    "from bs4 import BeautifulSoup\n",
    "import requests "
   ]
  },
  {
   "cell_type": "code",
   "execution_count": 2,
   "id": "9760e678",
   "metadata": {},
   "outputs": [],
   "source": [
    "url = \"https://www.opindia.com/2023/01/bbc-discredited-testimonies-of-sanjiv-bhatt-rb-sreekumar-teesta-setalvad-to-frame-pm-modi-in-2002-gujarat-riots/\"\n",
    "data = requests.get(url)\n",
    "rawdata = data.content"
   ]
  },
  {
   "cell_type": "code",
   "execution_count": 3,
   "id": "6a9f3578",
   "metadata": {},
   "outputs": [],
   "source": [
    "soup = BeautifulSoup(rawdata)"
   ]
  },
  {
   "cell_type": "code",
   "execution_count": 5,
   "id": "61e6adcf",
   "metadata": {},
   "outputs": [
    {
     "data": {
      "text/plain": [
       "[<h1 class=\"tdb-title-text\">BBC leans on discredited testimonies of Sanjiv Bhatt, RB Sreekumar and Teesta Setalvad to frame PM Modi in 2002 Gujarat Riots case: Details</h1>]"
      ]
     },
     "execution_count": 5,
     "metadata": {},
     "output_type": "execute_result"
    }
   ],
   "source": [
    "soup.find_all(\"h1\")"
   ]
  },
  {
   "cell_type": "code",
   "execution_count": 6,
   "id": "8a1b305e",
   "metadata": {},
   "outputs": [
    {
     "data": {
      "text/plain": [
       "<h1 class=\"tdb-title-text\">BBC leans on discredited testimonies of Sanjiv Bhatt, RB Sreekumar and Teesta Setalvad to frame PM Modi in 2002 Gujarat Riots case: Details</h1>"
      ]
     },
     "execution_count": 6,
     "metadata": {},
     "output_type": "execute_result"
    }
   ],
   "source": [
    "soup.find_all('h1')[0]"
   ]
  },
  {
   "cell_type": "code",
   "execution_count": 7,
   "id": "92b8da03",
   "metadata": {},
   "outputs": [
    {
     "data": {
      "text/plain": [
       "'BBC leans on discredited testimonies of Sanjiv Bhatt, RB Sreekumar and Teesta Setalvad to frame PM Modi in 2002 Gujarat Riots case: Details'"
      ]
     },
     "execution_count": 7,
     "metadata": {},
     "output_type": "execute_result"
    }
   ],
   "source": [
    "soup.find_all('h1')[0].text"
   ]
  },
  {
   "cell_type": "code",
   "execution_count": 8,
   "id": "1950c6b5",
   "metadata": {},
   "outputs": [],
   "source": [
    "heading = soup.find_all('h1')[0].text"
   ]
  },
  {
   "cell_type": "code",
   "execution_count": 9,
   "id": "519e1684",
   "metadata": {},
   "outputs": [],
   "source": [
    "def heading(url):\n",
    "    data = requests.get(url)\n",
    "    rawdata = data.content\n",
    "    soup = BeautifulSoup(rawdata)\n",
    "    heading = soup.find_all('h1')[0].text\n",
    "    return heading"
   ]
  },
  {
   "cell_type": "code",
   "execution_count": 10,
   "id": "aad132f5",
   "metadata": {},
   "outputs": [
    {
     "data": {
      "text/plain": [
       "'Saurabh Kirpal may become first gay judge of a constitutional court after SC Collegium said his Swiss gay partner, a Swiss embassy officer, is not a security threat'"
      ]
     },
     "execution_count": 10,
     "metadata": {},
     "output_type": "execute_result"
    }
   ],
   "source": [
    "heading(\"https://www.opindia.com/2023/01/saurabh-kirpal-may-become-first-gay-judge-of-a-constitutional-court/\")"
   ]
  },
  {
   "cell_type": "code",
   "execution_count": 11,
   "id": "5c62b047",
   "metadata": {},
   "outputs": [],
   "source": [
    "url = \"https://www.opindia.com/2023/01/bbc-pm-modi-india-documentary-propaganda-2024-election-congress-left/\"\n",
    "data = requests.get(url)\n",
    "rawdata = data.content\n",
    "soup = BeautifulSoup(rawdata)"
   ]
  },
  {
   "cell_type": "code",
   "execution_count": 12,
   "id": "0bb45dc9",
   "metadata": {},
   "outputs": [
    {
     "data": {
      "text/plain": [
       "'20 January, 2023 '"
      ]
     },
     "execution_count": 12,
     "metadata": {},
     "output_type": "execute_result"
    }
   ],
   "source": [
    "soup.find_all(\"time\")[0].text"
   ]
  },
  {
   "cell_type": "code",
   "execution_count": 13,
   "id": "fd32b69e",
   "metadata": {},
   "outputs": [],
   "source": [
    "time = soup.find_all(\"time\")[0].text"
   ]
  },
  {
   "cell_type": "code",
   "execution_count": 14,
   "id": "16fe9971",
   "metadata": {},
   "outputs": [],
   "source": [
    "def headntime(url):\n",
    "    data = requests.get(url)\n",
    "    rawdata = data.content\n",
    "    soup = BeautifulSoup(rawdata)\n",
    "    heading = soup.find_all('h1')[0].text\n",
    "    time = soup.find_all(\"time\")[0].text\n",
    "    return heading,time"
   ]
  },
  {
   "cell_type": "code",
   "execution_count": 15,
   "id": "e463e83e",
   "metadata": {},
   "outputs": [],
   "source": [
    "h,t = headntime(\"https://www.opindia.com/2023/01/bbc-pm-modi-india-documentary-propaganda-2024-election-congress-left/\")"
   ]
  },
  {
   "cell_type": "code",
   "execution_count": 16,
   "id": "18b537d0",
   "metadata": {},
   "outputs": [
    {
     "data": {
      "text/plain": [
       "'BBC and its documentary on Prime Minister Modi: The bugle has been sounded and the 2024 campaign has officially begun'"
      ]
     },
     "execution_count": 16,
     "metadata": {},
     "output_type": "execute_result"
    }
   ],
   "source": [
    "h"
   ]
  },
  {
   "cell_type": "code",
   "execution_count": 17,
   "id": "73c3250d",
   "metadata": {},
   "outputs": [
    {
     "data": {
      "text/plain": [
       "'20 January, 2023 '"
      ]
     },
     "execution_count": 17,
     "metadata": {},
     "output_type": "execute_result"
    }
   ],
   "source": [
    "t"
   ]
  },
  {
   "cell_type": "code",
   "execution_count": 18,
   "id": "d3c527af",
   "metadata": {},
   "outputs": [],
   "source": [
    "def headtimeart (url):\n",
    "    data = requests.get(url)\n",
    "    rawdata = data.content\n",
    "    soup = BeautifulSoup(rawdata)\n",
    "    heading = soup.find_all('h1')[0].text\n",
    "    time =  soup.find_all(\"time\")[0].text\n",
    "    art =soup.find_all(\"p\")[0].text\n",
    "    return heading,time,art"
   ]
  },
  {
   "cell_type": "code",
   "execution_count": 19,
   "id": "e1eb2a75",
   "metadata": {},
   "outputs": [
    {
     "data": {
      "text/plain": [
       "('BBC and its documentary on Prime Minister Modi: The bugle has been sounded and the 2024 campaign has officially begun',\n",
       " '20 January, 2023 ',\n",
       " 'It is no surprise that the global woke left will start its own symphony orchestra to sing songs they believe will re-enable dynastic dacoity and bring back the good old days.\\xa0\\xa0Expect more synchronised campaigns from NY Times, Washington Post and Al Jazeera. It has just started with BBC. ')"
      ]
     },
     "execution_count": 19,
     "metadata": {},
     "output_type": "execute_result"
    }
   ],
   "source": [
    "headtimeart(url)"
   ]
  },
  {
   "cell_type": "code",
   "execution_count": null,
   "id": "e721e006",
   "metadata": {},
   "outputs": [],
   "source": []
  }
 ],
 "metadata": {
  "kernelspec": {
   "display_name": "Python 3 (ipykernel)",
   "language": "python",
   "name": "python3"
  },
  "language_info": {
   "codemirror_mode": {
    "name": "ipython",
    "version": 3
   },
   "file_extension": ".py",
   "mimetype": "text/x-python",
   "name": "python",
   "nbconvert_exporter": "python",
   "pygments_lexer": "ipython3",
   "version": "3.9.15"
  }
 },
 "nbformat": 4,
 "nbformat_minor": 5
}
