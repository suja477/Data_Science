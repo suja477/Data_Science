{
 "cells": [
  {
   "cell_type": "code",
   "execution_count": 1,
   "id": "9c849744",
   "metadata": {},
   "outputs": [],
   "source": [
    "import pandas as pd"
   ]
  },
  {
   "cell_type": "code",
   "execution_count": 2,
   "id": "c7f5be0d",
   "metadata": {},
   "outputs": [],
   "source": [
    "A=pd.read_csv(\"C:/Users/Suja4/OneDrive/Documents/Data Science/Dataset/Cars93.csv\")"
   ]
  },
  {
   "cell_type": "code",
   "execution_count": 3,
   "id": "a190d349",
   "metadata": {},
   "outputs": [
    {
     "data": {
      "text/html": [
       "<div>\n",
       "<style scoped>\n",
       "    .dataframe tbody tr th:only-of-type {\n",
       "        vertical-align: middle;\n",
       "    }\n",
       "\n",
       "    .dataframe tbody tr th {\n",
       "        vertical-align: top;\n",
       "    }\n",
       "\n",
       "    .dataframe thead th {\n",
       "        text-align: right;\n",
       "    }\n",
       "</style>\n",
       "<table border=\"1\" class=\"dataframe\">\n",
       "  <thead>\n",
       "    <tr style=\"text-align: right;\">\n",
       "      <th></th>\n",
       "      <th>id</th>\n",
       "      <th>Manufacturer</th>\n",
       "      <th>Model</th>\n",
       "      <th>Type</th>\n",
       "      <th>Min.Price</th>\n",
       "      <th>Price</th>\n",
       "      <th>Max.Price</th>\n",
       "      <th>MPG.city</th>\n",
       "      <th>MPG.highway</th>\n",
       "      <th>AirBags</th>\n",
       "      <th>...</th>\n",
       "      <th>Passengers</th>\n",
       "      <th>Length</th>\n",
       "      <th>Wheelbase</th>\n",
       "      <th>Width</th>\n",
       "      <th>Turn.circle</th>\n",
       "      <th>Rear.seat.room</th>\n",
       "      <th>Luggage.room</th>\n",
       "      <th>Weight</th>\n",
       "      <th>Origin</th>\n",
       "      <th>Make</th>\n",
       "    </tr>\n",
       "  </thead>\n",
       "  <tbody>\n",
       "    <tr>\n",
       "      <th>0</th>\n",
       "      <td>1</td>\n",
       "      <td>Acura</td>\n",
       "      <td>Integra</td>\n",
       "      <td>Small</td>\n",
       "      <td>12.9</td>\n",
       "      <td>15.9</td>\n",
       "      <td>18.8</td>\n",
       "      <td>25</td>\n",
       "      <td>31</td>\n",
       "      <td>None</td>\n",
       "      <td>...</td>\n",
       "      <td>5</td>\n",
       "      <td>177</td>\n",
       "      <td>102</td>\n",
       "      <td>68</td>\n",
       "      <td>37</td>\n",
       "      <td>26.5</td>\n",
       "      <td>11.0</td>\n",
       "      <td>2705</td>\n",
       "      <td>non-USA</td>\n",
       "      <td>Acura Integra</td>\n",
       "    </tr>\n",
       "    <tr>\n",
       "      <th>1</th>\n",
       "      <td>2</td>\n",
       "      <td>Acura</td>\n",
       "      <td>Legend</td>\n",
       "      <td>Midsize</td>\n",
       "      <td>29.2</td>\n",
       "      <td>33.9</td>\n",
       "      <td>38.7</td>\n",
       "      <td>18</td>\n",
       "      <td>25</td>\n",
       "      <td>Driver &amp; Passenger</td>\n",
       "      <td>...</td>\n",
       "      <td>5</td>\n",
       "      <td>195</td>\n",
       "      <td>115</td>\n",
       "      <td>71</td>\n",
       "      <td>38</td>\n",
       "      <td>30.0</td>\n",
       "      <td>15.0</td>\n",
       "      <td>3560</td>\n",
       "      <td>non-USA</td>\n",
       "      <td>Acura Legend</td>\n",
       "    </tr>\n",
       "    <tr>\n",
       "      <th>2</th>\n",
       "      <td>3</td>\n",
       "      <td>Audi</td>\n",
       "      <td>90</td>\n",
       "      <td>Compact</td>\n",
       "      <td>25.9</td>\n",
       "      <td>29.1</td>\n",
       "      <td>32.3</td>\n",
       "      <td>20</td>\n",
       "      <td>26</td>\n",
       "      <td>Driver only</td>\n",
       "      <td>...</td>\n",
       "      <td>5</td>\n",
       "      <td>180</td>\n",
       "      <td>102</td>\n",
       "      <td>67</td>\n",
       "      <td>37</td>\n",
       "      <td>28.0</td>\n",
       "      <td>14.0</td>\n",
       "      <td>3375</td>\n",
       "      <td>non-USA</td>\n",
       "      <td>Audi 90</td>\n",
       "    </tr>\n",
       "  </tbody>\n",
       "</table>\n",
       "<p>3 rows × 28 columns</p>\n",
       "</div>"
      ],
      "text/plain": [
       "   id Manufacturer    Model     Type  Min.Price  Price  Max.Price  MPG.city  \\\n",
       "0   1        Acura  Integra    Small       12.9   15.9       18.8        25   \n",
       "1   2        Acura   Legend  Midsize       29.2   33.9       38.7        18   \n",
       "2   3         Audi       90  Compact       25.9   29.1       32.3        20   \n",
       "\n",
       "   MPG.highway             AirBags  ... Passengers Length  Wheelbase  Width  \\\n",
       "0           31                None  ...          5    177        102     68   \n",
       "1           25  Driver & Passenger  ...          5    195        115     71   \n",
       "2           26         Driver only  ...          5    180        102     67   \n",
       "\n",
       "   Turn.circle  Rear.seat.room Luggage.room  Weight   Origin           Make  \n",
       "0           37            26.5         11.0    2705  non-USA  Acura Integra  \n",
       "1           38            30.0         15.0    3560  non-USA   Acura Legend  \n",
       "2           37            28.0         14.0    3375  non-USA        Audi 90  \n",
       "\n",
       "[3 rows x 28 columns]"
      ]
     },
     "execution_count": 3,
     "metadata": {},
     "output_type": "execute_result"
    }
   ],
   "source": [
    "A.head(3)"
   ]
  },
  {
   "cell_type": "code",
   "execution_count": 4,
   "id": "94ba4655",
   "metadata": {},
   "outputs": [],
   "source": [
    "A.columns=['id', 'Manufacturer', 'Model', 'Type', 'MinPrice', 'Price',\n",
    "       'MaxPrice', 'MPGcity', 'MPGhighway', 'AirBags', 'DriveTrain',\n",
    "       'Cylinders', 'EngineSize', 'Horsepower', 'RPM', 'Revpermile',\n",
    "       'Mantransavail', 'Fueltankcapacity', 'Passengers', 'Length',\n",
    "       'Wheelbase', 'Width', 'Turncircle', 'Rearseatroom', 'Luggageroom',\n",
    "       'Weight', 'Origin', 'Make']"
   ]
  },
  {
   "cell_type": "markdown",
   "id": "2a1d0366",
   "metadata": {},
   "source": [
    "# Missing Data Treatment"
   ]
  },
  {
   "cell_type": "code",
   "execution_count": 5,
   "id": "10decb2e",
   "metadata": {},
   "outputs": [],
   "source": [
    "from Wd8pm import replacer\n",
    "replacer(A)"
   ]
  },
  {
   "cell_type": "markdown",
   "id": "5e9c2107",
   "metadata": {},
   "source": [
    "# Remove unique values"
   ]
  },
  {
   "cell_type": "code",
   "execution_count": 6,
   "id": "0b953a4c",
   "metadata": {},
   "outputs": [
    {
     "data": {
      "text/plain": [
       "id                  93\n",
       "Manufacturer        32\n",
       "Model               93\n",
       "Type                 6\n",
       "MinPrice            79\n",
       "Price               81\n",
       "MaxPrice            79\n",
       "MPGcity             21\n",
       "MPGhighway          22\n",
       "AirBags              3\n",
       "DriveTrain           3\n",
       "Cylinders            6\n",
       "EngineSize          26\n",
       "Horsepower          57\n",
       "RPM                 24\n",
       "Revpermile          78\n",
       "Mantransavail        2\n",
       "Fueltankcapacity    38\n",
       "Passengers           6\n",
       "Length              51\n",
       "Wheelbase           27\n",
       "Width               16\n",
       "Turncircle          14\n",
       "Rearseatroom        25\n",
       "Luggageroom         17\n",
       "Weight              81\n",
       "Origin               2\n",
       "Make                93\n",
       "dtype: int64"
      ]
     },
     "execution_count": 6,
     "metadata": {},
     "output_type": "execute_result"
    }
   ],
   "source": [
    "A.nunique()"
   ]
  },
  {
   "cell_type": "code",
   "execution_count": 7,
   "id": "7c8854c2",
   "metadata": {},
   "outputs": [],
   "source": [
    "A=A.drop(labels=[\"id\",\"Model\",\"Make\"],axis=1)"
   ]
  },
  {
   "cell_type": "markdown",
   "id": "a297f98d",
   "metadata": {},
   "source": [
    "# Outlier removal"
   ]
  },
  {
   "cell_type": "code",
   "execution_count": 8,
   "id": "d42975f7",
   "metadata": {},
   "outputs": [],
   "source": [
    "from Wd8pm import OL"
   ]
  },
  {
   "cell_type": "code",
   "execution_count": 9,
   "id": "9800d0d0",
   "metadata": {
    "scrolled": true
   },
   "outputs": [],
   "source": [
    "outliers=OL(A)"
   ]
  },
  {
   "cell_type": "code",
   "execution_count": 10,
   "id": "bc86b81e",
   "metadata": {},
   "outputs": [],
   "source": [
    "A=A.drop(index=outliers,axis=0)"
   ]
  },
  {
   "cell_type": "code",
   "execution_count": 11,
   "id": "8678acbd",
   "metadata": {},
   "outputs": [
    {
     "data": {
      "text/plain": [
       "(87, 25)"
      ]
     },
     "execution_count": 11,
     "metadata": {},
     "output_type": "execute_result"
    }
   ],
   "source": [
    "A.shape"
   ]
  },
  {
   "cell_type": "code",
   "execution_count": 12,
   "id": "235bf8ed",
   "metadata": {},
   "outputs": [],
   "source": [
    "A.index=range(0,87)"
   ]
  },
  {
   "cell_type": "markdown",
   "id": "f902384d",
   "metadata": {},
   "source": [
    "# EDA "
   ]
  },
  {
   "cell_type": "code",
   "execution_count": 13,
   "id": "98b49b85",
   "metadata": {},
   "outputs": [],
   "source": [
    "X=A.drop(labels=[\"MinPrice\",\"MaxPrice\",\"Price\"],axis=1)\n",
    "Y=A[['Price']]"
   ]
  },
  {
   "cell_type": "code",
   "execution_count": null,
   "id": "624d6e31",
   "metadata": {},
   "outputs": [],
   "source": []
  },
  {
   "cell_type": "markdown",
   "id": "74c9f11c",
   "metadata": {},
   "source": [
    "# check correlation of continuous values"
   ]
  },
  {
   "cell_type": "code",
   "execution_count": 14,
   "id": "3d2b7d4f",
   "metadata": {},
   "outputs": [
    {
     "data": {
      "text/plain": [
       "MPGcity            -0.703633\n",
       "MPGhighway         -0.626498\n",
       "Revpermile         -0.458679\n",
       "RPM                -0.060176\n",
       "Passengers          0.059701\n",
       "Luggageroom         0.371466\n",
       "Rearseatroom        0.382788\n",
       "Turncircle          0.459958\n",
       "Wheelbase           0.499039\n",
       "Width               0.535804\n",
       "Length              0.536407\n",
       "EngineSize          0.632183\n",
       "Weight              0.689606\n",
       "Fueltankcapacity    0.700509\n",
       "Horsepower          0.801048\n",
       "MinPrice            0.975467\n",
       "MaxPrice            0.980614\n",
       "Price               1.000000\n",
       "Name: Price, dtype: float64"
      ]
     },
     "execution_count": 14,
     "metadata": {},
     "output_type": "execute_result"
    }
   ],
   "source": [
    "Q=A.corr()[\"Price\"]\n",
    "Q.sort_values()"
   ]
  },
  {
   "cell_type": "code",
   "execution_count": 15,
   "id": "ab36b8a1",
   "metadata": {},
   "outputs": [
    {
     "data": {
      "text/plain": [
       "Index(['MinPrice', 'MaxPrice', 'MPGcity', 'MPGhighway', 'EngineSize',\n",
       "       'Horsepower', 'Revpermile', 'Fueltankcapacity', 'Length', 'Wheelbase',\n",
       "       'Width', 'Turncircle', 'Rearseatroom', 'Luggageroom', 'Weight'],\n",
       "      dtype='object')"
      ]
     },
     "execution_count": 15,
     "metadata": {},
     "output_type": "execute_result"
    }
   ],
   "source": [
    "Q=Q[Q!=1]\n",
    "Q=Q[(Q<-0.3) |(Q>0.3)]\n",
    "Q.index"
   ]
  },
  {
   "cell_type": "markdown",
   "id": "48429a39",
   "metadata": {},
   "source": [
    "# select imp categorical using anova"
   ]
  },
  {
   "cell_type": "code",
   "execution_count": 16,
   "id": "66033b90",
   "metadata": {},
   "outputs": [
    {
     "name": "stdout",
     "output_type": "stream",
     "text": [
      "Origin ~ MPGcity ----> 0.03227\n",
      "Origin ~ MPGhighway ----> 0.22786\n",
      "Origin ~ EngineSize ----> 4e-05\n",
      "Origin ~ Horsepower ----> 0.33147\n",
      "Origin ~ RPM ----> 0.0\n",
      "Origin ~ Revpermile ----> 1e-05\n",
      "Origin ~ Fueltankcapacity ----> 0.28964\n",
      "Origin ~ Passengers ----> 0.03646\n",
      "Origin ~ Length ----> 0.00027\n",
      "Origin ~ Wheelbase ----> 0.00435\n",
      "Origin ~ Width ----> 2e-05\n",
      "Origin ~ Turncircle ----> 0.0\n",
      "Origin ~ Rearseatroom ----> 0.23994\n",
      "Origin ~ Luggageroom ----> 0.00045\n",
      "Origin ~ Weight ----> 0.04086\n"
     ]
    }
   ],
   "source": [
    " imp_cols = []\n",
    "from Wd8pm import ANOVA,chisq\n",
    "for i in X.columns:\n",
    "    if(X[i].dtypes == \"object\"):\n",
    "        pval = chisq(A,\"Origin\",i)\n",
    "        \n",
    "    else:\n",
    "        pval = ANOVA(A,\"Origin\",i)\n",
    "        print(\"Origin ~\",i,\"---->\",pval)\n",
    "        if(pval<0.05):\n",
    "            imp_cols.append(i)"
   ]
  },
  {
   "cell_type": "code",
   "execution_count": 17,
   "id": "cc0d7aa3",
   "metadata": {},
   "outputs": [],
   "source": [
    "Ximp = A[['Mantransavail','Cylinders','DriveTrain','AirBags','Type','Manufacturer','MPGcity', 'MPGhighway', 'EngineSize',\n",
    "       'Horsepower','Revpermile','Fueltankcapacity','Length','Wheelbase', 'Width', 'Turncircle', 'Rearseatroom', 'Luggageroom',\n",
    "       'Weight']]"
   ]
  },
  {
   "cell_type": "markdown",
   "id": "36ecaec3",
   "metadata": {},
   "source": [
    "# Preprocessing"
   ]
  },
  {
   "cell_type": "code",
   "execution_count": 18,
   "id": "b20020b0",
   "metadata": {},
   "outputs": [
    {
     "data": {
      "text/html": [
       "<div>\n",
       "<style scoped>\n",
       "    .dataframe tbody tr th:only-of-type {\n",
       "        vertical-align: middle;\n",
       "    }\n",
       "\n",
       "    .dataframe tbody tr th {\n",
       "        vertical-align: top;\n",
       "    }\n",
       "\n",
       "    .dataframe thead th {\n",
       "        text-align: right;\n",
       "    }\n",
       "</style>\n",
       "<table border=\"1\" class=\"dataframe\">\n",
       "  <thead>\n",
       "    <tr style=\"text-align: right;\">\n",
       "      <th></th>\n",
       "      <th>MPGcity</th>\n",
       "      <th>MPGhighway</th>\n",
       "      <th>EngineSize</th>\n",
       "      <th>Horsepower</th>\n",
       "      <th>Revpermile</th>\n",
       "      <th>Fueltankcapacity</th>\n",
       "      <th>Length</th>\n",
       "      <th>Wheelbase</th>\n",
       "      <th>Width</th>\n",
       "      <th>Turncircle</th>\n",
       "      <th>...</th>\n",
       "      <th>Manufacturer_Oldsmobile</th>\n",
       "      <th>Manufacturer_Plymouth</th>\n",
       "      <th>Manufacturer_Pontiac</th>\n",
       "      <th>Manufacturer_Saab</th>\n",
       "      <th>Manufacturer_Saturn</th>\n",
       "      <th>Manufacturer_Subaru</th>\n",
       "      <th>Manufacturer_Suzuki</th>\n",
       "      <th>Manufacturer_Toyota</th>\n",
       "      <th>Manufacturer_Volkswagen</th>\n",
       "      <th>Manufacturer_Volvo</th>\n",
       "    </tr>\n",
       "  </thead>\n",
       "  <tbody>\n",
       "    <tr>\n",
       "      <th>0</th>\n",
       "      <td>0.639252</td>\n",
       "      <td>0.466489</td>\n",
       "      <td>-0.864615</td>\n",
       "      <td>-0.064217</td>\n",
       "      <td>1.181529</td>\n",
       "      <td>-1.170016</td>\n",
       "      <td>-0.456978</td>\n",
       "      <td>-0.288061</td>\n",
       "      <td>-0.382895</td>\n",
       "      <td>-0.635770</td>\n",
       "      <td>...</td>\n",
       "      <td>0</td>\n",
       "      <td>0</td>\n",
       "      <td>0</td>\n",
       "      <td>0</td>\n",
       "      <td>0</td>\n",
       "      <td>0</td>\n",
       "      <td>0</td>\n",
       "      <td>0</td>\n",
       "      <td>0</td>\n",
       "      <td>0</td>\n",
       "    </tr>\n",
       "    <tr>\n",
       "      <th>1</th>\n",
       "      <td>-0.875551</td>\n",
       "      <td>-0.878854</td>\n",
       "      <td>0.532071</td>\n",
       "      <td>1.137264</td>\n",
       "      <td>0.026200</td>\n",
       "      <td>0.459733</td>\n",
       "      <td>0.802930</td>\n",
       "      <td>1.651206</td>\n",
       "      <td>0.436249</td>\n",
       "      <td>-0.323273</td>\n",
       "      <td>...</td>\n",
       "      <td>0</td>\n",
       "      <td>0</td>\n",
       "      <td>0</td>\n",
       "      <td>0</td>\n",
       "      <td>0</td>\n",
       "      <td>0</td>\n",
       "      <td>0</td>\n",
       "      <td>0</td>\n",
       "      <td>0</td>\n",
       "      <td>0</td>\n",
       "    </tr>\n",
       "    <tr>\n",
       "      <th>2</th>\n",
       "      <td>-0.442750</td>\n",
       "      <td>-0.654630</td>\n",
       "      <td>0.133018</td>\n",
       "      <td>0.576573</td>\n",
       "      <td>-0.088292</td>\n",
       "      <td>0.086249</td>\n",
       "      <td>-0.246994</td>\n",
       "      <td>-0.288061</td>\n",
       "      <td>-0.655943</td>\n",
       "      <td>-0.635770</td>\n",
       "      <td>...</td>\n",
       "      <td>0</td>\n",
       "      <td>0</td>\n",
       "      <td>0</td>\n",
       "      <td>0</td>\n",
       "      <td>0</td>\n",
       "      <td>0</td>\n",
       "      <td>0</td>\n",
       "      <td>0</td>\n",
       "      <td>0</td>\n",
       "      <td>0</td>\n",
       "    </tr>\n",
       "    <tr>\n",
       "      <th>3</th>\n",
       "      <td>-0.659151</td>\n",
       "      <td>-0.654630</td>\n",
       "      <td>0.133018</td>\n",
       "      <td>0.576573</td>\n",
       "      <td>0.442535</td>\n",
       "      <td>1.512279</td>\n",
       "      <td>0.662940</td>\n",
       "      <td>0.308637</td>\n",
       "      <td>0.163201</td>\n",
       "      <td>-0.635770</td>\n",
       "      <td>...</td>\n",
       "      <td>0</td>\n",
       "      <td>0</td>\n",
       "      <td>0</td>\n",
       "      <td>0</td>\n",
       "      <td>0</td>\n",
       "      <td>0</td>\n",
       "      <td>0</td>\n",
       "      <td>0</td>\n",
       "      <td>0</td>\n",
       "      <td>0</td>\n",
       "    </tr>\n",
       "    <tr>\n",
       "      <th>4</th>\n",
       "      <td>-0.009949</td>\n",
       "      <td>0.242265</td>\n",
       "      <td>0.831361</td>\n",
       "      <td>1.297461</td>\n",
       "      <td>0.463352</td>\n",
       "      <td>1.512279</td>\n",
       "      <td>0.172976</td>\n",
       "      <td>0.756160</td>\n",
       "      <td>-0.109847</td>\n",
       "      <td>-0.010776</td>\n",
       "      <td>...</td>\n",
       "      <td>0</td>\n",
       "      <td>0</td>\n",
       "      <td>0</td>\n",
       "      <td>0</td>\n",
       "      <td>0</td>\n",
       "      <td>0</td>\n",
       "      <td>0</td>\n",
       "      <td>0</td>\n",
       "      <td>0</td>\n",
       "      <td>0</td>\n",
       "    </tr>\n",
       "    <tr>\n",
       "      <th>...</th>\n",
       "      <td>...</td>\n",
       "      <td>...</td>\n",
       "      <td>...</td>\n",
       "      <td>...</td>\n",
       "      <td>...</td>\n",
       "      <td>...</td>\n",
       "      <td>...</td>\n",
       "      <td>...</td>\n",
       "      <td>...</td>\n",
       "      <td>...</td>\n",
       "      <td>...</td>\n",
       "      <td>...</td>\n",
       "      <td>...</td>\n",
       "      <td>...</td>\n",
       "      <td>...</td>\n",
       "      <td>...</td>\n",
       "      <td>...</td>\n",
       "      <td>...</td>\n",
       "      <td>...</td>\n",
       "      <td>...</td>\n",
       "      <td>...</td>\n",
       "    </tr>\n",
       "    <tr>\n",
       "      <th>82</th>\n",
       "      <td>-1.091952</td>\n",
       "      <td>-1.775750</td>\n",
       "      <td>-0.166272</td>\n",
       "      <td>-0.684982</td>\n",
       "      <td>1.233571</td>\n",
       "      <td>1.512279</td>\n",
       "      <td>0.242971</td>\n",
       "      <td>1.651206</td>\n",
       "      <td>0.709297</td>\n",
       "      <td>-0.323273</td>\n",
       "      <td>...</td>\n",
       "      <td>0</td>\n",
       "      <td>0</td>\n",
       "      <td>0</td>\n",
       "      <td>0</td>\n",
       "      <td>0</td>\n",
       "      <td>0</td>\n",
       "      <td>0</td>\n",
       "      <td>0</td>\n",
       "      <td>1</td>\n",
       "      <td>0</td>\n",
       "    </tr>\n",
       "    <tr>\n",
       "      <th>83</th>\n",
       "      <td>-0.226350</td>\n",
       "      <td>0.242265</td>\n",
       "      <td>-0.665089</td>\n",
       "      <td>-0.184365</td>\n",
       "      <td>0.754786</td>\n",
       "      <td>0.629498</td>\n",
       "      <td>-0.246994</td>\n",
       "      <td>-0.138886</td>\n",
       "      <td>-0.655943</td>\n",
       "      <td>-1.260764</td>\n",
       "      <td>...</td>\n",
       "      <td>0</td>\n",
       "      <td>0</td>\n",
       "      <td>0</td>\n",
       "      <td>0</td>\n",
       "      <td>0</td>\n",
       "      <td>0</td>\n",
       "      <td>0</td>\n",
       "      <td>0</td>\n",
       "      <td>1</td>\n",
       "      <td>0</td>\n",
       "    </tr>\n",
       "    <tr>\n",
       "      <th>84</th>\n",
       "      <td>-0.875551</td>\n",
       "      <td>-0.878854</td>\n",
       "      <td>0.133018</td>\n",
       "      <td>0.696721</td>\n",
       "      <td>0.130284</td>\n",
       "      <td>0.629498</td>\n",
       "      <td>-1.716887</td>\n",
       "      <td>-1.033933</td>\n",
       "      <td>-0.928991</td>\n",
       "      <td>-0.948267</td>\n",
       "      <td>...</td>\n",
       "      <td>0</td>\n",
       "      <td>0</td>\n",
       "      <td>0</td>\n",
       "      <td>0</td>\n",
       "      <td>0</td>\n",
       "      <td>0</td>\n",
       "      <td>0</td>\n",
       "      <td>0</td>\n",
       "      <td>1</td>\n",
       "      <td>0</td>\n",
       "    </tr>\n",
       "    <tr>\n",
       "      <th>85</th>\n",
       "      <td>-0.226350</td>\n",
       "      <td>-0.206183</td>\n",
       "      <td>-0.365799</td>\n",
       "      <td>-0.584859</td>\n",
       "      <td>-0.223600</td>\n",
       "      <td>-0.287235</td>\n",
       "      <td>0.452956</td>\n",
       "      <td>0.010288</td>\n",
       "      <td>-0.655943</td>\n",
       "      <td>-0.635770</td>\n",
       "      <td>...</td>\n",
       "      <td>0</td>\n",
       "      <td>0</td>\n",
       "      <td>0</td>\n",
       "      <td>0</td>\n",
       "      <td>0</td>\n",
       "      <td>0</td>\n",
       "      <td>0</td>\n",
       "      <td>0</td>\n",
       "      <td>0</td>\n",
       "      <td>1</td>\n",
       "    </tr>\n",
       "    <tr>\n",
       "      <th>86</th>\n",
       "      <td>-0.442750</td>\n",
       "      <td>-0.206183</td>\n",
       "      <td>-0.266035</td>\n",
       "      <td>0.496474</td>\n",
       "      <td>-0.025841</td>\n",
       "      <td>0.901123</td>\n",
       "      <td>0.032986</td>\n",
       "      <td>0.159462</td>\n",
       "      <td>-0.109847</td>\n",
       "      <td>-0.323273</td>\n",
       "      <td>...</td>\n",
       "      <td>0</td>\n",
       "      <td>0</td>\n",
       "      <td>0</td>\n",
       "      <td>0</td>\n",
       "      <td>0</td>\n",
       "      <td>0</td>\n",
       "      <td>0</td>\n",
       "      <td>0</td>\n",
       "      <td>0</td>\n",
       "      <td>1</td>\n",
       "    </tr>\n",
       "  </tbody>\n",
       "</table>\n",
       "<p>87 rows × 64 columns</p>\n",
       "</div>"
      ],
      "text/plain": [
       "     MPGcity  MPGhighway  EngineSize  Horsepower  Revpermile  \\\n",
       "0   0.639252    0.466489   -0.864615   -0.064217    1.181529   \n",
       "1  -0.875551   -0.878854    0.532071    1.137264    0.026200   \n",
       "2  -0.442750   -0.654630    0.133018    0.576573   -0.088292   \n",
       "3  -0.659151   -0.654630    0.133018    0.576573    0.442535   \n",
       "4  -0.009949    0.242265    0.831361    1.297461    0.463352   \n",
       "..       ...         ...         ...         ...         ...   \n",
       "82 -1.091952   -1.775750   -0.166272   -0.684982    1.233571   \n",
       "83 -0.226350    0.242265   -0.665089   -0.184365    0.754786   \n",
       "84 -0.875551   -0.878854    0.133018    0.696721    0.130284   \n",
       "85 -0.226350   -0.206183   -0.365799   -0.584859   -0.223600   \n",
       "86 -0.442750   -0.206183   -0.266035    0.496474   -0.025841   \n",
       "\n",
       "    Fueltankcapacity    Length  Wheelbase     Width  Turncircle  ...  \\\n",
       "0          -1.170016 -0.456978  -0.288061 -0.382895   -0.635770  ...   \n",
       "1           0.459733  0.802930   1.651206  0.436249   -0.323273  ...   \n",
       "2           0.086249 -0.246994  -0.288061 -0.655943   -0.635770  ...   \n",
       "3           1.512279  0.662940   0.308637  0.163201   -0.635770  ...   \n",
       "4           1.512279  0.172976   0.756160 -0.109847   -0.010776  ...   \n",
       "..               ...       ...        ...       ...         ...  ...   \n",
       "82          1.512279  0.242971   1.651206  0.709297   -0.323273  ...   \n",
       "83          0.629498 -0.246994  -0.138886 -0.655943   -1.260764  ...   \n",
       "84          0.629498 -1.716887  -1.033933 -0.928991   -0.948267  ...   \n",
       "85         -0.287235  0.452956   0.010288 -0.655943   -0.635770  ...   \n",
       "86          0.901123  0.032986   0.159462 -0.109847   -0.323273  ...   \n",
       "\n",
       "    Manufacturer_Oldsmobile  Manufacturer_Plymouth  Manufacturer_Pontiac  \\\n",
       "0                         0                      0                     0   \n",
       "1                         0                      0                     0   \n",
       "2                         0                      0                     0   \n",
       "3                         0                      0                     0   \n",
       "4                         0                      0                     0   \n",
       "..                      ...                    ...                   ...   \n",
       "82                        0                      0                     0   \n",
       "83                        0                      0                     0   \n",
       "84                        0                      0                     0   \n",
       "85                        0                      0                     0   \n",
       "86                        0                      0                     0   \n",
       "\n",
       "    Manufacturer_Saab  Manufacturer_Saturn  Manufacturer_Subaru  \\\n",
       "0                   0                    0                    0   \n",
       "1                   0                    0                    0   \n",
       "2                   0                    0                    0   \n",
       "3                   0                    0                    0   \n",
       "4                   0                    0                    0   \n",
       "..                ...                  ...                  ...   \n",
       "82                  0                    0                    0   \n",
       "83                  0                    0                    0   \n",
       "84                  0                    0                    0   \n",
       "85                  0                    0                    0   \n",
       "86                  0                    0                    0   \n",
       "\n",
       "    Manufacturer_Suzuki  Manufacturer_Toyota  Manufacturer_Volkswagen  \\\n",
       "0                     0                    0                        0   \n",
       "1                     0                    0                        0   \n",
       "2                     0                    0                        0   \n",
       "3                     0                    0                        0   \n",
       "4                     0                    0                        0   \n",
       "..                  ...                  ...                      ...   \n",
       "82                    0                    0                        1   \n",
       "83                    0                    0                        1   \n",
       "84                    0                    0                        1   \n",
       "85                    0                    0                        0   \n",
       "86                    0                    0                        0   \n",
       "\n",
       "    Manufacturer_Volvo  \n",
       "0                    0  \n",
       "1                    0  \n",
       "2                    0  \n",
       "3                    0  \n",
       "4                    0  \n",
       "..                 ...  \n",
       "82                   0  \n",
       "83                   0  \n",
       "84                   0  \n",
       "85                   1  \n",
       "86                   1  \n",
       "\n",
       "[87 rows x 64 columns]"
      ]
     },
     "execution_count": 18,
     "metadata": {},
     "output_type": "execute_result"
    }
   ],
   "source": [
    "from Wd8pm import preprocessing\n",
    "Xnew = preprocessing(Ximp)\n",
    "Xnew"
   ]
  },
  {
   "cell_type": "markdown",
   "id": "f30213ff",
   "metadata": {},
   "source": [
    "# Splitting"
   ]
  },
  {
   "cell_type": "code",
   "execution_count": 19,
   "id": "1ad670ad",
   "metadata": {},
   "outputs": [],
   "source": [
    "from sklearn.model_selection import train_test_split\n",
    "xtrain,xtest,ytrain,ytest=train_test_split(Xnew,Y,test_size=0.2,random_state=21)"
   ]
  },
  {
   "cell_type": "markdown",
   "id": "a7fcbef7",
   "metadata": {},
   "source": [
    "# Backward elimination"
   ]
  },
  {
   "cell_type": "code",
   "execution_count": 20,
   "id": "45f9132a",
   "metadata": {},
   "outputs": [
    {
     "data": {
      "text/html": [
       "<table class=\"simpletable\">\n",
       "<caption>OLS Regression Results</caption>\n",
       "<tr>\n",
       "  <th>Dep. Variable:</th>          <td>Price</td>      <th>  R-squared:         </th> <td>   0.984</td>\n",
       "</tr>\n",
       "<tr>\n",
       "  <th>Model:</th>                   <td>OLS</td>       <th>  Adj. R-squared:    </th> <td>   0.903</td>\n",
       "</tr>\n",
       "<tr>\n",
       "  <th>Method:</th>             <td>Least Squares</td>  <th>  F-statistic:       </th> <td>   12.08</td>\n",
       "</tr>\n",
       "<tr>\n",
       "  <th>Date:</th>             <td>Wed, 23 Nov 2022</td> <th>  Prob (F-statistic):</th> <td>4.40e-05</td>\n",
       "</tr>\n",
       "<tr>\n",
       "  <th>Time:</th>                 <td>21:35:27</td>     <th>  Log-Likelihood:    </th> <td> -91.533</td>\n",
       "</tr>\n",
       "<tr>\n",
       "  <th>No. Observations:</th>      <td>    69</td>      <th>  AIC:               </th> <td>   299.1</td>\n",
       "</tr>\n",
       "<tr>\n",
       "  <th>Df Residuals:</th>          <td>    11</td>      <th>  BIC:               </th> <td>   428.6</td>\n",
       "</tr>\n",
       "<tr>\n",
       "  <th>Df Model:</th>              <td>    57</td>      <th>                     </th>     <td> </td>   \n",
       "</tr>\n",
       "<tr>\n",
       "  <th>Covariance Type:</th>      <td>nonrobust</td>    <th>                     </th>     <td> </td>   \n",
       "</tr>\n",
       "</table>\n",
       "<table class=\"simpletable\">\n",
       "<tr>\n",
       "               <td></td>                 <th>coef</th>     <th>std err</th>      <th>t</th>      <th>P>|t|</th>  <th>[0.025</th>    <th>0.975]</th>  \n",
       "</tr>\n",
       "<tr>\n",
       "  <th>const</th>                      <td>    8.4224</td> <td>    0.784</td> <td>   10.736</td> <td> 0.000</td> <td>    6.696</td> <td>   10.149</td>\n",
       "</tr>\n",
       "<tr>\n",
       "  <th>MPGcity</th>                    <td>    2.7327</td> <td>    3.396</td> <td>    0.805</td> <td> 0.438</td> <td>   -4.742</td> <td>   10.207</td>\n",
       "</tr>\n",
       "<tr>\n",
       "  <th>MPGhighway</th>                 <td>   -0.7185</td> <td>    2.742</td> <td>   -0.262</td> <td> 0.798</td> <td>   -6.754</td> <td>    5.317</td>\n",
       "</tr>\n",
       "<tr>\n",
       "  <th>EngineSize</th>                 <td>    1.0054</td> <td>    2.416</td> <td>    0.416</td> <td> 0.685</td> <td>   -4.313</td> <td>    6.324</td>\n",
       "</tr>\n",
       "<tr>\n",
       "  <th>Horsepower</th>                 <td>   -1.5849</td> <td>    2.161</td> <td>   -0.734</td> <td> 0.479</td> <td>   -6.340</td> <td>    3.171</td>\n",
       "</tr>\n",
       "<tr>\n",
       "  <th>Revpermile</th>                 <td>   -0.3936</td> <td>    1.132</td> <td>   -0.348</td> <td> 0.735</td> <td>   -2.886</td> <td>    2.099</td>\n",
       "</tr>\n",
       "<tr>\n",
       "  <th>Fueltankcapacity</th>           <td>    3.2672</td> <td>    1.702</td> <td>    1.919</td> <td> 0.081</td> <td>   -0.480</td> <td>    7.014</td>\n",
       "</tr>\n",
       "<tr>\n",
       "  <th>Length</th>                     <td>   -1.4133</td> <td>    1.772</td> <td>   -0.798</td> <td> 0.442</td> <td>   -5.312</td> <td>    2.486</td>\n",
       "</tr>\n",
       "<tr>\n",
       "  <th>Wheelbase</th>                  <td>    0.2266</td> <td>    2.969</td> <td>    0.076</td> <td> 0.941</td> <td>   -6.308</td> <td>    6.761</td>\n",
       "</tr>\n",
       "<tr>\n",
       "  <th>Width</th>                      <td>   -1.8457</td> <td>    1.928</td> <td>   -0.957</td> <td> 0.359</td> <td>   -6.090</td> <td>    2.399</td>\n",
       "</tr>\n",
       "<tr>\n",
       "  <th>Turncircle</th>                 <td>   -2.0920</td> <td>    1.391</td> <td>   -1.504</td> <td> 0.161</td> <td>   -5.153</td> <td>    0.969</td>\n",
       "</tr>\n",
       "<tr>\n",
       "  <th>Rearseatroom</th>               <td>    0.9941</td> <td>    1.145</td> <td>    0.868</td> <td> 0.404</td> <td>   -1.526</td> <td>    3.514</td>\n",
       "</tr>\n",
       "<tr>\n",
       "  <th>Luggageroom</th>                <td>   -1.8047</td> <td>    0.933</td> <td>   -1.935</td> <td> 0.079</td> <td>   -3.857</td> <td>    0.248</td>\n",
       "</tr>\n",
       "<tr>\n",
       "  <th>Weight</th>                     <td>    5.9248</td> <td>    3.853</td> <td>    1.538</td> <td> 0.152</td> <td>   -2.555</td> <td>   14.404</td>\n",
       "</tr>\n",
       "<tr>\n",
       "  <th>Mantransavail_No</th>           <td>    4.6174</td> <td>    1.472</td> <td>    3.138</td> <td> 0.009</td> <td>    1.379</td> <td>    7.856</td>\n",
       "</tr>\n",
       "<tr>\n",
       "  <th>Mantransavail_Yes</th>          <td>    3.8050</td> <td>    1.258</td> <td>    3.024</td> <td> 0.012</td> <td>    1.035</td> <td>    6.575</td>\n",
       "</tr>\n",
       "<tr>\n",
       "  <th>Cylinders_3</th>                <td>   -4.4151</td> <td>    5.290</td> <td>   -0.835</td> <td> 0.422</td> <td>  -16.059</td> <td>    7.229</td>\n",
       "</tr>\n",
       "<tr>\n",
       "  <th>Cylinders_4</th>                <td>   -0.5021</td> <td>    1.816</td> <td>   -0.277</td> <td> 0.787</td> <td>   -4.499</td> <td>    3.495</td>\n",
       "</tr>\n",
       "<tr>\n",
       "  <th>Cylinders_5</th>                <td>   -3.6016</td> <td>    4.876</td> <td>   -0.739</td> <td> 0.476</td> <td>  -14.333</td> <td>    7.130</td>\n",
       "</tr>\n",
       "<tr>\n",
       "  <th>Cylinders_6</th>                <td>    2.2824</td> <td>    2.055</td> <td>    1.110</td> <td> 0.291</td> <td>   -2.242</td> <td>    6.806</td>\n",
       "</tr>\n",
       "<tr>\n",
       "  <th>Cylinders_8</th>                <td>   -0.9160</td> <td>    4.489</td> <td>   -0.204</td> <td> 0.842</td> <td>  -10.795</td> <td>    8.963</td>\n",
       "</tr>\n",
       "<tr>\n",
       "  <th>Cylinders_rotary</th>           <td>   15.5748</td> <td>    7.360</td> <td>    2.116</td> <td> 0.058</td> <td>   -0.625</td> <td>   31.775</td>\n",
       "</tr>\n",
       "<tr>\n",
       "  <th>DriveTrain_4WD</th>             <td>    4.4124</td> <td>    2.631</td> <td>    1.677</td> <td> 0.122</td> <td>   -1.378</td> <td>   10.203</td>\n",
       "</tr>\n",
       "<tr>\n",
       "  <th>DriveTrain_Front</th>           <td>    2.6013</td> <td>    1.403</td> <td>    1.854</td> <td> 0.091</td> <td>   -0.487</td> <td>    5.690</td>\n",
       "</tr>\n",
       "<tr>\n",
       "  <th>DriveTrain_Rear</th>            <td>    1.4087</td> <td>    2.164</td> <td>    0.651</td> <td> 0.528</td> <td>   -3.354</td> <td>    6.172</td>\n",
       "</tr>\n",
       "<tr>\n",
       "  <th>AirBags_Driver & Passenger</th> <td>    4.6010</td> <td>    1.692</td> <td>    2.720</td> <td> 0.020</td> <td>    0.878</td> <td>    8.324</td>\n",
       "</tr>\n",
       "<tr>\n",
       "  <th>AirBags_Driver only</th>        <td>    2.4360</td> <td>    1.333</td> <td>    1.828</td> <td> 0.095</td> <td>   -0.497</td> <td>    5.369</td>\n",
       "</tr>\n",
       "<tr>\n",
       "  <th>AirBags_None</th>               <td>    1.3854</td> <td>    1.263</td> <td>    1.097</td> <td> 0.296</td> <td>   -1.395</td> <td>    4.166</td>\n",
       "</tr>\n",
       "<tr>\n",
       "  <th>Type_Compact</th>               <td>    2.5160</td> <td>    2.022</td> <td>    1.244</td> <td> 0.239</td> <td>   -1.935</td> <td>    6.967</td>\n",
       "</tr>\n",
       "<tr>\n",
       "  <th>Type_Large</th>                 <td>    1.7297</td> <td>    4.115</td> <td>    0.420</td> <td> 0.682</td> <td>   -7.328</td> <td>   10.787</td>\n",
       "</tr>\n",
       "<tr>\n",
       "  <th>Type_Midsize</th>               <td>    4.0904</td> <td>    1.533</td> <td>    2.668</td> <td> 0.022</td> <td>    0.716</td> <td>    7.465</td>\n",
       "</tr>\n",
       "<tr>\n",
       "  <th>Type_Small</th>                 <td>   -0.8114</td> <td>    3.653</td> <td>   -0.222</td> <td> 0.828</td> <td>   -8.851</td> <td>    7.228</td>\n",
       "</tr>\n",
       "<tr>\n",
       "  <th>Type_Sporty</th>                <td>    5.6984</td> <td>    2.931</td> <td>    1.944</td> <td> 0.078</td> <td>   -0.754</td> <td>   12.151</td>\n",
       "</tr>\n",
       "<tr>\n",
       "  <th>Type_Van</th>                   <td>   -4.8008</td> <td>    3.820</td> <td>   -1.257</td> <td> 0.235</td> <td>  -13.208</td> <td>    3.606</td>\n",
       "</tr>\n",
       "<tr>\n",
       "  <th>Manufacturer_Acura</th>         <td>    4.8771</td> <td>    3.325</td> <td>    1.467</td> <td> 0.170</td> <td>   -2.441</td> <td>   12.196</td>\n",
       "</tr>\n",
       "<tr>\n",
       "  <th>Manufacturer_Audi</th>          <td>    2.2017</td> <td>    4.080</td> <td>    0.540</td> <td> 0.600</td> <td>   -6.778</td> <td>   11.181</td>\n",
       "</tr>\n",
       "<tr>\n",
       "  <th>Manufacturer_BMW</th>           <td>    0.5194</td> <td>    5.321</td> <td>    0.098</td> <td> 0.924</td> <td>  -11.192</td> <td>   12.231</td>\n",
       "</tr>\n",
       "<tr>\n",
       "  <th>Manufacturer_Buick</th>         <td>    0.0416</td> <td>    2.887</td> <td>    0.014</td> <td> 0.989</td> <td>   -6.312</td> <td>    6.395</td>\n",
       "</tr>\n",
       "<tr>\n",
       "  <th>Manufacturer_Cadillac</th>      <td>   16.8150</td> <td>    4.962</td> <td>    3.389</td> <td> 0.006</td> <td>    5.894</td> <td>   27.736</td>\n",
       "</tr>\n",
       "<tr>\n",
       "  <th>Manufacturer_Chevrolet</th>     <td>   -2.7712</td> <td>    2.074</td> <td>   -1.336</td> <td> 0.208</td> <td>   -7.335</td> <td>    1.793</td>\n",
       "</tr>\n",
       "<tr>\n",
       "  <th>Manufacturer_Chrylser</th>      <td>   -7.4135</td> <td>    3.572</td> <td>   -2.075</td> <td> 0.062</td> <td>  -15.275</td> <td>    0.448</td>\n",
       "</tr>\n",
       "<tr>\n",
       "  <th>Manufacturer_Chrysler</th>      <td>    6.5684</td> <td>    5.063</td> <td>    1.297</td> <td> 0.221</td> <td>   -4.576</td> <td>   17.712</td>\n",
       "</tr>\n",
       "<tr>\n",
       "  <th>Manufacturer_Dodge</th>         <td>   -4.0180</td> <td>    2.079</td> <td>   -1.933</td> <td> 0.079</td> <td>   -8.593</td> <td>    0.557</td>\n",
       "</tr>\n",
       "<tr>\n",
       "  <th>Manufacturer_Eagle</th>         <td>   -2.2931</td> <td>    2.615</td> <td>   -0.877</td> <td> 0.399</td> <td>   -8.049</td> <td>    3.463</td>\n",
       "</tr>\n",
       "<tr>\n",
       "  <th>Manufacturer_Ford</th>          <td>   -1.7363</td> <td>    2.416</td> <td>   -0.719</td> <td> 0.487</td> <td>   -7.053</td> <td>    3.580</td>\n",
       "</tr>\n",
       "<tr>\n",
       "  <th>Manufacturer_Geo</th>           <td>   -7.3515</td> <td>    4.204</td> <td>   -1.749</td> <td> 0.108</td> <td>  -16.605</td> <td>    1.902</td>\n",
       "</tr>\n",
       "<tr>\n",
       "  <th>Manufacturer_Honda</th>         <td>   -4.1140</td> <td>    3.363</td> <td>   -1.223</td> <td> 0.247</td> <td>  -11.515</td> <td>    3.287</td>\n",
       "</tr>\n",
       "<tr>\n",
       "  <th>Manufacturer_Hyundai</th>       <td>   -2.7735</td> <td>    2.331</td> <td>   -1.190</td> <td> 0.259</td> <td>   -7.904</td> <td>    2.357</td>\n",
       "</tr>\n",
       "<tr>\n",
       "  <th>Manufacturer_Lexus</th>         <td>    3.1957</td> <td>    3.658</td> <td>    0.874</td> <td> 0.401</td> <td>   -4.856</td> <td>   11.247</td>\n",
       "</tr>\n",
       "<tr>\n",
       "  <th>Manufacturer_Lincoln</th>       <td>    8.9658</td> <td>    3.529</td> <td>    2.541</td> <td> 0.027</td> <td>    1.199</td> <td>   16.732</td>\n",
       "</tr>\n",
       "<tr>\n",
       "  <th>Manufacturer_Mazda</th>         <td>   -2.1382</td> <td>    2.580</td> <td>   -0.829</td> <td> 0.425</td> <td>   -7.817</td> <td>    3.541</td>\n",
       "</tr>\n",
       "<tr>\n",
       "  <th>Manufacturer_Mercedes-Benz</th> <td>   13.0504</td> <td>    6.141</td> <td>    2.125</td> <td> 0.057</td> <td>   -0.466</td> <td>   26.567</td>\n",
       "</tr>\n",
       "<tr>\n",
       "  <th>Manufacturer_Mercury</th>       <td>-2.099e-15</td> <td>  1.5e-15</td> <td>   -1.402</td> <td> 0.189</td> <td>-5.39e-15</td> <td>  1.2e-15</td>\n",
       "</tr>\n",
       "<tr>\n",
       "  <th>Manufacturer_Mitsubishi</th>    <td>   -1.5121</td> <td>    2.393</td> <td>   -0.632</td> <td> 0.540</td> <td>   -6.780</td> <td>    3.756</td>\n",
       "</tr>\n",
       "<tr>\n",
       "  <th>Manufacturer_Nissan</th>        <td>   -4.3646</td> <td>    1.986</td> <td>   -2.197</td> <td> 0.050</td> <td>   -8.736</td> <td>    0.007</td>\n",
       "</tr>\n",
       "<tr>\n",
       "  <th>Manufacturer_Oldsmobile</th>    <td>   -0.5173</td> <td>    2.546</td> <td>   -0.203</td> <td> 0.843</td> <td>   -6.122</td> <td>    5.087</td>\n",
       "</tr>\n",
       "<tr>\n",
       "  <th>Manufacturer_Plymouth</th>      <td>   -9.3288</td> <td>    5.506</td> <td>   -1.694</td> <td> 0.118</td> <td>  -21.447</td> <td>    2.790</td>\n",
       "</tr>\n",
       "<tr>\n",
       "  <th>Manufacturer_Pontiac</th>       <td>   -0.3388</td> <td>    2.892</td> <td>   -0.117</td> <td> 0.909</td> <td>   -6.705</td> <td>    6.027</td>\n",
       "</tr>\n",
       "<tr>\n",
       "  <th>Manufacturer_Saab</th>          <td>   10.9484</td> <td>    5.743</td> <td>    1.906</td> <td> 0.083</td> <td>   -1.693</td> <td>   23.590</td>\n",
       "</tr>\n",
       "<tr>\n",
       "  <th>Manufacturer_Saturn</th>        <td>    0.6848</td> <td>    5.901</td> <td>    0.116</td> <td> 0.910</td> <td>  -12.303</td> <td>   13.672</td>\n",
       "</tr>\n",
       "<tr>\n",
       "  <th>Manufacturer_Subaru</th>        <td>   -4.3960</td> <td>    4.349</td> <td>   -1.011</td> <td> 0.334</td> <td>  -13.969</td> <td>    5.177</td>\n",
       "</tr>\n",
       "<tr>\n",
       "  <th>Manufacturer_Suzuki</th>        <td>   -2.6789</td> <td>    5.025</td> <td>   -0.533</td> <td> 0.605</td> <td>  -13.739</td> <td>    8.382</td>\n",
       "</tr>\n",
       "<tr>\n",
       "  <th>Manufacturer_Toyota</th>        <td>   -2.1238</td> <td>    1.990</td> <td>   -1.067</td> <td> 0.309</td> <td>   -6.503</td> <td>    2.256</td>\n",
       "</tr>\n",
       "<tr>\n",
       "  <th>Manufacturer_Volkswagen</th>    <td>   -3.1045</td> <td>    2.911</td> <td>   -1.066</td> <td> 0.309</td> <td>   -9.513</td> <td>    3.304</td>\n",
       "</tr>\n",
       "<tr>\n",
       "  <th>Manufacturer_Volvo</th>         <td>    3.5281</td> <td>    3.379</td> <td>    1.044</td> <td> 0.319</td> <td>   -3.909</td> <td>   10.966</td>\n",
       "</tr>\n",
       "</table>\n",
       "<table class=\"simpletable\">\n",
       "<tr>\n",
       "  <th>Omnibus:</th>       <td> 2.543</td> <th>  Durbin-Watson:     </th> <td>   1.992</td>\n",
       "</tr>\n",
       "<tr>\n",
       "  <th>Prob(Omnibus):</th> <td> 0.280</td> <th>  Jarque-Bera (JB):  </th> <td>   1.775</td>\n",
       "</tr>\n",
       "<tr>\n",
       "  <th>Skew:</th>          <td>-0.264</td> <th>  Prob(JB):          </th> <td>   0.412</td>\n",
       "</tr>\n",
       "<tr>\n",
       "  <th>Kurtosis:</th>      <td> 3.581</td> <th>  Cond. No.          </th> <td>3.51e+16</td>\n",
       "</tr>\n",
       "</table><br/><br/>Notes:<br/>[1] Standard Errors assume that the covariance matrix of the errors is correctly specified.<br/>[2] The smallest eigenvalue is 4.92e-31. This might indicate that there are<br/>strong multicollinearity problems or that the design matrix is singular."
      ],
      "text/plain": [
       "<class 'statsmodels.iolib.summary.Summary'>\n",
       "\"\"\"\n",
       "                            OLS Regression Results                            \n",
       "==============================================================================\n",
       "Dep. Variable:                  Price   R-squared:                       0.984\n",
       "Model:                            OLS   Adj. R-squared:                  0.903\n",
       "Method:                 Least Squares   F-statistic:                     12.08\n",
       "Date:                Wed, 23 Nov 2022   Prob (F-statistic):           4.40e-05\n",
       "Time:                        21:35:27   Log-Likelihood:                -91.533\n",
       "No. Observations:                  69   AIC:                             299.1\n",
       "Df Residuals:                      11   BIC:                             428.6\n",
       "Df Model:                          57                                         \n",
       "Covariance Type:            nonrobust                                         \n",
       "==============================================================================================\n",
       "                                 coef    std err          t      P>|t|      [0.025      0.975]\n",
       "----------------------------------------------------------------------------------------------\n",
       "const                          8.4224      0.784     10.736      0.000       6.696      10.149\n",
       "MPGcity                        2.7327      3.396      0.805      0.438      -4.742      10.207\n",
       "MPGhighway                    -0.7185      2.742     -0.262      0.798      -6.754       5.317\n",
       "EngineSize                     1.0054      2.416      0.416      0.685      -4.313       6.324\n",
       "Horsepower                    -1.5849      2.161     -0.734      0.479      -6.340       3.171\n",
       "Revpermile                    -0.3936      1.132     -0.348      0.735      -2.886       2.099\n",
       "Fueltankcapacity               3.2672      1.702      1.919      0.081      -0.480       7.014\n",
       "Length                        -1.4133      1.772     -0.798      0.442      -5.312       2.486\n",
       "Wheelbase                      0.2266      2.969      0.076      0.941      -6.308       6.761\n",
       "Width                         -1.8457      1.928     -0.957      0.359      -6.090       2.399\n",
       "Turncircle                    -2.0920      1.391     -1.504      0.161      -5.153       0.969\n",
       "Rearseatroom                   0.9941      1.145      0.868      0.404      -1.526       3.514\n",
       "Luggageroom                   -1.8047      0.933     -1.935      0.079      -3.857       0.248\n",
       "Weight                         5.9248      3.853      1.538      0.152      -2.555      14.404\n",
       "Mantransavail_No               4.6174      1.472      3.138      0.009       1.379       7.856\n",
       "Mantransavail_Yes              3.8050      1.258      3.024      0.012       1.035       6.575\n",
       "Cylinders_3                   -4.4151      5.290     -0.835      0.422     -16.059       7.229\n",
       "Cylinders_4                   -0.5021      1.816     -0.277      0.787      -4.499       3.495\n",
       "Cylinders_5                   -3.6016      4.876     -0.739      0.476     -14.333       7.130\n",
       "Cylinders_6                    2.2824      2.055      1.110      0.291      -2.242       6.806\n",
       "Cylinders_8                   -0.9160      4.489     -0.204      0.842     -10.795       8.963\n",
       "Cylinders_rotary              15.5748      7.360      2.116      0.058      -0.625      31.775\n",
       "DriveTrain_4WD                 4.4124      2.631      1.677      0.122      -1.378      10.203\n",
       "DriveTrain_Front               2.6013      1.403      1.854      0.091      -0.487       5.690\n",
       "DriveTrain_Rear                1.4087      2.164      0.651      0.528      -3.354       6.172\n",
       "AirBags_Driver & Passenger     4.6010      1.692      2.720      0.020       0.878       8.324\n",
       "AirBags_Driver only            2.4360      1.333      1.828      0.095      -0.497       5.369\n",
       "AirBags_None                   1.3854      1.263      1.097      0.296      -1.395       4.166\n",
       "Type_Compact                   2.5160      2.022      1.244      0.239      -1.935       6.967\n",
       "Type_Large                     1.7297      4.115      0.420      0.682      -7.328      10.787\n",
       "Type_Midsize                   4.0904      1.533      2.668      0.022       0.716       7.465\n",
       "Type_Small                    -0.8114      3.653     -0.222      0.828      -8.851       7.228\n",
       "Type_Sporty                    5.6984      2.931      1.944      0.078      -0.754      12.151\n",
       "Type_Van                      -4.8008      3.820     -1.257      0.235     -13.208       3.606\n",
       "Manufacturer_Acura             4.8771      3.325      1.467      0.170      -2.441      12.196\n",
       "Manufacturer_Audi              2.2017      4.080      0.540      0.600      -6.778      11.181\n",
       "Manufacturer_BMW               0.5194      5.321      0.098      0.924     -11.192      12.231\n",
       "Manufacturer_Buick             0.0416      2.887      0.014      0.989      -6.312       6.395\n",
       "Manufacturer_Cadillac         16.8150      4.962      3.389      0.006       5.894      27.736\n",
       "Manufacturer_Chevrolet        -2.7712      2.074     -1.336      0.208      -7.335       1.793\n",
       "Manufacturer_Chrylser         -7.4135      3.572     -2.075      0.062     -15.275       0.448\n",
       "Manufacturer_Chrysler          6.5684      5.063      1.297      0.221      -4.576      17.712\n",
       "Manufacturer_Dodge            -4.0180      2.079     -1.933      0.079      -8.593       0.557\n",
       "Manufacturer_Eagle            -2.2931      2.615     -0.877      0.399      -8.049       3.463\n",
       "Manufacturer_Ford             -1.7363      2.416     -0.719      0.487      -7.053       3.580\n",
       "Manufacturer_Geo              -7.3515      4.204     -1.749      0.108     -16.605       1.902\n",
       "Manufacturer_Honda            -4.1140      3.363     -1.223      0.247     -11.515       3.287\n",
       "Manufacturer_Hyundai          -2.7735      2.331     -1.190      0.259      -7.904       2.357\n",
       "Manufacturer_Lexus             3.1957      3.658      0.874      0.401      -4.856      11.247\n",
       "Manufacturer_Lincoln           8.9658      3.529      2.541      0.027       1.199      16.732\n",
       "Manufacturer_Mazda            -2.1382      2.580     -0.829      0.425      -7.817       3.541\n",
       "Manufacturer_Mercedes-Benz    13.0504      6.141      2.125      0.057      -0.466      26.567\n",
       "Manufacturer_Mercury       -2.099e-15    1.5e-15     -1.402      0.189   -5.39e-15     1.2e-15\n",
       "Manufacturer_Mitsubishi       -1.5121      2.393     -0.632      0.540      -6.780       3.756\n",
       "Manufacturer_Nissan           -4.3646      1.986     -2.197      0.050      -8.736       0.007\n",
       "Manufacturer_Oldsmobile       -0.5173      2.546     -0.203      0.843      -6.122       5.087\n",
       "Manufacturer_Plymouth         -9.3288      5.506     -1.694      0.118     -21.447       2.790\n",
       "Manufacturer_Pontiac          -0.3388      2.892     -0.117      0.909      -6.705       6.027\n",
       "Manufacturer_Saab             10.9484      5.743      1.906      0.083      -1.693      23.590\n",
       "Manufacturer_Saturn            0.6848      5.901      0.116      0.910     -12.303      13.672\n",
       "Manufacturer_Subaru           -4.3960      4.349     -1.011      0.334     -13.969       5.177\n",
       "Manufacturer_Suzuki           -2.6789      5.025     -0.533      0.605     -13.739       8.382\n",
       "Manufacturer_Toyota           -2.1238      1.990     -1.067      0.309      -6.503       2.256\n",
       "Manufacturer_Volkswagen       -3.1045      2.911     -1.066      0.309      -9.513       3.304\n",
       "Manufacturer_Volvo             3.5281      3.379      1.044      0.319      -3.909      10.966\n",
       "==============================================================================\n",
       "Omnibus:                        2.543   Durbin-Watson:                   1.992\n",
       "Prob(Omnibus):                  0.280   Jarque-Bera (JB):                1.775\n",
       "Skew:                          -0.264   Prob(JB):                        0.412\n",
       "Kurtosis:                       3.581   Cond. No.                     3.51e+16\n",
       "==============================================================================\n",
       "\n",
       "Notes:\n",
       "[1] Standard Errors assume that the covariance matrix of the errors is correctly specified.\n",
       "[2] The smallest eigenvalue is 4.92e-31. This might indicate that there are\n",
       "strong multicollinearity problems or that the design matrix is singular.\n",
       "\"\"\""
      ]
     },
     "execution_count": 20,
     "metadata": {},
     "output_type": "execute_result"
    }
   ],
   "source": [
    "from statsmodels.api import OLS,add_constant\n",
    "xconst = add_constant(xtrain) #this is done to get b0 value(not required in LM)\n",
    "ols = OLS(ytrain,xconst).fit()\n",
    "ols.summary()"
   ]
  },
  {
   "cell_type": "code",
   "execution_count": 21,
   "id": "e1ab512f",
   "metadata": {},
   "outputs": [
    {
     "name": "stdout",
     "output_type": "stream",
     "text": [
      "0.9336 Width\n",
      "0.9396 Manufacturer_Nissan\n",
      "0.9446 Cylinders_8\n",
      "0.9446 Cylinders_5\n",
      "0.9489 Cylinders_4\n",
      "0.9525 Manufacturer_Suzuki\n",
      "0.9556 Manufacturer_Saturn\n",
      "0.9582 MPGhighway\n",
      "0.9605 AirBags_Driver & Passenger\n"
     ]
    }
   ],
   "source": [
    "for i in range(1,10) :\n",
    "    Xnew = Xnew.drop(labels=ols.pvalues.sort_values().index[-1],axis=1)\n",
    "\n",
    "    from sklearn.model_selection import train_test_split\n",
    "    xtrain,xtest,ytrain,ytest=train_test_split(Xnew,Y,random_state=31,test_size=0.2)\n",
    "\n",
    "    from statsmodels.api import OLS,add_constant\n",
    "    xconst = add_constant(xtrain) #this is done to get b0 value(not required in LM)\n",
    "    ols = OLS(ytrain,xconst).fit()\n",
    "    print(round(ols.rsquared_adj,4),ols.pvalues.sort_values().index[-1])"
   ]
  },
  {
   "cell_type": "code",
   "execution_count": 22,
   "id": "b3a10a24",
   "metadata": {},
   "outputs": [
    {
     "name": "stdout",
     "output_type": "stream",
     "text": [
      "0.9605 Manufacturer_Hyundai\n",
      "0.9622 Manufacturer_Oldsmobile\n",
      "0.9636 Manufacturer_Mazda\n",
      "0.9649 Manufacturer_Eagle\n",
      "0.9659 Manufacturer_Chrylser\n",
      "0.9671 Manufacturer_Plymouth\n",
      "0.9681 DriveTrain_4WD\n",
      "0.9681 Manufacturer_Mitsubishi\n",
      "0.969 DriveTrain_Front\n"
     ]
    }
   ],
   "source": [
    "for i in range(1,10) :\n",
    "    Xnew = Xnew.drop(labels=ols.pvalues.sort_values().index[-1],axis=1)\n",
    "\n",
    "    from sklearn.model_selection import train_test_split\n",
    "    xtrain,xtest,ytrain,ytest=train_test_split(Xnew,Y,random_state=31,test_size=0.2)\n",
    "\n",
    "    from statsmodels.api import OLS,add_constant\n",
    "    xconst = add_constant(xtrain) #this is done to get b0 value(not required in LM)\n",
    "    ols = OLS(ytrain,xconst).fit()\n",
    "    print(round(ols.rsquared_adj,4),ols.pvalues.sort_values().index[-1])"
   ]
  },
  {
   "cell_type": "code",
   "execution_count": 23,
   "id": "51955e72",
   "metadata": {},
   "outputs": [
    {
     "name": "stdout",
     "output_type": "stream",
     "text": [
      "0.9698 Manufacturer_Geo\n",
      "0.9702 Type_Small\n",
      "0.9702 Type_Van\n",
      "0.9708 Wheelbase\n",
      "0.9713 Cylinders_rotary\n",
      "0.9719 Manufacturer_Dodge\n",
      "0.9721 Manufacturer_Chevrolet\n",
      "0.9709 Manufacturer_Ford\n",
      "0.971 Luggageroom\n"
     ]
    }
   ],
   "source": [
    "for i in range(1,10) :\n",
    "    Xnew = Xnew.drop(labels=ols.pvalues.sort_values().index[-1],axis=1)\n",
    "\n",
    "    from sklearn.model_selection import train_test_split\n",
    "    xtrain,xtest,ytrain,ytest=train_test_split(Xnew,Y,random_state=31,test_size=0.2)\n",
    "\n",
    "    from statsmodels.api import OLS,add_constant\n",
    "    xconst = add_constant(xtrain) #this is done to get b0 value(not required in LM)\n",
    "    ols = OLS(ytrain,xconst).fit()\n",
    "    print(round(ols.rsquared_adj,4),ols.pvalues.sort_values().index[-1])"
   ]
  },
  {
   "cell_type": "code",
   "execution_count": 24,
   "id": "417e96bf",
   "metadata": {},
   "outputs": [
    {
     "name": "stdout",
     "output_type": "stream",
     "text": [
      "0.9714 Manufacturer_Pontiac\n"
     ]
    }
   ],
   "source": [
    "    Xnew = Xnew.drop(labels=ols.pvalues.sort_values().index[-1],axis=1)\n",
    "\n",
    "    from sklearn.model_selection import train_test_split\n",
    "    xtrain,xtest,ytrain,ytest=train_test_split(Xnew,Y,random_state=31,test_size=0.2)\n",
    "\n",
    "    from statsmodels.api import OLS,add_constant\n",
    "    xconst = add_constant(xtrain) #this is done to get b0 value(not required in LM)\n",
    "    ols = OLS(ytrain,xconst).fit()\n",
    "    print(round(ols.rsquared_adj,4),ols.pvalues.sort_values().index[-1])"
   ]
  },
  {
   "cell_type": "code",
   "execution_count": 25,
   "id": "720e4f8d",
   "metadata": {},
   "outputs": [
    {
     "data": {
      "text/plain": [
       "Index(['MPGcity', 'EngineSize', 'Horsepower', 'Revpermile', 'Fueltankcapacity',\n",
       "       'Length', 'Turncircle', 'Rearseatroom', 'Weight', 'Mantransavail_No',\n",
       "       'Mantransavail_Yes', 'Cylinders_3', 'Cylinders_6', 'DriveTrain_Rear',\n",
       "       'AirBags_Driver only', 'AirBags_None', 'Type_Compact', 'Type_Large',\n",
       "       'Type_Midsize', 'Type_Sporty', 'Manufacturer_Acura',\n",
       "       'Manufacturer_Audi', 'Manufacturer_BMW', 'Manufacturer_Cadillac',\n",
       "       'Manufacturer_Chrysler', 'Manufacturer_Honda', 'Manufacturer_Lexus',\n",
       "       'Manufacturer_Lincoln', 'Manufacturer_Mercedes-Benz',\n",
       "       'Manufacturer_Mercury', 'Manufacturer_Pontiac', 'Manufacturer_Saab',\n",
       "       'Manufacturer_Subaru', 'Manufacturer_Toyota', 'Manufacturer_Volkswagen',\n",
       "       'Manufacturer_Volvo'],\n",
       "      dtype='object')"
      ]
     },
     "execution_count": 25,
     "metadata": {},
     "output_type": "execute_result"
    }
   ],
   "source": [
    "Xnew.columns"
   ]
  },
  {
   "cell_type": "markdown",
   "id": "1f822dbd",
   "metadata": {},
   "source": [
    "# Model"
   ]
  },
  {
   "cell_type": "code",
   "execution_count": 26,
   "id": "9983e48a",
   "metadata": {},
   "outputs": [],
   "source": [
    "from sklearn.linear_model import LinearRegression\n",
    "lm = LinearRegression()\n",
    "model = lm.fit(xtrain,ytrain)\n",
    "tr_pred = model.predict(xtrain)\n",
    "ts_pred = model.predict(xtest)"
   ]
  },
  {
   "cell_type": "code",
   "execution_count": 27,
   "id": "7e970cf0",
   "metadata": {},
   "outputs": [],
   "source": [
    "from sklearn.metrics import mean_absolute_error\n",
    "tr_err = mean_absolute_error(ytrain,tr_pred)\n",
    "ts_err = mean_absolute_error(ytest,ts_pred)"
   ]
  },
  {
   "cell_type": "code",
   "execution_count": 28,
   "id": "fc9f36c3",
   "metadata": {},
   "outputs": [
    {
     "data": {
      "text/plain": [
       "(0.7209441138365809, 3.9529746474386767)"
      ]
     },
     "execution_count": 28,
     "metadata": {},
     "output_type": "execute_result"
    }
   ],
   "source": [
    "tr_err,ts_err"
   ]
  },
  {
   "cell_type": "markdown",
   "id": "b5557ba4",
   "metadata": {},
   "source": [
    "# Ridge"
   ]
  },
  {
   "cell_type": "code",
   "execution_count": 29,
   "id": "ff3e34c0",
   "metadata": {},
   "outputs": [
    {
     "data": {
      "text/plain": [
       "(2.073147329938362, 2.259320974507933)"
      ]
     },
     "execution_count": 29,
     "metadata": {},
     "output_type": "execute_result"
    }
   ],
   "source": [
    "from sklearn.metrics import mean_absolute_error\n",
    "from sklearn.linear_model import Ridge\n",
    "rr = Ridge(alpha=1)\n",
    "model = rr.fit(xtrain,ytrain)\n",
    "tr_pred = model.predict(xtrain)\n",
    "ts_pred = model.predict(xtest)\n",
    "tr_err = mean_absolute_error(ytrain,tr_pred)\n",
    "ts_err = mean_absolute_error(ytest,ts_pred)\n",
    "tr_err,ts_err"
   ]
  },
  {
   "cell_type": "code",
   "execution_count": 30,
   "id": "dea92198",
   "metadata": {},
   "outputs": [],
   "source": [
    "x = 1\n",
    "alphas = []\n",
    "for i in range(0,10,1):\n",
    "    alphas.append(x)\n",
    "    x = round(x + 1,2)"
   ]
  },
  {
   "cell_type": "code",
   "execution_count": 31,
   "id": "0b9f41a3",
   "metadata": {},
   "outputs": [],
   "source": [
    "tr = []\n",
    "ts = []\n",
    "for i in alphas:\n",
    "    rr = Ridge(alpha=i)\n",
    "    model = rr.fit(xtrain,ytrain)\n",
    "    tr_pred = model.predict(xtrain)\n",
    "    ts_pred = model.predict(xtest)\n",
    "    tr_err = mean_absolute_error(ytrain,tr_pred)\n",
    "    ts_err = mean_absolute_error(ytest,ts_pred)\n",
    "    tr.append(tr_err)\n",
    "    ts.append(ts_err)  "
   ]
  },
  {
   "cell_type": "code",
   "execution_count": 32,
   "id": "68bc0004",
   "metadata": {},
   "outputs": [
    {
     "data": {
      "text/plain": [
       "[<matplotlib.lines.Line2D at 0x1804982cdc0>]"
      ]
     },
     "execution_count": 32,
     "metadata": {},
     "output_type": "execute_result"
    },
    {
     "data": {
      "image/png": "[encoded data removed]",
      "text/plain": [
       "<Figure size 432x288 with 1 Axes>"
      ]
     },
     "metadata": {
      "needs_background": "light"
     },
     "output_type": "display_data"
    }
   ],
   "source": [
    "import matplotlib.pyplot as plt\n",
    "plt.plot(tr,c=\"blue\")\n",
    "plt.plot(ts,c=\"red\")"
   ]
  },
  {
   "cell_type": "markdown",
   "id": "6b797522",
   "metadata": {},
   "source": [
    "# GridSearchCV"
   ]
  },
  {
   "cell_type": "code",
   "execution_count": 33,
   "id": "bab09135",
   "metadata": {},
   "outputs": [
    {
     "data": {
      "text/plain": [
       "{'alpha': 6}"
      ]
     },
     "execution_count": 33,
     "metadata": {},
     "output_type": "execute_result"
    }
   ],
   "source": [
    "tuning_grid = {\"alpha\":alphas}\n",
    "rr = Ridge()\n",
    "from sklearn.model_selection import GridSearchCV\n",
    "cv1 = GridSearchCV(rr,tuning_grid,scoring=\"neg_mean_squared_error\",cv=7)\n",
    "cvmodel = cv1.fit(Xnew,Y)\n",
    "cvmodel.best_params_"
   ]
  },
  {
   "cell_type": "code",
   "execution_count": 34,
   "id": "3661971b",
   "metadata": {},
   "outputs": [
    {
     "data": {
      "text/plain": [
       "(2.727874399658445, 2.539729486771754)"
      ]
     },
     "execution_count": 34,
     "metadata": {},
     "output_type": "execute_result"
    }
   ],
   "source": [
    "rr = Ridge(alpha=6)\n",
    "model = rr.fit(xtrain,ytrain)\n",
    "tr_pred = model.predict(xtrain)\n",
    "ts_pred = model.predict(xtest)\n",
    "tr_err = mean_absolute_error(ytrain,tr_pred)\n",
    "ts_err = mean_absolute_error(ytest,ts_pred)\n",
    "tr_err,ts_err"
   ]
  },
  {
   "cell_type": "markdown",
   "id": "333d7bc8",
   "metadata": {},
   "source": [
    "# 2.727874399658445, 2.539729486771754)"
   ]
  },
  {
   "cell_type": "markdown",
   "id": "9c9c34b5",
   "metadata": {},
   "source": [
    "# Lasso"
   ]
  },
  {
   "cell_type": "code",
   "execution_count": 35,
   "id": "71770fef",
   "metadata": {},
   "outputs": [
    {
     "data": {
      "text/plain": [
       "(3.5113135635865547, 3.417633795660453)"
      ]
     },
     "execution_count": 35,
     "metadata": {},
     "output_type": "execute_result"
    }
   ],
   "source": [
    "from sklearn.linear_model import Lasso\n",
    "ls = Lasso(alpha=1)\n",
    "model = ls.fit(xtrain,ytrain)\n",
    "tr_pred = model.predict(xtrain)\n",
    "ts_pred = model.predict(xtest)\n",
    "tr_err = mean_absolute_error(ytrain,tr_pred)\n",
    "ts_err = mean_absolute_error(ytest,ts_pred)\n",
    "tr_err,ts_err"
   ]
  },
  {
   "cell_type": "code",
   "execution_count": 49,
   "id": "80083490",
   "metadata": {},
   "outputs": [
    {
     "data": {
      "text/plain": [
       "{'alpha': 1}"
      ]
     },
     "execution_count": 49,
     "metadata": {},
     "output_type": "execute_result"
    }
   ],
   "source": [
    "tuning_grid = {\"alpha\":alphas}\n",
    "rr = Lasso()\n",
    "from sklearn.model_selection import GridSearchCV\n",
    "cv1 = GridSearchCV(rr,tuning_grid,scoring=\"neg_mean_squared_error\",cv=7)\n",
    "cvmodel = cv1.fit(Xnew,Y)\n",
    "cvmodel.best_params_"
   ]
  },
  {
   "cell_type": "markdown",
   "id": "65a43a62",
   "metadata": {},
   "source": [
    "# Tree Regression"
   ]
  },
  {
   "cell_type": "code",
   "execution_count": 36,
   "id": "ea0accbe",
   "metadata": {},
   "outputs": [],
   "source": [
    "Y = A[[\"Price\"]]\n",
    "X = A.drop(labels=[\"Price\",\"MaxPrice\",\"MinPrice\"],axis=1)\n",
    "from Wd8pm import catcon\n",
    "cat,con = catcon(X)\n",
    "Xnew = pd.get_dummies(X[cat]).join(X[con])\n",
    "from sklearn.model_selection import train_test_split\n",
    "xtrain,xtest,ytrain,ytest=train_test_split(Xnew,Y,test_size=0.2,random_state=21)"
   ]
  },
  {
   "cell_type": "code",
   "execution_count": 53,
   "id": "6d53e800",
   "metadata": {},
   "outputs": [
    {
     "data": {
      "text/plain": [
       "(0.0, 5.0166666666666675)"
      ]
     },
     "execution_count": 53,
     "metadata": {},
     "output_type": "execute_result"
    }
   ],
   "source": [
    "from sklearn.tree import DecisionTreeRegressor\n",
    "dtr = DecisionTreeRegressor(random_state=21)\n",
    "model = dtr.fit(xtrain,ytrain)\n",
    "tr_pred = model.predict(xtrain)\n",
    "ts_pred = model.predict(xtest)\n",
    "from sklearn.metrics import mean_absolute_error\n",
    "tr_err = mean_absolute_error(ytrain,tr_pred)\n",
    "ts_err  = mean_absolute_error(ytest,ts_pred)\n",
    "\n",
    "tr_err,ts_err"
   ]
  },
  {
   "cell_type": "code",
   "execution_count": 54,
   "id": "e0d5a353",
   "metadata": {},
   "outputs": [
    {
     "data": {
      "text/plain": [
       "(0.9000966183574881, 5.7898148148148145)"
      ]
     },
     "execution_count": 54,
     "metadata": {},
     "output_type": "execute_result"
    }
   ],
   "source": [
    "from sklearn.tree import DecisionTreeRegressor\n",
    "dtr = DecisionTreeRegressor(min_samples_split=6)\n",
    "model = dtr.fit(xtrain,ytrain)\n",
    "tr_pred = model.predict(xtrain)\n",
    "ts_pred = model.predict(xtest)\n",
    "from sklearn.metrics import mean_absolute_error\n",
    "tr_err = mean_absolute_error(ytrain,tr_pred)\n",
    "ts_err  = mean_absolute_error(ytest,ts_pred)\n",
    "\n",
    "tr_err,ts_err"
   ]
  },
  {
   "cell_type": "code",
   "execution_count": 55,
   "id": "fabd0340",
   "metadata": {},
   "outputs": [],
   "source": [
    "tr = []\n",
    "ts = []\n",
    "for i in range(2,100,1):\n",
    "    dtr = DecisionTreeRegressor(min_samples_split=i)\n",
    "    model = dtr.fit(xtrain,ytrain)\n",
    "    tr_pred = model.predict(xtrain)\n",
    "    ts_pred = model.predict(xtest)\n",
    "    from sklearn.metrics import mean_absolute_error\n",
    "    tr_err = mean_absolute_error(ytrain,tr_pred)\n",
    "    ts_err  = mean_absolute_error(ytest,ts_pred)\n",
    "    tr.append(tr_err)\n",
    "    ts.append(ts_err)"
   ]
  },
  {
   "cell_type": "code",
   "execution_count": 56,
   "id": "44e7c8ed",
   "metadata": {},
   "outputs": [
    {
     "data": {
      "text/plain": [
       "[<matplotlib.lines.Line2D at 0x1804ac21a90>]"
      ]
     },
     "execution_count": 56,
     "metadata": {},
     "output_type": "execute_result"
    },
    {
     "data": {
      "image/png": "[encoded data removed]",
      "text/plain": [
       "<Figure size 432x288 with 1 Axes>"
      ]
     },
     "metadata": {
      "needs_background": "light"
     },
     "output_type": "display_data"
    }
   ],
   "source": [
    "import matplotlib.pyplot as plt\n",
    "plt.plot(tr)\n",
    "plt.plot(ts)"
   ]
  },
  {
   "cell_type": "code",
   "execution_count": 67,
   "id": "ddd8875b",
   "metadata": {},
   "outputs": [
    {
     "data": {
      "text/plain": [
       "[<matplotlib.lines.Line2D at 0x1804ad708e0>]"
      ]
     },
     "execution_count": 67,
     "metadata": {},
     "output_type": "execute_result"
    },
    {
     "data": {
      "image/png": "[encoded data removed]",
      "text/plain": [
       "<Figure size 432x288 with 1 Axes>"
      ]
     },
     "metadata": {
      "needs_background": "light"
     },
     "output_type": "display_data"
    }
   ],
   "source": [
    "tr = []\n",
    "ts = []\n",
    "for i in range(2,100,1):\n",
    "    dtr = DecisionTreeRegressor(min_samples_leaf=i)\n",
    "    model = dtr.fit(xtrain,ytrain)\n",
    "    tr_pred = model.predict(xtrain)\n",
    "    ts_pred = model.predict(xtest)\n",
    "    from sklearn.metrics import mean_absolute_error\n",
    "    tr_err = mean_absolute_error(ytrain,tr_pred)\n",
    "    ts_err  = mean_absolute_error(ytest,ts_pred)\n",
    "    tr.append(tr_err)\n",
    "    ts.append(ts_err)\n",
    "import matplotlib.pyplot as plt\n",
    "plt.plot(tr)\n",
    "plt.plot(ts)"
   ]
  },
  {
   "cell_type": "code",
   "execution_count": 58,
   "id": "acdab231",
   "metadata": {},
   "outputs": [
    {
     "data": {
      "text/plain": [
       "[<matplotlib.lines.Line2D at 0x1804acf1cd0>]"
      ]
     },
     "execution_count": 58,
     "metadata": {},
     "output_type": "execute_result"
    },
    {
     "data": {
      "image/png": "[encoded data removed]",
      "text/plain": [
       "<Figure size 432x288 with 1 Axes>"
      ]
     },
     "metadata": {
      "needs_background": "light"
     },
     "output_type": "display_data"
    }
   ],
   "source": [
    "tr = []\n",
    "ts = []\n",
    "for i in range(1,40,1):\n",
    "    dtr = DecisionTreeRegressor(max_depth=i)\n",
    "    model = dtr.fit(xtrain,ytrain)\n",
    "    tr_pred = model.predict(xtrain)\n",
    "    ts_pred = model.predict(xtest)\n",
    "    from sklearn.metrics import mean_absolute_error\n",
    "    tr_err = mean_absolute_error(ytrain,tr_pred)\n",
    "    ts_err  = mean_absolute_error(ytest,ts_pred)\n",
    "    tr.append(tr_err)\n",
    "    ts.append(ts_err)\n",
    "import matplotlib.pyplot as plt\n",
    "plt.plot(tr)\n",
    "plt.plot(ts)"
   ]
  },
  {
   "cell_type": "code",
   "execution_count": 59,
   "id": "7c9d24c4",
   "metadata": {},
   "outputs": [
    {
     "data": {
      "text/plain": [
       "{'max_depth': 7}"
      ]
     },
     "execution_count": 59,
     "metadata": {},
     "output_type": "execute_result"
    }
   ],
   "source": [
    "tg = {\"max_depth\":range(2,20,1)}\n",
    "dtr = DecisionTreeRegressor(random_state=21)\n",
    "\n",
    "from sklearn.model_selection import GridSearchCV\n",
    "cv = GridSearchCV(dtr,tg,scoring = \"neg_mean_absolute_error\",cv=4)\n",
    "cvmodel = cv.fit(Xnew,Y)\n",
    "cvmodel.best_params_"
   ]
  },
  {
   "cell_type": "code",
   "execution_count": 60,
   "id": "1804c664",
   "metadata": {},
   "outputs": [
    {
     "data": {
      "text/plain": [
       "(0.20212560386473424, 5.484259259259258)"
      ]
     },
     "execution_count": 60,
     "metadata": {},
     "output_type": "execute_result"
    }
   ],
   "source": [
    "dtr = DecisionTreeRegressor(max_depth=7)\n",
    "model = dtr.fit(xtrain,ytrain)\n",
    "tr_pred = model.predict(xtrain)\n",
    "ts_pred = model.predict(xtest)\n",
    "from sklearn.metrics import mean_absolute_error\n",
    "tr_err = mean_absolute_error(ytrain,tr_pred)\n",
    "ts_err  = mean_absolute_error(ytest,ts_pred)\n",
    "tr_err,ts_err"
   ]
  },
  {
   "cell_type": "code",
   "execution_count": null,
   "id": "59176b86",
   "metadata": {},
   "outputs": [],
   "source": []
  },
  {
   "cell_type": "code",
   "execution_count": 68,
   "id": "34d06dbd",
   "metadata": {},
   "outputs": [
    {
     "data": {
      "text/plain": [
       "{'min_samples_leaf': 2}"
      ]
     },
     "execution_count": 68,
     "metadata": {},
     "output_type": "execute_result"
    }
   ],
   "source": [
    "tg = {\"min_samples_leaf\":range(2,100,1)}\n",
    "dtr = DecisionTreeRegressor(random_state=21)\n",
    "\n",
    "from sklearn.model_selection import GridSearchCV\n",
    "cv = GridSearchCV(dtr,tg,scoring = \"neg_mean_absolute_error\",cv=4)\n",
    "cvmodel = cv.fit(Xnew,Y)\n",
    "cvmodel.best_params_"
   ]
  },
  {
   "cell_type": "code",
   "execution_count": 63,
   "id": "e859ef4a",
   "metadata": {},
   "outputs": [
    {
     "data": {
      "text/plain": [
       "(0.8294685990338164, 5.312037037037038)"
      ]
     },
     "execution_count": 63,
     "metadata": {},
     "output_type": "execute_result"
    }
   ],
   "source": [
    "dtr = DecisionTreeRegressor(min_samples_leaf=2)\n",
    "model = dtr.fit(xtrain,ytrain)\n",
    "tr_pred = model.predict(xtrain)\n",
    "ts_pred = model.predict(xtest)\n",
    "from sklearn.metrics import mean_absolute_error\n",
    "tr_err = mean_absolute_error(ytrain,tr_pred)\n",
    "ts_err  = mean_absolute_error(ytest,ts_pred)\n",
    "tr_err,ts_err"
   ]
  },
  {
   "cell_type": "code",
   "execution_count": 64,
   "id": "77c90bd8",
   "metadata": {},
   "outputs": [
    {
     "data": {
      "text/plain": [
       "{'min_samples_split': 5}"
      ]
     },
     "execution_count": 64,
     "metadata": {},
     "output_type": "execute_result"
    }
   ],
   "source": [
    "tg = {\"min_samples_split\":range(2,20,1)}\n",
    "dtr = DecisionTreeRegressor(random_state=21)\n",
    "\n",
    "from sklearn.model_selection import GridSearchCV\n",
    "cv = GridSearchCV(dtr,tg,scoring = \"neg_mean_absolute_error\",cv=4)\n",
    "cvmodel = cv.fit(Xnew,Y)\n",
    "cvmodel.best_params_"
   ]
  },
  {
   "cell_type": "code",
   "execution_count": 65,
   "id": "1dd85656",
   "metadata": {},
   "outputs": [
    {
     "data": {
      "text/plain": [
       "(0.8038647342995171, 5.585648148148147)"
      ]
     },
     "execution_count": 65,
     "metadata": {},
     "output_type": "execute_result"
    }
   ],
   "source": [
    "dtr = DecisionTreeRegressor(min_samples_split=5)\n",
    "model = dtr.fit(xtrain,ytrain)\n",
    "tr_pred = model.predict(xtrain)\n",
    "ts_pred = model.predict(xtest)\n",
    "from sklearn.metrics import mean_absolute_error\n",
    "tr_err = mean_absolute_error(ytrain,tr_pred)\n",
    "ts_err  = mean_absolute_error(ytest,ts_pred)\n",
    "tr_err,ts_err"
   ]
  },
  {
   "cell_type": "markdown",
   "id": "25fb8cd8",
   "metadata": {},
   "source": [
    "# (0.8038647342995171, 5.585648148148147)"
   ]
  },
  {
   "cell_type": "markdown",
   "id": "7d61d29c",
   "metadata": {},
   "source": [
    "# KNN"
   ]
  },
  {
   "cell_type": "code",
   "execution_count": 45,
   "id": "5cf907dc",
   "metadata": {},
   "outputs": [
    {
     "data": {
      "text/plain": [
       "(3.378840579710145, 6.37)"
      ]
     },
     "execution_count": 45,
     "metadata": {},
     "output_type": "execute_result"
    }
   ],
   "source": [
    "from sklearn.neighbors import KNeighborsRegressor\n",
    "knr= KNeighborsRegressor(n_neighbors=5)\n",
    "\n",
    "model =knr.fit(xtrain,ytrain)\n",
    "tr_pred= model.predict(xtrain)\n",
    "ts_pred =model.predict(xtest)\n",
    "from sklearn.metrics import mean_absolute_error\n",
    "tr_err= mean_absolute_error(ytrain,tr_pred)\n",
    "ts_err= mean_absolute_error(ytest,ts_pred)\n",
    "tr_err,ts_err\n"
   ]
  },
  {
   "cell_type": "code",
   "execution_count": 46,
   "id": "bcfc3e9b",
   "metadata": {},
   "outputs": [
    {
     "data": {
      "text/plain": [
       "[<matplotlib.lines.Line2D at 0x1804abb8fa0>]"
      ]
     },
     "execution_count": 46,
     "metadata": {},
     "output_type": "execute_result"
    },
    {
     "data": {
      "image/png": "[encoded data removed]",
      "text/plain": [
       "<Figure size 432x288 with 1 Axes>"
      ]
     },
     "metadata": {
      "needs_background": "light"
     },
     "output_type": "display_data"
    }
   ],
   "source": [
    "tr = []\n",
    "ts = []\n",
    "for i in range(2,10,1):\n",
    "    knr = KNeighborsRegressor(n_neighbors=i)\n",
    "    model = knr.fit(xtrain,ytrain)\n",
    "    tr_pred = model.predict(xtrain)\n",
    "    ts_pred = model.predict(xtest)\n",
    "    from sklearn.metrics import mean_absolute_error\n",
    "    tr_err = mean_absolute_error(ytrain,tr_pred)\n",
    "    ts_err  = mean_absolute_error(ytest,ts_pred)\n",
    "    tr.append(tr_err)\n",
    "    ts.append(ts_err)\n",
    "import matplotlib.pyplot as plt\n",
    "plt.plot(tr)\n",
    "plt.plot(ts)"
   ]
  },
  {
   "cell_type": "code",
   "execution_count": 47,
   "id": "31b841b9",
   "metadata": {},
   "outputs": [
    {
     "data": {
      "text/plain": [
       "{'n_neighbors': 6}"
      ]
     },
     "execution_count": 47,
     "metadata": {},
     "output_type": "execute_result"
    }
   ],
   "source": [
    "tg = {\"n_neighbors\":range(2,10,1)}\n",
    "knr = KNeighborsRegressor()\n",
    "\n",
    "from sklearn.model_selection import GridSearchCV\n",
    "cv = GridSearchCV(knr,tg,scoring = \"neg_mean_absolute_error\",cv=4)\n",
    "cvmodel = cv.fit(Xnew,Y)\n",
    "cvmodel.best_params_"
   ]
  },
  {
   "cell_type": "code",
   "execution_count": 48,
   "id": "bb10d173",
   "metadata": {},
   "outputs": [
    {
     "data": {
      "text/plain": [
       "(3.437439613526571, 6.323148148148148)"
      ]
     },
     "execution_count": 48,
     "metadata": {},
     "output_type": "execute_result"
    }
   ],
   "source": [
    "knr = KNeighborsRegressor(n_neighbors=6)\n",
    "model = knr.fit(xtrain,ytrain)\n",
    "tr_pred = model.predict(xtrain)\n",
    "ts_pred = model.predict(xtest)\n",
    "from sklearn.metrics import mean_absolute_error\n",
    "tr_err = mean_absolute_error(ytrain,tr_pred)\n",
    "ts_err  = mean_absolute_error(ytest,ts_pred)\n",
    "tr.append(tr_err)\n",
    "ts.append(ts_err)\n",
    "tr_err,ts_err"
   ]
  },
  {
   "cell_type": "markdown",
   "id": "be85b5ef",
   "metadata": {},
   "source": [
    "# (3.437439613526571, 6.323148148148148)"
   ]
  },
  {
   "cell_type": "raw",
   "id": "a094766d",
   "metadata": {},
   "source": [
    "Why we are doing forward and backward elimination ,when we will get coefficient in linear regression"
   ]
  },
  {
   "cell_type": "code",
   "execution_count": null,
   "id": "deb348d9",
   "metadata": {},
   "outputs": [],
   "source": []
  }
 ],
 "metadata": {
  "kernelspec": {
   "display_name": "Python 3 (ipykernel)",
   "language": "python",
   "name": "python3"
  },
  "language_info": {
   "codemirror_mode": {
    "name": "ipython",
    "version": 3
   },
   "file_extension": ".py",
   "mimetype": "text/x-python",
   "name": "python",
   "nbconvert_exporter": "python",
   "pygments_lexer": "ipython3",
   "version": "3.9.12"
  }
 },
 "nbformat": 4,
 "nbformat_minor": 5
}
