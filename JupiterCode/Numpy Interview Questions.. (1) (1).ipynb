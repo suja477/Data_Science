{
 "cells": [
  {
   "cell_type": "markdown",
   "id": "ea978dd8",
   "metadata": {},
   "source": [
    "### 1. Import numpy as np and see the version\n"
   ]
  },
  {
   "cell_type": "code",
   "execution_count": 4,
   "id": "87236cfc",
   "metadata": {},
   "outputs": [
    {
     "data": {
      "text/plain": [
       "'1.20.1'"
      ]
     },
     "execution_count": 4,
     "metadata": {},
     "output_type": "execute_result"
    }
   ],
   "source": [
    "import numpy as np\n",
    "np.__version__"
   ]
  },
  {
   "cell_type": "markdown",
   "id": "dbaa6160",
   "metadata": {},
   "source": [
    "### 2. How to create a 1D array?"
   ]
  },
  {
   "cell_type": "code",
   "execution_count": 5,
   "id": "c257642e",
   "metadata": {},
   "outputs": [
    {
     "data": {
      "text/plain": [
       "array([0, 1, 2, 3, 4, 5])"
      ]
     },
     "execution_count": 5,
     "metadata": {},
     "output_type": "execute_result"
    }
   ],
   "source": [
    "np.array([0, 1, 2, 3, 4, 5])"
   ]
  },
  {
   "cell_type": "markdown",
   "id": "afc193b2",
   "metadata": {},
   "source": [
    "### 3. How to create a boolean array?"
   ]
  },
  {
   "cell_type": "code",
   "execution_count": 6,
   "id": "80fa7add",
   "metadata": {},
   "outputs": [
    {
     "data": {
      "text/plain": [
       "array([[ True,  True,  True],\n",
       "       [ True,  True,  True],\n",
       "       [ True,  True,  True]])"
      ]
     },
     "execution_count": 6,
     "metadata": {},
     "output_type": "execute_result"
    }
   ],
   "source": [
    "np.full((3, 3), True, dtype=bool)"
   ]
  },
  {
   "cell_type": "code",
   "execution_count": 7,
   "id": "db64a765",
   "metadata": {},
   "outputs": [
    {
     "data": {
      "text/plain": [
       "array([[ True,  True,  True],\n",
       "       [ True,  True,  True],\n",
       "       [ True,  True,  True]])"
      ]
     },
     "execution_count": 7,
     "metadata": {},
     "output_type": "execute_result"
    }
   ],
   "source": [
    "np.ones((3,3), dtype=bool)"
   ]
  },
  {
   "cell_type": "code",
   "execution_count": 10,
   "id": "11037de7",
   "metadata": {},
   "outputs": [
    {
     "data": {
      "text/plain": [
       "array([[False, False, False],\n",
       "       [False, False, False],\n",
       "       [False, False, False],\n",
       "       [False, False, False]])"
      ]
     },
     "execution_count": 10,
     "metadata": {},
     "output_type": "execute_result"
    }
   ],
   "source": [
    "np.zeros((4,3), dtype=bool)"
   ]
  },
  {
   "cell_type": "markdown",
   "id": "ecb33ca7",
   "metadata": {},
   "source": [
    "### 4. How to extract items that satisfy a given condition from 1D array?"
   ]
  },
  {
   "cell_type": "code",
   "execution_count": 2,
   "id": "70ab23c0",
   "metadata": {},
   "outputs": [
    {
     "data": {
      "text/plain": [
       "array([0, 2, 4])"
      ]
     },
     "execution_count": 2,
     "metadata": {},
     "output_type": "execute_result"
    }
   ],
   "source": [
    "import numpy as np\n",
    "arr = np.array([0, 1, 2, 3, 4, 5])\n",
    "a = arr[arr % 2 != 1]\n",
    "a"
   ]
  },
  {
   "cell_type": "code",
   "execution_count": 14,
   "id": "d51f2ce8",
   "metadata": {},
   "outputs": [
    {
     "data": {
      "text/plain": [
       "array([0, 2, 4])"
      ]
     },
     "execution_count": 14,
     "metadata": {},
     "output_type": "execute_result"
    }
   ],
   "source": [
    "b =arr[arr % 2 == 0]\n",
    "b"
   ]
  },
  {
   "cell_type": "markdown",
   "id": "94c7852d",
   "metadata": {},
   "source": [
    "### 5. How to replace items that satisfy a condition with another value in numpy array?"
   ]
  },
  {
   "cell_type": "code",
   "execution_count": 15,
   "id": "534fcc15",
   "metadata": {},
   "outputs": [
    {
     "data": {
      "text/plain": [
       "array([ 0, -1,  2, -1,  4, -1,  6, -1,  8, -1])"
      ]
     },
     "execution_count": 15,
     "metadata": {},
     "output_type": "execute_result"
    }
   ],
   "source": [
    "arr = np.array([0, 1, 2, 3, 4, 5, 6, 7, 8, 9])\n",
    "arr[arr % 2 == 1] = -1\n",
    "arr"
   ]
  },
  {
   "cell_type": "markdown",
   "id": "4c502fb3",
   "metadata": {},
   "source": [
    "### 6. How to replace items that satisfy a condition without affecting the original array?"
   ]
  },
  {
   "cell_type": "code",
   "execution_count": 16,
   "id": "87ce54c1",
   "metadata": {},
   "outputs": [
    {
     "name": "stdout",
     "output_type": "stream",
     "text": [
      "[0 1 2 3 4 5 6 7 8 9]\n"
     ]
    },
    {
     "data": {
      "text/plain": [
       "array([ 0, -1,  2, -1,  4, -1,  6, -1,  8, -1])"
      ]
     },
     "execution_count": 16,
     "metadata": {},
     "output_type": "execute_result"
    }
   ],
   "source": [
    "arr = np.arange(10)\n",
    "out = np.where(arr % 2 == 1, -1, arr)\n",
    "print(arr)\n",
    "out"
   ]
  },
  {
   "cell_type": "markdown",
   "id": "f8bc4993",
   "metadata": {},
   "source": [
    "### 7. How to reshape an array?"
   ]
  },
  {
   "cell_type": "code",
   "execution_count": 17,
   "id": "2d3c6d0a",
   "metadata": {},
   "outputs": [
    {
     "data": {
      "text/plain": [
       "array([[0, 1, 2, 3, 4],\n",
       "       [5, 6, 7, 8, 9]])"
      ]
     },
     "execution_count": 17,
     "metadata": {},
     "output_type": "execute_result"
    }
   ],
   "source": [
    "arr = np.arange(10)\n",
    "arr.reshape(2, -1)  # Setting to -1 automatically decides the number of cols"
   ]
  },
  {
   "cell_type": "markdown",
   "id": "06f7e6d6",
   "metadata": {},
   "source": [
    "### 8. How to stack two arrays vertically?"
   ]
  },
  {
   "cell_type": "code",
   "execution_count": 18,
   "id": "bdc5640d",
   "metadata": {},
   "outputs": [],
   "source": [
    "a = np.arange(10).reshape(2,-1)\n",
    "b = np.repeat(1, 10).reshape(2,-1)"
   ]
  },
  {
   "cell_type": "code",
   "execution_count": 19,
   "id": "46d5b713",
   "metadata": {},
   "outputs": [
    {
     "data": {
      "text/plain": [
       "array([[0, 1, 2, 3, 4],\n",
       "       [5, 6, 7, 8, 9],\n",
       "       [1, 1, 1, 1, 1],\n",
       "       [1, 1, 1, 1, 1]])"
      ]
     },
     "execution_count": 19,
     "metadata": {},
     "output_type": "execute_result"
    }
   ],
   "source": [
    "np.concatenate([a, b], axis=0)# axis = 0 is for rows"
   ]
  },
  {
   "cell_type": "code",
   "execution_count": 20,
   "id": "49a00ebd",
   "metadata": {},
   "outputs": [
    {
     "data": {
      "text/plain": [
       "array([[0, 1, 2, 3, 4],\n",
       "       [5, 6, 7, 8, 9],\n",
       "       [1, 1, 1, 1, 1],\n",
       "       [1, 1, 1, 1, 1]])"
      ]
     },
     "execution_count": 20,
     "metadata": {},
     "output_type": "execute_result"
    }
   ],
   "source": [
    "np.vstack([a, b])"
   ]
  },
  {
   "cell_type": "markdown",
   "id": "79304315",
   "metadata": {},
   "source": [
    "### 9. How to stack two arrays horizontally?"
   ]
  },
  {
   "cell_type": "code",
   "execution_count": 21,
   "id": "ba8d9e34",
   "metadata": {},
   "outputs": [
    {
     "data": {
      "text/plain": [
       "array([[0, 1, 2, 3, 4, 1, 1, 1, 1, 1],\n",
       "       [5, 6, 7, 8, 9, 1, 1, 1, 1, 1]])"
      ]
     },
     "execution_count": 21,
     "metadata": {},
     "output_type": "execute_result"
    }
   ],
   "source": [
    "a = np.arange(10).reshape(2,-1)\n",
    "\n",
    "b = np.repeat(1, 10).reshape(2,-1)\n",
    "np.concatenate([a, b], axis=1)"
   ]
  },
  {
   "cell_type": "code",
   "execution_count": 22,
   "id": "0ef00051",
   "metadata": {},
   "outputs": [
    {
     "data": {
      "text/plain": [
       "array([[0, 1, 2, 3, 4, 1, 1, 1, 1, 1],\n",
       "       [5, 6, 7, 8, 9, 1, 1, 1, 1, 1]])"
      ]
     },
     "execution_count": 22,
     "metadata": {},
     "output_type": "execute_result"
    }
   ],
   "source": [
    "np.hstack([a, b])"
   ]
  },
  {
   "cell_type": "markdown",
   "id": "a658ceb7",
   "metadata": {},
   "source": [
    "### 10. How to generate custom sequences in numpy without hardcoding?"
   ]
  },
  {
   "cell_type": "code",
   "execution_count": 25,
   "id": "8cb41d78",
   "metadata": {},
   "outputs": [
    {
     "data": {
      "text/plain": [
       "array([1, 1, 1, 2, 2, 2, 3, 3, 3, 1, 2, 3, 1, 2, 3, 1, 2, 3])"
      ]
     },
     "execution_count": 25,
     "metadata": {},
     "output_type": "execute_result"
    }
   ],
   "source": [
    "a = np.array([1,2,3])\n",
    "np.r_[np.repeat(a, 3), np.tile(a, 3)]"
   ]
  },
  {
   "cell_type": "markdown",
   "id": "306c626e",
   "metadata": {},
   "source": [
    "### 11. How to get the common items between two python numpy arrays?"
   ]
  },
  {
   "cell_type": "code",
   "execution_count": 26,
   "id": "19c5284c",
   "metadata": {},
   "outputs": [
    {
     "data": {
      "text/plain": [
       "array([2, 4])"
      ]
     },
     "execution_count": 26,
     "metadata": {},
     "output_type": "execute_result"
    }
   ],
   "source": [
    "a = np.array([1,2,3,2,3,4,3,4,5,6])\n",
    "b = np.array([7,2,10,2,7,4,9,4,9,8])\n",
    "np.intersect1d(a,b)"
   ]
  },
  {
   "cell_type": "markdown",
   "id": "e74bb5fc",
   "metadata": {},
   "source": [
    "### 12. How to remove from one array those items that exist in another?"
   ]
  },
  {
   "cell_type": "code",
   "execution_count": 27,
   "id": "55fb34ef",
   "metadata": {},
   "outputs": [
    {
     "data": {
      "text/plain": [
       "array([1, 2, 3, 4])"
      ]
     },
     "execution_count": 27,
     "metadata": {},
     "output_type": "execute_result"
    }
   ],
   "source": [
    "a = np.array([1,2,3,4,5])\n",
    "b = np.array([5,6,7,8,9])\n",
    "\n",
    "# From 'a' remove all of 'b'\n",
    "np.setdiff1d(a,b)"
   ]
  },
  {
   "cell_type": "markdown",
   "id": "8af926ff",
   "metadata": {},
   "source": [
    "### 13. How to get the positions where elements of two arrays match?"
   ]
  },
  {
   "cell_type": "code",
   "execution_count": 28,
   "id": "25a7abe0",
   "metadata": {},
   "outputs": [
    {
     "data": {
      "text/plain": [
       "(array([1, 3, 5, 7], dtype=int64),)"
      ]
     },
     "execution_count": 28,
     "metadata": {},
     "output_type": "execute_result"
    }
   ],
   "source": [
    "a = np.array([1,2,3,2,3,4,3,4,5,6])\n",
    "b = np.array([7,2,10,2,7,4,9,4,9,8])\n",
    "\n",
    "np.where(a == b)"
   ]
  },
  {
   "cell_type": "markdown",
   "id": "bc38e8ed",
   "metadata": {},
   "source": [
    "### 14. How to extract all numbers between a given range from a numpy array?"
   ]
  },
  {
   "cell_type": "code",
   "execution_count": 29,
   "id": "17364475",
   "metadata": {},
   "outputs": [
    {
     "data": {
      "text/plain": [
       "array([ 5,  6,  7,  8,  9, 10])"
      ]
     },
     "execution_count": 29,
     "metadata": {},
     "output_type": "execute_result"
    }
   ],
   "source": [
    "a = np.arange(15)\n",
    "\n",
    "\n",
    "index = np.where((a >= 5) & (a <= 10))\n",
    "a[index]"
   ]
  },
  {
   "cell_type": "code",
   "execution_count": 30,
   "id": "3c78e4d6",
   "metadata": {},
   "outputs": [
    {
     "data": {
      "text/plain": [
       "array([ 5,  6,  7,  8,  9, 10])"
      ]
     },
     "execution_count": 30,
     "metadata": {},
     "output_type": "execute_result"
    }
   ],
   "source": [
    "index = np.where(np.logical_and(a>=5, a<=10))\n",
    "a[index]"
   ]
  },
  {
   "cell_type": "code",
   "execution_count": 31,
   "id": "48af9d07",
   "metadata": {},
   "outputs": [
    {
     "data": {
      "text/plain": [
       "array([ 5,  6,  7,  8,  9, 10])"
      ]
     },
     "execution_count": 31,
     "metadata": {},
     "output_type": "execute_result"
    }
   ],
   "source": [
    "a[(a >= 5) & (a <= 10)]"
   ]
  },
  {
   "cell_type": "markdown",
   "id": "8ca01d6b",
   "metadata": {},
   "source": [
    "### 15. How to make a python function that handles scalars to work on numpy arrays?"
   ]
  },
  {
   "cell_type": "code",
   "execution_count": 32,
   "id": "b05a0442",
   "metadata": {},
   "outputs": [
    {
     "data": {
      "text/plain": [
       "5"
      ]
     },
     "execution_count": 32,
     "metadata": {},
     "output_type": "execute_result"
    }
   ],
   "source": [
    "def maxx(x, y):\n",
    "    \"\"\"Get the maximum of two items\"\"\"\n",
    "    if x >= y:\n",
    "        return x\n",
    "    else:\n",
    "        return y\n",
    "\n",
    "maxx(1, 5)"
   ]
  },
  {
   "cell_type": "markdown",
   "id": "c4451373",
   "metadata": {},
   "source": [
    "### 16. How to swap two columns in a 2d numpy array?"
   ]
  },
  {
   "cell_type": "code",
   "execution_count": 35,
   "id": "48ef2e73",
   "metadata": {},
   "outputs": [
    {
     "data": {
      "text/plain": [
       "array([[1, 0, 2],\n",
       "       [4, 3, 5],\n",
       "       [7, 6, 8]])"
      ]
     },
     "execution_count": 35,
     "metadata": {},
     "output_type": "execute_result"
    }
   ],
   "source": [
    "# Input\n",
    "arr = np.arange(9).reshape(3,3)\n",
    "arr\n",
    "\n",
    "# Solution\n",
    "arr[:, [1,0,2]]"
   ]
  },
  {
   "cell_type": "markdown",
   "id": "02edb851",
   "metadata": {},
   "source": [
    "### 17. How to swap two rows in a 2d numpy array?"
   ]
  },
  {
   "cell_type": "code",
   "execution_count": 36,
   "id": "87f5534c",
   "metadata": {},
   "outputs": [
    {
     "data": {
      "text/plain": [
       "array([[3, 4, 5],\n",
       "       [0, 1, 2],\n",
       "       [6, 7, 8]])"
      ]
     },
     "execution_count": 36,
     "metadata": {},
     "output_type": "execute_result"
    }
   ],
   "source": [
    "# Input\n",
    "arr = np.arange(9).reshape(3,3)\n",
    "\n",
    "# Solution\n",
    "arr[[1,0,2], :]"
   ]
  },
  {
   "cell_type": "markdown",
   "id": "b1be5b35",
   "metadata": {},
   "source": [
    "### 18. How to reverse the rows of a 2D array?"
   ]
  },
  {
   "cell_type": "code",
   "execution_count": 37,
   "id": "e1530c5c",
   "metadata": {},
   "outputs": [
    {
     "data": {
      "text/plain": [
       "array([[6, 7, 8],\n",
       "       [3, 4, 5],\n",
       "       [0, 1, 2]])"
      ]
     },
     "execution_count": 37,
     "metadata": {},
     "output_type": "execute_result"
    }
   ],
   "source": [
    "# Input\n",
    "arr = np.arange(9).reshape(3,3)\n",
    "\n",
    "# Solution\n",
    "arr[::-1]"
   ]
  },
  {
   "cell_type": "markdown",
   "id": "19238c2d",
   "metadata": {},
   "source": [
    "### 19. How to reverse the columns of a 2D array?"
   ]
  },
  {
   "cell_type": "code",
   "execution_count": 38,
   "id": "7a7234fa",
   "metadata": {},
   "outputs": [
    {
     "data": {
      "text/plain": [
       "array([[2, 1, 0],\n",
       "       [5, 4, 3],\n",
       "       [8, 7, 6]])"
      ]
     },
     "execution_count": 38,
     "metadata": {},
     "output_type": "execute_result"
    }
   ],
   "source": [
    "# Input\n",
    "arr = np.arange(9).reshape(3,3)\n",
    "\n",
    "# Solution\n",
    "arr[:, ::-1]"
   ]
  },
  {
   "cell_type": "markdown",
   "id": "3124e23c",
   "metadata": {},
   "source": [
    "### 20. How to create a 2D array containing random floats between 5 and 10?"
   ]
  },
  {
   "cell_type": "code",
   "execution_count": 39,
   "id": "b2b5f2a8",
   "metadata": {},
   "outputs": [
    {
     "name": "stdout",
     "output_type": "stream",
     "text": [
      "[[7.58070588 7.63493036 7.47303898]\n",
      " [6.05670974 6.13347823 8.8930592 ]\n",
      " [8.17976028 8.71397163 8.77938352]\n",
      " [9.55383679 7.07465475 7.91262347]\n",
      " [5.31292124 5.78762484 8.48479661]]\n"
     ]
    }
   ],
   "source": [
    "# Input\n",
    "arr = np.arange(9).reshape(3,3)\n",
    "\n",
    "# Solution Method 1:\n",
    "rand_arr = np.random.randint(low=5, high=10, size=(5,3)) + np.random.random((5,3))\n",
    "# print(rand_arr)\n",
    "\n",
    "# Solution Method 2:\n",
    "rand_arr = np.random.uniform(5,10, size=(5,3))\n",
    "print(rand_arr)"
   ]
  },
  {
   "cell_type": "markdown",
   "id": "1d282207",
   "metadata": {},
   "source": [
    "### 21. How to print only 3 decimal places in python numpy array?"
   ]
  },
  {
   "cell_type": "code",
   "execution_count": 40,
   "id": "c6efc7bd",
   "metadata": {},
   "outputs": [
    {
     "data": {
      "text/plain": [
       "array([[0.827, 0.616, 0.933],\n",
       "       [0.627, 0.996, 0.963],\n",
       "       [0.513, 0.352, 0.82 ],\n",
       "       [0.241, 0.319, 0.935]])"
      ]
     },
     "execution_count": 40,
     "metadata": {},
     "output_type": "execute_result"
    }
   ],
   "source": [
    "# Input\n",
    "rand_arr = np.random.random((5,3))\n",
    "\n",
    "# Create the random array\n",
    "rand_arr = np.random.random([5,3])\n",
    "\n",
    "# Limit to 3 decimal places\n",
    "np.set_printoptions(precision=3)\n",
    "rand_arr[:4]"
   ]
  },
  {
   "cell_type": "markdown",
   "id": "c6de47ec",
   "metadata": {},
   "source": [
    "### 23. How to limit the number of items printed in output of numpy array?"
   ]
  },
  {
   "cell_type": "code",
   "execution_count": 41,
   "id": "3c03dd4e",
   "metadata": {},
   "outputs": [
    {
     "data": {
      "text/plain": [
       "array([ 0,  1,  2, ..., 12, 13, 14])"
      ]
     },
     "execution_count": 41,
     "metadata": {},
     "output_type": "execute_result"
    }
   ],
   "source": [
    "np.set_printoptions(threshold=6)\n",
    "a = np.arange(15)\n",
    "a"
   ]
  },
  {
   "cell_type": "markdown",
   "id": "60e85248",
   "metadata": {},
   "source": [
    "###  How to find the position of missing values in numpy array?"
   ]
  },
  {
   "cell_type": "code",
   "execution_count": 42,
   "id": "21b477f5",
   "metadata": {},
   "outputs": [
    {
     "name": "stdout",
     "output_type": "stream",
     "text": [
      "Number of missing values: \n",
      " 4\n",
      "Position of missing values: \n",
      " (array([ 41, 112, 114, 125], dtype=int64),)\n"
     ]
    }
   ],
   "source": [
    "\n",
    "# Input\n",
    "url = 'https://archive.ics.uci.edu/ml/machine-learning-databases/iris/iris.data'\n",
    "iris_2d = np.genfromtxt(url, delimiter=',', dtype='float', usecols=[0,1,2,3])\n",
    "iris_2d[np.random.randint(150, size=20), np.random.randint(4, size=20)] = np.nan\n",
    "\n",
    "# Solution\n",
    "print(\"Number of missing values: \\n\", np.isnan(iris_2d[:, 0]).sum())\n",
    "print(\"Position of missing values: \\n\", np.where(np.isnan(iris_2d[:, 0])))"
   ]
  },
  {
   "cell_type": "markdown",
   "id": "bfc3e7b3",
   "metadata": {},
   "source": [
    "### How to filter a numpy array based on two or more conditions?"
   ]
  },
  {
   "cell_type": "code",
   "execution_count": 43,
   "id": "6bf4b3d1",
   "metadata": {},
   "outputs": [
    {
     "data": {
      "text/plain": [
       "array([[4.8, 3.4, 1.6, 0.2],\n",
       "       [4.8, 3.4, 1.9, 0.2],\n",
       "       [4.7, 3.2, 1.6, 0.2],\n",
       "       [4.8, 3.1, 1.6, 0.2],\n",
       "       [4.9, 2.4, 3.3, 1. ],\n",
       "       [4.9, 2.5, 4.5, 1.7]])"
      ]
     },
     "execution_count": 43,
     "metadata": {},
     "output_type": "execute_result"
    }
   ],
   "source": [
    "url = 'https://archive.ics.uci.edu/ml/machine-learning-databases/iris/iris.data'\n",
    "iris_2d = np.genfromtxt(url, delimiter=',', dtype='float', usecols=[0,1,2,3])\n",
    "\n",
    "# Solution\n",
    "condition = (iris_2d[:, 2] > 1.5) & (iris_2d[:, 0] < 5.0)\n",
    "iris_2d[condition]"
   ]
  },
  {
   "cell_type": "markdown",
   "id": "681ad284",
   "metadata": {},
   "source": [
    "### How to convert a numeric to a categorical (text) array?"
   ]
  },
  {
   "cell_type": "code",
   "execution_count": 44,
   "id": "c3e5dc43",
   "metadata": {},
   "outputs": [
    {
     "data": {
      "text/plain": [
       "['small', 'small', 'small', 'small']"
      ]
     },
     "execution_count": 44,
     "metadata": {},
     "output_type": "execute_result"
    }
   ],
   "source": [
    "# Input\n",
    "url = 'https://archive.ics.uci.edu/ml/machine-learning-databases/iris/iris.data'\n",
    "iris = np.genfromtxt(url, delimiter=',', dtype='object')\n",
    "names = ('sepallength', 'sepalwidth', 'petallength', 'petalwidth', 'species')\n",
    "\n",
    "# Bin petallength \n",
    "petal_length_bin = np.digitize(iris[:, 2].astype('float'), [0, 3, 5, 10])\n",
    "\n",
    "# Map it to respective category\n",
    "label_map = {1: 'small', 2: 'medium', 3: 'large', 4: np.nan}\n",
    "petal_length_cat = [label_map[x] for x in petal_length_bin]\n",
    "\n",
    "# View\n",
    "petal_length_cat[:4]"
   ]
  },
  {
   "cell_type": "markdown",
   "id": "6bae977a",
   "metadata": {},
   "source": [
    "### How to replace all values greater than a given value to a given cutoff?"
   ]
  },
  {
   "cell_type": "code",
   "execution_count": 45,
   "id": "8711d5c0",
   "metadata": {},
   "outputs": [
    {
     "name": "stdout",
     "output_type": "stream",
     "text": [
      "[27.63 14.64 21.8  ... 10.   30.   14.43]\n"
     ]
    }
   ],
   "source": [
    "# Input\n",
    "np.set_printoptions(precision=2)\n",
    "np.random.seed(100)\n",
    "a = np.random.uniform(1,50, 20)\n",
    "\n",
    "# Solution 1: Using np.clip\n",
    "np.clip(a, a_min=10, a_max=30)\n",
    "\n",
    "# Solution 2: Using np.where\n",
    "print(np.where(a < 10, 10, np.where(a > 30, 30, a)))"
   ]
  },
  {
   "cell_type": "markdown",
   "id": "097feaac",
   "metadata": {},
   "source": [
    "###  How to create row numbers grouped by a categorical variable?"
   ]
  },
  {
   "cell_type": "code",
   "execution_count": 46,
   "id": "685777ca",
   "metadata": {},
   "outputs": [
    {
     "data": {
      "text/plain": [
       "array(['Iris-setosa', 'Iris-setosa', 'Iris-setosa', ..., 'Iris-virginica',\n",
       "       'Iris-virginica', 'Iris-virginica'], dtype='<U15')"
      ]
     },
     "execution_count": 46,
     "metadata": {},
     "output_type": "execute_result"
    }
   ],
   "source": [
    "url = 'https://archive.ics.uci.edu/ml/machine-learning-databases/iris/iris.data'\n",
    "species = np.genfromtxt(url, delimiter=',', dtype='str', usecols=4)\n",
    "np.random.seed(100)\n",
    "species_small = np.sort(np.random.choice(species, size=20))\n",
    "species_small"
   ]
  },
  {
   "cell_type": "markdown",
   "id": "0a23417f",
   "metadata": {},
   "source": [
    "### How to rank items in an array using numpy?"
   ]
  },
  {
   "cell_type": "code",
   "execution_count": 48,
   "id": "31239c02",
   "metadata": {},
   "outputs": [
    {
     "name": "stdout",
     "output_type": "stream",
     "text": [
      "Array:  [ 9  4 15 ...  8  9  0]\n",
      "[4 2 6 ... 3 5 1]\n",
      "Array:  [ 9  4 15 ...  8  9  0]\n"
     ]
    }
   ],
   "source": [
    "np.random.seed(10)\n",
    "a = np.random.randint(20, size=10)\n",
    "print('Array: ', a)\n",
    "\n",
    "# Solution\n",
    "print(a.argsort().argsort())\n",
    "print('Array: ', a)"
   ]
  },
  {
   "cell_type": "markdown",
   "id": "3a85e8f5",
   "metadata": {},
   "source": [
    "### How to rank items in a multidimensional array using numpy?"
   ]
  },
  {
   "cell_type": "code",
   "execution_count": 49,
   "id": "9505ab17",
   "metadata": {},
   "outputs": [
    {
     "name": "stdout",
     "output_type": "stream",
     "text": [
      "[[ 9  4 15  0 17]\n",
      " [16 17  8  9  0]]\n",
      "[[4 2 6 0 8]\n",
      " [7 9 3 5 1]]\n"
     ]
    }
   ],
   "source": [
    "# Input:\n",
    "np.random.seed(10)\n",
    "a = np.random.randint(20, size=[2,5])\n",
    "print(a)\n",
    "\n",
    "# Solution\n",
    "print(a.ravel().argsort().argsort().reshape(a.shape))"
   ]
  },
  {
   "cell_type": "markdown",
   "id": "69118cf4",
   "metadata": {},
   "source": [
    "### How to compute the euclidean distance between two arrays?"
   ]
  },
  {
   "cell_type": "code",
   "execution_count": 51,
   "id": "5e4a3a49",
   "metadata": {},
   "outputs": [
    {
     "data": {
      "text/plain": [
       "6.708203932499369"
      ]
     },
     "execution_count": 51,
     "metadata": {},
     "output_type": "execute_result"
    }
   ],
   "source": [
    " # Input\n",
    "a = np.array([1,2,3,4,5])\n",
    "b = np.array([4,5,6,7,8])\n",
    "\n",
    "# Solution\n",
    "dist = np.linalg.norm(a-b)\n",
    "dist"
   ]
  },
  {
   "cell_type": "markdown",
   "id": "891d78d0",
   "metadata": {},
   "source": [
    "### How to convert numpy's datetime64 object to datetime's datetime object?"
   ]
  },
  {
   "cell_type": "code",
   "execution_count": 52,
   "id": "7fbeb8c8",
   "metadata": {},
   "outputs": [
    {
     "data": {
      "text/plain": [
       "datetime.datetime(2018, 2, 25, 22, 10, 10)"
      ]
     },
     "execution_count": 52,
     "metadata": {},
     "output_type": "execute_result"
    }
   ],
   "source": [
    "# Input: a numpy datetime64 object\n",
    "dt64 = np.datetime64('2018-02-25 22:10:10')\n",
    "\n",
    "# Solution\n",
    "from datetime import datetime\n",
    "dt64.tolist()"
   ]
  },
  {
   "cell_type": "code",
   "execution_count": 53,
   "id": "95572219",
   "metadata": {},
   "outputs": [
    {
     "data": {
      "text/plain": [
       "datetime.datetime(2018, 2, 25, 22, 10, 10)"
      ]
     },
     "execution_count": 53,
     "metadata": {},
     "output_type": "execute_result"
    }
   ],
   "source": [
    "dt64.astype(datetime)"
   ]
  },
  {
   "cell_type": "markdown",
   "id": "80ade72c",
   "metadata": {},
   "source": [
    "### How to concatenate two numpy arrays columnwise and row wise"
   ]
  },
  {
   "cell_type": "markdown",
   "id": "9393e889",
   "metadata": {},
   "source": [
    "* Method 1: np.concatenate by changing the axis parameter to 0 and 1\n",
    "* Method 2: np.vstack and np.hstack\n",
    "* Method 3: np.r_ and np.c_"
   ]
  },
  {
   "cell_type": "code",
   "execution_count": 54,
   "id": "78ba5de6",
   "metadata": {},
   "outputs": [
    {
     "name": "stdout",
     "output_type": "stream",
     "text": [
      "[[0. 0. 0. 0.]\n",
      " [0. 0. 0. 0.]\n",
      " [0. 0. 0. 0.]\n",
      " [0. 0. 0. 0.]]\n",
      "[[1. 1. 1. 1.]\n",
      " [1. 1. 1. 1.]\n",
      " [1. 1. 1. 1.]\n",
      " [1. 1. 1. 1.]]\n"
     ]
    }
   ],
   "source": [
    "a = np.zeros([4, 4])\n",
    "b = np.ones([4, 4])\n",
    "print(a)\n",
    "print(b)"
   ]
  },
  {
   "cell_type": "code",
   "execution_count": 56,
   "id": "85489b85",
   "metadata": {},
   "outputs": [
    {
     "data": {
      "text/plain": [
       "array([[0., 0., 0., 0.],\n",
       "       [0., 0., 0., 0.],\n",
       "       [0., 0., 0., 0.],\n",
       "       ...,\n",
       "       [1., 1., 1., 1.],\n",
       "       [1., 1., 1., 1.],\n",
       "       [1., 1., 1., 1.]])"
      ]
     },
     "execution_count": 56,
     "metadata": {},
     "output_type": "execute_result"
    }
   ],
   "source": [
    " # Vertical Stack Equivalents (Row wise\n",
    "np.concatenate([a, b], axis=0)  \n",
    "np.vstack([a,b])  \n",
    "np.r_[a,b]  "
   ]
  },
  {
   "cell_type": "code",
   "execution_count": 57,
   "id": "3313f0b6",
   "metadata": {},
   "outputs": [
    {
     "data": {
      "text/plain": [
       "array([[0., 0., 0., ..., 1., 1., 1.],\n",
       "       [0., 0., 0., ..., 1., 1., 1.],\n",
       "       [0., 0., 0., ..., 1., 1., 1.],\n",
       "       [0., 0., 0., ..., 1., 1., 1.]])"
      ]
     },
     "execution_count": 57,
     "metadata": {},
     "output_type": "execute_result"
    }
   ],
   "source": [
    "# Horizontal Stack Equivalents (Coliumn wise)\n",
    "np.concatenate([a, b], axis=1) \n",
    "np.hstack([a,b])  \n",
    "np.c_[a,b]"
   ]
  },
  {
   "cell_type": "markdown",
   "id": "e583036e",
   "metadata": {},
   "source": [
    "### How to sort a numpy array based on 1 column using argsort?"
   ]
  },
  {
   "cell_type": "code",
   "execution_count": 58,
   "id": "65c856ea",
   "metadata": {},
   "outputs": [
    {
     "name": "stdout",
     "output_type": "stream",
     "text": [
      "[0 3 2 4 5 1]\n"
     ]
    }
   ],
   "source": [
    "x = np.array([1, 10, 5, 2, 8, 9])\n",
    "sort_index = np.argsort(x)\n",
    "print(sort_index)"
   ]
  },
  {
   "cell_type": "code",
   "execution_count": 59,
   "id": "c2b960e9",
   "metadata": {},
   "outputs": [
    {
     "data": {
      "text/plain": [
       "array([ 1,  2,  5,  8,  9, 10])"
      ]
     },
     "execution_count": 59,
     "metadata": {},
     "output_type": "execute_result"
    }
   ],
   "source": [
    "x[sort_index]"
   ]
  },
  {
   "cell_type": "code",
   "execution_count": 60,
   "id": "b0fdbb35",
   "metadata": {},
   "outputs": [
    {
     "data": {
      "text/plain": [
       "array([[0, 1, 2],\n",
       "       [3, 4, 5],\n",
       "       [6, 7, 8]])"
      ]
     },
     "execution_count": 60,
     "metadata": {},
     "output_type": "execute_result"
    }
   ],
   "source": [
    "# Argsort the first column\n",
    "sorted_index_1stcol = arr[:, 0].argsort()\n",
    "\n",
    "# Sort 'arr' by first column without disturbing the integrity of rows\n",
    "arr[sorted_index_1stcol]"
   ]
  },
  {
   "cell_type": "code",
   "execution_count": 61,
   "id": "3eefbb7d",
   "metadata": {},
   "outputs": [
    {
     "data": {
      "text/plain": [
       "array([[6, 7, 8],\n",
       "       [3, 4, 5],\n",
       "       [0, 1, 2]])"
      ]
     },
     "execution_count": 61,
     "metadata": {},
     "output_type": "execute_result"
    }
   ],
   "source": [
    "# Descending sort\n",
    "arr[sorted_index_1stcol[::-1]]"
   ]
  },
  {
   "cell_type": "markdown",
   "id": "4d06f7be",
   "metadata": {},
   "source": [
    "###  Working with dates"
   ]
  },
  {
   "cell_type": "code",
   "execution_count": 62,
   "id": "9072a48f",
   "metadata": {},
   "outputs": [
    {
     "data": {
      "text/plain": [
       "numpy.datetime64('2018-02-04T23:10:10')"
      ]
     },
     "execution_count": 62,
     "metadata": {},
     "output_type": "execute_result"
    }
   ],
   "source": [
    "# Create a datetime64 object\n",
    "date64 = np.datetime64('2018-02-04 23:10:10')\n",
    "date64"
   ]
  },
  {
   "cell_type": "code",
   "execution_count": 63,
   "id": "9b1c1ac8",
   "metadata": {},
   "outputs": [
    {
     "data": {
      "text/plain": [
       "numpy.datetime64('2018-02-04')"
      ]
     },
     "execution_count": 63,
     "metadata": {},
     "output_type": "execute_result"
    }
   ],
   "source": [
    "# Drop the time part from the datetime64 object\n",
    "dt64 = np.datetime64(date64, 'D')\n",
    "dt64"
   ]
  },
  {
   "cell_type": "code",
   "execution_count": 64,
   "id": "e93feed5",
   "metadata": {},
   "outputs": [
    {
     "name": "stdout",
     "output_type": "stream",
     "text": [
      "Add 10 days:  2018-02-14\n",
      "Add 10 minutes:  2018-02-04T00:10\n",
      "Add 10 seconds:  2018-02-04T00:00:10\n",
      "Add 10 nanoseconds:  2018-02-04T00:00:00.000000010\n"
     ]
    }
   ],
   "source": [
    "# Create the timedeltas (individual units of time)\n",
    "tenminutes = np.timedelta64(10, 'm')  # 10 minutes\n",
    "tenseconds = np.timedelta64(10, 's')  # 10 seconds\n",
    "tennanoseconds = np.timedelta64(10, 'ns')  # 10 nanoseconds\n",
    "\n",
    "print('Add 10 days: ', dt64 + 10)\n",
    "print('Add 10 minutes: ', dt64 + tenminutes)\n",
    "print('Add 10 seconds: ', dt64 + tenseconds)\n",
    "print('Add 10 nanoseconds: ', dt64 + tennanoseconds)"
   ]
  },
  {
   "cell_type": "code",
   "execution_count": 65,
   "id": "d83921f8",
   "metadata": {},
   "outputs": [
    {
     "data": {
      "text/plain": [
       "'2018-02-04'"
      ]
     },
     "execution_count": 65,
     "metadata": {},
     "output_type": "execute_result"
    }
   ],
   "source": [
    "# Convert np.datetime64 back to a string\n",
    "np.datetime_as_string(dt64)"
   ]
  },
  {
   "cell_type": "markdown",
   "id": "0f97e8b7",
   "metadata": {},
   "source": [
    "###  How to add a new axis to a numpy array?"
   ]
  },
  {
   "cell_type": "code",
   "execution_count": 66,
   "id": "704020a1",
   "metadata": {},
   "outputs": [
    {
     "name": "stdout",
     "output_type": "stream",
     "text": [
      "Original array:  [0 1 2 3 4]\n",
      "x_col shape:  (5, 1)\n",
      "[[0]\n",
      " [1]\n",
      " [2]\n",
      " [3]\n",
      " [4]]\n",
      "x_row shape:  (1, 5)\n",
      "[[0 1 2 3 4]]\n"
     ]
    }
   ],
   "source": [
    "# Create a 1D array\n",
    "x = np.arange(5)\n",
    "print('Original array: ', x)\n",
    "\n",
    "# Introduce a new column axis\n",
    "x_col = x[:, np.newaxis]\n",
    "print('x_col shape: ', x_col.shape)\n",
    "print(x_col)\n",
    "\n",
    "# Introduce a new row axis\n",
    "x_row = x[np.newaxis, :]\n",
    "print('x_row shape: ', x_row.shape)\n",
    "print(x_row)"
   ]
  },
  {
   "attachments": {
    "image.png": {
     "image/png": "[encoded data removed]"
    }
   },
   "cell_type": "markdown",
   "id": "5ac43772",
   "metadata": {},
   "source": [
    "![image.png](attachment:image.png)"
   ]
  },
  {
   "cell_type": "code",
   "execution_count": null,
   "id": "8c82512f",
   "metadata": {},
   "outputs": [],
   "source": []
  }
 ],
 "metadata": {
  "kernelspec": {
   "display_name": "Python 3 (ipykernel)",
   "language": "python",
   "name": "python3"
  },
  "language_info": {
   "codemirror_mode": {
    "name": "ipython",
    "version": 3
   },
   "file_extension": ".py",
   "mimetype": "text/x-python",
   "name": "python",
   "nbconvert_exporter": "python",
   "pygments_lexer": "ipython3",
   "version": "3.9.15"
  }
 },
 "nbformat": 4,
 "nbformat_minor": 5
}
