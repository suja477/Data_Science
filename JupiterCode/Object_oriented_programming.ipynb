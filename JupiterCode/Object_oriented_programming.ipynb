{
 "cells": [
  {
   "cell_type": "code",
   "execution_count": 12,
   "id": "c57afecd",
   "metadata": {},
   "outputs": [],
   "source": [
    "class AI :\n",
    "    pass"
   ]
  },
  {
   "cell_type": "code",
   "execution_count": 13,
   "id": "123a8d78",
   "metadata": {},
   "outputs": [],
   "source": [
    "Datascience=AI()"
   ]
  },
  {
   "cell_type": "code",
   "execution_count": 14,
   "id": "435d055a",
   "metadata": {},
   "outputs": [
    {
     "data": {
      "text/plain": [
       "__main__.DataScience"
      ]
     },
     "execution_count": 14,
     "metadata": {},
     "output_type": "execute_result"
    }
   ],
   "source": [
    "DataScience"
   ]
  },
  {
   "cell_type": "code",
   "execution_count": 27,
   "id": "cb9fc9a0",
   "metadata": {},
   "outputs": [],
   "source": [
    "class AI :\n",
    "    def __init__(self,ML,DL):\n",
    "        self.ML = ML\n",
    "        self.DL =DL\n",
    "    \n",
    "    def python(self):\n",
    "        print(self.ML,self.DL)"
   ]
  },
  {
   "cell_type": "code",
   "execution_count": 28,
   "id": "a5760ca8",
   "metadata": {},
   "outputs": [
    {
     "name": "stdout",
     "output_type": "stream",
     "text": [
      "Regression ANN\n"
     ]
    }
   ],
   "source": [
    "a=AI(\"Regression\",\"ANN\")\n",
    "a.python()"
   ]
  },
  {
   "cell_type": "code",
   "execution_count": 38,
   "id": "b6d0af05",
   "metadata": {},
   "outputs": [],
   "source": [
    "class Car:\n",
    "    def __init__(self,color,name):\n",
    "        self.color=color\n",
    "        self.name=name\n",
    "    \n",
    "    def start(self):\n",
    "        print(self.color,self.name)"
   ]
  },
  {
   "cell_type": "code",
   "execution_count": 39,
   "id": "50656e92",
   "metadata": {},
   "outputs": [
    {
     "name": "stdout",
     "output_type": "stream",
     "text": [
      "blue Kia\n"
     ]
    }
   ],
   "source": [
    "a=Car(\"blue\",\"Kia\")\n",
    "a.start()"
   ]
  },
  {
   "cell_type": "code",
   "execution_count": 52,
   "id": "3a7d1912",
   "metadata": {},
   "outputs": [],
   "source": [
    "class Python:\n",
    "    def __init__(b,b1,b2):\n",
    "        b.b1=b1\n",
    "        b.b2=b2\n",
    "    \n",
    "    def c1(b):\n",
    "        print(b.b1,b.b2)"
   ]
  },
  {
   "cell_type": "code",
   "execution_count": 53,
   "id": "1ff296d3",
   "metadata": {},
   "outputs": [
    {
     "name": "stdout",
     "output_type": "stream",
     "text": [
      "int float\n"
     ]
    }
   ],
   "source": [
    "test=Python(\"int\",\"float\")\n",
    "test.c1()"
   ]
  },
  {
   "cell_type": "code",
   "execution_count": 54,
   "id": "7c902b69",
   "metadata": {},
   "outputs": [
    {
     "data": {
      "text/plain": [
       "'int'"
      ]
     },
     "execution_count": 54,
     "metadata": {},
     "output_type": "execute_result"
    }
   ],
   "source": [
    "test.b1"
   ]
  },
  {
   "cell_type": "code",
   "execution_count": 73,
   "id": "a0f11406",
   "metadata": {},
   "outputs": [],
   "source": [
    "class India:\n",
    "    def __init__(self,state,language):\n",
    "        self.state=state\n",
    "        self.language=language\n",
    "        \n",
    "    def lang(self):\n",
    "        print(self.state,self.language)\n",
    "        \n"
   ]
  },
  {
   "cell_type": "code",
   "execution_count": 74,
   "id": "c2607851",
   "metadata": {},
   "outputs": [
    {
     "name": "stdout",
     "output_type": "stream",
     "text": [
      "Maharashtra Marati\n"
     ]
    }
   ],
   "source": [
    "A=India(\"Maharashtra\",\"Marati\")\n",
    "A.lang()"
   ]
  },
  {
   "cell_type": "code",
   "execution_count": 75,
   "id": "6564dee5",
   "metadata": {},
   "outputs": [
    {
     "data": {
      "text/plain": [
       "'s1,s2,s3'"
      ]
     },
     "execution_count": 75,
     "metadata": {},
     "output_type": "execute_result"
    }
   ],
   "source": [
    "a=\"{},{},{}\".format(\"s1\",\"s2\",\"s3\")\n",
    "a"
   ]
  },
  {
   "cell_type": "code",
   "execution_count": null,
   "id": "6e3a1676",
   "metadata": {},
   "outputs": [],
   "source": []
  }
 ],
 "metadata": {
  "kernelspec": {
   "display_name": "Python 3 (ipykernel)",
   "language": "python",
   "name": "python3"
  },
  "language_info": {
   "codemirror_mode": {
    "name": "ipython",
    "version": 3
   },
   "file_extension": ".py",
   "mimetype": "text/x-python",
   "name": "python",
   "nbconvert_exporter": "python",
   "pygments_lexer": "ipython3",
   "version": "3.9.15"
  }
 },
 "nbformat": 4,
 "nbformat_minor": 5
}
