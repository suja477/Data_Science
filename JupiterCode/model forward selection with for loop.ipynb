{
 "cells": [
  {
   "cell_type": "code",
   "execution_count": 1,
   "id": "8bb95168",
   "metadata": {},
   "outputs": [],
   "source": [
    "from warnings import filterwarnings"
   ]
  },
  {
   "cell_type": "code",
   "execution_count": 2,
   "id": "1a7fe70d",
   "metadata": {},
   "outputs": [],
   "source": [
    "filterwarnings(\"ignore\")"
   ]
  },
  {
   "cell_type": "code",
   "execution_count": 3,
   "id": "839daa68",
   "metadata": {},
   "outputs": [],
   "source": [
    "import pandas as pd\n"
   ]
  },
  {
   "cell_type": "code",
   "execution_count": 4,
   "id": "7b224316",
   "metadata": {},
   "outputs": [],
   "source": [
    "A=pd.read_csv(\"C:/Users/Suja4/OneDrive/Documents/Data Science/Dataset/Cars93.csv\")"
   ]
  },
  {
   "cell_type": "code",
   "execution_count": 5,
   "id": "2538d10f",
   "metadata": {},
   "outputs": [
    {
     "name": "stdout",
     "output_type": "stream",
     "text": [
      "<class 'pandas.core.frame.DataFrame'>\n",
      "RangeIndex: 93 entries, 0 to 92\n",
      "Data columns (total 28 columns):\n",
      " #   Column              Non-Null Count  Dtype  \n",
      "---  ------              --------------  -----  \n",
      " 0   id                  93 non-null     int64  \n",
      " 1   Manufacturer        93 non-null     object \n",
      " 2   Model               93 non-null     object \n",
      " 3   Type                93 non-null     object \n",
      " 4   Min.Price           93 non-null     float64\n",
      " 5   Price               93 non-null     float64\n",
      " 6   Max.Price           93 non-null     float64\n",
      " 7   MPG.city            93 non-null     int64  \n",
      " 8   MPG.highway         93 non-null     int64  \n",
      " 9   AirBags             89 non-null     object \n",
      " 10  DriveTrain          93 non-null     object \n",
      " 11  Cylinders           93 non-null     object \n",
      " 12  EngineSize          93 non-null     float64\n",
      " 13  Horsepower          93 non-null     int64  \n",
      " 14  RPM                 93 non-null     int64  \n",
      " 15  Rev.per.mile        93 non-null     int64  \n",
      " 16  Man.trans.avail     93 non-null     object \n",
      " 17  Fuel.tank.capacity  93 non-null     float64\n",
      " 18  Passengers          93 non-null     int64  \n",
      " 19  Length              93 non-null     int64  \n",
      " 20  Wheelbase           93 non-null     int64  \n",
      " 21  Width               93 non-null     int64  \n",
      " 22  Turn.circle         93 non-null     int64  \n",
      " 23  Rear.seat.room      91 non-null     float64\n",
      " 24  Luggage.room        82 non-null     float64\n",
      " 25  Weight              93 non-null     int64  \n",
      " 26  Origin              93 non-null     object \n",
      " 27  Make                93 non-null     object \n",
      "dtypes: float64(7), int64(12), object(9)\n",
      "memory usage: 20.5+ KB\n"
     ]
    }
   ],
   "source": [
    "A.info()"
   ]
  },
  {
   "cell_type": "markdown",
   "id": "89a7f5c4",
   "metadata": {},
   "source": [
    "# Removing discrete columns"
   ]
  },
  {
   "cell_type": "code",
   "execution_count": 6,
   "id": "01cc9e78",
   "metadata": {},
   "outputs": [
    {
     "data": {
      "text/plain": [
       "id                    93\n",
       "Manufacturer          32\n",
       "Model                 93\n",
       "Type                   6\n",
       "Min.Price             79\n",
       "Price                 81\n",
       "Max.Price             79\n",
       "MPG.city              21\n",
       "MPG.highway           22\n",
       "AirBags                3\n",
       "DriveTrain             3\n",
       "Cylinders              6\n",
       "EngineSize            26\n",
       "Horsepower            57\n",
       "RPM                   24\n",
       "Rev.per.mile          78\n",
       "Man.trans.avail        2\n",
       "Fuel.tank.capacity    38\n",
       "Passengers             6\n",
       "Length                51\n",
       "Wheelbase             27\n",
       "Width                 16\n",
       "Turn.circle           14\n",
       "Rear.seat.room        24\n",
       "Luggage.room          16\n",
       "Weight                81\n",
       "Origin                 2\n",
       "Make                  93\n",
       "dtype: int64"
      ]
     },
     "execution_count": 6,
     "metadata": {},
     "output_type": "execute_result"
    }
   ],
   "source": [
    "A.nunique()"
   ]
  },
  {
   "cell_type": "code",
   "execution_count": 7,
   "id": "18f868d5",
   "metadata": {},
   "outputs": [],
   "source": [
    "A=A.drop(labels=[\"id\",\"Make\",\"Model\"],axis=1)"
   ]
  },
  {
   "cell_type": "markdown",
   "id": "a67e45dd",
   "metadata": {},
   "source": [
    "# Missing Data TReatment"
   ]
  },
  {
   "cell_type": "code",
   "execution_count": 8,
   "id": "03cdc2cd",
   "metadata": {},
   "outputs": [
    {
     "data": {
      "text/plain": [
       "Manufacturer           0\n",
       "Type                   0\n",
       "Min.Price              0\n",
       "Price                  0\n",
       "Max.Price              0\n",
       "MPG.city               0\n",
       "MPG.highway            0\n",
       "AirBags                4\n",
       "DriveTrain             0\n",
       "Cylinders              0\n",
       "EngineSize             0\n",
       "Horsepower             0\n",
       "RPM                    0\n",
       "Rev.per.mile           0\n",
       "Man.trans.avail        0\n",
       "Fuel.tank.capacity     0\n",
       "Passengers             0\n",
       "Length                 0\n",
       "Wheelbase              0\n",
       "Width                  0\n",
       "Turn.circle            0\n",
       "Rear.seat.room         2\n",
       "Luggage.room          11\n",
       "Weight                 0\n",
       "Origin                 0\n",
       "dtype: int64"
      ]
     },
     "execution_count": 8,
     "metadata": {},
     "output_type": "execute_result"
    }
   ],
   "source": [
    "A.isna().sum()"
   ]
  },
  {
   "cell_type": "code",
   "execution_count": 9,
   "id": "321ea260",
   "metadata": {},
   "outputs": [],
   "source": [
    "for i in A.columns:\n",
    "    if (A[i].dtype==\"object\"):\n",
    "        t=A[i].mode()[0]\n",
    "        A[i]=A[i].fillna(t)\n",
    "    else:\n",
    "        t=A[i].mean()\n",
    "        A[i]=A[i].fillna(t)"
   ]
  },
  {
   "cell_type": "code",
   "execution_count": 10,
   "id": "be192ef2",
   "metadata": {},
   "outputs": [
    {
     "data": {
      "text/plain": [
       "Manufacturer          0\n",
       "Type                  0\n",
       "Min.Price             0\n",
       "Price                 0\n",
       "Max.Price             0\n",
       "MPG.city              0\n",
       "MPG.highway           0\n",
       "AirBags               0\n",
       "DriveTrain            0\n",
       "Cylinders             0\n",
       "EngineSize            0\n",
       "Horsepower            0\n",
       "RPM                   0\n",
       "Rev.per.mile          0\n",
       "Man.trans.avail       0\n",
       "Fuel.tank.capacity    0\n",
       "Passengers            0\n",
       "Length                0\n",
       "Wheelbase             0\n",
       "Width                 0\n",
       "Turn.circle           0\n",
       "Rear.seat.room        0\n",
       "Luggage.room          0\n",
       "Weight                0\n",
       "Origin                0\n",
       "dtype: int64"
      ]
     },
     "execution_count": 10,
     "metadata": {},
     "output_type": "execute_result"
    }
   ],
   "source": [
    "A.isna().sum()"
   ]
  },
  {
   "cell_type": "markdown",
   "id": "def3af0c",
   "metadata": {},
   "source": [
    "# outliers removal"
   ]
  },
  {
   "cell_type": "code",
   "execution_count": 11,
   "id": "d014aba7",
   "metadata": {},
   "outputs": [],
   "source": [
    "cat=[]\n",
    "con=[]\n",
    "for i in A.columns:\n",
    "    if (A[i].dtype==\"object\"):\n",
    "        cat.append(i)\n",
    "    else:\n",
    "        con.append(i)"
   ]
  },
  {
   "cell_type": "code",
   "execution_count": 12,
   "id": "9db09710",
   "metadata": {},
   "outputs": [
    {
     "data": {
      "text/plain": [
       "['Manufacturer',\n",
       " 'Type',\n",
       " 'AirBags',\n",
       " 'DriveTrain',\n",
       " 'Cylinders',\n",
       " 'Man.trans.avail',\n",
       " 'Origin']"
      ]
     },
     "execution_count": 12,
     "metadata": {},
     "output_type": "execute_result"
    }
   ],
   "source": [
    "cat"
   ]
  },
  {
   "cell_type": "code",
   "execution_count": 13,
   "id": "0da0794c",
   "metadata": {},
   "outputs": [
    {
     "data": {
      "text/plain": [
       "['Min.Price',\n",
       " 'Price',\n",
       " 'Max.Price',\n",
       " 'MPG.city',\n",
       " 'MPG.highway',\n",
       " 'EngineSize',\n",
       " 'Horsepower',\n",
       " 'RPM',\n",
       " 'Rev.per.mile',\n",
       " 'Fuel.tank.capacity',\n",
       " 'Passengers',\n",
       " 'Length',\n",
       " 'Wheelbase',\n",
       " 'Width',\n",
       " 'Turn.circle',\n",
       " 'Rear.seat.room',\n",
       " 'Luggage.room',\n",
       " 'Weight']"
      ]
     },
     "execution_count": 13,
     "metadata": {},
     "output_type": "execute_result"
    }
   ],
   "source": [
    "con"
   ]
  },
  {
   "cell_type": "code",
   "execution_count": 14,
   "id": "9a1d805b",
   "metadata": {},
   "outputs": [],
   "source": [
    "from sklearn.preprocessing import StandardScaler"
   ]
  },
  {
   "cell_type": "code",
   "execution_count": 15,
   "id": "96fac4a0",
   "metadata": {},
   "outputs": [],
   "source": [
    "ss=StandardScaler()"
   ]
  },
  {
   "cell_type": "code",
   "execution_count": 16,
   "id": "ec39ee4c",
   "metadata": {},
   "outputs": [],
   "source": [
    "x1=pd.DataFrame(ss.fit_transform(A[con]),columns=con)\n"
   ]
  },
  {
   "cell_type": "code",
   "execution_count": 17,
   "id": "e629de69",
   "metadata": {},
   "outputs": [
    {
     "data": {
      "text/html": [
       "<div>\n",
       "<style scoped>\n",
       "    .dataframe tbody tr th:only-of-type {\n",
       "        vertical-align: middle;\n",
       "    }\n",
       "\n",
       "    .dataframe tbody tr th {\n",
       "        vertical-align: top;\n",
       "    }\n",
       "\n",
       "    .dataframe thead th {\n",
       "        text-align: right;\n",
       "    }\n",
       "</style>\n",
       "<table border=\"1\" class=\"dataframe\">\n",
       "  <thead>\n",
       "    <tr style=\"text-align: right;\">\n",
       "      <th></th>\n",
       "      <th>Min.Price</th>\n",
       "      <th>Price</th>\n",
       "      <th>Max.Price</th>\n",
       "      <th>MPG.city</th>\n",
       "      <th>MPG.highway</th>\n",
       "      <th>EngineSize</th>\n",
       "      <th>Horsepower</th>\n",
       "      <th>RPM</th>\n",
       "      <th>Rev.per.mile</th>\n",
       "      <th>Fuel.tank.capacity</th>\n",
       "      <th>Passengers</th>\n",
       "      <th>Length</th>\n",
       "      <th>Wheelbase</th>\n",
       "      <th>Width</th>\n",
       "      <th>Turn.circle</th>\n",
       "      <th>Rear.seat.room</th>\n",
       "      <th>Luggage.room</th>\n",
       "      <th>Weight</th>\n",
       "    </tr>\n",
       "  </thead>\n",
       "  <tbody>\n",
       "    <tr>\n",
       "      <th>0</th>\n",
       "      <td>-0.485787</td>\n",
       "      <td>-0.375720</td>\n",
       "      <td>-0.282465</td>\n",
       "      <td>0.471312</td>\n",
       "      <td>0.360925</td>\n",
       "      <td>-0.841022</td>\n",
       "      <td>-0.073484</td>\n",
       "      <td>1.717489</td>\n",
       "      <td>1.129530</td>\n",
       "      <td>-1.062184</td>\n",
       "      <td>-0.083243</td>\n",
       "      <td>-0.427186</td>\n",
       "      <td>-0.286932</td>\n",
       "      <td>-0.366184</td>\n",
       "      <td>-0.610436</td>\n",
       "      <td>-0.452197</td>\n",
       "      <td>-1.033015</td>\n",
       "      <td>-0.627055</td>\n",
       "    </tr>\n",
       "    <tr>\n",
       "      <th>1</th>\n",
       "      <td>1.388017</td>\n",
       "      <td>1.497844</td>\n",
       "      <td>1.531409</td>\n",
       "      <td>-0.781032</td>\n",
       "      <td>-0.770514</td>\n",
       "      <td>0.515869</td>\n",
       "      <td>1.078322</td>\n",
       "      <td>0.369586</td>\n",
       "      <td>0.005661</td>\n",
       "      <td>0.409445</td>\n",
       "      <td>-0.083243</td>\n",
       "      <td>0.812171</td>\n",
       "      <td>1.629649</td>\n",
       "      <td>0.431983</td>\n",
       "      <td>-0.298510</td>\n",
       "      <td>0.738090</td>\n",
       "      <td>0.396643</td>\n",
       "      <td>0.830208</td>\n",
       "    </tr>\n",
       "    <tr>\n",
       "      <th>2</th>\n",
       "      <td>1.008658</td>\n",
       "      <td>0.998227</td>\n",
       "      <td>0.948052</td>\n",
       "      <td>-0.423219</td>\n",
       "      <td>-0.581941</td>\n",
       "      <td>0.128186</td>\n",
       "      <td>0.540813</td>\n",
       "      <td>0.369586</td>\n",
       "      <td>-0.105713</td>\n",
       "      <td>0.072197</td>\n",
       "      <td>-0.083243</td>\n",
       "      <td>-0.220626</td>\n",
       "      <td>-0.286932</td>\n",
       "      <td>-0.632239</td>\n",
       "      <td>-0.610436</td>\n",
       "      <td>0.057926</td>\n",
       "      <td>0.039228</td>\n",
       "      <td>0.514894</td>\n",
       "    </tr>\n",
       "    <tr>\n",
       "      <th>3</th>\n",
       "      <td>1.571949</td>\n",
       "      <td>1.893374</td>\n",
       "      <td>2.069191</td>\n",
       "      <td>-0.602126</td>\n",
       "      <td>-0.581941</td>\n",
       "      <td>0.128186</td>\n",
       "      <td>0.540813</td>\n",
       "      <td>0.369586</td>\n",
       "      <td>0.410659</td>\n",
       "      <td>1.359872</td>\n",
       "      <td>0.884457</td>\n",
       "      <td>0.674465</td>\n",
       "      <td>0.302785</td>\n",
       "      <td>0.165927</td>\n",
       "      <td>-0.610436</td>\n",
       "      <td>1.078172</td>\n",
       "      <td>1.111472</td>\n",
       "      <td>0.566026</td>\n",
       "    </tr>\n",
       "    <tr>\n",
       "      <th>4</th>\n",
       "      <td>0.755752</td>\n",
       "      <td>1.091905</td>\n",
       "      <td>1.303535</td>\n",
       "      <td>-0.065407</td>\n",
       "      <td>0.172352</td>\n",
       "      <td>0.806631</td>\n",
       "      <td>1.231897</td>\n",
       "      <td>0.706562</td>\n",
       "      <td>0.430909</td>\n",
       "      <td>1.359872</td>\n",
       "      <td>-1.050944</td>\n",
       "      <td>0.192493</td>\n",
       "      <td>0.745073</td>\n",
       "      <td>-0.100128</td>\n",
       "      <td>0.013416</td>\n",
       "      <td>-0.282156</td>\n",
       "      <td>-0.318186</td>\n",
       "      <td>0.966560</td>\n",
       "    </tr>\n",
       "    <tr>\n",
       "      <th>...</th>\n",
       "      <td>...</td>\n",
       "      <td>...</td>\n",
       "      <td>...</td>\n",
       "      <td>...</td>\n",
       "      <td>...</td>\n",
       "      <td>...</td>\n",
       "      <td>...</td>\n",
       "      <td>...</td>\n",
       "      <td>...</td>\n",
       "      <td>...</td>\n",
       "      <td>...</td>\n",
       "      <td>...</td>\n",
       "      <td>...</td>\n",
       "      <td>...</td>\n",
       "      <td>...</td>\n",
       "      <td>...</td>\n",
       "      <td>...</td>\n",
       "      <td>...</td>\n",
       "    </tr>\n",
       "    <tr>\n",
       "      <th>88</th>\n",
       "      <td>-0.060445</td>\n",
       "      <td>0.019810</td>\n",
       "      <td>0.073018</td>\n",
       "      <td>-0.959938</td>\n",
       "      <td>-1.524806</td>\n",
       "      <td>-0.162577</td>\n",
       "      <td>-0.668585</td>\n",
       "      <td>-1.315292</td>\n",
       "      <td>1.180155</td>\n",
       "      <td>1.359872</td>\n",
       "      <td>1.852158</td>\n",
       "      <td>0.261346</td>\n",
       "      <td>1.629649</td>\n",
       "      <td>0.698038</td>\n",
       "      <td>-0.298510</td>\n",
       "      <td>2.098419</td>\n",
       "      <td>0.000000</td>\n",
       "      <td>1.511968</td>\n",
       "    </tr>\n",
       "    <tr>\n",
       "      <th>89</th>\n",
       "      <td>0.054512</td>\n",
       "      <td>0.051036</td>\n",
       "      <td>0.045673</td>\n",
       "      <td>-0.244313</td>\n",
       "      <td>0.172352</td>\n",
       "      <td>-0.647181</td>\n",
       "      <td>-0.188665</td>\n",
       "      <td>0.875050</td>\n",
       "      <td>0.714407</td>\n",
       "      <td>0.562740</td>\n",
       "      <td>-0.083243</td>\n",
       "      <td>-0.220626</td>\n",
       "      <td>-0.139503</td>\n",
       "      <td>-0.632239</td>\n",
       "      <td>-1.234288</td>\n",
       "      <td>1.248213</td>\n",
       "      <td>0.039228</td>\n",
       "      <td>-0.149822</td>\n",
       "    </tr>\n",
       "    <tr>\n",
       "      <th>90</th>\n",
       "      <td>0.663786</td>\n",
       "      <td>0.394523</td>\n",
       "      <td>0.164167</td>\n",
       "      <td>-0.781032</td>\n",
       "      <td>-0.770514</td>\n",
       "      <td>0.128186</td>\n",
       "      <td>0.655993</td>\n",
       "      <td>0.875050</td>\n",
       "      <td>0.106911</td>\n",
       "      <td>0.562740</td>\n",
       "      <td>-1.050944</td>\n",
       "      <td>-1.666543</td>\n",
       "      <td>-1.024079</td>\n",
       "      <td>-0.898295</td>\n",
       "      <td>-0.922362</td>\n",
       "      <td>-0.622238</td>\n",
       "      <td>0.396643</td>\n",
       "      <td>-0.448092</td>\n",
       "    </tr>\n",
       "    <tr>\n",
       "      <th>91</th>\n",
       "      <td>0.537333</td>\n",
       "      <td>0.332071</td>\n",
       "      <td>0.145937</td>\n",
       "      <td>-0.244313</td>\n",
       "      <td>-0.204794</td>\n",
       "      <td>-0.356418</td>\n",
       "      <td>-0.572601</td>\n",
       "      <td>0.201098</td>\n",
       "      <td>-0.237337</td>\n",
       "      <td>-0.265051</td>\n",
       "      <td>-0.083243</td>\n",
       "      <td>0.467905</td>\n",
       "      <td>0.007926</td>\n",
       "      <td>-0.632239</td>\n",
       "      <td>-0.610436</td>\n",
       "      <td>0.568049</td>\n",
       "      <td>0.039228</td>\n",
       "      <td>-0.149822</td>\n",
       "    </tr>\n",
       "    <tr>\n",
       "      <th>92</th>\n",
       "      <td>0.882205</td>\n",
       "      <td>0.748418</td>\n",
       "      <td>0.601684</td>\n",
       "      <td>-0.423219</td>\n",
       "      <td>-0.204794</td>\n",
       "      <td>-0.259498</td>\n",
       "      <td>0.464025</td>\n",
       "      <td>1.549001</td>\n",
       "      <td>-0.044963</td>\n",
       "      <td>0.808011</td>\n",
       "      <td>-0.083243</td>\n",
       "      <td>0.054786</td>\n",
       "      <td>0.155356</td>\n",
       "      <td>-0.100128</td>\n",
       "      <td>-0.298510</td>\n",
       "      <td>0.738090</td>\n",
       "      <td>0.396643</td>\n",
       "      <td>0.293322</td>\n",
       "    </tr>\n",
       "  </tbody>\n",
       "</table>\n",
       "<p>93 rows × 18 columns</p>\n",
       "</div>"
      ],
      "text/plain": [
       "    Min.Price     Price  Max.Price  MPG.city  MPG.highway  EngineSize  \\\n",
       "0   -0.485787 -0.375720  -0.282465  0.471312     0.360925   -0.841022   \n",
       "1    1.388017  1.497844   1.531409 -0.781032    -0.770514    0.515869   \n",
       "2    1.008658  0.998227   0.948052 -0.423219    -0.581941    0.128186   \n",
       "3    1.571949  1.893374   2.069191 -0.602126    -0.581941    0.128186   \n",
       "4    0.755752  1.091905   1.303535 -0.065407     0.172352    0.806631   \n",
       "..        ...       ...        ...       ...          ...         ...   \n",
       "88  -0.060445  0.019810   0.073018 -0.959938    -1.524806   -0.162577   \n",
       "89   0.054512  0.051036   0.045673 -0.244313     0.172352   -0.647181   \n",
       "90   0.663786  0.394523   0.164167 -0.781032    -0.770514    0.128186   \n",
       "91   0.537333  0.332071   0.145937 -0.244313    -0.204794   -0.356418   \n",
       "92   0.882205  0.748418   0.601684 -0.423219    -0.204794   -0.259498   \n",
       "\n",
       "    Horsepower       RPM  Rev.per.mile  Fuel.tank.capacity  Passengers  \\\n",
       "0    -0.073484  1.717489      1.129530           -1.062184   -0.083243   \n",
       "1     1.078322  0.369586      0.005661            0.409445   -0.083243   \n",
       "2     0.540813  0.369586     -0.105713            0.072197   -0.083243   \n",
       "3     0.540813  0.369586      0.410659            1.359872    0.884457   \n",
       "4     1.231897  0.706562      0.430909            1.359872   -1.050944   \n",
       "..         ...       ...           ...                 ...         ...   \n",
       "88   -0.668585 -1.315292      1.180155            1.359872    1.852158   \n",
       "89   -0.188665  0.875050      0.714407            0.562740   -0.083243   \n",
       "90    0.655993  0.875050      0.106911            0.562740   -1.050944   \n",
       "91   -0.572601  0.201098     -0.237337           -0.265051   -0.083243   \n",
       "92    0.464025  1.549001     -0.044963            0.808011   -0.083243   \n",
       "\n",
       "      Length  Wheelbase     Width  Turn.circle  Rear.seat.room  Luggage.room  \\\n",
       "0  -0.427186  -0.286932 -0.366184    -0.610436       -0.452197     -1.033015   \n",
       "1   0.812171   1.629649  0.431983    -0.298510        0.738090      0.396643   \n",
       "2  -0.220626  -0.286932 -0.632239    -0.610436        0.057926      0.039228   \n",
       "3   0.674465   0.302785  0.165927    -0.610436        1.078172      1.111472   \n",
       "4   0.192493   0.745073 -0.100128     0.013416       -0.282156     -0.318186   \n",
       "..       ...        ...       ...          ...             ...           ...   \n",
       "88  0.261346   1.629649  0.698038    -0.298510        2.098419      0.000000   \n",
       "89 -0.220626  -0.139503 -0.632239    -1.234288        1.248213      0.039228   \n",
       "90 -1.666543  -1.024079 -0.898295    -0.922362       -0.622238      0.396643   \n",
       "91  0.467905   0.007926 -0.632239    -0.610436        0.568049      0.039228   \n",
       "92  0.054786   0.155356 -0.100128    -0.298510        0.738090      0.396643   \n",
       "\n",
       "      Weight  \n",
       "0  -0.627055  \n",
       "1   0.830208  \n",
       "2   0.514894  \n",
       "3   0.566026  \n",
       "4   0.966560  \n",
       "..       ...  \n",
       "88  1.511968  \n",
       "89 -0.149822  \n",
       "90 -0.448092  \n",
       "91 -0.149822  \n",
       "92  0.293322  \n",
       "\n",
       "[93 rows x 18 columns]"
      ]
     },
     "execution_count": 17,
     "metadata": {},
     "output_type": "execute_result"
    }
   ],
   "source": [
    "x1"
   ]
  },
  {
   "cell_type": "code",
   "execution_count": 18,
   "id": "61454371",
   "metadata": {},
   "outputs": [],
   "source": [
    "outliers=[]\n",
    "for i in x1.columns:\n",
    "     outliers.extend(x1[(x1[i]<-3)|(x1[i]>3)].index)"
   ]
  },
  {
   "cell_type": "code",
   "execution_count": 19,
   "id": "21662862",
   "metadata": {},
   "outputs": [
    {
     "data": {
      "text/plain": [
       "[47, 58, 58, 58, 38, 41, 38, 41, 16, 59]"
      ]
     },
     "execution_count": 19,
     "metadata": {},
     "output_type": "execute_result"
    }
   ],
   "source": [
    "outliers"
   ]
  },
  {
   "cell_type": "code",
   "execution_count": 20,
   "id": "14a5fbfa",
   "metadata": {},
   "outputs": [],
   "source": [
    "from numpy import unique"
   ]
  },
  {
   "cell_type": "code",
   "execution_count": 21,
   "id": "eb0c1861",
   "metadata": {},
   "outputs": [],
   "source": [
    "out=unique(outliers)"
   ]
  },
  {
   "cell_type": "code",
   "execution_count": 22,
   "id": "1fb8dfc7",
   "metadata": {},
   "outputs": [
    {
     "data": {
      "text/plain": [
       "array([16, 38, 41, 47, 58, 59])"
      ]
     },
     "execution_count": 22,
     "metadata": {},
     "output_type": "execute_result"
    }
   ],
   "source": [
    "out"
   ]
  },
  {
   "cell_type": "code",
   "execution_count": 23,
   "id": "58c3d18c",
   "metadata": {},
   "outputs": [],
   "source": [
    "A=A.drop(index=out,axis=0)"
   ]
  },
  {
   "cell_type": "code",
   "execution_count": 24,
   "id": "6cd1ac79",
   "metadata": {},
   "outputs": [
    {
     "data": {
      "text/html": [
       "<div>\n",
       "<style scoped>\n",
       "    .dataframe tbody tr th:only-of-type {\n",
       "        vertical-align: middle;\n",
       "    }\n",
       "\n",
       "    .dataframe tbody tr th {\n",
       "        vertical-align: top;\n",
       "    }\n",
       "\n",
       "    .dataframe thead th {\n",
       "        text-align: right;\n",
       "    }\n",
       "</style>\n",
       "<table border=\"1\" class=\"dataframe\">\n",
       "  <thead>\n",
       "    <tr style=\"text-align: right;\">\n",
       "      <th></th>\n",
       "      <th>Manufacturer</th>\n",
       "      <th>Type</th>\n",
       "      <th>Min.Price</th>\n",
       "      <th>Price</th>\n",
       "      <th>Max.Price</th>\n",
       "      <th>MPG.city</th>\n",
       "      <th>MPG.highway</th>\n",
       "      <th>AirBags</th>\n",
       "      <th>DriveTrain</th>\n",
       "      <th>Cylinders</th>\n",
       "      <th>...</th>\n",
       "      <th>Fuel.tank.capacity</th>\n",
       "      <th>Passengers</th>\n",
       "      <th>Length</th>\n",
       "      <th>Wheelbase</th>\n",
       "      <th>Width</th>\n",
       "      <th>Turn.circle</th>\n",
       "      <th>Rear.seat.room</th>\n",
       "      <th>Luggage.room</th>\n",
       "      <th>Weight</th>\n",
       "      <th>Origin</th>\n",
       "    </tr>\n",
       "  </thead>\n",
       "  <tbody>\n",
       "    <tr>\n",
       "      <th>0</th>\n",
       "      <td>Acura</td>\n",
       "      <td>Small</td>\n",
       "      <td>12.9</td>\n",
       "      <td>15.9</td>\n",
       "      <td>18.8</td>\n",
       "      <td>25</td>\n",
       "      <td>31</td>\n",
       "      <td>None</td>\n",
       "      <td>Front</td>\n",
       "      <td>4</td>\n",
       "      <td>...</td>\n",
       "      <td>13.2</td>\n",
       "      <td>5</td>\n",
       "      <td>177</td>\n",
       "      <td>102</td>\n",
       "      <td>68</td>\n",
       "      <td>37</td>\n",
       "      <td>26.5</td>\n",
       "      <td>11.000000</td>\n",
       "      <td>2705</td>\n",
       "      <td>non-USA</td>\n",
       "    </tr>\n",
       "    <tr>\n",
       "      <th>1</th>\n",
       "      <td>Acura</td>\n",
       "      <td>Midsize</td>\n",
       "      <td>29.2</td>\n",
       "      <td>33.9</td>\n",
       "      <td>38.7</td>\n",
       "      <td>18</td>\n",
       "      <td>25</td>\n",
       "      <td>Driver &amp; Passenger</td>\n",
       "      <td>Front</td>\n",
       "      <td>6</td>\n",
       "      <td>...</td>\n",
       "      <td>18.0</td>\n",
       "      <td>5</td>\n",
       "      <td>195</td>\n",
       "      <td>115</td>\n",
       "      <td>71</td>\n",
       "      <td>38</td>\n",
       "      <td>30.0</td>\n",
       "      <td>15.000000</td>\n",
       "      <td>3560</td>\n",
       "      <td>non-USA</td>\n",
       "    </tr>\n",
       "    <tr>\n",
       "      <th>2</th>\n",
       "      <td>Audi</td>\n",
       "      <td>Compact</td>\n",
       "      <td>25.9</td>\n",
       "      <td>29.1</td>\n",
       "      <td>32.3</td>\n",
       "      <td>20</td>\n",
       "      <td>26</td>\n",
       "      <td>Driver only</td>\n",
       "      <td>Front</td>\n",
       "      <td>6</td>\n",
       "      <td>...</td>\n",
       "      <td>16.9</td>\n",
       "      <td>5</td>\n",
       "      <td>180</td>\n",
       "      <td>102</td>\n",
       "      <td>67</td>\n",
       "      <td>37</td>\n",
       "      <td>28.0</td>\n",
       "      <td>14.000000</td>\n",
       "      <td>3375</td>\n",
       "      <td>non-USA</td>\n",
       "    </tr>\n",
       "    <tr>\n",
       "      <th>3</th>\n",
       "      <td>Audi</td>\n",
       "      <td>Midsize</td>\n",
       "      <td>30.8</td>\n",
       "      <td>37.7</td>\n",
       "      <td>44.6</td>\n",
       "      <td>19</td>\n",
       "      <td>26</td>\n",
       "      <td>Driver only</td>\n",
       "      <td>Front</td>\n",
       "      <td>6</td>\n",
       "      <td>...</td>\n",
       "      <td>21.1</td>\n",
       "      <td>6</td>\n",
       "      <td>193</td>\n",
       "      <td>106</td>\n",
       "      <td>70</td>\n",
       "      <td>37</td>\n",
       "      <td>31.0</td>\n",
       "      <td>17.000000</td>\n",
       "      <td>3405</td>\n",
       "      <td>non-USA</td>\n",
       "    </tr>\n",
       "    <tr>\n",
       "      <th>4</th>\n",
       "      <td>BMW</td>\n",
       "      <td>Midsize</td>\n",
       "      <td>23.7</td>\n",
       "      <td>30.0</td>\n",
       "      <td>36.2</td>\n",
       "      <td>22</td>\n",
       "      <td>30</td>\n",
       "      <td>Driver only</td>\n",
       "      <td>Rear</td>\n",
       "      <td>4</td>\n",
       "      <td>...</td>\n",
       "      <td>21.1</td>\n",
       "      <td>4</td>\n",
       "      <td>186</td>\n",
       "      <td>109</td>\n",
       "      <td>69</td>\n",
       "      <td>39</td>\n",
       "      <td>27.0</td>\n",
       "      <td>13.000000</td>\n",
       "      <td>3640</td>\n",
       "      <td>non-USA</td>\n",
       "    </tr>\n",
       "    <tr>\n",
       "      <th>...</th>\n",
       "      <td>...</td>\n",
       "      <td>...</td>\n",
       "      <td>...</td>\n",
       "      <td>...</td>\n",
       "      <td>...</td>\n",
       "      <td>...</td>\n",
       "      <td>...</td>\n",
       "      <td>...</td>\n",
       "      <td>...</td>\n",
       "      <td>...</td>\n",
       "      <td>...</td>\n",
       "      <td>...</td>\n",
       "      <td>...</td>\n",
       "      <td>...</td>\n",
       "      <td>...</td>\n",
       "      <td>...</td>\n",
       "      <td>...</td>\n",
       "      <td>...</td>\n",
       "      <td>...</td>\n",
       "      <td>...</td>\n",
       "      <td>...</td>\n",
       "    </tr>\n",
       "    <tr>\n",
       "      <th>88</th>\n",
       "      <td>Volkswagen</td>\n",
       "      <td>Van</td>\n",
       "      <td>16.6</td>\n",
       "      <td>19.7</td>\n",
       "      <td>22.7</td>\n",
       "      <td>17</td>\n",
       "      <td>21</td>\n",
       "      <td>None</td>\n",
       "      <td>Front</td>\n",
       "      <td>5</td>\n",
       "      <td>...</td>\n",
       "      <td>21.1</td>\n",
       "      <td>7</td>\n",
       "      <td>187</td>\n",
       "      <td>115</td>\n",
       "      <td>72</td>\n",
       "      <td>38</td>\n",
       "      <td>34.0</td>\n",
       "      <td>13.890244</td>\n",
       "      <td>3960</td>\n",
       "      <td>non-USA</td>\n",
       "    </tr>\n",
       "    <tr>\n",
       "      <th>89</th>\n",
       "      <td>Volkswagen</td>\n",
       "      <td>Compact</td>\n",
       "      <td>17.6</td>\n",
       "      <td>20.0</td>\n",
       "      <td>22.4</td>\n",
       "      <td>21</td>\n",
       "      <td>30</td>\n",
       "      <td>None</td>\n",
       "      <td>Front</td>\n",
       "      <td>4</td>\n",
       "      <td>...</td>\n",
       "      <td>18.5</td>\n",
       "      <td>5</td>\n",
       "      <td>180</td>\n",
       "      <td>103</td>\n",
       "      <td>67</td>\n",
       "      <td>35</td>\n",
       "      <td>31.5</td>\n",
       "      <td>14.000000</td>\n",
       "      <td>2985</td>\n",
       "      <td>non-USA</td>\n",
       "    </tr>\n",
       "    <tr>\n",
       "      <th>90</th>\n",
       "      <td>Volkswagen</td>\n",
       "      <td>Sporty</td>\n",
       "      <td>22.9</td>\n",
       "      <td>23.3</td>\n",
       "      <td>23.7</td>\n",
       "      <td>18</td>\n",
       "      <td>25</td>\n",
       "      <td>None</td>\n",
       "      <td>Front</td>\n",
       "      <td>6</td>\n",
       "      <td>...</td>\n",
       "      <td>18.5</td>\n",
       "      <td>4</td>\n",
       "      <td>159</td>\n",
       "      <td>97</td>\n",
       "      <td>66</td>\n",
       "      <td>36</td>\n",
       "      <td>26.0</td>\n",
       "      <td>15.000000</td>\n",
       "      <td>2810</td>\n",
       "      <td>non-USA</td>\n",
       "    </tr>\n",
       "    <tr>\n",
       "      <th>91</th>\n",
       "      <td>Volvo</td>\n",
       "      <td>Compact</td>\n",
       "      <td>21.8</td>\n",
       "      <td>22.7</td>\n",
       "      <td>23.5</td>\n",
       "      <td>21</td>\n",
       "      <td>28</td>\n",
       "      <td>Driver only</td>\n",
       "      <td>Rear</td>\n",
       "      <td>4</td>\n",
       "      <td>...</td>\n",
       "      <td>15.8</td>\n",
       "      <td>5</td>\n",
       "      <td>190</td>\n",
       "      <td>104</td>\n",
       "      <td>67</td>\n",
       "      <td>37</td>\n",
       "      <td>29.5</td>\n",
       "      <td>14.000000</td>\n",
       "      <td>2985</td>\n",
       "      <td>non-USA</td>\n",
       "    </tr>\n",
       "    <tr>\n",
       "      <th>92</th>\n",
       "      <td>Volvo</td>\n",
       "      <td>Midsize</td>\n",
       "      <td>24.8</td>\n",
       "      <td>26.7</td>\n",
       "      <td>28.5</td>\n",
       "      <td>20</td>\n",
       "      <td>28</td>\n",
       "      <td>Driver &amp; Passenger</td>\n",
       "      <td>Front</td>\n",
       "      <td>5</td>\n",
       "      <td>...</td>\n",
       "      <td>19.3</td>\n",
       "      <td>5</td>\n",
       "      <td>184</td>\n",
       "      <td>105</td>\n",
       "      <td>69</td>\n",
       "      <td>38</td>\n",
       "      <td>30.0</td>\n",
       "      <td>15.000000</td>\n",
       "      <td>3245</td>\n",
       "      <td>non-USA</td>\n",
       "    </tr>\n",
       "  </tbody>\n",
       "</table>\n",
       "<p>87 rows × 25 columns</p>\n",
       "</div>"
      ],
      "text/plain": [
       "   Manufacturer     Type  Min.Price  Price  Max.Price  MPG.city  MPG.highway  \\\n",
       "0         Acura    Small       12.9   15.9       18.8        25           31   \n",
       "1         Acura  Midsize       29.2   33.9       38.7        18           25   \n",
       "2          Audi  Compact       25.9   29.1       32.3        20           26   \n",
       "3          Audi  Midsize       30.8   37.7       44.6        19           26   \n",
       "4           BMW  Midsize       23.7   30.0       36.2        22           30   \n",
       "..          ...      ...        ...    ...        ...       ...          ...   \n",
       "88   Volkswagen      Van       16.6   19.7       22.7        17           21   \n",
       "89   Volkswagen  Compact       17.6   20.0       22.4        21           30   \n",
       "90   Volkswagen   Sporty       22.9   23.3       23.7        18           25   \n",
       "91        Volvo  Compact       21.8   22.7       23.5        21           28   \n",
       "92        Volvo  Midsize       24.8   26.7       28.5        20           28   \n",
       "\n",
       "               AirBags DriveTrain Cylinders  ...  Fuel.tank.capacity  \\\n",
       "0                 None      Front         4  ...                13.2   \n",
       "1   Driver & Passenger      Front         6  ...                18.0   \n",
       "2          Driver only      Front         6  ...                16.9   \n",
       "3          Driver only      Front         6  ...                21.1   \n",
       "4          Driver only       Rear         4  ...                21.1   \n",
       "..                 ...        ...       ...  ...                 ...   \n",
       "88                None      Front         5  ...                21.1   \n",
       "89                None      Front         4  ...                18.5   \n",
       "90                None      Front         6  ...                18.5   \n",
       "91         Driver only       Rear         4  ...                15.8   \n",
       "92  Driver & Passenger      Front         5  ...                19.3   \n",
       "\n",
       "    Passengers  Length  Wheelbase Width  Turn.circle  Rear.seat.room  \\\n",
       "0            5     177        102    68           37            26.5   \n",
       "1            5     195        115    71           38            30.0   \n",
       "2            5     180        102    67           37            28.0   \n",
       "3            6     193        106    70           37            31.0   \n",
       "4            4     186        109    69           39            27.0   \n",
       "..         ...     ...        ...   ...          ...             ...   \n",
       "88           7     187        115    72           38            34.0   \n",
       "89           5     180        103    67           35            31.5   \n",
       "90           4     159         97    66           36            26.0   \n",
       "91           5     190        104    67           37            29.5   \n",
       "92           5     184        105    69           38            30.0   \n",
       "\n",
       "    Luggage.room  Weight   Origin  \n",
       "0      11.000000    2705  non-USA  \n",
       "1      15.000000    3560  non-USA  \n",
       "2      14.000000    3375  non-USA  \n",
       "3      17.000000    3405  non-USA  \n",
       "4      13.000000    3640  non-USA  \n",
       "..           ...     ...      ...  \n",
       "88     13.890244    3960  non-USA  \n",
       "89     14.000000    2985  non-USA  \n",
       "90     15.000000    2810  non-USA  \n",
       "91     14.000000    2985  non-USA  \n",
       "92     15.000000    3245  non-USA  \n",
       "\n",
       "[87 rows x 25 columns]"
      ]
     },
     "execution_count": 24,
     "metadata": {},
     "output_type": "execute_result"
    }
   ],
   "source": [
    "A"
   ]
  },
  {
   "cell_type": "code",
   "execution_count": 25,
   "id": "4ce79028",
   "metadata": {},
   "outputs": [],
   "source": [
    "A.index=range(0,87)"
   ]
  },
  {
   "cell_type": "markdown",
   "id": "3d4f506f",
   "metadata": {},
   "source": [
    "# EDA"
   ]
  },
  {
   "cell_type": "code",
   "execution_count": 26,
   "id": "0ed2f11f",
   "metadata": {},
   "outputs": [
    {
     "data": {
      "text/plain": [
       "Min.Price             0.906040\n",
       "Price                 0.785229\n",
       "Max.Price             0.727235\n",
       "MPG.city              1.047579\n",
       "MPG.highway           0.641205\n",
       "EngineSize            0.969139\n",
       "Horsepower            1.010103\n",
       "RPM                  -0.142996\n",
       "Rev.per.mile          0.104587\n",
       "Fuel.tank.capacity   -0.192355\n",
       "Passengers           -0.187937\n",
       "Length               -0.036246\n",
       "Wheelbase             0.160709\n",
       "Width                 0.211681\n",
       "Turn.circle          -0.173180\n",
       "Rear.seat.room        0.322453\n",
       "Luggage.room          0.459113\n",
       "Weight               -0.102863\n",
       "dtype: float64"
      ]
     },
     "execution_count": 26,
     "metadata": {},
     "output_type": "execute_result"
    }
   ],
   "source": [
    "A.skew()"
   ]
  },
  {
   "cell_type": "code",
   "execution_count": 27,
   "id": "e92f41c0",
   "metadata": {},
   "outputs": [
    {
     "data": {
      "text/plain": [
       "Min.Price             0.677071\n",
       "Price                 0.689606\n",
       "Max.Price             0.672457\n",
       "MPG.city             -0.872984\n",
       "MPG.highway          -0.821412\n",
       "EngineSize            0.825492\n",
       "Horsepower            0.716912\n",
       "RPM                  -0.424413\n",
       "Rev.per.mile         -0.710466\n",
       "Fuel.tank.capacity    0.891269\n",
       "Passengers            0.524746\n",
       "Length                0.789172\n",
       "Wheelbase             0.868891\n",
       "Width                 0.873592\n",
       "Turn.circle           0.773158\n",
       "Rear.seat.room        0.526896\n",
       "Luggage.room          0.561826\n",
       "Weight                1.000000\n",
       "Name: Weight, dtype: float64"
      ]
     },
     "execution_count": 27,
     "metadata": {},
     "output_type": "execute_result"
    }
   ],
   "source": [
    "A.corr()['Weight']"
   ]
  },
  {
   "cell_type": "code",
   "execution_count": 28,
   "id": "a7faeb6d",
   "metadata": {},
   "outputs": [
    {
     "data": {
      "text/plain": [
       "Index(['Fuel.tank.capacity', 'Width', 'Wheelbase', 'EngineSize', 'Length',\n",
       "       'Turn.circle', 'Horsepower', 'Rev.per.mile', 'MPG.highway', 'MPG.city'],\n",
       "      dtype='object')"
      ]
     },
     "execution_count": 28,
     "metadata": {},
     "output_type": "execute_result"
    }
   ],
   "source": [
    "Q=A.corr()['Weight']\n",
    "Q=Q[(Q>.7)|(Q<-.7)]\n",
    "Q=Q.sort_values(ascending=False)\n",
    "Q=Q[(Q!=1)]\n",
    "Q.index"
   ]
  },
  {
   "cell_type": "code",
   "execution_count": 29,
   "id": "9a7a80f9",
   "metadata": {},
   "outputs": [
    {
     "data": {
      "text/plain": [
       "Fuel.tank.capacity    0.891269\n",
       "Width                 0.873592\n",
       "Wheelbase             0.868891\n",
       "EngineSize            0.825492\n",
       "Length                0.789172\n",
       "Turn.circle           0.773158\n",
       "Horsepower            0.716912\n",
       "Rev.per.mile         -0.710466\n",
       "MPG.highway          -0.821412\n",
       "MPG.city             -0.872984\n",
       "Name: Weight, dtype: float64"
      ]
     },
     "execution_count": 29,
     "metadata": {},
     "output_type": "execute_result"
    }
   ],
   "source": [
    "Q.sort_values(ascending=False)"
   ]
  },
  {
   "cell_type": "markdown",
   "id": "c2ccd47d",
   "metadata": {},
   "source": [
    "# important predictors can be these Index(['MPG.city', 'MPG.highway', 'EngineSize', 'Horsepower', 'Rev.per.mile',\n",
    "       'Fuel.tank.capacity', 'Length', 'Wheelbase', 'Width', 'Turn.circle'],\n",
    "      dtype='object')"
   ]
  },
  {
   "cell_type": "markdown",
   "id": "1362b116",
   "metadata": {},
   "source": [
    "# define X and Y"
   ]
  },
  {
   "cell_type": "code",
   "execution_count": 30,
   "id": "5922670e",
   "metadata": {},
   "outputs": [],
   "source": [
    "Y=A[[\"Weight\"]]\n",
    "X=A.drop(labels=['Weight'],axis=1)"
   ]
  },
  {
   "cell_type": "code",
   "execution_count": 31,
   "id": "a16e6a3e",
   "metadata": {},
   "outputs": [],
   "source": [
    "cat = []\n",
    "con = []\n",
    "for i in A.columns:\n",
    "    if(A[i].dtypes == \"object\"):\n",
    "        cat.append(i)\n",
    "    else:\n",
    "        con.append(i)"
   ]
  },
  {
   "cell_type": "code",
   "execution_count": 32,
   "id": "2d9fb32d",
   "metadata": {},
   "outputs": [
    {
     "data": {
      "text/plain": [
       "['Manufacturer',\n",
       " 'Type',\n",
       " 'AirBags',\n",
       " 'DriveTrain',\n",
       " 'Cylinders',\n",
       " 'Man.trans.avail',\n",
       " 'Origin']"
      ]
     },
     "execution_count": 32,
     "metadata": {},
     "output_type": "execute_result"
    }
   ],
   "source": [
    "cat"
   ]
  },
  {
   "cell_type": "code",
   "execution_count": 33,
   "id": "bc5cb8a7",
   "metadata": {},
   "outputs": [
    {
     "data": {
      "image/png": "[encoded data removed]",
      "text/plain": [
       "<Figure size 864x864 with 7 Axes>"
      ]
     },
     "metadata": {
      "needs_background": "light"
     },
     "output_type": "display_data"
    }
   ],
   "source": [
    "import matplotlib.pyplot as plt\n",
    "plt.figure(figsize=(12,12))\n",
    "q = 1\n",
    "import seaborn as sb\n",
    "for i in cat:\n",
    "    plt.subplot(3,3,q)\n",
    "    sb.boxplot(X[i],Y['Weight'])\n",
    "    q = q + 1"
   ]
  },
  {
   "cell_type": "markdown",
   "id": "731268d1",
   "metadata": {},
   "source": [
    "# Predictors"
   ]
  },
  {
   "cell_type": "raw",
   "id": "b0de85ac",
   "metadata": {},
   "source": [
    "Y = A[[\"Weight\"]]\n",
    "X = A[['MPG.city', 'MPG.highway', 'Rev.per.mile', 'Horsepower', 'Turn.circle', 'Length', 'EngineSize', 'Wheelbase', 'Width', 'Fuel.tank.capacity', 'Type', 'AirBags', 'DriveTrain', 'Cylinders', 'Man.trans.avail']]"
   ]
  },
  {
   "cell_type": "markdown",
   "id": "83bd86a1",
   "metadata": {},
   "source": [
    "# Adding columns as per forward selection"
   ]
  },
  {
   "cell_type": "markdown",
   "id": "2fd8e993",
   "metadata": {},
   "source": [
    "# Model1"
   ]
  },
  {
   "cell_type": "code",
   "execution_count": 34,
   "id": "94602b76",
   "metadata": {},
   "outputs": [],
   "source": [
    "Y = A[[\"Weight\"]]\n",
    "X = A[[\"Fuel.tank.capacity\"]]"
   ]
  },
  {
   "cell_type": "code",
   "execution_count": 35,
   "id": "e8c086a8",
   "metadata": {},
   "outputs": [],
   "source": [
    "\n",
    "from sklearn.model_selection import train_test_split\n",
    "xtrain,xtest,ytrain,ytest=train_test_split(X,Y,test_size=0.2,random_state=21)"
   ]
  },
  {
   "cell_type": "code",
   "execution_count": 36,
   "id": "4f156eac",
   "metadata": {},
   "outputs": [
    {
     "data": {
      "text/plain": [
       "(0.865082348915397, 213.01226663902443, 199.60236598278718)"
      ]
     },
     "execution_count": 36,
     "metadata": {},
     "output_type": "execute_result"
    }
   ],
   "source": [
    "from sklearn.linear_model import LinearRegression\n",
    "lm = LinearRegression()\n",
    "\n",
    "model = lm.fit(xtrain,ytrain)\n",
    "tr_pred = model.predict(xtrain)\n",
    "ts_pred = model.predict(xtest)\n",
    "from sklearn.metrics import mean_absolute_error,explained_variance_score\n",
    "adj = explained_variance_score(ytest,ts_pred)\n",
    "bias = mean_absolute_error(ytrain,tr_pred)\n",
    "var = mean_absolute_error(ytest,ts_pred)   \n",
    "adj,bias,var"
   ]
  },
  {
   "cell_type": "markdown",
   "id": "eb38f20c",
   "metadata": {},
   "source": [
    "# model2"
   ]
  },
  {
   "cell_type": "code",
   "execution_count": 37,
   "id": "3ac634ed",
   "metadata": {},
   "outputs": [],
   "source": [
    "Y = A[[\"Weight\"]]\n",
    "X = A[[\"Fuel.tank.capacity\",\"Width\"]]\n",
    "cat = []\n",
    "con = []\n",
    "for i in X.columns:\n",
    "    if(X[i].dtypes == \"object\"):\n",
    "        cat.append(i)\n",
    "    else:\n",
    "        con.append(i)\n",
    "from sklearn.preprocessing import StandardScaler\n",
    "ss = StandardScaler()\n",
    "X1 = pd.DataFrame(ss.fit_transform(X[con]),columns=con)\n",
    "\n",
    "\n",
    "from sklearn.model_selection import train_test_split\n",
    "xtrain,xtest,ytrain,ytest=train_test_split(X1,Y,test_size=0.2,random_state=21)"
   ]
  },
  {
   "cell_type": "code",
   "execution_count": 38,
   "id": "84a5ad9b",
   "metadata": {},
   "outputs": [
    {
     "data": {
      "text/plain": [
       "(0.9417341538580248, 167.49564101431713, 133.0626038362853)"
      ]
     },
     "execution_count": 38,
     "metadata": {},
     "output_type": "execute_result"
    }
   ],
   "source": [
    "from sklearn.linear_model import LinearRegression\n",
    "lm = LinearRegression()\n",
    "\n",
    "model = lm.fit(xtrain,ytrain)\n",
    "tr_pred = model.predict(xtrain)\n",
    "ts_pred = model.predict(xtest)\n",
    "from sklearn.metrics import mean_absolute_error,explained_variance_score\n",
    "adj = explained_variance_score(ytest,ts_pred)\n",
    "bias = mean_absolute_error(ytrain,tr_pred)\n",
    "var = mean_absolute_error(ytest,ts_pred)   \n",
    "adj,bias,var"
   ]
  },
  {
   "cell_type": "markdown",
   "id": "39451ffe",
   "metadata": {},
   "source": [
    "# model3"
   ]
  },
  {
   "cell_type": "code",
   "execution_count": 39,
   "id": "5d3c44a2",
   "metadata": {},
   "outputs": [],
   "source": [
    "Y = A[[\"Weight\"]]\n",
    "X = A[[\"Fuel.tank.capacity\",\"Width\",\"Type\"]]\n",
    "\n",
    "cat = []\n",
    "con = []\n",
    "for i in X.columns:\n",
    "    if(X[i].dtypes == \"object\"):\n",
    "        cat.append(i)\n",
    "    else:\n",
    "        con.append(i)\n",
    "from sklearn.preprocessing import StandardScaler\n",
    "ss = StandardScaler()\n",
    "X1 = pd.DataFrame(ss.fit_transform(X[con]),columns=con)\n",
    "X2=pd.get_dummies(X[cat])\n",
    "Xnew=X1.join(X2)\n",
    "\n",
    "from sklearn.model_selection import train_test_split\n",
    "xtrain,xtest,ytrain,ytest=train_test_split(Xnew,Y,test_size=0.2,random_state=21)"
   ]
  },
  {
   "cell_type": "code",
   "execution_count": 40,
   "id": "b0ad0898",
   "metadata": {},
   "outputs": [
    {
     "data": {
      "text/plain": [
       "(0.9404017961168188, 140.69126681729693, 131.5314981575727)"
      ]
     },
     "execution_count": 40,
     "metadata": {},
     "output_type": "execute_result"
    }
   ],
   "source": [
    "from sklearn.linear_model import LinearRegression\n",
    "lm = LinearRegression()\n",
    "\n",
    "model = lm.fit(xtrain,ytrain)\n",
    "tr_pred = model.predict(xtrain)\n",
    "ts_pred = model.predict(xtest)\n",
    "from sklearn.metrics import mean_absolute_error,explained_variance_score\n",
    "adj = explained_variance_score(ytest,ts_pred)\n",
    "bias = mean_absolute_error(ytrain,tr_pred)\n",
    "var = mean_absolute_error(ytest,ts_pred)   \n",
    "adj,bias,var"
   ]
  },
  {
   "cell_type": "markdown",
   "id": "7ccee05e",
   "metadata": {},
   "source": [
    "# model4"
   ]
  },
  {
   "cell_type": "code",
   "execution_count": 41,
   "id": "46611ee2",
   "metadata": {},
   "outputs": [],
   "source": [
    "Y = A[[\"Weight\"]]\n",
    "X = A[[\"Fuel.tank.capacity\",\"Width\",\"RPM\"]]\n",
    "cat = []\n",
    "con = []\n",
    "for i in X.columns:\n",
    "    if(X[i].dtypes == \"object\"):\n",
    "        cat.append(i)\n",
    "    else:\n",
    "        con.append(i)\n",
    "from sklearn.preprocessing import StandardScaler\n",
    "ss = StandardScaler()\n",
    "X1 = pd.DataFrame(ss.fit_transform(X[con]),columns=con)\n",
    "\n",
    "from sklearn.model_selection import train_test_split\n",
    "xtrain,xtest,ytrain,ytest=train_test_split(X1,Y,test_size=0.2,random_state=21)"
   ]
  },
  {
   "cell_type": "code",
   "execution_count": 42,
   "id": "798baf0f",
   "metadata": {},
   "outputs": [
    {
     "data": {
      "text/plain": [
       "(0.9316958984317715, 166.12340466599116, 137.12490950803624)"
      ]
     },
     "execution_count": 42,
     "metadata": {},
     "output_type": "execute_result"
    }
   ],
   "source": [
    "from sklearn.linear_model import LinearRegression\n",
    "lm = LinearRegression()\n",
    "\n",
    "model = lm.fit(xtrain,ytrain)\n",
    "tr_pred = model.predict(xtrain)\n",
    "ts_pred = model.predict(xtest)\n",
    "from sklearn.metrics import mean_absolute_error,explained_variance_score\n",
    "adj = explained_variance_score(ytest,ts_pred)\n",
    "bias = mean_absolute_error(ytrain,tr_pred)\n",
    "var = mean_absolute_error(ytest,ts_pred)   \n",
    "adj,bias,var"
   ]
  },
  {
   "cell_type": "markdown",
   "id": "7a0a08c9",
   "metadata": {},
   "source": [
    "# model5"
   ]
  },
  {
   "cell_type": "code",
   "execution_count": 85,
   "id": "0656a4f1",
   "metadata": {},
   "outputs": [
    {
     "data": {
      "text/plain": [
       "(0.9360941215252148, 149.80224669261304, 138.3872138495124)"
      ]
     },
     "execution_count": 85,
     "metadata": {},
     "output_type": "execute_result"
    }
   ],
   "source": [
    "\n",
    "Y = A[[\"Weight\"]]\n",
    "X = A[[\"Fuel.tank.capacity\",\"Width\",'MPG.city']]\n",
    "cat = []\n",
    "con = []\n",
    "for i in X.columns:\n",
    "    if(X[i].dtypes == \"object\"):\n",
    "        cat.append(i)\n",
    "    else:\n",
    "        con.append(i)\n",
    "from sklearn.preprocessing import StandardScaler\n",
    "ss = StandardScaler()\n",
    "X1 = pd.DataFrame(ss.fit_transform(X[con]),columns=con)\n",
    "\n",
    "from sklearn.model_selection import train_test_split\n",
    "xtrain,xtest,ytrain,ytest=train_test_split(X1,Y,test_size=0.2,random_state=21)\n",
    "from sklearn.linear_model import LinearRegression\n",
    "lm = LinearRegression()\n",
    "\n",
    "model = lm.fit(xtrain,ytrain)\n",
    "tr_pred = model.predict(xtrain)\n",
    "ts_pred = model.predict(xtest)\n",
    "from sklearn.metrics import mean_absolute_error,explained_variance_score\n",
    "adj = explained_variance_score(ytest,ts_pred)\n",
    "bias = mean_absolute_error(ytrain,tr_pred)\n",
    "var = mean_absolute_error(ytest,ts_pred)   \n",
    "adj,bias,var"
   ]
  },
  {
   "cell_type": "markdown",
   "id": "3403765e",
   "metadata": {},
   "source": [
    "# model6"
   ]
  },
  {
   "cell_type": "code",
   "execution_count": 44,
   "id": "41846983",
   "metadata": {},
   "outputs": [
    {
     "data": {
      "text/plain": [
       "(0.9369917848239064, 145.46378149536412, 129.52600839312944)"
      ]
     },
     "execution_count": 44,
     "metadata": {},
     "output_type": "execute_result"
    }
   ],
   "source": [
    "B = A[['MPG.city', 'MPG.highway', 'EngineSize', 'Horsepower', 'Rev.per.mile',\n",
    "       'Fuel.tank.capacity', 'Length', 'Wheelbase', 'Width', 'Turn.circle', 'Type', 'AirBags', 'DriveTrain', 'Cylinders', 'Man.trans.avail']]\n",
    "Y = A[[\"Weight\"]]\n",
    "X = A[[\"Fuel.tank.capacity\",\"Width\", 'MPG.highway']]\n",
    "cat = []\n",
    "con = []\n",
    "for i in X.columns:\n",
    "    if(X[i].dtypes == \"object\"):\n",
    "        cat.append(i)\n",
    "    else:\n",
    "        con.append(i)\n",
    "from sklearn.preprocessing import StandardScaler\n",
    "ss = StandardScaler()\n",
    "X1 = pd.DataFrame(ss.fit_transform(X[con]),columns=con)\n",
    "\n",
    "from sklearn.model_selection import train_test_split\n",
    "xtrain,xtest,ytrain,ytest=train_test_split(X1,Y,test_size=0.2,random_state=21)\n",
    "from sklearn.linear_model import LinearRegression\n",
    "lm = LinearRegression()\n",
    "\n",
    "model = lm.fit(xtrain,ytrain)\n",
    "tr_pred = model.predict(xtrain)\n",
    "ts_pred = model.predict(xtest)\n",
    "from sklearn.metrics import mean_absolute_error,explained_variance_score\n",
    "adj = explained_variance_score(ytest,ts_pred)\n",
    "bias = mean_absolute_error(ytrain,tr_pred)\n",
    "var = mean_absolute_error(ytest,ts_pred)   \n",
    "adj,bias,var"
   ]
  },
  {
   "cell_type": "markdown",
   "id": "a56faea7",
   "metadata": {},
   "source": [
    "# model7"
   ]
  },
  {
   "cell_type": "code",
   "execution_count": 45,
   "id": "fb1d2bd2",
   "metadata": {},
   "outputs": [
    {
     "data": {
      "text/plain": [
       "(0.9221864067324096, 157.37430157686381, 137.7510607959166)"
      ]
     },
     "execution_count": 45,
     "metadata": {},
     "output_type": "execute_result"
    }
   ],
   "source": [
    "B = A[['MPG.city', 'MPG.highway', 'EngineSize', 'Horsepower', 'Rev.per.mile',\n",
    "       'Fuel.tank.capacity', 'Length', 'Wheelbase', 'Width', 'Turn.circle', 'Type', 'AirBags', 'DriveTrain', 'Cylinders', 'Man.trans.avail']]\n",
    "Y = A[[\"Weight\"]]\n",
    "X = A[[\"Fuel.tank.capacity\",\"Width\", 'Horsepower']]\n",
    "cat = []\n",
    "con = []\n",
    "for i in X.columns:\n",
    "    if(X[i].dtypes == \"object\"):\n",
    "        cat.append(i)\n",
    "    else:\n",
    "        con.append(i)\n",
    "from sklearn.preprocessing import StandardScaler\n",
    "ss = StandardScaler()\n",
    "X1 = pd.DataFrame(ss.fit_transform(X[con]),columns=con)\n",
    "\n",
    "from sklearn.model_selection import train_test_split\n",
    "xtrain,xtest,ytrain,ytest=train_test_split(X1,Y,test_size=0.2,random_state=21)\n",
    "from sklearn.linear_model import LinearRegression\n",
    "lm = LinearRegression()\n",
    "\n",
    "model = lm.fit(xtrain,ytrain)\n",
    "tr_pred = model.predict(xtrain)\n",
    "ts_pred = model.predict(xtest)\n",
    "from sklearn.metrics import mean_absolute_error,explained_variance_score\n",
    "adj = explained_variance_score(ytest,ts_pred)\n",
    "bias = mean_absolute_error(ytrain,tr_pred)\n",
    "var = mean_absolute_error(ytest,ts_pred)   \n",
    "adj,bias,var"
   ]
  },
  {
   "cell_type": "markdown",
   "id": "5fb1589f",
   "metadata": {},
   "source": [
    "# model8"
   ]
  },
  {
   "cell_type": "code",
   "execution_count": 46,
   "id": "96813a36",
   "metadata": {},
   "outputs": [
    {
     "data": {
      "text/plain": [
       "(0.9425486696993393, 166.02924428539762, 124.72152838835251)"
      ]
     },
     "execution_count": 46,
     "metadata": {},
     "output_type": "execute_result"
    }
   ],
   "source": [
    "B = A[['MPG.city', 'MPG.highway', 'EngineSize', 'Horsepower', 'Rev.per.mile',\n",
    "       'Fuel.tank.capacity', 'Length', 'Wheelbase', 'Width', 'Turn.circle', 'Type', 'AirBags', 'DriveTrain', 'Cylinders', 'Man.trans.avail']]\n",
    "Y = A[[\"Weight\"]]\n",
    "X = A[[\"Fuel.tank.capacity\",\"Width\", 'Rev.per.mile']]\n",
    "cat = []\n",
    "con = []\n",
    "for i in X.columns:\n",
    "    if(X[i].dtypes == \"object\"):\n",
    "        cat.append(i)\n",
    "    else:\n",
    "        con.append(i)\n",
    "from sklearn.preprocessing import StandardScaler\n",
    "ss = StandardScaler()\n",
    "X1 = pd.DataFrame(ss.fit_transform(X[con]),columns=con)\n",
    "\n",
    "from sklearn.model_selection import train_test_split\n",
    "xtrain,xtest,ytrain,ytest=train_test_split(X1,Y,test_size=0.2,random_state=21)\n",
    "from sklearn.linear_model import LinearRegression\n",
    "lm = LinearRegression()\n",
    "\n",
    "model = lm.fit(xtrain,ytrain)\n",
    "tr_pred = model.predict(xtrain)\n",
    "ts_pred = model.predict(xtest)\n",
    "from sklearn.metrics import mean_absolute_error,explained_variance_score\n",
    "adj = explained_variance_score(ytest,ts_pred)\n",
    "bias = mean_absolute_error(ytrain,tr_pred)\n",
    "var = mean_absolute_error(ytest,ts_pred)   \n",
    "adj,bias,var"
   ]
  },
  {
   "cell_type": "markdown",
   "id": "69ca31b3",
   "metadata": {},
   "source": [
    "# model9"
   ]
  },
  {
   "cell_type": "code",
   "execution_count": 47,
   "id": "11434fa8",
   "metadata": {},
   "outputs": [
    {
     "data": {
      "text/plain": [
       "['Fuel.tank.capacity', 'Width', 'Rev.per.mile', 'Length']"
      ]
     },
     "execution_count": 47,
     "metadata": {},
     "output_type": "execute_result"
    }
   ],
   "source": [
    "B = A[['MPG.city', 'MPG.highway', 'EngineSize', 'Horsepower', 'Rev.per.mile',\n",
    "       'Fuel.tank.capacity', 'Length', 'Wheelbase', 'Width', 'Turn.circle', 'Type', 'AirBags', 'DriveTrain', 'Cylinders', 'Man.trans.avail']]\n",
    "Y = A[[\"Weight\"]]\n",
    "X = A[[\"Fuel.tank.capacity\",\"Width\",'Rev.per.mile',  'Length']]\n",
    "cat = []\n",
    "con = []\n",
    "for i in X.columns:\n",
    "    if(X[i].dtypes == \"object\"):\n",
    "        cat.append(i)\n",
    "    else:\n",
    "        con.append(i)\n",
    "cat\n",
    "con\n"
   ]
  },
  {
   "cell_type": "code",
   "execution_count": 48,
   "id": "4e73e11b",
   "metadata": {},
   "outputs": [
    {
     "data": {
      "text/plain": [
       "(0.953130569895657, 161.51713252399367, 119.22134144424632)"
      ]
     },
     "execution_count": 48,
     "metadata": {},
     "output_type": "execute_result"
    }
   ],
   "source": [
    "from sklearn.preprocessing import StandardScaler\n",
    "ss = StandardScaler()\n",
    "X1 = pd.DataFrame(ss.fit_transform(X[con]),columns=con)\n",
    "\n",
    "from sklearn.model_selection import train_test_split\n",
    "xtrain,xtest,ytrain,ytest=train_test_split(X1,Y,test_size=0.2,random_state=21)\n",
    "from sklearn.linear_model import LinearRegression\n",
    "lm = LinearRegression()\n",
    "\n",
    "model = lm.fit(xtrain,ytrain)\n",
    "tr_pred = model.predict(xtrain)\n",
    "ts_pred = model.predict(xtest)\n",
    "from sklearn.metrics import mean_absolute_error,explained_variance_score\n",
    "adj = explained_variance_score(ytest,ts_pred)\n",
    "bias = mean_absolute_error(ytrain,tr_pred)\n",
    "var = mean_absolute_error(ytest,ts_pred)   \n",
    "adj,bias,var"
   ]
  },
  {
   "cell_type": "markdown",
   "id": "af3b98f2",
   "metadata": {},
   "source": [
    "# model10"
   ]
  },
  {
   "cell_type": "code",
   "execution_count": 91,
   "id": "0f810650",
   "metadata": {},
   "outputs": [
    {
     "data": {
      "text/plain": [
       "['Fuel.tank.capacity', 'Width', 'Rev.per.mile', 'Length', 'Wheelbase']"
      ]
     },
     "execution_count": 91,
     "metadata": {},
     "output_type": "execute_result"
    }
   ],
   "source": [
    "B = A[['MPG.city', 'MPG.highway', 'EngineSize', 'Horsepower', 'Rev.per.mile',\n",
    "       'Fuel.tank.capacity', 'Length', 'Wheelbase', 'Width', 'Turn.circle', 'Type', 'AirBags', 'DriveTrain', 'Cylinders', 'Man.trans.avail']]\n",
    "Y = A[[\"Weight\"]]\n",
    "X = A[[\"Fuel.tank.capacity\",\"Width\",'Rev.per.mile',  'Length','Wheelbase']]\n",
    "cat = []\n",
    "con = []\n",
    "for i in X.columns:\n",
    "    if(X[i].dtypes == \"object\"):\n",
    "        cat.append(i)\n",
    "    else:\n",
    "        con.append(i)\n",
    "cat\n",
    "con\n"
   ]
  },
  {
   "cell_type": "code",
   "execution_count": 92,
   "id": "897fd86b",
   "metadata": {},
   "outputs": [
    {
     "data": {
      "text/plain": [
       "(0.9744733785974582, 143.2368893780158, 92.55089266735925)"
      ]
     },
     "execution_count": 92,
     "metadata": {},
     "output_type": "execute_result"
    }
   ],
   "source": [
    "from sklearn.preprocessing import StandardScaler\n",
    "ss = StandardScaler()\n",
    "X1 = pd.DataFrame(ss.fit_transform(X[con]),columns=con)\n",
    "\n",
    "from sklearn.model_selection import train_test_split\n",
    "xtrain,xtest,ytrain,ytest=train_test_split(X1,Y,test_size=0.2,random_state=21)\n",
    "from sklearn.linear_model import LinearRegression\n",
    "lm = LinearRegression()\n",
    "\n",
    "model = lm.fit(xtrain,ytrain)\n",
    "tr_pred = model.predict(xtrain)\n",
    "ts_pred = model.predict(xtest)\n",
    "from sklearn.metrics import mean_absolute_error,explained_variance_score\n",
    "adj = explained_variance_score(ytest,ts_pred)\n",
    "bias = mean_absolute_error(ytrain,tr_pred)\n",
    "var = mean_absolute_error(ytest,ts_pred)   \n",
    "adj,bias,var"
   ]
  },
  {
   "cell_type": "markdown",
   "id": "ce156f7a",
   "metadata": {},
   "source": [
    "# model11"
   ]
  },
  {
   "cell_type": "code",
   "execution_count": 93,
   "id": "c7304bdd",
   "metadata": {},
   "outputs": [
    {
     "data": {
      "text/plain": [
       "['Fuel.tank.capacity',\n",
       " 'Width',\n",
       " 'Rev.per.mile',\n",
       " 'Length',\n",
       " 'Wheelbase',\n",
       " 'Turn.circle']"
      ]
     },
     "execution_count": 93,
     "metadata": {},
     "output_type": "execute_result"
    }
   ],
   "source": [
    "B = A[['MPG.city', 'MPG.highway', 'EngineSize', 'Horsepower', 'Rev.per.mile',\n",
    "       'Fuel.tank.capacity', 'Length', 'Wheelbase', 'Width', 'Turn.circle', 'Type', 'AirBags', 'DriveTrain', 'Cylinders', 'Man.trans.avail']]\n",
    "Y = A[[\"Weight\"]]\n",
    "X = A[[\"Fuel.tank.capacity\",\"Width\",'Rev.per.mile',  'Length','Wheelbase','Turn.circle']]\n",
    "cat = []\n",
    "con = []\n",
    "for i in X.columns:\n",
    "    if(X[i].dtypes == \"object\"):\n",
    "        cat.append(i)\n",
    "    else:\n",
    "        con.append(i)\n",
    "cat\n",
    "con\n"
   ]
  },
  {
   "cell_type": "code",
   "execution_count": 94,
   "id": "18a1636f",
   "metadata": {},
   "outputs": [
    {
     "data": {
      "text/plain": [
       "(0.972799754028898, 142.08827274492765, 95.41233956420155)"
      ]
     },
     "execution_count": 94,
     "metadata": {},
     "output_type": "execute_result"
    }
   ],
   "source": [
    "from sklearn.preprocessing import StandardScaler\n",
    "ss = StandardScaler()\n",
    "X1 = pd.DataFrame(ss.fit_transform(X[con]),columns=con)\n",
    "\n",
    "from sklearn.model_selection import train_test_split\n",
    "xtrain,xtest,ytrain,ytest=train_test_split(X1,Y,test_size=0.2,random_state=21)\n",
    "from sklearn.linear_model import LinearRegression\n",
    "lm = LinearRegression()\n",
    "\n",
    "model = lm.fit(xtrain,ytrain)\n",
    "tr_pred = model.predict(xtrain)\n",
    "ts_pred = model.predict(xtest)\n",
    "from sklearn.metrics import mean_absolute_error,explained_variance_score\n",
    "adj = explained_variance_score(ytest,ts_pred)\n",
    "bias = mean_absolute_error(ytrain,tr_pred)\n",
    "var = mean_absolute_error(ytest,ts_pred)   \n",
    "adj,bias,var"
   ]
  },
  {
   "cell_type": "markdown",
   "id": "93d72cc4",
   "metadata": {},
   "source": [
    "# model12"
   ]
  },
  {
   "cell_type": "code",
   "execution_count": 95,
   "id": "af844608",
   "metadata": {},
   "outputs": [
    {
     "data": {
      "text/plain": [
       "(0.9640509561477472, 127.07905105697637, 103.09172729869975)"
      ]
     },
     "execution_count": 95,
     "metadata": {},
     "output_type": "execute_result"
    }
   ],
   "source": [
    "B = A[['MPG.city', 'MPG.highway', 'EngineSize', 'Horsepower', 'Rev.per.mile',\n",
    "       'Fuel.tank.capacity', 'Length', 'Wheelbase', 'Width', 'Turn.circle', 'Type', 'AirBags', 'DriveTrain', 'Cylinders', 'Man.trans.avail']]\n",
    "Y = A[[\"Weight\"]]\n",
    "X = A[[\"Fuel.tank.capacity\",\"Width\",'Rev.per.mile',  'Length','Wheelbase','Type']]\n",
    "cat = []\n",
    "con = []\n",
    "for i in X.columns:\n",
    "    if(X[i].dtypes == \"object\"):\n",
    "        cat.append(i)\n",
    "    else:\n",
    "        con.append(i)\n",
    "from sklearn.preprocessing import StandardScaler\n",
    "ss = StandardScaler()\n",
    "X1 = pd.DataFrame(ss.fit_transform(X[con]),columns=con)\n",
    "X2=pd.get_dummies(X[cat])\n",
    "Xnew=X1.join(X2)\n",
    "from sklearn.model_selection import train_test_split\n",
    "xtrain,xtest,ytrain,ytest=train_test_split(Xnew,Y,test_size=0.2,random_state=21)\n",
    "from sklearn.linear_model import LinearRegression\n",
    "lm = LinearRegression()\n",
    "\n",
    "model = lm.fit(xtrain,ytrain)\n",
    "tr_pred = model.predict(xtrain)\n",
    "ts_pred = model.predict(xtest)\n",
    "from sklearn.metrics import mean_absolute_error,explained_variance_score\n",
    "adj = explained_variance_score(ytest,ts_pred)\n",
    "bias = mean_absolute_error(ytrain,tr_pred)\n",
    "var = mean_absolute_error(ytest,ts_pred)   \n",
    "adj,bias,var\n"
   ]
  },
  {
   "cell_type": "code",
   "execution_count": 96,
   "id": "a90280bf",
   "metadata": {},
   "outputs": [
    {
     "data": {
      "text/plain": [
       "(0.974679536397871, 143.55454661912265, 87.6054697740032)"
      ]
     },
     "execution_count": 96,
     "metadata": {},
     "output_type": "execute_result"
    }
   ],
   "source": [
    "Y = A[[\"Weight\"]]\n",
    "X = A[[\"Fuel.tank.capacity\",\"Width\",'Rev.per.mile',  'Length','Wheelbase','AirBags']]\n",
    "cat = []\n",
    "con = []\n",
    "for i in X.columns:\n",
    "    if(X[i].dtypes == \"object\"):\n",
    "        cat.append(i)\n",
    "    else:\n",
    "        con.append(i)\n",
    "from sklearn.preprocessing import StandardScaler\n",
    "ss = StandardScaler()\n",
    "X1 = pd.DataFrame(ss.fit_transform(X[con]),columns=con)\n",
    "X2=pd.get_dummies(X[cat])\n",
    "Xnew=X1.join(X2)\n",
    "\n",
    "from sklearn.model_selection import train_test_split\n",
    "xtrain,xtest,ytrain,ytest=train_test_split(Xnew,Y,test_size=0.2,random_state=21)\n",
    "from sklearn.linear_model import LinearRegression\n",
    "lm = LinearRegression()\n",
    "\n",
    "model = lm.fit(xtrain,ytrain)\n",
    "tr_pred = model.predict(xtrain)\n",
    "ts_pred = model.predict(xtest)\n",
    "from sklearn.metrics import mean_absolute_error,explained_variance_score\n",
    "adj = explained_variance_score(ytest,ts_pred)\n",
    "bias = mean_absolute_error(ytrain,tr_pred)\n",
    "var = mean_absolute_error(ytest,ts_pred)   \n",
    "adj,bias,var"
   ]
  },
  {
   "cell_type": "markdown",
   "id": "d962b25a",
   "metadata": {},
   "source": [
    "# model13"
   ]
  },
  {
   "cell_type": "code",
   "execution_count": 97,
   "id": "e278e3cf",
   "metadata": {},
   "outputs": [
    {
     "data": {
      "text/plain": [
       "(0.97682640125891, 143.83476205053722, 95.63992664199499)"
      ]
     },
     "execution_count": 97,
     "metadata": {},
     "output_type": "execute_result"
    }
   ],
   "source": [
    "Y = A[[\"Weight\"]]\n",
    "X = A[[\"Fuel.tank.capacity\",\"Width\",'Rev.per.mile',  'Length','Wheelbase','AirBags','DriveTrain']]\n",
    "cat = []\n",
    "con = []\n",
    "for i in X.columns:\n",
    "    if(X[i].dtypes == \"object\"):\n",
    "        cat.append(i)\n",
    "    else:\n",
    "        con.append(i)\n",
    "from sklearn.preprocessing import StandardScaler\n",
    "ss = StandardScaler()\n",
    "X1 = pd.DataFrame(ss.fit_transform(X[con]),columns=con)\n",
    "X2=pd.get_dummies(X[cat])\n",
    "Xnew=X1.join(X2)\n",
    "\n",
    "from sklearn.model_selection import train_test_split\n",
    "xtrain,xtest,ytrain,ytest=train_test_split(Xnew,Y,test_size=0.2,random_state=21)\n",
    "from sklearn.linear_model import LinearRegression\n",
    "lm = LinearRegression()\n",
    "\n",
    "model = lm.fit(xtrain,ytrain)\n",
    "tr_pred = model.predict(xtrain)\n",
    "ts_pred = model.predict(xtest)\n",
    "from sklearn.metrics import mean_absolute_error,explained_variance_score\n",
    "adj = explained_variance_score(ytest,ts_pred)\n",
    "bias = mean_absolute_error(ytrain,tr_pred)\n",
    "var = mean_absolute_error(ytest,ts_pred)   \n",
    "adj,bias,var"
   ]
  },
  {
   "cell_type": "code",
   "execution_count": 98,
   "id": "0b8edf19",
   "metadata": {},
   "outputs": [
    {
     "data": {
      "text/plain": [
       "(0.9375383436084191, 128.8842215464632, 137.59092924975116)"
      ]
     },
     "execution_count": 98,
     "metadata": {},
     "output_type": "execute_result"
    }
   ],
   "source": [
    "Y = A[[\"Weight\"]]\n",
    "X = A[[\"Fuel.tank.capacity\",\"Width\",'Rev.per.mile','Length','Wheelbase','AirBags','DriveTrain','Cylinders']]\n",
    "cat = []\n",
    "con = []\n",
    "for i in X.columns:\n",
    "    if(X[i].dtypes == \"object\"):\n",
    "        cat.append(i)\n",
    "    else:\n",
    "        con.append(i)\n",
    "from sklearn.preprocessing import StandardScaler\n",
    "ss = StandardScaler()\n",
    "X1 = pd.DataFrame(ss.fit_transform(X[con]),columns=con)\n",
    "X2=pd.get_dummies(X[cat])\n",
    "Xnew=X1.join(X2)\n",
    "\n",
    "from sklearn.model_selection import train_test_split\n",
    "xtrain,xtest,ytrain,ytest=train_test_split(Xnew,Y,test_size=0.2,random_state=21)\n",
    "from sklearn.linear_model import LinearRegression\n",
    "lm = LinearRegression()\n",
    "\n",
    "model = lm.fit(xtrain,ytrain)\n",
    "tr_pred = model.predict(xtrain)\n",
    "ts_pred = model.predict(xtest)\n",
    "from sklearn.metrics import mean_absolute_error,explained_variance_score\n",
    "adj = explained_variance_score(ytest,ts_pred)\n",
    "bias = mean_absolute_error(ytrain,tr_pred)\n",
    "var = mean_absolute_error(ytest,ts_pred)   \n",
    "adj,bias,var"
   ]
  },
  {
   "cell_type": "markdown",
   "id": "b831caea",
   "metadata": {},
   "source": [
    "# model14"
   ]
  },
  {
   "cell_type": "code",
   "execution_count": 100,
   "id": "19805018",
   "metadata": {},
   "outputs": [
    {
     "data": {
      "text/plain": [
       "(0.9771030599538991, 143.90677806112365, 94.25621723587119)"
      ]
     },
     "execution_count": 100,
     "metadata": {},
     "output_type": "execute_result"
    }
   ],
   "source": [
    "Y = A[[\"Weight\"]]\n",
    "X = A[[\"Fuel.tank.capacity\",\"Width\",'Rev.per.mile', 'Length','Wheelbase','AirBags','DriveTrain','Man.trans.avail']]\n",
    "cat = []\n",
    "con = []\n",
    "for i in X.columns:\n",
    "    if(X[i].dtypes == \"object\"):\n",
    "        cat.append(i)\n",
    "    else:\n",
    "        con.append(i)\n",
    "from sklearn.preprocessing import StandardScaler\n",
    "ss = StandardScaler()\n",
    "X1 = pd.DataFrame(ss.fit_transform(X[con]),columns=con)\n",
    "X2=pd.get_dummies(X[cat])\n",
    "Xnew=X1.join(X2)\n",
    "\n",
    "from sklearn.model_selection import train_test_split\n",
    "xtrain,xtest,ytrain,ytest=train_test_split(Xnew,Y,test_size=0.2,random_state=21)\n",
    "from sklearn.linear_model import LinearRegression\n",
    "lm = LinearRegression()\n",
    "\n",
    "model = lm.fit(xtrain,ytrain)\n",
    "tr_pred = model.predict(xtrain)\n",
    "ts_pred = model.predict(xtest)\n",
    "from sklearn.metrics import mean_absolute_error,explained_variance_score\n",
    "adj = explained_variance_score(ytest,ts_pred)\n",
    "bias = mean_absolute_error(ytrain,tr_pred)\n",
    "var = mean_absolute_error(ytest,ts_pred)   \n",
    "adj,bias,var"
   ]
  },
  {
   "cell_type": "markdown",
   "id": "ad2902b5",
   "metadata": {},
   "source": [
    "# r2 good, training error 142,testing erorr less"
   ]
  },
  {
   "cell_type": "code",
   "execution_count": 58,
   "id": "b34286f7",
   "metadata": {},
   "outputs": [
    {
     "data": {
      "text/plain": [
       "Min.Price             0.677071\n",
       "Price                 0.689606\n",
       "Max.Price             0.672457\n",
       "MPG.city             -0.872984\n",
       "MPG.highway          -0.821412\n",
       "EngineSize            0.825492\n",
       "Horsepower            0.716912\n",
       "RPM                  -0.424413\n",
       "Rev.per.mile         -0.710466\n",
       "Fuel.tank.capacity    0.891269\n",
       "Passengers            0.524746\n",
       "Length                0.789172\n",
       "Wheelbase             0.868891\n",
       "Width                 0.873592\n",
       "Turn.circle           0.773158\n",
       "Rear.seat.room        0.526896\n",
       "Luggage.room          0.561826\n",
       "Weight                1.000000\n",
       "Name: Weight, dtype: float64"
      ]
     },
     "execution_count": 58,
     "metadata": {},
     "output_type": "execute_result"
    }
   ],
   "source": [
    "A.corr()['Weight']"
   ]
  },
  {
   "cell_type": "code",
   "execution_count": 101,
   "id": "1d5335c8",
   "metadata": {},
   "outputs": [],
   "source": [
    "Y = A[[\"Weight\"]]\n",
    "X=[]\n",
    "B=A[['Fuel.tank.capacity', 'Width', 'Wheelbase', 'EngineSize', 'Length',\n",
    "       'Turn.circle', 'Horsepower', 'Rev.per.mile', 'MPG.highway', 'MPG.city','Type', \n",
    "    'AirBags', 'DriveTrain', 'Cylinders', 'Man.trans.avail']]\n",
    "\n",
    "adjlst=[]\n",
    "biaslst=[]\n",
    "varlst=[]\n",
    "old_r=0\n",
    "new_r=0\n",
    "modelx=[[]]\n",
    "for i in B.columns:\n",
    "    X.append(i)\n",
    "    Xdf=B[X]\n",
    "    modelx.append(Xdf)\n",
    "    cat=[]\n",
    "    con=[]\n",
    "    for i in Xdf.columns:\n",
    "        if(Xdf[i].dtypes == \"object\"):\n",
    "            if i not in cat:\n",
    "                cat.append(i)\n",
    "        else:\n",
    "            if i not in con:\n",
    "                con.append(i)\n",
    "    from sklearn.preprocessing import StandardScaler\n",
    "    ss = StandardScaler()\n",
    "    X1 = pd.DataFrame(ss.fit_transform(Xdf[con]),columns=con)\n",
    "    if(len(cat)!=0):\n",
    "        X2=pd.get_dummies(Xdf[cat])\n",
    "        Xnew=X1.join(X2)\n",
    "\n",
    "        from sklearn.model_selection import train_test_split\n",
    "        xtrain,xtest,ytrain,ytest=train_test_split(Xnew,Y,test_size=0.2,random_state=21)\n",
    "    else:\n",
    "        from sklearn.model_selection import train_test_split\n",
    "        xtrain,xtest,ytrain,ytest=train_test_split(X1,Y,test_size=0.2,random_state=21)\n",
    "    from sklearn.linear_model import LinearRegression\n",
    "    lm = LinearRegression()\n",
    "\n",
    "    model = lm.fit(xtrain,ytrain)\n",
    "    tr_pred = model.predict(xtrain)\n",
    "    ts_pred = model.predict(xtest)\n",
    "    from sklearn.metrics import mean_absolute_error,explained_variance_score\n",
    "    adj = explained_variance_score(ytest,ts_pred)\n",
    "    bias = mean_absolute_error(ytrain,tr_pred)\n",
    "    var = mean_absolute_error(ytest,ts_pred)\n",
    "    new_r=adj\n",
    "    if(new_r<old_r):\n",
    "        X.remove(i)\n",
    "    old_r=new_r\n",
    "    adjlst.append(adj)\n",
    "    varlst.append(var)\n",
    "    biaslst.append(bias)\n",
    "    \n",
    "    \n"
   ]
  },
  {
   "cell_type": "code",
   "execution_count": 102,
   "id": "d8c83115",
   "metadata": {},
   "outputs": [
    {
     "data": {
      "text/plain": [
       "([0.8650823489153971,\n",
       "  0.9417341538580248,\n",
       "  0.9700251382342048,\n",
       "  0.966762192127689,\n",
       "  0.9700512542445877,\n",
       "  0.9684568581505062,\n",
       "  0.9680069326074559,\n",
       "  0.9744733785974582,\n",
       "  0.9703169215292784,\n",
       "  0.9706104778510555,\n",
       "  0.9598007787325015,\n",
       "  0.9700004179027583,\n",
       "  0.9720594011808364,\n",
       "  0.9409661066888747,\n",
       "  0.9729659474418185],\n",
       " [199.60236598278712,\n",
       "  133.0626038362853,\n",
       "  104.1116073451664,\n",
       "  100.37972544936397,\n",
       "  104.83915417760848,\n",
       "  104.66588363310782,\n",
       "  108.97547307088318,\n",
       "  92.55089266735911,\n",
       "  85.25128931967623,\n",
       "  90.84930334111199,\n",
       "  105.29335287220584,\n",
       "  92.50655175921639,\n",
       "  97.4722104873054,\n",
       "  129.40084744089577,\n",
       "  93.91621774479206],\n",
       " [213.0122666390244,\n",
       "  167.49564101431713,\n",
       "  145.68259022730652,\n",
       "  139.59323082246945,\n",
       "  145.66142501341034,\n",
       "  142.58225366881055,\n",
       "  133.2609979078835,\n",
       "  143.2368893780158,\n",
       "  123.31400837734056,\n",
       "  132.8682206978581,\n",
       "  120.89070512095822,\n",
       "  132.62393477696165,\n",
       "  128.7905672342913,\n",
       "  107.89430277849604,\n",
       "  129.3712529661702],\n",
       " [[],\n",
       "      Fuel.tank.capacity\n",
       "  0                 13.2\n",
       "  1                 18.0\n",
       "  2                 16.9\n",
       "  3                 21.1\n",
       "  4                 21.1\n",
       "  ..                 ...\n",
       "  82                21.1\n",
       "  83                18.5\n",
       "  84                18.5\n",
       "  85                15.8\n",
       "  86                19.3\n",
       "  \n",
       "  [87 rows x 1 columns],\n",
       "      Fuel.tank.capacity  Width\n",
       "  0                 13.2     68\n",
       "  1                 18.0     71\n",
       "  2                 16.9     67\n",
       "  3                 21.1     70\n",
       "  4                 21.1     69\n",
       "  ..                 ...    ...\n",
       "  82                21.1     72\n",
       "  83                18.5     67\n",
       "  84                18.5     66\n",
       "  85                15.8     67\n",
       "  86                19.3     69\n",
       "  \n",
       "  [87 rows x 2 columns],\n",
       "      Fuel.tank.capacity  Width  Wheelbase\n",
       "  0                 13.2     68        102\n",
       "  1                 18.0     71        115\n",
       "  2                 16.9     67        102\n",
       "  3                 21.1     70        106\n",
       "  4                 21.1     69        109\n",
       "  ..                 ...    ...        ...\n",
       "  82                21.1     72        115\n",
       "  83                18.5     67        103\n",
       "  84                18.5     66         97\n",
       "  85                15.8     67        104\n",
       "  86                19.3     69        105\n",
       "  \n",
       "  [87 rows x 3 columns],\n",
       "      Fuel.tank.capacity  Width  Wheelbase  EngineSize\n",
       "  0                 13.2     68        102         1.8\n",
       "  1                 18.0     71        115         3.2\n",
       "  2                 16.9     67        102         2.8\n",
       "  3                 21.1     70        106         2.8\n",
       "  4                 21.1     69        109         3.5\n",
       "  ..                 ...    ...        ...         ...\n",
       "  82                21.1     72        115         2.5\n",
       "  83                18.5     67        103         2.0\n",
       "  84                18.5     66         97         2.8\n",
       "  85                15.8     67        104         2.3\n",
       "  86                19.3     69        105         2.4\n",
       "  \n",
       "  [87 rows x 4 columns],\n",
       "      Fuel.tank.capacity  Width  Wheelbase  Length\n",
       "  0                 13.2     68        102     177\n",
       "  1                 18.0     71        115     195\n",
       "  2                 16.9     67        102     180\n",
       "  3                 21.1     70        106     193\n",
       "  4                 21.1     69        109     186\n",
       "  ..                 ...    ...        ...     ...\n",
       "  82                21.1     72        115     187\n",
       "  83                18.5     67        103     180\n",
       "  84                18.5     66         97     159\n",
       "  85                15.8     67        104     190\n",
       "  86                19.3     69        105     184\n",
       "  \n",
       "  [87 rows x 4 columns],\n",
       "      Fuel.tank.capacity  Width  Wheelbase  Length  Turn.circle\n",
       "  0                 13.2     68        102     177           37\n",
       "  1                 18.0     71        115     195           38\n",
       "  2                 16.9     67        102     180           37\n",
       "  3                 21.1     70        106     193           37\n",
       "  4                 21.1     69        109     186           39\n",
       "  ..                 ...    ...        ...     ...          ...\n",
       "  82                21.1     72        115     187           38\n",
       "  83                18.5     67        103     180           35\n",
       "  84                18.5     66         97     159           36\n",
       "  85                15.8     67        104     190           37\n",
       "  86                19.3     69        105     184           38\n",
       "  \n",
       "  [87 rows x 5 columns],\n",
       "      Fuel.tank.capacity  Width  Wheelbase  Length  Horsepower\n",
       "  0                 13.2     68        102     177         140\n",
       "  1                 18.0     71        115     195         200\n",
       "  2                 16.9     67        102     180         172\n",
       "  3                 21.1     70        106     193         172\n",
       "  4                 21.1     69        109     186         208\n",
       "  ..                 ...    ...        ...     ...         ...\n",
       "  82                21.1     72        115     187         109\n",
       "  83                18.5     67        103     180         134\n",
       "  84                18.5     66         97     159         178\n",
       "  85                15.8     67        104     190         114\n",
       "  86                19.3     69        105     184         168\n",
       "  \n",
       "  [87 rows x 5 columns],\n",
       "      Fuel.tank.capacity  Width  Wheelbase  Length  Rev.per.mile\n",
       "  0                 13.2     68        102     177          2890\n",
       "  1                 18.0     71        115     195          2335\n",
       "  2                 16.9     67        102     180          2280\n",
       "  3                 21.1     70        106     193          2535\n",
       "  4                 21.1     69        109     186          2545\n",
       "  ..                 ...    ...        ...     ...           ...\n",
       "  82                21.1     72        115     187          2915\n",
       "  83                18.5     67        103     180          2685\n",
       "  84                18.5     66         97     159          2385\n",
       "  85                15.8     67        104     190          2215\n",
       "  86                19.3     69        105     184          2310\n",
       "  \n",
       "  [87 rows x 5 columns],\n",
       "      Fuel.tank.capacity  Width  Wheelbase  Length  Rev.per.mile  MPG.highway\n",
       "  0                 13.2     68        102     177          2890           31\n",
       "  1                 18.0     71        115     195          2335           25\n",
       "  2                 16.9     67        102     180          2280           26\n",
       "  3                 21.1     70        106     193          2535           26\n",
       "  4                 21.1     69        109     186          2545           30\n",
       "  ..                 ...    ...        ...     ...           ...          ...\n",
       "  82                21.1     72        115     187          2915           21\n",
       "  83                18.5     67        103     180          2685           30\n",
       "  84                18.5     66         97     159          2385           25\n",
       "  85                15.8     67        104     190          2215           28\n",
       "  86                19.3     69        105     184          2310           28\n",
       "  \n",
       "  [87 rows x 6 columns],\n",
       "      Fuel.tank.capacity  Width  Wheelbase  Length  Rev.per.mile  MPG.city\n",
       "  0                 13.2     68        102     177          2890        25\n",
       "  1                 18.0     71        115     195          2335        18\n",
       "  2                 16.9     67        102     180          2280        20\n",
       "  3                 21.1     70        106     193          2535        19\n",
       "  4                 21.1     69        109     186          2545        22\n",
       "  ..                 ...    ...        ...     ...           ...       ...\n",
       "  82                21.1     72        115     187          2915        17\n",
       "  83                18.5     67        103     180          2685        21\n",
       "  84                18.5     66         97     159          2385        18\n",
       "  85                15.8     67        104     190          2215        21\n",
       "  86                19.3     69        105     184          2310        20\n",
       "  \n",
       "  [87 rows x 6 columns],\n",
       "      Fuel.tank.capacity  Width  Wheelbase  Length  Rev.per.mile  MPG.city  \\\n",
       "  0                 13.2     68        102     177          2890        25   \n",
       "  1                 18.0     71        115     195          2335        18   \n",
       "  2                 16.9     67        102     180          2280        20   \n",
       "  3                 21.1     70        106     193          2535        19   \n",
       "  4                 21.1     69        109     186          2545        22   \n",
       "  ..                 ...    ...        ...     ...           ...       ...   \n",
       "  82                21.1     72        115     187          2915        17   \n",
       "  83                18.5     67        103     180          2685        21   \n",
       "  84                18.5     66         97     159          2385        18   \n",
       "  85                15.8     67        104     190          2215        21   \n",
       "  86                19.3     69        105     184          2310        20   \n",
       "  \n",
       "         Type  \n",
       "  0     Small  \n",
       "  1   Midsize  \n",
       "  2   Compact  \n",
       "  3   Midsize  \n",
       "  4   Midsize  \n",
       "  ..      ...  \n",
       "  82      Van  \n",
       "  83  Compact  \n",
       "  84   Sporty  \n",
       "  85  Compact  \n",
       "  86  Midsize  \n",
       "  \n",
       "  [87 rows x 7 columns],\n",
       "      Fuel.tank.capacity  Width  Wheelbase  Length  Rev.per.mile  MPG.city  \\\n",
       "  0                 13.2     68        102     177          2890        25   \n",
       "  1                 18.0     71        115     195          2335        18   \n",
       "  2                 16.9     67        102     180          2280        20   \n",
       "  3                 21.1     70        106     193          2535        19   \n",
       "  4                 21.1     69        109     186          2545        22   \n",
       "  ..                 ...    ...        ...     ...           ...       ...   \n",
       "  82                21.1     72        115     187          2915        17   \n",
       "  83                18.5     67        103     180          2685        21   \n",
       "  84                18.5     66         97     159          2385        18   \n",
       "  85                15.8     67        104     190          2215        21   \n",
       "  86                19.3     69        105     184          2310        20   \n",
       "  \n",
       "                 AirBags  \n",
       "  0                 None  \n",
       "  1   Driver & Passenger  \n",
       "  2          Driver only  \n",
       "  3          Driver only  \n",
       "  4          Driver only  \n",
       "  ..                 ...  \n",
       "  82                None  \n",
       "  83                None  \n",
       "  84                None  \n",
       "  85         Driver only  \n",
       "  86  Driver & Passenger  \n",
       "  \n",
       "  [87 rows x 7 columns],\n",
       "      Fuel.tank.capacity  Width  Wheelbase  Length  Rev.per.mile  MPG.city  \\\n",
       "  0                 13.2     68        102     177          2890        25   \n",
       "  1                 18.0     71        115     195          2335        18   \n",
       "  2                 16.9     67        102     180          2280        20   \n",
       "  3                 21.1     70        106     193          2535        19   \n",
       "  4                 21.1     69        109     186          2545        22   \n",
       "  ..                 ...    ...        ...     ...           ...       ...   \n",
       "  82                21.1     72        115     187          2915        17   \n",
       "  83                18.5     67        103     180          2685        21   \n",
       "  84                18.5     66         97     159          2385        18   \n",
       "  85                15.8     67        104     190          2215        21   \n",
       "  86                19.3     69        105     184          2310        20   \n",
       "  \n",
       "                 AirBags DriveTrain  \n",
       "  0                 None      Front  \n",
       "  1   Driver & Passenger      Front  \n",
       "  2          Driver only      Front  \n",
       "  3          Driver only      Front  \n",
       "  4          Driver only       Rear  \n",
       "  ..                 ...        ...  \n",
       "  82                None      Front  \n",
       "  83                None      Front  \n",
       "  84                None      Front  \n",
       "  85         Driver only       Rear  \n",
       "  86  Driver & Passenger      Front  \n",
       "  \n",
       "  [87 rows x 8 columns],\n",
       "      Fuel.tank.capacity  Width  Wheelbase  Length  Rev.per.mile  MPG.city  \\\n",
       "  0                 13.2     68        102     177          2890        25   \n",
       "  1                 18.0     71        115     195          2335        18   \n",
       "  2                 16.9     67        102     180          2280        20   \n",
       "  3                 21.1     70        106     193          2535        19   \n",
       "  4                 21.1     69        109     186          2545        22   \n",
       "  ..                 ...    ...        ...     ...           ...       ...   \n",
       "  82                21.1     72        115     187          2915        17   \n",
       "  83                18.5     67        103     180          2685        21   \n",
       "  84                18.5     66         97     159          2385        18   \n",
       "  85                15.8     67        104     190          2215        21   \n",
       "  86                19.3     69        105     184          2310        20   \n",
       "  \n",
       "                 AirBags DriveTrain Cylinders  \n",
       "  0                 None      Front         4  \n",
       "  1   Driver & Passenger      Front         6  \n",
       "  2          Driver only      Front         6  \n",
       "  3          Driver only      Front         6  \n",
       "  4          Driver only       Rear         4  \n",
       "  ..                 ...        ...       ...  \n",
       "  82                None      Front         5  \n",
       "  83                None      Front         4  \n",
       "  84                None      Front         6  \n",
       "  85         Driver only       Rear         4  \n",
       "  86  Driver & Passenger      Front         5  \n",
       "  \n",
       "  [87 rows x 9 columns],\n",
       "      Fuel.tank.capacity  Width  Wheelbase  Length  Rev.per.mile  MPG.city  \\\n",
       "  0                 13.2     68        102     177          2890        25   \n",
       "  1                 18.0     71        115     195          2335        18   \n",
       "  2                 16.9     67        102     180          2280        20   \n",
       "  3                 21.1     70        106     193          2535        19   \n",
       "  4                 21.1     69        109     186          2545        22   \n",
       "  ..                 ...    ...        ...     ...           ...       ...   \n",
       "  82                21.1     72        115     187          2915        17   \n",
       "  83                18.5     67        103     180          2685        21   \n",
       "  84                18.5     66         97     159          2385        18   \n",
       "  85                15.8     67        104     190          2215        21   \n",
       "  86                19.3     69        105     184          2310        20   \n",
       "  \n",
       "                 AirBags DriveTrain Man.trans.avail  \n",
       "  0                 None      Front             Yes  \n",
       "  1   Driver & Passenger      Front             Yes  \n",
       "  2          Driver only      Front             Yes  \n",
       "  3          Driver only      Front             Yes  \n",
       "  4          Driver only       Rear             Yes  \n",
       "  ..                 ...        ...             ...  \n",
       "  82                None      Front             Yes  \n",
       "  83                None      Front             Yes  \n",
       "  84                None      Front             Yes  \n",
       "  85         Driver only       Rear             Yes  \n",
       "  86  Driver & Passenger      Front             Yes  \n",
       "  \n",
       "  [87 rows x 9 columns]])"
      ]
     },
     "execution_count": 102,
     "metadata": {},
     "output_type": "execute_result"
    }
   ],
   "source": [
    "adjlst,varlst,biaslst,modelx"
   ]
  },
  {
   "cell_type": "code",
   "execution_count": 103,
   "id": "5b41adc4",
   "metadata": {},
   "outputs": [
    {
     "data": {
      "text/html": [
       "<div>\n",
       "<style scoped>\n",
       "    .dataframe tbody tr th:only-of-type {\n",
       "        vertical-align: middle;\n",
       "    }\n",
       "\n",
       "    .dataframe tbody tr th {\n",
       "        vertical-align: top;\n",
       "    }\n",
       "\n",
       "    .dataframe thead th {\n",
       "        text-align: right;\n",
       "    }\n",
       "</style>\n",
       "<table border=\"1\" class=\"dataframe\">\n",
       "  <thead>\n",
       "    <tr style=\"text-align: right;\">\n",
       "      <th></th>\n",
       "      <th>0</th>\n",
       "      <th>1</th>\n",
       "      <th>2</th>\n",
       "      <th>3</th>\n",
       "      <th>4</th>\n",
       "      <th>5</th>\n",
       "      <th>6</th>\n",
       "      <th>7</th>\n",
       "      <th>8</th>\n",
       "      <th>9</th>\n",
       "      <th>10</th>\n",
       "      <th>11</th>\n",
       "      <th>12</th>\n",
       "      <th>13</th>\n",
       "      <th>14</th>\n",
       "    </tr>\n",
       "  </thead>\n",
       "  <tbody>\n",
       "    <tr>\n",
       "      <th>adj</th>\n",
       "      <td>0.865082</td>\n",
       "      <td>0.941734</td>\n",
       "      <td>0.970025</td>\n",
       "      <td>0.966762</td>\n",
       "      <td>0.970051</td>\n",
       "      <td>0.968457</td>\n",
       "      <td>0.968007</td>\n",
       "      <td>0.974473</td>\n",
       "      <td>0.970317</td>\n",
       "      <td>0.970610</td>\n",
       "      <td>0.959801</td>\n",
       "      <td>0.970000</td>\n",
       "      <td>0.972059</td>\n",
       "      <td>0.940966</td>\n",
       "      <td>0.972966</td>\n",
       "    </tr>\n",
       "    <tr>\n",
       "      <th>bias</th>\n",
       "      <td>213.012267</td>\n",
       "      <td>167.495641</td>\n",
       "      <td>145.682590</td>\n",
       "      <td>139.593231</td>\n",
       "      <td>145.661425</td>\n",
       "      <td>142.582254</td>\n",
       "      <td>133.260998</td>\n",
       "      <td>143.236889</td>\n",
       "      <td>123.314008</td>\n",
       "      <td>132.868221</td>\n",
       "      <td>120.890705</td>\n",
       "      <td>132.623935</td>\n",
       "      <td>128.790567</td>\n",
       "      <td>107.894303</td>\n",
       "      <td>129.371253</td>\n",
       "    </tr>\n",
       "    <tr>\n",
       "      <th>var</th>\n",
       "      <td>199.602366</td>\n",
       "      <td>133.062604</td>\n",
       "      <td>104.111607</td>\n",
       "      <td>100.379725</td>\n",
       "      <td>104.839154</td>\n",
       "      <td>104.665884</td>\n",
       "      <td>108.975473</td>\n",
       "      <td>92.550893</td>\n",
       "      <td>85.251289</td>\n",
       "      <td>90.849303</td>\n",
       "      <td>105.293353</td>\n",
       "      <td>92.506552</td>\n",
       "      <td>97.472210</td>\n",
       "      <td>129.400847</td>\n",
       "      <td>93.916218</td>\n",
       "    </tr>\n",
       "  </tbody>\n",
       "</table>\n",
       "</div>"
      ],
      "text/plain": [
       "              0           1           2           3           4           5   \\\n",
       "adj     0.865082    0.941734    0.970025    0.966762    0.970051    0.968457   \n",
       "bias  213.012267  167.495641  145.682590  139.593231  145.661425  142.582254   \n",
       "var   199.602366  133.062604  104.111607  100.379725  104.839154  104.665884   \n",
       "\n",
       "              6           7           8           9           10          11  \\\n",
       "adj     0.968007    0.974473    0.970317    0.970610    0.959801    0.970000   \n",
       "bias  133.260998  143.236889  123.314008  132.868221  120.890705  132.623935   \n",
       "var   108.975473   92.550893   85.251289   90.849303  105.293353   92.506552   \n",
       "\n",
       "              12          13          14  \n",
       "adj     0.972059    0.940966    0.972966  \n",
       "bias  128.790567  107.894303  129.371253  \n",
       "var    97.472210  129.400847   93.916218  "
      ]
     },
     "execution_count": 103,
     "metadata": {},
     "output_type": "execute_result"
    }
   ],
   "source": [
    "\n",
    "data = {\n",
    "  \"adj\": adjlst,\n",
    "  \"bias\": biaslst,\n",
    "  \"var\":varlst\n",
    "}\n",
    "df = pd.DataFrame([adjlst,biaslst,varlst], index = [\"adj\", \"bias\", \"var\"])\n",
    "df"
   ]
  },
  {
   "cell_type": "code",
   "execution_count": null,
   "id": "698f1bb0",
   "metadata": {},
   "outputs": [],
   "source": []
  }
 ],
 "metadata": {
  "kernelspec": {
   "display_name": "Python 3 (ipykernel)",
   "language": "python",
   "name": "python3"
  },
  "language_info": {
   "codemirror_mode": {
    "name": "ipython",
    "version": 3
   },
   "file_extension": ".py",
   "mimetype": "text/x-python",
   "name": "python",
   "nbconvert_exporter": "python",
   "pygments_lexer": "ipython3",
   "version": "3.9.12"
  }
 },
 "nbformat": 4,
 "nbformat_minor": 5
}
