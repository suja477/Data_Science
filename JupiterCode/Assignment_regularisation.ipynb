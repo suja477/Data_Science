{
 "cells": [
  {
   "cell_type": "raw",
   "id": "7c79b60e",
   "metadata": {},
   "source": [
    "Problem Statment:\n",
    "\n",
    "Car Price Prediction:\n",
    "---------------------\n",
    "Dataset: Cars93.csv\n",
    "Y --> Price\n",
    "X --> infer\n",
    "Use BW elemination + ANOVA + Correlation in model to select features\n",
    "Outliers | Missing Data --> Treatment to be done\n",
    "Random state: 31\n",
    "Find best alpha with this random state\n",
    "----------------------\n",
    "Use GridSearchCV with cv = 7 and find best alpha.\n",
    "\n",
    "----------------------\n",
    "Find best predictors, with best alpha and create a model(Ridge|Lasso) to make predictions on test Data(Use Random state 43 here)\n",
    "\n",
    "Find out test Error.\n",
    "Test Error will be used for final result comparison.\n"
   ]
  },
  {
   "cell_type": "code",
   "execution_count": 2,
   "id": "1118048e",
   "metadata": {},
   "outputs": [],
   "source": [
    "import pandas as pd"
   ]
  },
  {
   "cell_type": "code",
   "execution_count": 3,
   "id": "e8887a5b",
   "metadata": {},
   "outputs": [],
   "source": [
    "A=pd.read_csv(\"C:/Users/Suja4/OneDrive/Documents/Data Science/Dataset/Cars93.csv\")"
   ]
  },
  {
   "cell_type": "code",
   "execution_count": 4,
   "id": "e3a01e5a",
   "metadata": {},
   "outputs": [
    {
     "data": {
      "text/html": [
       "<div>\n",
       "<style scoped>\n",
       "    .dataframe tbody tr th:only-of-type {\n",
       "        vertical-align: middle;\n",
       "    }\n",
       "\n",
       "    .dataframe tbody tr th {\n",
       "        vertical-align: top;\n",
       "    }\n",
       "\n",
       "    .dataframe thead th {\n",
       "        text-align: right;\n",
       "    }\n",
       "</style>\n",
       "<table border=\"1\" class=\"dataframe\">\n",
       "  <thead>\n",
       "    <tr style=\"text-align: right;\">\n",
       "      <th></th>\n",
       "      <th>id</th>\n",
       "      <th>Manufacturer</th>\n",
       "      <th>Model</th>\n",
       "      <th>Type</th>\n",
       "      <th>Min.Price</th>\n",
       "      <th>Price</th>\n",
       "      <th>Max.Price</th>\n",
       "      <th>MPG.city</th>\n",
       "      <th>MPG.highway</th>\n",
       "      <th>AirBags</th>\n",
       "      <th>...</th>\n",
       "      <th>Passengers</th>\n",
       "      <th>Length</th>\n",
       "      <th>Wheelbase</th>\n",
       "      <th>Width</th>\n",
       "      <th>Turn.circle</th>\n",
       "      <th>Rear.seat.room</th>\n",
       "      <th>Luggage.room</th>\n",
       "      <th>Weight</th>\n",
       "      <th>Origin</th>\n",
       "      <th>Make</th>\n",
       "    </tr>\n",
       "  </thead>\n",
       "  <tbody>\n",
       "    <tr>\n",
       "      <th>0</th>\n",
       "      <td>1</td>\n",
       "      <td>Acura</td>\n",
       "      <td>Integra</td>\n",
       "      <td>Small</td>\n",
       "      <td>12.9</td>\n",
       "      <td>15.9</td>\n",
       "      <td>18.8</td>\n",
       "      <td>25</td>\n",
       "      <td>31</td>\n",
       "      <td>None</td>\n",
       "      <td>...</td>\n",
       "      <td>5</td>\n",
       "      <td>177</td>\n",
       "      <td>102</td>\n",
       "      <td>68</td>\n",
       "      <td>37</td>\n",
       "      <td>26.5</td>\n",
       "      <td>11.0</td>\n",
       "      <td>2705</td>\n",
       "      <td>non-USA</td>\n",
       "      <td>Acura Integra</td>\n",
       "    </tr>\n",
       "    <tr>\n",
       "      <th>1</th>\n",
       "      <td>2</td>\n",
       "      <td>Acura</td>\n",
       "      <td>Legend</td>\n",
       "      <td>Midsize</td>\n",
       "      <td>29.2</td>\n",
       "      <td>33.9</td>\n",
       "      <td>38.7</td>\n",
       "      <td>18</td>\n",
       "      <td>25</td>\n",
       "      <td>Driver &amp; Passenger</td>\n",
       "      <td>...</td>\n",
       "      <td>5</td>\n",
       "      <td>195</td>\n",
       "      <td>115</td>\n",
       "      <td>71</td>\n",
       "      <td>38</td>\n",
       "      <td>30.0</td>\n",
       "      <td>15.0</td>\n",
       "      <td>3560</td>\n",
       "      <td>non-USA</td>\n",
       "      <td>Acura Legend</td>\n",
       "    </tr>\n",
       "    <tr>\n",
       "      <th>2</th>\n",
       "      <td>3</td>\n",
       "      <td>Audi</td>\n",
       "      <td>90</td>\n",
       "      <td>Compact</td>\n",
       "      <td>25.9</td>\n",
       "      <td>29.1</td>\n",
       "      <td>32.3</td>\n",
       "      <td>20</td>\n",
       "      <td>26</td>\n",
       "      <td>Driver only</td>\n",
       "      <td>...</td>\n",
       "      <td>5</td>\n",
       "      <td>180</td>\n",
       "      <td>102</td>\n",
       "      <td>67</td>\n",
       "      <td>37</td>\n",
       "      <td>28.0</td>\n",
       "      <td>14.0</td>\n",
       "      <td>3375</td>\n",
       "      <td>non-USA</td>\n",
       "      <td>Audi 90</td>\n",
       "    </tr>\n",
       "    <tr>\n",
       "      <th>3</th>\n",
       "      <td>4</td>\n",
       "      <td>Audi</td>\n",
       "      <td>100</td>\n",
       "      <td>Midsize</td>\n",
       "      <td>30.8</td>\n",
       "      <td>37.7</td>\n",
       "      <td>44.6</td>\n",
       "      <td>19</td>\n",
       "      <td>26</td>\n",
       "      <td>NaN</td>\n",
       "      <td>...</td>\n",
       "      <td>6</td>\n",
       "      <td>193</td>\n",
       "      <td>106</td>\n",
       "      <td>70</td>\n",
       "      <td>37</td>\n",
       "      <td>31.0</td>\n",
       "      <td>17.0</td>\n",
       "      <td>3405</td>\n",
       "      <td>non-USA</td>\n",
       "      <td>Audi 100</td>\n",
       "    </tr>\n",
       "    <tr>\n",
       "      <th>4</th>\n",
       "      <td>5</td>\n",
       "      <td>BMW</td>\n",
       "      <td>535i</td>\n",
       "      <td>Midsize</td>\n",
       "      <td>23.7</td>\n",
       "      <td>30.0</td>\n",
       "      <td>36.2</td>\n",
       "      <td>22</td>\n",
       "      <td>30</td>\n",
       "      <td>Driver only</td>\n",
       "      <td>...</td>\n",
       "      <td>4</td>\n",
       "      <td>186</td>\n",
       "      <td>109</td>\n",
       "      <td>69</td>\n",
       "      <td>39</td>\n",
       "      <td>27.0</td>\n",
       "      <td>13.0</td>\n",
       "      <td>3640</td>\n",
       "      <td>non-USA</td>\n",
       "      <td>BMW 535i</td>\n",
       "    </tr>\n",
       "    <tr>\n",
       "      <th>...</th>\n",
       "      <td>...</td>\n",
       "      <td>...</td>\n",
       "      <td>...</td>\n",
       "      <td>...</td>\n",
       "      <td>...</td>\n",
       "      <td>...</td>\n",
       "      <td>...</td>\n",
       "      <td>...</td>\n",
       "      <td>...</td>\n",
       "      <td>...</td>\n",
       "      <td>...</td>\n",
       "      <td>...</td>\n",
       "      <td>...</td>\n",
       "      <td>...</td>\n",
       "      <td>...</td>\n",
       "      <td>...</td>\n",
       "      <td>...</td>\n",
       "      <td>...</td>\n",
       "      <td>...</td>\n",
       "      <td>...</td>\n",
       "      <td>...</td>\n",
       "    </tr>\n",
       "    <tr>\n",
       "      <th>88</th>\n",
       "      <td>89</td>\n",
       "      <td>Volkswagen</td>\n",
       "      <td>Eurovan</td>\n",
       "      <td>Van</td>\n",
       "      <td>16.6</td>\n",
       "      <td>19.7</td>\n",
       "      <td>22.7</td>\n",
       "      <td>17</td>\n",
       "      <td>21</td>\n",
       "      <td>None</td>\n",
       "      <td>...</td>\n",
       "      <td>7</td>\n",
       "      <td>187</td>\n",
       "      <td>115</td>\n",
       "      <td>72</td>\n",
       "      <td>38</td>\n",
       "      <td>34.0</td>\n",
       "      <td>NaN</td>\n",
       "      <td>3960</td>\n",
       "      <td>non-USA</td>\n",
       "      <td>Volkswagen Eurovan</td>\n",
       "    </tr>\n",
       "    <tr>\n",
       "      <th>89</th>\n",
       "      <td>90</td>\n",
       "      <td>Volkswagen</td>\n",
       "      <td>Passat</td>\n",
       "      <td>Compact</td>\n",
       "      <td>17.6</td>\n",
       "      <td>20.0</td>\n",
       "      <td>22.4</td>\n",
       "      <td>21</td>\n",
       "      <td>30</td>\n",
       "      <td>None</td>\n",
       "      <td>...</td>\n",
       "      <td>5</td>\n",
       "      <td>180</td>\n",
       "      <td>103</td>\n",
       "      <td>67</td>\n",
       "      <td>35</td>\n",
       "      <td>31.5</td>\n",
       "      <td>14.0</td>\n",
       "      <td>2985</td>\n",
       "      <td>non-USA</td>\n",
       "      <td>Volkswagen Passat</td>\n",
       "    </tr>\n",
       "    <tr>\n",
       "      <th>90</th>\n",
       "      <td>91</td>\n",
       "      <td>Volkswagen</td>\n",
       "      <td>Corrado</td>\n",
       "      <td>Sporty</td>\n",
       "      <td>22.9</td>\n",
       "      <td>23.3</td>\n",
       "      <td>23.7</td>\n",
       "      <td>18</td>\n",
       "      <td>25</td>\n",
       "      <td>None</td>\n",
       "      <td>...</td>\n",
       "      <td>4</td>\n",
       "      <td>159</td>\n",
       "      <td>97</td>\n",
       "      <td>66</td>\n",
       "      <td>36</td>\n",
       "      <td>26.0</td>\n",
       "      <td>15.0</td>\n",
       "      <td>2810</td>\n",
       "      <td>non-USA</td>\n",
       "      <td>Volkswagen Corrado</td>\n",
       "    </tr>\n",
       "    <tr>\n",
       "      <th>91</th>\n",
       "      <td>92</td>\n",
       "      <td>Volvo</td>\n",
       "      <td>240</td>\n",
       "      <td>Compact</td>\n",
       "      <td>21.8</td>\n",
       "      <td>22.7</td>\n",
       "      <td>23.5</td>\n",
       "      <td>21</td>\n",
       "      <td>28</td>\n",
       "      <td>Driver only</td>\n",
       "      <td>...</td>\n",
       "      <td>5</td>\n",
       "      <td>190</td>\n",
       "      <td>104</td>\n",
       "      <td>67</td>\n",
       "      <td>37</td>\n",
       "      <td>29.5</td>\n",
       "      <td>14.0</td>\n",
       "      <td>2985</td>\n",
       "      <td>non-USA</td>\n",
       "      <td>Volvo 240</td>\n",
       "    </tr>\n",
       "    <tr>\n",
       "      <th>92</th>\n",
       "      <td>93</td>\n",
       "      <td>Volvo</td>\n",
       "      <td>850</td>\n",
       "      <td>Midsize</td>\n",
       "      <td>24.8</td>\n",
       "      <td>26.7</td>\n",
       "      <td>28.5</td>\n",
       "      <td>20</td>\n",
       "      <td>28</td>\n",
       "      <td>Driver &amp; Passenger</td>\n",
       "      <td>...</td>\n",
       "      <td>5</td>\n",
       "      <td>184</td>\n",
       "      <td>105</td>\n",
       "      <td>69</td>\n",
       "      <td>38</td>\n",
       "      <td>30.0</td>\n",
       "      <td>15.0</td>\n",
       "      <td>3245</td>\n",
       "      <td>non-USA</td>\n",
       "      <td>Volvo 850</td>\n",
       "    </tr>\n",
       "  </tbody>\n",
       "</table>\n",
       "<p>93 rows × 28 columns</p>\n",
       "</div>"
      ],
      "text/plain": [
       "    id Manufacturer    Model     Type  Min.Price  Price  Max.Price  MPG.city  \\\n",
       "0    1        Acura  Integra    Small       12.9   15.9       18.8        25   \n",
       "1    2        Acura   Legend  Midsize       29.2   33.9       38.7        18   \n",
       "2    3         Audi       90  Compact       25.9   29.1       32.3        20   \n",
       "3    4         Audi      100  Midsize       30.8   37.7       44.6        19   \n",
       "4    5          BMW     535i  Midsize       23.7   30.0       36.2        22   \n",
       "..  ..          ...      ...      ...        ...    ...        ...       ...   \n",
       "88  89   Volkswagen  Eurovan      Van       16.6   19.7       22.7        17   \n",
       "89  90   Volkswagen   Passat  Compact       17.6   20.0       22.4        21   \n",
       "90  91   Volkswagen  Corrado   Sporty       22.9   23.3       23.7        18   \n",
       "91  92        Volvo      240  Compact       21.8   22.7       23.5        21   \n",
       "92  93        Volvo      850  Midsize       24.8   26.7       28.5        20   \n",
       "\n",
       "    MPG.highway             AirBags  ... Passengers Length  Wheelbase  Width  \\\n",
       "0            31                None  ...          5    177        102     68   \n",
       "1            25  Driver & Passenger  ...          5    195        115     71   \n",
       "2            26         Driver only  ...          5    180        102     67   \n",
       "3            26                 NaN  ...          6    193        106     70   \n",
       "4            30         Driver only  ...          4    186        109     69   \n",
       "..          ...                 ...  ...        ...    ...        ...    ...   \n",
       "88           21                None  ...          7    187        115     72   \n",
       "89           30                None  ...          5    180        103     67   \n",
       "90           25                None  ...          4    159         97     66   \n",
       "91           28         Driver only  ...          5    190        104     67   \n",
       "92           28  Driver & Passenger  ...          5    184        105     69   \n",
       "\n",
       "    Turn.circle  Rear.seat.room Luggage.room  Weight   Origin  \\\n",
       "0            37            26.5         11.0    2705  non-USA   \n",
       "1            38            30.0         15.0    3560  non-USA   \n",
       "2            37            28.0         14.0    3375  non-USA   \n",
       "3            37            31.0         17.0    3405  non-USA   \n",
       "4            39            27.0         13.0    3640  non-USA   \n",
       "..          ...             ...          ...     ...      ...   \n",
       "88           38            34.0          NaN    3960  non-USA   \n",
       "89           35            31.5         14.0    2985  non-USA   \n",
       "90           36            26.0         15.0    2810  non-USA   \n",
       "91           37            29.5         14.0    2985  non-USA   \n",
       "92           38            30.0         15.0    3245  non-USA   \n",
       "\n",
       "                  Make  \n",
       "0        Acura Integra  \n",
       "1         Acura Legend  \n",
       "2              Audi 90  \n",
       "3             Audi 100  \n",
       "4             BMW 535i  \n",
       "..                 ...  \n",
       "88  Volkswagen Eurovan  \n",
       "89   Volkswagen Passat  \n",
       "90  Volkswagen Corrado  \n",
       "91           Volvo 240  \n",
       "92           Volvo 850  \n",
       "\n",
       "[93 rows x 28 columns]"
      ]
     },
     "execution_count": 4,
     "metadata": {},
     "output_type": "execute_result"
    }
   ],
   "source": [
    "A"
   ]
  },
  {
   "cell_type": "markdown",
   "id": "a123e699",
   "metadata": {},
   "source": [
    "# missing data treatment"
   ]
  },
  {
   "cell_type": "code",
   "execution_count": 5,
   "id": "ebd5a573",
   "metadata": {},
   "outputs": [
    {
     "data": {
      "text/plain": [
       "id                     0\n",
       "Manufacturer           0\n",
       "Model                  0\n",
       "Type                   0\n",
       "Min.Price              0\n",
       "Price                  0\n",
       "Max.Price              0\n",
       "MPG.city               0\n",
       "MPG.highway            0\n",
       "AirBags                4\n",
       "DriveTrain             0\n",
       "Cylinders              0\n",
       "EngineSize             0\n",
       "Horsepower             0\n",
       "RPM                    0\n",
       "Rev.per.mile           0\n",
       "Man.trans.avail        0\n",
       "Fuel.tank.capacity     0\n",
       "Passengers             0\n",
       "Length                 0\n",
       "Wheelbase              0\n",
       "Width                  0\n",
       "Turn.circle            0\n",
       "Rear.seat.room         2\n",
       "Luggage.room          11\n",
       "Weight                 0\n",
       "Origin                 0\n",
       "Make                   0\n",
       "dtype: int64"
      ]
     },
     "execution_count": 5,
     "metadata": {},
     "output_type": "execute_result"
    }
   ],
   "source": [
    "A.isna().sum()"
   ]
  },
  {
   "cell_type": "code",
   "execution_count": 6,
   "id": "3501ef9e",
   "metadata": {},
   "outputs": [],
   "source": [
    "from Wd8pm import replacer\n",
    "    "
   ]
  },
  {
   "cell_type": "code",
   "execution_count": 7,
   "id": "53410395",
   "metadata": {},
   "outputs": [],
   "source": [
    "replacer(A)"
   ]
  },
  {
   "cell_type": "code",
   "execution_count": 8,
   "id": "1c973d9c",
   "metadata": {},
   "outputs": [
    {
     "data": {
      "text/plain": [
       "id                    0\n",
       "Manufacturer          0\n",
       "Model                 0\n",
       "Type                  0\n",
       "Min.Price             0\n",
       "Price                 0\n",
       "Max.Price             0\n",
       "MPG.city              0\n",
       "MPG.highway           0\n",
       "AirBags               0\n",
       "DriveTrain            0\n",
       "Cylinders             0\n",
       "EngineSize            0\n",
       "Horsepower            0\n",
       "RPM                   0\n",
       "Rev.per.mile          0\n",
       "Man.trans.avail       0\n",
       "Fuel.tank.capacity    0\n",
       "Passengers            0\n",
       "Length                0\n",
       "Wheelbase             0\n",
       "Width                 0\n",
       "Turn.circle           0\n",
       "Rear.seat.room        0\n",
       "Luggage.room          0\n",
       "Weight                0\n",
       "Origin                0\n",
       "Make                  0\n",
       "dtype: int64"
      ]
     },
     "execution_count": 8,
     "metadata": {},
     "output_type": "execute_result"
    }
   ],
   "source": [
    "A.isna().sum()"
   ]
  },
  {
   "cell_type": "markdown",
   "id": "14ea84cf",
   "metadata": {},
   "source": [
    "# Outliers removal"
   ]
  },
  {
   "cell_type": "code",
   "execution_count": 9,
   "id": "fb03f760",
   "metadata": {
    "scrolled": true
   },
   "outputs": [],
   "source": [
    "from Wd8pm import OL"
   ]
  },
  {
   "cell_type": "code",
   "execution_count": 10,
   "id": "e73a3fdb",
   "metadata": {},
   "outputs": [
    {
     "data": {
      "text/plain": [
       "[16, 38, 41, 47, 58, 59]"
      ]
     },
     "execution_count": 10,
     "metadata": {},
     "output_type": "execute_result"
    }
   ],
   "source": [
    "OL(A)"
   ]
  },
  {
   "cell_type": "code",
   "execution_count": null,
   "id": "e13734ce",
   "metadata": {},
   "outputs": [],
   "source": []
  },
  {
   "cell_type": "code",
   "execution_count": 11,
   "id": "783c4c12",
   "metadata": {},
   "outputs": [],
   "source": [
    "outlier=OL(A)"
   ]
  },
  {
   "cell_type": "code",
   "execution_count": 12,
   "id": "f78f14bc",
   "metadata": {},
   "outputs": [],
   "source": [
    "A=A.drop(index=outlier,axis=0)"
   ]
  },
  {
   "cell_type": "code",
   "execution_count": 13,
   "id": "3795b7e0",
   "metadata": {},
   "outputs": [
    {
     "data": {
      "text/plain": [
       "(87, 28)"
      ]
     },
     "execution_count": 13,
     "metadata": {},
     "output_type": "execute_result"
    }
   ],
   "source": [
    "A.shape"
   ]
  },
  {
   "cell_type": "code",
   "execution_count": 14,
   "id": "663102dc",
   "metadata": {},
   "outputs": [],
   "source": [
    "A.index=range(0,87)"
   ]
  },
  {
   "cell_type": "markdown",
   "id": "983647d6",
   "metadata": {},
   "source": [
    "# Define X and Y"
   ]
  },
  {
   "cell_type": "code",
   "execution_count": 15,
   "id": "cdb405ee",
   "metadata": {},
   "outputs": [],
   "source": [
    "Y = A[[\"Price\"]]\n",
    "X = A.drop(labels=[\"Price\",\"id\",\"Make\",\"Model\"],axis=1)\n",
    "\n"
   ]
  },
  {
   "cell_type": "markdown",
   "id": "b64c2196",
   "metadata": {},
   "source": [
    "# check correlation"
   ]
  },
  {
   "cell_type": "code",
   "execution_count": 16,
   "id": "a7f13feb",
   "metadata": {},
   "outputs": [
    {
     "data": {
      "text/plain": [
       "MPG.city             -0.703633\n",
       "MPG.highway          -0.626498\n",
       "Rev.per.mile         -0.458679\n",
       "id                   -0.204054\n",
       "RPM                  -0.060176\n",
       "Passengers            0.059701\n",
       "Luggage.room          0.371466\n",
       "Rear.seat.room        0.382788\n",
       "Turn.circle           0.459958\n",
       "Wheelbase             0.499039\n",
       "Width                 0.535804\n",
       "Length                0.536407\n",
       "EngineSize            0.632183\n",
       "Weight                0.689606\n",
       "Fuel.tank.capacity    0.700509\n",
       "Horsepower            0.801048\n",
       "Min.Price             0.975467\n",
       "Max.Price             0.980614\n",
       "Price                 1.000000\n",
       "Name: Price, dtype: float64"
      ]
     },
     "execution_count": 16,
     "metadata": {},
     "output_type": "execute_result"
    }
   ],
   "source": [
    "Q=A.corr()[\"Price\"]\n",
    "Q.sort_values()\n"
   ]
  },
  {
   "cell_type": "code",
   "execution_count": 17,
   "id": "7be0fb84",
   "metadata": {},
   "outputs": [
    {
     "data": {
      "text/plain": [
       "Index(['Min.Price', 'Max.Price', 'MPG.city', 'Horsepower',\n",
       "       'Fuel.tank.capacity'],\n",
       "      dtype='object')"
      ]
     },
     "execution_count": 17,
     "metadata": {},
     "output_type": "execute_result"
    }
   ],
   "source": [
    "Q=Q[Q!=1]\n",
    "Q=Q[(Q<-0.7) |(Q>0.7)]\n",
    "Q.index"
   ]
  },
  {
   "cell_type": "markdown",
   "id": "c336a311",
   "metadata": {},
   "source": [
    "# find categorical "
   ]
  },
  {
   "cell_type": "code",
   "execution_count": 18,
   "id": "44bcb149",
   "metadata": {},
   "outputs": [],
   "source": [
    "con = []\n",
    "cat = []\n",
    "for i in X.columns:\n",
    "    if(X[i].dtypes == \"object\"):\n",
    "        cat.append(i)\n",
    "    else:\n",
    "        con.append(i)\n",
    "        \n",
    "\n"
   ]
  },
  {
   "cell_type": "code",
   "execution_count": 19,
   "id": "99c295a3",
   "metadata": {},
   "outputs": [
    {
     "data": {
      "text/plain": [
       "['Min.Price',\n",
       " 'Max.Price',\n",
       " 'MPG.city',\n",
       " 'MPG.highway',\n",
       " 'EngineSize',\n",
       " 'Horsepower',\n",
       " 'RPM',\n",
       " 'Rev.per.mile',\n",
       " 'Fuel.tank.capacity',\n",
       " 'Passengers',\n",
       " 'Length',\n",
       " 'Wheelbase',\n",
       " 'Width',\n",
       " 'Turn.circle',\n",
       " 'Rear.seat.room',\n",
       " 'Luggage.room',\n",
       " 'Weight']"
      ]
     },
     "execution_count": 19,
     "metadata": {},
     "output_type": "execute_result"
    }
   ],
   "source": [
    "con"
   ]
  },
  {
   "cell_type": "code",
   "execution_count": 20,
   "id": "7aac50f2",
   "metadata": {},
   "outputs": [
    {
     "data": {
      "text/plain": [
       "['Manufacturer',\n",
       " 'Type',\n",
       " 'AirBags',\n",
       " 'DriveTrain',\n",
       " 'Cylinders',\n",
       " 'Man.trans.avail',\n",
       " 'Origin']"
      ]
     },
     "execution_count": 20,
     "metadata": {},
     "output_type": "execute_result"
    }
   ],
   "source": [
    "cat"
   ]
  },
  {
   "cell_type": "code",
   "execution_count": 21,
   "id": "655eff37",
   "metadata": {},
   "outputs": [],
   "source": [
    "from Wd8pm import anova"
   ]
  },
  {
   "cell_type": "markdown",
   "id": "c07ce2f0",
   "metadata": {},
   "source": [
    "# check anova"
   ]
  },
  {
   "cell_type": "code",
   "execution_count": 22,
   "id": "5ff721cd",
   "metadata": {},
   "outputs": [
    {
     "data": {
      "text/html": [
       "<div>\n",
       "<style scoped>\n",
       "    .dataframe tbody tr th:only-of-type {\n",
       "        vertical-align: middle;\n",
       "    }\n",
       "\n",
       "    .dataframe tbody tr th {\n",
       "        vertical-align: top;\n",
       "    }\n",
       "\n",
       "    .dataframe thead th {\n",
       "        text-align: right;\n",
       "    }\n",
       "</style>\n",
       "<table border=\"1\" class=\"dataframe\">\n",
       "  <thead>\n",
       "    <tr style=\"text-align: right;\">\n",
       "      <th></th>\n",
       "      <th>df</th>\n",
       "      <th>sum_sq</th>\n",
       "      <th>mean_sq</th>\n",
       "      <th>F</th>\n",
       "      <th>PR(&gt;F)</th>\n",
       "    </tr>\n",
       "  </thead>\n",
       "  <tbody>\n",
       "    <tr>\n",
       "      <th>Type</th>\n",
       "      <td>5.0</td>\n",
       "      <td>2408.115595</td>\n",
       "      <td>481.623119</td>\n",
       "      <td>11.698636</td>\n",
       "      <td>1.592018e-08</td>\n",
       "    </tr>\n",
       "    <tr>\n",
       "      <th>Residual</th>\n",
       "      <td>81.0</td>\n",
       "      <td>3334.702566</td>\n",
       "      <td>41.169167</td>\n",
       "      <td>NaN</td>\n",
       "      <td>NaN</td>\n",
       "    </tr>\n",
       "  </tbody>\n",
       "</table>\n",
       "</div>"
      ],
      "text/plain": [
       "            df       sum_sq     mean_sq          F        PR(>F)\n",
       "Type       5.0  2408.115595  481.623119  11.698636  1.592018e-08\n",
       "Residual  81.0  3334.702566   41.169167        NaN           NaN"
      ]
     },
     "execution_count": 22,
     "metadata": {},
     "output_type": "execute_result"
    }
   ],
   "source": [
    "anova(\"Price\",\"Type\",A)"
   ]
  },
  {
   "cell_type": "code",
   "execution_count": 23,
   "id": "640bb4c7",
   "metadata": {},
   "outputs": [
    {
     "name": "stderr",
     "output_type": "stream",
     "text": [
      "C:\\Users\\Suja4\\anaconda3\\lib\\site-packages\\statsmodels\\stats\\anova.py:138: RuntimeWarning: divide by zero encountered in double_scalars\n",
      "  (model.ssr / model.df_resid))\n"
     ]
    },
    {
     "data": {
      "text/html": [
       "<div>\n",
       "<style scoped>\n",
       "    .dataframe tbody tr th:only-of-type {\n",
       "        vertical-align: middle;\n",
       "    }\n",
       "\n",
       "    .dataframe tbody tr th {\n",
       "        vertical-align: top;\n",
       "    }\n",
       "\n",
       "    .dataframe thead th {\n",
       "        text-align: right;\n",
       "    }\n",
       "</style>\n",
       "<table border=\"1\" class=\"dataframe\">\n",
       "  <thead>\n",
       "    <tr style=\"text-align: right;\">\n",
       "      <th></th>\n",
       "      <th>df</th>\n",
       "      <th>sum_sq</th>\n",
       "      <th>mean_sq</th>\n",
       "      <th>F</th>\n",
       "      <th>PR(&gt;F)</th>\n",
       "    </tr>\n",
       "  </thead>\n",
       "  <tbody>\n",
       "    <tr>\n",
       "      <th>Model</th>\n",
       "      <td>86.0</td>\n",
       "      <td>5.742818e+03</td>\n",
       "      <td>66.776955</td>\n",
       "      <td>0.0</td>\n",
       "      <td>NaN</td>\n",
       "    </tr>\n",
       "    <tr>\n",
       "      <th>Residual</th>\n",
       "      <td>0.0</td>\n",
       "      <td>9.486210e-26</td>\n",
       "      <td>inf</td>\n",
       "      <td>NaN</td>\n",
       "      <td>NaN</td>\n",
       "    </tr>\n",
       "  </tbody>\n",
       "</table>\n",
       "</div>"
      ],
      "text/plain": [
       "            df        sum_sq    mean_sq    F  PR(>F)\n",
       "Model     86.0  5.742818e+03  66.776955  0.0     NaN\n",
       "Residual   0.0  9.486210e-26        inf  NaN     NaN"
      ]
     },
     "execution_count": 23,
     "metadata": {},
     "output_type": "execute_result"
    }
   ],
   "source": [
    "anova(\"Price\",\"Model\",A)"
   ]
  },
  {
   "cell_type": "code",
   "execution_count": 24,
   "id": "32a14b46",
   "metadata": {},
   "outputs": [
    {
     "data": {
      "text/html": [
       "<div>\n",
       "<style scoped>\n",
       "    .dataframe tbody tr th:only-of-type {\n",
       "        vertical-align: middle;\n",
       "    }\n",
       "\n",
       "    .dataframe tbody tr th {\n",
       "        vertical-align: top;\n",
       "    }\n",
       "\n",
       "    .dataframe thead th {\n",
       "        text-align: right;\n",
       "    }\n",
       "</style>\n",
       "<table border=\"1\" class=\"dataframe\">\n",
       "  <thead>\n",
       "    <tr style=\"text-align: right;\">\n",
       "      <th></th>\n",
       "      <th>df</th>\n",
       "      <th>sum_sq</th>\n",
       "      <th>mean_sq</th>\n",
       "      <th>F</th>\n",
       "      <th>PR(&gt;F)</th>\n",
       "    </tr>\n",
       "  </thead>\n",
       "  <tbody>\n",
       "    <tr>\n",
       "      <th>Origin</th>\n",
       "      <td>1.0</td>\n",
       "      <td>8.297207</td>\n",
       "      <td>8.297207</td>\n",
       "      <td>0.122985</td>\n",
       "      <td>0.726686</td>\n",
       "    </tr>\n",
       "    <tr>\n",
       "      <th>Residual</th>\n",
       "      <td>85.0</td>\n",
       "      <td>5734.520954</td>\n",
       "      <td>67.464952</td>\n",
       "      <td>NaN</td>\n",
       "      <td>NaN</td>\n",
       "    </tr>\n",
       "  </tbody>\n",
       "</table>\n",
       "</div>"
      ],
      "text/plain": [
       "            df       sum_sq    mean_sq         F    PR(>F)\n",
       "Origin     1.0     8.297207   8.297207  0.122985  0.726686\n",
       "Residual  85.0  5734.520954  67.464952       NaN       NaN"
      ]
     },
     "execution_count": 24,
     "metadata": {},
     "output_type": "execute_result"
    }
   ],
   "source": [
    "anova(\"Price\",\"Origin\",A)"
   ]
  },
  {
   "cell_type": "code",
   "execution_count": 25,
   "id": "29cab887",
   "metadata": {},
   "outputs": [
    {
     "data": {
      "text/html": [
       "<div>\n",
       "<style scoped>\n",
       "    .dataframe tbody tr th:only-of-type {\n",
       "        vertical-align: middle;\n",
       "    }\n",
       "\n",
       "    .dataframe tbody tr th {\n",
       "        vertical-align: top;\n",
       "    }\n",
       "\n",
       "    .dataframe thead th {\n",
       "        text-align: right;\n",
       "    }\n",
       "</style>\n",
       "<table border=\"1\" class=\"dataframe\">\n",
       "  <thead>\n",
       "    <tr style=\"text-align: right;\">\n",
       "      <th></th>\n",
       "      <th>df</th>\n",
       "      <th>sum_sq</th>\n",
       "      <th>mean_sq</th>\n",
       "      <th>F</th>\n",
       "      <th>PR(&gt;F)</th>\n",
       "    </tr>\n",
       "  </thead>\n",
       "  <tbody>\n",
       "    <tr>\n",
       "      <th>Manufacturer</th>\n",
       "      <td>30.0</td>\n",
       "      <td>3468.619673</td>\n",
       "      <td>115.620656</td>\n",
       "      <td>2.84705</td>\n",
       "      <td>0.000355</td>\n",
       "    </tr>\n",
       "    <tr>\n",
       "      <th>Residual</th>\n",
       "      <td>56.0</td>\n",
       "      <td>2274.198488</td>\n",
       "      <td>40.610687</td>\n",
       "      <td>NaN</td>\n",
       "      <td>NaN</td>\n",
       "    </tr>\n",
       "  </tbody>\n",
       "</table>\n",
       "</div>"
      ],
      "text/plain": [
       "                df       sum_sq     mean_sq        F    PR(>F)\n",
       "Manufacturer  30.0  3468.619673  115.620656  2.84705  0.000355\n",
       "Residual      56.0  2274.198488   40.610687      NaN       NaN"
      ]
     },
     "execution_count": 25,
     "metadata": {},
     "output_type": "execute_result"
    }
   ],
   "source": [
    "\n",
    "anova(\"Price\",\"Manufacturer\",A)"
   ]
  },
  {
   "cell_type": "code",
   "execution_count": 26,
   "id": "f883d49e",
   "metadata": {},
   "outputs": [
    {
     "name": "stderr",
     "output_type": "stream",
     "text": [
      "C:\\Users\\Suja4\\anaconda3\\lib\\site-packages\\statsmodels\\stats\\anova.py:138: RuntimeWarning: divide by zero encountered in double_scalars\n",
      "  (model.ssr / model.df_resid))\n"
     ]
    },
    {
     "data": {
      "text/html": [
       "<div>\n",
       "<style scoped>\n",
       "    .dataframe tbody tr th:only-of-type {\n",
       "        vertical-align: middle;\n",
       "    }\n",
       "\n",
       "    .dataframe tbody tr th {\n",
       "        vertical-align: top;\n",
       "    }\n",
       "\n",
       "    .dataframe thead th {\n",
       "        text-align: right;\n",
       "    }\n",
       "</style>\n",
       "<table border=\"1\" class=\"dataframe\">\n",
       "  <thead>\n",
       "    <tr style=\"text-align: right;\">\n",
       "      <th></th>\n",
       "      <th>df</th>\n",
       "      <th>sum_sq</th>\n",
       "      <th>mean_sq</th>\n",
       "      <th>F</th>\n",
       "      <th>PR(&gt;F)</th>\n",
       "    </tr>\n",
       "  </thead>\n",
       "  <tbody>\n",
       "    <tr>\n",
       "      <th>Make</th>\n",
       "      <td>86.0</td>\n",
       "      <td>5.742818e+03</td>\n",
       "      <td>66.776955</td>\n",
       "      <td>0.0</td>\n",
       "      <td>NaN</td>\n",
       "    </tr>\n",
       "    <tr>\n",
       "      <th>Residual</th>\n",
       "      <td>0.0</td>\n",
       "      <td>6.783257e-26</td>\n",
       "      <td>inf</td>\n",
       "      <td>NaN</td>\n",
       "      <td>NaN</td>\n",
       "    </tr>\n",
       "  </tbody>\n",
       "</table>\n",
       "</div>"
      ],
      "text/plain": [
       "            df        sum_sq    mean_sq    F  PR(>F)\n",
       "Make      86.0  5.742818e+03  66.776955  0.0     NaN\n",
       "Residual   0.0  6.783257e-26        inf  NaN     NaN"
      ]
     },
     "execution_count": 26,
     "metadata": {},
     "output_type": "execute_result"
    }
   ],
   "source": [
    "anova(\"Price\",\"Make\",A)"
   ]
  },
  {
   "cell_type": "markdown",
   "id": "926ef4b7",
   "metadata": {},
   "source": [
    "# final predictors"
   ]
  },
  {
   "cell_type": "code",
   "execution_count": 27,
   "id": "bade6761",
   "metadata": {},
   "outputs": [],
   "source": [
    "Y = A[[\"Price\"]]\n",
    "X = A[['MPG.city','Horsepower','Fuel.tank.capacity','Manufacturer','Type','AirBags',\n",
    " 'DriveTrain', 'Cylinders','Man.trans.avail']]"
   ]
  },
  {
   "cell_type": "code",
   "execution_count": 28,
   "id": "1efd87ac",
   "metadata": {},
   "outputs": [],
   "source": [
    "con = []\n",
    "cat = []\n",
    "for i in X.columns:\n",
    "    if(X[i].dtypes == \"object\"):\n",
    "        cat.append(i)\n",
    "    else:\n",
    "        con.append(i)\n",
    "        "
   ]
  },
  {
   "cell_type": "code",
   "execution_count": 29,
   "id": "0722334b",
   "metadata": {},
   "outputs": [],
   "source": [
    "X1 = pd.get_dummies(X[cat])\n",
    "from sklearn.preprocessing import StandardScaler\n",
    "ss = StandardScaler()\n",
    "X2 = pd.DataFrame(ss.fit_transform(X[con]),columns=con)\n",
    "Xnew = X2.join(X1)"
   ]
  },
  {
   "cell_type": "code",
   "execution_count": 30,
   "id": "cc1be0f5",
   "metadata": {},
   "outputs": [
    {
     "data": {
      "text/html": [
       "<table class=\"simpletable\">\n",
       "<caption>OLS Regression Results</caption>\n",
       "<tr>\n",
       "  <th>Dep. Variable:</th>          <td>Price</td>      <th>  R-squared:         </th> <td>   0.979</td>\n",
       "</tr>\n",
       "<tr>\n",
       "  <th>Model:</th>                   <td>OLS</td>       <th>  Adj. R-squared:    </th> <td>   0.929</td>\n",
       "</tr>\n",
       "<tr>\n",
       "  <th>Method:</th>             <td>Least Squares</td>  <th>  F-statistic:       </th> <td>   19.44</td>\n",
       "</tr>\n",
       "<tr>\n",
       "  <th>Date:</th>             <td>Wed, 05 Oct 2022</td> <th>  Prob (F-statistic):</th> <td>9.86e-10</td>\n",
       "</tr>\n",
       "<tr>\n",
       "  <th>Time:</th>                 <td>20:09:28</td>     <th>  Log-Likelihood:    </th> <td> -110.83</td>\n",
       "</tr>\n",
       "<tr>\n",
       "  <th>No. Observations:</th>      <td>    69</td>      <th>  AIC:               </th> <td>   319.7</td>\n",
       "</tr>\n",
       "<tr>\n",
       "  <th>Df Residuals:</th>          <td>    20</td>      <th>  BIC:               </th> <td>   429.1</td>\n",
       "</tr>\n",
       "<tr>\n",
       "  <th>Df Model:</th>              <td>    48</td>      <th>                     </th>     <td> </td>   \n",
       "</tr>\n",
       "<tr>\n",
       "  <th>Covariance Type:</th>      <td>nonrobust</td>    <th>                     </th>     <td> </td>   \n",
       "</tr>\n",
       "</table>\n",
       "<table class=\"simpletable\">\n",
       "<tr>\n",
       "               <td></td>                 <th>coef</th>     <th>std err</th>      <th>t</th>      <th>P>|t|</th>  <th>[0.025</th>    <th>0.975]</th>  \n",
       "</tr>\n",
       "<tr>\n",
       "  <th>const</th>                      <td>    7.8976</td> <td>    0.623</td> <td>   12.674</td> <td> 0.000</td> <td>    6.598</td> <td>    9.197</td>\n",
       "</tr>\n",
       "<tr>\n",
       "  <th>MPG.city</th>                   <td>    1.7751</td> <td>    1.238</td> <td>    1.434</td> <td> 0.167</td> <td>   -0.807</td> <td>    4.358</td>\n",
       "</tr>\n",
       "<tr>\n",
       "  <th>Horsepower</th>                 <td>    3.1993</td> <td>    1.055</td> <td>    3.034</td> <td> 0.007</td> <td>    1.000</td> <td>    5.399</td>\n",
       "</tr>\n",
       "<tr>\n",
       "  <th>Fuel.tank.capacity</th>         <td>    1.4702</td> <td>    1.260</td> <td>    1.166</td> <td> 0.257</td> <td>   -1.159</td> <td>    4.100</td>\n",
       "</tr>\n",
       "<tr>\n",
       "  <th>Manufacturer_Acura</th>         <td>    8.1251</td> <td>    3.326</td> <td>    2.443</td> <td> 0.024</td> <td>    1.186</td> <td>   15.064</td>\n",
       "</tr>\n",
       "<tr>\n",
       "  <th>Manufacturer_Audi</th>          <td>    9.7142</td> <td>    3.268</td> <td>    2.973</td> <td> 0.008</td> <td>    2.898</td> <td>   16.530</td>\n",
       "</tr>\n",
       "<tr>\n",
       "  <th>Manufacturer_BMW</th>           <td>   -3.6213</td> <td>    4.305</td> <td>   -0.841</td> <td> 0.410</td> <td>  -12.601</td> <td>    5.359</td>\n",
       "</tr>\n",
       "<tr>\n",
       "  <th>Manufacturer_Buick</th>         <td>   -4.9879</td> <td>    2.017</td> <td>   -2.472</td> <td> 0.023</td> <td>   -9.196</td> <td>   -0.779</td>\n",
       "</tr>\n",
       "<tr>\n",
       "  <th>Manufacturer_Cadillac</th>      <td>   16.4916</td> <td>    3.740</td> <td>    4.409</td> <td> 0.000</td> <td>    8.689</td> <td>   24.294</td>\n",
       "</tr>\n",
       "<tr>\n",
       "  <th>Manufacturer_Chevrolet</th>     <td>   -4.6570</td> <td>    1.387</td> <td>   -3.358</td> <td> 0.003</td> <td>   -7.549</td> <td>   -1.764</td>\n",
       "</tr>\n",
       "<tr>\n",
       "  <th>Manufacturer_Chrylser</th>      <td>   -5.0814</td> <td>    2.806</td> <td>   -1.811</td> <td> 0.085</td> <td>  -10.935</td> <td>    0.772</td>\n",
       "</tr>\n",
       "<tr>\n",
       "  <th>Manufacturer_Chrysler</th>      <td>    3.2909</td> <td>    2.185</td> <td>    1.506</td> <td> 0.148</td> <td>   -1.268</td> <td>    7.850</td>\n",
       "</tr>\n",
       "<tr>\n",
       "  <th>Manufacturer_Dodge</th>         <td>   -3.2815</td> <td>    1.721</td> <td>   -1.907</td> <td> 0.071</td> <td>   -6.871</td> <td>    0.308</td>\n",
       "</tr>\n",
       "<tr>\n",
       "  <th>Manufacturer_Eagle</th>         <td>   -4.5657</td> <td>    1.901</td> <td>   -2.402</td> <td> 0.026</td> <td>   -8.531</td> <td>   -0.600</td>\n",
       "</tr>\n",
       "<tr>\n",
       "  <th>Manufacturer_Ford</th>          <td>   -3.2173</td> <td>    1.022</td> <td>   -3.148</td> <td> 0.005</td> <td>   -5.349</td> <td>   -1.085</td>\n",
       "</tr>\n",
       "<tr>\n",
       "  <th>Manufacturer_Geo</th>           <td>   -4.1096</td> <td>    2.843</td> <td>   -1.445</td> <td> 0.164</td> <td>  -10.040</td> <td>    1.821</td>\n",
       "</tr>\n",
       "<tr>\n",
       "  <th>Manufacturer_Honda</th>         <td>    0.9395</td> <td>    2.334</td> <td>    0.403</td> <td> 0.692</td> <td>   -3.929</td> <td>    5.808</td>\n",
       "</tr>\n",
       "<tr>\n",
       "  <th>Manufacturer_Hyundai</th>       <td>   -3.8975</td> <td>    1.675</td> <td>   -2.326</td> <td> 0.031</td> <td>   -7.393</td> <td>   -0.403</td>\n",
       "</tr>\n",
       "<tr>\n",
       "  <th>Manufacturer_Lexus</th>         <td>    2.1003</td> <td>    2.714</td> <td>    0.774</td> <td> 0.448</td> <td>   -3.560</td> <td>    7.761</td>\n",
       "</tr>\n",
       "<tr>\n",
       "  <th>Manufacturer_Lincoln</th>       <td>   12.0976</td> <td>    1.954</td> <td>    6.192</td> <td> 0.000</td> <td>    8.022</td> <td>   16.173</td>\n",
       "</tr>\n",
       "<tr>\n",
       "  <th>Manufacturer_Mazda</th>         <td>   -2.6115</td> <td>    2.405</td> <td>   -1.086</td> <td> 0.290</td> <td>   -7.628</td> <td>    2.405</td>\n",
       "</tr>\n",
       "<tr>\n",
       "  <th>Manufacturer_Mercedes-Benz</th> <td>   13.1060</td> <td>    3.032</td> <td>    4.323</td> <td> 0.000</td> <td>    6.781</td> <td>   19.431</td>\n",
       "</tr>\n",
       "<tr>\n",
       "  <th>Manufacturer_Mercury</th>       <td>  -11.1609</td> <td>    3.718</td> <td>   -3.002</td> <td> 0.007</td> <td>  -18.917</td> <td>   -3.405</td>\n",
       "</tr>\n",
       "<tr>\n",
       "  <th>Manufacturer_Mitsubishi</th>    <td>   -2.9420</td> <td>    2.372</td> <td>   -1.240</td> <td> 0.229</td> <td>   -7.890</td> <td>    2.006</td>\n",
       "</tr>\n",
       "<tr>\n",
       "  <th>Manufacturer_Nissan</th>        <td>   -3.3578</td> <td>    1.822</td> <td>   -1.843</td> <td> 0.080</td> <td>   -7.158</td> <td>    0.443</td>\n",
       "</tr>\n",
       "<tr>\n",
       "  <th>Manufacturer_Oldsmobile</th>    <td>   -5.4466</td> <td>    2.232</td> <td>   -2.440</td> <td> 0.024</td> <td>  -10.103</td> <td>   -0.790</td>\n",
       "</tr>\n",
       "<tr>\n",
       "  <th>Manufacturer_Plymouth</th>      <td>   -1.4196</td> <td>    4.732</td> <td>   -0.300</td> <td> 0.767</td> <td>  -11.291</td> <td>    8.452</td>\n",
       "</tr>\n",
       "<tr>\n",
       "  <th>Manufacturer_Pontiac</th>       <td>   -2.8223</td> <td>    1.409</td> <td>   -2.003</td> <td> 0.059</td> <td>   -5.762</td> <td>    0.117</td>\n",
       "</tr>\n",
       "<tr>\n",
       "  <th>Manufacturer_Saab</th>          <td>   10.7065</td> <td>    2.694</td> <td>    3.974</td> <td> 0.001</td> <td>    5.086</td> <td>   16.327</td>\n",
       "</tr>\n",
       "<tr>\n",
       "  <th>Manufacturer_Saturn</th>        <td>   -1.0334</td> <td>    2.625</td> <td>   -0.394</td> <td> 0.698</td> <td>   -6.508</td> <td>    4.442</td>\n",
       "</tr>\n",
       "<tr>\n",
       "  <th>Manufacturer_Subaru</th>        <td>    0.0617</td> <td>    3.325</td> <td>    0.019</td> <td> 0.985</td> <td>   -6.875</td> <td>    6.998</td>\n",
       "</tr>\n",
       "<tr>\n",
       "  <th>Manufacturer_Suzuki</th>        <td>   -2.6025</td> <td>    3.960</td> <td>   -0.657</td> <td> 0.519</td> <td>  -10.864</td> <td>    5.659</td>\n",
       "</tr>\n",
       "<tr>\n",
       "  <th>Manufacturer_Toyota</th>        <td>   -2.6301</td> <td>    1.674</td> <td>   -1.571</td> <td> 0.132</td> <td>   -6.122</td> <td>    0.862</td>\n",
       "</tr>\n",
       "<tr>\n",
       "  <th>Manufacturer_Volkswagen</th>    <td>    0.4484</td> <td>    1.643</td> <td>    0.273</td> <td> 0.788</td> <td>   -2.980</td> <td>    3.876</td>\n",
       "</tr>\n",
       "<tr>\n",
       "  <th>Manufacturer_Volvo</th>         <td>    4.2616</td> <td>    2.271</td> <td>    1.876</td> <td> 0.075</td> <td>   -0.476</td> <td>    8.999</td>\n",
       "</tr>\n",
       "<tr>\n",
       "  <th>Type_Compact</th>               <td>   -1.3883</td> <td>    1.554</td> <td>   -0.893</td> <td> 0.382</td> <td>   -4.631</td> <td>    1.854</td>\n",
       "</tr>\n",
       "<tr>\n",
       "  <th>Type_Large</th>                 <td>    5.9202</td> <td>    1.740</td> <td>    3.401</td> <td> 0.003</td> <td>    2.290</td> <td>    9.551</td>\n",
       "</tr>\n",
       "<tr>\n",
       "  <th>Type_Midsize</th>               <td>    4.3789</td> <td>    1.406</td> <td>    3.115</td> <td> 0.005</td> <td>    1.446</td> <td>    7.311</td>\n",
       "</tr>\n",
       "<tr>\n",
       "  <th>Type_Small</th>                 <td>   -4.2021</td> <td>    2.122</td> <td>   -1.980</td> <td> 0.062</td> <td>   -8.629</td> <td>    0.225</td>\n",
       "</tr>\n",
       "<tr>\n",
       "  <th>Type_Sporty</th>                <td>   -0.6148</td> <td>    1.491</td> <td>   -0.412</td> <td> 0.684</td> <td>   -3.725</td> <td>    2.495</td>\n",
       "</tr>\n",
       "<tr>\n",
       "  <th>Type_Van</th>                   <td>    3.8038</td> <td>    2.526</td> <td>    1.506</td> <td> 0.148</td> <td>   -1.465</td> <td>    9.073</td>\n",
       "</tr>\n",
       "<tr>\n",
       "  <th>AirBags_Driver & Passenger</th> <td>    1.2250</td> <td>    1.091</td> <td>    1.123</td> <td> 0.275</td> <td>   -1.050</td> <td>    3.500</td>\n",
       "</tr>\n",
       "<tr>\n",
       "  <th>AirBags_Driver only</th>        <td>    3.2981</td> <td>    0.825</td> <td>    4.000</td> <td> 0.001</td> <td>    1.578</td> <td>    5.018</td>\n",
       "</tr>\n",
       "<tr>\n",
       "  <th>AirBags_None</th>               <td>    3.3744</td> <td>    1.044</td> <td>    3.234</td> <td> 0.004</td> <td>    1.198</td> <td>    5.551</td>\n",
       "</tr>\n",
       "<tr>\n",
       "  <th>DriveTrain_4WD</th>             <td>    1.5346</td> <td>    2.208</td> <td>    0.695</td> <td> 0.495</td> <td>   -3.070</td> <td>    6.140</td>\n",
       "</tr>\n",
       "<tr>\n",
       "  <th>DriveTrain_Front</th>           <td>    1.5873</td> <td>    1.218</td> <td>    1.303</td> <td> 0.207</td> <td>   -0.954</td> <td>    4.128</td>\n",
       "</tr>\n",
       "<tr>\n",
       "  <th>DriveTrain_Rear</th>            <td>    4.7757</td> <td>    1.293</td> <td>    3.693</td> <td> 0.001</td> <td>    2.078</td> <td>    7.473</td>\n",
       "</tr>\n",
       "<tr>\n",
       "  <th>Cylinders_3</th>                <td>   -1.0041</td> <td>    3.637</td> <td>   -0.276</td> <td> 0.785</td> <td>   -8.590</td> <td>    6.582</td>\n",
       "</tr>\n",
       "<tr>\n",
       "  <th>Cylinders_4</th>                <td>    2.1694</td> <td>    1.580</td> <td>    1.373</td> <td> 0.185</td> <td>   -1.126</td> <td>    5.465</td>\n",
       "</tr>\n",
       "<tr>\n",
       "  <th>Cylinders_5</th>                <td>    0.1138</td> <td>    3.298</td> <td>    0.034</td> <td> 0.973</td> <td>   -6.765</td> <td>    6.992</td>\n",
       "</tr>\n",
       "<tr>\n",
       "  <th>Cylinders_6</th>                <td>    3.1811</td> <td>    1.259</td> <td>    2.526</td> <td> 0.020</td> <td>    0.554</td> <td>    5.808</td>\n",
       "</tr>\n",
       "<tr>\n",
       "  <th>Cylinders_8</th>                <td>   -4.6746</td> <td>    3.350</td> <td>   -1.395</td> <td> 0.178</td> <td>  -11.663</td> <td>    2.314</td>\n",
       "</tr>\n",
       "<tr>\n",
       "  <th>Cylinders_rotary</th>           <td>    8.1120</td> <td>    3.671</td> <td>    2.210</td> <td> 0.039</td> <td>    0.454</td> <td>   15.770</td>\n",
       "</tr>\n",
       "<tr>\n",
       "  <th>Man.trans.avail_No</th>         <td>    3.1528</td> <td>    1.378</td> <td>    2.289</td> <td> 0.033</td> <td>    0.279</td> <td>    6.026</td>\n",
       "</tr>\n",
       "<tr>\n",
       "  <th>Man.trans.avail_Yes</th>        <td>    4.7448</td> <td>    1.075</td> <td>    4.412</td> <td> 0.000</td> <td>    2.501</td> <td>    6.988</td>\n",
       "</tr>\n",
       "</table>\n",
       "<table class=\"simpletable\">\n",
       "<tr>\n",
       "  <th>Omnibus:</th>       <td> 5.181</td> <th>  Durbin-Watson:     </th> <td>   2.139</td>\n",
       "</tr>\n",
       "<tr>\n",
       "  <th>Prob(Omnibus):</th> <td> 0.075</td> <th>  Jarque-Bera (JB):  </th> <td>   7.253</td>\n",
       "</tr>\n",
       "<tr>\n",
       "  <th>Skew:</th>          <td>-0.022</td> <th>  Prob(JB):          </th> <td>  0.0266</td>\n",
       "</tr>\n",
       "<tr>\n",
       "  <th>Kurtosis:</th>      <td> 4.588</td> <th>  Cond. No.          </th> <td>2.15e+16</td>\n",
       "</tr>\n",
       "</table><br/><br/>Notes:<br/>[1] Standard Errors assume that the covariance matrix of the errors is correctly specified.<br/>[2] The smallest eigenvalue is 5.35e-31. This might indicate that there are<br/>strong multicollinearity problems or that the design matrix is singular."
      ],
      "text/plain": [
       "<class 'statsmodels.iolib.summary.Summary'>\n",
       "\"\"\"\n",
       "                            OLS Regression Results                            \n",
       "==============================================================================\n",
       "Dep. Variable:                  Price   R-squared:                       0.979\n",
       "Model:                            OLS   Adj. R-squared:                  0.929\n",
       "Method:                 Least Squares   F-statistic:                     19.44\n",
       "Date:                Wed, 05 Oct 2022   Prob (F-statistic):           9.86e-10\n",
       "Time:                        20:09:28   Log-Likelihood:                -110.83\n",
       "No. Observations:                  69   AIC:                             319.7\n",
       "Df Residuals:                      20   BIC:                             429.1\n",
       "Df Model:                          48                                         \n",
       "Covariance Type:            nonrobust                                         \n",
       "==============================================================================================\n",
       "                                 coef    std err          t      P>|t|      [0.025      0.975]\n",
       "----------------------------------------------------------------------------------------------\n",
       "const                          7.8976      0.623     12.674      0.000       6.598       9.197\n",
       "MPG.city                       1.7751      1.238      1.434      0.167      -0.807       4.358\n",
       "Horsepower                     3.1993      1.055      3.034      0.007       1.000       5.399\n",
       "Fuel.tank.capacity             1.4702      1.260      1.166      0.257      -1.159       4.100\n",
       "Manufacturer_Acura             8.1251      3.326      2.443      0.024       1.186      15.064\n",
       "Manufacturer_Audi              9.7142      3.268      2.973      0.008       2.898      16.530\n",
       "Manufacturer_BMW              -3.6213      4.305     -0.841      0.410     -12.601       5.359\n",
       "Manufacturer_Buick            -4.9879      2.017     -2.472      0.023      -9.196      -0.779\n",
       "Manufacturer_Cadillac         16.4916      3.740      4.409      0.000       8.689      24.294\n",
       "Manufacturer_Chevrolet        -4.6570      1.387     -3.358      0.003      -7.549      -1.764\n",
       "Manufacturer_Chrylser         -5.0814      2.806     -1.811      0.085     -10.935       0.772\n",
       "Manufacturer_Chrysler          3.2909      2.185      1.506      0.148      -1.268       7.850\n",
       "Manufacturer_Dodge            -3.2815      1.721     -1.907      0.071      -6.871       0.308\n",
       "Manufacturer_Eagle            -4.5657      1.901     -2.402      0.026      -8.531      -0.600\n",
       "Manufacturer_Ford             -3.2173      1.022     -3.148      0.005      -5.349      -1.085\n",
       "Manufacturer_Geo              -4.1096      2.843     -1.445      0.164     -10.040       1.821\n",
       "Manufacturer_Honda             0.9395      2.334      0.403      0.692      -3.929       5.808\n",
       "Manufacturer_Hyundai          -3.8975      1.675     -2.326      0.031      -7.393      -0.403\n",
       "Manufacturer_Lexus             2.1003      2.714      0.774      0.448      -3.560       7.761\n",
       "Manufacturer_Lincoln          12.0976      1.954      6.192      0.000       8.022      16.173\n",
       "Manufacturer_Mazda            -2.6115      2.405     -1.086      0.290      -7.628       2.405\n",
       "Manufacturer_Mercedes-Benz    13.1060      3.032      4.323      0.000       6.781      19.431\n",
       "Manufacturer_Mercury         -11.1609      3.718     -3.002      0.007     -18.917      -3.405\n",
       "Manufacturer_Mitsubishi       -2.9420      2.372     -1.240      0.229      -7.890       2.006\n",
       "Manufacturer_Nissan           -3.3578      1.822     -1.843      0.080      -7.158       0.443\n",
       "Manufacturer_Oldsmobile       -5.4466      2.232     -2.440      0.024     -10.103      -0.790\n",
       "Manufacturer_Plymouth         -1.4196      4.732     -0.300      0.767     -11.291       8.452\n",
       "Manufacturer_Pontiac          -2.8223      1.409     -2.003      0.059      -5.762       0.117\n",
       "Manufacturer_Saab             10.7065      2.694      3.974      0.001       5.086      16.327\n",
       "Manufacturer_Saturn           -1.0334      2.625     -0.394      0.698      -6.508       4.442\n",
       "Manufacturer_Subaru            0.0617      3.325      0.019      0.985      -6.875       6.998\n",
       "Manufacturer_Suzuki           -2.6025      3.960     -0.657      0.519     -10.864       5.659\n",
       "Manufacturer_Toyota           -2.6301      1.674     -1.571      0.132      -6.122       0.862\n",
       "Manufacturer_Volkswagen        0.4484      1.643      0.273      0.788      -2.980       3.876\n",
       "Manufacturer_Volvo             4.2616      2.271      1.876      0.075      -0.476       8.999\n",
       "Type_Compact                  -1.3883      1.554     -0.893      0.382      -4.631       1.854\n",
       "Type_Large                     5.9202      1.740      3.401      0.003       2.290       9.551\n",
       "Type_Midsize                   4.3789      1.406      3.115      0.005       1.446       7.311\n",
       "Type_Small                    -4.2021      2.122     -1.980      0.062      -8.629       0.225\n",
       "Type_Sporty                   -0.6148      1.491     -0.412      0.684      -3.725       2.495\n",
       "Type_Van                       3.8038      2.526      1.506      0.148      -1.465       9.073\n",
       "AirBags_Driver & Passenger     1.2250      1.091      1.123      0.275      -1.050       3.500\n",
       "AirBags_Driver only            3.2981      0.825      4.000      0.001       1.578       5.018\n",
       "AirBags_None                   3.3744      1.044      3.234      0.004       1.198       5.551\n",
       "DriveTrain_4WD                 1.5346      2.208      0.695      0.495      -3.070       6.140\n",
       "DriveTrain_Front               1.5873      1.218      1.303      0.207      -0.954       4.128\n",
       "DriveTrain_Rear                4.7757      1.293      3.693      0.001       2.078       7.473\n",
       "Cylinders_3                   -1.0041      3.637     -0.276      0.785      -8.590       6.582\n",
       "Cylinders_4                    2.1694      1.580      1.373      0.185      -1.126       5.465\n",
       "Cylinders_5                    0.1138      3.298      0.034      0.973      -6.765       6.992\n",
       "Cylinders_6                    3.1811      1.259      2.526      0.020       0.554       5.808\n",
       "Cylinders_8                   -4.6746      3.350     -1.395      0.178     -11.663       2.314\n",
       "Cylinders_rotary               8.1120      3.671      2.210      0.039       0.454      15.770\n",
       "Man.trans.avail_No             3.1528      1.378      2.289      0.033       0.279       6.026\n",
       "Man.trans.avail_Yes            4.7448      1.075      4.412      0.000       2.501       6.988\n",
       "==============================================================================\n",
       "Omnibus:                        5.181   Durbin-Watson:                   2.139\n",
       "Prob(Omnibus):                  0.075   Jarque-Bera (JB):                7.253\n",
       "Skew:                          -0.022   Prob(JB):                       0.0266\n",
       "Kurtosis:                       4.588   Cond. No.                     2.15e+16\n",
       "==============================================================================\n",
       "\n",
       "Notes:\n",
       "[1] Standard Errors assume that the covariance matrix of the errors is correctly specified.\n",
       "[2] The smallest eigenvalue is 5.35e-31. This might indicate that there are\n",
       "strong multicollinearity problems or that the design matrix is singular.\n",
       "\"\"\""
      ]
     },
     "execution_count": 30,
     "metadata": {},
     "output_type": "execute_result"
    }
   ],
   "source": [
    "from sklearn.model_selection import train_test_split\n",
    "xtrain,xtest,ytrain,ytest=train_test_split(Xnew,Y,random_state=31,test_size=0.2)\n",
    "\n",
    "from statsmodels.api import OLS,add_constant\n",
    "xconst = add_constant(xtrain) #this is done to get b0 value(not required in LM)\n",
    "ols = OLS(ytrain,xconst).fit()\n",
    "ols.summary()"
   ]
  },
  {
   "cell_type": "code",
   "execution_count": 31,
   "id": "cf3773fb",
   "metadata": {},
   "outputs": [
    {
     "data": {
      "text/plain": [
       "'Manufacturer_Subaru'"
      ]
     },
     "execution_count": 31,
     "metadata": {},
     "output_type": "execute_result"
    }
   ],
   "source": [
    "ols.pvalues.sort_values().index[-1]"
   ]
  },
  {
   "cell_type": "code",
   "execution_count": 32,
   "id": "52548c6c",
   "metadata": {},
   "outputs": [
    {
     "data": {
      "text/plain": [
       "const                         5.147794e-11\n",
       "Manufacturer_Lincoln          4.763130e-06\n",
       "Man.trans.avail_Yes           2.686307e-04\n",
       "Manufacturer_Cadillac         2.704137e-04\n",
       "Manufacturer_Mercedes-Benz    3.309968e-04\n",
       "AirBags_Driver only           7.040310e-04\n",
       "Manufacturer_Saab             7.480279e-04\n",
       "DriveTrain_Rear               1.441579e-03\n",
       "Type_Large                    2.831713e-03\n",
       "Manufacturer_Chevrolet        3.127136e-03\n",
       "AirBags_None                  4.164311e-03\n",
       "Manufacturer_Ford             5.060324e-03\n",
       "Type_Midsize                  5.457504e-03\n",
       "Horsepower                    6.556670e-03\n",
       "Manufacturer_Mercury          7.050551e-03\n",
       "Manufacturer_Audi             7.521843e-03\n",
       "Cylinders_6                   2.007221e-02\n",
       "Manufacturer_Buick            2.252414e-02\n",
       "Manufacturer_Acura            2.399038e-02\n",
       "Manufacturer_Oldsmobile       2.412956e-02\n",
       "Manufacturer_Eagle            2.616485e-02\n",
       "Manufacturer_Hyundai          3.063471e-02\n",
       "Man.trans.avail_No            3.311684e-02\n",
       "Cylinders_rotary              3.895236e-02\n",
       "Manufacturer_Pontiac          5.893770e-02\n",
       "Type_Small                    6.163027e-02\n",
       "Manufacturer_Dodge            7.101390e-02\n",
       "Manufacturer_Volvo            7.528043e-02\n",
       "Manufacturer_Nissan           8.021338e-02\n",
       "Manufacturer_Chrylser         8.522940e-02\n",
       "Manufacturer_Toyota           1.318431e-01\n",
       "Type_Van                      1.477147e-01\n",
       "Manufacturer_Chrysler         1.477419e-01\n",
       "Manufacturer_Geo              1.638187e-01\n",
       "MPG.city                      1.670739e-01\n",
       "Cylinders_8                   1.782370e-01\n",
       "Cylinders_4                   1.849488e-01\n",
       "DriveTrain_Front              2.073635e-01\n",
       "Manufacturer_Mitsubishi       2.291907e-01\n",
       "Fuel.tank.capacity            2.571569e-01\n",
       "AirBags_Driver & Passenger    2.746400e-01\n",
       "Manufacturer_Mazda            2.904001e-01\n",
       "Type_Compact                  3.823780e-01\n",
       "Manufacturer_BMW              4.101926e-01\n",
       "Manufacturer_Lexus            4.479863e-01\n",
       "DriveTrain_4WD                4.949479e-01\n",
       "Manufacturer_Suzuki           5.185923e-01\n",
       "Type_Sporty                   6.844754e-01\n",
       "Manufacturer_Honda            6.915497e-01\n",
       "Manufacturer_Saturn           6.979576e-01\n",
       "Manufacturer_Plymouth         7.672984e-01\n",
       "Cylinders_3                   7.853078e-01\n",
       "Manufacturer_Volkswagen       7.877877e-01\n",
       "Cylinders_5                   9.728206e-01\n",
       "Manufacturer_Subaru           9.853915e-01\n",
       "dtype: float64"
      ]
     },
     "execution_count": 32,
     "metadata": {},
     "output_type": "execute_result"
    }
   ],
   "source": [
    "ols.pvalues.sort_values()"
   ]
  },
  {
   "cell_type": "code",
   "execution_count": 33,
   "id": "38b14c36",
   "metadata": {},
   "outputs": [
    {
     "data": {
      "text/plain": [
       "0.9286"
      ]
     },
     "execution_count": 33,
     "metadata": {},
     "output_type": "execute_result"
    }
   ],
   "source": [
    "round(ols.rsquared_adj,4)"
   ]
  },
  {
   "cell_type": "markdown",
   "id": "910c3c73",
   "metadata": {},
   "source": [
    "# Final model after elimination"
   ]
  },
  {
   "cell_type": "code",
   "execution_count": 50,
   "id": "c50005a9",
   "metadata": {},
   "outputs": [
    {
     "data": {
      "text/plain": [
       "(0.9448, 'Manufacturer_Geo')"
      ]
     },
     "execution_count": 50,
     "metadata": {},
     "output_type": "execute_result"
    }
   ],
   "source": [
    "Xnew = Xnew.drop(labels=ols.pvalues.sort_values().index[-1],axis=1)\n",
    "\n",
    "from sklearn.model_selection import train_test_split\n",
    "xtrain,xtest,ytrain,ytest=train_test_split(Xnew,Y,random_state=31,test_size=0.2)\n",
    "\n",
    "from statsmodels.api import OLS,add_constant\n",
    "xconst = add_constant(xtrain) #this is done to get b0 value(not required in LM)\n",
    "ols = OLS(ytrain,xconst).fit()\n",
    "round(ols.rsquared_adj,4),ols.pvalues.sort_values().index[-1]"
   ]
  },
  {
   "cell_type": "raw",
   "id": "25d091f1",
   "metadata": {},
   "source": [
    "final value after backward elimination (0.9448, 'Manufacturer_Geo')"
   ]
  },
  {
   "cell_type": "code",
   "execution_count": 51,
   "id": "eb6189ac",
   "metadata": {},
   "outputs": [
    {
     "data": {
      "text/plain": [
       "Index(['Horsepower', 'Manufacturer_Acura', 'Manufacturer_Audi',\n",
       "       'Manufacturer_Buick', 'Manufacturer_Cadillac', 'Manufacturer_Chevrolet',\n",
       "       'Manufacturer_Chrylser', 'Manufacturer_Chrysler', 'Manufacturer_Dodge',\n",
       "       'Manufacturer_Eagle', 'Manufacturer_Ford', 'Manufacturer_Geo',\n",
       "       'Manufacturer_Hyundai', 'Manufacturer_Lincoln',\n",
       "       'Manufacturer_Mercedes-Benz', 'Manufacturer_Mercury',\n",
       "       'Manufacturer_Nissan', 'Manufacturer_Oldsmobile',\n",
       "       'Manufacturer_Pontiac', 'Manufacturer_Saab', 'Manufacturer_Toyota',\n",
       "       'Manufacturer_Volvo', 'Type_Large', 'Type_Midsize', 'Type_Small',\n",
       "       'Type_Van', 'AirBags_Driver & Passenger', 'AirBags_Driver only',\n",
       "       'AirBags_None', 'DriveTrain_4WD', 'DriveTrain_Front', 'DriveTrain_Rear',\n",
       "       'Cylinders_4', 'Cylinders_6', 'Cylinders_rotary', 'Man.trans.avail_No',\n",
       "       'Man.trans.avail_Yes'],\n",
       "      dtype='object')"
      ]
     },
     "execution_count": 51,
     "metadata": {},
     "output_type": "execute_result"
    }
   ],
   "source": [
    "Xnew.columns"
   ]
  },
  {
   "cell_type": "markdown",
   "id": "f91b52d3",
   "metadata": {},
   "source": [
    "# model"
   ]
  },
  {
   "cell_type": "code",
   "execution_count": 52,
   "id": "dc3e1b48",
   "metadata": {},
   "outputs": [],
   "source": [
    "from sklearn.linear_model import LinearRegression\n",
    "lm = LinearRegression()\n",
    "model = lm.fit(xtrain,ytrain)\n",
    "tr_pred = model.predict(xtrain)\n",
    "ts_pred = model.predict(xtest)"
   ]
  },
  {
   "cell_type": "code",
   "execution_count": 53,
   "id": "d4c31522",
   "metadata": {},
   "outputs": [],
   "source": [
    "from sklearn.metrics import mean_absolute_error\n",
    "tr_err = mean_absolute_error(ytrain,tr_pred)\n",
    "ts_err = mean_absolute_error(ytest,ts_pred)"
   ]
  },
  {
   "cell_type": "code",
   "execution_count": 54,
   "id": "3258b75c",
   "metadata": {},
   "outputs": [
    {
     "data": {
      "text/plain": [
       "(0.9707809445631471, 3.443979375926664)"
      ]
     },
     "execution_count": 54,
     "metadata": {},
     "output_type": "execute_result"
    }
   ],
   "source": [
    "tr_err,ts_err"
   ]
  },
  {
   "cell_type": "markdown",
   "id": "73cdbf7d",
   "metadata": {},
   "source": [
    "# Ridge"
   ]
  },
  {
   "cell_type": "code",
   "execution_count": null,
   "id": "f9f9a52d",
   "metadata": {},
   "outputs": [],
   "source": []
  },
  {
   "cell_type": "code",
   "execution_count": 92,
   "id": "4359af5d",
   "metadata": {},
   "outputs": [
    {
     "data": {
      "text/plain": [
       "(2.5312802168379482, 2.501528813418982)"
      ]
     },
     "execution_count": 92,
     "metadata": {},
     "output_type": "execute_result"
    }
   ],
   "source": [
    "from sklearn.metrics import mean_absolute_error\n",
    "from sklearn.linear_model import Ridge\n",
    "rr = Ridge(alpha=3.91)\n",
    "model = rr.fit(xtrain,ytrain)\n",
    "tr_pred = model.predict(xtrain)\n",
    "ts_pred = model.predict(xtest)\n",
    "tr_err = mean_absolute_error(ytrain,tr_pred)\n",
    "ts_err = mean_absolute_error(ytest,ts_pred)\n",
    "tr_err,ts_err"
   ]
  },
  {
   "cell_type": "code",
   "execution_count": 88,
   "id": "af244a8a",
   "metadata": {},
   "outputs": [],
   "source": [
    "x = .01\n",
    "alphas = []\n",
    "for i in range(0,40,1):\n",
    "    alphas.append(x)\n",
    "    x = round(x + 0.1,2)"
   ]
  },
  {
   "cell_type": "code",
   "execution_count": 89,
   "id": "c4a1df44",
   "metadata": {},
   "outputs": [],
   "source": [
    "tr = []\n",
    "ts = []\n",
    "for i in alphas:\n",
    "    rr = Ridge(alpha=i)\n",
    "    model = rr.fit(xtrain,ytrain)\n",
    "    tr_pred = model.predict(xtrain)\n",
    "    ts_pred = model.predict(xtest)\n",
    "    tr_err = mean_absolute_error(ytrain,tr_pred)\n",
    "    ts_err = mean_absolute_error(ytest,ts_pred)\n",
    "    tr.append(tr_err)\n",
    "    ts.append(ts_err)    "
   ]
  },
  {
   "cell_type": "code",
   "execution_count": 90,
   "id": "8ec8599c",
   "metadata": {},
   "outputs": [
    {
     "data": {
      "text/plain": [
       "[<matplotlib.lines.Line2D at 0x2510a2fbd90>]"
      ]
     },
     "execution_count": 90,
     "metadata": {},
     "output_type": "execute_result"
    },
    {
     "data": {
      "image/png": "[encoded data removed]",
      "text/plain": [
       "<Figure size 432x288 with 1 Axes>"
      ]
     },
     "metadata": {
      "needs_background": "light"
     },
     "output_type": "display_data"
    }
   ],
   "source": [
    "import matplotlib.pyplot as plt\n",
    "plt.plot(tr,c=\"blue\")\n",
    "plt.plot(ts,c=\"red\")"
   ]
  },
  {
   "cell_type": "code",
   "execution_count": 94,
   "id": "25965c9f",
   "metadata": {},
   "outputs": [
    {
     "data": {
      "text/plain": [
       "3.91"
      ]
     },
     "execution_count": 94,
     "metadata": {},
     "output_type": "execute_result"
    }
   ],
   "source": [
    "alphas[-1]"
   ]
  },
  {
   "cell_type": "markdown",
   "id": "c1013a20",
   "metadata": {},
   "source": [
    "# Gridsearch CV"
   ]
  },
  {
   "cell_type": "code",
   "execution_count": 95,
   "id": "acceff0d",
   "metadata": {},
   "outputs": [
    {
     "data": {
      "text/plain": [
       "{'alpha': 0.61}"
      ]
     },
     "execution_count": 95,
     "metadata": {},
     "output_type": "execute_result"
    }
   ],
   "source": [
    "tuning_grid = {\"alpha\":alphas}\n",
    "rr = Ridge()\n",
    "from sklearn.model_selection import GridSearchCV\n",
    "cv1 = GridSearchCV(rr,tuning_grid,scoring=\"neg_mean_squared_error\",cv=7)\n",
    "cvmodel = cv1.fit(Xnew,Y)\n",
    "cvmodel.best_params_"
   ]
  },
  {
   "cell_type": "raw",
   "id": "8baafa30",
   "metadata": {},
   "source": [
    "{'alpha': 0.61}"
   ]
  },
  {
   "cell_type": "code",
   "execution_count": 96,
   "id": "7a211abc",
   "metadata": {},
   "outputs": [
    {
     "data": {
      "text/plain": [
       "(1.6013131884062046, 2.860424251266502)"
      ]
     },
     "execution_count": 96,
     "metadata": {},
     "output_type": "execute_result"
    }
   ],
   "source": [
    "from sklearn.metrics import mean_absolute_error\n",
    "from sklearn.linear_model import Ridge\n",
    "rr = Ridge(alpha=0.61)\n",
    "model = rr.fit(xtrain,ytrain)\n",
    "tr_pred = model.predict(xtrain)\n",
    "ts_pred = model.predict(xtest)\n",
    "tr_err = mean_absolute_error(ytrain,tr_pred)\n",
    "ts_err = mean_absolute_error(ytest,ts_pred)\n",
    "tr_err,ts_err"
   ]
  },
  {
   "cell_type": "code",
   "execution_count": 97,
   "id": "e366ea6b",
   "metadata": {},
   "outputs": [
    {
     "data": {
      "text/plain": [
       "array([[ 3.90556935,  3.26842402,  5.79189382, -3.08264427,  6.09268922,\n",
       "        -4.65574128, -1.74486294,  2.50987694, -3.81823392, -2.24240748,\n",
       "        -3.35274699, -2.23951267, -3.50414273,  7.38946346,  7.21922823,\n",
       "        -5.05329464, -2.87312141, -2.81623165, -1.7866297 ,  5.39378661,\n",
       "        -1.95402387,  1.98749646,  2.82724119,  4.49511145, -3.09450837,\n",
       "         3.24076313, -0.68644002,  1.24059097, -0.55415094, -0.83553765,\n",
       "        -0.10378949,  0.93932713, -0.41301453,  0.948273  ,  1.26333698,\n",
       "        -1.04248644,  1.04248644]])"
      ]
     },
     "execution_count": 97,
     "metadata": {},
     "output_type": "execute_result"
    }
   ],
   "source": [
    "model.coef_"
   ]
  },
  {
   "cell_type": "code",
   "execution_count": 100,
   "id": "6d14d17e",
   "metadata": {},
   "outputs": [
    {
     "data": {
      "text/html": [
       "<div>\n",
       "<style scoped>\n",
       "    .dataframe tbody tr th:only-of-type {\n",
       "        vertical-align: middle;\n",
       "    }\n",
       "\n",
       "    .dataframe tbody tr th {\n",
       "        vertical-align: top;\n",
       "    }\n",
       "\n",
       "    .dataframe thead th {\n",
       "        text-align: right;\n",
       "    }\n",
       "</style>\n",
       "<table border=\"1\" class=\"dataframe\">\n",
       "  <thead>\n",
       "    <tr style=\"text-align: right;\">\n",
       "      <th></th>\n",
       "      <th>Column</th>\n",
       "      <th>Coef</th>\n",
       "    </tr>\n",
       "  </thead>\n",
       "  <tbody>\n",
       "    <tr>\n",
       "      <th>0</th>\n",
       "      <td>Horsepower</td>\n",
       "      <td>[3.9055693494972465, 3.268424021578661, 5.7918...</td>\n",
       "    </tr>\n",
       "    <tr>\n",
       "      <th>1</th>\n",
       "      <td>Manufacturer_Acura</td>\n",
       "      <td>None</td>\n",
       "    </tr>\n",
       "    <tr>\n",
       "      <th>2</th>\n",
       "      <td>Manufacturer_Audi</td>\n",
       "      <td>None</td>\n",
       "    </tr>\n",
       "    <tr>\n",
       "      <th>3</th>\n",
       "      <td>Manufacturer_Buick</td>\n",
       "      <td>None</td>\n",
       "    </tr>\n",
       "    <tr>\n",
       "      <th>4</th>\n",
       "      <td>Manufacturer_Cadillac</td>\n",
       "      <td>None</td>\n",
       "    </tr>\n",
       "    <tr>\n",
       "      <th>5</th>\n",
       "      <td>Manufacturer_Chevrolet</td>\n",
       "      <td>None</td>\n",
       "    </tr>\n",
       "    <tr>\n",
       "      <th>6</th>\n",
       "      <td>Manufacturer_Chrylser</td>\n",
       "      <td>None</td>\n",
       "    </tr>\n",
       "    <tr>\n",
       "      <th>7</th>\n",
       "      <td>Manufacturer_Chrysler</td>\n",
       "      <td>None</td>\n",
       "    </tr>\n",
       "    <tr>\n",
       "      <th>8</th>\n",
       "      <td>Manufacturer_Dodge</td>\n",
       "      <td>None</td>\n",
       "    </tr>\n",
       "    <tr>\n",
       "      <th>9</th>\n",
       "      <td>Manufacturer_Eagle</td>\n",
       "      <td>None</td>\n",
       "    </tr>\n",
       "    <tr>\n",
       "      <th>10</th>\n",
       "      <td>Manufacturer_Ford</td>\n",
       "      <td>None</td>\n",
       "    </tr>\n",
       "    <tr>\n",
       "      <th>11</th>\n",
       "      <td>Manufacturer_Geo</td>\n",
       "      <td>None</td>\n",
       "    </tr>\n",
       "    <tr>\n",
       "      <th>12</th>\n",
       "      <td>Manufacturer_Hyundai</td>\n",
       "      <td>None</td>\n",
       "    </tr>\n",
       "    <tr>\n",
       "      <th>13</th>\n",
       "      <td>Manufacturer_Lincoln</td>\n",
       "      <td>None</td>\n",
       "    </tr>\n",
       "    <tr>\n",
       "      <th>14</th>\n",
       "      <td>Manufacturer_Mercedes-Benz</td>\n",
       "      <td>None</td>\n",
       "    </tr>\n",
       "    <tr>\n",
       "      <th>15</th>\n",
       "      <td>Manufacturer_Mercury</td>\n",
       "      <td>None</td>\n",
       "    </tr>\n",
       "    <tr>\n",
       "      <th>16</th>\n",
       "      <td>Manufacturer_Nissan</td>\n",
       "      <td>None</td>\n",
       "    </tr>\n",
       "    <tr>\n",
       "      <th>17</th>\n",
       "      <td>Manufacturer_Oldsmobile</td>\n",
       "      <td>None</td>\n",
       "    </tr>\n",
       "    <tr>\n",
       "      <th>18</th>\n",
       "      <td>Manufacturer_Pontiac</td>\n",
       "      <td>None</td>\n",
       "    </tr>\n",
       "    <tr>\n",
       "      <th>19</th>\n",
       "      <td>Manufacturer_Saab</td>\n",
       "      <td>None</td>\n",
       "    </tr>\n",
       "    <tr>\n",
       "      <th>20</th>\n",
       "      <td>Manufacturer_Toyota</td>\n",
       "      <td>None</td>\n",
       "    </tr>\n",
       "    <tr>\n",
       "      <th>21</th>\n",
       "      <td>Manufacturer_Volvo</td>\n",
       "      <td>None</td>\n",
       "    </tr>\n",
       "    <tr>\n",
       "      <th>22</th>\n",
       "      <td>Type_Large</td>\n",
       "      <td>None</td>\n",
       "    </tr>\n",
       "    <tr>\n",
       "      <th>23</th>\n",
       "      <td>Type_Midsize</td>\n",
       "      <td>None</td>\n",
       "    </tr>\n",
       "    <tr>\n",
       "      <th>24</th>\n",
       "      <td>Type_Small</td>\n",
       "      <td>None</td>\n",
       "    </tr>\n",
       "    <tr>\n",
       "      <th>25</th>\n",
       "      <td>Type_Van</td>\n",
       "      <td>None</td>\n",
       "    </tr>\n",
       "    <tr>\n",
       "      <th>26</th>\n",
       "      <td>AirBags_Driver &amp; Passenger</td>\n",
       "      <td>None</td>\n",
       "    </tr>\n",
       "    <tr>\n",
       "      <th>27</th>\n",
       "      <td>AirBags_Driver only</td>\n",
       "      <td>None</td>\n",
       "    </tr>\n",
       "    <tr>\n",
       "      <th>28</th>\n",
       "      <td>AirBags_None</td>\n",
       "      <td>None</td>\n",
       "    </tr>\n",
       "    <tr>\n",
       "      <th>29</th>\n",
       "      <td>DriveTrain_4WD</td>\n",
       "      <td>None</td>\n",
       "    </tr>\n",
       "    <tr>\n",
       "      <th>30</th>\n",
       "      <td>DriveTrain_Front</td>\n",
       "      <td>None</td>\n",
       "    </tr>\n",
       "    <tr>\n",
       "      <th>31</th>\n",
       "      <td>DriveTrain_Rear</td>\n",
       "      <td>None</td>\n",
       "    </tr>\n",
       "    <tr>\n",
       "      <th>32</th>\n",
       "      <td>Cylinders_4</td>\n",
       "      <td>None</td>\n",
       "    </tr>\n",
       "    <tr>\n",
       "      <th>33</th>\n",
       "      <td>Cylinders_6</td>\n",
       "      <td>None</td>\n",
       "    </tr>\n",
       "    <tr>\n",
       "      <th>34</th>\n",
       "      <td>Cylinders_rotary</td>\n",
       "      <td>None</td>\n",
       "    </tr>\n",
       "    <tr>\n",
       "      <th>35</th>\n",
       "      <td>Man.trans.avail_No</td>\n",
       "      <td>None</td>\n",
       "    </tr>\n",
       "    <tr>\n",
       "      <th>36</th>\n",
       "      <td>Man.trans.avail_Yes</td>\n",
       "      <td>None</td>\n",
       "    </tr>\n",
       "  </tbody>\n",
       "</table>\n",
       "</div>"
      ],
      "text/plain": [
       "                        Column  \\\n",
       "0                   Horsepower   \n",
       "1           Manufacturer_Acura   \n",
       "2            Manufacturer_Audi   \n",
       "3           Manufacturer_Buick   \n",
       "4        Manufacturer_Cadillac   \n",
       "5       Manufacturer_Chevrolet   \n",
       "6        Manufacturer_Chrylser   \n",
       "7        Manufacturer_Chrysler   \n",
       "8           Manufacturer_Dodge   \n",
       "9           Manufacturer_Eagle   \n",
       "10           Manufacturer_Ford   \n",
       "11            Manufacturer_Geo   \n",
       "12        Manufacturer_Hyundai   \n",
       "13        Manufacturer_Lincoln   \n",
       "14  Manufacturer_Mercedes-Benz   \n",
       "15        Manufacturer_Mercury   \n",
       "16         Manufacturer_Nissan   \n",
       "17     Manufacturer_Oldsmobile   \n",
       "18        Manufacturer_Pontiac   \n",
       "19           Manufacturer_Saab   \n",
       "20         Manufacturer_Toyota   \n",
       "21          Manufacturer_Volvo   \n",
       "22                  Type_Large   \n",
       "23                Type_Midsize   \n",
       "24                  Type_Small   \n",
       "25                    Type_Van   \n",
       "26  AirBags_Driver & Passenger   \n",
       "27         AirBags_Driver only   \n",
       "28                AirBags_None   \n",
       "29              DriveTrain_4WD   \n",
       "30            DriveTrain_Front   \n",
       "31             DriveTrain_Rear   \n",
       "32                 Cylinders_4   \n",
       "33                 Cylinders_6   \n",
       "34            Cylinders_rotary   \n",
       "35          Man.trans.avail_No   \n",
       "36         Man.trans.avail_Yes   \n",
       "\n",
       "                                                 Coef  \n",
       "0   [3.9055693494972465, 3.268424021578661, 5.7918...  \n",
       "1                                                None  \n",
       "2                                                None  \n",
       "3                                                None  \n",
       "4                                                None  \n",
       "5                                                None  \n",
       "6                                                None  \n",
       "7                                                None  \n",
       "8                                                None  \n",
       "9                                                None  \n",
       "10                                               None  \n",
       "11                                               None  \n",
       "12                                               None  \n",
       "13                                               None  \n",
       "14                                               None  \n",
       "15                                               None  \n",
       "16                                               None  \n",
       "17                                               None  \n",
       "18                                               None  \n",
       "19                                               None  \n",
       "20                                               None  \n",
       "21                                               None  \n",
       "22                                               None  \n",
       "23                                               None  \n",
       "24                                               None  \n",
       "25                                               None  \n",
       "26                                               None  \n",
       "27                                               None  \n",
       "28                                               None  \n",
       "29                                               None  \n",
       "30                                               None  \n",
       "31                                               None  \n",
       "32                                               None  \n",
       "33                                               None  \n",
       "34                                               None  \n",
       "35                                               None  \n",
       "36                                               None  "
      ]
     },
     "execution_count": 100,
     "metadata": {},
     "output_type": "execute_result"
    }
   ],
   "source": [
    "Q = pd.DataFrame([Xnew.columns,model.coef_]).T\n",
    "Q.columns=[\"Column\",\"Coef\"]\n",
    "Q.sort_values(by=\"Coef\")"
   ]
  },
  {
   "cell_type": "markdown",
   "id": "60066f45",
   "metadata": {},
   "source": [
    "# new model using random state 43,ridge"
   ]
  },
  {
   "cell_type": "code",
   "execution_count": null,
   "id": "f8885d12",
   "metadata": {},
   "outputs": [],
   "source": []
  },
  {
   "cell_type": "code",
   "execution_count": 555,
   "id": "561be1df",
   "metadata": {},
   "outputs": [],
   "source": [
    "from sklearn.model_selection import train_test_split\n",
    "xtrain,xtest,ytrain,ytest=train_test_split(Xnew,Y,random_state=43,test_size=0.2)"
   ]
  },
  {
   "cell_type": "code",
   "execution_count": 556,
   "id": "90da5a67",
   "metadata": {},
   "outputs": [
    {
     "data": {
      "text/plain": [
       "(1.5931149394197288, 2.7363316377012796)"
      ]
     },
     "execution_count": 556,
     "metadata": {},
     "output_type": "execute_result"
    }
   ],
   "source": [
    "from sklearn.metrics import mean_absolute_error\n",
    "from sklearn.linear_model import Ridge\n",
    "rr = Ridge(alpha=0.2)\n",
    "model = rr.fit(xtrain,ytrain)\n",
    "tr_pred = model.predict(xtrain)\n",
    "ts_pred = model.predict(xtest)\n",
    "tr_err = mean_absolute_error(ytrain,tr_pred)\n",
    "ts_err = mean_absolute_error(ytest,ts_pred)\n",
    "tr_err,ts_err"
   ]
  },
  {
   "cell_type": "markdown",
   "id": "7dfdc15a",
   "metadata": {},
   "source": [
    "# Lasso model "
   ]
  },
  {
   "cell_type": "code",
   "execution_count": 557,
   "id": "f674026c",
   "metadata": {},
   "outputs": [],
   "source": [
    "from sklearn.model_selection import train_test_split\n",
    "xtrain,xtest,ytrain,ytest=train_test_split(Xnew,Y,random_state=31,test_size=0.2)"
   ]
  },
  {
   "cell_type": "code",
   "execution_count": 558,
   "id": "c540912c",
   "metadata": {},
   "outputs": [],
   "source": [
    "x = 0.10\n",
    "alphas = []\n",
    "for i in range(0,200,1):\n",
    "    alphas.append(x)\n",
    "    x = round(x + 0.001,5)"
   ]
  },
  {
   "cell_type": "code",
   "execution_count": 72,
   "id": "92b3f950",
   "metadata": {},
   "outputs": [],
   "source": [
    "tr = []\n",
    "ts = []\n",
    "for i in alphas:\n",
    "    rr = Lasso(alpha=i)\n",
    "    model = rr.fit(xtrain,ytrain)\n",
    "    tr_pred = model.predict(xtrain)\n",
    "    ts_pred = model.predict(xtest)\n",
    "    tr_err = mean_absolute_error(ytrain,tr_pred)\n",
    "    ts_err = mean_absolute_error(ytest,ts_pred)\n",
    "    tr.append(tr_err)\n",
    "    ts.append(ts_err)"
   ]
  },
  {
   "cell_type": "code",
   "execution_count": 73,
   "id": "9dc121b5",
   "metadata": {},
   "outputs": [
    {
     "data": {
      "text/plain": [
       "[<matplotlib.lines.Line2D at 0x231a4842b80>]"
      ]
     },
     "execution_count": 73,
     "metadata": {},
     "output_type": "execute_result"
    },
    {
     "data": {
      "image/png": "[encoded data removed]",
      "text/plain": [
       "<Figure size 432x288 with 1 Axes>"
      ]
     },
     "metadata": {
      "needs_background": "light"
     },
     "output_type": "display_data"
    }
   ],
   "source": [
    "import matplotlib.pyplot as plt\n",
    "plt.plot(tr,c=\"blue\")\n",
    "plt.plot(ts,c=\"red\")"
   ]
  },
  {
   "cell_type": "code",
   "execution_count": 74,
   "id": "17606206",
   "metadata": {},
   "outputs": [
    {
     "data": {
      "text/plain": [
       "{'alpha': 0.299}"
      ]
     },
     "execution_count": 74,
     "metadata": {},
     "output_type": "execute_result"
    }
   ],
   "source": [
    "tuning_grid = {\"alpha\":alphas}\n",
    "rr = Ridge()\n",
    "from sklearn.model_selection import GridSearchCV\n",
    "cv1 = GridSearchCV(rr,tuning_grid,scoring=\"neg_mean_squared_error\",cv=7)\n",
    "cvmodel = cv1.fit(Xnew,Y)\n",
    "cvmodel.best_params_"
   ]
  },
  {
   "cell_type": "markdown",
   "id": "a0a1650c",
   "metadata": {},
   "source": [
    "# best alpha .299"
   ]
  },
  {
   "cell_type": "code",
   "execution_count": 562,
   "id": "5d8ec534",
   "metadata": {},
   "outputs": [
    {
     "data": {
      "text/plain": [
       "(3.283828750210348, 3.1197658915435036)"
      ]
     },
     "execution_count": 562,
     "metadata": {},
     "output_type": "execute_result"
    }
   ],
   "source": [
    "from sklearn.metrics import mean_absolute_error\n",
    "from sklearn.linear_model import Ridge\n",
    "rr = Lasso(alpha=0.299)\n",
    "model = rr.fit(xtrain,ytrain)\n",
    "tr_pred = model.predict(xtrain)\n",
    "ts_pred = model.predict(xtest)\n",
    "tr_err = mean_absolute_error(ytrain,tr_pred)\n",
    "ts_err = mean_absolute_error(ytest,ts_pred)\n",
    "tr_err,ts_err"
   ]
  },
  {
   "cell_type": "markdown",
   "id": "64f1f0dc",
   "metadata": {},
   "source": [
    "# random state 43"
   ]
  },
  {
   "cell_type": "code",
   "execution_count": 563,
   "id": "28808a76",
   "metadata": {},
   "outputs": [],
   "source": [
    "from sklearn.model_selection import train_test_split\n",
    "xtrain,xtest,ytrain,ytest=train_test_split(Xnew,Y,random_state=43,test_size=0.2)"
   ]
  },
  {
   "cell_type": "code",
   "execution_count": 70,
   "id": "2ce57504",
   "metadata": {},
   "outputs": [
    {
     "data": {
      "text/plain": [
       "(3.283828750210348, 3.1197658915435036)"
      ]
     },
     "execution_count": 70,
     "metadata": {},
     "output_type": "execute_result"
    }
   ],
   "source": [
    "from sklearn.metrics import mean_absolute_error\n",
    "from sklearn.linear_model import Lasso\n",
    "rr = Lasso(alpha=0.299)\n",
    "model = rr.fit(xtrain,ytrain)\n",
    "tr_pred = model.predict(xtrain)\n",
    "ts_pred = model.predict(xtest)\n",
    "tr_err = mean_absolute_error(ytrain,tr_pred)\n",
    "ts_err = mean_absolute_error(ytest,ts_pred)\n",
    "tr_err,ts_err"
   ]
  },
  {
   "cell_type": "code",
   "execution_count": 71,
   "id": "dce59518",
   "metadata": {},
   "outputs": [
    {
     "data": {
      "text/plain": [
       "array([ 5.46342448,  0.        ,  0.        , -0.        ,  0.        ,\n",
       "       -0.        , -0.        ,  0.        , -0.        , -0.        ,\n",
       "       -0.        , -0.        , -0.        ,  0.        ,  0.        ,\n",
       "       -0.        , -0.        , -0.        , -0.        ,  0.        ,\n",
       "       -0.        ,  0.        ,  0.        ,  2.85344631, -1.54827682,\n",
       "        0.        ,  0.        ,  0.29958296, -0.8875889 , -0.        ,\n",
       "       -0.        ,  0.        , -0.        ,  0.        ,  0.        ,\n",
       "        0.        , -0.        ])"
      ]
     },
     "execution_count": 71,
     "metadata": {},
     "output_type": "execute_result"
    }
   ],
   "source": [
    "model.coef_"
   ]
  },
  {
   "cell_type": "code",
   "execution_count": null,
   "id": "6d07478a",
   "metadata": {},
   "outputs": [],
   "source": []
  }
 ],
 "metadata": {
  "kernelspec": {
   "display_name": "Python 3 (ipykernel)",
   "language": "python",
   "name": "python3"
  },
  "language_info": {
   "codemirror_mode": {
    "name": "ipython",
    "version": 3
   },
   "file_extension": ".py",
   "mimetype": "text/x-python",
   "name": "python",
   "nbconvert_exporter": "python",
   "pygments_lexer": "ipython3",
   "version": "3.9.12"
  }
 },
 "nbformat": 4,
 "nbformat_minor": 5
}
