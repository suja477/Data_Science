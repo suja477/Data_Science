{
 "cells": [
  {
   "cell_type": "raw",
   "id": "57ac5857",
   "metadata": {},
   "source": [
    "A Company wants to automate the loan eligibility process based on customer details provided while filling online application form. The details filled by the customer are Gender, Marital Status, Education, Number of Dependents, Income of self and co applicant, Required Loan Amount, Required Loan Term, Credit History and others. The requirements are as follows:\n",
    "\n",
    "\n"
   ]
  },
  {
   "cell_type": "markdown",
   "id": "dc58f3bc",
   "metadata": {},
   "source": [
    "# 1.)Check eligibility of the Customer given the inputs described above.(Classification)\n"
   ]
  },
  {
   "cell_type": "markdown",
   "id": "507214be",
   "metadata": {},
   "source": [
    "# Read Data"
   ]
  },
  {
   "cell_type": "code",
   "execution_count": 1,
   "id": "bbdf3bed",
   "metadata": {},
   "outputs": [],
   "source": [
    "import pandas as pd\n",
    "from warnings import filterwarnings \n",
    "filterwarnings(\"ignore\")\n",
    "\n",
    "A=pd.read_csv(\"C:/Users/Suja4/OneDrive/Documents/Data Science/Loan_project/training_set.csv\")\n",
    "B=pd.read_csv(\"C:/Users/Suja4/OneDrive/Documents/Data Science/Loan_project/testing_set.csv\")\n"
   ]
  },
  {
   "cell_type": "code",
   "execution_count": 2,
   "id": "80f6753b",
   "metadata": {},
   "outputs": [
    {
     "data": {
      "text/html": [
       "<div>\n",
       "<style scoped>\n",
       "    .dataframe tbody tr th:only-of-type {\n",
       "        vertical-align: middle;\n",
       "    }\n",
       "\n",
       "    .dataframe tbody tr th {\n",
       "        vertical-align: top;\n",
       "    }\n",
       "\n",
       "    .dataframe thead th {\n",
       "        text-align: right;\n",
       "    }\n",
       "</style>\n",
       "<table border=\"1\" class=\"dataframe\">\n",
       "  <thead>\n",
       "    <tr style=\"text-align: right;\">\n",
       "      <th></th>\n",
       "      <th>Loan_ID</th>\n",
       "      <th>Gender</th>\n",
       "      <th>Married</th>\n",
       "      <th>Dependents</th>\n",
       "      <th>Education</th>\n",
       "      <th>Self_Employed</th>\n",
       "      <th>ApplicantIncome</th>\n",
       "      <th>CoapplicantIncome</th>\n",
       "      <th>LoanAmount</th>\n",
       "      <th>Loan_Amount_Term</th>\n",
       "      <th>Credit_History</th>\n",
       "      <th>Property_Area</th>\n",
       "      <th>Loan_Status</th>\n",
       "    </tr>\n",
       "  </thead>\n",
       "  <tbody>\n",
       "    <tr>\n",
       "      <th>0</th>\n",
       "      <td>LP001002</td>\n",
       "      <td>Male</td>\n",
       "      <td>No</td>\n",
       "      <td>0</td>\n",
       "      <td>Graduate</td>\n",
       "      <td>No</td>\n",
       "      <td>5849.0</td>\n",
       "      <td>0.0</td>\n",
       "      <td>NaN</td>\n",
       "      <td>360.0</td>\n",
       "      <td>1.0</td>\n",
       "      <td>Urban</td>\n",
       "      <td>Y</td>\n",
       "    </tr>\n",
       "    <tr>\n",
       "      <th>1</th>\n",
       "      <td>LP001003</td>\n",
       "      <td>Male</td>\n",
       "      <td>Yes</td>\n",
       "      <td>1</td>\n",
       "      <td>Graduate</td>\n",
       "      <td>No</td>\n",
       "      <td>NaN</td>\n",
       "      <td>1508.0</td>\n",
       "      <td>128.0</td>\n",
       "      <td>360.0</td>\n",
       "      <td>1.0</td>\n",
       "      <td>Rural</td>\n",
       "      <td>N</td>\n",
       "    </tr>\n",
       "    <tr>\n",
       "      <th>2</th>\n",
       "      <td>LP001005</td>\n",
       "      <td>Male</td>\n",
       "      <td>Yes</td>\n",
       "      <td>0</td>\n",
       "      <td>Graduate</td>\n",
       "      <td>Yes</td>\n",
       "      <td>3000.0</td>\n",
       "      <td>0.0</td>\n",
       "      <td>66.0</td>\n",
       "      <td>360.0</td>\n",
       "      <td>1.0</td>\n",
       "      <td>Urban</td>\n",
       "      <td>Y</td>\n",
       "    </tr>\n",
       "    <tr>\n",
       "      <th>3</th>\n",
       "      <td>LP001006</td>\n",
       "      <td>Male</td>\n",
       "      <td>Yes</td>\n",
       "      <td>0</td>\n",
       "      <td>Not Graduate</td>\n",
       "      <td>No</td>\n",
       "      <td>2583.0</td>\n",
       "      <td>2358.0</td>\n",
       "      <td>120.0</td>\n",
       "      <td>360.0</td>\n",
       "      <td>1.0</td>\n",
       "      <td>Urban</td>\n",
       "      <td>Y</td>\n",
       "    </tr>\n",
       "    <tr>\n",
       "      <th>4</th>\n",
       "      <td>LP001008</td>\n",
       "      <td>Male</td>\n",
       "      <td>No</td>\n",
       "      <td>0</td>\n",
       "      <td>Graduate</td>\n",
       "      <td>No</td>\n",
       "      <td>6000.0</td>\n",
       "      <td>0.0</td>\n",
       "      <td>141.0</td>\n",
       "      <td>360.0</td>\n",
       "      <td>1.0</td>\n",
       "      <td>Urban</td>\n",
       "      <td>Y</td>\n",
       "    </tr>\n",
       "    <tr>\n",
       "      <th>...</th>\n",
       "      <td>...</td>\n",
       "      <td>...</td>\n",
       "      <td>...</td>\n",
       "      <td>...</td>\n",
       "      <td>...</td>\n",
       "      <td>...</td>\n",
       "      <td>...</td>\n",
       "      <td>...</td>\n",
       "      <td>...</td>\n",
       "      <td>...</td>\n",
       "      <td>...</td>\n",
       "      <td>...</td>\n",
       "      <td>...</td>\n",
       "    </tr>\n",
       "    <tr>\n",
       "      <th>609</th>\n",
       "      <td>LP002978</td>\n",
       "      <td>Female</td>\n",
       "      <td>No</td>\n",
       "      <td>0</td>\n",
       "      <td>Graduate</td>\n",
       "      <td>No</td>\n",
       "      <td>2900.0</td>\n",
       "      <td>0.0</td>\n",
       "      <td>71.0</td>\n",
       "      <td>360.0</td>\n",
       "      <td>1.0</td>\n",
       "      <td>Rural</td>\n",
       "      <td>Y</td>\n",
       "    </tr>\n",
       "    <tr>\n",
       "      <th>610</th>\n",
       "      <td>LP002979</td>\n",
       "      <td>Male</td>\n",
       "      <td>Yes</td>\n",
       "      <td>3+</td>\n",
       "      <td>Graduate</td>\n",
       "      <td>No</td>\n",
       "      <td>4106.0</td>\n",
       "      <td>0.0</td>\n",
       "      <td>40.0</td>\n",
       "      <td>180.0</td>\n",
       "      <td>1.0</td>\n",
       "      <td>Rural</td>\n",
       "      <td>Y</td>\n",
       "    </tr>\n",
       "    <tr>\n",
       "      <th>611</th>\n",
       "      <td>LP002983</td>\n",
       "      <td>Male</td>\n",
       "      <td>Yes</td>\n",
       "      <td>1</td>\n",
       "      <td>Graduate</td>\n",
       "      <td>No</td>\n",
       "      <td>8072.0</td>\n",
       "      <td>240.0</td>\n",
       "      <td>253.0</td>\n",
       "      <td>360.0</td>\n",
       "      <td>1.0</td>\n",
       "      <td>Urban</td>\n",
       "      <td>Y</td>\n",
       "    </tr>\n",
       "    <tr>\n",
       "      <th>612</th>\n",
       "      <td>LP002984</td>\n",
       "      <td>Male</td>\n",
       "      <td>Yes</td>\n",
       "      <td>2</td>\n",
       "      <td>Graduate</td>\n",
       "      <td>No</td>\n",
       "      <td>7583.0</td>\n",
       "      <td>0.0</td>\n",
       "      <td>187.0</td>\n",
       "      <td>360.0</td>\n",
       "      <td>1.0</td>\n",
       "      <td>Urban</td>\n",
       "      <td>Y</td>\n",
       "    </tr>\n",
       "    <tr>\n",
       "      <th>613</th>\n",
       "      <td>LP002990</td>\n",
       "      <td>Female</td>\n",
       "      <td>No</td>\n",
       "      <td>0</td>\n",
       "      <td>Graduate</td>\n",
       "      <td>Yes</td>\n",
       "      <td>4583.0</td>\n",
       "      <td>0.0</td>\n",
       "      <td>133.0</td>\n",
       "      <td>360.0</td>\n",
       "      <td>0.0</td>\n",
       "      <td>Semiurban</td>\n",
       "      <td>N</td>\n",
       "    </tr>\n",
       "  </tbody>\n",
       "</table>\n",
       "<p>614 rows × 13 columns</p>\n",
       "</div>"
      ],
      "text/plain": [
       "      Loan_ID  Gender Married Dependents     Education Self_Employed  \\\n",
       "0    LP001002    Male      No          0      Graduate            No   \n",
       "1    LP001003    Male     Yes          1      Graduate            No   \n",
       "2    LP001005    Male     Yes          0      Graduate           Yes   \n",
       "3    LP001006    Male     Yes          0  Not Graduate            No   \n",
       "4    LP001008    Male      No          0      Graduate            No   \n",
       "..        ...     ...     ...        ...           ...           ...   \n",
       "609  LP002978  Female      No          0      Graduate            No   \n",
       "610  LP002979    Male     Yes         3+      Graduate            No   \n",
       "611  LP002983    Male     Yes          1      Graduate            No   \n",
       "612  LP002984    Male     Yes          2      Graduate            No   \n",
       "613  LP002990  Female      No          0      Graduate           Yes   \n",
       "\n",
       "     ApplicantIncome  CoapplicantIncome  LoanAmount  Loan_Amount_Term  \\\n",
       "0             5849.0                0.0         NaN             360.0   \n",
       "1                NaN             1508.0       128.0             360.0   \n",
       "2             3000.0                0.0        66.0             360.0   \n",
       "3             2583.0             2358.0       120.0             360.0   \n",
       "4             6000.0                0.0       141.0             360.0   \n",
       "..               ...                ...         ...               ...   \n",
       "609           2900.0                0.0        71.0             360.0   \n",
       "610           4106.0                0.0        40.0             180.0   \n",
       "611           8072.0              240.0       253.0             360.0   \n",
       "612           7583.0                0.0       187.0             360.0   \n",
       "613           4583.0                0.0       133.0             360.0   \n",
       "\n",
       "     Credit_History Property_Area Loan_Status  \n",
       "0               1.0         Urban           Y  \n",
       "1               1.0         Rural           N  \n",
       "2               1.0         Urban           Y  \n",
       "3               1.0         Urban           Y  \n",
       "4               1.0         Urban           Y  \n",
       "..              ...           ...         ...  \n",
       "609             1.0         Rural           Y  \n",
       "610             1.0         Rural           Y  \n",
       "611             1.0         Urban           Y  \n",
       "612             1.0         Urban           Y  \n",
       "613             0.0     Semiurban           N  \n",
       "\n",
       "[614 rows x 13 columns]"
      ]
     },
     "execution_count": 2,
     "metadata": {},
     "output_type": "execute_result"
    }
   ],
   "source": [
    "A"
   ]
  },
  {
   "cell_type": "markdown",
   "id": "083d88b6",
   "metadata": {},
   "source": [
    "# Missing Data Treatment"
   ]
  },
  {
   "cell_type": "code",
   "execution_count": 3,
   "id": "3df38a99",
   "metadata": {},
   "outputs": [
    {
     "data": {
      "text/plain": [
       "Loan_ID               0\n",
       "Gender               15\n",
       "Married               3\n",
       "Dependents           15\n",
       "Education             1\n",
       "Self_Employed        32\n",
       "ApplicantIncome       2\n",
       "CoapplicantIncome     1\n",
       "LoanAmount           22\n",
       "Loan_Amount_Term     14\n",
       "Credit_History       50\n",
       "Property_Area         0\n",
       "Loan_Status           0\n",
       "dtype: int64"
      ]
     },
     "execution_count": 3,
     "metadata": {},
     "output_type": "execute_result"
    }
   ],
   "source": [
    "A.isna().sum()"
   ]
  },
  {
   "cell_type": "code",
   "execution_count": 4,
   "id": "73d58dda",
   "metadata": {},
   "outputs": [
    {
     "data": {
      "text/plain": [
       "Loan_ID               0\n",
       "Gender               11\n",
       "Married               0\n",
       "Dependents           10\n",
       "Education             0\n",
       "Self_Employed        23\n",
       "ApplicantIncome       0\n",
       "CoapplicantIncome     0\n",
       "LoanAmount            5\n",
       "Loan_Amount_Term      6\n",
       "Credit_History       29\n",
       "Property_Area         0\n",
       "dtype: int64"
      ]
     },
     "execution_count": 4,
     "metadata": {},
     "output_type": "execute_result"
    }
   ],
   "source": [
    "B.isna().sum()"
   ]
  },
  {
   "cell_type": "code",
   "execution_count": 5,
   "id": "403ecec7",
   "metadata": {},
   "outputs": [
    {
     "name": "stdout",
     "output_type": "stream",
     "text": [
      "<class 'pandas.core.frame.DataFrame'>\n",
      "RangeIndex: 367 entries, 0 to 366\n",
      "Data columns (total 12 columns):\n",
      " #   Column             Non-Null Count  Dtype  \n",
      "---  ------             --------------  -----  \n",
      " 0   Loan_ID            367 non-null    object \n",
      " 1   Gender             356 non-null    object \n",
      " 2   Married            367 non-null    object \n",
      " 3   Dependents         357 non-null    object \n",
      " 4   Education          367 non-null    object \n",
      " 5   Self_Employed      344 non-null    object \n",
      " 6   ApplicantIncome    367 non-null    int64  \n",
      " 7   CoapplicantIncome  367 non-null    int64  \n",
      " 8   LoanAmount         362 non-null    float64\n",
      " 9   Loan_Amount_Term   361 non-null    float64\n",
      " 10  Credit_History     338 non-null    float64\n",
      " 11  Property_Area      367 non-null    object \n",
      "dtypes: float64(3), int64(2), object(7)\n",
      "memory usage: 34.5+ KB\n"
     ]
    }
   ],
   "source": [
    "B.info()"
   ]
  },
  {
   "cell_type": "code",
   "execution_count": 6,
   "id": "39bb3162",
   "metadata": {},
   "outputs": [],
   "source": [
    "from Wd8pm import replacer\n",
    "replacer(A)"
   ]
  },
  {
   "cell_type": "markdown",
   "id": "3842ee25",
   "metadata": {},
   "source": [
    "# Outliers"
   ]
  },
  {
   "cell_type": "code",
   "execution_count": 7,
   "id": "ac2bfad8",
   "metadata": {},
   "outputs": [],
   "source": [
    "from Wd8pm import OL\n",
    "outlier=OL(A)"
   ]
  },
  {
   "cell_type": "code",
   "execution_count": 8,
   "id": "be3bf6d4",
   "metadata": {},
   "outputs": [
    {
     "data": {
      "text/plain": [
       "[9,\n",
       " 14,\n",
       " 68,\n",
       " 94,\n",
       " 126,\n",
       " 130,\n",
       " 133,\n",
       " 155,\n",
       " 171,\n",
       " 177,\n",
       " 183,\n",
       " 185,\n",
       " 242,\n",
       " 262,\n",
       " 278,\n",
       " 308,\n",
       " 313,\n",
       " 333,\n",
       " 369,\n",
       " 402,\n",
       " 409,\n",
       " 417,\n",
       " 432,\n",
       " 443,\n",
       " 487,\n",
       " 495,\n",
       " 497,\n",
       " 506,\n",
       " 523,\n",
       " 525,\n",
       " 546,\n",
       " 561,\n",
       " 575,\n",
       " 581,\n",
       " 585,\n",
       " 600,\n",
       " 604]"
      ]
     },
     "execution_count": 8,
     "metadata": {},
     "output_type": "execute_result"
    }
   ],
   "source": [
    "outlier"
   ]
  },
  {
   "cell_type": "code",
   "execution_count": 9,
   "id": "031f3809",
   "metadata": {},
   "outputs": [],
   "source": [
    "A=A.drop(index=outlier,axis=0)"
   ]
  },
  {
   "cell_type": "code",
   "execution_count": 10,
   "id": "06102934",
   "metadata": {},
   "outputs": [
    {
     "data": {
      "text/plain": [
       "(577, 13)"
      ]
     },
     "execution_count": 10,
     "metadata": {},
     "output_type": "execute_result"
    }
   ],
   "source": [
    "A.shape"
   ]
  },
  {
   "cell_type": "code",
   "execution_count": 11,
   "id": "07ae6fd2",
   "metadata": {},
   "outputs": [],
   "source": [
    "A.index=range(0,577)"
   ]
  },
  {
   "cell_type": "markdown",
   "id": "f5bc41a5",
   "metadata": {},
   "source": [
    "# for test data Fill mean from A"
   ]
  },
  {
   "cell_type": "code",
   "execution_count": 12,
   "id": "b9eff5e1",
   "metadata": {},
   "outputs": [
    {
     "data": {
      "text/plain": [
       "'Male'"
      ]
     },
     "execution_count": 12,
     "metadata": {},
     "output_type": "execute_result"
    }
   ],
   "source": [
    "x = A['Gender'].mode()[0]\n",
    "B['Gender'] = B['Gender'].fillna(x)\n",
    "x"
   ]
  },
  {
   "cell_type": "code",
   "execution_count": 13,
   "id": "8579f6ca",
   "metadata": {},
   "outputs": [
    {
     "data": {
      "text/plain": [
       "'0'"
      ]
     },
     "execution_count": 13,
     "metadata": {},
     "output_type": "execute_result"
    }
   ],
   "source": [
    "x = A['Dependents'].mode()[0]\n",
    "B['Dependents'] = B['Dependents'].fillna(x)\n",
    "x"
   ]
  },
  {
   "cell_type": "code",
   "execution_count": 14,
   "id": "6effbae2",
   "metadata": {},
   "outputs": [
    {
     "data": {
      "text/plain": [
       "'No'"
      ]
     },
     "execution_count": 14,
     "metadata": {},
     "output_type": "execute_result"
    }
   ],
   "source": [
    "x = A['Self_Employed'].mode()[0]\n",
    "B['Self_Employed'] = B['Self_Employed'].fillna(x)\n",
    "x"
   ]
  },
  {
   "cell_type": "code",
   "execution_count": 15,
   "id": "9673c5ab",
   "metadata": {},
   "outputs": [
    {
     "data": {
      "text/plain": [
       "136.05"
      ]
     },
     "execution_count": 15,
     "metadata": {},
     "output_type": "execute_result"
    }
   ],
   "source": [
    "x = round(A['LoanAmount'].mean(),2)\n",
    "B['LoanAmount'] = B['LoanAmount'].fillna(x)\n",
    "x"
   ]
  },
  {
   "cell_type": "code",
   "execution_count": 16,
   "id": "29a74cf5",
   "metadata": {},
   "outputs": [],
   "source": [
    "x = round(A['Loan_Amount_Term'].mean(),2)\n",
    "B['Loan_Amount_Term'] = B['Loan_Amount_Term'].fillna(x)"
   ]
  },
  {
   "cell_type": "code",
   "execution_count": 17,
   "id": "5da2f70d",
   "metadata": {},
   "outputs": [],
   "source": [
    "x =A['Credit_History'].mode()[0]\n",
    "B['Credit_History']= B['Credit_History'].fillna(x)"
   ]
  },
  {
   "cell_type": "code",
   "execution_count": 18,
   "id": "91f6a9c8",
   "metadata": {},
   "outputs": [
    {
     "data": {
      "text/plain": [
       "Loan_ID              0\n",
       "Gender               0\n",
       "Married              0\n",
       "Dependents           0\n",
       "Education            0\n",
       "Self_Employed        0\n",
       "ApplicantIncome      0\n",
       "CoapplicantIncome    0\n",
       "LoanAmount           0\n",
       "Loan_Amount_Term     0\n",
       "Credit_History       0\n",
       "Property_Area        0\n",
       "Loan_Status          0\n",
       "dtype: int64"
      ]
     },
     "execution_count": 18,
     "metadata": {},
     "output_type": "execute_result"
    }
   ],
   "source": [
    "A.isna().sum()\n"
   ]
  },
  {
   "cell_type": "code",
   "execution_count": 19,
   "id": "1b3ba99f",
   "metadata": {},
   "outputs": [
    {
     "data": {
      "text/plain": [
       "Loan_ID              0\n",
       "Gender               0\n",
       "Married              0\n",
       "Dependents           0\n",
       "Education            0\n",
       "Self_Employed        0\n",
       "ApplicantIncome      0\n",
       "CoapplicantIncome    0\n",
       "LoanAmount           0\n",
       "Loan_Amount_Term     0\n",
       "Credit_History       0\n",
       "Property_Area        0\n",
       "dtype: int64"
      ]
     },
     "execution_count": 19,
     "metadata": {},
     "output_type": "execute_result"
    }
   ],
   "source": [
    "B.isna().sum()"
   ]
  },
  {
   "cell_type": "markdown",
   "id": "6d05dcb7",
   "metadata": {},
   "source": [
    "# Unique values"
   ]
  },
  {
   "cell_type": "code",
   "execution_count": 20,
   "id": "36abf8c7",
   "metadata": {},
   "outputs": [
    {
     "data": {
      "text/plain": [
       "Loan_ID              577\n",
       "Gender                 2\n",
       "Married                2\n",
       "Dependents             4\n",
       "Education              2\n",
       "Self_Employed          2\n",
       "ApplicantIncome      474\n",
       "CoapplicantIncome    274\n",
       "LoanAmount           185\n",
       "Loan_Amount_Term       6\n",
       "Credit_History         3\n",
       "Property_Area          3\n",
       "Loan_Status            2\n",
       "dtype: int64"
      ]
     },
     "execution_count": 20,
     "metadata": {},
     "output_type": "execute_result"
    }
   ],
   "source": [
    "A.nunique()"
   ]
  },
  {
   "cell_type": "code",
   "execution_count": 21,
   "id": "07065223",
   "metadata": {},
   "outputs": [
    {
     "data": {
      "text/plain": [
       "Loan_ID              367\n",
       "Gender                 2\n",
       "Married                2\n",
       "Dependents             4\n",
       "Education              2\n",
       "Self_Employed          2\n",
       "ApplicantIncome      314\n",
       "CoapplicantIncome    194\n",
       "LoanAmount           145\n",
       "Loan_Amount_Term      13\n",
       "Credit_History         2\n",
       "Property_Area          3\n",
       "dtype: int64"
      ]
     },
     "execution_count": 21,
     "metadata": {},
     "output_type": "execute_result"
    }
   ],
   "source": [
    "B.nunique()"
   ]
  },
  {
   "cell_type": "code",
   "execution_count": null,
   "id": "342b150b",
   "metadata": {},
   "outputs": [],
   "source": []
  },
  {
   "cell_type": "markdown",
   "id": "89b5a15b",
   "metadata": {},
   "source": [
    "# Outliers removal"
   ]
  },
  {
   "cell_type": "code",
   "execution_count": 22,
   "id": "53129fd9",
   "metadata": {},
   "outputs": [],
   "source": [
    "from Wd8pm import OL\n",
    "out = OL(A)"
   ]
  },
  {
   "cell_type": "code",
   "execution_count": 23,
   "id": "05790609",
   "metadata": {},
   "outputs": [],
   "source": [
    "A = A.drop(index=out,axis=0)"
   ]
  },
  {
   "cell_type": "code",
   "execution_count": 24,
   "id": "11d9e5c8",
   "metadata": {},
   "outputs": [
    {
     "data": {
      "text/plain": [
       "(505, 13)"
      ]
     },
     "execution_count": 24,
     "metadata": {},
     "output_type": "execute_result"
    }
   ],
   "source": [
    "A.shape"
   ]
  },
  {
   "cell_type": "code",
   "execution_count": 25,
   "id": "38d9d26d",
   "metadata": {},
   "outputs": [],
   "source": [
    "A.index=range(0,505)"
   ]
  },
  {
   "cell_type": "markdown",
   "id": "b341de24",
   "metadata": {},
   "source": [
    "# Bivariate Analysis"
   ]
  },
  {
   "cell_type": "code",
   "execution_count": null,
   "id": "24bf2d76",
   "metadata": {},
   "outputs": [],
   "source": []
  },
  {
   "cell_type": "code",
   "execution_count": 26,
   "id": "005aad12",
   "metadata": {},
   "outputs": [],
   "source": [
    "Y= A[\"Loan_Status\"]\n",
    "X=A.drop(labels=[\"Loan_Status\",\"Loan_ID\"],axis=1)\n",
    "Xb=B.drop(labels=[\"Loan_ID\"],axis=1)"
   ]
  },
  {
   "cell_type": "markdown",
   "id": "3f173c3d",
   "metadata": {},
   "source": [
    "# NeuralNetworks"
   ]
  },
  {
   "cell_type": "code",
   "execution_count": 27,
   "id": "bf83a91d",
   "metadata": {},
   "outputs": [],
   "source": [
    "Y= A[[\"Loan_Status\"]]\n",
    "X=A.drop(labels=[\"Loan_Status\",\"Loan_ID\"],axis=1)\n",
    "Xb=B.drop(labels=[\"Loan_ID\"],axis=1)"
   ]
  },
  {
   "cell_type": "raw",
   "id": "7907281e",
   "metadata": {},
   "source": [
    "Labelencoding is required since it is a classification problem"
   ]
  },
  {
   "cell_type": "code",
   "execution_count": 28,
   "id": "193aa0e4",
   "metadata": {},
   "outputs": [],
   "source": [
    "from sklearn.preprocessing import LabelEncoder\n",
    "le = LabelEncoder()\n",
    "Ynew = pd.DataFrame(le.fit_transform(Y.Loan_Status),columns=[\"Loan_Status\"])"
   ]
  },
  {
   "cell_type": "code",
   "execution_count": 29,
   "id": "1ba1a787",
   "metadata": {},
   "outputs": [],
   "source": [
    "from Wd8pm import catcon\n",
    "cat,con=catcon(X)"
   ]
  },
  {
   "cell_type": "raw",
   "id": "d7ede2ab",
   "metadata": {},
   "source": [
    "use minmax scaler for neural networks,also for B data use only transform of minmaxscaler "
   ]
  },
  {
   "cell_type": "code",
   "execution_count": 30,
   "id": "a49b56ca",
   "metadata": {},
   "outputs": [],
   "source": [
    "from sklearn.preprocessing import MinMaxScaler\n",
    "mm = MinMaxScaler()\n",
    "X1 = pd.DataFrame(mm.fit_transform(X[con]),columns=con)\n",
    "X2 = pd.get_dummies(X[cat])\n",
    "Xnew = X1.join(X2)\n",
    "\n",
    "X1b = pd.DataFrame(mm.transform(Xb[con]),columns=con)\n",
    "X2b = pd.get_dummies(Xb[cat])\n",
    "Xnewb = X1b.join(X2b)"
   ]
  },
  {
   "cell_type": "markdown",
   "id": "e20f5fb4",
   "metadata": {},
   "source": [
    "# Splitting"
   ]
  },
  {
   "cell_type": "code",
   "execution_count": 31,
   "id": "109f024b",
   "metadata": {},
   "outputs": [],
   "source": [
    "from sklearn.model_selection import train_test_split\n",
    "xtrain,xtest,ytrain,ytest=train_test_split(Xnew,Ynew,test_size=0.2,random_state=21)"
   ]
  },
  {
   "cell_type": "code",
   "execution_count": 32,
   "id": "4ebc6ca0",
   "metadata": {},
   "outputs": [],
   "source": [
    "from keras.models import Sequential\n",
    "from keras.layers import Dense,Dropout"
   ]
  },
  {
   "cell_type": "raw",
   "id": "77459837",
   "metadata": {},
   "source": [
    "this is a classification problem ,so use loss as binary_crossentropy "
   ]
  },
  {
   "cell_type": "code",
   "execution_count": 33,
   "id": "6729ec01",
   "metadata": {},
   "outputs": [
    {
     "name": "stdout",
     "output_type": "stream",
     "text": [
      "Epoch 1/250\n",
      "13/13 [==============================] - 1s 22ms/step - loss: 0.7235 - accuracy: 0.6337 - val_loss: 0.4548 - val_accuracy: 0.8317\n",
      "Epoch 2/250\n",
      "13/13 [==============================] - 0s 6ms/step - loss: 0.5731 - accuracy: 0.7500 - val_loss: 0.4340 - val_accuracy: 0.8317\n",
      "Epoch 3/250\n",
      "13/13 [==============================] - 0s 6ms/step - loss: 0.5763 - accuracy: 0.7327 - val_loss: 0.4189 - val_accuracy: 0.8515\n",
      "Epoch 4/250\n",
      "13/13 [==============================] - 0s 6ms/step - loss: 0.5386 - accuracy: 0.7748 - val_loss: 0.4291 - val_accuracy: 0.8515\n",
      "Epoch 5/250\n",
      "13/13 [==============================] - 0s 6ms/step - loss: 0.5037 - accuracy: 0.7748 - val_loss: 0.4289 - val_accuracy: 0.8515\n",
      "Epoch 6/250\n",
      "13/13 [==============================] - 0s 6ms/step - loss: 0.5215 - accuracy: 0.7550 - val_loss: 0.4757 - val_accuracy: 0.8416\n",
      "Epoch 7/250\n",
      "13/13 [==============================] - 0s 14ms/step - loss: 0.5212 - accuracy: 0.7772 - val_loss: 0.4256 - val_accuracy: 0.8515\n",
      "Epoch 8/250\n",
      "13/13 [==============================] - 0s 7ms/step - loss: 0.4855 - accuracy: 0.7896 - val_loss: 0.4267 - val_accuracy: 0.8515\n",
      "Epoch 9/250\n",
      "13/13 [==============================] - 0s 7ms/step - loss: 0.4887 - accuracy: 0.8020 - val_loss: 0.6223 - val_accuracy: 0.6436\n",
      "Epoch 10/250\n",
      "13/13 [==============================] - 0s 5ms/step - loss: 0.4940 - accuracy: 0.7970 - val_loss: 0.4381 - val_accuracy: 0.8218\n",
      "Epoch 11/250\n",
      "13/13 [==============================] - 0s 5ms/step - loss: 0.5020 - accuracy: 0.7970 - val_loss: 0.4515 - val_accuracy: 0.8515\n",
      "Epoch 12/250\n",
      "13/13 [==============================] - 0s 5ms/step - loss: 0.4880 - accuracy: 0.7946 - val_loss: 0.4249 - val_accuracy: 0.8515\n",
      "Epoch 13/250\n",
      "13/13 [==============================] - 0s 5ms/step - loss: 0.4782 - accuracy: 0.7896 - val_loss: 0.4255 - val_accuracy: 0.8515\n"
     ]
    }
   ],
   "source": [
    "nn = Sequential()\n",
    "nn.add(Dense(100,input_dim=len(xtrain.columns)))\n",
    "nn.add(Dropout(0.1))\n",
    "nn.add(Dense(100))\n",
    "nn.add(Dense(100))\n",
    "nn.add(Dense(100))\n",
    "nn.add(Dense(100))\n",
    "nn.add(Dense(100))\n",
    "nn.add(Dense(100))\n",
    "nn.add(Dropout(0.1))\n",
    "nn.add(Dense(100))\n",
    "nn.add(Dropout(0.1))\n",
    "nn.add(Dense(1,activation=\"sigmoid\"))\n",
    "\n",
    "from keras.callbacks import EarlyStopping\n",
    "es = EarlyStopping(patience=10)\n",
    "nn.compile(loss=\"binary_crossentropy\",metrics=\"accuracy\")\n",
    "model = nn.fit(xtrain,ytrain,validation_data=(xtest,ytest),epochs=250,callbacks=es)"
   ]
  },
  {
   "cell_type": "code",
   "execution_count": 34,
   "id": "a25ebd90",
   "metadata": {},
   "outputs": [],
   "source": [
    "tr = model.history['accuracy']\n",
    "ts = model.history['val_accuracy']"
   ]
  },
  {
   "cell_type": "code",
   "execution_count": 35,
   "id": "28c9a87c",
   "metadata": {},
   "outputs": [
    {
     "data": {
      "text/plain": [
       "[<matplotlib.lines.Line2D at 0x2226bf8e9a0>]"
      ]
     },
     "execution_count": 35,
     "metadata": {},
     "output_type": "execute_result"
    },
    {
     "data": {
      "image/png": "[encoded data removed]",
      "text/plain": [
       "<Figure size 640x480 with 1 Axes>"
      ]
     },
     "metadata": {},
     "output_type": "display_data"
    }
   ],
   "source": [
    "import matplotlib.pyplot as plt\n",
    "plt.plot(tr,c=\"blue\")\n",
    "plt.plot(ts,c=\"red\")\n"
   ]
  },
  {
   "cell_type": "markdown",
   "id": "41f13195",
   "metadata": {},
   "source": [
    "# Training using Entire data"
   ]
  },
  {
   "cell_type": "code",
   "execution_count": 36,
   "id": "0fde5587",
   "metadata": {},
   "outputs": [
    {
     "name": "stdout",
     "output_type": "stream",
     "text": [
      "Epoch 1/250\n",
      "16/16 [==============================] - 1s 14ms/step - loss: 0.5959 - accuracy: 0.7307 - val_loss: 0.5867 - val_accuracy: 0.7327\n",
      "Epoch 2/250\n",
      "16/16 [==============================] - 0s 4ms/step - loss: 0.5055 - accuracy: 0.7762 - val_loss: 0.4491 - val_accuracy: 0.8515\n",
      "Epoch 3/250\n",
      "16/16 [==============================] - 0s 4ms/step - loss: 0.4951 - accuracy: 0.8040 - val_loss: 0.4237 - val_accuracy: 0.8317\n",
      "Epoch 4/250\n",
      "16/16 [==============================] - 0s 4ms/step - loss: 0.4819 - accuracy: 0.7960 - val_loss: 0.4514 - val_accuracy: 0.8317\n",
      "Epoch 5/250\n",
      "16/16 [==============================] - 0s 4ms/step - loss: 0.4945 - accuracy: 0.7901 - val_loss: 0.4561 - val_accuracy: 0.8515\n",
      "Epoch 6/250\n",
      "16/16 [==============================] - 0s 4ms/step - loss: 0.4795 - accuracy: 0.8020 - val_loss: 0.3995 - val_accuracy: 0.8515\n",
      "Epoch 7/250\n",
      "16/16 [==============================] - 0s 4ms/step - loss: 0.4794 - accuracy: 0.8079 - val_loss: 0.4480 - val_accuracy: 0.8515\n",
      "Epoch 8/250\n",
      "16/16 [==============================] - 0s 4ms/step - loss: 0.4627 - accuracy: 0.8119 - val_loss: 0.4508 - val_accuracy: 0.8515\n",
      "Epoch 9/250\n",
      "16/16 [==============================] - 0s 4ms/step - loss: 0.4730 - accuracy: 0.7921 - val_loss: 0.4186 - val_accuracy: 0.8515\n",
      "Epoch 10/250\n",
      "16/16 [==============================] - 0s 4ms/step - loss: 0.4770 - accuracy: 0.8059 - val_loss: 0.4036 - val_accuracy: 0.8515\n",
      "Epoch 11/250\n",
      "16/16 [==============================] - 0s 4ms/step - loss: 0.4737 - accuracy: 0.8059 - val_loss: 0.4063 - val_accuracy: 0.8515\n",
      "Epoch 12/250\n",
      "16/16 [==============================] - 0s 4ms/step - loss: 0.4768 - accuracy: 0.8000 - val_loss: 0.4085 - val_accuracy: 0.8614\n",
      "Epoch 13/250\n",
      "16/16 [==============================] - 0s 4ms/step - loss: 0.4681 - accuracy: 0.8040 - val_loss: 0.4010 - val_accuracy: 0.8515\n",
      "Epoch 14/250\n",
      "16/16 [==============================] - 0s 4ms/step - loss: 0.4804 - accuracy: 0.8040 - val_loss: 0.3991 - val_accuracy: 0.8515\n",
      "Epoch 15/250\n",
      "16/16 [==============================] - 0s 4ms/step - loss: 0.4730 - accuracy: 0.8000 - val_loss: 0.4081 - val_accuracy: 0.8515\n",
      "Epoch 16/250\n",
      "16/16 [==============================] - 0s 4ms/step - loss: 0.4718 - accuracy: 0.8119 - val_loss: 0.4128 - val_accuracy: 0.8515\n",
      "Epoch 17/250\n",
      "16/16 [==============================] - 0s 3ms/step - loss: 0.4617 - accuracy: 0.8099 - val_loss: 0.4158 - val_accuracy: 0.8515\n",
      "Epoch 18/250\n",
      "16/16 [==============================] - 0s 4ms/step - loss: 0.4632 - accuracy: 0.8059 - val_loss: 0.4127 - val_accuracy: 0.8515\n",
      "Epoch 19/250\n",
      "16/16 [==============================] - 0s 4ms/step - loss: 0.4653 - accuracy: 0.8040 - val_loss: 0.3973 - val_accuracy: 0.8515\n",
      "Epoch 20/250\n",
      "16/16 [==============================] - 0s 3ms/step - loss: 0.4595 - accuracy: 0.8099 - val_loss: 0.4306 - val_accuracy: 0.8317\n",
      "Epoch 21/250\n",
      "16/16 [==============================] - 0s 4ms/step - loss: 0.4698 - accuracy: 0.8059 - val_loss: 0.4069 - val_accuracy: 0.8515\n",
      "Epoch 22/250\n",
      "16/16 [==============================] - 0s 4ms/step - loss: 0.4614 - accuracy: 0.8040 - val_loss: 0.4258 - val_accuracy: 0.8515\n",
      "Epoch 23/250\n",
      "16/16 [==============================] - 0s 4ms/step - loss: 0.4519 - accuracy: 0.8119 - val_loss: 0.4037 - val_accuracy: 0.8515\n",
      "Epoch 24/250\n",
      "16/16 [==============================] - 0s 4ms/step - loss: 0.4667 - accuracy: 0.8020 - val_loss: 0.4147 - val_accuracy: 0.8515\n",
      "Epoch 25/250\n",
      "16/16 [==============================] - 0s 4ms/step - loss: 0.4600 - accuracy: 0.8119 - val_loss: 0.4038 - val_accuracy: 0.8515\n",
      "Epoch 26/250\n",
      "16/16 [==============================] - 0s 4ms/step - loss: 0.4652 - accuracy: 0.8198 - val_loss: 0.4020 - val_accuracy: 0.8515\n",
      "Epoch 27/250\n",
      "16/16 [==============================] - 0s 4ms/step - loss: 0.4566 - accuracy: 0.8178 - val_loss: 0.4296 - val_accuracy: 0.8416\n",
      "Epoch 28/250\n",
      "16/16 [==============================] - 0s 4ms/step - loss: 0.4395 - accuracy: 0.8119 - val_loss: 0.4072 - val_accuracy: 0.8515\n",
      "Epoch 29/250\n",
      "16/16 [==============================] - 0s 4ms/step - loss: 0.4661 - accuracy: 0.8139 - val_loss: 0.3970 - val_accuracy: 0.8515\n",
      "Epoch 30/250\n",
      "16/16 [==============================] - 0s 4ms/step - loss: 0.4625 - accuracy: 0.8178 - val_loss: 0.4330 - val_accuracy: 0.8515\n",
      "Epoch 31/250\n",
      "16/16 [==============================] - 0s 4ms/step - loss: 0.4601 - accuracy: 0.8139 - val_loss: 0.4109 - val_accuracy: 0.8515\n",
      "Epoch 32/250\n",
      "16/16 [==============================] - 0s 4ms/step - loss: 0.4542 - accuracy: 0.8158 - val_loss: 0.4044 - val_accuracy: 0.8515\n",
      "Epoch 33/250\n",
      "16/16 [==============================] - 0s 4ms/step - loss: 0.4561 - accuracy: 0.8158 - val_loss: 0.4346 - val_accuracy: 0.8515\n",
      "Epoch 34/250\n",
      "16/16 [==============================] - 0s 4ms/step - loss: 0.4639 - accuracy: 0.8119 - val_loss: 0.4115 - val_accuracy: 0.8515\n",
      "Epoch 35/250\n",
      "16/16 [==============================] - 0s 4ms/step - loss: 0.4588 - accuracy: 0.8158 - val_loss: 0.4286 - val_accuracy: 0.8515\n",
      "Epoch 36/250\n",
      "16/16 [==============================] - 0s 4ms/step - loss: 0.4647 - accuracy: 0.8040 - val_loss: 0.3968 - val_accuracy: 0.8515\n",
      "Epoch 37/250\n",
      "16/16 [==============================] - 0s 3ms/step - loss: 0.4613 - accuracy: 0.8119 - val_loss: 0.4230 - val_accuracy: 0.8515\n",
      "Epoch 38/250\n",
      "16/16 [==============================] - 0s 3ms/step - loss: 0.4630 - accuracy: 0.8139 - val_loss: 0.4102 - val_accuracy: 0.8515\n",
      "Epoch 39/250\n",
      "16/16 [==============================] - 0s 3ms/step - loss: 0.4572 - accuracy: 0.8178 - val_loss: 0.4031 - val_accuracy: 0.8515\n",
      "Epoch 40/250\n",
      "16/16 [==============================] - 0s 3ms/step - loss: 0.4673 - accuracy: 0.8079 - val_loss: 0.4101 - val_accuracy: 0.8515\n",
      "Epoch 41/250\n",
      "16/16 [==============================] - 0s 3ms/step - loss: 0.4549 - accuracy: 0.8257 - val_loss: 0.3960 - val_accuracy: 0.8515\n",
      "Epoch 42/250\n",
      "16/16 [==============================] - 0s 4ms/step - loss: 0.4590 - accuracy: 0.8119 - val_loss: 0.3964 - val_accuracy: 0.8515\n",
      "Epoch 43/250\n",
      "16/16 [==============================] - 0s 3ms/step - loss: 0.4662 - accuracy: 0.8099 - val_loss: 0.3965 - val_accuracy: 0.8515\n",
      "Epoch 44/250\n",
      "16/16 [==============================] - 0s 3ms/step - loss: 0.4597 - accuracy: 0.8119 - val_loss: 0.4019 - val_accuracy: 0.8515\n",
      "Epoch 45/250\n",
      "16/16 [==============================] - 0s 3ms/step - loss: 0.4530 - accuracy: 0.8099 - val_loss: 0.4102 - val_accuracy: 0.8515\n",
      "Epoch 46/250\n",
      "16/16 [==============================] - 0s 3ms/step - loss: 0.4554 - accuracy: 0.8099 - val_loss: 0.4129 - val_accuracy: 0.8515\n",
      "Epoch 47/250\n",
      "16/16 [==============================] - 0s 4ms/step - loss: 0.4416 - accuracy: 0.8158 - val_loss: 0.4333 - val_accuracy: 0.8515\n",
      "Epoch 48/250\n",
      "16/16 [==============================] - 0s 3ms/step - loss: 0.4529 - accuracy: 0.8178 - val_loss: 0.4057 - val_accuracy: 0.8515\n",
      "Epoch 49/250\n",
      "16/16 [==============================] - 0s 3ms/step - loss: 0.4645 - accuracy: 0.8158 - val_loss: 0.4057 - val_accuracy: 0.8515\n",
      "Epoch 50/250\n",
      "16/16 [==============================] - 0s 3ms/step - loss: 0.4514 - accuracy: 0.8198 - val_loss: 0.4134 - val_accuracy: 0.8515\n",
      "Epoch 51/250\n",
      "16/16 [==============================] - 0s 3ms/step - loss: 0.4507 - accuracy: 0.8178 - val_loss: 0.4028 - val_accuracy: 0.8515\n"
     ]
    }
   ],
   "source": [
    "nn = Sequential()\n",
    "nn.add(Dense(100,input_dim=len(xtrain.columns)))\n",
    "nn.add(Dropout(0.1))\n",
    "nn.add(Dense(100))\n",
    "nn.add(Dense(100))\n",
    "nn.add(Dense(100))\n",
    "nn.add(Dropout(0.1))\n",
    "nn.add(Dense(100))\n",
    "nn.add(Dropout(0.1))\n",
    "nn.add(Dense(1,activation=\"sigmoid\"))\n",
    "\n",
    "from keras.callbacks import EarlyStopping\n",
    "es = EarlyStopping(patience=10)\n",
    "nn.compile(loss=\"binary_crossentropy\",metrics=\"accuracy\")\n",
    "model = nn.fit(Xnew,Ynew,validation_data=(xtest,ytest),epochs=250,callbacks=es)"
   ]
  },
  {
   "cell_type": "markdown",
   "id": "ff248c28",
   "metadata": {},
   "source": [
    "# Predict"
   ]
  },
  {
   "cell_type": "code",
   "execution_count": 37,
   "id": "9deaebca",
   "metadata": {},
   "outputs": [
    {
     "name": "stdout",
     "output_type": "stream",
     "text": [
      "12/12 [==============================] - 0s 896us/step\n"
     ]
    }
   ],
   "source": [
    "final_DF = Xnewb[Xnew.columns]\n",
    "pred = nn.predict(final_DF)\n"
   ]
  },
  {
   "cell_type": "code",
   "execution_count": 38,
   "id": "62f6dbff",
   "metadata": {},
   "outputs": [
    {
     "data": {
      "text/plain": [
       "array([[0.7640124 ],\n",
       "       [0.81135947],\n",
       "       [0.8225151 ],\n",
       "       [0.90931696],\n",
       "       [0.6274886 ],\n",
       "       [0.78590125],\n",
       "       [0.82977605],\n",
       "       [0.01676959],\n",
       "       [0.8237179 ],\n",
       "       [0.8802552 ],\n",
       "       [0.6145526 ],\n",
       "       [0.9150086 ],\n",
       "       [0.96841645],\n",
       "       [0.0697232 ],\n",
       "       [0.85152537],\n",
       "       [0.6466103 ],\n",
       "       [0.8655629 ],\n",
       "       [0.9558587 ],\n",
       "       [0.8970457 ],\n",
       "       [0.98725605],\n",
       "       [0.8075514 ],\n",
       "       [0.95299995],\n",
       "       [0.7020889 ],\n",
       "       [0.5565846 ],\n",
       "       [0.8025732 ],\n",
       "       [0.8505412 ],\n",
       "       [0.8508489 ],\n",
       "       [0.78141904],\n",
       "       [0.9402438 ],\n",
       "       [0.94522   ],\n",
       "       [0.8278242 ],\n",
       "       [0.7923749 ],\n",
       "       [0.8924365 ],\n",
       "       [0.8431886 ],\n",
       "       [0.84136665],\n",
       "       [0.03829609],\n",
       "       [0.9746069 ],\n",
       "       [0.87045014],\n",
       "       [0.64609647],\n",
       "       [0.7641856 ],\n",
       "       [0.80715686],\n",
       "       [0.6824048 ],\n",
       "       [0.9223189 ],\n",
       "       [0.8854308 ],\n",
       "       [0.70925415],\n",
       "       [0.87236947],\n",
       "       [0.7030884 ],\n",
       "       [0.87477434],\n",
       "       [0.7890943 ],\n",
       "       [0.887434  ],\n",
       "       [0.822642  ],\n",
       "       [0.941302  ],\n",
       "       [0.9400308 ],\n",
       "       [0.97613007],\n",
       "       [0.6610811 ],\n",
       "       [0.01693649],\n",
       "       [0.49451935],\n",
       "       [0.99277264],\n",
       "       [0.17118862],\n",
       "       [0.9904073 ],\n",
       "       [0.90773416],\n",
       "       [0.73222744],\n",
       "       [0.8572493 ],\n",
       "       [0.02129567],\n",
       "       [0.8098024 ],\n",
       "       [0.9556014 ],\n",
       "       [0.04241008],\n",
       "       [0.0688123 ],\n",
       "       [0.8616263 ],\n",
       "       [0.0538358 ],\n",
       "       [0.87190616],\n",
       "       [0.89028394],\n",
       "       [0.9806352 ],\n",
       "       [0.68745255],\n",
       "       [0.9269223 ],\n",
       "       [0.81219906],\n",
       "       [0.8101111 ],\n",
       "       [0.6688235 ],\n",
       "       [0.95758694],\n",
       "       [0.6698586 ],\n",
       "       [0.05814929],\n",
       "       [0.34397295],\n",
       "       [0.00618894],\n",
       "       [0.5465467 ],\n",
       "       [0.24191971],\n",
       "       [0.99259746],\n",
       "       [0.82911754],\n",
       "       [0.87820244],\n",
       "       [0.92249244],\n",
       "       [0.52077734],\n",
       "       [0.79428893],\n",
       "       [0.55331653],\n",
       "       [0.9217588 ],\n",
       "       [0.9333003 ],\n",
       "       [0.11133163],\n",
       "       [0.9509618 ],\n",
       "       [0.81705797],\n",
       "       [0.9508954 ],\n",
       "       [0.8924351 ],\n",
       "       [0.9324335 ],\n",
       "       [0.6195163 ],\n",
       "       [0.02517178],\n",
       "       [0.7527131 ],\n",
       "       [0.9380552 ],\n",
       "       [0.92385924],\n",
       "       [0.89313364],\n",
       "       [0.02818617],\n",
       "       [0.8484773 ],\n",
       "       [0.8932596 ],\n",
       "       [0.691778  ],\n",
       "       [0.8430759 ],\n",
       "       [0.9139902 ],\n",
       "       [0.6918375 ],\n",
       "       [0.9682381 ],\n",
       "       [0.8751582 ],\n",
       "       [0.9697983 ],\n",
       "       [0.82494384],\n",
       "       [0.05517836],\n",
       "       [0.03571039],\n",
       "       [0.04815011],\n",
       "       [0.740739  ],\n",
       "       [0.8598867 ],\n",
       "       [0.9070067 ],\n",
       "       [0.05060057],\n",
       "       [0.00577104],\n",
       "       [0.8605649 ],\n",
       "       [0.02084486],\n",
       "       [0.7201805 ],\n",
       "       [0.9251907 ],\n",
       "       [0.93012834],\n",
       "       [0.8138582 ],\n",
       "       [0.62351656],\n",
       "       [0.76973045],\n",
       "       [0.68858033],\n",
       "       [0.96180797],\n",
       "       [0.7561163 ],\n",
       "       [0.7645558 ],\n",
       "       [0.8398891 ],\n",
       "       [0.9012563 ],\n",
       "       [0.93370795],\n",
       "       [0.01199038],\n",
       "       [0.97334236],\n",
       "       [0.03439634],\n",
       "       [0.35572472],\n",
       "       [0.9618844 ],\n",
       "       [0.70540553],\n",
       "       [0.822609  ],\n",
       "       [0.00478531],\n",
       "       [0.9033564 ],\n",
       "       [0.6401722 ],\n",
       "       [0.82814354],\n",
       "       [0.8302435 ],\n",
       "       [0.5969806 ],\n",
       "       [0.02847833],\n",
       "       [0.82316136],\n",
       "       [0.914847  ],\n",
       "       [0.88010305],\n",
       "       [0.82328105],\n",
       "       [0.8844079 ],\n",
       "       [0.5732432 ],\n",
       "       [0.76553094],\n",
       "       [0.05903283],\n",
       "       [0.6790089 ],\n",
       "       [0.6884822 ],\n",
       "       [0.90745664],\n",
       "       [0.02564799],\n",
       "       [0.02759876],\n",
       "       [0.870462  ],\n",
       "       [0.28395182],\n",
       "       [0.7380706 ],\n",
       "       [0.6333866 ],\n",
       "       [0.68995386],\n",
       "       [0.6924863 ],\n",
       "       [0.11880808],\n",
       "       [0.02247775],\n",
       "       [0.90614146],\n",
       "       [0.868386  ],\n",
       "       [0.6875516 ],\n",
       "       [0.76574737],\n",
       "       [0.799492  ],\n",
       "       [0.95568436],\n",
       "       [0.9397416 ],\n",
       "       [0.82829684],\n",
       "       [0.82530874],\n",
       "       [0.8767515 ],\n",
       "       [0.8439309 ],\n",
       "       [0.90740114],\n",
       "       [0.87362605],\n",
       "       [0.5552825 ],\n",
       "       [0.7651505 ],\n",
       "       [0.95448214],\n",
       "       [0.7064423 ],\n",
       "       [0.02937672],\n",
       "       [0.04578656],\n",
       "       [0.78345376],\n",
       "       [0.64609647],\n",
       "       [0.06758351],\n",
       "       [0.7224884 ],\n",
       "       [0.04817511],\n",
       "       [0.7975106 ],\n",
       "       [0.4444276 ],\n",
       "       [0.8569784 ],\n",
       "       [0.8329876 ],\n",
       "       [0.94546777],\n",
       "       [0.9103874 ],\n",
       "       [0.9455921 ],\n",
       "       [0.9219804 ],\n",
       "       [0.91111994],\n",
       "       [0.71096337],\n",
       "       [0.7634691 ],\n",
       "       [0.7428349 ],\n",
       "       [0.01687769],\n",
       "       [0.9369479 ],\n",
       "       [0.59109294],\n",
       "       [0.8237603 ],\n",
       "       [0.8331013 ],\n",
       "       [0.99397266],\n",
       "       [0.725045  ],\n",
       "       [0.7483611 ],\n",
       "       [0.83352387],\n",
       "       [0.8585575 ],\n",
       "       [0.71142715],\n",
       "       [0.5736506 ],\n",
       "       [0.6780047 ],\n",
       "       [0.04130882],\n",
       "       [0.7239014 ],\n",
       "       [0.8487141 ],\n",
       "       [0.87529516],\n",
       "       [0.77350384],\n",
       "       [0.03338014],\n",
       "       [0.9945803 ],\n",
       "       [0.78715897],\n",
       "       [0.9660664 ],\n",
       "       [0.8548279 ],\n",
       "       [0.8421303 ],\n",
       "       [0.02718934],\n",
       "       [0.16003919],\n",
       "       [0.98814595],\n",
       "       [0.92524105],\n",
       "       [0.50688237],\n",
       "       [0.5932603 ],\n",
       "       [0.10815199],\n",
       "       [0.92586666],\n",
       "       [0.03180327],\n",
       "       [0.8364205 ],\n",
       "       [0.39719823],\n",
       "       [0.8541642 ],\n",
       "       [0.72288686],\n",
       "       [0.8704126 ],\n",
       "       [0.9208164 ],\n",
       "       [0.02124885],\n",
       "       [0.95151395],\n",
       "       [0.83965516],\n",
       "       [0.85691357],\n",
       "       [0.8133587 ],\n",
       "       [0.01419274],\n",
       "       [0.73818463],\n",
       "       [0.88683665],\n",
       "       [0.85274565],\n",
       "       [0.86014616],\n",
       "       [0.95208985],\n",
       "       [0.93661624],\n",
       "       [0.699844  ],\n",
       "       [0.503763  ],\n",
       "       [0.7874528 ],\n",
       "       [0.93003356],\n",
       "       [0.00799021],\n",
       "       [0.7075284 ],\n",
       "       [0.04828797],\n",
       "       [0.6601026 ],\n",
       "       [0.8999461 ],\n",
       "       [0.7117445 ],\n",
       "       [0.67845976],\n",
       "       [0.10252479],\n",
       "       [0.05301698],\n",
       "       [0.97003776],\n",
       "       [0.72950983],\n",
       "       [0.96377456],\n",
       "       [0.09252504],\n",
       "       [0.7302234 ],\n",
       "       [0.9152712 ],\n",
       "       [0.7108871 ],\n",
       "       [0.6464419 ],\n",
       "       [0.49403584],\n",
       "       [0.9325236 ],\n",
       "       [0.53153676],\n",
       "       [0.75318104],\n",
       "       [0.85267246],\n",
       "       [0.6545576 ],\n",
       "       [0.87331444],\n",
       "       [0.9240221 ],\n",
       "       [0.8947383 ],\n",
       "       [0.5624679 ],\n",
       "       [0.04760098],\n",
       "       [0.78282183],\n",
       "       [0.8006623 ],\n",
       "       [0.8631129 ],\n",
       "       [0.56817037],\n",
       "       [0.89171714],\n",
       "       [0.7822364 ],\n",
       "       [0.7498019 ],\n",
       "       [0.0222958 ],\n",
       "       [0.46225062],\n",
       "       [0.7570988 ],\n",
       "       [0.927943  ],\n",
       "       [0.85167533],\n",
       "       [0.6894156 ],\n",
       "       [0.7020077 ],\n",
       "       [0.64926887],\n",
       "       [0.96654254],\n",
       "       [0.64632094],\n",
       "       [0.08945403],\n",
       "       [0.97573173],\n",
       "       [0.7609147 ],\n",
       "       [0.7578546 ],\n",
       "       [0.9731128 ],\n",
       "       [0.7089094 ],\n",
       "       [0.04465009],\n",
       "       [0.51220125],\n",
       "       [0.813156  ],\n",
       "       [0.76106364],\n",
       "       [0.69833374],\n",
       "       [0.9842977 ],\n",
       "       [0.95957637],\n",
       "       [0.74444175],\n",
       "       [0.67154425],\n",
       "       [0.8671639 ],\n",
       "       [0.82343584],\n",
       "       [0.8504848 ],\n",
       "       [0.9351803 ],\n",
       "       [0.6912363 ],\n",
       "       [0.72019315],\n",
       "       [0.73463076],\n",
       "       [0.9001269 ],\n",
       "       [0.96052164],\n",
       "       [0.82179284],\n",
       "       [0.65665084],\n",
       "       [0.8311473 ],\n",
       "       [0.9410611 ],\n",
       "       [0.01929161],\n",
       "       [0.99195284],\n",
       "       [0.7608503 ],\n",
       "       [0.9507968 ],\n",
       "       [0.7812563 ],\n",
       "       [0.5541297 ],\n",
       "       [0.7630652 ],\n",
       "       [0.03208744],\n",
       "       [0.6385492 ],\n",
       "       [0.7951839 ],\n",
       "       [0.7901845 ],\n",
       "       [0.63821036],\n",
       "       [0.98824507],\n",
       "       [0.8032661 ],\n",
       "       [0.86711   ],\n",
       "       [0.28432426],\n",
       "       [0.85799193],\n",
       "       [0.85255045],\n",
       "       [0.74785614],\n",
       "       [0.7488219 ],\n",
       "       [0.9128171 ],\n",
       "       [0.9004782 ],\n",
       "       [0.94517386],\n",
       "       [0.86089545],\n",
       "       [0.79593503],\n",
       "       [0.91065633],\n",
       "       [0.7933884 ],\n",
       "       [0.86962765]], dtype=float32)"
      ]
     },
     "execution_count": 38,
     "metadata": {},
     "output_type": "execute_result"
    }
   ],
   "source": [
    "\n",
    "pred"
   ]
  },
  {
   "cell_type": "code",
   "execution_count": 39,
   "id": "d0005e70",
   "metadata": {},
   "outputs": [],
   "source": [
    "Q=[]\n",
    "for i in pred:\n",
    "    Q.append(int(i[0]))"
   ]
  },
  {
   "cell_type": "code",
   "execution_count": 42,
   "id": "00b287d5",
   "metadata": {},
   "outputs": [],
   "source": [
    "w1 = []\n",
    "for i in pred:\n",
    "    if(i<0.5):\n",
    "        w1.append(\"N\")\n",
    "    else:\n",
    "        w1.append(\"Y\")"
   ]
  },
  {
   "cell_type": "code",
   "execution_count": 43,
   "id": "d3d0b183",
   "metadata": {},
   "outputs": [],
   "source": [
    "B[\"Loan_Status\"]=w1"
   ]
  },
  {
   "cell_type": "code",
   "execution_count": 44,
   "id": "47b55ff2",
   "metadata": {},
   "outputs": [
    {
     "data": {
      "text/html": [
       "<div>\n",
       "<style scoped>\n",
       "    .dataframe tbody tr th:only-of-type {\n",
       "        vertical-align: middle;\n",
       "    }\n",
       "\n",
       "    .dataframe tbody tr th {\n",
       "        vertical-align: top;\n",
       "    }\n",
       "\n",
       "    .dataframe thead th {\n",
       "        text-align: right;\n",
       "    }\n",
       "</style>\n",
       "<table border=\"1\" class=\"dataframe\">\n",
       "  <thead>\n",
       "    <tr style=\"text-align: right;\">\n",
       "      <th></th>\n",
       "      <th>Loan_ID</th>\n",
       "      <th>Gender</th>\n",
       "      <th>Married</th>\n",
       "      <th>Dependents</th>\n",
       "      <th>Education</th>\n",
       "      <th>Self_Employed</th>\n",
       "      <th>ApplicantIncome</th>\n",
       "      <th>CoapplicantIncome</th>\n",
       "      <th>LoanAmount</th>\n",
       "      <th>Loan_Amount_Term</th>\n",
       "      <th>Credit_History</th>\n",
       "      <th>Property_Area</th>\n",
       "      <th>Loan_Status</th>\n",
       "    </tr>\n",
       "  </thead>\n",
       "  <tbody>\n",
       "    <tr>\n",
       "      <th>0</th>\n",
       "      <td>LP001015</td>\n",
       "      <td>Male</td>\n",
       "      <td>Yes</td>\n",
       "      <td>0</td>\n",
       "      <td>Graduate</td>\n",
       "      <td>No</td>\n",
       "      <td>5720</td>\n",
       "      <td>0</td>\n",
       "      <td>110.0</td>\n",
       "      <td>360.0</td>\n",
       "      <td>1.0</td>\n",
       "      <td>Urban</td>\n",
       "      <td>Y</td>\n",
       "    </tr>\n",
       "    <tr>\n",
       "      <th>1</th>\n",
       "      <td>LP001022</td>\n",
       "      <td>Male</td>\n",
       "      <td>Yes</td>\n",
       "      <td>1</td>\n",
       "      <td>Graduate</td>\n",
       "      <td>No</td>\n",
       "      <td>3076</td>\n",
       "      <td>1500</td>\n",
       "      <td>126.0</td>\n",
       "      <td>360.0</td>\n",
       "      <td>1.0</td>\n",
       "      <td>Urban</td>\n",
       "      <td>Y</td>\n",
       "    </tr>\n",
       "    <tr>\n",
       "      <th>2</th>\n",
       "      <td>LP001031</td>\n",
       "      <td>Male</td>\n",
       "      <td>Yes</td>\n",
       "      <td>2</td>\n",
       "      <td>Graduate</td>\n",
       "      <td>No</td>\n",
       "      <td>5000</td>\n",
       "      <td>1800</td>\n",
       "      <td>208.0</td>\n",
       "      <td>360.0</td>\n",
       "      <td>1.0</td>\n",
       "      <td>Urban</td>\n",
       "      <td>Y</td>\n",
       "    </tr>\n",
       "    <tr>\n",
       "      <th>3</th>\n",
       "      <td>LP001035</td>\n",
       "      <td>Male</td>\n",
       "      <td>Yes</td>\n",
       "      <td>2</td>\n",
       "      <td>Graduate</td>\n",
       "      <td>No</td>\n",
       "      <td>2340</td>\n",
       "      <td>2546</td>\n",
       "      <td>100.0</td>\n",
       "      <td>360.0</td>\n",
       "      <td>1.0</td>\n",
       "      <td>Urban</td>\n",
       "      <td>Y</td>\n",
       "    </tr>\n",
       "    <tr>\n",
       "      <th>4</th>\n",
       "      <td>LP001051</td>\n",
       "      <td>Male</td>\n",
       "      <td>No</td>\n",
       "      <td>0</td>\n",
       "      <td>Not Graduate</td>\n",
       "      <td>No</td>\n",
       "      <td>3276</td>\n",
       "      <td>0</td>\n",
       "      <td>78.0</td>\n",
       "      <td>360.0</td>\n",
       "      <td>1.0</td>\n",
       "      <td>Urban</td>\n",
       "      <td>Y</td>\n",
       "    </tr>\n",
       "    <tr>\n",
       "      <th>...</th>\n",
       "      <td>...</td>\n",
       "      <td>...</td>\n",
       "      <td>...</td>\n",
       "      <td>...</td>\n",
       "      <td>...</td>\n",
       "      <td>...</td>\n",
       "      <td>...</td>\n",
       "      <td>...</td>\n",
       "      <td>...</td>\n",
       "      <td>...</td>\n",
       "      <td>...</td>\n",
       "      <td>...</td>\n",
       "      <td>...</td>\n",
       "    </tr>\n",
       "    <tr>\n",
       "      <th>362</th>\n",
       "      <td>LP002971</td>\n",
       "      <td>Male</td>\n",
       "      <td>Yes</td>\n",
       "      <td>3+</td>\n",
       "      <td>Not Graduate</td>\n",
       "      <td>Yes</td>\n",
       "      <td>4009</td>\n",
       "      <td>1777</td>\n",
       "      <td>113.0</td>\n",
       "      <td>360.0</td>\n",
       "      <td>1.0</td>\n",
       "      <td>Urban</td>\n",
       "      <td>Y</td>\n",
       "    </tr>\n",
       "    <tr>\n",
       "      <th>363</th>\n",
       "      <td>LP002975</td>\n",
       "      <td>Male</td>\n",
       "      <td>Yes</td>\n",
       "      <td>0</td>\n",
       "      <td>Graduate</td>\n",
       "      <td>No</td>\n",
       "      <td>4158</td>\n",
       "      <td>709</td>\n",
       "      <td>115.0</td>\n",
       "      <td>360.0</td>\n",
       "      <td>1.0</td>\n",
       "      <td>Urban</td>\n",
       "      <td>Y</td>\n",
       "    </tr>\n",
       "    <tr>\n",
       "      <th>364</th>\n",
       "      <td>LP002980</td>\n",
       "      <td>Male</td>\n",
       "      <td>No</td>\n",
       "      <td>0</td>\n",
       "      <td>Graduate</td>\n",
       "      <td>No</td>\n",
       "      <td>3250</td>\n",
       "      <td>1993</td>\n",
       "      <td>126.0</td>\n",
       "      <td>360.0</td>\n",
       "      <td>1.0</td>\n",
       "      <td>Semiurban</td>\n",
       "      <td>Y</td>\n",
       "    </tr>\n",
       "    <tr>\n",
       "      <th>365</th>\n",
       "      <td>LP002986</td>\n",
       "      <td>Male</td>\n",
       "      <td>Yes</td>\n",
       "      <td>0</td>\n",
       "      <td>Graduate</td>\n",
       "      <td>No</td>\n",
       "      <td>5000</td>\n",
       "      <td>2393</td>\n",
       "      <td>158.0</td>\n",
       "      <td>360.0</td>\n",
       "      <td>1.0</td>\n",
       "      <td>Rural</td>\n",
       "      <td>Y</td>\n",
       "    </tr>\n",
       "    <tr>\n",
       "      <th>366</th>\n",
       "      <td>LP002989</td>\n",
       "      <td>Male</td>\n",
       "      <td>No</td>\n",
       "      <td>0</td>\n",
       "      <td>Graduate</td>\n",
       "      <td>Yes</td>\n",
       "      <td>9200</td>\n",
       "      <td>0</td>\n",
       "      <td>98.0</td>\n",
       "      <td>180.0</td>\n",
       "      <td>1.0</td>\n",
       "      <td>Rural</td>\n",
       "      <td>Y</td>\n",
       "    </tr>\n",
       "  </tbody>\n",
       "</table>\n",
       "<p>367 rows × 13 columns</p>\n",
       "</div>"
      ],
      "text/plain": [
       "      Loan_ID Gender Married Dependents     Education Self_Employed  \\\n",
       "0    LP001015   Male     Yes          0      Graduate            No   \n",
       "1    LP001022   Male     Yes          1      Graduate            No   \n",
       "2    LP001031   Male     Yes          2      Graduate            No   \n",
       "3    LP001035   Male     Yes          2      Graduate            No   \n",
       "4    LP001051   Male      No          0  Not Graduate            No   \n",
       "..        ...    ...     ...        ...           ...           ...   \n",
       "362  LP002971   Male     Yes         3+  Not Graduate           Yes   \n",
       "363  LP002975   Male     Yes          0      Graduate            No   \n",
       "364  LP002980   Male      No          0      Graduate            No   \n",
       "365  LP002986   Male     Yes          0      Graduate            No   \n",
       "366  LP002989   Male      No          0      Graduate           Yes   \n",
       "\n",
       "     ApplicantIncome  CoapplicantIncome  LoanAmount  Loan_Amount_Term  \\\n",
       "0               5720                  0       110.0             360.0   \n",
       "1               3076               1500       126.0             360.0   \n",
       "2               5000               1800       208.0             360.0   \n",
       "3               2340               2546       100.0             360.0   \n",
       "4               3276                  0        78.0             360.0   \n",
       "..               ...                ...         ...               ...   \n",
       "362             4009               1777       113.0             360.0   \n",
       "363             4158                709       115.0             360.0   \n",
       "364             3250               1993       126.0             360.0   \n",
       "365             5000               2393       158.0             360.0   \n",
       "366             9200                  0        98.0             180.0   \n",
       "\n",
       "     Credit_History Property_Area Loan_Status  \n",
       "0               1.0         Urban           Y  \n",
       "1               1.0         Urban           Y  \n",
       "2               1.0         Urban           Y  \n",
       "3               1.0         Urban           Y  \n",
       "4               1.0         Urban           Y  \n",
       "..              ...           ...         ...  \n",
       "362             1.0         Urban           Y  \n",
       "363             1.0         Urban           Y  \n",
       "364             1.0     Semiurban           Y  \n",
       "365             1.0         Rural           Y  \n",
       "366             1.0         Rural           Y  \n",
       "\n",
       "[367 rows x 13 columns]"
      ]
     },
     "execution_count": 44,
     "metadata": {},
     "output_type": "execute_result"
    }
   ],
   "source": [
    "B"
   ]
  },
  {
   "cell_type": "code",
   "execution_count": 45,
   "id": "5e807480",
   "metadata": {},
   "outputs": [],
   "source": [
    "B.to_csv(\"C:/Users/Suja4/OneDrive/Documents/Data Science/Dataset/submission_loan_NN_1.csv\")"
   ]
  },
  {
   "cell_type": "markdown",
   "id": "6f240052",
   "metadata": {},
   "source": [
    "# Second Question"
   ]
  },
  {
   "cell_type": "code",
   "execution_count": null,
   "id": "edaed346",
   "metadata": {},
   "outputs": [],
   "source": []
  },
  {
   "cell_type": "raw",
   "id": "a164b283",
   "metadata": {},
   "source": [
    "# 3.)If customer is not eligible for the input required amount and duration:\n",
    "\n",
    "# a.)what can be amount for the given duration.(Regression)\n",
    "1.create a regression model to predict loan amount .\n",
    "2.use the earlier predicted data and predict the loan amount for all customers with \n",
    "loan_status=\"N\""
   ]
  },
  {
   "cell_type": "code",
   "execution_count": 46,
   "id": "7b13e700",
   "metadata": {},
   "outputs": [],
   "source": [
    "\n",
    "Xb=B[(B.Loan_Status==\"N\")]"
   ]
  },
  {
   "cell_type": "code",
   "execution_count": null,
   "id": "dce0f074",
   "metadata": {},
   "outputs": [],
   "source": []
  },
  {
   "cell_type": "code",
   "execution_count": 47,
   "id": "e6180fbc",
   "metadata": {},
   "outputs": [
    {
     "data": {
      "text/plain": [
       "(63, 13)"
      ]
     },
     "execution_count": 47,
     "metadata": {},
     "output_type": "execute_result"
    }
   ],
   "source": [
    "Xb.shape"
   ]
  },
  {
   "cell_type": "code",
   "execution_count": 49,
   "id": "027daa6c",
   "metadata": {},
   "outputs": [],
   "source": [
    "Xb.index=range(0,63)"
   ]
  },
  {
   "cell_type": "code",
   "execution_count": 50,
   "id": "f73a4e27",
   "metadata": {},
   "outputs": [],
   "source": [
    "N_cust=Xb"
   ]
  },
  {
   "cell_type": "code",
   "execution_count": 51,
   "id": "d46f2ecc",
   "metadata": {},
   "outputs": [],
   "source": [
    "Xb=Xb.drop(labels=[\"Loan_ID\"],axis=1)"
   ]
  },
  {
   "cell_type": "markdown",
   "id": "b8d95b29",
   "metadata": {},
   "source": [
    "# Bivariate analysis"
   ]
  },
  {
   "cell_type": "code",
   "execution_count": 52,
   "id": "c1f04198",
   "metadata": {},
   "outputs": [],
   "source": [
    "Y= A[\"LoanAmount\"]\n",
    "X=A.drop(labels=[\"LoanAmount\",\"Loan_Status\",\"Loan_ID\"],axis=1)\n",
    "Xb=Xb.drop(labels=[\"LoanAmount\",\"Loan_Status\"],axis=1)"
   ]
  },
  {
   "cell_type": "code",
   "execution_count": 53,
   "id": "a26f45d5",
   "metadata": {},
   "outputs": [],
   "source": [
    "from Wd8pm import catcon\n",
    "cat,con=catcon(X)\n",
    "from sklearn.preprocessing import MinMaxScaler\n",
    "mm = MinMaxScaler()\n",
    "X1 = pd.DataFrame(mm.fit_transform(X[con]),columns=con)\n",
    "X2 = pd.get_dummies(X[cat])\n",
    "Xnew = X1.join(X2)\n",
    "\n",
    "X1b = pd.DataFrame(mm.transform(Xb[con]),columns=con)\n",
    "X2b = pd.get_dummies(Xb[cat])\n",
    "Xnewb = X1b.join(X2b)"
   ]
  },
  {
   "cell_type": "code",
   "execution_count": 54,
   "id": "40c5491e",
   "metadata": {},
   "outputs": [],
   "source": [
    "\n",
    "from sklearn.model_selection import train_test_split\n",
    "xtrain,xtest,ytrain,ytest =train_test_split(Xnew,Y,test_size=0.2,random_state=21)\n"
   ]
  },
  {
   "cell_type": "code",
   "execution_count": 55,
   "id": "503dcefc",
   "metadata": {},
   "outputs": [
    {
     "name": "stdout",
     "output_type": "stream",
     "text": [
      "Epoch 1/250\n",
      "13/13 [==============================] - 1s 13ms/step - loss: 15988.3057 - val_loss: 8567.5498\n",
      "Epoch 2/250\n",
      "13/13 [==============================] - 0s 4ms/step - loss: 4637.5850 - val_loss: 2444.7180\n",
      "Epoch 3/250\n",
      "13/13 [==============================] - 0s 4ms/step - loss: 2248.5247 - val_loss: 2336.8198\n",
      "Epoch 4/250\n",
      "13/13 [==============================] - 0s 4ms/step - loss: 2221.3477 - val_loss: 2297.7915\n",
      "Epoch 5/250\n",
      "13/13 [==============================] - 0s 4ms/step - loss: 2132.2078 - val_loss: 2579.6104\n",
      "Epoch 6/250\n",
      "13/13 [==============================] - 0s 4ms/step - loss: 2113.8740 - val_loss: 2222.1838\n",
      "Epoch 7/250\n",
      "13/13 [==============================] - 0s 4ms/step - loss: 1964.4851 - val_loss: 2591.8652\n",
      "Epoch 8/250\n",
      "13/13 [==============================] - 0s 3ms/step - loss: 2053.0745 - val_loss: 2146.2327\n",
      "Epoch 9/250\n",
      "13/13 [==============================] - 0s 4ms/step - loss: 1950.5596 - val_loss: 2127.6809\n",
      "Epoch 10/250\n",
      "13/13 [==============================] - 0s 3ms/step - loss: 1960.6300 - val_loss: 2108.6746\n",
      "Epoch 11/250\n",
      "13/13 [==============================] - 0s 4ms/step - loss: 1867.5566 - val_loss: 2294.2742\n",
      "Epoch 12/250\n",
      "13/13 [==============================] - 0s 3ms/step - loss: 1912.7083 - val_loss: 2104.0349\n",
      "Epoch 13/250\n",
      "13/13 [==============================] - 0s 4ms/step - loss: 1801.6713 - val_loss: 2084.0054\n",
      "Epoch 14/250\n",
      "13/13 [==============================] - 0s 4ms/step - loss: 1804.3710 - val_loss: 2177.5432\n",
      "Epoch 15/250\n",
      "13/13 [==============================] - 0s 3ms/step - loss: 1818.4207 - val_loss: 2011.8605\n",
      "Epoch 16/250\n",
      "13/13 [==============================] - 0s 4ms/step - loss: 1738.4005 - val_loss: 2146.1919\n",
      "Epoch 17/250\n",
      "13/13 [==============================] - 0s 4ms/step - loss: 1671.7024 - val_loss: 2033.2031\n",
      "Epoch 18/250\n",
      "13/13 [==============================] - 0s 3ms/step - loss: 1694.9153 - val_loss: 2127.2351\n",
      "Epoch 19/250\n",
      "13/13 [==============================] - 0s 4ms/step - loss: 1648.1591 - val_loss: 1966.8311\n",
      "Epoch 20/250\n",
      "13/13 [==============================] - 0s 4ms/step - loss: 1680.2881 - val_loss: 2044.3280\n",
      "Epoch 21/250\n",
      "13/13 [==============================] - 0s 4ms/step - loss: 1703.3665 - val_loss: 1913.7454\n",
      "Epoch 22/250\n",
      "13/13 [==============================] - 0s 4ms/step - loss: 1568.4032 - val_loss: 1896.3546\n",
      "Epoch 23/250\n",
      "13/13 [==============================] - 0s 4ms/step - loss: 1678.3947 - val_loss: 1895.8118\n",
      "Epoch 24/250\n",
      "13/13 [==============================] - 0s 4ms/step - loss: 1588.6207 - val_loss: 2025.4395\n",
      "Epoch 25/250\n",
      "13/13 [==============================] - 0s 4ms/step - loss: 1560.4032 - val_loss: 1874.4215\n",
      "Epoch 26/250\n",
      "13/13 [==============================] - 0s 3ms/step - loss: 1589.5312 - val_loss: 1854.4948\n",
      "Epoch 27/250\n",
      "13/13 [==============================] - 0s 4ms/step - loss: 1557.8424 - val_loss: 1855.9642\n",
      "Epoch 28/250\n",
      "13/13 [==============================] - 0s 4ms/step - loss: 1545.6318 - val_loss: 1906.6715\n",
      "Epoch 29/250\n",
      "13/13 [==============================] - 0s 4ms/step - loss: 1585.0074 - val_loss: 1912.8979\n",
      "Epoch 30/250\n",
      "13/13 [==============================] - 0s 4ms/step - loss: 1467.2938 - val_loss: 1817.6549\n",
      "Epoch 31/250\n",
      "13/13 [==============================] - 0s 4ms/step - loss: 1477.0366 - val_loss: 1839.3008\n",
      "Epoch 32/250\n",
      "13/13 [==============================] - 0s 3ms/step - loss: 1454.3719 - val_loss: 1798.5458\n",
      "Epoch 33/250\n",
      "13/13 [==============================] - 0s 4ms/step - loss: 1411.2617 - val_loss: 1993.7744\n",
      "Epoch 34/250\n",
      "13/13 [==============================] - 0s 3ms/step - loss: 1389.3369 - val_loss: 1805.9132\n",
      "Epoch 35/250\n",
      "13/13 [==============================] - 0s 4ms/step - loss: 1472.9182 - val_loss: 1889.2444\n",
      "Epoch 36/250\n",
      "13/13 [==============================] - 0s 4ms/step - loss: 1487.8877 - val_loss: 1892.6011\n",
      "Epoch 37/250\n",
      "13/13 [==============================] - 0s 4ms/step - loss: 1441.9084 - val_loss: 1817.2803\n",
      "Epoch 38/250\n",
      "13/13 [==============================] - 0s 4ms/step - loss: 1346.9237 - val_loss: 1781.2615\n",
      "Epoch 39/250\n",
      "13/13 [==============================] - 0s 3ms/step - loss: 1473.5183 - val_loss: 1777.8358\n",
      "Epoch 40/250\n",
      "13/13 [==============================] - 0s 4ms/step - loss: 1431.5833 - val_loss: 1761.3732\n",
      "Epoch 41/250\n",
      "13/13 [==============================] - 0s 3ms/step - loss: 1352.1162 - val_loss: 1968.2374\n",
      "Epoch 42/250\n",
      "13/13 [==============================] - 0s 4ms/step - loss: 1436.3223 - val_loss: 1770.0575\n",
      "Epoch 43/250\n",
      "13/13 [==============================] - 0s 4ms/step - loss: 1418.1371 - val_loss: 1901.1083\n",
      "Epoch 44/250\n",
      "13/13 [==============================] - 0s 4ms/step - loss: 1435.6951 - val_loss: 1782.0817\n",
      "Epoch 45/250\n",
      "13/13 [==============================] - 0s 4ms/step - loss: 1378.1819 - val_loss: 1953.3802\n",
      "Epoch 46/250\n",
      "13/13 [==============================] - 0s 4ms/step - loss: 1328.1025 - val_loss: 2039.0989\n",
      "Epoch 47/250\n",
      "13/13 [==============================] - 0s 3ms/step - loss: 1345.3248 - val_loss: 1793.9535\n",
      "Epoch 48/250\n",
      "13/13 [==============================] - 0s 4ms/step - loss: 1396.9379 - val_loss: 1839.2623\n",
      "Epoch 49/250\n",
      "13/13 [==============================] - 0s 3ms/step - loss: 1406.6559 - val_loss: 1822.0748\n",
      "Epoch 50/250\n",
      "13/13 [==============================] - 0s 3ms/step - loss: 1340.7195 - val_loss: 1789.3966\n"
     ]
    }
   ],
   "source": [
    "from keras.models import Sequential\n",
    "from keras.layers import Dense,Dropout\n",
    "\n",
    "nn = Sequential()\n",
    "nn.add(Dense(100,input_dim=len(xtrain.columns)))\n",
    "nn.add(Dropout(0.1))\n",
    "nn.add(Dense(100))\n",
    "nn.add(Dropout(0.1))\n",
    "nn.add(Dense(100))\n",
    "nn.add(Dropout(0.1))\n",
    "nn.add(Dense(1))\n",
    "\n",
    "from keras.callbacks import EarlyStopping\n",
    "es = EarlyStopping(patience=10)\n",
    "nn.compile(loss=\"mse\")\n",
    "model = nn.fit(xtrain,ytrain,validation_data=(xtest,ytest),epochs=250,callbacks=es)"
   ]
  },
  {
   "cell_type": "code",
   "execution_count": 56,
   "id": "70de02ae",
   "metadata": {},
   "outputs": [],
   "source": [
    "tr_err = model.history['loss']\n",
    "ts_err = model.history['val_loss']"
   ]
  },
  {
   "cell_type": "code",
   "execution_count": 57,
   "id": "0865fe7a",
   "metadata": {},
   "outputs": [
    {
     "data": {
      "text/plain": [
       "[<matplotlib.lines.Line2D at 0x2227312dd60>]"
      ]
     },
     "execution_count": 57,
     "metadata": {},
     "output_type": "execute_result"
    },
    {
     "data": {
      "image/png": "[encoded data removed]",
      "text/plain": [
       "<Figure size 640x480 with 1 Axes>"
      ]
     },
     "metadata": {},
     "output_type": "display_data"
    }
   ],
   "source": [
    "import matplotlib.pyplot as plt\n",
    "plt.plot(tr_err)\n",
    "plt.plot(ts_err)"
   ]
  },
  {
   "cell_type": "markdown",
   "id": "537cf67c",
   "metadata": {},
   "source": [
    "# Training using entire data"
   ]
  },
  {
   "cell_type": "code",
   "execution_count": 58,
   "id": "0b9082f2",
   "metadata": {},
   "outputs": [
    {
     "name": "stdout",
     "output_type": "stream",
     "text": [
      "Epoch 1/250\n",
      "16/16 [==============================] - 1s 12ms/step - loss: 7754.4434 - val_loss: 2230.3108\n",
      "Epoch 2/250\n",
      "16/16 [==============================] - 0s 3ms/step - loss: 2384.4727 - val_loss: 2228.6370\n",
      "Epoch 3/250\n",
      "16/16 [==============================] - 0s 4ms/step - loss: 2379.6562 - val_loss: 2177.6641\n",
      "Epoch 4/250\n",
      "16/16 [==============================] - 0s 4ms/step - loss: 2231.5991 - val_loss: 2099.1724\n",
      "Epoch 5/250\n",
      "16/16 [==============================] - 0s 4ms/step - loss: 2147.6738 - val_loss: 2233.3669\n",
      "Epoch 6/250\n",
      "16/16 [==============================] - 0s 3ms/step - loss: 2172.2800 - val_loss: 2258.9563\n",
      "Epoch 7/250\n",
      "16/16 [==============================] - 0s 3ms/step - loss: 2292.9368 - val_loss: 2025.3734\n",
      "Epoch 8/250\n",
      "16/16 [==============================] - 0s 4ms/step - loss: 2054.2083 - val_loss: 1992.9408\n",
      "Epoch 9/250\n",
      "16/16 [==============================] - 0s 4ms/step - loss: 2037.9725 - val_loss: 2167.3066\n",
      "Epoch 10/250\n",
      "16/16 [==============================] - 0s 4ms/step - loss: 1916.5188 - val_loss: 1896.7649\n",
      "Epoch 11/250\n",
      "16/16 [==============================] - 0s 4ms/step - loss: 1948.6007 - val_loss: 2002.3755\n",
      "Epoch 12/250\n",
      "16/16 [==============================] - 0s 4ms/step - loss: 1947.8938 - val_loss: 1893.2748\n",
      "Epoch 13/250\n",
      "16/16 [==============================] - 0s 4ms/step - loss: 1990.6294 - val_loss: 1831.7965\n",
      "Epoch 14/250\n",
      "16/16 [==============================] - 0s 4ms/step - loss: 1860.9974 - val_loss: 1836.0472\n",
      "Epoch 15/250\n",
      "16/16 [==============================] - 0s 4ms/step - loss: 1862.8789 - val_loss: 2379.0166\n",
      "Epoch 16/250\n",
      "16/16 [==============================] - 0s 4ms/step - loss: 1624.6802 - val_loss: 1771.9977\n",
      "Epoch 17/250\n",
      "16/16 [==============================] - 0s 4ms/step - loss: 1701.5372 - val_loss: 2060.8135\n",
      "Epoch 18/250\n",
      "16/16 [==============================] - 0s 3ms/step - loss: 1720.8682 - val_loss: 1969.2845\n",
      "Epoch 19/250\n",
      "16/16 [==============================] - 0s 4ms/step - loss: 1727.2897 - val_loss: 1751.9515\n",
      "Epoch 20/250\n",
      "16/16 [==============================] - 0s 3ms/step - loss: 1726.7853 - val_loss: 1789.7926\n",
      "Epoch 21/250\n",
      "16/16 [==============================] - 0s 3ms/step - loss: 1706.2872 - val_loss: 1697.8280\n",
      "Epoch 22/250\n",
      "16/16 [==============================] - 0s 4ms/step - loss: 1785.6426 - val_loss: 2878.4778\n",
      "Epoch 23/250\n",
      "16/16 [==============================] - 0s 4ms/step - loss: 1646.7612 - val_loss: 1928.9657\n",
      "Epoch 24/250\n",
      "16/16 [==============================] - 0s 3ms/step - loss: 1790.0376 - val_loss: 1709.8138\n",
      "Epoch 25/250\n",
      "16/16 [==============================] - 0s 4ms/step - loss: 1594.0012 - val_loss: 1862.5662\n",
      "Epoch 26/250\n",
      "16/16 [==============================] - 0s 4ms/step - loss: 1721.9507 - val_loss: 1743.4622\n",
      "Epoch 27/250\n",
      "16/16 [==============================] - 0s 4ms/step - loss: 1554.4545 - val_loss: 1797.9093\n",
      "Epoch 28/250\n",
      "16/16 [==============================] - 0s 4ms/step - loss: 1818.2574 - val_loss: 1770.3628\n",
      "Epoch 29/250\n",
      "16/16 [==============================] - 0s 4ms/step - loss: 1497.6888 - val_loss: 1794.9518\n",
      "Epoch 30/250\n",
      "16/16 [==============================] - 0s 3ms/step - loss: 1644.3123 - val_loss: 1709.8333\n",
      "Epoch 31/250\n",
      "16/16 [==============================] - 0s 3ms/step - loss: 1669.0217 - val_loss: 1789.2013\n"
     ]
    }
   ],
   "source": [
    "nn = Sequential()\n",
    "nn.add(Dense(100,input_dim=len(xtrain.columns)))\n",
    "nn.add(Dropout(0.1))\n",
    "nn.add(Dense(100))\n",
    "nn.add(Dense(100))\n",
    "nn.add(Dense(100))\n",
    "nn.add(Dropout(0.1))\n",
    "nn.add(Dense(100))\n",
    "nn.add(Dropout(0.1))\n",
    "nn.add(Dense(1))\n",
    "\n",
    "from keras.callbacks import EarlyStopping\n",
    "es = EarlyStopping(patience=10)\n",
    "nn.compile(loss=\"mse\")\n",
    "model = nn.fit(Xnew,Y,validation_data=(xtest,ytest),epochs=250,callbacks=es)"
   ]
  },
  {
   "cell_type": "code",
   "execution_count": 59,
   "id": "40036b7b",
   "metadata": {},
   "outputs": [
    {
     "name": "stdout",
     "output_type": "stream",
     "text": [
      "2/2 [==============================] - 0s 3ms/step\n"
     ]
    },
    {
     "data": {
      "text/plain": [
       "array([[126.35473 ],\n",
       "       [234.00703 ],\n",
       "       [108.6462  ],\n",
       "       [ 99.90472 ],\n",
       "       [109.27946 ],\n",
       "       [161.41577 ],\n",
       "       [107.902405],\n",
       "       [133.88173 ],\n",
       "       [123.07905 ],\n",
       "       [173.31285 ],\n",
       "       [147.70177 ],\n",
       "       [966.3437  ],\n",
       "       [137.51495 ],\n",
       "       [123.291374],\n",
       "       [165.29095 ],\n",
       "       [112.106415],\n",
       "       [108.12057 ],\n",
       "       [131.6893  ],\n",
       "       [116.95744 ],\n",
       "       [136.79648 ],\n",
       "       [179.53186 ],\n",
       "       [213.87996 ],\n",
       "       [145.52551 ],\n",
       "       [125.52069 ],\n",
       "       [172.03674 ],\n",
       "       [471.03723 ],\n",
       "       [173.18048 ],\n",
       "       [131.18477 ],\n",
       "       [106.38342 ],\n",
       "       [ 93.45114 ],\n",
       "       [106.11704 ],\n",
       "       [144.81139 ],\n",
       "       [127.040405],\n",
       "       [126.9811  ],\n",
       "       [162.00854 ],\n",
       "       [141.82397 ],\n",
       "       [138.06557 ],\n",
       "       [121.79249 ],\n",
       "       [193.40054 ],\n",
       "       [163.24054 ],\n",
       "       [137.25398 ],\n",
       "       [145.7251  ],\n",
       "       [128.66753 ],\n",
       "       [159.24252 ],\n",
       "       [147.63841 ],\n",
       "       [131.29326 ],\n",
       "       [147.60912 ],\n",
       "       [140.19716 ],\n",
       "       [102.7833  ],\n",
       "       [139.1561  ],\n",
       "       [164.05057 ],\n",
       "       [160.42174 ],\n",
       "       [108.26535 ],\n",
       "       [142.29922 ],\n",
       "       [169.85541 ],\n",
       "       [125.20728 ],\n",
       "       [152.48724 ],\n",
       "       [246.27145 ],\n",
       "       [168.7017  ],\n",
       "       [130.17978 ],\n",
       "       [145.58902 ],\n",
       "       [144.97124 ],\n",
       "       [141.53244 ]], dtype=float32)"
      ]
     },
     "execution_count": 59,
     "metadata": {},
     "output_type": "execute_result"
    }
   ],
   "source": [
    "final_DF = Xnewb[Xnew.columns]\n",
    "pred = nn.predict(final_DF)\n",
    "\n",
    "\n",
    "pred"
   ]
  },
  {
   "cell_type": "code",
   "execution_count": 60,
   "id": "87e0e589",
   "metadata": {},
   "outputs": [],
   "source": [
    "N_cust[\"Loan_Amount\"]=pred"
   ]
  },
  {
   "cell_type": "code",
   "execution_count": 61,
   "id": "bef4de57",
   "metadata": {},
   "outputs": [
    {
     "data": {
      "text/html": [
       "<div>\n",
       "<style scoped>\n",
       "    .dataframe tbody tr th:only-of-type {\n",
       "        vertical-align: middle;\n",
       "    }\n",
       "\n",
       "    .dataframe tbody tr th {\n",
       "        vertical-align: top;\n",
       "    }\n",
       "\n",
       "    .dataframe thead th {\n",
       "        text-align: right;\n",
       "    }\n",
       "</style>\n",
       "<table border=\"1\" class=\"dataframe\">\n",
       "  <thead>\n",
       "    <tr style=\"text-align: right;\">\n",
       "      <th></th>\n",
       "      <th>Loan_ID</th>\n",
       "      <th>Gender</th>\n",
       "      <th>Married</th>\n",
       "      <th>Dependents</th>\n",
       "      <th>Education</th>\n",
       "      <th>Self_Employed</th>\n",
       "      <th>ApplicantIncome</th>\n",
       "      <th>CoapplicantIncome</th>\n",
       "      <th>LoanAmount</th>\n",
       "      <th>Loan_Amount_Term</th>\n",
       "      <th>Credit_History</th>\n",
       "      <th>Property_Area</th>\n",
       "      <th>Loan_Status</th>\n",
       "      <th>Loan_Amount</th>\n",
       "    </tr>\n",
       "  </thead>\n",
       "  <tbody>\n",
       "    <tr>\n",
       "      <th>0</th>\n",
       "      <td>LP001056</td>\n",
       "      <td>Male</td>\n",
       "      <td>Yes</td>\n",
       "      <td>2</td>\n",
       "      <td>Not Graduate</td>\n",
       "      <td>No</td>\n",
       "      <td>3881</td>\n",
       "      <td>0</td>\n",
       "      <td>147.0</td>\n",
       "      <td>360.0</td>\n",
       "      <td>0.0</td>\n",
       "      <td>Rural</td>\n",
       "      <td>N</td>\n",
       "      <td>126.354729</td>\n",
       "    </tr>\n",
       "    <tr>\n",
       "      <th>1</th>\n",
       "      <td>LP001094</td>\n",
       "      <td>Male</td>\n",
       "      <td>Yes</td>\n",
       "      <td>2</td>\n",
       "      <td>Graduate</td>\n",
       "      <td>No</td>\n",
       "      <td>12173</td>\n",
       "      <td>0</td>\n",
       "      <td>166.0</td>\n",
       "      <td>360.0</td>\n",
       "      <td>0.0</td>\n",
       "      <td>Semiurban</td>\n",
       "      <td>N</td>\n",
       "      <td>234.007034</td>\n",
       "    </tr>\n",
       "    <tr>\n",
       "      <th>2</th>\n",
       "      <td>LP001203</td>\n",
       "      <td>Male</td>\n",
       "      <td>No</td>\n",
       "      <td>0</td>\n",
       "      <td>Graduate</td>\n",
       "      <td>No</td>\n",
       "      <td>3150</td>\n",
       "      <td>0</td>\n",
       "      <td>176.0</td>\n",
       "      <td>360.0</td>\n",
       "      <td>0.0</td>\n",
       "      <td>Semiurban</td>\n",
       "      <td>N</td>\n",
       "      <td>108.646202</td>\n",
       "    </tr>\n",
       "    <tr>\n",
       "      <th>3</th>\n",
       "      <td>LP001313</td>\n",
       "      <td>Male</td>\n",
       "      <td>No</td>\n",
       "      <td>0</td>\n",
       "      <td>Graduate</td>\n",
       "      <td>No</td>\n",
       "      <td>2750</td>\n",
       "      <td>0</td>\n",
       "      <td>130.0</td>\n",
       "      <td>360.0</td>\n",
       "      <td>0.0</td>\n",
       "      <td>Urban</td>\n",
       "      <td>N</td>\n",
       "      <td>99.904716</td>\n",
       "    </tr>\n",
       "    <tr>\n",
       "      <th>4</th>\n",
       "      <td>LP001317</td>\n",
       "      <td>Female</td>\n",
       "      <td>No</td>\n",
       "      <td>0</td>\n",
       "      <td>Not Graduate</td>\n",
       "      <td>No</td>\n",
       "      <td>4402</td>\n",
       "      <td>0</td>\n",
       "      <td>130.0</td>\n",
       "      <td>360.0</td>\n",
       "      <td>1.0</td>\n",
       "      <td>Rural</td>\n",
       "      <td>N</td>\n",
       "      <td>109.279457</td>\n",
       "    </tr>\n",
       "    <tr>\n",
       "      <th>...</th>\n",
       "      <td>...</td>\n",
       "      <td>...</td>\n",
       "      <td>...</td>\n",
       "      <td>...</td>\n",
       "      <td>...</td>\n",
       "      <td>...</td>\n",
       "      <td>...</td>\n",
       "      <td>...</td>\n",
       "      <td>...</td>\n",
       "      <td>...</td>\n",
       "      <td>...</td>\n",
       "      <td>...</td>\n",
       "      <td>...</td>\n",
       "      <td>...</td>\n",
       "    </tr>\n",
       "    <tr>\n",
       "      <th>58</th>\n",
       "      <td>LP002747</td>\n",
       "      <td>Female</td>\n",
       "      <td>No</td>\n",
       "      <td>3+</td>\n",
       "      <td>Graduate</td>\n",
       "      <td>No</td>\n",
       "      <td>2366</td>\n",
       "      <td>5272</td>\n",
       "      <td>153.0</td>\n",
       "      <td>360.0</td>\n",
       "      <td>0.0</td>\n",
       "      <td>Rural</td>\n",
       "      <td>N</td>\n",
       "      <td>168.701706</td>\n",
       "    </tr>\n",
       "    <tr>\n",
       "      <th>59</th>\n",
       "      <td>LP002774</td>\n",
       "      <td>Male</td>\n",
       "      <td>Yes</td>\n",
       "      <td>0</td>\n",
       "      <td>Not Graduate</td>\n",
       "      <td>No</td>\n",
       "      <td>1700</td>\n",
       "      <td>2900</td>\n",
       "      <td>67.0</td>\n",
       "      <td>360.0</td>\n",
       "      <td>0.0</td>\n",
       "      <td>Urban</td>\n",
       "      <td>N</td>\n",
       "      <td>130.179779</td>\n",
       "    </tr>\n",
       "    <tr>\n",
       "      <th>60</th>\n",
       "      <td>LP002858</td>\n",
       "      <td>Female</td>\n",
       "      <td>No</td>\n",
       "      <td>0</td>\n",
       "      <td>Graduate</td>\n",
       "      <td>No</td>\n",
       "      <td>4333</td>\n",
       "      <td>2333</td>\n",
       "      <td>162.0</td>\n",
       "      <td>360.0</td>\n",
       "      <td>0.0</td>\n",
       "      <td>Rural</td>\n",
       "      <td>N</td>\n",
       "      <td>145.589020</td>\n",
       "    </tr>\n",
       "    <tr>\n",
       "      <th>61</th>\n",
       "      <td>LP002879</td>\n",
       "      <td>Male</td>\n",
       "      <td>Yes</td>\n",
       "      <td>0</td>\n",
       "      <td>Graduate</td>\n",
       "      <td>No</td>\n",
       "      <td>3391</td>\n",
       "      <td>1966</td>\n",
       "      <td>133.0</td>\n",
       "      <td>360.0</td>\n",
       "      <td>0.0</td>\n",
       "      <td>Rural</td>\n",
       "      <td>N</td>\n",
       "      <td>144.971237</td>\n",
       "    </tr>\n",
       "    <tr>\n",
       "      <th>62</th>\n",
       "      <td>LP002921</td>\n",
       "      <td>Male</td>\n",
       "      <td>Yes</td>\n",
       "      <td>3+</td>\n",
       "      <td>Not Graduate</td>\n",
       "      <td>No</td>\n",
       "      <td>5316</td>\n",
       "      <td>187</td>\n",
       "      <td>158.0</td>\n",
       "      <td>180.0</td>\n",
       "      <td>0.0</td>\n",
       "      <td>Semiurban</td>\n",
       "      <td>N</td>\n",
       "      <td>141.532440</td>\n",
       "    </tr>\n",
       "  </tbody>\n",
       "</table>\n",
       "<p>63 rows × 14 columns</p>\n",
       "</div>"
      ],
      "text/plain": [
       "     Loan_ID  Gender Married Dependents     Education Self_Employed  \\\n",
       "0   LP001056    Male     Yes          2  Not Graduate            No   \n",
       "1   LP001094    Male     Yes          2      Graduate            No   \n",
       "2   LP001203    Male      No          0      Graduate            No   \n",
       "3   LP001313    Male      No          0      Graduate            No   \n",
       "4   LP001317  Female      No          0  Not Graduate            No   \n",
       "..       ...     ...     ...        ...           ...           ...   \n",
       "58  LP002747  Female      No         3+      Graduate            No   \n",
       "59  LP002774    Male     Yes          0  Not Graduate            No   \n",
       "60  LP002858  Female      No          0      Graduate            No   \n",
       "61  LP002879    Male     Yes          0      Graduate            No   \n",
       "62  LP002921    Male     Yes         3+  Not Graduate            No   \n",
       "\n",
       "    ApplicantIncome  CoapplicantIncome  LoanAmount  Loan_Amount_Term  \\\n",
       "0              3881                  0       147.0             360.0   \n",
       "1             12173                  0       166.0             360.0   \n",
       "2              3150                  0       176.0             360.0   \n",
       "3              2750                  0       130.0             360.0   \n",
       "4              4402                  0       130.0             360.0   \n",
       "..              ...                ...         ...               ...   \n",
       "58             2366               5272       153.0             360.0   \n",
       "59             1700               2900        67.0             360.0   \n",
       "60             4333               2333       162.0             360.0   \n",
       "61             3391               1966       133.0             360.0   \n",
       "62             5316                187       158.0             180.0   \n",
       "\n",
       "    Credit_History Property_Area Loan_Status  Loan_Amount  \n",
       "0              0.0         Rural           N   126.354729  \n",
       "1              0.0     Semiurban           N   234.007034  \n",
       "2              0.0     Semiurban           N   108.646202  \n",
       "3              0.0         Urban           N    99.904716  \n",
       "4              1.0         Rural           N   109.279457  \n",
       "..             ...           ...         ...          ...  \n",
       "58             0.0         Rural           N   168.701706  \n",
       "59             0.0         Urban           N   130.179779  \n",
       "60             0.0         Rural           N   145.589020  \n",
       "61             0.0         Rural           N   144.971237  \n",
       "62             0.0     Semiurban           N   141.532440  \n",
       "\n",
       "[63 rows x 14 columns]"
      ]
     },
     "execution_count": 61,
     "metadata": {},
     "output_type": "execute_result"
    }
   ],
   "source": [
    "N_cust"
   ]
  },
  {
   "cell_type": "code",
   "execution_count": 62,
   "id": "ef0f8748",
   "metadata": {},
   "outputs": [],
   "source": [
    "N_cust.to_csv(\"C:/Users/Suja4/OneDrive/Documents/Data Science/Dataset/submission_loan_NN_2.csv\")"
   ]
  },
  {
   "cell_type": "markdown",
   "id": "37b50291",
   "metadata": {},
   "source": [
    "# b.)if duration is less than equal to 20 years,"
   ]
  },
  {
   "cell_type": "markdown",
   "id": "260d2c3c",
   "metadata": {},
   "source": [
    "# is customer eligible for required amount for some longer duration? What is that duration?(Regression)"
   ]
  },
  {
   "cell_type": "raw",
   "id": "84c45c6f",
   "metadata": {},
   "source": [
    "1.create a regression model from old data to predict duration .\n",
    "2.choose all the Loan status with \"N \" and duration <20 years from predicted data \n",
    "3.predict the loan duration for chosen customers "
   ]
  },
  {
   "cell_type": "code",
   "execution_count": 63,
   "id": "a3ff5df8",
   "metadata": {},
   "outputs": [
    {
     "data": {
      "text/html": [
       "<div>\n",
       "<style scoped>\n",
       "    .dataframe tbody tr th:only-of-type {\n",
       "        vertical-align: middle;\n",
       "    }\n",
       "\n",
       "    .dataframe tbody tr th {\n",
       "        vertical-align: top;\n",
       "    }\n",
       "\n",
       "    .dataframe thead th {\n",
       "        text-align: right;\n",
       "    }\n",
       "</style>\n",
       "<table border=\"1\" class=\"dataframe\">\n",
       "  <thead>\n",
       "    <tr style=\"text-align: right;\">\n",
       "      <th></th>\n",
       "      <th>Loan_ID</th>\n",
       "      <th>Gender</th>\n",
       "      <th>Married</th>\n",
       "      <th>Dependents</th>\n",
       "      <th>Education</th>\n",
       "      <th>Self_Employed</th>\n",
       "      <th>ApplicantIncome</th>\n",
       "      <th>CoapplicantIncome</th>\n",
       "      <th>LoanAmount</th>\n",
       "      <th>Loan_Amount_Term</th>\n",
       "      <th>Credit_History</th>\n",
       "      <th>Property_Area</th>\n",
       "      <th>Loan_Status</th>\n",
       "    </tr>\n",
       "  </thead>\n",
       "  <tbody>\n",
       "    <tr>\n",
       "      <th>84</th>\n",
       "      <td>LP001450</td>\n",
       "      <td>Male</td>\n",
       "      <td>Yes</td>\n",
       "      <td>0</td>\n",
       "      <td>Graduate</td>\n",
       "      <td>No</td>\n",
       "      <td>4456</td>\n",
       "      <td>0</td>\n",
       "      <td>131.0</td>\n",
       "      <td>180.0</td>\n",
       "      <td>0.0</td>\n",
       "      <td>Semiurban</td>\n",
       "      <td>N</td>\n",
       "    </tr>\n",
       "    <tr>\n",
       "      <th>173</th>\n",
       "      <td>LP001979</td>\n",
       "      <td>Male</td>\n",
       "      <td>No</td>\n",
       "      <td>0</td>\n",
       "      <td>Graduate</td>\n",
       "      <td>No</td>\n",
       "      <td>3017</td>\n",
       "      <td>2845</td>\n",
       "      <td>159.0</td>\n",
       "      <td>180.0</td>\n",
       "      <td>0.0</td>\n",
       "      <td>Urban</td>\n",
       "      <td>N</td>\n",
       "    </tr>\n",
       "    <tr>\n",
       "      <th>245</th>\n",
       "      <td>LP002355</td>\n",
       "      <td>Male</td>\n",
       "      <td>Yes</td>\n",
       "      <td>0</td>\n",
       "      <td>Graduate</td>\n",
       "      <td>No</td>\n",
       "      <td>3186</td>\n",
       "      <td>3145</td>\n",
       "      <td>150.0</td>\n",
       "      <td>180.0</td>\n",
       "      <td>0.0</td>\n",
       "      <td>Semiurban</td>\n",
       "      <td>N</td>\n",
       "    </tr>\n",
       "    <tr>\n",
       "      <th>354</th>\n",
       "      <td>LP002921</td>\n",
       "      <td>Male</td>\n",
       "      <td>Yes</td>\n",
       "      <td>3+</td>\n",
       "      <td>Not Graduate</td>\n",
       "      <td>No</td>\n",
       "      <td>5316</td>\n",
       "      <td>187</td>\n",
       "      <td>158.0</td>\n",
       "      <td>180.0</td>\n",
       "      <td>0.0</td>\n",
       "      <td>Semiurban</td>\n",
       "      <td>N</td>\n",
       "    </tr>\n",
       "  </tbody>\n",
       "</table>\n",
       "</div>"
      ],
      "text/plain": [
       "      Loan_ID Gender Married Dependents     Education Self_Employed  \\\n",
       "84   LP001450   Male     Yes          0      Graduate            No   \n",
       "173  LP001979   Male      No          0      Graduate            No   \n",
       "245  LP002355   Male     Yes          0      Graduate            No   \n",
       "354  LP002921   Male     Yes         3+  Not Graduate            No   \n",
       "\n",
       "     ApplicantIncome  CoapplicantIncome  LoanAmount  Loan_Amount_Term  \\\n",
       "84              4456                  0       131.0             180.0   \n",
       "173             3017               2845       159.0             180.0   \n",
       "245             3186               3145       150.0             180.0   \n",
       "354             5316                187       158.0             180.0   \n",
       "\n",
       "     Credit_History Property_Area Loan_Status  \n",
       "84              0.0     Semiurban           N  \n",
       "173             0.0         Urban           N  \n",
       "245             0.0     Semiurban           N  \n",
       "354             0.0     Semiurban           N  "
      ]
     },
     "execution_count": 63,
     "metadata": {},
     "output_type": "execute_result"
    }
   ],
   "source": [
    "B[((B.Loan_Amount_Term<=240) & (B.Loan_Status ==\"N\"))]"
   ]
  },
  {
   "cell_type": "code",
   "execution_count": null,
   "id": "8afa0532",
   "metadata": {},
   "outputs": [],
   "source": []
  },
  {
   "cell_type": "markdown",
   "id": "585c773d",
   "metadata": {},
   "source": [
    "# Bivariate analysis"
   ]
  },
  {
   "cell_type": "code",
   "execution_count": 64,
   "id": "d48fcdd5",
   "metadata": {},
   "outputs": [],
   "source": [
    "Y= A[\"Loan_Amount_Term\"]\n",
    "X=A.drop(labels=[\"Loan_Amount_Term\",\"Loan_Status\",\"Loan_ID\"],axis=1)\n",
    "\n",
    "Xb=B[((B.Loan_Amount_Term<=240) & (B.Loan_Status ==\"N\"))]\n"
   ]
  },
  {
   "cell_type": "code",
   "execution_count": 65,
   "id": "cb291163",
   "metadata": {},
   "outputs": [
    {
     "data": {
      "text/plain": [
       "(4, 13)"
      ]
     },
     "execution_count": 65,
     "metadata": {},
     "output_type": "execute_result"
    }
   ],
   "source": [
    "Xb.shape"
   ]
  },
  {
   "cell_type": "code",
   "execution_count": 67,
   "id": "4be705f9",
   "metadata": {},
   "outputs": [],
   "source": [
    "Xb.index=range(0,4)"
   ]
  },
  {
   "cell_type": "code",
   "execution_count": 68,
   "id": "2ce22a6e",
   "metadata": {},
   "outputs": [],
   "source": [
    "D_cust=Xb\n",
    "Xb=Xb.drop(labels=[\"Loan_Amount_Term\",\"Loan_ID\",\"Loan_Status\"],axis=1)"
   ]
  },
  {
   "cell_type": "code",
   "execution_count": 69,
   "id": "8597b1f6",
   "metadata": {},
   "outputs": [],
   "source": [
    "from Wd8pm import catcon\n",
    "cat,con=catcon(X)\n",
    "\n",
    "from sklearn.preprocessing import MinMaxScaler\n",
    "mm = MinMaxScaler()\n",
    "X1 = pd.DataFrame(mm.fit_transform(X[con]),columns=con)\n",
    "X2 = pd.get_dummies(X[cat])\n",
    "Xnew = X1.join(X2)\n",
    "\n",
    "X1b = pd.DataFrame(mm.transform(Xb[con]),columns=con)\n",
    "X2b = pd.get_dummies(Xb[cat])\n",
    "Xnewb = X1b.join(X2b)\n",
    "\n"
   ]
  },
  {
   "cell_type": "code",
   "execution_count": 70,
   "id": "6331257a",
   "metadata": {},
   "outputs": [],
   "source": [
    "from sklearn.model_selection import train_test_split\n",
    "xtrain,xtest,ytrain,ytest =train_test_split(Xnew,Y,test_size=0.2,random_state=21)\n"
   ]
  },
  {
   "cell_type": "markdown",
   "id": "f686bcf1",
   "metadata": {},
   "source": [
    "# Neural Networks"
   ]
  },
  {
   "cell_type": "code",
   "execution_count": 71,
   "id": "48c723fc",
   "metadata": {},
   "outputs": [],
   "source": [
    "from keras.models import Sequential\n",
    "from keras.layers import Dense,Dropout"
   ]
  },
  {
   "cell_type": "code",
   "execution_count": 72,
   "id": "ea3e1a51",
   "metadata": {},
   "outputs": [
    {
     "name": "stdout",
     "output_type": "stream",
     "text": [
      "Epoch 1/250\n",
      "13/13 [==============================] - 1s 13ms/step - loss: 119411.8594 - val_loss: 95793.3672\n",
      "Epoch 2/250\n",
      "13/13 [==============================] - 0s 3ms/step - loss: 63363.3672 - val_loss: 23386.4414\n",
      "Epoch 3/250\n",
      "13/13 [==============================] - 0s 3ms/step - loss: 9792.8467 - val_loss: 1529.2870\n",
      "Epoch 4/250\n",
      "13/13 [==============================] - 0s 4ms/step - loss: 2223.5400 - val_loss: 1274.7982\n",
      "Epoch 5/250\n",
      "13/13 [==============================] - 0s 4ms/step - loss: 2058.6931 - val_loss: 1167.3613\n",
      "Epoch 6/250\n",
      "13/13 [==============================] - 0s 3ms/step - loss: 1904.2019 - val_loss: 968.4665\n",
      "Epoch 7/250\n",
      "13/13 [==============================] - 0s 4ms/step - loss: 1695.3979 - val_loss: 1175.6749\n",
      "Epoch 8/250\n",
      "13/13 [==============================] - 0s 4ms/step - loss: 1612.7522 - val_loss: 865.0715\n",
      "Epoch 9/250\n",
      "13/13 [==============================] - 0s 4ms/step - loss: 1412.9440 - val_loss: 835.6772\n",
      "Epoch 10/250\n",
      "13/13 [==============================] - 0s 3ms/step - loss: 1393.1696 - val_loss: 826.8406\n",
      "Epoch 11/250\n",
      "13/13 [==============================] - 0s 4ms/step - loss: 1541.3688 - val_loss: 846.2960\n",
      "Epoch 12/250\n",
      "13/13 [==============================] - 0s 3ms/step - loss: 1512.8926 - val_loss: 735.9493\n",
      "Epoch 13/250\n",
      "13/13 [==============================] - 0s 4ms/step - loss: 1288.9047 - val_loss: 885.7911\n",
      "Epoch 14/250\n",
      "13/13 [==============================] - 0s 4ms/step - loss: 1227.6039 - val_loss: 753.3639\n",
      "Epoch 15/250\n",
      "13/13 [==============================] - 0s 3ms/step - loss: 1269.7539 - val_loss: 1145.7676\n",
      "Epoch 16/250\n",
      "13/13 [==============================] - 0s 4ms/step - loss: 1294.1035 - val_loss: 851.1178\n",
      "Epoch 17/250\n",
      "13/13 [==============================] - 0s 4ms/step - loss: 1164.5194 - val_loss: 1075.6145\n",
      "Epoch 18/250\n",
      "13/13 [==============================] - 0s 4ms/step - loss: 1244.4083 - val_loss: 796.1111\n",
      "Epoch 19/250\n",
      "13/13 [==============================] - 0s 4ms/step - loss: 1105.5305 - val_loss: 636.4310\n",
      "Epoch 20/250\n",
      "13/13 [==============================] - 0s 4ms/step - loss: 1418.0961 - val_loss: 788.1158\n",
      "Epoch 21/250\n",
      "13/13 [==============================] - 0s 4ms/step - loss: 1199.7537 - val_loss: 673.1395\n",
      "Epoch 22/250\n",
      "13/13 [==============================] - 0s 4ms/step - loss: 1117.5596 - val_loss: 667.8270\n",
      "Epoch 23/250\n",
      "13/13 [==============================] - 0s 3ms/step - loss: 1332.5770 - val_loss: 660.9468\n",
      "Epoch 24/250\n",
      "13/13 [==============================] - 0s 4ms/step - loss: 1283.8535 - val_loss: 695.6404\n",
      "Epoch 25/250\n",
      "13/13 [==============================] - 0s 4ms/step - loss: 1156.5256 - val_loss: 1275.0573\n",
      "Epoch 26/250\n",
      "13/13 [==============================] - 0s 4ms/step - loss: 1302.0629 - val_loss: 650.4135\n",
      "Epoch 27/250\n",
      "13/13 [==============================] - 0s 4ms/step - loss: 1231.9570 - val_loss: 1177.2600\n",
      "Epoch 28/250\n",
      "13/13 [==============================] - 0s 3ms/step - loss: 1366.1246 - val_loss: 713.2338\n",
      "Epoch 29/250\n",
      "13/13 [==============================] - 0s 3ms/step - loss: 1177.7761 - val_loss: 613.6151\n",
      "Epoch 30/250\n",
      "13/13 [==============================] - 0s 4ms/step - loss: 1150.0781 - val_loss: 773.5999\n",
      "Epoch 31/250\n",
      "13/13 [==============================] - 0s 4ms/step - loss: 1263.5874 - val_loss: 1204.1272\n",
      "Epoch 32/250\n",
      "13/13 [==============================] - 0s 3ms/step - loss: 1358.6420 - val_loss: 1113.3689\n",
      "Epoch 33/250\n",
      "13/13 [==============================] - 0s 3ms/step - loss: 1187.4443 - val_loss: 674.1757\n",
      "Epoch 34/250\n",
      "13/13 [==============================] - 0s 3ms/step - loss: 1149.9463 - val_loss: 628.5620\n",
      "Epoch 35/250\n",
      "13/13 [==============================] - 0s 4ms/step - loss: 1098.5177 - val_loss: 710.5131\n",
      "Epoch 36/250\n",
      "13/13 [==============================] - 0s 4ms/step - loss: 1249.7876 - val_loss: 912.8617\n",
      "Epoch 37/250\n",
      "13/13 [==============================] - 0s 4ms/step - loss: 1161.7285 - val_loss: 604.8464\n",
      "Epoch 38/250\n",
      "13/13 [==============================] - 0s 3ms/step - loss: 1174.3776 - val_loss: 942.6901\n",
      "Epoch 39/250\n",
      "13/13 [==============================] - 0s 4ms/step - loss: 1315.5436 - val_loss: 608.4231\n",
      "Epoch 40/250\n",
      "13/13 [==============================] - 0s 4ms/step - loss: 1169.3984 - val_loss: 729.2448\n",
      "Epoch 41/250\n",
      "13/13 [==============================] - 0s 3ms/step - loss: 1098.7146 - val_loss: 626.8101\n",
      "Epoch 42/250\n",
      "13/13 [==============================] - 0s 4ms/step - loss: 1228.5004 - val_loss: 1018.8506\n",
      "Epoch 43/250\n",
      "13/13 [==============================] - 0s 3ms/step - loss: 1122.7351 - val_loss: 606.0754\n",
      "Epoch 44/250\n",
      "13/13 [==============================] - 0s 3ms/step - loss: 1188.3434 - val_loss: 1043.5094\n",
      "Epoch 45/250\n",
      "13/13 [==============================] - 0s 4ms/step - loss: 1165.5077 - val_loss: 609.5854\n",
      "Epoch 46/250\n",
      "13/13 [==============================] - 0s 3ms/step - loss: 1215.0193 - val_loss: 601.1709\n",
      "Epoch 47/250\n",
      "13/13 [==============================] - 0s 3ms/step - loss: 1212.1708 - val_loss: 890.8455\n",
      "Epoch 48/250\n",
      "13/13 [==============================] - 0s 4ms/step - loss: 1251.0885 - val_loss: 595.2953\n",
      "Epoch 49/250\n",
      "13/13 [==============================] - 0s 4ms/step - loss: 1036.9478 - val_loss: 734.2575\n",
      "Epoch 50/250\n",
      "13/13 [==============================] - 0s 4ms/step - loss: 1068.1234 - val_loss: 1403.9026\n",
      "Epoch 51/250\n",
      "13/13 [==============================] - 0s 4ms/step - loss: 1256.5592 - val_loss: 902.5028\n",
      "Epoch 52/250\n",
      "13/13 [==============================] - 0s 4ms/step - loss: 1264.9020 - val_loss: 1075.1534\n",
      "Epoch 53/250\n",
      "13/13 [==============================] - 0s 4ms/step - loss: 1197.0973 - val_loss: 1160.9811\n",
      "Epoch 54/250\n",
      "13/13 [==============================] - 0s 4ms/step - loss: 1103.5658 - val_loss: 599.1584\n",
      "Epoch 55/250\n",
      "13/13 [==============================] - 0s 3ms/step - loss: 1226.1589 - val_loss: 741.9893\n",
      "Epoch 56/250\n",
      "13/13 [==============================] - 0s 4ms/step - loss: 1084.7290 - val_loss: 609.5453\n",
      "Epoch 57/250\n",
      "13/13 [==============================] - 0s 3ms/step - loss: 1348.0531 - val_loss: 964.1687\n",
      "Epoch 58/250\n",
      "13/13 [==============================] - 0s 3ms/step - loss: 1196.8483 - val_loss: 925.0923\n"
     ]
    }
   ],
   "source": [
    "nn = Sequential()\n",
    "nn.add(Dense(100,input_dim=len(xtrain.columns)))\n",
    "nn.add(Dropout(0.1))\n",
    "nn.add(Dense(100))\n",
    "nn.add(Dropout(0.1))\n",
    "nn.add(Dense(100))\n",
    "nn.add(Dropout(0.1))\n",
    "nn.add(Dense(1))\n",
    "\n",
    "from keras.callbacks import EarlyStopping\n",
    "es = EarlyStopping(patience=10)\n",
    "nn.compile(loss=\"mse\")\n",
    "model = nn.fit(xtrain,ytrain,validation_data=(xtest,ytest),epochs=250,callbacks=es)"
   ]
  },
  {
   "cell_type": "code",
   "execution_count": 73,
   "id": "a35de138",
   "metadata": {},
   "outputs": [],
   "source": [
    "tr_err = model.history['loss']\n",
    "ts_err = model.history['val_loss']"
   ]
  },
  {
   "cell_type": "code",
   "execution_count": 74,
   "id": "03cad54e",
   "metadata": {},
   "outputs": [
    {
     "data": {
      "text/plain": [
       "[<matplotlib.lines.Line2D at 0x22273381580>]"
      ]
     },
     "execution_count": 74,
     "metadata": {},
     "output_type": "execute_result"
    },
    {
     "data": {
      "image/png": "[encoded data removed]",
      "text/plain": [
       "<Figure size 640x480 with 1 Axes>"
      ]
     },
     "metadata": {},
     "output_type": "display_data"
    }
   ],
   "source": [
    "import matplotlib.pyplot as plt\n",
    "plt.plot(tr_err)\n",
    "plt.plot(ts_err)"
   ]
  },
  {
   "cell_type": "markdown",
   "id": "cdab67f9",
   "metadata": {},
   "source": [
    "# Training using entire data"
   ]
  },
  {
   "cell_type": "code",
   "execution_count": 75,
   "id": "2db9ee5a",
   "metadata": {},
   "outputs": [
    {
     "name": "stdout",
     "output_type": "stream",
     "text": [
      "Epoch 1/250\n",
      "16/16 [==============================] - 1s 11ms/step - loss: 111636.0859 - val_loss: 74951.3281\n",
      "Epoch 2/250\n",
      "16/16 [==============================] - 0s 3ms/step - loss: 36138.6602 - val_loss: 4694.3960\n",
      "Epoch 3/250\n",
      "16/16 [==============================] - 0s 3ms/step - loss: 2581.0808 - val_loss: 1253.8914\n",
      "Epoch 4/250\n",
      "16/16 [==============================] - 0s 3ms/step - loss: 1888.6638 - val_loss: 1033.0959\n",
      "Epoch 5/250\n",
      "16/16 [==============================] - 0s 3ms/step - loss: 1816.5829 - val_loss: 1303.5415\n",
      "Epoch 6/250\n",
      "16/16 [==============================] - 0s 3ms/step - loss: 1579.4690 - val_loss: 909.3054\n",
      "Epoch 7/250\n",
      "16/16 [==============================] - 0s 3ms/step - loss: 1370.8995 - val_loss: 922.0834\n",
      "Epoch 8/250\n",
      "16/16 [==============================] - 0s 3ms/step - loss: 1436.6687 - val_loss: 756.4641\n",
      "Epoch 9/250\n",
      "16/16 [==============================] - 0s 3ms/step - loss: 1326.3274 - val_loss: 933.9319\n",
      "Epoch 10/250\n",
      "16/16 [==============================] - 0s 3ms/step - loss: 1415.3217 - val_loss: 934.6713\n",
      "Epoch 11/250\n",
      "16/16 [==============================] - 0s 3ms/step - loss: 1426.0424 - val_loss: 680.9371\n",
      "Epoch 12/250\n",
      "16/16 [==============================] - 0s 3ms/step - loss: 1445.5389 - val_loss: 655.2342\n",
      "Epoch 13/250\n",
      "16/16 [==============================] - 0s 3ms/step - loss: 1157.1318 - val_loss: 718.0936\n",
      "Epoch 14/250\n",
      "16/16 [==============================] - 0s 3ms/step - loss: 1302.1047 - val_loss: 665.6828\n",
      "Epoch 15/250\n",
      "16/16 [==============================] - 0s 3ms/step - loss: 1316.2446 - val_loss: 614.8660\n",
      "Epoch 16/250\n",
      "16/16 [==============================] - 0s 3ms/step - loss: 1289.8940 - val_loss: 746.0563\n",
      "Epoch 17/250\n",
      "16/16 [==============================] - 0s 3ms/step - loss: 1261.4369 - val_loss: 935.7531\n",
      "Epoch 18/250\n",
      "16/16 [==============================] - 0s 3ms/step - loss: 1197.4039 - val_loss: 634.4402\n",
      "Epoch 19/250\n",
      "16/16 [==============================] - 0s 3ms/step - loss: 1323.1842 - val_loss: 772.0477\n",
      "Epoch 20/250\n",
      "16/16 [==============================] - 0s 3ms/step - loss: 1211.9049 - val_loss: 651.4965\n",
      "Epoch 21/250\n",
      "16/16 [==============================] - 0s 3ms/step - loss: 1231.8707 - val_loss: 586.4844\n",
      "Epoch 22/250\n",
      "16/16 [==============================] - 0s 3ms/step - loss: 1204.2864 - val_loss: 1245.1118\n",
      "Epoch 23/250\n",
      "16/16 [==============================] - 0s 3ms/step - loss: 1256.0361 - val_loss: 724.5172\n",
      "Epoch 24/250\n",
      "16/16 [==============================] - 0s 3ms/step - loss: 1179.4956 - val_loss: 584.9724\n",
      "Epoch 25/250\n",
      "16/16 [==============================] - 0s 3ms/step - loss: 1316.8877 - val_loss: 756.0140\n",
      "Epoch 26/250\n",
      "16/16 [==============================] - 0s 3ms/step - loss: 1273.6166 - val_loss: 650.4781\n",
      "Epoch 27/250\n",
      "16/16 [==============================] - 0s 3ms/step - loss: 1131.7550 - val_loss: 693.6054\n",
      "Epoch 28/250\n",
      "16/16 [==============================] - 0s 3ms/step - loss: 1210.3682 - val_loss: 713.5319\n",
      "Epoch 29/250\n",
      "16/16 [==============================] - 0s 3ms/step - loss: 1205.0442 - val_loss: 584.9208\n",
      "Epoch 30/250\n",
      "16/16 [==============================] - 0s 3ms/step - loss: 1128.0863 - val_loss: 570.2311\n",
      "Epoch 31/250\n",
      "16/16 [==============================] - 0s 3ms/step - loss: 1188.3674 - val_loss: 743.4009\n",
      "Epoch 32/250\n",
      "16/16 [==============================] - 0s 3ms/step - loss: 1260.8204 - val_loss: 683.8293\n",
      "Epoch 33/250\n",
      "16/16 [==============================] - 0s 3ms/step - loss: 1229.3098 - val_loss: 735.6517\n",
      "Epoch 34/250\n",
      "16/16 [==============================] - 0s 3ms/step - loss: 1242.3442 - val_loss: 567.8452\n",
      "Epoch 35/250\n",
      "16/16 [==============================] - 0s 3ms/step - loss: 1128.3734 - val_loss: 579.7021\n",
      "Epoch 36/250\n",
      "16/16 [==============================] - 0s 3ms/step - loss: 1123.8074 - val_loss: 999.2769\n",
      "Epoch 37/250\n",
      "16/16 [==============================] - 0s 3ms/step - loss: 1191.8002 - val_loss: 1029.3925\n",
      "Epoch 38/250\n",
      "16/16 [==============================] - 0s 3ms/step - loss: 1177.9667 - val_loss: 625.9482\n",
      "Epoch 39/250\n",
      "16/16 [==============================] - 0s 5ms/step - loss: 1224.8657 - val_loss: 909.8134\n",
      "Epoch 40/250\n",
      "16/16 [==============================] - 0s 3ms/step - loss: 1188.7642 - val_loss: 853.6769\n",
      "Epoch 41/250\n",
      "16/16 [==============================] - 0s 3ms/step - loss: 1208.8929 - val_loss: 595.9399\n",
      "Epoch 42/250\n",
      "16/16 [==============================] - 0s 3ms/step - loss: 1124.7505 - val_loss: 837.1359\n",
      "Epoch 43/250\n",
      "16/16 [==============================] - 0s 3ms/step - loss: 1135.5632 - val_loss: 566.7570\n",
      "Epoch 44/250\n",
      "16/16 [==============================] - 0s 3ms/step - loss: 1330.4851 - val_loss: 577.7195\n",
      "Epoch 45/250\n",
      "16/16 [==============================] - 0s 3ms/step - loss: 1206.0602 - val_loss: 1444.8713\n",
      "Epoch 46/250\n",
      "16/16 [==============================] - 0s 3ms/step - loss: 1219.3452 - val_loss: 628.8512\n",
      "Epoch 47/250\n",
      "16/16 [==============================] - 0s 3ms/step - loss: 1062.5515 - val_loss: 852.1757\n",
      "Epoch 48/250\n",
      "16/16 [==============================] - 0s 3ms/step - loss: 1183.1526 - val_loss: 666.3460\n",
      "Epoch 49/250\n",
      "16/16 [==============================] - 0s 3ms/step - loss: 1130.9969 - val_loss: 566.3057\n",
      "Epoch 50/250\n",
      "16/16 [==============================] - 0s 3ms/step - loss: 1288.9832 - val_loss: 690.1276\n",
      "Epoch 51/250\n",
      "16/16 [==============================] - 0s 3ms/step - loss: 1083.5585 - val_loss: 680.3550\n",
      "Epoch 52/250\n",
      "16/16 [==============================] - 0s 3ms/step - loss: 1235.0742 - val_loss: 846.6511\n",
      "Epoch 53/250\n",
      "16/16 [==============================] - 0s 3ms/step - loss: 1331.5914 - val_loss: 577.7609\n",
      "Epoch 54/250\n",
      "16/16 [==============================] - 0s 3ms/step - loss: 1051.0637 - val_loss: 633.7686\n",
      "Epoch 55/250\n",
      "16/16 [==============================] - 0s 3ms/step - loss: 1199.8115 - val_loss: 607.4810\n",
      "Epoch 56/250\n",
      "16/16 [==============================] - 0s 3ms/step - loss: 1145.7644 - val_loss: 1326.3063\n",
      "Epoch 57/250\n",
      "16/16 [==============================] - 0s 3ms/step - loss: 1067.3127 - val_loss: 601.9634\n",
      "Epoch 58/250\n",
      "16/16 [==============================] - 0s 3ms/step - loss: 1319.1969 - val_loss: 576.2772\n",
      "Epoch 59/250\n",
      "16/16 [==============================] - 0s 3ms/step - loss: 1151.1638 - val_loss: 771.5428\n"
     ]
    }
   ],
   "source": [
    "nn = Sequential()\n",
    "nn.add(Dense(100,input_dim=len(xtrain.columns)))\n",
    "nn.add(Dropout(0.1))\n",
    "nn.add(Dense(100))\n",
    "nn.add(Dropout(0.1))\n",
    "nn.add(Dense(100))\n",
    "nn.add(Dropout(0.1))\n",
    "nn.add(Dense(1))\n",
    "\n",
    "from keras.callbacks import EarlyStopping\n",
    "es = EarlyStopping(patience=10)\n",
    "nn.compile(loss=\"mse\")\n",
    "model = nn.fit(Xnew,Y,validation_data=(xtest,ytest),epochs=250,callbacks=es)"
   ]
  },
  {
   "cell_type": "code",
   "execution_count": 76,
   "id": "62669aec",
   "metadata": {},
   "outputs": [
    {
     "data": {
      "text/plain": [
       "Index(['ApplicantIncome', 'CoapplicantIncome', 'LoanAmount', 'Credit_History',\n",
       "       'Gender_Female', 'Gender_Male', 'Married_No', 'Married_Yes',\n",
       "       'Dependents_0', 'Dependents_1', 'Dependents_2', 'Dependents_3+',\n",
       "       'Education_Graduate', 'Education_Not Graduate', 'Self_Employed_No',\n",
       "       'Self_Employed_Yes', 'Property_Area_Rural', 'Property_Area_Semiurban',\n",
       "       'Property_Area_Urban'],\n",
       "      dtype='object')"
      ]
     },
     "execution_count": 76,
     "metadata": {},
     "output_type": "execute_result"
    }
   ],
   "source": [
    "Xnew.columns"
   ]
  },
  {
   "cell_type": "code",
   "execution_count": 77,
   "id": "d029bdd4",
   "metadata": {},
   "outputs": [
    {
     "ename": "KeyError",
     "evalue": "\"['Gender_Female', 'Dependents_1', 'Dependents_2', 'Self_Employed_Yes', 'Property_Area_Rural'] not in index\"",
     "output_type": "error",
     "traceback": [
      "\u001b[1;31m---------------------------------------------------------------------------\u001b[0m",
      "\u001b[1;31mKeyError\u001b[0m                                  Traceback (most recent call last)",
      "Cell \u001b[1;32mIn [77], line 1\u001b[0m\n\u001b[1;32m----> 1\u001b[0m \u001b[43mXnewb\u001b[49m\u001b[43m[\u001b[49m\u001b[43mXnew\u001b[49m\u001b[38;5;241;43m.\u001b[39;49m\u001b[43mcolumns\u001b[49m\u001b[43m]\u001b[49m\n",
      "File \u001b[1;32m~\\anaconda3\\lib\\site-packages\\pandas\\core\\frame.py:3511\u001b[0m, in \u001b[0;36mDataFrame.__getitem__\u001b[1;34m(self, key)\u001b[0m\n\u001b[0;32m   3509\u001b[0m     \u001b[38;5;28;01mif\u001b[39;00m is_iterator(key):\n\u001b[0;32m   3510\u001b[0m         key \u001b[38;5;241m=\u001b[39m \u001b[38;5;28mlist\u001b[39m(key)\n\u001b[1;32m-> 3511\u001b[0m     indexer \u001b[38;5;241m=\u001b[39m \u001b[38;5;28;43mself\u001b[39;49m\u001b[38;5;241;43m.\u001b[39;49m\u001b[43mcolumns\u001b[49m\u001b[38;5;241;43m.\u001b[39;49m\u001b[43m_get_indexer_strict\u001b[49m\u001b[43m(\u001b[49m\u001b[43mkey\u001b[49m\u001b[43m,\u001b[49m\u001b[43m \u001b[49m\u001b[38;5;124;43m\"\u001b[39;49m\u001b[38;5;124;43mcolumns\u001b[39;49m\u001b[38;5;124;43m\"\u001b[39;49m\u001b[43m)\u001b[49m[\u001b[38;5;241m1\u001b[39m]\n\u001b[0;32m   3513\u001b[0m \u001b[38;5;66;03m# take() does not accept boolean indexers\u001b[39;00m\n\u001b[0;32m   3514\u001b[0m \u001b[38;5;28;01mif\u001b[39;00m \u001b[38;5;28mgetattr\u001b[39m(indexer, \u001b[38;5;124m\"\u001b[39m\u001b[38;5;124mdtype\u001b[39m\u001b[38;5;124m\"\u001b[39m, \u001b[38;5;28;01mNone\u001b[39;00m) \u001b[38;5;241m==\u001b[39m \u001b[38;5;28mbool\u001b[39m:\n",
      "File \u001b[1;32m~\\anaconda3\\lib\\site-packages\\pandas\\core\\indexes\\base.py:5796\u001b[0m, in \u001b[0;36mIndex._get_indexer_strict\u001b[1;34m(self, key, axis_name)\u001b[0m\n\u001b[0;32m   5793\u001b[0m \u001b[38;5;28;01melse\u001b[39;00m:\n\u001b[0;32m   5794\u001b[0m     keyarr, indexer, new_indexer \u001b[38;5;241m=\u001b[39m \u001b[38;5;28mself\u001b[39m\u001b[38;5;241m.\u001b[39m_reindex_non_unique(keyarr)\n\u001b[1;32m-> 5796\u001b[0m \u001b[38;5;28;43mself\u001b[39;49m\u001b[38;5;241;43m.\u001b[39;49m\u001b[43m_raise_if_missing\u001b[49m\u001b[43m(\u001b[49m\u001b[43mkeyarr\u001b[49m\u001b[43m,\u001b[49m\u001b[43m \u001b[49m\u001b[43mindexer\u001b[49m\u001b[43m,\u001b[49m\u001b[43m \u001b[49m\u001b[43maxis_name\u001b[49m\u001b[43m)\u001b[49m\n\u001b[0;32m   5798\u001b[0m keyarr \u001b[38;5;241m=\u001b[39m \u001b[38;5;28mself\u001b[39m\u001b[38;5;241m.\u001b[39mtake(indexer)\n\u001b[0;32m   5799\u001b[0m \u001b[38;5;28;01mif\u001b[39;00m \u001b[38;5;28misinstance\u001b[39m(key, Index):\n\u001b[0;32m   5800\u001b[0m     \u001b[38;5;66;03m# GH 42790 - Preserve name from an Index\u001b[39;00m\n",
      "File \u001b[1;32m~\\anaconda3\\lib\\site-packages\\pandas\\core\\indexes\\base.py:5859\u001b[0m, in \u001b[0;36mIndex._raise_if_missing\u001b[1;34m(self, key, indexer, axis_name)\u001b[0m\n\u001b[0;32m   5856\u001b[0m     \u001b[38;5;28;01mraise\u001b[39;00m \u001b[38;5;167;01mKeyError\u001b[39;00m(\u001b[38;5;124mf\u001b[39m\u001b[38;5;124m\"\u001b[39m\u001b[38;5;124mNone of [\u001b[39m\u001b[38;5;132;01m{\u001b[39;00mkey\u001b[38;5;132;01m}\u001b[39;00m\u001b[38;5;124m] are in the [\u001b[39m\u001b[38;5;132;01m{\u001b[39;00maxis_name\u001b[38;5;132;01m}\u001b[39;00m\u001b[38;5;124m]\u001b[39m\u001b[38;5;124m\"\u001b[39m)\n\u001b[0;32m   5858\u001b[0m not_found \u001b[38;5;241m=\u001b[39m \u001b[38;5;28mlist\u001b[39m(ensure_index(key)[missing_mask\u001b[38;5;241m.\u001b[39mnonzero()[\u001b[38;5;241m0\u001b[39m]]\u001b[38;5;241m.\u001b[39munique())\n\u001b[1;32m-> 5859\u001b[0m \u001b[38;5;28;01mraise\u001b[39;00m \u001b[38;5;167;01mKeyError\u001b[39;00m(\u001b[38;5;124mf\u001b[39m\u001b[38;5;124m\"\u001b[39m\u001b[38;5;132;01m{\u001b[39;00mnot_found\u001b[38;5;132;01m}\u001b[39;00m\u001b[38;5;124m not in index\u001b[39m\u001b[38;5;124m\"\u001b[39m)\n",
      "\u001b[1;31mKeyError\u001b[0m: \"['Gender_Female', 'Dependents_1', 'Dependents_2', 'Self_Employed_Yes', 'Property_Area_Rural'] not in index\""
     ]
    }
   ],
   "source": [
    "Xnewb[Xnew.columns]"
   ]
  },
  {
   "cell_type": "code",
   "execution_count": 78,
   "id": "70e5c8ca",
   "metadata": {},
   "outputs": [],
   "source": [
    "Q=['Gender_Female', 'Dependents_1', 'Dependents_2', 'Self_Employed_Yes', 'Property_Area_Rural']\n",
    "for i in Q:\n",
    "    Xnewb[i]=0"
   ]
  },
  {
   "cell_type": "code",
   "execution_count": 79,
   "id": "deb2139d",
   "metadata": {},
   "outputs": [],
   "source": [
    "final_DF = Xnewb[Xnew.columns]"
   ]
  },
  {
   "cell_type": "code",
   "execution_count": 80,
   "id": "766742fe",
   "metadata": {},
   "outputs": [
    {
     "name": "stdout",
     "output_type": "stream",
     "text": [
      "1/1 [==============================] - 0s 45ms/step\n"
     ]
    }
   ],
   "source": [
    "pred = nn.predict(final_DF)"
   ]
  },
  {
   "cell_type": "code",
   "execution_count": 81,
   "id": "428b08fb",
   "metadata": {},
   "outputs": [
    {
     "data": {
      "text/plain": [
       "array([[375.06744],\n",
       "       [382.43423],\n",
       "       [377.533  ],\n",
       "       [374.83258]], dtype=float32)"
      ]
     },
     "execution_count": 81,
     "metadata": {},
     "output_type": "execute_result"
    }
   ],
   "source": [
    "pred"
   ]
  },
  {
   "cell_type": "code",
   "execution_count": 82,
   "id": "aaebf365",
   "metadata": {},
   "outputs": [],
   "source": [
    "D_cust[\"Loan_new_term\"]=pred"
   ]
  },
  {
   "cell_type": "code",
   "execution_count": 83,
   "id": "e21ac2ab",
   "metadata": {},
   "outputs": [
    {
     "data": {
      "text/html": [
       "<div>\n",
       "<style scoped>\n",
       "    .dataframe tbody tr th:only-of-type {\n",
       "        vertical-align: middle;\n",
       "    }\n",
       "\n",
       "    .dataframe tbody tr th {\n",
       "        vertical-align: top;\n",
       "    }\n",
       "\n",
       "    .dataframe thead th {\n",
       "        text-align: right;\n",
       "    }\n",
       "</style>\n",
       "<table border=\"1\" class=\"dataframe\">\n",
       "  <thead>\n",
       "    <tr style=\"text-align: right;\">\n",
       "      <th></th>\n",
       "      <th>Loan_ID</th>\n",
       "      <th>Gender</th>\n",
       "      <th>Married</th>\n",
       "      <th>Dependents</th>\n",
       "      <th>Education</th>\n",
       "      <th>Self_Employed</th>\n",
       "      <th>ApplicantIncome</th>\n",
       "      <th>CoapplicantIncome</th>\n",
       "      <th>LoanAmount</th>\n",
       "      <th>Loan_Amount_Term</th>\n",
       "      <th>Credit_History</th>\n",
       "      <th>Property_Area</th>\n",
       "      <th>Loan_Status</th>\n",
       "      <th>Loan_new_term</th>\n",
       "    </tr>\n",
       "  </thead>\n",
       "  <tbody>\n",
       "    <tr>\n",
       "      <th>0</th>\n",
       "      <td>LP001450</td>\n",
       "      <td>Male</td>\n",
       "      <td>Yes</td>\n",
       "      <td>0</td>\n",
       "      <td>Graduate</td>\n",
       "      <td>No</td>\n",
       "      <td>4456</td>\n",
       "      <td>0</td>\n",
       "      <td>131.0</td>\n",
       "      <td>180.0</td>\n",
       "      <td>0.0</td>\n",
       "      <td>Semiurban</td>\n",
       "      <td>N</td>\n",
       "      <td>375.067444</td>\n",
       "    </tr>\n",
       "    <tr>\n",
       "      <th>1</th>\n",
       "      <td>LP001979</td>\n",
       "      <td>Male</td>\n",
       "      <td>No</td>\n",
       "      <td>0</td>\n",
       "      <td>Graduate</td>\n",
       "      <td>No</td>\n",
       "      <td>3017</td>\n",
       "      <td>2845</td>\n",
       "      <td>159.0</td>\n",
       "      <td>180.0</td>\n",
       "      <td>0.0</td>\n",
       "      <td>Urban</td>\n",
       "      <td>N</td>\n",
       "      <td>382.434235</td>\n",
       "    </tr>\n",
       "    <tr>\n",
       "      <th>2</th>\n",
       "      <td>LP002355</td>\n",
       "      <td>Male</td>\n",
       "      <td>Yes</td>\n",
       "      <td>0</td>\n",
       "      <td>Graduate</td>\n",
       "      <td>No</td>\n",
       "      <td>3186</td>\n",
       "      <td>3145</td>\n",
       "      <td>150.0</td>\n",
       "      <td>180.0</td>\n",
       "      <td>0.0</td>\n",
       "      <td>Semiurban</td>\n",
       "      <td>N</td>\n",
       "      <td>377.532990</td>\n",
       "    </tr>\n",
       "    <tr>\n",
       "      <th>3</th>\n",
       "      <td>LP002921</td>\n",
       "      <td>Male</td>\n",
       "      <td>Yes</td>\n",
       "      <td>3+</td>\n",
       "      <td>Not Graduate</td>\n",
       "      <td>No</td>\n",
       "      <td>5316</td>\n",
       "      <td>187</td>\n",
       "      <td>158.0</td>\n",
       "      <td>180.0</td>\n",
       "      <td>0.0</td>\n",
       "      <td>Semiurban</td>\n",
       "      <td>N</td>\n",
       "      <td>374.832581</td>\n",
       "    </tr>\n",
       "  </tbody>\n",
       "</table>\n",
       "</div>"
      ],
      "text/plain": [
       "    Loan_ID Gender Married Dependents     Education Self_Employed  \\\n",
       "0  LP001450   Male     Yes          0      Graduate            No   \n",
       "1  LP001979   Male      No          0      Graduate            No   \n",
       "2  LP002355   Male     Yes          0      Graduate            No   \n",
       "3  LP002921   Male     Yes         3+  Not Graduate            No   \n",
       "\n",
       "   ApplicantIncome  CoapplicantIncome  LoanAmount  Loan_Amount_Term  \\\n",
       "0             4456                  0       131.0             180.0   \n",
       "1             3017               2845       159.0             180.0   \n",
       "2             3186               3145       150.0             180.0   \n",
       "3             5316                187       158.0             180.0   \n",
       "\n",
       "   Credit_History Property_Area Loan_Status  Loan_new_term  \n",
       "0             0.0     Semiurban           N     375.067444  \n",
       "1             0.0         Urban           N     382.434235  \n",
       "2             0.0     Semiurban           N     377.532990  \n",
       "3             0.0     Semiurban           N     374.832581  "
      ]
     },
     "execution_count": 83,
     "metadata": {},
     "output_type": "execute_result"
    }
   ],
   "source": [
    "D_cust"
   ]
  },
  {
   "cell_type": "code",
   "execution_count": 84,
   "id": "4b5b245d",
   "metadata": {},
   "outputs": [],
   "source": [
    "D_cust.to_csv(\"C:/Users/Suja4/OneDrive/Documents/Data Science/Dataset/submission_loan_NN_3.csv\")"
   ]
  },
  {
   "cell_type": "code",
   "execution_count": null,
   "id": "7200643d",
   "metadata": {},
   "outputs": [],
   "source": []
  },
  {
   "cell_type": "code",
   "execution_count": null,
   "id": "276c1ed2",
   "metadata": {},
   "outputs": [],
   "source": []
  }
 ],
 "metadata": {
  "kernelspec": {
   "display_name": "Python 3 (ipykernel)",
   "language": "python",
   "name": "python3"
  },
  "language_info": {
   "codemirror_mode": {
    "name": "ipython",
    "version": 3
   },
   "file_extension": ".py",
   "mimetype": "text/x-python",
   "name": "python",
   "nbconvert_exporter": "python",
   "pygments_lexer": "ipython3",
   "version": "3.9.15"
  }
 },
 "nbformat": 4,
 "nbformat_minor": 5
}
