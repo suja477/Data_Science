{
 "cells": [
  {
   "cell_type": "raw",
   "id": "57ac5857",
   "metadata": {},
   "source": [
    "A Company wants to automate the loan eligibility process based on customer details provided while filling online application form. The details filled by the customer are Gender, Marital Status, Education, Number of Dependents, Income of self and co applicant, Required Loan Amount, Required Loan Term, Credit History and others. The requirements are as follows:\n",
    "\n",
    "\n"
   ]
  },
  {
   "cell_type": "markdown",
   "id": "dc58f3bc",
   "metadata": {},
   "source": [
    "# 1.)Check eligibility of the Customer given the inputs described above.(Classification)\n"
   ]
  },
  {
   "cell_type": "code",
   "execution_count": 1,
   "id": "4c8fcb3e",
   "metadata": {},
   "outputs": [],
   "source": [
    "\n",
    "from warnings import filterwarnings \n",
    "filterwarnings(\"ignore\")"
   ]
  },
  {
   "cell_type": "markdown",
   "id": "507214be",
   "metadata": {},
   "source": [
    "# Read Data"
   ]
  },
  {
   "cell_type": "code",
   "execution_count": 2,
   "id": "bbdf3bed",
   "metadata": {},
   "outputs": [],
   "source": [
    "import pandas as pd\n",
    "A=pd.read_csv(\"C:/Users/Suja4/OneDrive/Documents/Data Science/Loan_project/training_set.csv\")\n",
    "B=pd.read_csv(\"C:/Users/Suja4/OneDrive/Documents/Data Science/Loan_project/testing_set.csv\")\n"
   ]
  },
  {
   "cell_type": "code",
   "execution_count": 3,
   "id": "80f6753b",
   "metadata": {},
   "outputs": [
    {
     "data": {
      "text/html": [
       "<div>\n",
       "<style scoped>\n",
       "    .dataframe tbody tr th:only-of-type {\n",
       "        vertical-align: middle;\n",
       "    }\n",
       "\n",
       "    .dataframe tbody tr th {\n",
       "        vertical-align: top;\n",
       "    }\n",
       "\n",
       "    .dataframe thead th {\n",
       "        text-align: right;\n",
       "    }\n",
       "</style>\n",
       "<table border=\"1\" class=\"dataframe\">\n",
       "  <thead>\n",
       "    <tr style=\"text-align: right;\">\n",
       "      <th></th>\n",
       "      <th>Loan_ID</th>\n",
       "      <th>Gender</th>\n",
       "      <th>Married</th>\n",
       "      <th>Dependents</th>\n",
       "      <th>Education</th>\n",
       "      <th>Self_Employed</th>\n",
       "      <th>ApplicantIncome</th>\n",
       "      <th>CoapplicantIncome</th>\n",
       "      <th>LoanAmount</th>\n",
       "      <th>Loan_Amount_Term</th>\n",
       "      <th>Credit_History</th>\n",
       "      <th>Property_Area</th>\n",
       "      <th>Loan_Status</th>\n",
       "    </tr>\n",
       "  </thead>\n",
       "  <tbody>\n",
       "    <tr>\n",
       "      <th>0</th>\n",
       "      <td>LP001002</td>\n",
       "      <td>Male</td>\n",
       "      <td>No</td>\n",
       "      <td>0</td>\n",
       "      <td>Graduate</td>\n",
       "      <td>No</td>\n",
       "      <td>5849.0</td>\n",
       "      <td>0.0</td>\n",
       "      <td>NaN</td>\n",
       "      <td>360.0</td>\n",
       "      <td>1.0</td>\n",
       "      <td>Urban</td>\n",
       "      <td>Y</td>\n",
       "    </tr>\n",
       "    <tr>\n",
       "      <th>1</th>\n",
       "      <td>LP001003</td>\n",
       "      <td>Male</td>\n",
       "      <td>Yes</td>\n",
       "      <td>1</td>\n",
       "      <td>Graduate</td>\n",
       "      <td>No</td>\n",
       "      <td>NaN</td>\n",
       "      <td>1508.0</td>\n",
       "      <td>128.0</td>\n",
       "      <td>360.0</td>\n",
       "      <td>1.0</td>\n",
       "      <td>Rural</td>\n",
       "      <td>N</td>\n",
       "    </tr>\n",
       "    <tr>\n",
       "      <th>2</th>\n",
       "      <td>LP001005</td>\n",
       "      <td>Male</td>\n",
       "      <td>Yes</td>\n",
       "      <td>0</td>\n",
       "      <td>Graduate</td>\n",
       "      <td>Yes</td>\n",
       "      <td>3000.0</td>\n",
       "      <td>0.0</td>\n",
       "      <td>66.0</td>\n",
       "      <td>360.0</td>\n",
       "      <td>1.0</td>\n",
       "      <td>Urban</td>\n",
       "      <td>Y</td>\n",
       "    </tr>\n",
       "    <tr>\n",
       "      <th>3</th>\n",
       "      <td>LP001006</td>\n",
       "      <td>Male</td>\n",
       "      <td>Yes</td>\n",
       "      <td>0</td>\n",
       "      <td>Not Graduate</td>\n",
       "      <td>No</td>\n",
       "      <td>2583.0</td>\n",
       "      <td>2358.0</td>\n",
       "      <td>120.0</td>\n",
       "      <td>360.0</td>\n",
       "      <td>1.0</td>\n",
       "      <td>Urban</td>\n",
       "      <td>Y</td>\n",
       "    </tr>\n",
       "    <tr>\n",
       "      <th>4</th>\n",
       "      <td>LP001008</td>\n",
       "      <td>Male</td>\n",
       "      <td>No</td>\n",
       "      <td>0</td>\n",
       "      <td>Graduate</td>\n",
       "      <td>No</td>\n",
       "      <td>6000.0</td>\n",
       "      <td>0.0</td>\n",
       "      <td>141.0</td>\n",
       "      <td>360.0</td>\n",
       "      <td>1.0</td>\n",
       "      <td>Urban</td>\n",
       "      <td>Y</td>\n",
       "    </tr>\n",
       "    <tr>\n",
       "      <th>...</th>\n",
       "      <td>...</td>\n",
       "      <td>...</td>\n",
       "      <td>...</td>\n",
       "      <td>...</td>\n",
       "      <td>...</td>\n",
       "      <td>...</td>\n",
       "      <td>...</td>\n",
       "      <td>...</td>\n",
       "      <td>...</td>\n",
       "      <td>...</td>\n",
       "      <td>...</td>\n",
       "      <td>...</td>\n",
       "      <td>...</td>\n",
       "    </tr>\n",
       "    <tr>\n",
       "      <th>609</th>\n",
       "      <td>LP002978</td>\n",
       "      <td>Female</td>\n",
       "      <td>No</td>\n",
       "      <td>0</td>\n",
       "      <td>Graduate</td>\n",
       "      <td>No</td>\n",
       "      <td>2900.0</td>\n",
       "      <td>0.0</td>\n",
       "      <td>71.0</td>\n",
       "      <td>360.0</td>\n",
       "      <td>1.0</td>\n",
       "      <td>Rural</td>\n",
       "      <td>Y</td>\n",
       "    </tr>\n",
       "    <tr>\n",
       "      <th>610</th>\n",
       "      <td>LP002979</td>\n",
       "      <td>Male</td>\n",
       "      <td>Yes</td>\n",
       "      <td>3+</td>\n",
       "      <td>Graduate</td>\n",
       "      <td>No</td>\n",
       "      <td>4106.0</td>\n",
       "      <td>0.0</td>\n",
       "      <td>40.0</td>\n",
       "      <td>180.0</td>\n",
       "      <td>1.0</td>\n",
       "      <td>Rural</td>\n",
       "      <td>Y</td>\n",
       "    </tr>\n",
       "    <tr>\n",
       "      <th>611</th>\n",
       "      <td>LP002983</td>\n",
       "      <td>Male</td>\n",
       "      <td>Yes</td>\n",
       "      <td>1</td>\n",
       "      <td>Graduate</td>\n",
       "      <td>No</td>\n",
       "      <td>8072.0</td>\n",
       "      <td>240.0</td>\n",
       "      <td>253.0</td>\n",
       "      <td>360.0</td>\n",
       "      <td>1.0</td>\n",
       "      <td>Urban</td>\n",
       "      <td>Y</td>\n",
       "    </tr>\n",
       "    <tr>\n",
       "      <th>612</th>\n",
       "      <td>LP002984</td>\n",
       "      <td>Male</td>\n",
       "      <td>Yes</td>\n",
       "      <td>2</td>\n",
       "      <td>Graduate</td>\n",
       "      <td>No</td>\n",
       "      <td>7583.0</td>\n",
       "      <td>0.0</td>\n",
       "      <td>187.0</td>\n",
       "      <td>360.0</td>\n",
       "      <td>1.0</td>\n",
       "      <td>Urban</td>\n",
       "      <td>Y</td>\n",
       "    </tr>\n",
       "    <tr>\n",
       "      <th>613</th>\n",
       "      <td>LP002990</td>\n",
       "      <td>Female</td>\n",
       "      <td>No</td>\n",
       "      <td>0</td>\n",
       "      <td>Graduate</td>\n",
       "      <td>Yes</td>\n",
       "      <td>4583.0</td>\n",
       "      <td>0.0</td>\n",
       "      <td>133.0</td>\n",
       "      <td>360.0</td>\n",
       "      <td>0.0</td>\n",
       "      <td>Semiurban</td>\n",
       "      <td>N</td>\n",
       "    </tr>\n",
       "  </tbody>\n",
       "</table>\n",
       "<p>614 rows × 13 columns</p>\n",
       "</div>"
      ],
      "text/plain": [
       "      Loan_ID  Gender Married Dependents     Education Self_Employed  \\\n",
       "0    LP001002    Male      No          0      Graduate            No   \n",
       "1    LP001003    Male     Yes          1      Graduate            No   \n",
       "2    LP001005    Male     Yes          0      Graduate           Yes   \n",
       "3    LP001006    Male     Yes          0  Not Graduate            No   \n",
       "4    LP001008    Male      No          0      Graduate            No   \n",
       "..        ...     ...     ...        ...           ...           ...   \n",
       "609  LP002978  Female      No          0      Graduate            No   \n",
       "610  LP002979    Male     Yes         3+      Graduate            No   \n",
       "611  LP002983    Male     Yes          1      Graduate            No   \n",
       "612  LP002984    Male     Yes          2      Graduate            No   \n",
       "613  LP002990  Female      No          0      Graduate           Yes   \n",
       "\n",
       "     ApplicantIncome  CoapplicantIncome  LoanAmount  Loan_Amount_Term  \\\n",
       "0             5849.0                0.0         NaN             360.0   \n",
       "1                NaN             1508.0       128.0             360.0   \n",
       "2             3000.0                0.0        66.0             360.0   \n",
       "3             2583.0             2358.0       120.0             360.0   \n",
       "4             6000.0                0.0       141.0             360.0   \n",
       "..               ...                ...         ...               ...   \n",
       "609           2900.0                0.0        71.0             360.0   \n",
       "610           4106.0                0.0        40.0             180.0   \n",
       "611           8072.0              240.0       253.0             360.0   \n",
       "612           7583.0                0.0       187.0             360.0   \n",
       "613           4583.0                0.0       133.0             360.0   \n",
       "\n",
       "     Credit_History Property_Area Loan_Status  \n",
       "0               1.0         Urban           Y  \n",
       "1               1.0         Rural           N  \n",
       "2               1.0         Urban           Y  \n",
       "3               1.0         Urban           Y  \n",
       "4               1.0         Urban           Y  \n",
       "..              ...           ...         ...  \n",
       "609             1.0         Rural           Y  \n",
       "610             1.0         Rural           Y  \n",
       "611             1.0         Urban           Y  \n",
       "612             1.0         Urban           Y  \n",
       "613             0.0     Semiurban           N  \n",
       "\n",
       "[614 rows x 13 columns]"
      ]
     },
     "execution_count": 3,
     "metadata": {},
     "output_type": "execute_result"
    }
   ],
   "source": [
    "A"
   ]
  },
  {
   "cell_type": "markdown",
   "id": "083d88b6",
   "metadata": {},
   "source": [
    "# Missing Data Treatment"
   ]
  },
  {
   "cell_type": "code",
   "execution_count": 4,
   "id": "3df38a99",
   "metadata": {},
   "outputs": [
    {
     "data": {
      "text/plain": [
       "Loan_ID               0\n",
       "Gender               15\n",
       "Married               3\n",
       "Dependents           15\n",
       "Education             1\n",
       "Self_Employed        32\n",
       "ApplicantIncome       2\n",
       "CoapplicantIncome     1\n",
       "LoanAmount           22\n",
       "Loan_Amount_Term     14\n",
       "Credit_History       50\n",
       "Property_Area         0\n",
       "Loan_Status           0\n",
       "dtype: int64"
      ]
     },
     "execution_count": 4,
     "metadata": {},
     "output_type": "execute_result"
    }
   ],
   "source": [
    "A.isna().sum()"
   ]
  },
  {
   "cell_type": "code",
   "execution_count": 5,
   "id": "73d58dda",
   "metadata": {},
   "outputs": [
    {
     "data": {
      "text/plain": [
       "Loan_ID               0\n",
       "Gender               11\n",
       "Married               0\n",
       "Dependents           10\n",
       "Education             0\n",
       "Self_Employed        23\n",
       "ApplicantIncome       0\n",
       "CoapplicantIncome     0\n",
       "LoanAmount            5\n",
       "Loan_Amount_Term      6\n",
       "Credit_History       29\n",
       "Property_Area         0\n",
       "dtype: int64"
      ]
     },
     "execution_count": 5,
     "metadata": {},
     "output_type": "execute_result"
    }
   ],
   "source": [
    "B.isna().sum()"
   ]
  },
  {
   "cell_type": "code",
   "execution_count": 6,
   "id": "782081f2",
   "metadata": {},
   "outputs": [],
   "source": [
    "from Wd8pm import replacer\n",
    "replacer(A)\n"
   ]
  },
  {
   "cell_type": "code",
   "execution_count": 7,
   "id": "82d1634f",
   "metadata": {},
   "outputs": [],
   "source": [
    "x = A['Gender'].mode()[0]\n",
    "B['Gender'] = B['Gender'].fillna(x)\n"
   ]
  },
  {
   "cell_type": "code",
   "execution_count": 8,
   "id": "ddde8b3f",
   "metadata": {},
   "outputs": [],
   "source": [
    "x = A['Dependents'].mode()[0]\n",
    "B['Dependents'] = B['Dependents'].fillna(x)\n"
   ]
  },
  {
   "cell_type": "code",
   "execution_count": 9,
   "id": "9ec4be1e",
   "metadata": {},
   "outputs": [],
   "source": [
    "x = A['Self_Employed'].mode()[0]\n",
    "B['Self_Employed'] = B['Self_Employed'].fillna(x)\n"
   ]
  },
  {
   "cell_type": "code",
   "execution_count": 10,
   "id": "0bb385d0",
   "metadata": {},
   "outputs": [],
   "source": [
    "x = round(A['LoanAmount'].mean(),2)\n",
    "B['LoanAmount'] = B['LoanAmount'].fillna(x)\n"
   ]
  },
  {
   "cell_type": "code",
   "execution_count": 11,
   "id": "5e8af459",
   "metadata": {},
   "outputs": [],
   "source": [
    "x = round(A['Loan_Amount_Term'].mean(),2)\n",
    "B['Loan_Amount_Term'] = B['Loan_Amount_Term'].fillna(x)"
   ]
  },
  {
   "cell_type": "code",
   "execution_count": 12,
   "id": "70f98e91",
   "metadata": {},
   "outputs": [],
   "source": [
    "x =A['Credit_History'].mode()[0]\n",
    "B['Credit_History']= B['Credit_History'].fillna(x)"
   ]
  },
  {
   "cell_type": "code",
   "execution_count": null,
   "id": "ab72fb9d",
   "metadata": {},
   "outputs": [],
   "source": []
  },
  {
   "cell_type": "code",
   "execution_count": 13,
   "id": "91f6a9c8",
   "metadata": {},
   "outputs": [
    {
     "data": {
      "text/plain": [
       "Loan_ID              0\n",
       "Gender               0\n",
       "Married              0\n",
       "Dependents           0\n",
       "Education            0\n",
       "Self_Employed        0\n",
       "ApplicantIncome      0\n",
       "CoapplicantIncome    0\n",
       "LoanAmount           0\n",
       "Loan_Amount_Term     0\n",
       "Credit_History       0\n",
       "Property_Area        0\n",
       "Loan_Status          0\n",
       "dtype: int64"
      ]
     },
     "execution_count": 13,
     "metadata": {},
     "output_type": "execute_result"
    }
   ],
   "source": [
    "A.isna().sum()\n"
   ]
  },
  {
   "cell_type": "code",
   "execution_count": 14,
   "id": "1b3ba99f",
   "metadata": {},
   "outputs": [
    {
     "data": {
      "text/plain": [
       "Loan_ID              0\n",
       "Gender               0\n",
       "Married              0\n",
       "Dependents           0\n",
       "Education            0\n",
       "Self_Employed        0\n",
       "ApplicantIncome      0\n",
       "CoapplicantIncome    0\n",
       "LoanAmount           0\n",
       "Loan_Amount_Term     0\n",
       "Credit_History       0\n",
       "Property_Area        0\n",
       "dtype: int64"
      ]
     },
     "execution_count": 14,
     "metadata": {},
     "output_type": "execute_result"
    }
   ],
   "source": [
    "B.isna().sum()"
   ]
  },
  {
   "cell_type": "markdown",
   "id": "6d05dcb7",
   "metadata": {},
   "source": [
    "# Unique values"
   ]
  },
  {
   "cell_type": "code",
   "execution_count": 15,
   "id": "36abf8c7",
   "metadata": {},
   "outputs": [
    {
     "data": {
      "text/plain": [
       "Loan_ID              614\n",
       "Gender                 2\n",
       "Married                2\n",
       "Dependents             4\n",
       "Education              2\n",
       "Self_Employed          2\n",
       "ApplicantIncome      505\n",
       "CoapplicantIncome    287\n",
       "LoanAmount           204\n",
       "Loan_Amount_Term      11\n",
       "Credit_History         3\n",
       "Property_Area          3\n",
       "Loan_Status            2\n",
       "dtype: int64"
      ]
     },
     "execution_count": 15,
     "metadata": {},
     "output_type": "execute_result"
    }
   ],
   "source": [
    "A.nunique()"
   ]
  },
  {
   "cell_type": "code",
   "execution_count": 16,
   "id": "07065223",
   "metadata": {},
   "outputs": [
    {
     "data": {
      "text/plain": [
       "Loan_ID              367\n",
       "Gender                 2\n",
       "Married                2\n",
       "Dependents             4\n",
       "Education              2\n",
       "Self_Employed          2\n",
       "ApplicantIncome      314\n",
       "CoapplicantIncome    194\n",
       "LoanAmount           145\n",
       "Loan_Amount_Term      13\n",
       "Credit_History         2\n",
       "Property_Area          3\n",
       "dtype: int64"
      ]
     },
     "execution_count": 16,
     "metadata": {},
     "output_type": "execute_result"
    }
   ],
   "source": [
    "B.nunique()"
   ]
  },
  {
   "cell_type": "code",
   "execution_count": null,
   "id": "342b150b",
   "metadata": {},
   "outputs": [],
   "source": []
  },
  {
   "cell_type": "markdown",
   "id": "89b5a15b",
   "metadata": {},
   "source": [
    "# Outliers removal"
   ]
  },
  {
   "cell_type": "raw",
   "id": "78efa545",
   "metadata": {},
   "source": [
    "#too many outliers"
   ]
  },
  {
   "cell_type": "code",
   "execution_count": 17,
   "id": "8e76220b",
   "metadata": {},
   "outputs": [],
   "source": [
    "from Wd8pm import OL\n",
    "outlier=OL(A)"
   ]
  },
  {
   "cell_type": "code",
   "execution_count": 18,
   "id": "8d8856cb",
   "metadata": {},
   "outputs": [
    {
     "data": {
      "text/plain": [
       "[9,\n",
       " 14,\n",
       " 68,\n",
       " 94,\n",
       " 126,\n",
       " 130,\n",
       " 133,\n",
       " 155,\n",
       " 171,\n",
       " 177,\n",
       " 183,\n",
       " 185,\n",
       " 242,\n",
       " 262,\n",
       " 278,\n",
       " 308,\n",
       " 313,\n",
       " 333,\n",
       " 369,\n",
       " 402,\n",
       " 409,\n",
       " 417,\n",
       " 432,\n",
       " 443,\n",
       " 487,\n",
       " 495,\n",
       " 497,\n",
       " 506,\n",
       " 523,\n",
       " 525,\n",
       " 546,\n",
       " 561,\n",
       " 575,\n",
       " 581,\n",
       " 585,\n",
       " 600,\n",
       " 604]"
      ]
     },
     "execution_count": 18,
     "metadata": {},
     "output_type": "execute_result"
    }
   ],
   "source": [
    "outlier"
   ]
  },
  {
   "cell_type": "code",
   "execution_count": 19,
   "id": "0282bc01",
   "metadata": {},
   "outputs": [],
   "source": [
    "A=A.drop(index=outlier,axis=0)"
   ]
  },
  {
   "cell_type": "code",
   "execution_count": 20,
   "id": "198e18be",
   "metadata": {},
   "outputs": [
    {
     "data": {
      "text/plain": [
       "(577, 13)"
      ]
     },
     "execution_count": 20,
     "metadata": {},
     "output_type": "execute_result"
    }
   ],
   "source": [
    "A.shape"
   ]
  },
  {
   "cell_type": "code",
   "execution_count": 21,
   "id": "5d477c8d",
   "metadata": {},
   "outputs": [],
   "source": [
    "A.index=range(0,577)"
   ]
  },
  {
   "cell_type": "markdown",
   "id": "b341de24",
   "metadata": {},
   "source": [
    "# Bivariate Analysis"
   ]
  },
  {
   "cell_type": "code",
   "execution_count": 22,
   "id": "005aad12",
   "metadata": {},
   "outputs": [],
   "source": [
    "Y= A[\"Loan_Status\"]\n",
    "X=A.drop(labels=[\"Loan_Status\",\"Loan_ID\"],axis=1)\n",
    "Xb=B.drop(labels=[\"Loan_ID\"],axis=1)"
   ]
  },
  {
   "cell_type": "markdown",
   "id": "6f70ff83",
   "metadata": {},
   "source": [
    "# Anova and chisquare"
   ]
  },
  {
   "cell_type": "code",
   "execution_count": 23,
   "id": "75c509b6",
   "metadata": {},
   "outputs": [
    {
     "name": "stdout",
     "output_type": "stream",
     "text": [
      "Loan_Status ~ Gender ----> 0.76236\n",
      "Loan_Status ~ Married ----> 0.04094\n",
      "Loan_Status ~ Dependents ----> 0.58265\n",
      "Loan_Status ~ Education ----> 0.03415\n",
      "Loan_Status ~ Self_Employed ----> 0.61581\n",
      "Loan_Status ~ ApplicantIncome ----> 0.89434\n",
      "Loan_Status ~ CoapplicantIncome ----> 0.28206\n",
      "Loan_Status ~ LoanAmount ----> 0.3975\n",
      "Loan_Status ~ Loan_Amount_Term ----> 0.66362\n",
      "Loan_Status ~ Credit_History ----> 0.0\n",
      "Loan_Status ~ Property_Area ----> 0.00232\n"
     ]
    }
   ],
   "source": [
    "imp_cols = []\n",
    "from Wd8pm import ANOVA,chisq\n",
    "for i in X.columns:\n",
    "    if(X[i].dtypes == \"object\"):\n",
    "        pval = chisq(A,\"Loan_Status\",i)\n",
    "        print(\"Loan_Status ~\",i,\"---->\",pval)\n",
    "        if(pval<0.05):\n",
    "            imp_cols.append(i)\n",
    "    else:\n",
    "        pval = ANOVA(A,\"Loan_Status\",i)\n",
    "        print(\"Loan_Status ~\",i,\"---->\",pval)\n",
    "        if(pval<0.05):\n",
    "            imp_cols.append(i)"
   ]
  },
  {
   "cell_type": "code",
   "execution_count": 24,
   "id": "64ae67f8",
   "metadata": {},
   "outputs": [
    {
     "data": {
      "text/plain": [
       "['Married', 'Education', 'Credit_History', 'Property_Area']"
      ]
     },
     "execution_count": 24,
     "metadata": {},
     "output_type": "execute_result"
    }
   ],
   "source": [
    "imp_cols"
   ]
  },
  {
   "cell_type": "markdown",
   "id": "09fdbe91",
   "metadata": {},
   "source": [
    "# Preprocessing"
   ]
  },
  {
   "cell_type": "code",
   "execution_count": 25,
   "id": "112a6d4d",
   "metadata": {},
   "outputs": [],
   "source": [
    "Ximp = X[imp_cols]\n",
    "Xbimp=Xb[imp_cols]\n",
    "from Wd8pm import preprocessing\n",
    "Xnew =preprocessing(Ximp)\n",
    "Xnewb=preprocessing(Xbimp)"
   ]
  },
  {
   "cell_type": "code",
   "execution_count": null,
   "id": "12c5ff51",
   "metadata": {},
   "outputs": [],
   "source": []
  },
  {
   "cell_type": "code",
   "execution_count": 26,
   "id": "27ef5f06",
   "metadata": {},
   "outputs": [
    {
     "data": {
      "text/html": [
       "<div>\n",
       "<style scoped>\n",
       "    .dataframe tbody tr th:only-of-type {\n",
       "        vertical-align: middle;\n",
       "    }\n",
       "\n",
       "    .dataframe tbody tr th {\n",
       "        vertical-align: top;\n",
       "    }\n",
       "\n",
       "    .dataframe thead th {\n",
       "        text-align: right;\n",
       "    }\n",
       "</style>\n",
       "<table border=\"1\" class=\"dataframe\">\n",
       "  <thead>\n",
       "    <tr style=\"text-align: right;\">\n",
       "      <th></th>\n",
       "      <th>Credit_History</th>\n",
       "      <th>Married_No</th>\n",
       "      <th>Married_Yes</th>\n",
       "      <th>Education_Graduate</th>\n",
       "      <th>Education_Not Graduate</th>\n",
       "      <th>Property_Area_Rural</th>\n",
       "      <th>Property_Area_Semiurban</th>\n",
       "      <th>Property_Area_Urban</th>\n",
       "    </tr>\n",
       "  </thead>\n",
       "  <tbody>\n",
       "    <tr>\n",
       "      <th>0</th>\n",
       "      <td>0.456461</td>\n",
       "      <td>1</td>\n",
       "      <td>0</td>\n",
       "      <td>1</td>\n",
       "      <td>0</td>\n",
       "      <td>0</td>\n",
       "      <td>0</td>\n",
       "      <td>1</td>\n",
       "    </tr>\n",
       "    <tr>\n",
       "      <th>1</th>\n",
       "      <td>0.456461</td>\n",
       "      <td>0</td>\n",
       "      <td>1</td>\n",
       "      <td>1</td>\n",
       "      <td>0</td>\n",
       "      <td>1</td>\n",
       "      <td>0</td>\n",
       "      <td>0</td>\n",
       "    </tr>\n",
       "    <tr>\n",
       "      <th>2</th>\n",
       "      <td>0.456461</td>\n",
       "      <td>0</td>\n",
       "      <td>1</td>\n",
       "      <td>1</td>\n",
       "      <td>0</td>\n",
       "      <td>0</td>\n",
       "      <td>0</td>\n",
       "      <td>1</td>\n",
       "    </tr>\n",
       "    <tr>\n",
       "      <th>3</th>\n",
       "      <td>0.456461</td>\n",
       "      <td>0</td>\n",
       "      <td>1</td>\n",
       "      <td>0</td>\n",
       "      <td>1</td>\n",
       "      <td>0</td>\n",
       "      <td>0</td>\n",
       "      <td>1</td>\n",
       "    </tr>\n",
       "    <tr>\n",
       "      <th>4</th>\n",
       "      <td>0.456461</td>\n",
       "      <td>1</td>\n",
       "      <td>0</td>\n",
       "      <td>1</td>\n",
       "      <td>0</td>\n",
       "      <td>0</td>\n",
       "      <td>0</td>\n",
       "      <td>1</td>\n",
       "    </tr>\n",
       "    <tr>\n",
       "      <th>...</th>\n",
       "      <td>...</td>\n",
       "      <td>...</td>\n",
       "      <td>...</td>\n",
       "      <td>...</td>\n",
       "      <td>...</td>\n",
       "      <td>...</td>\n",
       "      <td>...</td>\n",
       "      <td>...</td>\n",
       "    </tr>\n",
       "    <tr>\n",
       "      <th>572</th>\n",
       "      <td>0.456461</td>\n",
       "      <td>1</td>\n",
       "      <td>0</td>\n",
       "      <td>1</td>\n",
       "      <td>0</td>\n",
       "      <td>1</td>\n",
       "      <td>0</td>\n",
       "      <td>0</td>\n",
       "    </tr>\n",
       "    <tr>\n",
       "      <th>573</th>\n",
       "      <td>0.456461</td>\n",
       "      <td>0</td>\n",
       "      <td>1</td>\n",
       "      <td>1</td>\n",
       "      <td>0</td>\n",
       "      <td>1</td>\n",
       "      <td>0</td>\n",
       "      <td>0</td>\n",
       "    </tr>\n",
       "    <tr>\n",
       "      <th>574</th>\n",
       "      <td>0.456461</td>\n",
       "      <td>0</td>\n",
       "      <td>1</td>\n",
       "      <td>1</td>\n",
       "      <td>0</td>\n",
       "      <td>0</td>\n",
       "      <td>0</td>\n",
       "      <td>1</td>\n",
       "    </tr>\n",
       "    <tr>\n",
       "      <th>575</th>\n",
       "      <td>0.456461</td>\n",
       "      <td>0</td>\n",
       "      <td>1</td>\n",
       "      <td>1</td>\n",
       "      <td>0</td>\n",
       "      <td>0</td>\n",
       "      <td>0</td>\n",
       "      <td>1</td>\n",
       "    </tr>\n",
       "    <tr>\n",
       "      <th>576</th>\n",
       "      <td>-2.372488</td>\n",
       "      <td>1</td>\n",
       "      <td>0</td>\n",
       "      <td>1</td>\n",
       "      <td>0</td>\n",
       "      <td>0</td>\n",
       "      <td>1</td>\n",
       "      <td>0</td>\n",
       "    </tr>\n",
       "  </tbody>\n",
       "</table>\n",
       "<p>577 rows × 8 columns</p>\n",
       "</div>"
      ],
      "text/plain": [
       "     Credit_History  Married_No  Married_Yes  Education_Graduate  \\\n",
       "0          0.456461           1            0                   1   \n",
       "1          0.456461           0            1                   1   \n",
       "2          0.456461           0            1                   1   \n",
       "3          0.456461           0            1                   0   \n",
       "4          0.456461           1            0                   1   \n",
       "..              ...         ...          ...                 ...   \n",
       "572        0.456461           1            0                   1   \n",
       "573        0.456461           0            1                   1   \n",
       "574        0.456461           0            1                   1   \n",
       "575        0.456461           0            1                   1   \n",
       "576       -2.372488           1            0                   1   \n",
       "\n",
       "     Education_Not Graduate  Property_Area_Rural  Property_Area_Semiurban  \\\n",
       "0                         0                    0                        0   \n",
       "1                         0                    1                        0   \n",
       "2                         0                    0                        0   \n",
       "3                         1                    0                        0   \n",
       "4                         0                    0                        0   \n",
       "..                      ...                  ...                      ...   \n",
       "572                       0                    1                        0   \n",
       "573                       0                    1                        0   \n",
       "574                       0                    0                        0   \n",
       "575                       0                    0                        0   \n",
       "576                       0                    0                        1   \n",
       "\n",
       "     Property_Area_Urban  \n",
       "0                      1  \n",
       "1                      0  \n",
       "2                      1  \n",
       "3                      1  \n",
       "4                      1  \n",
       "..                   ...  \n",
       "572                    0  \n",
       "573                    0  \n",
       "574                    1  \n",
       "575                    1  \n",
       "576                    0  \n",
       "\n",
       "[577 rows x 8 columns]"
      ]
     },
     "execution_count": 26,
     "metadata": {},
     "output_type": "execute_result"
    }
   ],
   "source": [
    "Xnew"
   ]
  },
  {
   "cell_type": "code",
   "execution_count": 27,
   "id": "ef8593d1",
   "metadata": {},
   "outputs": [
    {
     "data": {
      "text/html": [
       "<div>\n",
       "<style scoped>\n",
       "    .dataframe tbody tr th:only-of-type {\n",
       "        vertical-align: middle;\n",
       "    }\n",
       "\n",
       "    .dataframe tbody tr th {\n",
       "        vertical-align: top;\n",
       "    }\n",
       "\n",
       "    .dataframe thead th {\n",
       "        text-align: right;\n",
       "    }\n",
       "</style>\n",
       "<table border=\"1\" class=\"dataframe\">\n",
       "  <thead>\n",
       "    <tr style=\"text-align: right;\">\n",
       "      <th></th>\n",
       "      <th>Credit_History</th>\n",
       "      <th>Married_No</th>\n",
       "      <th>Married_Yes</th>\n",
       "      <th>Education_Graduate</th>\n",
       "      <th>Education_Not Graduate</th>\n",
       "      <th>Property_Area_Rural</th>\n",
       "      <th>Property_Area_Semiurban</th>\n",
       "      <th>Property_Area_Urban</th>\n",
       "    </tr>\n",
       "  </thead>\n",
       "  <tbody>\n",
       "    <tr>\n",
       "      <th>0</th>\n",
       "      <td>0.437674</td>\n",
       "      <td>0</td>\n",
       "      <td>1</td>\n",
       "      <td>1</td>\n",
       "      <td>0</td>\n",
       "      <td>0</td>\n",
       "      <td>0</td>\n",
       "      <td>1</td>\n",
       "    </tr>\n",
       "    <tr>\n",
       "      <th>1</th>\n",
       "      <td>0.437674</td>\n",
       "      <td>0</td>\n",
       "      <td>1</td>\n",
       "      <td>1</td>\n",
       "      <td>0</td>\n",
       "      <td>0</td>\n",
       "      <td>0</td>\n",
       "      <td>1</td>\n",
       "    </tr>\n",
       "    <tr>\n",
       "      <th>2</th>\n",
       "      <td>0.437674</td>\n",
       "      <td>0</td>\n",
       "      <td>1</td>\n",
       "      <td>1</td>\n",
       "      <td>0</td>\n",
       "      <td>0</td>\n",
       "      <td>0</td>\n",
       "      <td>1</td>\n",
       "    </tr>\n",
       "    <tr>\n",
       "      <th>3</th>\n",
       "      <td>0.437674</td>\n",
       "      <td>0</td>\n",
       "      <td>1</td>\n",
       "      <td>1</td>\n",
       "      <td>0</td>\n",
       "      <td>0</td>\n",
       "      <td>0</td>\n",
       "      <td>1</td>\n",
       "    </tr>\n",
       "    <tr>\n",
       "      <th>4</th>\n",
       "      <td>0.437674</td>\n",
       "      <td>1</td>\n",
       "      <td>0</td>\n",
       "      <td>0</td>\n",
       "      <td>1</td>\n",
       "      <td>0</td>\n",
       "      <td>0</td>\n",
       "      <td>1</td>\n",
       "    </tr>\n",
       "    <tr>\n",
       "      <th>...</th>\n",
       "      <td>...</td>\n",
       "      <td>...</td>\n",
       "      <td>...</td>\n",
       "      <td>...</td>\n",
       "      <td>...</td>\n",
       "      <td>...</td>\n",
       "      <td>...</td>\n",
       "      <td>...</td>\n",
       "    </tr>\n",
       "    <tr>\n",
       "      <th>362</th>\n",
       "      <td>0.437674</td>\n",
       "      <td>0</td>\n",
       "      <td>1</td>\n",
       "      <td>0</td>\n",
       "      <td>1</td>\n",
       "      <td>0</td>\n",
       "      <td>0</td>\n",
       "      <td>1</td>\n",
       "    </tr>\n",
       "    <tr>\n",
       "      <th>363</th>\n",
       "      <td>0.437674</td>\n",
       "      <td>0</td>\n",
       "      <td>1</td>\n",
       "      <td>1</td>\n",
       "      <td>0</td>\n",
       "      <td>0</td>\n",
       "      <td>0</td>\n",
       "      <td>1</td>\n",
       "    </tr>\n",
       "    <tr>\n",
       "      <th>364</th>\n",
       "      <td>0.437674</td>\n",
       "      <td>1</td>\n",
       "      <td>0</td>\n",
       "      <td>1</td>\n",
       "      <td>0</td>\n",
       "      <td>0</td>\n",
       "      <td>1</td>\n",
       "      <td>0</td>\n",
       "    </tr>\n",
       "    <tr>\n",
       "      <th>365</th>\n",
       "      <td>0.437674</td>\n",
       "      <td>0</td>\n",
       "      <td>1</td>\n",
       "      <td>1</td>\n",
       "      <td>0</td>\n",
       "      <td>1</td>\n",
       "      <td>0</td>\n",
       "      <td>0</td>\n",
       "    </tr>\n",
       "    <tr>\n",
       "      <th>366</th>\n",
       "      <td>0.437674</td>\n",
       "      <td>1</td>\n",
       "      <td>0</td>\n",
       "      <td>1</td>\n",
       "      <td>0</td>\n",
       "      <td>1</td>\n",
       "      <td>0</td>\n",
       "      <td>0</td>\n",
       "    </tr>\n",
       "  </tbody>\n",
       "</table>\n",
       "<p>367 rows × 8 columns</p>\n",
       "</div>"
      ],
      "text/plain": [
       "     Credit_History  Married_No  Married_Yes  Education_Graduate  \\\n",
       "0          0.437674           0            1                   1   \n",
       "1          0.437674           0            1                   1   \n",
       "2          0.437674           0            1                   1   \n",
       "3          0.437674           0            1                   1   \n",
       "4          0.437674           1            0                   0   \n",
       "..              ...         ...          ...                 ...   \n",
       "362        0.437674           0            1                   0   \n",
       "363        0.437674           0            1                   1   \n",
       "364        0.437674           1            0                   1   \n",
       "365        0.437674           0            1                   1   \n",
       "366        0.437674           1            0                   1   \n",
       "\n",
       "     Education_Not Graduate  Property_Area_Rural  Property_Area_Semiurban  \\\n",
       "0                         0                    0                        0   \n",
       "1                         0                    0                        0   \n",
       "2                         0                    0                        0   \n",
       "3                         0                    0                        0   \n",
       "4                         1                    0                        0   \n",
       "..                      ...                  ...                      ...   \n",
       "362                       1                    0                        0   \n",
       "363                       0                    0                        0   \n",
       "364                       0                    0                        1   \n",
       "365                       0                    1                        0   \n",
       "366                       0                    1                        0   \n",
       "\n",
       "     Property_Area_Urban  \n",
       "0                      1  \n",
       "1                      1  \n",
       "2                      1  \n",
       "3                      1  \n",
       "4                      1  \n",
       "..                   ...  \n",
       "362                    1  \n",
       "363                    1  \n",
       "364                    0  \n",
       "365                    0  \n",
       "366                    0  \n",
       "\n",
       "[367 rows x 8 columns]"
      ]
     },
     "execution_count": 27,
     "metadata": {},
     "output_type": "execute_result"
    }
   ],
   "source": [
    "Xnewb"
   ]
  },
  {
   "cell_type": "markdown",
   "id": "54fce7d4",
   "metadata": {},
   "source": [
    "# Splitting"
   ]
  },
  {
   "cell_type": "code",
   "execution_count": 28,
   "id": "53910a5b",
   "metadata": {},
   "outputs": [],
   "source": [
    "from sklearn.model_selection import train_test_split\n",
    "xtrain,xtest,ytrain,ytest=train_test_split(Xnew,Y,test_size=0.2,random_state=21)"
   ]
  },
  {
   "cell_type": "markdown",
   "id": "17c07d03",
   "metadata": {},
   "source": [
    "# Model1  Logistic Regression"
   ]
  },
  {
   "cell_type": "code",
   "execution_count": 29,
   "id": "47bd6cd4",
   "metadata": {},
   "outputs": [],
   "source": [
    "from sklearn.linear_model import LogisticRegression\n",
    "lr=LogisticRegression()\n",
    "model=lr.fit(xtrain,ytrain)"
   ]
  },
  {
   "cell_type": "markdown",
   "id": "087e02d2",
   "metadata": {},
   "source": [
    "# Prediction"
   ]
  },
  {
   "cell_type": "code",
   "execution_count": 30,
   "id": "e05e9fcf",
   "metadata": {},
   "outputs": [],
   "source": [
    "tr_pred= model.predict(xtrain)\n",
    "ts_pred=model.predict(xtest)\n"
   ]
  },
  {
   "cell_type": "markdown",
   "id": "2cce1c03",
   "metadata": {},
   "source": [
    "# Accuracy"
   ]
  },
  {
   "cell_type": "code",
   "execution_count": 31,
   "id": "8fe487e2",
   "metadata": {},
   "outputs": [
    {
     "data": {
      "text/plain": [
       "(0.8112798264642083, 0.8448275862068966)"
      ]
     },
     "execution_count": 31,
     "metadata": {},
     "output_type": "execute_result"
    }
   ],
   "source": [
    "from sklearn.metrics import accuracy_score,confusion_matrix\n",
    "accuracy_score(ytrain,tr_pred) ,accuracy_score(ytest,ts_pred)"
   ]
  },
  {
   "cell_type": "code",
   "execution_count": 32,
   "id": "f019704c",
   "metadata": {},
   "outputs": [
    {
     "data": {
      "text/plain": [
       "array([[ 63,  81],\n",
       "       [  6, 311]], dtype=int64)"
      ]
     },
     "execution_count": 32,
     "metadata": {},
     "output_type": "execute_result"
    }
   ],
   "source": [
    "from sklearn.metrics import confusion_matrix,recall_score\n",
    "confusion_matrix(ytrain,tr_pred)"
   ]
  },
  {
   "cell_type": "code",
   "execution_count": 33,
   "id": "23e97fe4",
   "metadata": {},
   "outputs": [
    {
     "data": {
      "text/plain": [
       "array([[17, 18],\n",
       "       [ 0, 81]], dtype=int64)"
      ]
     },
     "execution_count": 33,
     "metadata": {},
     "output_type": "execute_result"
    }
   ],
   "source": [
    "confusion_matrix(ytest,ts_pred)"
   ]
  },
  {
   "cell_type": "code",
   "execution_count": null,
   "id": "703b07b2",
   "metadata": {},
   "outputs": [],
   "source": []
  },
  {
   "cell_type": "markdown",
   "id": "fcc8d3e6",
   "metadata": {},
   "source": [
    "# Bivariate analysis for other models"
   ]
  },
  {
   "cell_type": "code",
   "execution_count": 34,
   "id": "103715cd",
   "metadata": {},
   "outputs": [],
   "source": [
    "Y= A[\"Loan_Status\"]\n",
    "X=A.drop(labels=[\"Loan_Status\",\"Loan_ID\"],axis=1)\n",
    "Xb=B.drop(labels=[\"Loan_ID\"],axis=1)"
   ]
  },
  {
   "cell_type": "code",
   "execution_count": 35,
   "id": "cf09a329",
   "metadata": {},
   "outputs": [],
   "source": [
    "from Wd8pm import catcon\n",
    "cat,con= catcon(X)\n",
    "catb,conb= catcon(Xb)\n"
   ]
  },
  {
   "cell_type": "code",
   "execution_count": 36,
   "id": "4c61e0f1",
   "metadata": {},
   "outputs": [],
   "source": [
    "from Wd8pm import catcon\n",
    "\n",
    "Xnew = pd.get_dummies(X[cat]).join(X[con])\n",
    "\n",
    "\n",
    "Xnewb = pd.get_dummies(Xb[catb]).join(Xb[conb])\n"
   ]
  },
  {
   "cell_type": "code",
   "execution_count": 37,
   "id": "a859a1ab",
   "metadata": {},
   "outputs": [],
   "source": [
    "from sklearn.model_selection import train_test_split\n",
    "xtrain,xtest,ytrain,ytest=train_test_split(Xnew,Y,test_size=0.2,random_state=21)"
   ]
  },
  {
   "cell_type": "markdown",
   "id": "f69454cb",
   "metadata": {},
   "source": [
    "# Model 2 KNN classification"
   ]
  },
  {
   "cell_type": "code",
   "execution_count": 38,
   "id": "08e73f35",
   "metadata": {},
   "outputs": [
    {
     "data": {
      "text/plain": [
       "(0.7592190889370932, 0.5775862068965517)"
      ]
     },
     "execution_count": 38,
     "metadata": {},
     "output_type": "execute_result"
    }
   ],
   "source": [
    "from sklearn.neighbors import KNeighborsClassifier\n",
    "knc = KNeighborsClassifier(n_neighbors=5)\n",
    "\n",
    "model = knc.fit(xtrain,ytrain)\n",
    "tr_pred = model.predict(xtrain)\n",
    "ts_pred = model.predict(xtest)\n",
    "from sklearn.metrics import accuracy_score\n",
    "tr_acc = accuracy_score(ytrain,tr_pred)\n",
    "ts_acc = accuracy_score(ytest,ts_pred)\n",
    "tr_acc,ts_acc"
   ]
  },
  {
   "cell_type": "code",
   "execution_count": 39,
   "id": "234e2992",
   "metadata": {},
   "outputs": [
    {
     "data": {
      "text/plain": [
       "array([[ 54,  90],\n",
       "       [ 21, 296]], dtype=int64)"
      ]
     },
     "execution_count": 39,
     "metadata": {},
     "output_type": "execute_result"
    }
   ],
   "source": [
    "from sklearn.metrics import confusion_matrix\n",
    "confusion_matrix(ytrain,tr_pred)"
   ]
  },
  {
   "cell_type": "markdown",
   "id": "4e38274f",
   "metadata": {},
   "source": [
    "# Gridsearch CV"
   ]
  },
  {
   "cell_type": "code",
   "execution_count": 40,
   "id": "ab015886",
   "metadata": {},
   "outputs": [
    {
     "data": {
      "text/plain": [
       "{'n_neighbors': 9}"
      ]
     },
     "execution_count": 40,
     "metadata": {},
     "output_type": "execute_result"
    }
   ],
   "source": [
    "tg = {\"n_neighbors\":range(2,10,1)}\n",
    "knc = KNeighborsClassifier()\n",
    "\n",
    "from sklearn.model_selection import GridSearchCV\n",
    "cv = GridSearchCV(knc,tg,scoring = \"accuracy\",cv=4)\n",
    "cvmodel = cv.fit(Xnew,Y)\n",
    "cvmodel.best_params_"
   ]
  },
  {
   "cell_type": "code",
   "execution_count": 41,
   "id": "dc307b17",
   "metadata": {},
   "outputs": [
    {
     "data": {
      "text/plain": [
       "(0.7223427331887202, 0.6379310344827587)"
      ]
     },
     "execution_count": 41,
     "metadata": {},
     "output_type": "execute_result"
    }
   ],
   "source": [
    "from sklearn.neighbors import KNeighborsClassifier\n",
    "knc = KNeighborsClassifier(n_neighbors=9)\n",
    "\n",
    "model = knc.fit(xtrain,ytrain)\n",
    "tr_pred = model.predict(xtrain)\n",
    "ts_pred = model.predict(xtest)\n",
    "from sklearn.metrics import accuracy_score\n",
    "tr_acc = accuracy_score(ytrain,tr_pred)\n",
    "ts_acc = accuracy_score(ytest,ts_pred)\n",
    "tr_acc,ts_acc"
   ]
  },
  {
   "cell_type": "code",
   "execution_count": 42,
   "id": "e1520ed4",
   "metadata": {},
   "outputs": [
    {
     "data": {
      "text/plain": [
       "array([[ 36, 108],\n",
       "       [ 20, 297]], dtype=int64)"
      ]
     },
     "execution_count": 42,
     "metadata": {},
     "output_type": "execute_result"
    }
   ],
   "source": [
    "from sklearn.metrics import confusion_matrix\n",
    "confusion_matrix(ytrain,tr_pred)"
   ]
  },
  {
   "cell_type": "raw",
   "id": "80828330",
   "metadata": {},
   "source": [
    "false positive is more"
   ]
  },
  {
   "cell_type": "markdown",
   "id": "7e434a25",
   "metadata": {},
   "source": [
    "# Model3 Desicion Tree classifier"
   ]
  },
  {
   "cell_type": "code",
   "execution_count": 43,
   "id": "9135757f",
   "metadata": {},
   "outputs": [],
   "source": [
    "from sklearn.tree import DecisionTreeClassifier\n",
    "dtc=DecisionTreeClassifier(criterion=\"entropy\",random_state=21)\n",
    "model=dtc.fit(xtrain,ytrain)\n",
    "tr_pred=dtc.predict(xtrain)\n",
    "ts_pred=dtc.predict(xtest)"
   ]
  },
  {
   "cell_type": "code",
   "execution_count": 44,
   "id": "bc5795ae",
   "metadata": {},
   "outputs": [
    {
     "data": {
      "text/plain": [
       "(1.0, 0.7413793103448276)"
      ]
     },
     "execution_count": 44,
     "metadata": {},
     "output_type": "execute_result"
    }
   ],
   "source": [
    "tr_acc = accuracy_score(ytrain,tr_pred)\n",
    "ts_acc = accuracy_score(ytest,ts_pred)\n",
    "tr_acc,ts_acc"
   ]
  },
  {
   "cell_type": "markdown",
   "id": "4879880e",
   "metadata": {},
   "source": [
    "# Pruning"
   ]
  },
  {
   "cell_type": "code",
   "execution_count": 45,
   "id": "9ce10cbf",
   "metadata": {},
   "outputs": [
    {
     "data": {
      "text/plain": [
       "{'criterion': 'entropy', 'max_depth': 2}"
      ]
     },
     "execution_count": 45,
     "metadata": {},
     "output_type": "execute_result"
    }
   ],
   "source": [
    "from sklearn.model_selection import GridSearchCV\n",
    "\n",
    "tg = {\"criterion\":[\"entropy\",\"gini\"],\"max_depth\":range(2,15,1)}\n",
    "dtc = DecisionTreeClassifier(random_state=21)\n",
    "cv = GridSearchCV(dtc,tg,scoring=\"accuracy\",cv=4)\n",
    "cvmodel = cv.fit(Xnew,Y)\n",
    "cvmodel.best_params_"
   ]
  },
  {
   "cell_type": "code",
   "execution_count": 46,
   "id": "b403a5d7",
   "metadata": {},
   "outputs": [
    {
     "data": {
      "text/plain": [
       "{'criterion': 'entropy', 'min_samples_leaf': 9}"
      ]
     },
     "execution_count": 46,
     "metadata": {},
     "output_type": "execute_result"
    }
   ],
   "source": [
    "from sklearn.model_selection import GridSearchCV\n",
    "\n",
    "tg = {\"criterion\":[\"entropy\",\"gini\"],\"min_samples_leaf\":range(2,15,1)}\n",
    "dtc = DecisionTreeClassifier(random_state=21)\n",
    "cv = GridSearchCV(dtc,tg,scoring=\"accuracy\",cv=4)\n",
    "cvmodel = cv.fit(Xnew,Y)\n",
    "cvmodel.best_params_"
   ]
  },
  {
   "cell_type": "code",
   "execution_count": 47,
   "id": "30425fcc",
   "metadata": {},
   "outputs": [
    {
     "data": {
      "text/plain": [
       "{'criterion': 'entropy', 'min_samples_split': 11}"
      ]
     },
     "execution_count": 47,
     "metadata": {},
     "output_type": "execute_result"
    }
   ],
   "source": [
    "from sklearn.model_selection import GridSearchCV\n",
    "\n",
    "tg = {\"criterion\":[\"entropy\",\"gini\"],\"min_samples_split\":range(2,15,1)}\n",
    "dtc = DecisionTreeClassifier(random_state=21)\n",
    "cv = GridSearchCV(dtc,tg,scoring=\"accuracy\",cv=4)\n",
    "cvmodel = cv.fit(Xnew,Y)\n",
    "cvmodel.best_params_"
   ]
  },
  {
   "cell_type": "markdown",
   "id": "7f6fa1f7",
   "metadata": {},
   "source": [
    "# Finding accuracy based on best parameters obtained for max_depth ,min_samples_split,min_samples_leaf"
   ]
  },
  {
   "cell_type": "code",
   "execution_count": 48,
   "id": "7e9f8629",
   "metadata": {},
   "outputs": [
    {
     "data": {
      "text/plain": [
       "(0.9002169197396963, 0.7413793103448276)"
      ]
     },
     "execution_count": 48,
     "metadata": {},
     "output_type": "execute_result"
    }
   ],
   "source": [
    "dtc = DecisionTreeClassifier(min_samples_split=11)\n",
    "model1 = dtc.fit(xtrain,ytrain)\n",
    "tr_pred = model1.predict(xtrain)\n",
    "ts_pred = model1.predict(xtest)\n",
    "from sklearn.metrics import accuracy_score\n",
    "tr_err = accuracy_score(ytrain,tr_pred)\n",
    "ts_err  = accuracy_score(ytest,ts_pred)\n",
    "tr_err,ts_err"
   ]
  },
  {
   "cell_type": "code",
   "execution_count": 49,
   "id": "134db791",
   "metadata": {},
   "outputs": [
    {
     "data": {
      "text/plain": [
       "(0.8329718004338394, 0.7413793103448276)"
      ]
     },
     "execution_count": 49,
     "metadata": {},
     "output_type": "execute_result"
    }
   ],
   "source": [
    "dtc = DecisionTreeClassifier(min_samples_leaf=9)\n",
    "model2 = dtc.fit(xtrain,ytrain)\n",
    "tr_pred = model2.predict(xtrain)\n",
    "ts_pred = model2.predict(xtest)\n",
    "from sklearn.metrics import accuracy_score\n",
    "tr_err = accuracy_score(ytrain,tr_pred)\n",
    "ts_err  = accuracy_score(ytest,ts_pred)\n",
    "tr_err,ts_err"
   ]
  },
  {
   "cell_type": "code",
   "execution_count": 50,
   "id": "aa8117a2",
   "metadata": {},
   "outputs": [
    {
     "data": {
      "text/plain": [
       "(0.8134490238611713, 0.8362068965517241)"
      ]
     },
     "execution_count": 50,
     "metadata": {},
     "output_type": "execute_result"
    }
   ],
   "source": [
    "dtc = DecisionTreeClassifier(max_depth=2)\n",
    "model3 = dtc.fit(xtrain,ytrain)\n",
    "tr_pred = model3.predict(xtrain)\n",
    "ts_pred = model3.predict(xtest)\n",
    "from sklearn.metrics import accuracy_score\n",
    "tr_err = accuracy_score(ytrain,tr_pred)\n",
    "ts_err  = accuracy_score(ytest,ts_pred)\n",
    "tr_err,ts_err"
   ]
  },
  {
   "cell_type": "markdown",
   "id": "76ec0d59",
   "metadata": {},
   "source": [
    "# Model 4 Random Forest "
   ]
  },
  {
   "cell_type": "code",
   "execution_count": 51,
   "id": "2da9c2c8",
   "metadata": {},
   "outputs": [
    {
     "data": {
      "text/plain": [
       "(1.0, 0.8189655172413793)"
      ]
     },
     "execution_count": 51,
     "metadata": {},
     "output_type": "execute_result"
    }
   ],
   "source": [
    "from sklearn.ensemble import RandomForestClassifier\n",
    "rfr = RandomForestClassifier(random_state=21)\n",
    "model = rfr.fit(xtrain,ytrain)\n",
    "tr_pred = model.predict(xtrain)\n",
    "ts_pred = model.predict(xtest)\n",
    "from sklearn.metrics import accuracy_score\n",
    "tr_acc = accuracy_score(ytrain,tr_pred)\n",
    "ts_acc  = accuracy_score(ytest,ts_pred)\n",
    "\n",
    "tr_acc,ts_acc"
   ]
  },
  {
   "cell_type": "raw",
   "id": "3f617a49",
   "metadata": {},
   "source": [
    "tg = {\"max_depth\":range(2,20,1),\"n_estimators\":range(2,200,10)}\n",
    "rfc = RandomForestClassifier(random_state=21)\n",
    "from sklearn.model_selection import GridSearchCV\n",
    "cv = GridSearchCV(rfc,tg,scoring = \"accuracy\",cv=4)\n",
    "cvmodel = cv.fit(Xnew,Y)\n",
    "cvmodel.best_params_"
   ]
  },
  {
   "cell_type": "code",
   "execution_count": 52,
   "id": "73437317",
   "metadata": {},
   "outputs": [
    {
     "data": {
      "text/plain": [
       "(0.8394793926247288, 0.8448275862068966)"
      ]
     },
     "execution_count": 52,
     "metadata": {},
     "output_type": "execute_result"
    }
   ],
   "source": [
    "rfc = RandomForestClassifier(random_state=21,max_depth=6,n_estimators=22)\n",
    "model = rfc.fit(Xnew,Y)\n",
    "tr_pred = model.predict(xtrain)\n",
    "ts_pred = model.predict(xtest)\n",
    "from sklearn.metrics import accuracy_score\n",
    "tr_acc = accuracy_score(ytrain,tr_pred)\n",
    "ts_acc  = accuracy_score(ytest,ts_pred)\n",
    "\n",
    "tr_acc,ts_acc"
   ]
  },
  {
   "cell_type": "markdown",
   "id": "548ec49b",
   "metadata": {},
   "source": [
    "# Model 5 Adaboost"
   ]
  },
  {
   "cell_type": "code",
   "execution_count": 53,
   "id": "c3bc4f92",
   "metadata": {},
   "outputs": [
    {
     "data": {
      "text/plain": [
       "(1.0, 0.7586206896551724)"
      ]
     },
     "execution_count": 53,
     "metadata": {},
     "output_type": "execute_result"
    }
   ],
   "source": [
    "from sklearn.ensemble import AdaBoostClassifier\n",
    "from sklearn.tree import DecisionTreeClassifier\n",
    "\n",
    "dtc = DecisionTreeClassifier(random_state=21,max_depth=2)\n",
    "abc = AdaBoostClassifier(dtc,n_estimators=100)\n",
    "\n",
    "model = abc.fit(xtrain,ytrain)\n",
    "tr_pred = model.predict(xtrain)\n",
    "ts_pred = model.predict(xtest)\n",
    "from sklearn.metrics import accuracy_score\n",
    "tr_acc = accuracy_score(ytrain,tr_pred)\n",
    "ts_acc  = accuracy_score(ytest,ts_pred)\n",
    "\n",
    "tr_acc,ts_acc"
   ]
  },
  {
   "cell_type": "code",
   "execution_count": 54,
   "id": "b1994120",
   "metadata": {},
   "outputs": [
    {
     "data": {
      "text/plain": [
       "{'n_estimators': 2}"
      ]
     },
     "execution_count": 54,
     "metadata": {},
     "output_type": "execute_result"
    }
   ],
   "source": [
    "tg = {\"n_estimators\":range(2,100,10)}\n",
    "\n",
    "dtc = DecisionTreeClassifier(random_state=21,max_depth=2)\n",
    "abc = AdaBoostClassifier(dtc)\n",
    "\n",
    "from sklearn.model_selection import GridSearchCV\n",
    "cv = GridSearchCV(abc,tg,scoring = \"accuracy\",cv=4)\n",
    "cvmodel = cv.fit(Xnew,Y)\n",
    "cvmodel.best_params_"
   ]
  },
  {
   "cell_type": "code",
   "execution_count": 55,
   "id": "8c3e3e7d",
   "metadata": {},
   "outputs": [
    {
     "data": {
      "text/plain": [
       "(0.8221258134490239, 0.8275862068965517)"
      ]
     },
     "execution_count": 55,
     "metadata": {},
     "output_type": "execute_result"
    }
   ],
   "source": [
    "abc = AdaBoostClassifier(dtc,n_estimators=2)\n",
    "\n",
    "model = abc.fit(xtrain,ytrain)\n",
    "tr_pred = model.predict(xtrain)\n",
    "ts_pred = model.predict(xtest)\n",
    "from sklearn.metrics import accuracy_score\n",
    "tr_acc = accuracy_score(ytrain,tr_pred)\n",
    "ts_acc  = accuracy_score(ytest,ts_pred)\n",
    "tr_acc,ts_acc"
   ]
  },
  {
   "cell_type": "markdown",
   "id": "2d727113",
   "metadata": {},
   "source": [
    "# Adaboost is  the best model"
   ]
  },
  {
   "cell_type": "code",
   "execution_count": 56,
   "id": "dd6688ca",
   "metadata": {},
   "outputs": [],
   "source": [
    "model = abc.fit(Xnew,Y)\n",
    "ts_pred=model.predict(Xnewb)"
   ]
  },
  {
   "cell_type": "code",
   "execution_count": 57,
   "id": "eb53e8c2",
   "metadata": {},
   "outputs": [
    {
     "data": {
      "text/plain": [
       "(367, 20)"
      ]
     },
     "execution_count": 57,
     "metadata": {},
     "output_type": "execute_result"
    }
   ],
   "source": [
    "Xnewb.shape"
   ]
  },
  {
   "cell_type": "code",
   "execution_count": 58,
   "id": "595094de",
   "metadata": {},
   "outputs": [
    {
     "data": {
      "text/plain": [
       "(367, 12)"
      ]
     },
     "execution_count": 58,
     "metadata": {},
     "output_type": "execute_result"
    }
   ],
   "source": [
    "B.shape"
   ]
  },
  {
   "cell_type": "code",
   "execution_count": 59,
   "id": "f43d1363",
   "metadata": {},
   "outputs": [],
   "source": [
    "B[\"Loan_Status\"]=ts_pred"
   ]
  },
  {
   "cell_type": "code",
   "execution_count": 60,
   "id": "43d67d1f",
   "metadata": {},
   "outputs": [
    {
     "data": {
      "text/html": [
       "<div>\n",
       "<style scoped>\n",
       "    .dataframe tbody tr th:only-of-type {\n",
       "        vertical-align: middle;\n",
       "    }\n",
       "\n",
       "    .dataframe tbody tr th {\n",
       "        vertical-align: top;\n",
       "    }\n",
       "\n",
       "    .dataframe thead th {\n",
       "        text-align: right;\n",
       "    }\n",
       "</style>\n",
       "<table border=\"1\" class=\"dataframe\">\n",
       "  <thead>\n",
       "    <tr style=\"text-align: right;\">\n",
       "      <th></th>\n",
       "      <th>Loan_ID</th>\n",
       "      <th>Gender</th>\n",
       "      <th>Married</th>\n",
       "      <th>Dependents</th>\n",
       "      <th>Education</th>\n",
       "      <th>Self_Employed</th>\n",
       "      <th>ApplicantIncome</th>\n",
       "      <th>CoapplicantIncome</th>\n",
       "      <th>LoanAmount</th>\n",
       "      <th>Loan_Amount_Term</th>\n",
       "      <th>Credit_History</th>\n",
       "      <th>Property_Area</th>\n",
       "      <th>Loan_Status</th>\n",
       "    </tr>\n",
       "  </thead>\n",
       "  <tbody>\n",
       "    <tr>\n",
       "      <th>0</th>\n",
       "      <td>LP001015</td>\n",
       "      <td>Male</td>\n",
       "      <td>Yes</td>\n",
       "      <td>0</td>\n",
       "      <td>Graduate</td>\n",
       "      <td>No</td>\n",
       "      <td>5720</td>\n",
       "      <td>0</td>\n",
       "      <td>110.0</td>\n",
       "      <td>360.0</td>\n",
       "      <td>1.0</td>\n",
       "      <td>Urban</td>\n",
       "      <td>Y</td>\n",
       "    </tr>\n",
       "    <tr>\n",
       "      <th>1</th>\n",
       "      <td>LP001022</td>\n",
       "      <td>Male</td>\n",
       "      <td>Yes</td>\n",
       "      <td>1</td>\n",
       "      <td>Graduate</td>\n",
       "      <td>No</td>\n",
       "      <td>3076</td>\n",
       "      <td>1500</td>\n",
       "      <td>126.0</td>\n",
       "      <td>360.0</td>\n",
       "      <td>1.0</td>\n",
       "      <td>Urban</td>\n",
       "      <td>Y</td>\n",
       "    </tr>\n",
       "    <tr>\n",
       "      <th>2</th>\n",
       "      <td>LP001031</td>\n",
       "      <td>Male</td>\n",
       "      <td>Yes</td>\n",
       "      <td>2</td>\n",
       "      <td>Graduate</td>\n",
       "      <td>No</td>\n",
       "      <td>5000</td>\n",
       "      <td>1800</td>\n",
       "      <td>208.0</td>\n",
       "      <td>360.0</td>\n",
       "      <td>1.0</td>\n",
       "      <td>Urban</td>\n",
       "      <td>Y</td>\n",
       "    </tr>\n",
       "    <tr>\n",
       "      <th>3</th>\n",
       "      <td>LP001035</td>\n",
       "      <td>Male</td>\n",
       "      <td>Yes</td>\n",
       "      <td>2</td>\n",
       "      <td>Graduate</td>\n",
       "      <td>No</td>\n",
       "      <td>2340</td>\n",
       "      <td>2546</td>\n",
       "      <td>100.0</td>\n",
       "      <td>360.0</td>\n",
       "      <td>1.0</td>\n",
       "      <td>Urban</td>\n",
       "      <td>Y</td>\n",
       "    </tr>\n",
       "    <tr>\n",
       "      <th>4</th>\n",
       "      <td>LP001051</td>\n",
       "      <td>Male</td>\n",
       "      <td>No</td>\n",
       "      <td>0</td>\n",
       "      <td>Not Graduate</td>\n",
       "      <td>No</td>\n",
       "      <td>3276</td>\n",
       "      <td>0</td>\n",
       "      <td>78.0</td>\n",
       "      <td>360.0</td>\n",
       "      <td>1.0</td>\n",
       "      <td>Urban</td>\n",
       "      <td>Y</td>\n",
       "    </tr>\n",
       "    <tr>\n",
       "      <th>...</th>\n",
       "      <td>...</td>\n",
       "      <td>...</td>\n",
       "      <td>...</td>\n",
       "      <td>...</td>\n",
       "      <td>...</td>\n",
       "      <td>...</td>\n",
       "      <td>...</td>\n",
       "      <td>...</td>\n",
       "      <td>...</td>\n",
       "      <td>...</td>\n",
       "      <td>...</td>\n",
       "      <td>...</td>\n",
       "      <td>...</td>\n",
       "    </tr>\n",
       "    <tr>\n",
       "      <th>362</th>\n",
       "      <td>LP002971</td>\n",
       "      <td>Male</td>\n",
       "      <td>Yes</td>\n",
       "      <td>3+</td>\n",
       "      <td>Not Graduate</td>\n",
       "      <td>Yes</td>\n",
       "      <td>4009</td>\n",
       "      <td>1777</td>\n",
       "      <td>113.0</td>\n",
       "      <td>360.0</td>\n",
       "      <td>1.0</td>\n",
       "      <td>Urban</td>\n",
       "      <td>Y</td>\n",
       "    </tr>\n",
       "    <tr>\n",
       "      <th>363</th>\n",
       "      <td>LP002975</td>\n",
       "      <td>Male</td>\n",
       "      <td>Yes</td>\n",
       "      <td>0</td>\n",
       "      <td>Graduate</td>\n",
       "      <td>No</td>\n",
       "      <td>4158</td>\n",
       "      <td>709</td>\n",
       "      <td>115.0</td>\n",
       "      <td>360.0</td>\n",
       "      <td>1.0</td>\n",
       "      <td>Urban</td>\n",
       "      <td>Y</td>\n",
       "    </tr>\n",
       "    <tr>\n",
       "      <th>364</th>\n",
       "      <td>LP002980</td>\n",
       "      <td>Male</td>\n",
       "      <td>No</td>\n",
       "      <td>0</td>\n",
       "      <td>Graduate</td>\n",
       "      <td>No</td>\n",
       "      <td>3250</td>\n",
       "      <td>1993</td>\n",
       "      <td>126.0</td>\n",
       "      <td>360.0</td>\n",
       "      <td>1.0</td>\n",
       "      <td>Semiurban</td>\n",
       "      <td>Y</td>\n",
       "    </tr>\n",
       "    <tr>\n",
       "      <th>365</th>\n",
       "      <td>LP002986</td>\n",
       "      <td>Male</td>\n",
       "      <td>Yes</td>\n",
       "      <td>0</td>\n",
       "      <td>Graduate</td>\n",
       "      <td>No</td>\n",
       "      <td>5000</td>\n",
       "      <td>2393</td>\n",
       "      <td>158.0</td>\n",
       "      <td>360.0</td>\n",
       "      <td>1.0</td>\n",
       "      <td>Rural</td>\n",
       "      <td>Y</td>\n",
       "    </tr>\n",
       "    <tr>\n",
       "      <th>366</th>\n",
       "      <td>LP002989</td>\n",
       "      <td>Male</td>\n",
       "      <td>No</td>\n",
       "      <td>0</td>\n",
       "      <td>Graduate</td>\n",
       "      <td>Yes</td>\n",
       "      <td>9200</td>\n",
       "      <td>0</td>\n",
       "      <td>98.0</td>\n",
       "      <td>180.0</td>\n",
       "      <td>1.0</td>\n",
       "      <td>Rural</td>\n",
       "      <td>Y</td>\n",
       "    </tr>\n",
       "  </tbody>\n",
       "</table>\n",
       "<p>367 rows × 13 columns</p>\n",
       "</div>"
      ],
      "text/plain": [
       "      Loan_ID Gender Married Dependents     Education Self_Employed  \\\n",
       "0    LP001015   Male     Yes          0      Graduate            No   \n",
       "1    LP001022   Male     Yes          1      Graduate            No   \n",
       "2    LP001031   Male     Yes          2      Graduate            No   \n",
       "3    LP001035   Male     Yes          2      Graduate            No   \n",
       "4    LP001051   Male      No          0  Not Graduate            No   \n",
       "..        ...    ...     ...        ...           ...           ...   \n",
       "362  LP002971   Male     Yes         3+  Not Graduate           Yes   \n",
       "363  LP002975   Male     Yes          0      Graduate            No   \n",
       "364  LP002980   Male      No          0      Graduate            No   \n",
       "365  LP002986   Male     Yes          0      Graduate            No   \n",
       "366  LP002989   Male      No          0      Graduate           Yes   \n",
       "\n",
       "     ApplicantIncome  CoapplicantIncome  LoanAmount  Loan_Amount_Term  \\\n",
       "0               5720                  0       110.0             360.0   \n",
       "1               3076               1500       126.0             360.0   \n",
       "2               5000               1800       208.0             360.0   \n",
       "3               2340               2546       100.0             360.0   \n",
       "4               3276                  0        78.0             360.0   \n",
       "..               ...                ...         ...               ...   \n",
       "362             4009               1777       113.0             360.0   \n",
       "363             4158                709       115.0             360.0   \n",
       "364             3250               1993       126.0             360.0   \n",
       "365             5000               2393       158.0             360.0   \n",
       "366             9200                  0        98.0             180.0   \n",
       "\n",
       "     Credit_History Property_Area Loan_Status  \n",
       "0               1.0         Urban           Y  \n",
       "1               1.0         Urban           Y  \n",
       "2               1.0         Urban           Y  \n",
       "3               1.0         Urban           Y  \n",
       "4               1.0         Urban           Y  \n",
       "..              ...           ...         ...  \n",
       "362             1.0         Urban           Y  \n",
       "363             1.0         Urban           Y  \n",
       "364             1.0     Semiurban           Y  \n",
       "365             1.0         Rural           Y  \n",
       "366             1.0         Rural           Y  \n",
       "\n",
       "[367 rows x 13 columns]"
      ]
     },
     "execution_count": 60,
     "metadata": {},
     "output_type": "execute_result"
    }
   ],
   "source": [
    "B"
   ]
  },
  {
   "cell_type": "code",
   "execution_count": 61,
   "id": "e60c3268",
   "metadata": {},
   "outputs": [],
   "source": [
    "B.to_csv(\"C:/Users/Suja4/OneDrive/Documents/Data Science/Dataset/submission_loan_1.csv\")"
   ]
  },
  {
   "cell_type": "markdown",
   "id": "6f240052",
   "metadata": {},
   "source": [
    "# Second Question"
   ]
  },
  {
   "cell_type": "raw",
   "id": "a164b283",
   "metadata": {},
   "source": [
    "# 3.)If customer is not eligible for the input required amount and duration:\n",
    "\n",
    "# a.)what can be amount for the given duration.(Regression)\n",
    "1.create a regression model to predict loan amount .\n",
    "2.use the earlier predicted data and predict the loan amount for all customers with \n",
    "loan_status=\"N\""
   ]
  },
  {
   "cell_type": "code",
   "execution_count": 62,
   "id": "7b13e700",
   "metadata": {},
   "outputs": [],
   "source": [
    "Xb2=B[(B.Loan_Status==\"N\")]\n"
   ]
  },
  {
   "cell_type": "code",
   "execution_count": 63,
   "id": "dce0f074",
   "metadata": {},
   "outputs": [
    {
     "data": {
      "text/plain": [
       "(62, 13)"
      ]
     },
     "execution_count": 63,
     "metadata": {},
     "output_type": "execute_result"
    }
   ],
   "source": [
    "Xb2.shape"
   ]
  },
  {
   "cell_type": "code",
   "execution_count": 65,
   "id": "027daa6c",
   "metadata": {},
   "outputs": [],
   "source": [
    "Xb2.index=range(0,62)"
   ]
  },
  {
   "cell_type": "code",
   "execution_count": null,
   "id": "3e7d07c2",
   "metadata": {},
   "outputs": [],
   "source": [
    "N_Cust=Xb2"
   ]
  },
  {
   "cell_type": "markdown",
   "id": "b8d95b29",
   "metadata": {},
   "source": [
    "# Bivariate analysis"
   ]
  },
  {
   "cell_type": "code",
   "execution_count": null,
   "id": "c1f04198",
   "metadata": {},
   "outputs": [],
   "source": [
    "Y= A[\"LoanAmount\"]\n",
    "X=A.drop(labels=[\"LoanAmount\",\"Loan_Status\",\"Loan_ID\"],axis=1)\n",
    "Xb2=Xb2.drop(labels=[\"LoanAmount\",\"Loan_Status\",\"Loan_ID\"],axis=1)"
   ]
  },
  {
   "cell_type": "code",
   "execution_count": null,
   "id": "a26f45d5",
   "metadata": {},
   "outputs": [],
   "source": [
    "from Wd8pm import preprocessing\n",
    "Xnew2 =preprocessing(X)\n",
    "Xnewb2=preprocessing(Xb2)\n"
   ]
  },
  {
   "cell_type": "code",
   "execution_count": null,
   "id": "40c5491e",
   "metadata": {},
   "outputs": [],
   "source": [
    "\n",
    "from sklearn.model_selection import train_test_split\n",
    "xtrain,xtest,ytrain,ytest =train_test_split(Xnew2,Y,test_size=0.2,random_state=21)\n"
   ]
  },
  {
   "cell_type": "markdown",
   "id": "6b227a31",
   "metadata": {},
   "source": [
    "# Linear Regression"
   ]
  },
  {
   "cell_type": "markdown",
   "id": "52102c46",
   "metadata": {},
   "source": [
    "# DecisionTreeRegressor "
   ]
  },
  {
   "cell_type": "code",
   "execution_count": null,
   "id": "a271cafc",
   "metadata": {},
   "outputs": [],
   "source": [
    "from sklearn.tree import DecisionTreeRegressor\n",
    "dtr = DecisionTreeRegressor(random_state=21)\n",
    "model = dtr.fit(xtrain,ytrain)\n",
    "tr_pred = model.predict(xtrain)\n",
    "ts_pred = model.predict(xtest)\n",
    "from sklearn.metrics import mean_absolute_error\n",
    "tr_err = mean_absolute_error(ytrain,tr_pred)\n",
    "ts_err  = mean_absolute_error(ytest,ts_pred)\n",
    "\n",
    "tr_err,ts_err"
   ]
  },
  {
   "cell_type": "markdown",
   "id": "443a6334",
   "metadata": {},
   "source": [
    "# Pruning"
   ]
  },
  {
   "cell_type": "code",
   "execution_count": null,
   "id": "2ee552da",
   "metadata": {},
   "outputs": [],
   "source": [
    "tg = {\"max_depth\":range(2,20,1)}\n",
    "dtr = DecisionTreeRegressor(random_state=21)\n",
    "\n",
    "from sklearn.model_selection import GridSearchCV\n",
    "cv = GridSearchCV(dtr,tg,scoring = \"neg_mean_absolute_error\",cv=4)\n",
    "cvmodel = cv.fit(Xnew,Y)\n",
    "cvmodel.best_params_"
   ]
  },
  {
   "cell_type": "code",
   "execution_count": null,
   "id": "f09a0137",
   "metadata": {},
   "outputs": [],
   "source": [
    "tg = {\"min_samples_leaf\":range(2,20,1)}\n",
    "dtr = DecisionTreeRegressor(random_state=21)\n",
    "\n",
    "from sklearn.model_selection import GridSearchCV\n",
    "cv = GridSearchCV(dtr,tg,scoring = \"neg_mean_absolute_error\",cv=4)\n",
    "cvmodel = cv.fit(Xnew,Y)\n",
    "cvmodel.best_params_"
   ]
  },
  {
   "cell_type": "code",
   "execution_count": null,
   "id": "41139cdc",
   "metadata": {},
   "outputs": [],
   "source": [
    "tg = {\"min_samples_split\":range(2,20,1)}\n",
    "dtr = DecisionTreeRegressor(random_state=21)\n",
    "\n",
    "from sklearn.model_selection import GridSearchCV\n",
    "cv = GridSearchCV(dtr,tg,scoring = \"neg_mean_absolute_error\",cv=4)\n",
    "cvmodel = cv.fit(Xnew,Y)\n",
    "cvmodel.best_params_"
   ]
  },
  {
   "cell_type": "raw",
   "id": "9ae09ff0",
   "metadata": {},
   "source": [
    "Finding accuracy based on best parameters obtained for max_depth ,min_samples_split,min_samples_leaf"
   ]
  },
  {
   "cell_type": "code",
   "execution_count": null,
   "id": "8322dd82",
   "metadata": {},
   "outputs": [],
   "source": [
    "dtr = DecisionTreeRegressor(max_depth=4)\n",
    "model1 = dtr.fit(xtrain,ytrain)\n",
    "tr_pred = model1.predict(xtrain)\n",
    "ts_pred = model1.predict(xtest)\n",
    "from sklearn.metrics import mean_absolute_error\n",
    "tr_err = mean_absolute_error(ytrain,tr_pred)\n",
    "ts_err  = mean_absolute_error(ytest,ts_pred)\n",
    "tr_err,ts_err"
   ]
  },
  {
   "cell_type": "code",
   "execution_count": null,
   "id": "f544ac99",
   "metadata": {},
   "outputs": [],
   "source": [
    "dtr = DecisionTreeRegressor(min_samples_split=19)\n",
    "model1 = dtr.fit(xtrain,ytrain)\n",
    "tr_pred = model1.predict(xtrain)\n",
    "ts_pred = model1.predict(xtest)\n",
    "from sklearn.metrics import mean_absolute_error\n",
    "tr_err = mean_absolute_error(ytrain,tr_pred)\n",
    "ts_err  = mean_absolute_error(ytest,ts_pred)\n",
    "tr_err,ts_err"
   ]
  },
  {
   "cell_type": "code",
   "execution_count": null,
   "id": "1a3681e7",
   "metadata": {},
   "outputs": [],
   "source": [
    "dtr = DecisionTreeRegressor(min_samples_leaf=14)\n",
    "model1 = dtr.fit(xtrain,ytrain)\n",
    "tr_pred = model1.predict(xtrain)\n",
    "ts_pred = model1.predict(xtest)\n",
    "from sklearn.metrics import mean_absolute_error\n",
    "tr_err = mean_absolute_error(ytrain,tr_pred)\n",
    "ts_err  = mean_absolute_error(ytest,ts_pred)\n",
    "tr_err,ts_err"
   ]
  },
  {
   "cell_type": "markdown",
   "id": "0b2daa00",
   "metadata": {},
   "source": [
    "# KNN Regression"
   ]
  },
  {
   "cell_type": "code",
   "execution_count": null,
   "id": "2e998ab9",
   "metadata": {},
   "outputs": [],
   "source": [
    "from sklearn.neighbors import KNeighborsRegressor\n",
    "knr= KNeighborsRegressor(n_neighbors=2)\n",
    "\n",
    "model =knr.fit(xtrain,ytrain)\n",
    "tr_pred= model.predict(xtrain)\n",
    "ts_pred =model.predict(xtest)\n",
    "from sklearn.metrics import mean_absolute_error\n",
    "tr_err= mean_absolute_error(ytrain,tr_pred)\n",
    "ts_err= mean_absolute_error(ytest,ts_pred)\n",
    "tr_err,ts_err\n"
   ]
  },
  {
   "cell_type": "code",
   "execution_count": null,
   "id": "a6d0fb92",
   "metadata": {},
   "outputs": [],
   "source": [
    "tg = {\"n_neighbors\":range(2,10,1)}\n",
    "knr = KNeighborsRegressor()\n",
    "\n",
    "from sklearn.model_selection import GridSearchCV\n",
    "cv = GridSearchCV(knr,tg,scoring = \"neg_mean_absolute_error\",cv=4)\n",
    "cvmodel = cv.fit(Xnew,Y)\n",
    "cvmodel.best_params_"
   ]
  },
  {
   "cell_type": "code",
   "execution_count": null,
   "id": "127c59f9",
   "metadata": {},
   "outputs": [],
   "source": [
    "from sklearn.neighbors import KNeighborsRegressor\n",
    "knr= KNeighborsRegressor(n_neighbors=5)\n",
    "\n",
    "model =knr.fit(xtrain,ytrain)\n",
    "tr_pred= model.predict(xtrain)\n",
    "ts_pred =model.predict(xtest)\n",
    "from sklearn.metrics import mean_absolute_error\n",
    "tr_err= mean_absolute_error(ytrain,tr_pred)\n",
    "ts_err= mean_absolute_error(ytest,ts_pred)\n",
    "tr_err,ts_err"
   ]
  },
  {
   "cell_type": "markdown",
   "id": "20ddf361",
   "metadata": {},
   "source": [
    "# RandomForestRegression"
   ]
  },
  {
   "cell_type": "code",
   "execution_count": null,
   "id": "3be4ac1a",
   "metadata": {},
   "outputs": [],
   "source": [
    "from sklearn.ensemble import RandomForestRegressor\n",
    "rfr = RandomForestRegressor(random_state=21)\n",
    "model = rfr.fit(xtrain,ytrain)\n",
    "tr_pred = model.predict(xtrain)\n",
    "ts_pred = model.predict(xtest)\n",
    "from sklearn.metrics import mean_absolute_error\n",
    "tr_acc = mean_absolute_error(ytrain,tr_pred)\n",
    "ts_acc  = mean_absolute_error(ytest,ts_pred)\n",
    "\n",
    "tr_acc,ts_acc"
   ]
  },
  {
   "cell_type": "markdown",
   "id": "937ed035",
   "metadata": {},
   "source": [
    "# GridsearchCV"
   ]
  },
  {
   "cell_type": "raw",
   "id": "ea94cb14",
   "metadata": {},
   "source": [
    "tg = {\"max_depth\":range(2,20,1),\"n_estimators\":range(2,200,10)}\n",
    "rfc = RandomForestRegressor(random_state=21)\n",
    "from sklearn.model_selection import GridSearchCV\n",
    "cv = GridSearchCV(rfc,tg,scoring = \"neg_mean_absolute_error\",cv=4)\n",
    "cvmodel = cv.fit(Xnew,Y)\n",
    "cvmodel.best_params_"
   ]
  },
  {
   "cell_type": "code",
   "execution_count": null,
   "id": "94d6bf45",
   "metadata": {},
   "outputs": [],
   "source": [
    "rfr= RandomForestRegressor(random_state=21,max_depth=9,n_estimators=192)\n",
    "model = rfr.fit(xtrain,ytrain)\n",
    "tr_pred = model.predict(xtrain)\n",
    "ts_pred = model.predict(xtest)\n",
    "from sklearn.metrics import mean_absolute_error\n",
    "tr_acc = mean_absolute_error(ytrain,tr_pred)\n",
    "ts_acc  = mean_absolute_error(ytest,ts_pred)\n",
    "tr_acc,ts_acc"
   ]
  },
  {
   "cell_type": "markdown",
   "id": "36146ea2",
   "metadata": {},
   "source": [
    "# AdaBoostRegression"
   ]
  },
  {
   "cell_type": "code",
   "execution_count": null,
   "id": "62c17f38",
   "metadata": {},
   "outputs": [],
   "source": [
    "from sklearn.ensemble import AdaBoostRegressor\n",
    "from sklearn.tree import DecisionTreeRegressor\n",
    "\n",
    "dtr = DecisionTreeRegressor(random_state=21,max_depth=2)\n",
    "abr = AdaBoostRegressor(dtr,n_estimators=100)\n",
    "\n",
    "model = abr.fit(xtrain,ytrain)\n",
    "tr_pred = model.predict(xtrain)\n",
    "ts_pred = model.predict(xtest)\n",
    "from sklearn.metrics import accuracy_score\n",
    "tr_acc = mean_absolute_error(ytrain,tr_pred)\n",
    "ts_acc  = mean_absolute_error(ytest,ts_pred)\n",
    "\n",
    "tr_acc,ts_acc"
   ]
  },
  {
   "cell_type": "raw",
   "id": "e0140c0f",
   "metadata": {},
   "source": [
    "tg = {\"n_estimators\":range(2,30,10)}\n",
    "\n",
    "dtr = DecisionTreeRegressor(random_state=21,max_depth=2)\n",
    "abr = AdaBoostRegressor(dtr)\n",
    "\n",
    "from sklearn.model_selection import GridSearchCV\n",
    "cv = GridSearchCV(abr,tg,scoring = \"accuracy\",cv=4)\n",
    "cvmodel = cv.fit(Xnew,Y)\n",
    "cvmodel.best_params_"
   ]
  },
  {
   "cell_type": "code",
   "execution_count": null,
   "id": "934b82ee",
   "metadata": {},
   "outputs": [],
   "source": [
    "from sklearn.ensemble import AdaBoostRegressor\n",
    "from sklearn.tree import DecisionTreeRegressor\n",
    "\n",
    "dtr = DecisionTreeRegressor(random_state=21,max_depth=2)\n",
    "abr = AdaBoostRegressor(dtr,n_estimators=2)\n",
    "\n",
    "model = abr.fit(xtrain,ytrain)\n",
    "tr_pred = model.predict(xtrain)\n",
    "ts_pred = model.predict(xtest)\n",
    "from sklearn.metrics import accuracy_score\n",
    "tr_acc = mean_absolute_error(ytrain,tr_pred)\n",
    "ts_acc  = mean_absolute_error(ytest,ts_pred)\n",
    "\n",
    "tr_acc,ts_acc"
   ]
  },
  {
   "cell_type": "markdown",
   "id": "9de3b25f",
   "metadata": {},
   "source": [
    "# Predicting loan amount for the customers "
   ]
  },
  {
   "cell_type": "markdown",
   "id": "3d6a3abc",
   "metadata": {},
   "source": [
    "# KNN is best "
   ]
  },
  {
   "cell_type": "code",
   "execution_count": null,
   "id": "b1c6377e",
   "metadata": {},
   "outputs": [],
   "source": [
    "model = knr.fit(Xnew2,Y)"
   ]
  },
  {
   "cell_type": "code",
   "execution_count": null,
   "id": "ab06fe1e",
   "metadata": {},
   "outputs": [],
   "source": [
    "Xnew2.columns"
   ]
  },
  {
   "cell_type": "code",
   "execution_count": null,
   "id": "633bfb90",
   "metadata": {},
   "outputs": [],
   "source": []
  },
  {
   "cell_type": "code",
   "execution_count": null,
   "id": "07260561",
   "metadata": {},
   "outputs": [],
   "source": [
    "N_Cust[\"Loan_amount\"]=model.predict(Xnewb2)"
   ]
  },
  {
   "cell_type": "code",
   "execution_count": null,
   "id": "016c8777",
   "metadata": {},
   "outputs": [],
   "source": [
    "N_Cust"
   ]
  },
  {
   "cell_type": "code",
   "execution_count": null,
   "id": "fc322771",
   "metadata": {},
   "outputs": [],
   "source": [
    "N_Cust.to_csv(\"C:/Users/Suja4/OneDrive/Documents/Data Science/Dataset/submission_loan_2.csv\")"
   ]
  },
  {
   "cell_type": "markdown",
   "id": "37b50291",
   "metadata": {},
   "source": [
    "# b.)if duration is less than equal to 20 years,"
   ]
  },
  {
   "cell_type": "markdown",
   "id": "260d2c3c",
   "metadata": {},
   "source": [
    "# is customer eligible for required amount for some longer duration? What is that duration?(Regression)"
   ]
  },
  {
   "cell_type": "raw",
   "id": "84c45c6f",
   "metadata": {},
   "source": [
    "1.create a regression model from old data to predict duration .\n",
    "2.choose all the Loan status with \"N \" and duration <20 years from predicted data \n",
    "3.predict the loan duration for chosen customers "
   ]
  },
  {
   "cell_type": "code",
   "execution_count": null,
   "id": "a3ff5df8",
   "metadata": {},
   "outputs": [],
   "source": []
  },
  {
   "cell_type": "markdown",
   "id": "585c773d",
   "metadata": {},
   "source": [
    "# Bivariate analysis"
   ]
  },
  {
   "cell_type": "code",
   "execution_count": null,
   "id": "d48fcdd5",
   "metadata": {},
   "outputs": [],
   "source": [
    "Y= A[\"Loan_Amount_Term\"]\n",
    "X=A.drop(labels=[\"Loan_Amount_Term\",\"Loan_Status\",\"Loan_ID\"],axis=1)\n",
    "\n",
    "Xb3=B[((B.Loan_Amount_Term<=240) & (B.Loan_Status ==\"N\"))]\n",
    "\n",
    "\n"
   ]
  },
  {
   "cell_type": "code",
   "execution_count": null,
   "id": "cb291163",
   "metadata": {},
   "outputs": [],
   "source": [
    "Xb3.shape"
   ]
  },
  {
   "cell_type": "code",
   "execution_count": null,
   "id": "4be705f9",
   "metadata": {},
   "outputs": [],
   "source": [
    "Xb3.index=range(0,7)"
   ]
  },
  {
   "cell_type": "code",
   "execution_count": null,
   "id": "94a2ad62",
   "metadata": {},
   "outputs": [],
   "source": [
    "D_cust=Xb3"
   ]
  },
  {
   "cell_type": "code",
   "execution_count": null,
   "id": "b090c380",
   "metadata": {},
   "outputs": [],
   "source": [
    "Xb3=Xb3.drop(labels=[\"Loan_Amount_Term\",\"Loan_ID\",\"Loan_Status\"],axis=1)\n"
   ]
  },
  {
   "cell_type": "code",
   "execution_count": null,
   "id": "1f847b66",
   "metadata": {},
   "outputs": [],
   "source": [
    "imp_cols"
   ]
  },
  {
   "cell_type": "code",
   "execution_count": null,
   "id": "8597b1f6",
   "metadata": {},
   "outputs": [],
   "source": [
    "from Wd8pm import preprocessing\n",
    "Xnew3 =preprocessing(X)\n",
    "Xnewb3=preprocessing(Xb3)"
   ]
  },
  {
   "cell_type": "code",
   "execution_count": null,
   "id": "6331257a",
   "metadata": {},
   "outputs": [],
   "source": [
    "from sklearn.model_selection import train_test_split\n",
    "xtrain,xtest,ytrain,ytest =train_test_split(Xnew3,Y,test_size=0.2,random_state=21)\n"
   ]
  },
  {
   "cell_type": "markdown",
   "id": "f1382ee4",
   "metadata": {},
   "source": [
    "# Linear Regression"
   ]
  },
  {
   "cell_type": "markdown",
   "id": "ad1dce3a",
   "metadata": {},
   "source": [
    "Forward propagation"
   ]
  },
  {
   "cell_type": "markdown",
   "id": "4c0e7348",
   "metadata": {},
   "source": [
    "# KNN regression"
   ]
  },
  {
   "cell_type": "code",
   "execution_count": null,
   "id": "67819da3",
   "metadata": {},
   "outputs": [],
   "source": [
    "from sklearn.neighbors import KNeighborsRegressor\n",
    "knr= KNeighborsRegressor(n_neighbors=2)\n",
    "\n",
    "model =knr.fit(xtrain,ytrain)\n",
    "tr_pred= model.predict(xtrain)\n",
    "ts_pred =model.predict(xtest)\n",
    "from sklearn.metrics import mean_absolute_error\n",
    "tr_err= mean_absolute_error(ytrain,tr_pred)\n",
    "ts_err= mean_absolute_error(ytest,ts_pred)\n",
    "tr_err,ts_err\n"
   ]
  },
  {
   "cell_type": "code",
   "execution_count": null,
   "id": "37a4f337",
   "metadata": {},
   "outputs": [],
   "source": [
    "tg = {\"n_neighbors\":range(2,10,1)}\n",
    "knr = KNeighborsRegressor()\n",
    "\n",
    "from sklearn.model_selection import GridSearchCV\n",
    "cv = GridSearchCV(knr,tg,scoring = \"neg_mean_absolute_error\",cv=4)\n",
    "cvmodel = cv.fit(Xnew,Y)\n",
    "cvmodel.best_params_"
   ]
  },
  {
   "cell_type": "code",
   "execution_count": null,
   "id": "248f9978",
   "metadata": {},
   "outputs": [],
   "source": [
    "from sklearn.neighbors import KNeighborsRegressor\n",
    "knr= KNeighborsRegressor(n_neighbors=2)\n",
    "\n",
    "model =knr.fit(xtrain,ytrain)\n",
    "tr_pred= model.predict(xtrain)\n",
    "ts_pred =model.predict(xtest)\n",
    "from sklearn.metrics import mean_absolute_error\n",
    "tr_err= mean_absolute_error(ytrain,tr_pred)\n",
    "ts_err= mean_absolute_error(ytest,ts_pred)\n",
    "tr_err,ts_err"
   ]
  },
  {
   "cell_type": "markdown",
   "id": "167160fe",
   "metadata": {},
   "source": [
    "# DecisionTreeRegressor"
   ]
  },
  {
   "cell_type": "code",
   "execution_count": null,
   "id": "85306758",
   "metadata": {},
   "outputs": [],
   "source": [
    "\n",
    "from sklearn.tree import DecisionTreeRegressor\n",
    "dtr = DecisionTreeRegressor(random_state=21)\n",
    "model = dtr.fit(xtrain,ytrain)\n",
    "tr_pred = model.predict(xtrain)\n",
    "ts_pred = model.predict(xtest)\n",
    "from sklearn.metrics import mean_absolute_error\n",
    "tr_err = mean_absolute_error(ytrain,tr_pred)\n",
    "ts_err  = mean_absolute_error(ytest,ts_pred)\n",
    "\n",
    "tr_err,ts_err"
   ]
  },
  {
   "cell_type": "markdown",
   "id": "e086d4be",
   "metadata": {},
   "source": [
    "# Pruning"
   ]
  },
  {
   "cell_type": "code",
   "execution_count": null,
   "id": "3d1dc627",
   "metadata": {},
   "outputs": [],
   "source": [
    "tg = {\"max_depth\":range(2,20,1)}\n",
    "dtr = DecisionTreeRegressor(random_state=21)\n",
    "\n",
    "from sklearn.model_selection import GridSearchCV\n",
    "cv = GridSearchCV(dtr,tg,scoring = \"neg_mean_absolute_error\",cv=4)\n",
    "cvmodel = cv.fit(Xnew,Y)\n",
    "cvmodel.best_params_"
   ]
  },
  {
   "cell_type": "code",
   "execution_count": null,
   "id": "18165252",
   "metadata": {},
   "outputs": [],
   "source": [
    "tg = {\"min_samples_leaf\":range(2,20,1)}\n",
    "dtr = DecisionTreeRegressor(random_state=21)\n",
    "\n",
    "from sklearn.model_selection import GridSearchCV\n",
    "cv = GridSearchCV(dtr,tg,scoring = \"neg_mean_absolute_error\",cv=4)\n",
    "cvmodel = cv.fit(Xnew,Y)\n",
    "cvmodel.best_params_"
   ]
  },
  {
   "cell_type": "code",
   "execution_count": null,
   "id": "48c6b4e7",
   "metadata": {},
   "outputs": [],
   "source": [
    "tg = {\"min_samples_split\":range(2,20,1)}\n",
    "dtr = DecisionTreeRegressor(random_state=21)\n",
    "\n",
    "from sklearn.model_selection import GridSearchCV\n",
    "cv = GridSearchCV(dtr,tg,scoring = \"neg_mean_absolute_error\",cv=4)\n",
    "cvmodel = cv.fit(Xnew,Y)\n",
    "cvmodel.best_params_"
   ]
  },
  {
   "cell_type": "code",
   "execution_count": null,
   "id": "9b9b71fa",
   "metadata": {},
   "outputs": [],
   "source": [
    "dtr = DecisionTreeRegressor(min_samples_split=2)\n",
    "model1 = dtr.fit(xtrain,ytrain)\n",
    "tr_pred = model1.predict(xtrain)\n",
    "ts_pred = model1.predict(xtest)\n",
    "from sklearn.metrics import mean_absolute_error\n",
    "tr_err = mean_absolute_error(ytrain,tr_pred)\n",
    "ts_err  = mean_absolute_error(ytest,ts_pred)\n",
    "tr_err,ts_err"
   ]
  },
  {
   "cell_type": "code",
   "execution_count": null,
   "id": "e31b9167",
   "metadata": {},
   "outputs": [],
   "source": [
    "dtr = DecisionTreeRegressor(min_samples_leaf=2)\n",
    "model1 = dtr.fit(xtrain,ytrain)\n",
    "tr_pred = model1.predict(xtrain)\n",
    "ts_pred = model1.predict(xtest)\n",
    "from sklearn.metrics import mean_absolute_error\n",
    "tr_err = mean_absolute_error(ytrain,tr_pred)\n",
    "ts_err  = mean_absolute_error(ytest,ts_pred)\n",
    "tr_err,ts_err"
   ]
  },
  {
   "cell_type": "code",
   "execution_count": null,
   "id": "3aa87a3f",
   "metadata": {},
   "outputs": [],
   "source": [
    "dtr = DecisionTreeRegressor(max_depth=2)\n",
    "model1 = dtr.fit(xtrain,ytrain)\n",
    "tr_pred = model1.predict(xtrain)\n",
    "ts_pred = model1.predict(xtest)\n",
    "from sklearn.metrics import mean_absolute_error\n",
    "tr_err = mean_absolute_error(ytrain,tr_pred)\n",
    "ts_err  = mean_absolute_error(ytest,ts_pred)\n",
    "tr_err,ts_err"
   ]
  },
  {
   "cell_type": "markdown",
   "id": "2e34cd58",
   "metadata": {},
   "source": [
    "# RandomForest"
   ]
  },
  {
   "cell_type": "code",
   "execution_count": null,
   "id": "7eab5705",
   "metadata": {},
   "outputs": [],
   "source": [
    "from sklearn.ensemble import RandomForestRegressor\n",
    "rfr = RandomForestRegressor(random_state=21)\n",
    "model = rfr.fit(xtrain,ytrain)\n",
    "tr_pred = model.predict(xtrain)\n",
    "ts_pred = model.predict(xtest)\n",
    "from sklearn.metrics import mean_absolute_error\n",
    "tr_acc = mean_absolute_error(ytrain,tr_pred)\n",
    "ts_acc  = mean_absolute_error(ytest,ts_pred)\n",
    "\n",
    "tr_acc,ts_acc"
   ]
  },
  {
   "cell_type": "raw",
   "id": "33c0407e",
   "metadata": {},
   "source": [
    "tg = {\"max_depth\":range(2,20,1),\"n_estimators\":range(2,200,10)}\n",
    "rfc = RandomForestRegressor(random_state=21)\n",
    "from sklearn.model_selection import GridSearchCV\n",
    "cv = GridSearchCV(rfc,tg,scoring = \"neg_mean_absolute_error\",cv=4)\n",
    "cvmodel = cv.fit(Xnew,Y)\n",
    "cvmodel.best_params_"
   ]
  },
  {
   "cell_type": "code",
   "execution_count": null,
   "id": "a12fa4df",
   "metadata": {},
   "outputs": [],
   "source": [
    "rfr = RandomForestRegressor(random_state=21,max_depth=3,n_estimators=12)\n",
    "model = rfr.fit(xtrain,ytrain)\n",
    "tr_pred = model.predict(xtrain)\n",
    "ts_pred = model.predict(xtest)\n",
    "from sklearn.metrics import mean_absolute_error\n",
    "tr_acc = mean_absolute_error(ytrain,tr_pred)\n",
    "ts_acc  = mean_absolute_error(ytest,ts_pred)\n",
    "\n",
    "tr_acc,ts_acc"
   ]
  },
  {
   "cell_type": "markdown",
   "id": "feb76be3",
   "metadata": {},
   "source": [
    "# Adaboost"
   ]
  },
  {
   "cell_type": "code",
   "execution_count": null,
   "id": "f67feefa",
   "metadata": {},
   "outputs": [],
   "source": [
    "from sklearn.ensemble import AdaBoostRegressor\n",
    "from sklearn.tree import DecisionTreeRegressor\n",
    "abr = AdaBoostRegressor(DecisionTreeRegressor(random_state=21,max_depth=2),n_estimators=40)\n",
    "model = abr.fit(xtrain,ytrain)\n",
    "tr_pred = model.predict(xtrain)\n",
    "ts_pred = model.predict(xtest)\n",
    "from sklearn.metrics import mean_absolute_error\n",
    "tr_err = mean_absolute_error(ytrain,tr_pred)\n",
    "ts_err  = mean_absolute_error(ytest,ts_pred)\n",
    "tr_err,ts_err"
   ]
  },
  {
   "cell_type": "raw",
   "id": "38148d75",
   "metadata": {},
   "source": [
    "tg = {\"n_estimators\":range(2,30,10)}\n",
    "\n",
    "dtr = DecisionTreeRegressor(random_state=21,max_depth=2)\n",
    "abr = AdaBoostRegressor(dtr)\n",
    "\n",
    "from sklearn.model_selection import GridSearchCV\n",
    "cv = GridSearchCV(abr,tg,scoring = \"accuracy\",cv=4)\n",
    "cvmodel = cv.fit(Xnew,Y)\n",
    "cvmodel.best_params_"
   ]
  },
  {
   "cell_type": "code",
   "execution_count": null,
   "id": "e47f1dde",
   "metadata": {},
   "outputs": [],
   "source": [
    "from sklearn.ensemble import AdaBoostRegressor\n",
    "from sklearn.tree import DecisionTreeRegressor\n",
    "abr = AdaBoostRegressor(DecisionTreeRegressor(random_state=21,max_depth=2),n_estimators=2)\n",
    "model = abr.fit(xtrain,ytrain)\n",
    "tr_pred = model.predict(xtrain)\n",
    "ts_pred = model.predict(xtest)\n",
    "from sklearn.metrics import mean_absolute_error\n",
    "tr_err = mean_absolute_error(ytrain,tr_pred)\n",
    "ts_err  = mean_absolute_error(ytest,ts_pred)\n",
    "tr_err,ts_err"
   ]
  },
  {
   "cell_type": "markdown",
   "id": "49951705",
   "metadata": {},
   "source": [
    "# Predict duration for customers "
   ]
  },
  {
   "cell_type": "markdown",
   "id": "0ad8e8f8",
   "metadata": {},
   "source": [
    "# Linear Regression is best"
   ]
  },
  {
   "cell_type": "code",
   "execution_count": null,
   "id": "c897adcf",
   "metadata": {},
   "outputs": [],
   "source": [
    "\n",
    "model =abr.fit(Xnew3,Y)\n"
   ]
  },
  {
   "cell_type": "code",
   "execution_count": null,
   "id": "69ee110e",
   "metadata": {},
   "outputs": [],
   "source": [
    "len(Xnew3.columns),len(Xnewb3.columns)"
   ]
  },
  {
   "cell_type": "code",
   "execution_count": null,
   "id": "2dc9cef4",
   "metadata": {},
   "outputs": [],
   "source": [
    "Xnew3.columns"
   ]
  },
  {
   "cell_type": "code",
   "execution_count": null,
   "id": "dacbb109",
   "metadata": {},
   "outputs": [],
   "source": [
    "Xnewb3.columns"
   ]
  },
  {
   "cell_type": "code",
   "execution_count": null,
   "id": "193ccfb6",
   "metadata": {},
   "outputs": [],
   "source": [
    "Xnewb3[\"Self_Employed_Yes\"]=0\n",
    "Xnewb3[\"Gender_Female\"]=0\n",
    "Xnewb3[\"Dependents_1\"]=0\n"
   ]
  },
  {
   "cell_type": "code",
   "execution_count": null,
   "id": "bac0af38",
   "metadata": {},
   "outputs": [],
   "source": [
    "D_cust[\"Loan_Amount_Term \"]=model.predict(Xnewb3)"
   ]
  },
  {
   "cell_type": "code",
   "execution_count": null,
   "id": "b77c2972",
   "metadata": {},
   "outputs": [],
   "source": [
    "D_cust"
   ]
  },
  {
   "cell_type": "code",
   "execution_count": null,
   "id": "337ca83c",
   "metadata": {},
   "outputs": [],
   "source": [
    "D_cust.to_csv(\"C:/Users/Suja4/OneDrive/Documents/Data Science/Dataset/submission_loan_3.csv\")"
   ]
  },
  {
   "cell_type": "code",
   "execution_count": null,
   "id": "b0e75295",
   "metadata": {},
   "outputs": [],
   "source": []
  },
  {
   "cell_type": "code",
   "execution_count": null,
   "id": "d018590c",
   "metadata": {},
   "outputs": [],
   "source": []
  }
 ],
 "metadata": {
  "kernelspec": {
   "display_name": "Python 3 (ipykernel)",
   "language": "python",
   "name": "python3"
  },
  "language_info": {
   "codemirror_mode": {
    "name": "ipython",
    "version": 3
   },
   "file_extension": ".py",
   "mimetype": "text/x-python",
   "name": "python",
   "nbconvert_exporter": "python",
   "pygments_lexer": "ipython3",
   "version": "3.9.15"
  }
 },
 "nbformat": 4,
 "nbformat_minor": 5
}
