{
 "cells": [
  {
   "cell_type": "markdown",
   "id": "770dcc7d",
   "metadata": {},
   "source": [
    "# b.)if duration is less than equal to 20 years,\n",
    "is customer eligible for required amount for some longer duration? What is that duration?(Regression)"
   ]
  },
  {
   "cell_type": "code",
   "execution_count": 1,
   "id": "1118048e",
   "metadata": {},
   "outputs": [],
   "source": [
    "import pandas as pd"
   ]
  },
  {
   "cell_type": "code",
   "execution_count": 2,
   "id": "e8887a5b",
   "metadata": {},
   "outputs": [],
   "source": [
    "import pandas as pd\n",
    "A=pd.read_csv(\"C:/Users/Suja4/OneDrive/Documents/Data Science/Loan_project/training_set.csv\")\n",
    "B=pd.read_csv(\"C:/Users/Suja4/OneDrive/Documents/Data Science/Dataset/submission_loan_1.csv\")\n",
    "B=B[((B.Loan_Amount_Term<=240) & (B.Loan_Status ==\"N\"))]"
   ]
  },
  {
   "cell_type": "code",
   "execution_count": 3,
   "id": "e3a01e5a",
   "metadata": {},
   "outputs": [
    {
     "data": {
      "text/html": [
       "<div>\n",
       "<style scoped>\n",
       "    .dataframe tbody tr th:only-of-type {\n",
       "        vertical-align: middle;\n",
       "    }\n",
       "\n",
       "    .dataframe tbody tr th {\n",
       "        vertical-align: top;\n",
       "    }\n",
       "\n",
       "    .dataframe thead th {\n",
       "        text-align: right;\n",
       "    }\n",
       "</style>\n",
       "<table border=\"1\" class=\"dataframe\">\n",
       "  <thead>\n",
       "    <tr style=\"text-align: right;\">\n",
       "      <th></th>\n",
       "      <th>Loan_ID</th>\n",
       "      <th>Gender</th>\n",
       "      <th>Married</th>\n",
       "      <th>Dependents</th>\n",
       "      <th>Education</th>\n",
       "      <th>Self_Employed</th>\n",
       "      <th>ApplicantIncome</th>\n",
       "      <th>CoapplicantIncome</th>\n",
       "      <th>LoanAmount</th>\n",
       "      <th>Loan_Amount_Term</th>\n",
       "      <th>Credit_History</th>\n",
       "      <th>Property_Area</th>\n",
       "      <th>Loan_Status</th>\n",
       "    </tr>\n",
       "  </thead>\n",
       "  <tbody>\n",
       "    <tr>\n",
       "      <th>0</th>\n",
       "      <td>LP001002</td>\n",
       "      <td>Male</td>\n",
       "      <td>No</td>\n",
       "      <td>0</td>\n",
       "      <td>Graduate</td>\n",
       "      <td>No</td>\n",
       "      <td>5849.0</td>\n",
       "      <td>0.0</td>\n",
       "      <td>NaN</td>\n",
       "      <td>360.0</td>\n",
       "      <td>1.0</td>\n",
       "      <td>Urban</td>\n",
       "      <td>Y</td>\n",
       "    </tr>\n",
       "    <tr>\n",
       "      <th>1</th>\n",
       "      <td>LP001003</td>\n",
       "      <td>Male</td>\n",
       "      <td>Yes</td>\n",
       "      <td>1</td>\n",
       "      <td>Graduate</td>\n",
       "      <td>No</td>\n",
       "      <td>NaN</td>\n",
       "      <td>1508.0</td>\n",
       "      <td>128.0</td>\n",
       "      <td>360.0</td>\n",
       "      <td>1.0</td>\n",
       "      <td>Rural</td>\n",
       "      <td>N</td>\n",
       "    </tr>\n",
       "    <tr>\n",
       "      <th>2</th>\n",
       "      <td>LP001005</td>\n",
       "      <td>Male</td>\n",
       "      <td>Yes</td>\n",
       "      <td>0</td>\n",
       "      <td>Graduate</td>\n",
       "      <td>Yes</td>\n",
       "      <td>3000.0</td>\n",
       "      <td>0.0</td>\n",
       "      <td>66.0</td>\n",
       "      <td>360.0</td>\n",
       "      <td>1.0</td>\n",
       "      <td>Urban</td>\n",
       "      <td>Y</td>\n",
       "    </tr>\n",
       "    <tr>\n",
       "      <th>3</th>\n",
       "      <td>LP001006</td>\n",
       "      <td>Male</td>\n",
       "      <td>Yes</td>\n",
       "      <td>0</td>\n",
       "      <td>Not Graduate</td>\n",
       "      <td>No</td>\n",
       "      <td>2583.0</td>\n",
       "      <td>2358.0</td>\n",
       "      <td>120.0</td>\n",
       "      <td>360.0</td>\n",
       "      <td>1.0</td>\n",
       "      <td>Urban</td>\n",
       "      <td>Y</td>\n",
       "    </tr>\n",
       "    <tr>\n",
       "      <th>4</th>\n",
       "      <td>LP001008</td>\n",
       "      <td>Male</td>\n",
       "      <td>No</td>\n",
       "      <td>0</td>\n",
       "      <td>Graduate</td>\n",
       "      <td>No</td>\n",
       "      <td>6000.0</td>\n",
       "      <td>0.0</td>\n",
       "      <td>141.0</td>\n",
       "      <td>360.0</td>\n",
       "      <td>1.0</td>\n",
       "      <td>Urban</td>\n",
       "      <td>Y</td>\n",
       "    </tr>\n",
       "    <tr>\n",
       "      <th>...</th>\n",
       "      <td>...</td>\n",
       "      <td>...</td>\n",
       "      <td>...</td>\n",
       "      <td>...</td>\n",
       "      <td>...</td>\n",
       "      <td>...</td>\n",
       "      <td>...</td>\n",
       "      <td>...</td>\n",
       "      <td>...</td>\n",
       "      <td>...</td>\n",
       "      <td>...</td>\n",
       "      <td>...</td>\n",
       "      <td>...</td>\n",
       "    </tr>\n",
       "    <tr>\n",
       "      <th>609</th>\n",
       "      <td>LP002978</td>\n",
       "      <td>Female</td>\n",
       "      <td>No</td>\n",
       "      <td>0</td>\n",
       "      <td>Graduate</td>\n",
       "      <td>No</td>\n",
       "      <td>2900.0</td>\n",
       "      <td>0.0</td>\n",
       "      <td>71.0</td>\n",
       "      <td>360.0</td>\n",
       "      <td>1.0</td>\n",
       "      <td>Rural</td>\n",
       "      <td>Y</td>\n",
       "    </tr>\n",
       "    <tr>\n",
       "      <th>610</th>\n",
       "      <td>LP002979</td>\n",
       "      <td>Male</td>\n",
       "      <td>Yes</td>\n",
       "      <td>3+</td>\n",
       "      <td>Graduate</td>\n",
       "      <td>No</td>\n",
       "      <td>4106.0</td>\n",
       "      <td>0.0</td>\n",
       "      <td>40.0</td>\n",
       "      <td>180.0</td>\n",
       "      <td>1.0</td>\n",
       "      <td>Rural</td>\n",
       "      <td>Y</td>\n",
       "    </tr>\n",
       "    <tr>\n",
       "      <th>611</th>\n",
       "      <td>LP002983</td>\n",
       "      <td>Male</td>\n",
       "      <td>Yes</td>\n",
       "      <td>1</td>\n",
       "      <td>Graduate</td>\n",
       "      <td>No</td>\n",
       "      <td>8072.0</td>\n",
       "      <td>240.0</td>\n",
       "      <td>253.0</td>\n",
       "      <td>360.0</td>\n",
       "      <td>1.0</td>\n",
       "      <td>Urban</td>\n",
       "      <td>Y</td>\n",
       "    </tr>\n",
       "    <tr>\n",
       "      <th>612</th>\n",
       "      <td>LP002984</td>\n",
       "      <td>Male</td>\n",
       "      <td>Yes</td>\n",
       "      <td>2</td>\n",
       "      <td>Graduate</td>\n",
       "      <td>No</td>\n",
       "      <td>7583.0</td>\n",
       "      <td>0.0</td>\n",
       "      <td>187.0</td>\n",
       "      <td>360.0</td>\n",
       "      <td>1.0</td>\n",
       "      <td>Urban</td>\n",
       "      <td>Y</td>\n",
       "    </tr>\n",
       "    <tr>\n",
       "      <th>613</th>\n",
       "      <td>LP002990</td>\n",
       "      <td>Female</td>\n",
       "      <td>No</td>\n",
       "      <td>0</td>\n",
       "      <td>Graduate</td>\n",
       "      <td>Yes</td>\n",
       "      <td>4583.0</td>\n",
       "      <td>0.0</td>\n",
       "      <td>133.0</td>\n",
       "      <td>360.0</td>\n",
       "      <td>0.0</td>\n",
       "      <td>Semiurban</td>\n",
       "      <td>N</td>\n",
       "    </tr>\n",
       "  </tbody>\n",
       "</table>\n",
       "<p>614 rows × 13 columns</p>\n",
       "</div>"
      ],
      "text/plain": [
       "      Loan_ID  Gender Married Dependents     Education Self_Employed  \\\n",
       "0    LP001002    Male      No          0      Graduate            No   \n",
       "1    LP001003    Male     Yes          1      Graduate            No   \n",
       "2    LP001005    Male     Yes          0      Graduate           Yes   \n",
       "3    LP001006    Male     Yes          0  Not Graduate            No   \n",
       "4    LP001008    Male      No          0      Graduate            No   \n",
       "..        ...     ...     ...        ...           ...           ...   \n",
       "609  LP002978  Female      No          0      Graduate            No   \n",
       "610  LP002979    Male     Yes         3+      Graduate            No   \n",
       "611  LP002983    Male     Yes          1      Graduate            No   \n",
       "612  LP002984    Male     Yes          2      Graduate            No   \n",
       "613  LP002990  Female      No          0      Graduate           Yes   \n",
       "\n",
       "     ApplicantIncome  CoapplicantIncome  LoanAmount  Loan_Amount_Term  \\\n",
       "0             5849.0                0.0         NaN             360.0   \n",
       "1                NaN             1508.0       128.0             360.0   \n",
       "2             3000.0                0.0        66.0             360.0   \n",
       "3             2583.0             2358.0       120.0             360.0   \n",
       "4             6000.0                0.0       141.0             360.0   \n",
       "..               ...                ...         ...               ...   \n",
       "609           2900.0                0.0        71.0             360.0   \n",
       "610           4106.0                0.0        40.0             180.0   \n",
       "611           8072.0              240.0       253.0             360.0   \n",
       "612           7583.0                0.0       187.0             360.0   \n",
       "613           4583.0                0.0       133.0             360.0   \n",
       "\n",
       "     Credit_History Property_Area Loan_Status  \n",
       "0               1.0         Urban           Y  \n",
       "1               1.0         Rural           N  \n",
       "2               1.0         Urban           Y  \n",
       "3               1.0         Urban           Y  \n",
       "4               1.0         Urban           Y  \n",
       "..              ...           ...         ...  \n",
       "609             1.0         Rural           Y  \n",
       "610             1.0         Rural           Y  \n",
       "611             1.0         Urban           Y  \n",
       "612             1.0         Urban           Y  \n",
       "613             0.0     Semiurban           N  \n",
       "\n",
       "[614 rows x 13 columns]"
      ]
     },
     "execution_count": 3,
     "metadata": {},
     "output_type": "execute_result"
    }
   ],
   "source": [
    "A"
   ]
  },
  {
   "cell_type": "markdown",
   "id": "a123e699",
   "metadata": {},
   "source": [
    "# missing data treatment"
   ]
  },
  {
   "cell_type": "code",
   "execution_count": 4,
   "id": "ebd5a573",
   "metadata": {},
   "outputs": [
    {
     "data": {
      "text/plain": [
       "Loan_ID               0\n",
       "Gender               15\n",
       "Married               3\n",
       "Dependents           15\n",
       "Education             1\n",
       "Self_Employed        32\n",
       "ApplicantIncome       2\n",
       "CoapplicantIncome     1\n",
       "LoanAmount           22\n",
       "Loan_Amount_Term     14\n",
       "Credit_History       50\n",
       "Property_Area         0\n",
       "Loan_Status           0\n",
       "dtype: int64"
      ]
     },
     "execution_count": 4,
     "metadata": {},
     "output_type": "execute_result"
    }
   ],
   "source": [
    "A.isna().sum()"
   ]
  },
  {
   "cell_type": "code",
   "execution_count": 5,
   "id": "3501ef9e",
   "metadata": {},
   "outputs": [],
   "source": [
    "from Wd8pm import replacer\n",
    "    "
   ]
  },
  {
   "cell_type": "code",
   "execution_count": 6,
   "id": "53410395",
   "metadata": {},
   "outputs": [],
   "source": [
    "replacer(A)\n",
    "replacer(B)"
   ]
  },
  {
   "cell_type": "code",
   "execution_count": 7,
   "id": "1c973d9c",
   "metadata": {},
   "outputs": [
    {
     "data": {
      "text/plain": [
       "Loan_ID              0\n",
       "Gender               0\n",
       "Married              0\n",
       "Dependents           0\n",
       "Education            0\n",
       "Self_Employed        0\n",
       "ApplicantIncome      0\n",
       "CoapplicantIncome    0\n",
       "LoanAmount           0\n",
       "Loan_Amount_Term     0\n",
       "Credit_History       0\n",
       "Property_Area        0\n",
       "Loan_Status          0\n",
       "dtype: int64"
      ]
     },
     "execution_count": 7,
     "metadata": {},
     "output_type": "execute_result"
    }
   ],
   "source": [
    "A.isna().sum()"
   ]
  },
  {
   "cell_type": "markdown",
   "id": "14ea84cf",
   "metadata": {},
   "source": [
    "# Outliers removal"
   ]
  },
  {
   "cell_type": "code",
   "execution_count": 8,
   "id": "fb03f760",
   "metadata": {
    "scrolled": true
   },
   "outputs": [],
   "source": [
    "from Wd8pm import OL"
   ]
  },
  {
   "cell_type": "code",
   "execution_count": 9,
   "id": "e73a3fdb",
   "metadata": {},
   "outputs": [
    {
     "data": {
      "text/plain": [
       "[9,\n",
       " 14,\n",
       " 68,\n",
       " 94,\n",
       " 126,\n",
       " 130,\n",
       " 133,\n",
       " 155,\n",
       " 171,\n",
       " 177,\n",
       " 183,\n",
       " 185,\n",
       " 242,\n",
       " 262,\n",
       " 278,\n",
       " 308,\n",
       " 313,\n",
       " 333,\n",
       " 369,\n",
       " 402,\n",
       " 409,\n",
       " 417,\n",
       " 432,\n",
       " 443,\n",
       " 487,\n",
       " 495,\n",
       " 497,\n",
       " 506,\n",
       " 523,\n",
       " 525,\n",
       " 546,\n",
       " 561,\n",
       " 575,\n",
       " 581,\n",
       " 585,\n",
       " 600,\n",
       " 604]"
      ]
     },
     "execution_count": 9,
     "metadata": {},
     "output_type": "execute_result"
    }
   ],
   "source": [
    "OL(A)"
   ]
  },
  {
   "cell_type": "code",
   "execution_count": null,
   "id": "e13734ce",
   "metadata": {},
   "outputs": [],
   "source": []
  },
  {
   "cell_type": "code",
   "execution_count": 10,
   "id": "783c4c12",
   "metadata": {},
   "outputs": [],
   "source": [
    "outlier=OL(A)"
   ]
  },
  {
   "cell_type": "code",
   "execution_count": 11,
   "id": "f78f14bc",
   "metadata": {},
   "outputs": [],
   "source": [
    "A=A.drop(index=outlier,axis=0)"
   ]
  },
  {
   "cell_type": "code",
   "execution_count": 12,
   "id": "3795b7e0",
   "metadata": {},
   "outputs": [
    {
     "data": {
      "text/plain": [
       "(577, 13)"
      ]
     },
     "execution_count": 12,
     "metadata": {},
     "output_type": "execute_result"
    }
   ],
   "source": [
    "A.shape"
   ]
  },
  {
   "cell_type": "code",
   "execution_count": 13,
   "id": "663102dc",
   "metadata": {},
   "outputs": [],
   "source": [
    "A.index=range(0,577)"
   ]
  },
  {
   "cell_type": "code",
   "execution_count": 14,
   "id": "47036eaa",
   "metadata": {},
   "outputs": [
    {
     "data": {
      "text/plain": [
       "(34, 14)"
      ]
     },
     "execution_count": 14,
     "metadata": {},
     "output_type": "execute_result"
    }
   ],
   "source": [
    "B.shape"
   ]
  },
  {
   "cell_type": "code",
   "execution_count": 15,
   "id": "09ed76a3",
   "metadata": {},
   "outputs": [],
   "source": [
    "B.index=range(0,34)"
   ]
  },
  {
   "cell_type": "markdown",
   "id": "983647d6",
   "metadata": {},
   "source": [
    "# Define X and Y"
   ]
  },
  {
   "cell_type": "code",
   "execution_count": 16,
   "id": "cdb405ee",
   "metadata": {},
   "outputs": [],
   "source": [
    "Y = A[[\"Loan_Amount_Term\"]]\n",
    "X=A.drop(labels=[\"Loan_Amount_Term\",\"Loan_Status\",\"Loan_ID\"],axis=1)\n",
    "\n"
   ]
  },
  {
   "cell_type": "markdown",
   "id": "b64c2196",
   "metadata": {},
   "source": [
    "# check correlation"
   ]
  },
  {
   "cell_type": "code",
   "execution_count": 17,
   "id": "a7f13feb",
   "metadata": {},
   "outputs": [
    {
     "data": {
      "text/plain": [
       "CoapplicantIncome   -0.060402\n",
       "ApplicantIncome     -0.050422\n",
       "Credit_History       0.030430\n",
       "LoanAmount           0.040302\n",
       "Loan_Amount_Term     1.000000\n",
       "Name: Loan_Amount_Term, dtype: float64"
      ]
     },
     "execution_count": 17,
     "metadata": {},
     "output_type": "execute_result"
    }
   ],
   "source": [
    "Q=A.corr()[\"Loan_Amount_Term\"]\n",
    "Q.sort_values()\n"
   ]
  },
  {
   "cell_type": "code",
   "execution_count": 18,
   "id": "7be0fb84",
   "metadata": {},
   "outputs": [
    {
     "data": {
      "text/plain": [
       "Index([], dtype='object')"
      ]
     },
     "execution_count": 18,
     "metadata": {},
     "output_type": "execute_result"
    }
   ],
   "source": [
    "Q=Q[Q!=1]\n",
    "Q=Q[(Q<-0.4) |(Q>0.4)]\n",
    "Q.index"
   ]
  },
  {
   "cell_type": "markdown",
   "id": "c336a311",
   "metadata": {},
   "source": [
    "# anova and chisquare"
   ]
  },
  {
   "cell_type": "code",
   "execution_count": 19,
   "id": "3e46c853",
   "metadata": {},
   "outputs": [
    {
     "name": "stdout",
     "output_type": "stream",
     "text": [
      "Loan_Amount_Term ~ Gender ----> 0.19777\n",
      "Loan_Amount_Term ~ Married ----> 0.08065\n",
      "Loan_Amount_Term ~ Dependents ----> 0.24735\n",
      "Loan_Amount_Term ~ Education ----> 0.04919\n",
      "Loan_Amount_Term ~ Self_Employed ----> 0.51011\n",
      "Loan_Amount_Term ~ ApplicantIncome ----> 0.22654\n",
      "Loan_Amount_Term ~ CoapplicantIncome ----> 0.14731\n",
      "Loan_Amount_Term ~ LoanAmount ----> 0.33386\n",
      "Loan_Amount_Term ~ Credit_History ----> 0.46568\n",
      "Loan_Amount_Term ~ Property_Area ----> 0.13201\n"
     ]
    }
   ],
   "source": [
    "imp_cols = []\n",
    "from Wd8pm import ANOVA,chisq\n",
    "for i in X.columns:\n",
    "    if(X[i].dtypes == \"object\"):\n",
    "        pval = chisq(A,\"Loan_Amount_Term\",i)\n",
    "        print(\"Loan_Amount_Term ~\",i,\"---->\",pval)\n",
    "        if(pval<0.7):\n",
    "            imp_cols.append(i)\n",
    "    else:\n",
    "        pval = ANOVA(A,\"Loan_Amount_Term\",i)\n",
    "        print(\"Loan_Amount_Term ~\",i,\"---->\",pval)\n",
    "        if(pval<0.7):\n",
    "            imp_cols.append(i)"
   ]
  },
  {
   "cell_type": "code",
   "execution_count": 20,
   "id": "500ac079",
   "metadata": {},
   "outputs": [
    {
     "data": {
      "text/plain": [
       "['Gender',\n",
       " 'Married',\n",
       " 'Dependents',\n",
       " 'Education',\n",
       " 'Self_Employed',\n",
       " 'ApplicantIncome',\n",
       " 'CoapplicantIncome',\n",
       " 'LoanAmount',\n",
       " 'Credit_History',\n",
       " 'Property_Area']"
      ]
     },
     "execution_count": 20,
     "metadata": {},
     "output_type": "execute_result"
    }
   ],
   "source": [
    "imp_cols"
   ]
  },
  {
   "cell_type": "markdown",
   "id": "926ef4b7",
   "metadata": {},
   "source": [
    "# final predictors"
   ]
  },
  {
   "cell_type": "code",
   "execution_count": 21,
   "id": "bade6761",
   "metadata": {},
   "outputs": [],
   "source": [
    "Y = A[[\"Loan_Amount_Term\"]]\n",
    "X = A[imp_cols]\n",
    "Xb=B[imp_cols]"
   ]
  },
  {
   "cell_type": "code",
   "execution_count": 22,
   "id": "1efd87ac",
   "metadata": {},
   "outputs": [],
   "source": [
    "con = []\n",
    "cat = []\n",
    "for i in X.columns:\n",
    "    if(X[i].dtypes == \"object\"):\n",
    "        cat.append(i)\n",
    "    else:\n",
    "        con.append(i)\n",
    "        "
   ]
  },
  {
   "cell_type": "code",
   "execution_count": 23,
   "id": "0722334b",
   "metadata": {},
   "outputs": [],
   "source": [
    "X1 = pd.get_dummies(X[cat])\n",
    "from sklearn.preprocessing import StandardScaler\n",
    "ss = StandardScaler()\n",
    "X2 = pd.DataFrame(ss.fit_transform(X[con]),columns=con)\n",
    "Xnew = X2.join(X1)"
   ]
  },
  {
   "cell_type": "code",
   "execution_count": 24,
   "id": "cc1be0f5",
   "metadata": {},
   "outputs": [
    {
     "data": {
      "text/html": [
       "<table class=\"simpletable\">\n",
       "<caption>OLS Regression Results</caption>\n",
       "<tr>\n",
       "  <th>Dep. Variable:</th>    <td>Loan_Amount_Term</td> <th>  R-squared:         </th> <td>   0.073</td>\n",
       "</tr>\n",
       "<tr>\n",
       "  <th>Model:</th>                   <td>OLS</td>       <th>  Adj. R-squared:    </th> <td>   0.046</td>\n",
       "</tr>\n",
       "<tr>\n",
       "  <th>Method:</th>             <td>Least Squares</td>  <th>  F-statistic:       </th> <td>   2.705</td>\n",
       "</tr>\n",
       "<tr>\n",
       "  <th>Date:</th>             <td>Fri, 06 Jan 2023</td> <th>  Prob (F-statistic):</th>  <td>0.00110</td>\n",
       "</tr>\n",
       "<tr>\n",
       "  <th>Time:</th>                 <td>18:10:12</td>     <th>  Log-Likelihood:    </th> <td> -2462.9</td>\n",
       "</tr>\n",
       "<tr>\n",
       "  <th>No. Observations:</th>      <td>   461</td>      <th>  AIC:               </th> <td>   4954.</td>\n",
       "</tr>\n",
       "<tr>\n",
       "  <th>Df Residuals:</th>          <td>   447</td>      <th>  BIC:               </th> <td>   5012.</td>\n",
       "</tr>\n",
       "<tr>\n",
       "  <th>Df Model:</th>              <td>    13</td>      <th>                     </th>     <td> </td>   \n",
       "</tr>\n",
       "<tr>\n",
       "  <th>Covariance Type:</th>      <td>nonrobust</td>    <th>                     </th>     <td> </td>   \n",
       "</tr>\n",
       "</table>\n",
       "<table class=\"simpletable\">\n",
       "<tr>\n",
       "             <td></td>                <th>coef</th>     <th>std err</th>      <th>t</th>      <th>P>|t|</th>  <th>[0.025</th>    <th>0.975]</th>  \n",
       "</tr>\n",
       "<tr>\n",
       "  <th>const</th>                   <td>   95.8261</td> <td>    1.378</td> <td>   69.525</td> <td> 0.000</td> <td>   93.117</td> <td>   98.535</td>\n",
       "</tr>\n",
       "<tr>\n",
       "  <th>ApplicantIncome</th>         <td>   -7.8020</td> <td>    3.102</td> <td>   -2.515</td> <td> 0.012</td> <td>  -13.898</td> <td>   -1.706</td>\n",
       "</tr>\n",
       "<tr>\n",
       "  <th>CoapplicantIncome</th>       <td>   -6.7295</td> <td>    2.865</td> <td>   -2.349</td> <td> 0.019</td> <td>  -12.359</td> <td>   -1.100</td>\n",
       "</tr>\n",
       "<tr>\n",
       "  <th>LoanAmount</th>              <td>    8.3324</td> <td>    3.025</td> <td>    2.755</td> <td> 0.006</td> <td>    2.388</td> <td>   14.277</td>\n",
       "</tr>\n",
       "<tr>\n",
       "  <th>Credit_History</th>          <td>    2.1050</td> <td>    2.512</td> <td>    0.838</td> <td> 0.402</td> <td>   -2.831</td> <td>    7.041</td>\n",
       "</tr>\n",
       "<tr>\n",
       "  <th>Gender_Female</th>           <td>   52.8037</td> <td>    3.799</td> <td>   13.898</td> <td> 0.000</td> <td>   45.337</td> <td>   60.271</td>\n",
       "</tr>\n",
       "<tr>\n",
       "  <th>Gender_Male</th>             <td>   43.0224</td> <td>    3.217</td> <td>   13.372</td> <td> 0.000</td> <td>   36.700</td> <td>   49.345</td>\n",
       "</tr>\n",
       "<tr>\n",
       "  <th>Married_No</th>              <td>   52.6314</td> <td>    3.104</td> <td>   16.956</td> <td> 0.000</td> <td>   46.531</td> <td>   58.732</td>\n",
       "</tr>\n",
       "<tr>\n",
       "  <th>Married_Yes</th>             <td>   43.1946</td> <td>    2.954</td> <td>   14.622</td> <td> 0.000</td> <td>   37.389</td> <td>   49.000</td>\n",
       "</tr>\n",
       "<tr>\n",
       "  <th>Dependents_0</th>            <td>   27.8264</td> <td>    3.999</td> <td>    6.959</td> <td> 0.000</td> <td>   19.968</td> <td>   35.685</td>\n",
       "</tr>\n",
       "<tr>\n",
       "  <th>Dependents_1</th>            <td>   18.6256</td> <td>    5.245</td> <td>    3.551</td> <td> 0.000</td> <td>    8.317</td> <td>   28.934</td>\n",
       "</tr>\n",
       "<tr>\n",
       "  <th>Dependents_2</th>            <td>   34.7195</td> <td>    5.243</td> <td>    6.621</td> <td> 0.000</td> <td>   24.415</td> <td>   45.024</td>\n",
       "</tr>\n",
       "<tr>\n",
       "  <th>Dependents_3+</th>           <td>   14.6546</td> <td>    7.181</td> <td>    2.041</td> <td> 0.042</td> <td>    0.542</td> <td>   28.767</td>\n",
       "</tr>\n",
       "<tr>\n",
       "  <th>Education_Graduate</th>      <td>   52.8757</td> <td>    2.825</td> <td>   18.718</td> <td> 0.000</td> <td>   47.324</td> <td>   58.427</td>\n",
       "</tr>\n",
       "<tr>\n",
       "  <th>Education_Not Graduate</th>  <td>   42.9504</td> <td>    3.169</td> <td>   13.552</td> <td> 0.000</td> <td>   36.722</td> <td>   49.179</td>\n",
       "</tr>\n",
       "<tr>\n",
       "  <th>Self_Employed_No</th>        <td>   50.3695</td> <td>    3.352</td> <td>   15.029</td> <td> 0.000</td> <td>   43.783</td> <td>   56.956</td>\n",
       "</tr>\n",
       "<tr>\n",
       "  <th>Self_Employed_Yes</th>       <td>   45.4566</td> <td>    4.040</td> <td>   11.253</td> <td> 0.000</td> <td>   37.518</td> <td>   53.395</td>\n",
       "</tr>\n",
       "<tr>\n",
       "  <th>Property_Area_Rural</th>     <td>   36.6580</td> <td>    3.580</td> <td>   10.240</td> <td> 0.000</td> <td>   29.622</td> <td>   43.694</td>\n",
       "</tr>\n",
       "<tr>\n",
       "  <th>Property_Area_Semiurban</th> <td>   34.6149</td> <td>    3.346</td> <td>   10.345</td> <td> 0.000</td> <td>   28.039</td> <td>   41.191</td>\n",
       "</tr>\n",
       "<tr>\n",
       "  <th>Property_Area_Urban</th>     <td>   24.5531</td> <td>    3.515</td> <td>    6.985</td> <td> 0.000</td> <td>   17.645</td> <td>   31.462</td>\n",
       "</tr>\n",
       "</table>\n",
       "<table class=\"simpletable\">\n",
       "<tr>\n",
       "  <th>Omnibus:</th>       <td>187.954</td> <th>  Durbin-Watson:     </th> <td>   2.017</td> \n",
       "</tr>\n",
       "<tr>\n",
       "  <th>Prob(Omnibus):</th> <td> 0.000</td>  <th>  Jarque-Bera (JB):  </th> <td> 718.513</td> \n",
       "</tr>\n",
       "<tr>\n",
       "  <th>Skew:</th>          <td>-1.852</td>  <th>  Prob(JB):          </th> <td>9.48e-157</td>\n",
       "</tr>\n",
       "<tr>\n",
       "  <th>Kurtosis:</th>      <td> 7.867</td>  <th>  Cond. No.          </th> <td>4.97e+16</td> \n",
       "</tr>\n",
       "</table><br/><br/>Notes:<br/>[1] Standard Errors assume that the covariance matrix of the errors is correctly specified.<br/>[2] The smallest eigenvalue is 8.32e-31. This might indicate that there are<br/>strong multicollinearity problems or that the design matrix is singular."
      ],
      "text/plain": [
       "<class 'statsmodels.iolib.summary.Summary'>\n",
       "\"\"\"\n",
       "                            OLS Regression Results                            \n",
       "==============================================================================\n",
       "Dep. Variable:       Loan_Amount_Term   R-squared:                       0.073\n",
       "Model:                            OLS   Adj. R-squared:                  0.046\n",
       "Method:                 Least Squares   F-statistic:                     2.705\n",
       "Date:                Fri, 06 Jan 2023   Prob (F-statistic):            0.00110\n",
       "Time:                        18:10:12   Log-Likelihood:                -2462.9\n",
       "No. Observations:                 461   AIC:                             4954.\n",
       "Df Residuals:                     447   BIC:                             5012.\n",
       "Df Model:                          13                                         \n",
       "Covariance Type:            nonrobust                                         \n",
       "===========================================================================================\n",
       "                              coef    std err          t      P>|t|      [0.025      0.975]\n",
       "-------------------------------------------------------------------------------------------\n",
       "const                      95.8261      1.378     69.525      0.000      93.117      98.535\n",
       "ApplicantIncome            -7.8020      3.102     -2.515      0.012     -13.898      -1.706\n",
       "CoapplicantIncome          -6.7295      2.865     -2.349      0.019     -12.359      -1.100\n",
       "LoanAmount                  8.3324      3.025      2.755      0.006       2.388      14.277\n",
       "Credit_History              2.1050      2.512      0.838      0.402      -2.831       7.041\n",
       "Gender_Female              52.8037      3.799     13.898      0.000      45.337      60.271\n",
       "Gender_Male                43.0224      3.217     13.372      0.000      36.700      49.345\n",
       "Married_No                 52.6314      3.104     16.956      0.000      46.531      58.732\n",
       "Married_Yes                43.1946      2.954     14.622      0.000      37.389      49.000\n",
       "Dependents_0               27.8264      3.999      6.959      0.000      19.968      35.685\n",
       "Dependents_1               18.6256      5.245      3.551      0.000       8.317      28.934\n",
       "Dependents_2               34.7195      5.243      6.621      0.000      24.415      45.024\n",
       "Dependents_3+              14.6546      7.181      2.041      0.042       0.542      28.767\n",
       "Education_Graduate         52.8757      2.825     18.718      0.000      47.324      58.427\n",
       "Education_Not Graduate     42.9504      3.169     13.552      0.000      36.722      49.179\n",
       "Self_Employed_No           50.3695      3.352     15.029      0.000      43.783      56.956\n",
       "Self_Employed_Yes          45.4566      4.040     11.253      0.000      37.518      53.395\n",
       "Property_Area_Rural        36.6580      3.580     10.240      0.000      29.622      43.694\n",
       "Property_Area_Semiurban    34.6149      3.346     10.345      0.000      28.039      41.191\n",
       "Property_Area_Urban        24.5531      3.515      6.985      0.000      17.645      31.462\n",
       "==============================================================================\n",
       "Omnibus:                      187.954   Durbin-Watson:                   2.017\n",
       "Prob(Omnibus):                  0.000   Jarque-Bera (JB):              718.513\n",
       "Skew:                          -1.852   Prob(JB):                    9.48e-157\n",
       "Kurtosis:                       7.867   Cond. No.                     4.97e+16\n",
       "==============================================================================\n",
       "\n",
       "Notes:\n",
       "[1] Standard Errors assume that the covariance matrix of the errors is correctly specified.\n",
       "[2] The smallest eigenvalue is 8.32e-31. This might indicate that there are\n",
       "strong multicollinearity problems or that the design matrix is singular.\n",
       "\"\"\""
      ]
     },
     "execution_count": 24,
     "metadata": {},
     "output_type": "execute_result"
    }
   ],
   "source": [
    "from sklearn.model_selection import train_test_split\n",
    "xtrain,xtest,ytrain,ytest=train_test_split(Xnew,Y,random_state=31,test_size=0.2)\n",
    "\n",
    "from statsmodels.api import OLS,add_constant\n",
    "xconst = add_constant(xtrain) #this is done to get b0 value(not required in LM)\n",
    "ols = OLS(ytrain,xconst).fit()\n",
    "ols.summary()"
   ]
  },
  {
   "cell_type": "code",
   "execution_count": 25,
   "id": "cf3773fb",
   "metadata": {},
   "outputs": [
    {
     "data": {
      "text/plain": [
       "'Credit_History'"
      ]
     },
     "execution_count": 25,
     "metadata": {},
     "output_type": "execute_result"
    }
   ],
   "source": [
    "ols.pvalues.sort_values().index[-1]"
   ]
  },
  {
   "cell_type": "code",
   "execution_count": 26,
   "id": "52548c6c",
   "metadata": {},
   "outputs": [
    {
     "data": {
      "text/plain": [
       "const                      8.249875e-242\n",
       "Education_Graduate          3.794618e-58\n",
       "Married_No                  3.726548e-50\n",
       "Self_Employed_No            1.298043e-41\n",
       "Married_Yes                 7.516150e-40\n",
       "Gender_Female               9.424352e-37\n",
       "Education_Not Graduate      2.698197e-35\n",
       "Gender_Male                 1.525481e-34\n",
       "Self_Employed_Yes           4.909488e-26\n",
       "Property_Area_Semiurban     1.249452e-22\n",
       "Property_Area_Rural         3.014348e-22\n",
       "Property_Area_Urban         1.039912e-11\n",
       "Dependents_0                1.229186e-11\n",
       "Dependents_2                1.022435e-10\n",
       "Dependents_1                4.245521e-04\n",
       "LoanAmount                  6.116037e-03\n",
       "ApplicantIncome             1.223651e-02\n",
       "CoapplicantIncome           1.924700e-02\n",
       "Dependents_3+               4.185438e-02\n",
       "Credit_History              4.024115e-01\n",
       "dtype: float64"
      ]
     },
     "execution_count": 26,
     "metadata": {},
     "output_type": "execute_result"
    }
   ],
   "source": [
    "ols.pvalues.sort_values()"
   ]
  },
  {
   "cell_type": "code",
   "execution_count": 27,
   "id": "38b14c36",
   "metadata": {},
   "outputs": [
    {
     "data": {
      "text/plain": [
       "0.046"
      ]
     },
     "execution_count": 27,
     "metadata": {},
     "output_type": "execute_result"
    }
   ],
   "source": [
    "round(ols.rsquared_adj,4)"
   ]
  },
  {
   "cell_type": "code",
   "execution_count": 28,
   "id": "83fe5258",
   "metadata": {},
   "outputs": [
    {
     "data": {
      "text/plain": [
       "(0.0466, 'Dependents_3+')"
      ]
     },
     "execution_count": 28,
     "metadata": {},
     "output_type": "execute_result"
    }
   ],
   "source": [
    "Xnew = Xnew.drop(labels=ols.pvalues.sort_values().index[-1],axis=1)\n",
    "\n",
    "from sklearn.model_selection import train_test_split\n",
    "xtrain,xtest,ytrain,ytest=train_test_split(Xnew,Y,random_state=31,test_size=0.2)\n",
    "\n",
    "from statsmodels.api import OLS,add_constant\n",
    "xconst = add_constant(xtrain) #this is done to get b0 value(not required in LM)\n",
    "ols = OLS(ytrain,xconst).fit()\n",
    "round(ols.rsquared_adj,4),ols.pvalues.sort_values().index[-1]"
   ]
  },
  {
   "cell_type": "code",
   "execution_count": 29,
   "id": "4733d262",
   "metadata": {},
   "outputs": [
    {
     "data": {
      "text/plain": [
       "(0.0466, 'Dependents_1')"
      ]
     },
     "execution_count": 29,
     "metadata": {},
     "output_type": "execute_result"
    }
   ],
   "source": [
    "Xnew = Xnew.drop(labels=ols.pvalues.sort_values().index[-1],axis=1)\n",
    "\n",
    "from sklearn.model_selection import train_test_split\n",
    "xtrain,xtest,ytrain,ytest=train_test_split(Xnew,Y,random_state=31,test_size=0.2)\n",
    "\n",
    "from statsmodels.api import OLS,add_constant\n",
    "xconst = add_constant(xtrain) #this is done to get b0 value(not required in LM)\n",
    "ols = OLS(ytrain,xconst).fit()\n",
    "round(ols.rsquared_adj,4),ols.pvalues.sort_values().index[-1]"
   ]
  },
  {
   "cell_type": "code",
   "execution_count": 30,
   "id": "20d96e3a",
   "metadata": {},
   "outputs": [
    {
     "data": {
      "text/plain": [
       "(0.0485, 'Dependents_0')"
      ]
     },
     "execution_count": 30,
     "metadata": {},
     "output_type": "execute_result"
    }
   ],
   "source": [
    "Xnew = Xnew.drop(labels=ols.pvalues.sort_values().index[-1],axis=1)\n",
    "\n",
    "from sklearn.model_selection import train_test_split\n",
    "xtrain,xtest,ytrain,ytest=train_test_split(Xnew,Y,random_state=31,test_size=0.2)\n",
    "\n",
    "from statsmodels.api import OLS,add_constant\n",
    "xconst = add_constant(xtrain) #this is done to get b0 value(not required in LM)\n",
    "ols = OLS(ytrain,xconst).fit()\n",
    "round(ols.rsquared_adj,4),ols.pvalues.sort_values().index[-1]"
   ]
  },
  {
   "cell_type": "markdown",
   "id": "910c3c73",
   "metadata": {},
   "source": [
    "# Final model after elimination"
   ]
  },
  {
   "cell_type": "code",
   "execution_count": 31,
   "id": "606852ab",
   "metadata": {},
   "outputs": [
    {
     "data": {
      "text/plain": [
       "Index(['ApplicantIncome', 'CoapplicantIncome', 'LoanAmount', 'Gender_Female',\n",
       "       'Gender_Male', 'Married_No', 'Married_Yes', 'Dependents_0',\n",
       "       'Dependents_2', 'Education_Graduate', 'Education_Not Graduate',\n",
       "       'Self_Employed_No', 'Self_Employed_Yes', 'Property_Area_Rural',\n",
       "       'Property_Area_Semiurban', 'Property_Area_Urban'],\n",
       "      dtype='object')"
      ]
     },
     "execution_count": 31,
     "metadata": {},
     "output_type": "execute_result"
    }
   ],
   "source": [
    "Xnew.columns"
   ]
  },
  {
   "cell_type": "markdown",
   "id": "f91b52d3",
   "metadata": {},
   "source": [
    "# model"
   ]
  },
  {
   "cell_type": "code",
   "execution_count": 32,
   "id": "dc3e1b48",
   "metadata": {},
   "outputs": [],
   "source": [
    "from sklearn.linear_model import LinearRegression\n",
    "lm = LinearRegression()\n",
    "model = lm.fit(xtrain,ytrain)\n",
    "tr_pred = model.predict(xtrain)\n",
    "ts_pred = model.predict(xtest)"
   ]
  },
  {
   "cell_type": "code",
   "execution_count": 33,
   "id": "d4c31522",
   "metadata": {},
   "outputs": [],
   "source": [
    "from sklearn.metrics import mean_absolute_error\n",
    "tr_err = mean_absolute_error(ytrain,tr_pred)\n",
    "ts_err = mean_absolute_error(ytest,ts_pred)"
   ]
  },
  {
   "cell_type": "code",
   "execution_count": 34,
   "id": "3258b75c",
   "metadata": {},
   "outputs": [
    {
     "data": {
      "text/plain": [
       "(28.81755326787582, 28.28866295561246)"
      ]
     },
     "execution_count": 34,
     "metadata": {},
     "output_type": "execute_result"
    }
   ],
   "source": [
    "tr_err,ts_err"
   ]
  },
  {
   "cell_type": "markdown",
   "id": "73cdbf7d",
   "metadata": {},
   "source": [
    "# Ridge"
   ]
  },
  {
   "cell_type": "code",
   "execution_count": null,
   "id": "f9f9a52d",
   "metadata": {},
   "outputs": [],
   "source": []
  },
  {
   "cell_type": "code",
   "execution_count": 35,
   "id": "4359af5d",
   "metadata": {},
   "outputs": [
    {
     "data": {
      "text/plain": [
       "(28.712465837320874, 28.12765603271093)"
      ]
     },
     "execution_count": 35,
     "metadata": {},
     "output_type": "execute_result"
    }
   ],
   "source": [
    "from sklearn.metrics import mean_absolute_error\n",
    "from sklearn.linear_model import Ridge\n",
    "rr = Ridge(alpha=3.91)\n",
    "model = rr.fit(xtrain,ytrain)\n",
    "tr_pred = model.predict(xtrain)\n",
    "ts_pred = model.predict(xtest)\n",
    "tr_err = mean_absolute_error(ytrain,tr_pred)\n",
    "ts_err = mean_absolute_error(ytest,ts_pred)\n",
    "tr_err,ts_err"
   ]
  },
  {
   "cell_type": "code",
   "execution_count": 36,
   "id": "af244a8a",
   "metadata": {},
   "outputs": [],
   "source": [
    "x = .01\n",
    "alphas = []\n",
    "for i in range(0,1000,10):\n",
    "    alphas.append(x)\n",
    "    x = round(x + 50,2)"
   ]
  },
  {
   "cell_type": "code",
   "execution_count": 37,
   "id": "c4a1df44",
   "metadata": {},
   "outputs": [],
   "source": [
    "tr = []\n",
    "ts = []\n",
    "for i in alphas:\n",
    "    rr = Ridge(alpha=i)\n",
    "    model = rr.fit(xtrain,ytrain)\n",
    "    tr_pred = model.predict(xtrain)\n",
    "    ts_pred = model.predict(xtest)\n",
    "    tr_err = mean_absolute_error(ytrain,tr_pred)\n",
    "    ts_err = mean_absolute_error(ytest,ts_pred)\n",
    "    tr.append(tr_err)\n",
    "    ts.append(ts_err)    "
   ]
  },
  {
   "cell_type": "code",
   "execution_count": 38,
   "id": "8ec8599c",
   "metadata": {},
   "outputs": [
    {
     "data": {
      "text/plain": [
       "[<matplotlib.lines.Line2D at 0x1db9a9f62e0>]"
      ]
     },
     "execution_count": 38,
     "metadata": {},
     "output_type": "execute_result"
    },
    {
     "data": {
      "image/png": "[encoded data removed]",
      "text/plain": [
       "<Figure size 640x480 with 1 Axes>"
      ]
     },
     "metadata": {},
     "output_type": "display_data"
    }
   ],
   "source": [
    "import matplotlib.pyplot as plt\n",
    "plt.plot(tr,c=\"blue\")\n",
    "plt.plot(ts,c=\"red\")"
   ]
  },
  {
   "cell_type": "code",
   "execution_count": 39,
   "id": "25965c9f",
   "metadata": {},
   "outputs": [
    {
     "data": {
      "text/plain": [
       "500.01"
      ]
     },
     "execution_count": 39,
     "metadata": {},
     "output_type": "execute_result"
    }
   ],
   "source": [
    "alphas[10]"
   ]
  },
  {
   "cell_type": "markdown",
   "id": "c1013a20",
   "metadata": {},
   "source": [
    "# Gridsearch CV"
   ]
  },
  {
   "cell_type": "code",
   "execution_count": 40,
   "id": "acceff0d",
   "metadata": {},
   "outputs": [
    {
     "data": {
      "text/plain": [
       "{'alpha': 50.01}"
      ]
     },
     "execution_count": 40,
     "metadata": {},
     "output_type": "execute_result"
    }
   ],
   "source": [
    "tuning_grid = {\"alpha\":alphas}\n",
    "rr = Ridge()\n",
    "from sklearn.model_selection import GridSearchCV\n",
    "cv1 = GridSearchCV(rr,tuning_grid,scoring=\"neg_mean_squared_error\",cv=7)\n",
    "cvmodel = cv1.fit(Xnew,Y)\n",
    "cvmodel.best_params_"
   ]
  },
  {
   "cell_type": "code",
   "execution_count": 41,
   "id": "7a211abc",
   "metadata": {},
   "outputs": [
    {
     "data": {
      "text/plain": [
       "(28.183631477469042, 27.380160653001095)"
      ]
     },
     "execution_count": 41,
     "metadata": {},
     "output_type": "execute_result"
    }
   ],
   "source": [
    "from sklearn.metrics import mean_absolute_error\n",
    "from sklearn.linear_model import Ridge\n",
    "rr = Ridge(alpha=50)\n",
    "model = rr.fit(xtrain,ytrain)\n",
    "tr_pred = model.predict(xtrain)\n",
    "ts_pred = model.predict(xtest)\n",
    "tr_err = mean_absolute_error(ytrain,tr_pred)\n",
    "ts_err = mean_absolute_error(ytest,ts_pred)\n",
    "tr_err,ts_err"
   ]
  },
  {
   "cell_type": "code",
   "execution_count": null,
   "id": "6d07478a",
   "metadata": {},
   "outputs": [],
   "source": []
  },
  {
   "cell_type": "markdown",
   "id": "b5772505",
   "metadata": {},
   "source": [
    "# Preprocessisng test data"
   ]
  },
  {
   "cell_type": "code",
   "execution_count": 42,
   "id": "b0de367f",
   "metadata": {},
   "outputs": [],
   "source": [
    "X1b = pd.get_dummies(Xb[cat])\n",
    "from sklearn.preprocessing import StandardScaler\n",
    "ss = StandardScaler()\n",
    "X2b = pd.DataFrame(ss.fit_transform(Xb[con]),columns=con)\n",
    "Xnewb = X2b.join(X1b)"
   ]
  },
  {
   "cell_type": "code",
   "execution_count": 43,
   "id": "29e37b93",
   "metadata": {},
   "outputs": [],
   "source": [
    "Xnewb=Xnewb[Xnew.columns]"
   ]
  },
  {
   "cell_type": "code",
   "execution_count": 44,
   "id": "1a48ed7f",
   "metadata": {},
   "outputs": [],
   "source": [
    "model=rr.fit(Xnew,Y)"
   ]
  },
  {
   "cell_type": "code",
   "execution_count": 45,
   "id": "ef6bc767",
   "metadata": {},
   "outputs": [],
   "source": [
    "ts_pred=model.predict(Xnewb)"
   ]
  },
  {
   "cell_type": "code",
   "execution_count": 46,
   "id": "70eb5323",
   "metadata": {},
   "outputs": [],
   "source": [
    "B[\"Loan_Amount_New_Term\"]=model.predict(Xnewb)"
   ]
  },
  {
   "cell_type": "code",
   "execution_count": 47,
   "id": "89607af7",
   "metadata": {},
   "outputs": [
    {
     "data": {
      "text/html": [
       "<div>\n",
       "<style scoped>\n",
       "    .dataframe tbody tr th:only-of-type {\n",
       "        vertical-align: middle;\n",
       "    }\n",
       "\n",
       "    .dataframe tbody tr th {\n",
       "        vertical-align: top;\n",
       "    }\n",
       "\n",
       "    .dataframe thead th {\n",
       "        text-align: right;\n",
       "    }\n",
       "</style>\n",
       "<table border=\"1\" class=\"dataframe\">\n",
       "  <thead>\n",
       "    <tr style=\"text-align: right;\">\n",
       "      <th></th>\n",
       "      <th>Unnamed: 0</th>\n",
       "      <th>Loan_ID</th>\n",
       "      <th>Gender</th>\n",
       "      <th>Married</th>\n",
       "      <th>Dependents</th>\n",
       "      <th>Education</th>\n",
       "      <th>Self_Employed</th>\n",
       "      <th>ApplicantIncome</th>\n",
       "      <th>CoapplicantIncome</th>\n",
       "      <th>LoanAmount</th>\n",
       "      <th>Loan_Amount_Term</th>\n",
       "      <th>Credit_History</th>\n",
       "      <th>Property_Area</th>\n",
       "      <th>Loan_Status</th>\n",
       "      <th>Loan_Amount_New_Term</th>\n",
       "    </tr>\n",
       "  </thead>\n",
       "  <tbody>\n",
       "    <tr>\n",
       "      <th>0</th>\n",
       "      <td>8</td>\n",
       "      <td>LP001059</td>\n",
       "      <td>Male</td>\n",
       "      <td>Yes</td>\n",
       "      <td>2</td>\n",
       "      <td>Graduate</td>\n",
       "      <td>No</td>\n",
       "      <td>13633</td>\n",
       "      <td>0</td>\n",
       "      <td>280.0</td>\n",
       "      <td>240.0</td>\n",
       "      <td>1.0</td>\n",
       "      <td>Urban</td>\n",
       "      <td>N</td>\n",
       "      <td>342.865441</td>\n",
       "    </tr>\n",
       "    <tr>\n",
       "      <th>1</th>\n",
       "      <td>12</td>\n",
       "      <td>LP001083</td>\n",
       "      <td>Male</td>\n",
       "      <td>No</td>\n",
       "      <td>3+</td>\n",
       "      <td>Graduate</td>\n",
       "      <td>No</td>\n",
       "      <td>4166</td>\n",
       "      <td>0</td>\n",
       "      <td>40.0</td>\n",
       "      <td>180.0</td>\n",
       "      <td>1.0</td>\n",
       "      <td>Urban</td>\n",
       "      <td>N</td>\n",
       "      <td>340.311682</td>\n",
       "    </tr>\n",
       "    <tr>\n",
       "      <th>2</th>\n",
       "      <td>19</td>\n",
       "      <td>LP001115</td>\n",
       "      <td>Male</td>\n",
       "      <td>No</td>\n",
       "      <td>0</td>\n",
       "      <td>Graduate</td>\n",
       "      <td>No</td>\n",
       "      <td>1300</td>\n",
       "      <td>3470</td>\n",
       "      <td>100.0</td>\n",
       "      <td>180.0</td>\n",
       "      <td>1.0</td>\n",
       "      <td>Semiurban</td>\n",
       "      <td>N</td>\n",
       "      <td>361.166056</td>\n",
       "    </tr>\n",
       "    <tr>\n",
       "      <th>3</th>\n",
       "      <td>21</td>\n",
       "      <td>LP001124</td>\n",
       "      <td>Female</td>\n",
       "      <td>No</td>\n",
       "      <td>3+</td>\n",
       "      <td>Not Graduate</td>\n",
       "      <td>No</td>\n",
       "      <td>2083</td>\n",
       "      <td>0</td>\n",
       "      <td>28.0</td>\n",
       "      <td>180.0</td>\n",
       "      <td>1.0</td>\n",
       "      <td>Urban</td>\n",
       "      <td>N</td>\n",
       "      <td>340.529992</td>\n",
       "    </tr>\n",
       "    <tr>\n",
       "      <th>4</th>\n",
       "      <td>29</td>\n",
       "      <td>LP001176</td>\n",
       "      <td>Male</td>\n",
       "      <td>No</td>\n",
       "      <td>0</td>\n",
       "      <td>Graduate</td>\n",
       "      <td>No</td>\n",
       "      <td>2942</td>\n",
       "      <td>2382</td>\n",
       "      <td>125.0</td>\n",
       "      <td>180.0</td>\n",
       "      <td>1.0</td>\n",
       "      <td>Urban</td>\n",
       "      <td>N</td>\n",
       "      <td>353.750693</td>\n",
       "    </tr>\n",
       "    <tr>\n",
       "      <th>5</th>\n",
       "      <td>36</td>\n",
       "      <td>LP001208</td>\n",
       "      <td>Male</td>\n",
       "      <td>Yes</td>\n",
       "      <td>2</td>\n",
       "      <td>Graduate</td>\n",
       "      <td>No</td>\n",
       "      <td>7350</td>\n",
       "      <td>4029</td>\n",
       "      <td>185.0</td>\n",
       "      <td>180.0</td>\n",
       "      <td>1.0</td>\n",
       "      <td>Urban</td>\n",
       "      <td>N</td>\n",
       "      <td>335.430392</td>\n",
       "    </tr>\n",
       "    <tr>\n",
       "      <th>6</th>\n",
       "      <td>53</td>\n",
       "      <td>LP001298</td>\n",
       "      <td>Male</td>\n",
       "      <td>Yes</td>\n",
       "      <td>2</td>\n",
       "      <td>Graduate</td>\n",
       "      <td>No</td>\n",
       "      <td>4116</td>\n",
       "      <td>1000</td>\n",
       "      <td>30.0</td>\n",
       "      <td>180.0</td>\n",
       "      <td>1.0</td>\n",
       "      <td>Urban</td>\n",
       "      <td>N</td>\n",
       "      <td>333.416425</td>\n",
       "    </tr>\n",
       "    <tr>\n",
       "      <th>7</th>\n",
       "      <td>57</td>\n",
       "      <td>LP001321</td>\n",
       "      <td>Male</td>\n",
       "      <td>Yes</td>\n",
       "      <td>2</td>\n",
       "      <td>Graduate</td>\n",
       "      <td>No</td>\n",
       "      <td>3613</td>\n",
       "      <td>3539</td>\n",
       "      <td>134.0</td>\n",
       "      <td>180.0</td>\n",
       "      <td>1.0</td>\n",
       "      <td>Semiurban</td>\n",
       "      <td>N</td>\n",
       "      <td>349.160810</td>\n",
       "    </tr>\n",
       "    <tr>\n",
       "      <th>8</th>\n",
       "      <td>59</td>\n",
       "      <td>LP001324</td>\n",
       "      <td>Male</td>\n",
       "      <td>Yes</td>\n",
       "      <td>3+</td>\n",
       "      <td>Graduate</td>\n",
       "      <td>No</td>\n",
       "      <td>4720</td>\n",
       "      <td>0</td>\n",
       "      <td>90.0</td>\n",
       "      <td>180.0</td>\n",
       "      <td>1.0</td>\n",
       "      <td>Semiurban</td>\n",
       "      <td>N</td>\n",
       "      <td>345.778593</td>\n",
       "    </tr>\n",
       "    <tr>\n",
       "      <th>9</th>\n",
       "      <td>72</td>\n",
       "      <td>LP001375</td>\n",
       "      <td>Male</td>\n",
       "      <td>Yes</td>\n",
       "      <td>1</td>\n",
       "      <td>Graduate</td>\n",
       "      <td>No</td>\n",
       "      <td>4083</td>\n",
       "      <td>1775</td>\n",
       "      <td>139.0</td>\n",
       "      <td>60.0</td>\n",
       "      <td>1.0</td>\n",
       "      <td>Urban</td>\n",
       "      <td>N</td>\n",
       "      <td>338.591721</td>\n",
       "    </tr>\n",
       "    <tr>\n",
       "      <th>10</th>\n",
       "      <td>84</td>\n",
       "      <td>LP001450</td>\n",
       "      <td>Male</td>\n",
       "      <td>Yes</td>\n",
       "      <td>0</td>\n",
       "      <td>Graduate</td>\n",
       "      <td>No</td>\n",
       "      <td>4456</td>\n",
       "      <td>0</td>\n",
       "      <td>131.0</td>\n",
       "      <td>180.0</td>\n",
       "      <td>0.0</td>\n",
       "      <td>Semiurban</td>\n",
       "      <td>N</td>\n",
       "      <td>358.437061</td>\n",
       "    </tr>\n",
       "    <tr>\n",
       "      <th>11</th>\n",
       "      <td>85</td>\n",
       "      <td>LP001452</td>\n",
       "      <td>Male</td>\n",
       "      <td>Yes</td>\n",
       "      <td>2</td>\n",
       "      <td>Graduate</td>\n",
       "      <td>No</td>\n",
       "      <td>4635</td>\n",
       "      <td>8000</td>\n",
       "      <td>102.0</td>\n",
       "      <td>180.0</td>\n",
       "      <td>1.0</td>\n",
       "      <td>Rural</td>\n",
       "      <td>N</td>\n",
       "      <td>327.277491</td>\n",
       "    </tr>\n",
       "    <tr>\n",
       "      <th>12</th>\n",
       "      <td>103</td>\n",
       "      <td>LP001548</td>\n",
       "      <td>Male</td>\n",
       "      <td>Yes</td>\n",
       "      <td>2</td>\n",
       "      <td>Not Graduate</td>\n",
       "      <td>No</td>\n",
       "      <td>2687</td>\n",
       "      <td>0</td>\n",
       "      <td>50.0</td>\n",
       "      <td>180.0</td>\n",
       "      <td>1.0</td>\n",
       "      <td>Rural</td>\n",
       "      <td>N</td>\n",
       "      <td>338.788131</td>\n",
       "    </tr>\n",
       "    <tr>\n",
       "      <th>13</th>\n",
       "      <td>128</td>\n",
       "      <td>LP001667</td>\n",
       "      <td>Male</td>\n",
       "      <td>No</td>\n",
       "      <td>0</td>\n",
       "      <td>Graduate</td>\n",
       "      <td>No</td>\n",
       "      <td>3073</td>\n",
       "      <td>0</td>\n",
       "      <td>70.0</td>\n",
       "      <td>180.0</td>\n",
       "      <td>1.0</td>\n",
       "      <td>Urban</td>\n",
       "      <td>N</td>\n",
       "      <td>353.647967</td>\n",
       "    </tr>\n",
       "    <tr>\n",
       "      <th>14</th>\n",
       "      <td>134</td>\n",
       "      <td>LP001737</td>\n",
       "      <td>Male</td>\n",
       "      <td>No</td>\n",
       "      <td>0</td>\n",
       "      <td>Graduate</td>\n",
       "      <td>No</td>\n",
       "      <td>4000</td>\n",
       "      <td>0</td>\n",
       "      <td>83.0</td>\n",
       "      <td>84.0</td>\n",
       "      <td>1.0</td>\n",
       "      <td>Urban</td>\n",
       "      <td>N</td>\n",
       "      <td>352.971723</td>\n",
       "    </tr>\n",
       "    <tr>\n",
       "      <th>15</th>\n",
       "      <td>141</td>\n",
       "      <td>LP001787</td>\n",
       "      <td>Male</td>\n",
       "      <td>Yes</td>\n",
       "      <td>3+</td>\n",
       "      <td>Graduate</td>\n",
       "      <td>No</td>\n",
       "      <td>3089</td>\n",
       "      <td>2999</td>\n",
       "      <td>100.0</td>\n",
       "      <td>240.0</td>\n",
       "      <td>1.0</td>\n",
       "      <td>Rural</td>\n",
       "      <td>N</td>\n",
       "      <td>339.148888</td>\n",
       "    </tr>\n",
       "    <tr>\n",
       "      <th>16</th>\n",
       "      <td>144</td>\n",
       "      <td>LP001794</td>\n",
       "      <td>Male</td>\n",
       "      <td>Yes</td>\n",
       "      <td>2</td>\n",
       "      <td>Graduate</td>\n",
       "      <td>Yes</td>\n",
       "      <td>10890</td>\n",
       "      <td>0</td>\n",
       "      <td>260.0</td>\n",
       "      <td>12.0</td>\n",
       "      <td>1.0</td>\n",
       "      <td>Rural</td>\n",
       "      <td>N</td>\n",
       "      <td>350.778532</td>\n",
       "    </tr>\n",
       "    <tr>\n",
       "      <th>17</th>\n",
       "      <td>164</td>\n",
       "      <td>LP001921</td>\n",
       "      <td>Male</td>\n",
       "      <td>No</td>\n",
       "      <td>1</td>\n",
       "      <td>Graduate</td>\n",
       "      <td>No</td>\n",
       "      <td>3180</td>\n",
       "      <td>2370</td>\n",
       "      <td>80.0</td>\n",
       "      <td>240.0</td>\n",
       "      <td>1.0</td>\n",
       "      <td>Rural</td>\n",
       "      <td>N</td>\n",
       "      <td>346.885306</td>\n",
       "    </tr>\n",
       "    <tr>\n",
       "      <th>18</th>\n",
       "      <td>173</td>\n",
       "      <td>LP001979</td>\n",
       "      <td>Male</td>\n",
       "      <td>No</td>\n",
       "      <td>0</td>\n",
       "      <td>Graduate</td>\n",
       "      <td>No</td>\n",
       "      <td>3017</td>\n",
       "      <td>2845</td>\n",
       "      <td>159.0</td>\n",
       "      <td>180.0</td>\n",
       "      <td>0.0</td>\n",
       "      <td>Urban</td>\n",
       "      <td>N</td>\n",
       "      <td>356.254771</td>\n",
       "    </tr>\n",
       "    <tr>\n",
       "      <th>19</th>\n",
       "      <td>190</td>\n",
       "      <td>LP002062</td>\n",
       "      <td>Female</td>\n",
       "      <td>Yes</td>\n",
       "      <td>1</td>\n",
       "      <td>Graduate</td>\n",
       "      <td>No</td>\n",
       "      <td>4333</td>\n",
       "      <td>0</td>\n",
       "      <td>132.0</td>\n",
       "      <td>84.0</td>\n",
       "      <td>1.0</td>\n",
       "      <td>Rural</td>\n",
       "      <td>N</td>\n",
       "      <td>354.272011</td>\n",
       "    </tr>\n",
       "    <tr>\n",
       "      <th>20</th>\n",
       "      <td>216</td>\n",
       "      <td>LP002186</td>\n",
       "      <td>Male</td>\n",
       "      <td>Yes</td>\n",
       "      <td>0</td>\n",
       "      <td>Not Graduate</td>\n",
       "      <td>No</td>\n",
       "      <td>2747</td>\n",
       "      <td>2458</td>\n",
       "      <td>118.0</td>\n",
       "      <td>36.0</td>\n",
       "      <td>1.0</td>\n",
       "      <td>Semiurban</td>\n",
       "      <td>N</td>\n",
       "      <td>344.828043</td>\n",
       "    </tr>\n",
       "    <tr>\n",
       "      <th>21</th>\n",
       "      <td>232</td>\n",
       "      <td>LP002306</td>\n",
       "      <td>Male</td>\n",
       "      <td>Yes</td>\n",
       "      <td>0</td>\n",
       "      <td>Graduate</td>\n",
       "      <td>No</td>\n",
       "      <td>1173</td>\n",
       "      <td>1594</td>\n",
       "      <td>28.0</td>\n",
       "      <td>180.0</td>\n",
       "      <td>1.0</td>\n",
       "      <td>Rural</td>\n",
       "      <td>N</td>\n",
       "      <td>346.432993</td>\n",
       "    </tr>\n",
       "    <tr>\n",
       "      <th>22</th>\n",
       "      <td>245</td>\n",
       "      <td>LP002355</td>\n",
       "      <td>Male</td>\n",
       "      <td>Yes</td>\n",
       "      <td>0</td>\n",
       "      <td>Graduate</td>\n",
       "      <td>No</td>\n",
       "      <td>3186</td>\n",
       "      <td>3145</td>\n",
       "      <td>150.0</td>\n",
       "      <td>180.0</td>\n",
       "      <td>0.0</td>\n",
       "      <td>Semiurban</td>\n",
       "      <td>N</td>\n",
       "      <td>354.908388</td>\n",
       "    </tr>\n",
       "    <tr>\n",
       "      <th>23</th>\n",
       "      <td>249</td>\n",
       "      <td>LP002376</td>\n",
       "      <td>Male</td>\n",
       "      <td>No</td>\n",
       "      <td>0</td>\n",
       "      <td>Graduate</td>\n",
       "      <td>No</td>\n",
       "      <td>2925</td>\n",
       "      <td>0</td>\n",
       "      <td>40.0</td>\n",
       "      <td>180.0</td>\n",
       "      <td>1.0</td>\n",
       "      <td>Rural</td>\n",
       "      <td>N</td>\n",
       "      <td>356.660328</td>\n",
       "    </tr>\n",
       "    <tr>\n",
       "      <th>24</th>\n",
       "      <td>277</td>\n",
       "      <td>LP002550</td>\n",
       "      <td>Female</td>\n",
       "      <td>No</td>\n",
       "      <td>0</td>\n",
       "      <td>Graduate</td>\n",
       "      <td>No</td>\n",
       "      <td>5769</td>\n",
       "      <td>0</td>\n",
       "      <td>110.0</td>\n",
       "      <td>180.0</td>\n",
       "      <td>1.0</td>\n",
       "      <td>Semiurban</td>\n",
       "      <td>N</td>\n",
       "      <td>367.397233</td>\n",
       "    </tr>\n",
       "    <tr>\n",
       "      <th>25</th>\n",
       "      <td>312</td>\n",
       "      <td>LP002754</td>\n",
       "      <td>Male</td>\n",
       "      <td>No</td>\n",
       "      <td>0</td>\n",
       "      <td>Graduate</td>\n",
       "      <td>No</td>\n",
       "      <td>2066</td>\n",
       "      <td>2108</td>\n",
       "      <td>104.0</td>\n",
       "      <td>84.0</td>\n",
       "      <td>1.0</td>\n",
       "      <td>Urban</td>\n",
       "      <td>N</td>\n",
       "      <td>354.134661</td>\n",
       "    </tr>\n",
       "    <tr>\n",
       "      <th>26</th>\n",
       "      <td>315</td>\n",
       "      <td>LP002766</td>\n",
       "      <td>Female</td>\n",
       "      <td>Yes</td>\n",
       "      <td>0</td>\n",
       "      <td>Graduate</td>\n",
       "      <td>No</td>\n",
       "      <td>7859</td>\n",
       "      <td>879</td>\n",
       "      <td>165.0</td>\n",
       "      <td>180.0</td>\n",
       "      <td>1.0</td>\n",
       "      <td>Semiurban</td>\n",
       "      <td>N</td>\n",
       "      <td>357.889413</td>\n",
       "    </tr>\n",
       "    <tr>\n",
       "      <th>27</th>\n",
       "      <td>322</td>\n",
       "      <td>LP002790</td>\n",
       "      <td>Male</td>\n",
       "      <td>Yes</td>\n",
       "      <td>3+</td>\n",
       "      <td>Graduate</td>\n",
       "      <td>No</td>\n",
       "      <td>3400</td>\n",
       "      <td>0</td>\n",
       "      <td>80.0</td>\n",
       "      <td>120.0</td>\n",
       "      <td>1.0</td>\n",
       "      <td>Urban</td>\n",
       "      <td>N</td>\n",
       "      <td>338.259235</td>\n",
       "    </tr>\n",
       "    <tr>\n",
       "      <th>28</th>\n",
       "      <td>325</td>\n",
       "      <td>LP002802</td>\n",
       "      <td>Male</td>\n",
       "      <td>No</td>\n",
       "      <td>0</td>\n",
       "      <td>Graduate</td>\n",
       "      <td>No</td>\n",
       "      <td>2875</td>\n",
       "      <td>2416</td>\n",
       "      <td>95.0</td>\n",
       "      <td>6.0</td>\n",
       "      <td>0.0</td>\n",
       "      <td>Semiurban</td>\n",
       "      <td>N</td>\n",
       "      <td>359.787646</td>\n",
       "    </tr>\n",
       "    <tr>\n",
       "      <th>29</th>\n",
       "      <td>338</td>\n",
       "      <td>LP002857</td>\n",
       "      <td>Male</td>\n",
       "      <td>Yes</td>\n",
       "      <td>1</td>\n",
       "      <td>Graduate</td>\n",
       "      <td>Yes</td>\n",
       "      <td>2360</td>\n",
       "      <td>3355</td>\n",
       "      <td>87.0</td>\n",
       "      <td>240.0</td>\n",
       "      <td>1.0</td>\n",
       "      <td>Rural</td>\n",
       "      <td>N</td>\n",
       "      <td>335.955965</td>\n",
       "    </tr>\n",
       "    <tr>\n",
       "      <th>30</th>\n",
       "      <td>340</td>\n",
       "      <td>LP002860</td>\n",
       "      <td>Male</td>\n",
       "      <td>Yes</td>\n",
       "      <td>0</td>\n",
       "      <td>Graduate</td>\n",
       "      <td>Yes</td>\n",
       "      <td>2623</td>\n",
       "      <td>4831</td>\n",
       "      <td>122.0</td>\n",
       "      <td>180.0</td>\n",
       "      <td>1.0</td>\n",
       "      <td>Semiurban</td>\n",
       "      <td>N</td>\n",
       "      <td>345.869096</td>\n",
       "    </tr>\n",
       "    <tr>\n",
       "      <th>31</th>\n",
       "      <td>342</td>\n",
       "      <td>LP002869</td>\n",
       "      <td>Male</td>\n",
       "      <td>Yes</td>\n",
       "      <td>3+</td>\n",
       "      <td>Not Graduate</td>\n",
       "      <td>No</td>\n",
       "      <td>3522</td>\n",
       "      <td>0</td>\n",
       "      <td>81.0</td>\n",
       "      <td>180.0</td>\n",
       "      <td>1.0</td>\n",
       "      <td>Rural</td>\n",
       "      <td>N</td>\n",
       "      <td>334.957552</td>\n",
       "    </tr>\n",
       "    <tr>\n",
       "      <th>32</th>\n",
       "      <td>354</td>\n",
       "      <td>LP002921</td>\n",
       "      <td>Male</td>\n",
       "      <td>Yes</td>\n",
       "      <td>3+</td>\n",
       "      <td>Not Graduate</td>\n",
       "      <td>No</td>\n",
       "      <td>5316</td>\n",
       "      <td>187</td>\n",
       "      <td>158.0</td>\n",
       "      <td>180.0</td>\n",
       "      <td>0.0</td>\n",
       "      <td>Semiurban</td>\n",
       "      <td>N</td>\n",
       "      <td>342.493005</td>\n",
       "    </tr>\n",
       "    <tr>\n",
       "      <th>33</th>\n",
       "      <td>366</td>\n",
       "      <td>LP002989</td>\n",
       "      <td>Male</td>\n",
       "      <td>No</td>\n",
       "      <td>0</td>\n",
       "      <td>Graduate</td>\n",
       "      <td>Yes</td>\n",
       "      <td>9200</td>\n",
       "      <td>0</td>\n",
       "      <td>98.0</td>\n",
       "      <td>180.0</td>\n",
       "      <td>1.0</td>\n",
       "      <td>Rural</td>\n",
       "      <td>N</td>\n",
       "      <td>346.170042</td>\n",
       "    </tr>\n",
       "  </tbody>\n",
       "</table>\n",
       "</div>"
      ],
      "text/plain": [
       "    Unnamed: 0   Loan_ID  Gender Married Dependents     Education  \\\n",
       "0            8  LP001059    Male     Yes          2      Graduate   \n",
       "1           12  LP001083    Male      No         3+      Graduate   \n",
       "2           19  LP001115    Male      No          0      Graduate   \n",
       "3           21  LP001124  Female      No         3+  Not Graduate   \n",
       "4           29  LP001176    Male      No          0      Graduate   \n",
       "5           36  LP001208    Male     Yes          2      Graduate   \n",
       "6           53  LP001298    Male     Yes          2      Graduate   \n",
       "7           57  LP001321    Male     Yes          2      Graduate   \n",
       "8           59  LP001324    Male     Yes         3+      Graduate   \n",
       "9           72  LP001375    Male     Yes          1      Graduate   \n",
       "10          84  LP001450    Male     Yes          0      Graduate   \n",
       "11          85  LP001452    Male     Yes          2      Graduate   \n",
       "12         103  LP001548    Male     Yes          2  Not Graduate   \n",
       "13         128  LP001667    Male      No          0      Graduate   \n",
       "14         134  LP001737    Male      No          0      Graduate   \n",
       "15         141  LP001787    Male     Yes         3+      Graduate   \n",
       "16         144  LP001794    Male     Yes          2      Graduate   \n",
       "17         164  LP001921    Male      No          1      Graduate   \n",
       "18         173  LP001979    Male      No          0      Graduate   \n",
       "19         190  LP002062  Female     Yes          1      Graduate   \n",
       "20         216  LP002186    Male     Yes          0  Not Graduate   \n",
       "21         232  LP002306    Male     Yes          0      Graduate   \n",
       "22         245  LP002355    Male     Yes          0      Graduate   \n",
       "23         249  LP002376    Male      No          0      Graduate   \n",
       "24         277  LP002550  Female      No          0      Graduate   \n",
       "25         312  LP002754    Male      No          0      Graduate   \n",
       "26         315  LP002766  Female     Yes          0      Graduate   \n",
       "27         322  LP002790    Male     Yes         3+      Graduate   \n",
       "28         325  LP002802    Male      No          0      Graduate   \n",
       "29         338  LP002857    Male     Yes          1      Graduate   \n",
       "30         340  LP002860    Male     Yes          0      Graduate   \n",
       "31         342  LP002869    Male     Yes         3+  Not Graduate   \n",
       "32         354  LP002921    Male     Yes         3+  Not Graduate   \n",
       "33         366  LP002989    Male      No          0      Graduate   \n",
       "\n",
       "   Self_Employed  ApplicantIncome  CoapplicantIncome  LoanAmount  \\\n",
       "0             No            13633                  0       280.0   \n",
       "1             No             4166                  0        40.0   \n",
       "2             No             1300               3470       100.0   \n",
       "3             No             2083                  0        28.0   \n",
       "4             No             2942               2382       125.0   \n",
       "5             No             7350               4029       185.0   \n",
       "6             No             4116               1000        30.0   \n",
       "7             No             3613               3539       134.0   \n",
       "8             No             4720                  0        90.0   \n",
       "9             No             4083               1775       139.0   \n",
       "10            No             4456                  0       131.0   \n",
       "11            No             4635               8000       102.0   \n",
       "12            No             2687                  0        50.0   \n",
       "13            No             3073                  0        70.0   \n",
       "14            No             4000                  0        83.0   \n",
       "15            No             3089               2999       100.0   \n",
       "16           Yes            10890                  0       260.0   \n",
       "17            No             3180               2370        80.0   \n",
       "18            No             3017               2845       159.0   \n",
       "19            No             4333                  0       132.0   \n",
       "20            No             2747               2458       118.0   \n",
       "21            No             1173               1594        28.0   \n",
       "22            No             3186               3145       150.0   \n",
       "23            No             2925                  0        40.0   \n",
       "24            No             5769                  0       110.0   \n",
       "25            No             2066               2108       104.0   \n",
       "26            No             7859                879       165.0   \n",
       "27            No             3400                  0        80.0   \n",
       "28            No             2875               2416        95.0   \n",
       "29           Yes             2360               3355        87.0   \n",
       "30           Yes             2623               4831       122.0   \n",
       "31            No             3522                  0        81.0   \n",
       "32            No             5316                187       158.0   \n",
       "33           Yes             9200                  0        98.0   \n",
       "\n",
       "    Loan_Amount_Term  Credit_History Property_Area Loan_Status  \\\n",
       "0              240.0             1.0         Urban           N   \n",
       "1              180.0             1.0         Urban           N   \n",
       "2              180.0             1.0     Semiurban           N   \n",
       "3              180.0             1.0         Urban           N   \n",
       "4              180.0             1.0         Urban           N   \n",
       "5              180.0             1.0         Urban           N   \n",
       "6              180.0             1.0         Urban           N   \n",
       "7              180.0             1.0     Semiurban           N   \n",
       "8              180.0             1.0     Semiurban           N   \n",
       "9               60.0             1.0         Urban           N   \n",
       "10             180.0             0.0     Semiurban           N   \n",
       "11             180.0             1.0         Rural           N   \n",
       "12             180.0             1.0         Rural           N   \n",
       "13             180.0             1.0         Urban           N   \n",
       "14              84.0             1.0         Urban           N   \n",
       "15             240.0             1.0         Rural           N   \n",
       "16              12.0             1.0         Rural           N   \n",
       "17             240.0             1.0         Rural           N   \n",
       "18             180.0             0.0         Urban           N   \n",
       "19              84.0             1.0         Rural           N   \n",
       "20              36.0             1.0     Semiurban           N   \n",
       "21             180.0             1.0         Rural           N   \n",
       "22             180.0             0.0     Semiurban           N   \n",
       "23             180.0             1.0         Rural           N   \n",
       "24             180.0             1.0     Semiurban           N   \n",
       "25              84.0             1.0         Urban           N   \n",
       "26             180.0             1.0     Semiurban           N   \n",
       "27             120.0             1.0         Urban           N   \n",
       "28               6.0             0.0     Semiurban           N   \n",
       "29             240.0             1.0         Rural           N   \n",
       "30             180.0             1.0     Semiurban           N   \n",
       "31             180.0             1.0         Rural           N   \n",
       "32             180.0             0.0     Semiurban           N   \n",
       "33             180.0             1.0         Rural           N   \n",
       "\n",
       "    Loan_Amount_New_Term  \n",
       "0             342.865441  \n",
       "1             340.311682  \n",
       "2             361.166056  \n",
       "3             340.529992  \n",
       "4             353.750693  \n",
       "5             335.430392  \n",
       "6             333.416425  \n",
       "7             349.160810  \n",
       "8             345.778593  \n",
       "9             338.591721  \n",
       "10            358.437061  \n",
       "11            327.277491  \n",
       "12            338.788131  \n",
       "13            353.647967  \n",
       "14            352.971723  \n",
       "15            339.148888  \n",
       "16            350.778532  \n",
       "17            346.885306  \n",
       "18            356.254771  \n",
       "19            354.272011  \n",
       "20            344.828043  \n",
       "21            346.432993  \n",
       "22            354.908388  \n",
       "23            356.660328  \n",
       "24            367.397233  \n",
       "25            354.134661  \n",
       "26            357.889413  \n",
       "27            338.259235  \n",
       "28            359.787646  \n",
       "29            335.955965  \n",
       "30            345.869096  \n",
       "31            334.957552  \n",
       "32            342.493005  \n",
       "33            346.170042  "
      ]
     },
     "execution_count": 47,
     "metadata": {},
     "output_type": "execute_result"
    }
   ],
   "source": [
    "B"
   ]
  },
  {
   "cell_type": "code",
   "execution_count": null,
   "id": "519a5261",
   "metadata": {},
   "outputs": [],
   "source": []
  }
 ],
 "metadata": {
  "kernelspec": {
   "display_name": "Python 3 (ipykernel)",
   "language": "python",
   "name": "python3"
  },
  "language_info": {
   "codemirror_mode": {
    "name": "ipython",
    "version": 3
   },
   "file_extension": ".py",
   "mimetype": "text/x-python",
   "name": "python",
   "nbconvert_exporter": "python",
   "pygments_lexer": "ipython3",
   "version": "3.9.15"
  }
 },
 "nbformat": 4,
 "nbformat_minor": 5
}
