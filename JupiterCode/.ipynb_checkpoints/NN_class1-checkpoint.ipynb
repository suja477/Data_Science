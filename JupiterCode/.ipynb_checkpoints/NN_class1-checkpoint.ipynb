{
 "cells": [
  {
   "cell_type": "code",
   "execution_count": 2,
   "id": "bc7fe672",
   "metadata": {},
   "outputs": [],
   "source": [
    "from os import chdir\n",
    "import pandas as pd\n",
    "chdir(\"C:/Users/Suja4/OneDrive/Documents/Data Science/Dataset\")"
   ]
  },
  {
   "cell_type": "code",
   "execution_count": 4,
   "id": "179dc1fd",
   "metadata": {},
   "outputs": [],
   "source": [
    "A=pd.read_csv('50_Startups.csv')"
   ]
  },
  {
   "cell_type": "markdown",
   "id": "a83a2b83",
   "metadata": {},
   "source": [
    "# Missing data Treatment"
   ]
  },
  {
   "cell_type": "code",
   "execution_count": 6,
   "id": "3eccd2e6",
   "metadata": {},
   "outputs": [],
   "source": [
    "from Wd8pm import replacer\n",
    "replacer(A)"
   ]
  },
  {
   "cell_type": "markdown",
   "id": "ccd7b6b8",
   "metadata": {},
   "source": [
    "# Declaration of X and Y"
   ]
  },
  {
   "cell_type": "code",
   "execution_count": 7,
   "id": "4f0e45df",
   "metadata": {},
   "outputs": [],
   "source": [
    "Y = A[[\"PROFIT\"]]\n",
    "X = A[[\"RND\",\"MKT\",\"ADMIN\",\"STATE\"]]"
   ]
  },
  {
   "cell_type": "code",
   "execution_count": 11,
   "id": "fcfad1f6",
   "metadata": {},
   "outputs": [],
   "source": [
    "cat = []\n",
    "con = []\n",
    "for i in X.columns:\n",
    "    if(X[i].dtypes == \"object\"):\n",
    "        cat.append(i)\n",
    "    else:\n",
    "        con.append(i)\n",
    "        "
   ]
  },
  {
   "cell_type": "code",
   "execution_count": 12,
   "id": "a282d175",
   "metadata": {},
   "outputs": [
    {
     "name": "stdout",
     "output_type": "stream",
     "text": [
      "<class 'pandas.core.frame.DataFrame'>\n",
      "RangeIndex: 50 entries, 0 to 49\n",
      "Data columns (total 4 columns):\n",
      " #   Column  Non-Null Count  Dtype  \n",
      "---  ------  --------------  -----  \n",
      " 0   RND     50 non-null     float64\n",
      " 1   MKT     50 non-null     float64\n",
      " 2   ADMIN   50 non-null     float64\n",
      " 3   STATE   50 non-null     object \n",
      "dtypes: float64(3), object(1)\n",
      "memory usage: 1.7+ KB\n"
     ]
    }
   ],
   "source": [
    "X.info()"
   ]
  },
  {
   "cell_type": "code",
   "execution_count": 13,
   "id": "82d6b9c0",
   "metadata": {},
   "outputs": [],
   "source": [
    "from sklearn.preprocessing import MinMaxScaler\n",
    "mm = MinMaxScaler()\n",
    "X1 = pd.DataFrame(mm.fit_transform(X[con]),columns=con)\n",
    "X2 = pd.get_dummies(X[cat])\n",
    "Xnew = X1.join(X2)"
   ]
  },
  {
   "cell_type": "markdown",
   "id": "8c49e319",
   "metadata": {},
   "source": [
    "# Split"
   ]
  },
  {
   "cell_type": "code",
   "execution_count": 14,
   "id": "acbf64a2",
   "metadata": {},
   "outputs": [],
   "source": [
    "from sklearn.model_selection import train_test_split\n",
    "xtrain,xtest,ytrain,ytest=train_test_split(Xnew,Y,test_size=0.2,random_state=21)"
   ]
  },
  {
   "cell_type": "markdown",
   "id": "ac462f1d",
   "metadata": {},
   "source": [
    "# Create a NN"
   ]
  },
  {
   "cell_type": "code",
   "execution_count": 15,
   "id": "bbe89eb9",
   "metadata": {},
   "outputs": [],
   "source": [
    "from warnings import filterwarnings\n",
    "filterwarnings(\"ignore\")\n",
    "\n",
    "from sklearn.neural_network import MLPRegressor\n",
    "mlp = MLPRegressor(hidden_layer_sizes=(500,300),activation='relu')\n",
    "model = mlp.fit(xtrain,ytrain)"
   ]
  },
  {
   "cell_type": "code",
   "execution_count": 16,
   "id": "286e97f9",
   "metadata": {},
   "outputs": [],
   "source": [
    "tr_pred = model.predict(xtrain)\n",
    "ts_pred = model.predict(xtest)"
   ]
  },
  {
   "cell_type": "markdown",
   "id": "69dfb0d8",
   "metadata": {},
   "source": [
    "# Loss"
   ]
  },
  {
   "cell_type": "code",
   "execution_count": 17,
   "id": "31a6e56c",
   "metadata": {},
   "outputs": [],
   "source": [
    "from sklearn.metrics import mean_absolute_error\n",
    "tr_err = mean_absolute_error(ytrain,tr_pred)\n",
    "ts_err = mean_absolute_error(ytest,ts_pred)"
   ]
  },
  {
   "cell_type": "code",
   "execution_count": 18,
   "id": "635b1fbf",
   "metadata": {},
   "outputs": [
    {
     "data": {
      "text/plain": [
       "(103603, 100389)"
      ]
     },
     "execution_count": 18,
     "metadata": {},
     "output_type": "execute_result"
    }
   ],
   "source": [
    "round(tr_err),round(ts_err)"
   ]
  },
  {
   "cell_type": "code",
   "execution_count": null,
   "id": "0e2ff828",
   "metadata": {},
   "outputs": [],
   "source": []
  }
 ],
 "metadata": {
  "kernelspec": {
   "display_name": "Python 3 (ipykernel)",
   "language": "python",
   "name": "python3"
  },
  "language_info": {
   "codemirror_mode": {
    "name": "ipython",
    "version": 3
   },
   "file_extension": ".py",
   "mimetype": "text/x-python",
   "name": "python",
   "nbconvert_exporter": "python",
   "pygments_lexer": "ipython3",
   "version": "3.9.15"
  }
 },
 "nbformat": 4,
 "nbformat_minor": 5
}
