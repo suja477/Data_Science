{
 "cells": [
  {
   "cell_type": "code",
   "execution_count": 1,
   "id": "967b2f3e",
   "metadata": {},
   "outputs": [],
   "source": [
    "import pandas as pd\n",
    "A=pd.read_csv(\"C:/Users/Suja4/OneDrive/Documents/Data Science/Dataset/Cars93.csv\")\n",
    "from warnings import filterwarnings \n",
    "filterwarnings(\"ignore\")"
   ]
  },
  {
   "cell_type": "code",
   "execution_count": 2,
   "id": "3f5d1f8e",
   "metadata": {},
   "outputs": [],
   "source": [
    "A\n",
    "B=A.drop(labels=[\"id\",\"Make\",\"Model\"],axis=1)"
   ]
  },
  {
   "cell_type": "markdown",
   "id": "c7cb4d14",
   "metadata": {},
   "source": [
    "# Missing Data Treatment"
   ]
  },
  {
   "cell_type": "code",
   "execution_count": 3,
   "id": "bfb06f68",
   "metadata": {},
   "outputs": [],
   "source": [
    "from PM6_wd import replacer\n",
    "replacer(B)"
   ]
  },
  {
   "cell_type": "markdown",
   "id": "e9d7987b",
   "metadata": {},
   "source": [
    "# X and Y"
   ]
  },
  {
   "cell_type": "code",
   "execution_count": 4,
   "id": "208ab0aa",
   "metadata": {},
   "outputs": [],
   "source": [
    "X= B.drop(labels=[\"Type\"],axis=1)\n",
    "Y=B[[\"Type\"]]"
   ]
  },
  {
   "cell_type": "code",
   "execution_count": 5,
   "id": "dcde7e57",
   "metadata": {},
   "outputs": [],
   "source": [
    "from Wd8pm import catcon\n",
    "cat,con =catcon(X)"
   ]
  },
  {
   "cell_type": "code",
   "execution_count": 6,
   "id": "7734f77e",
   "metadata": {},
   "outputs": [],
   "source": [
    "Xnew=X[con].join(pd.get_dummies(X[cat]))"
   ]
  },
  {
   "cell_type": "code",
   "execution_count": 7,
   "id": "4d190bf4",
   "metadata": {},
   "outputs": [],
   "source": [
    "from sklearn.model_selection import train_test_split\n",
    "xtrain,xtest,ytrain,ytest=train_test_split(Xnew,Y,test_size=0.2,random_state=21)"
   ]
  },
  {
   "cell_type": "code",
   "execution_count": 8,
   "id": "e8cc7f68",
   "metadata": {},
   "outputs": [],
   "source": [
    "#Tree"
   ]
  },
  {
   "cell_type": "code",
   "execution_count": 11,
   "id": "1bbff9e2",
   "metadata": {},
   "outputs": [],
   "source": [
    "from sklearn.tree import DecisionTreeClassifier\n",
    "dtc=DecisionTreeClassifier(criterion=\"entropy\",random_state=21)\n",
    "model=dtc.fit(xtrain,ytrain)\n",
    "tr_pred=dtc.predict(xtrain)\n",
    "ts_pred=dtc.predict(xtest)"
   ]
  },
  {
   "cell_type": "code",
   "execution_count": 12,
   "id": "8bb9e89b",
   "metadata": {},
   "outputs": [
    {
     "data": {
      "text/plain": [
       "1.0"
      ]
     },
     "execution_count": 12,
     "metadata": {},
     "output_type": "execute_result"
    }
   ],
   "source": [
    "from sklearn.metrics import accuracy_score\n",
    "accuracy_score(ytrain,tr_pred)"
   ]
  },
  {
   "cell_type": "code",
   "execution_count": 13,
   "id": "5f307ecb",
   "metadata": {},
   "outputs": [
    {
     "data": {
      "text/plain": [
       "0.5789473684210527"
      ]
     },
     "execution_count": 13,
     "metadata": {},
     "output_type": "execute_result"
    }
   ],
   "source": [
    "accuracy_score(ytest,ts_pred)"
   ]
  },
  {
   "cell_type": "markdown",
   "id": "93b2233a",
   "metadata": {},
   "source": [
    "# Pruning"
   ]
  },
  {
   "cell_type": "code",
   "execution_count": 14,
   "id": "4ada9d34",
   "metadata": {},
   "outputs": [
    {
     "data": {
      "text/plain": [
       "{'criterion': 'entropy', 'max_depth': 5}"
      ]
     },
     "execution_count": 14,
     "metadata": {},
     "output_type": "execute_result"
    }
   ],
   "source": [
    "from sklearn.model_selection import GridSearchCV\n",
    "\n",
    "tg = {\"criterion\":[\"entropy\",\"gini\"],\"max_depth\":range(2,15,1)}\n",
    "dtc = DecisionTreeClassifier(random_state=21)\n",
    "cv = GridSearchCV(dtc,tg,scoring=\"accuracy\",cv=4)\n",
    "cvmodel = cv.fit(Xnew,Y)\n",
    "cvmodel.best_params_"
   ]
  },
  {
   "cell_type": "code",
   "execution_count": 15,
   "id": "1b5321fc",
   "metadata": {},
   "outputs": [
    {
     "data": {
      "text/plain": [
       "{'criterion': 'entropy', 'min_samples_leaf': 7}"
      ]
     },
     "execution_count": 15,
     "metadata": {},
     "output_type": "execute_result"
    }
   ],
   "source": [
    "from sklearn.model_selection import GridSearchCV\n",
    "\n",
    "tg = {\"criterion\":[\"entropy\",\"gini\"],\"min_samples_leaf\":range(2,15,1)}\n",
    "dtc = DecisionTreeClassifier(random_state=21)\n",
    "cv = GridSearchCV(dtc,tg,scoring=\"accuracy\",cv=4)\n",
    "cvmodel = cv.fit(Xnew,Y)\n",
    "cvmodel.best_params_"
   ]
  },
  {
   "cell_type": "code",
   "execution_count": 16,
   "id": "bdad1708",
   "metadata": {},
   "outputs": [
    {
     "data": {
      "text/plain": [
       "{'criterion': 'entropy', 'min_samples_split': 2}"
      ]
     },
     "execution_count": 16,
     "metadata": {},
     "output_type": "execute_result"
    }
   ],
   "source": [
    "from sklearn.model_selection import GridSearchCV\n",
    "\n",
    "tg = {\"criterion\":[\"entropy\",\"gini\"],\"min_samples_split\":range(2,15,1)}\n",
    "dtc = DecisionTreeClassifier(random_state=21)\n",
    "cv = GridSearchCV(dtc,tg,scoring=\"accuracy\",cv=4)\n",
    "cvmodel = cv.fit(Xnew,Y)\n",
    "cvmodel.best_params_"
   ]
  },
  {
   "cell_type": "code",
   "execution_count": null,
   "id": "5f0fcd38",
   "metadata": {},
   "outputs": [],
   "source": []
  }
 ],
 "metadata": {
  "kernelspec": {
   "display_name": "Python 3 (ipykernel)",
   "language": "python",
   "name": "python3"
  },
  "language_info": {
   "codemirror_mode": {
    "name": "ipython",
    "version": 3
   },
   "file_extension": ".py",
   "mimetype": "text/x-python",
   "name": "python",
   "nbconvert_exporter": "python",
   "pygments_lexer": "ipython3",
   "version": "3.9.12"
  }
 },
 "nbformat": 4,
 "nbformat_minor": 5
}
