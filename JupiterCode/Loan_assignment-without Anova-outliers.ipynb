{
 "cells": [
  {
   "cell_type": "raw",
   "id": "57ac5857",
   "metadata": {},
   "source": [
    "A Company wants to automate the loan eligibility process based on customer details provided while filling online application form. The details filled by the customer are Gender, Marital Status, Education, Number of Dependents, Income of self and co applicant, Required Loan Amount, Required Loan Term, Credit History and others. The requirements are as follows:\n",
    "\n",
    "\n"
   ]
  },
  {
   "cell_type": "markdown",
   "id": "dc58f3bc",
   "metadata": {},
   "source": [
    "# 1.)Check eligibility of the Customer given the inputs described above.(Classification)\n"
   ]
  },
  {
   "cell_type": "markdown",
   "id": "507214be",
   "metadata": {},
   "source": [
    "# Read Data"
   ]
  },
  {
   "cell_type": "code",
   "execution_count": 1,
   "id": "bbdf3bed",
   "metadata": {},
   "outputs": [],
   "source": [
    "import pandas as pd\n",
    "A=pd.read_csv(\"C:/Users/Suja4/OneDrive/Documents/Data Science/Loan_project/training_set.csv\")\n",
    "B=pd.read_csv(\"C:/Users/Suja4/OneDrive/Documents/Data Science/Loan_project/testing_set.csv\")\n"
   ]
  },
  {
   "cell_type": "code",
   "execution_count": 2,
   "id": "80f6753b",
   "metadata": {},
   "outputs": [
    {
     "data": {
      "text/html": [
       "<div>\n",
       "<style scoped>\n",
       "    .dataframe tbody tr th:only-of-type {\n",
       "        vertical-align: middle;\n",
       "    }\n",
       "\n",
       "    .dataframe tbody tr th {\n",
       "        vertical-align: top;\n",
       "    }\n",
       "\n",
       "    .dataframe thead th {\n",
       "        text-align: right;\n",
       "    }\n",
       "</style>\n",
       "<table border=\"1\" class=\"dataframe\">\n",
       "  <thead>\n",
       "    <tr style=\"text-align: right;\">\n",
       "      <th></th>\n",
       "      <th>Loan_ID</th>\n",
       "      <th>Gender</th>\n",
       "      <th>Married</th>\n",
       "      <th>Dependents</th>\n",
       "      <th>Education</th>\n",
       "      <th>Self_Employed</th>\n",
       "      <th>ApplicantIncome</th>\n",
       "      <th>CoapplicantIncome</th>\n",
       "      <th>LoanAmount</th>\n",
       "      <th>Loan_Amount_Term</th>\n",
       "      <th>Credit_History</th>\n",
       "      <th>Property_Area</th>\n",
       "      <th>Loan_Status</th>\n",
       "    </tr>\n",
       "  </thead>\n",
       "  <tbody>\n",
       "    <tr>\n",
       "      <th>0</th>\n",
       "      <td>LP001002</td>\n",
       "      <td>Male</td>\n",
       "      <td>No</td>\n",
       "      <td>0</td>\n",
       "      <td>Graduate</td>\n",
       "      <td>No</td>\n",
       "      <td>5849.0</td>\n",
       "      <td>0.0</td>\n",
       "      <td>NaN</td>\n",
       "      <td>360.0</td>\n",
       "      <td>1.0</td>\n",
       "      <td>Urban</td>\n",
       "      <td>Y</td>\n",
       "    </tr>\n",
       "    <tr>\n",
       "      <th>1</th>\n",
       "      <td>LP001003</td>\n",
       "      <td>Male</td>\n",
       "      <td>Yes</td>\n",
       "      <td>1</td>\n",
       "      <td>Graduate</td>\n",
       "      <td>No</td>\n",
       "      <td>NaN</td>\n",
       "      <td>1508.0</td>\n",
       "      <td>128.0</td>\n",
       "      <td>360.0</td>\n",
       "      <td>1.0</td>\n",
       "      <td>Rural</td>\n",
       "      <td>N</td>\n",
       "    </tr>\n",
       "    <tr>\n",
       "      <th>2</th>\n",
       "      <td>LP001005</td>\n",
       "      <td>Male</td>\n",
       "      <td>Yes</td>\n",
       "      <td>0</td>\n",
       "      <td>Graduate</td>\n",
       "      <td>Yes</td>\n",
       "      <td>3000.0</td>\n",
       "      <td>0.0</td>\n",
       "      <td>66.0</td>\n",
       "      <td>360.0</td>\n",
       "      <td>1.0</td>\n",
       "      <td>Urban</td>\n",
       "      <td>Y</td>\n",
       "    </tr>\n",
       "    <tr>\n",
       "      <th>3</th>\n",
       "      <td>LP001006</td>\n",
       "      <td>Male</td>\n",
       "      <td>Yes</td>\n",
       "      <td>0</td>\n",
       "      <td>Not Graduate</td>\n",
       "      <td>No</td>\n",
       "      <td>2583.0</td>\n",
       "      <td>2358.0</td>\n",
       "      <td>120.0</td>\n",
       "      <td>360.0</td>\n",
       "      <td>1.0</td>\n",
       "      <td>Urban</td>\n",
       "      <td>Y</td>\n",
       "    </tr>\n",
       "    <tr>\n",
       "      <th>4</th>\n",
       "      <td>LP001008</td>\n",
       "      <td>Male</td>\n",
       "      <td>No</td>\n",
       "      <td>0</td>\n",
       "      <td>Graduate</td>\n",
       "      <td>No</td>\n",
       "      <td>6000.0</td>\n",
       "      <td>0.0</td>\n",
       "      <td>141.0</td>\n",
       "      <td>360.0</td>\n",
       "      <td>1.0</td>\n",
       "      <td>Urban</td>\n",
       "      <td>Y</td>\n",
       "    </tr>\n",
       "    <tr>\n",
       "      <th>...</th>\n",
       "      <td>...</td>\n",
       "      <td>...</td>\n",
       "      <td>...</td>\n",
       "      <td>...</td>\n",
       "      <td>...</td>\n",
       "      <td>...</td>\n",
       "      <td>...</td>\n",
       "      <td>...</td>\n",
       "      <td>...</td>\n",
       "      <td>...</td>\n",
       "      <td>...</td>\n",
       "      <td>...</td>\n",
       "      <td>...</td>\n",
       "    </tr>\n",
       "    <tr>\n",
       "      <th>609</th>\n",
       "      <td>LP002978</td>\n",
       "      <td>Female</td>\n",
       "      <td>No</td>\n",
       "      <td>0</td>\n",
       "      <td>Graduate</td>\n",
       "      <td>No</td>\n",
       "      <td>2900.0</td>\n",
       "      <td>0.0</td>\n",
       "      <td>71.0</td>\n",
       "      <td>360.0</td>\n",
       "      <td>1.0</td>\n",
       "      <td>Rural</td>\n",
       "      <td>Y</td>\n",
       "    </tr>\n",
       "    <tr>\n",
       "      <th>610</th>\n",
       "      <td>LP002979</td>\n",
       "      <td>Male</td>\n",
       "      <td>Yes</td>\n",
       "      <td>3+</td>\n",
       "      <td>Graduate</td>\n",
       "      <td>No</td>\n",
       "      <td>4106.0</td>\n",
       "      <td>0.0</td>\n",
       "      <td>40.0</td>\n",
       "      <td>180.0</td>\n",
       "      <td>1.0</td>\n",
       "      <td>Rural</td>\n",
       "      <td>Y</td>\n",
       "    </tr>\n",
       "    <tr>\n",
       "      <th>611</th>\n",
       "      <td>LP002983</td>\n",
       "      <td>Male</td>\n",
       "      <td>Yes</td>\n",
       "      <td>1</td>\n",
       "      <td>Graduate</td>\n",
       "      <td>No</td>\n",
       "      <td>8072.0</td>\n",
       "      <td>240.0</td>\n",
       "      <td>253.0</td>\n",
       "      <td>360.0</td>\n",
       "      <td>1.0</td>\n",
       "      <td>Urban</td>\n",
       "      <td>Y</td>\n",
       "    </tr>\n",
       "    <tr>\n",
       "      <th>612</th>\n",
       "      <td>LP002984</td>\n",
       "      <td>Male</td>\n",
       "      <td>Yes</td>\n",
       "      <td>2</td>\n",
       "      <td>Graduate</td>\n",
       "      <td>No</td>\n",
       "      <td>7583.0</td>\n",
       "      <td>0.0</td>\n",
       "      <td>187.0</td>\n",
       "      <td>360.0</td>\n",
       "      <td>1.0</td>\n",
       "      <td>Urban</td>\n",
       "      <td>Y</td>\n",
       "    </tr>\n",
       "    <tr>\n",
       "      <th>613</th>\n",
       "      <td>LP002990</td>\n",
       "      <td>Female</td>\n",
       "      <td>No</td>\n",
       "      <td>0</td>\n",
       "      <td>Graduate</td>\n",
       "      <td>Yes</td>\n",
       "      <td>4583.0</td>\n",
       "      <td>0.0</td>\n",
       "      <td>133.0</td>\n",
       "      <td>360.0</td>\n",
       "      <td>0.0</td>\n",
       "      <td>Semiurban</td>\n",
       "      <td>N</td>\n",
       "    </tr>\n",
       "  </tbody>\n",
       "</table>\n",
       "<p>614 rows × 13 columns</p>\n",
       "</div>"
      ],
      "text/plain": [
       "      Loan_ID  Gender Married Dependents     Education Self_Employed  \\\n",
       "0    LP001002    Male      No          0      Graduate            No   \n",
       "1    LP001003    Male     Yes          1      Graduate            No   \n",
       "2    LP001005    Male     Yes          0      Graduate           Yes   \n",
       "3    LP001006    Male     Yes          0  Not Graduate            No   \n",
       "4    LP001008    Male      No          0      Graduate            No   \n",
       "..        ...     ...     ...        ...           ...           ...   \n",
       "609  LP002978  Female      No          0      Graduate            No   \n",
       "610  LP002979    Male     Yes         3+      Graduate            No   \n",
       "611  LP002983    Male     Yes          1      Graduate            No   \n",
       "612  LP002984    Male     Yes          2      Graduate            No   \n",
       "613  LP002990  Female      No          0      Graduate           Yes   \n",
       "\n",
       "     ApplicantIncome  CoapplicantIncome  LoanAmount  Loan_Amount_Term  \\\n",
       "0             5849.0                0.0         NaN             360.0   \n",
       "1                NaN             1508.0       128.0             360.0   \n",
       "2             3000.0                0.0        66.0             360.0   \n",
       "3             2583.0             2358.0       120.0             360.0   \n",
       "4             6000.0                0.0       141.0             360.0   \n",
       "..               ...                ...         ...               ...   \n",
       "609           2900.0                0.0        71.0             360.0   \n",
       "610           4106.0                0.0        40.0             180.0   \n",
       "611           8072.0              240.0       253.0             360.0   \n",
       "612           7583.0                0.0       187.0             360.0   \n",
       "613           4583.0                0.0       133.0             360.0   \n",
       "\n",
       "     Credit_History Property_Area Loan_Status  \n",
       "0               1.0         Urban           Y  \n",
       "1               1.0         Rural           N  \n",
       "2               1.0         Urban           Y  \n",
       "3               1.0         Urban           Y  \n",
       "4               1.0         Urban           Y  \n",
       "..              ...           ...         ...  \n",
       "609             1.0         Rural           Y  \n",
       "610             1.0         Rural           Y  \n",
       "611             1.0         Urban           Y  \n",
       "612             1.0         Urban           Y  \n",
       "613             0.0     Semiurban           N  \n",
       "\n",
       "[614 rows x 13 columns]"
      ]
     },
     "execution_count": 2,
     "metadata": {},
     "output_type": "execute_result"
    }
   ],
   "source": [
    "A"
   ]
  },
  {
   "cell_type": "markdown",
   "id": "083d88b6",
   "metadata": {},
   "source": [
    "# Missing Data Treatment"
   ]
  },
  {
   "cell_type": "code",
   "execution_count": 3,
   "id": "3df38a99",
   "metadata": {},
   "outputs": [
    {
     "data": {
      "text/plain": [
       "Loan_ID               0\n",
       "Gender               15\n",
       "Married               3\n",
       "Dependents           15\n",
       "Education             1\n",
       "Self_Employed        32\n",
       "ApplicantIncome       2\n",
       "CoapplicantIncome     1\n",
       "LoanAmount           22\n",
       "Loan_Amount_Term     14\n",
       "Credit_History       50\n",
       "Property_Area         0\n",
       "Loan_Status           0\n",
       "dtype: int64"
      ]
     },
     "execution_count": 3,
     "metadata": {},
     "output_type": "execute_result"
    }
   ],
   "source": [
    "A.isna().sum()"
   ]
  },
  {
   "cell_type": "code",
   "execution_count": 4,
   "id": "73d58dda",
   "metadata": {},
   "outputs": [
    {
     "data": {
      "text/plain": [
       "Loan_ID               0\n",
       "Gender               11\n",
       "Married               0\n",
       "Dependents           10\n",
       "Education             0\n",
       "Self_Employed        23\n",
       "ApplicantIncome       0\n",
       "CoapplicantIncome     0\n",
       "LoanAmount            5\n",
       "Loan_Amount_Term      6\n",
       "Credit_History       29\n",
       "Property_Area         0\n",
       "dtype: int64"
      ]
     },
     "execution_count": 4,
     "metadata": {},
     "output_type": "execute_result"
    }
   ],
   "source": [
    "B.isna().sum()"
   ]
  },
  {
   "cell_type": "code",
   "execution_count": 5,
   "id": "782081f2",
   "metadata": {},
   "outputs": [],
   "source": [
    "from Wd8pm import replacer\n",
    "replacer(A)\n",
    "replacer(B)"
   ]
  },
  {
   "cell_type": "code",
   "execution_count": 6,
   "id": "91f6a9c8",
   "metadata": {},
   "outputs": [
    {
     "data": {
      "text/plain": [
       "Loan_ID              0\n",
       "Gender               0\n",
       "Married              0\n",
       "Dependents           0\n",
       "Education            0\n",
       "Self_Employed        0\n",
       "ApplicantIncome      0\n",
       "CoapplicantIncome    0\n",
       "LoanAmount           0\n",
       "Loan_Amount_Term     0\n",
       "Credit_History       0\n",
       "Property_Area        0\n",
       "Loan_Status          0\n",
       "dtype: int64"
      ]
     },
     "execution_count": 6,
     "metadata": {},
     "output_type": "execute_result"
    }
   ],
   "source": [
    "A.isna().sum()\n"
   ]
  },
  {
   "cell_type": "code",
   "execution_count": 7,
   "id": "1b3ba99f",
   "metadata": {},
   "outputs": [
    {
     "data": {
      "text/plain": [
       "Loan_ID              0\n",
       "Gender               0\n",
       "Married              0\n",
       "Dependents           0\n",
       "Education            0\n",
       "Self_Employed        0\n",
       "ApplicantIncome      0\n",
       "CoapplicantIncome    0\n",
       "LoanAmount           0\n",
       "Loan_Amount_Term     0\n",
       "Credit_History       0\n",
       "Property_Area        0\n",
       "dtype: int64"
      ]
     },
     "execution_count": 7,
     "metadata": {},
     "output_type": "execute_result"
    }
   ],
   "source": [
    "B.isna().sum()"
   ]
  },
  {
   "cell_type": "markdown",
   "id": "6d05dcb7",
   "metadata": {},
   "source": [
    "# Unique values"
   ]
  },
  {
   "cell_type": "code",
   "execution_count": 8,
   "id": "36abf8c7",
   "metadata": {},
   "outputs": [
    {
     "data": {
      "text/plain": [
       "Loan_ID              614\n",
       "Gender                 2\n",
       "Married                2\n",
       "Dependents             4\n",
       "Education              2\n",
       "Self_Employed          2\n",
       "ApplicantIncome      505\n",
       "CoapplicantIncome    287\n",
       "LoanAmount           204\n",
       "Loan_Amount_Term      11\n",
       "Credit_History         3\n",
       "Property_Area          3\n",
       "Loan_Status            2\n",
       "dtype: int64"
      ]
     },
     "execution_count": 8,
     "metadata": {},
     "output_type": "execute_result"
    }
   ],
   "source": [
    "A.nunique()"
   ]
  },
  {
   "cell_type": "code",
   "execution_count": 9,
   "id": "07065223",
   "metadata": {},
   "outputs": [
    {
     "data": {
      "text/plain": [
       "Loan_ID              367\n",
       "Gender                 2\n",
       "Married                2\n",
       "Dependents             4\n",
       "Education              2\n",
       "Self_Employed          2\n",
       "ApplicantIncome      314\n",
       "CoapplicantIncome    194\n",
       "LoanAmount           145\n",
       "Loan_Amount_Term      13\n",
       "Credit_History         3\n",
       "Property_Area          3\n",
       "dtype: int64"
      ]
     },
     "execution_count": 9,
     "metadata": {},
     "output_type": "execute_result"
    }
   ],
   "source": [
    "B.nunique()"
   ]
  },
  {
   "cell_type": "code",
   "execution_count": null,
   "id": "342b150b",
   "metadata": {},
   "outputs": [],
   "source": []
  },
  {
   "cell_type": "markdown",
   "id": "89b5a15b",
   "metadata": {},
   "source": [
    "# Outliers removal"
   ]
  },
  {
   "cell_type": "markdown",
   "id": "b341de24",
   "metadata": {},
   "source": [
    "# Bivariate Analysis"
   ]
  },
  {
   "cell_type": "code",
   "execution_count": 10,
   "id": "005aad12",
   "metadata": {},
   "outputs": [],
   "source": [
    "Y= A[\"Loan_Status\"]\n",
    "X=A.drop(labels=[\"Loan_Status\",\"Loan_ID\"],axis=1)\n",
    "Xb=B.drop(labels=[\"Loan_ID\"],axis=1)"
   ]
  },
  {
   "cell_type": "markdown",
   "id": "6f70ff83",
   "metadata": {},
   "source": [
    "# Anova and chisquare"
   ]
  },
  {
   "cell_type": "markdown",
   "id": "09fdbe91",
   "metadata": {},
   "source": [
    "# Preprocessing"
   ]
  },
  {
   "cell_type": "code",
   "execution_count": 11,
   "id": "12c5ff51",
   "metadata": {},
   "outputs": [],
   "source": [
    "Ximp = X\n",
    "Xbimp=Xb"
   ]
  },
  {
   "cell_type": "code",
   "execution_count": 12,
   "id": "8817b411",
   "metadata": {},
   "outputs": [],
   "source": [
    "\n",
    "from Wd8pm import preprocessing\n",
    "Xnew =preprocessing(Ximp)\n",
    "Xnewb=preprocessing(Xbimp)"
   ]
  },
  {
   "cell_type": "code",
   "execution_count": 13,
   "id": "27ef5f06",
   "metadata": {},
   "outputs": [
    {
     "data": {
      "text/html": [
       "<div>\n",
       "<style scoped>\n",
       "    .dataframe tbody tr th:only-of-type {\n",
       "        vertical-align: middle;\n",
       "    }\n",
       "\n",
       "    .dataframe tbody tr th {\n",
       "        vertical-align: top;\n",
       "    }\n",
       "\n",
       "    .dataframe thead th {\n",
       "        text-align: right;\n",
       "    }\n",
       "</style>\n",
       "<table border=\"1\" class=\"dataframe\">\n",
       "  <thead>\n",
       "    <tr style=\"text-align: right;\">\n",
       "      <th></th>\n",
       "      <th>ApplicantIncome</th>\n",
       "      <th>CoapplicantIncome</th>\n",
       "      <th>LoanAmount</th>\n",
       "      <th>Loan_Amount_Term</th>\n",
       "      <th>Credit_History</th>\n",
       "      <th>Gender_Female</th>\n",
       "      <th>Gender_Male</th>\n",
       "      <th>Married_No</th>\n",
       "      <th>Married_Yes</th>\n",
       "      <th>Dependents_0</th>\n",
       "      <th>Dependents_1</th>\n",
       "      <th>Dependents_2</th>\n",
       "      <th>Dependents_3+</th>\n",
       "      <th>Education_Graduate</th>\n",
       "      <th>Education_Not Graduate</th>\n",
       "      <th>Self_Employed_No</th>\n",
       "      <th>Self_Employed_Yes</th>\n",
       "      <th>Property_Area_Rural</th>\n",
       "      <th>Property_Area_Semiurban</th>\n",
       "      <th>Property_Area_Urban</th>\n",
       "    </tr>\n",
       "  </thead>\n",
       "  <tbody>\n",
       "    <tr>\n",
       "      <th>0</th>\n",
       "      <td>0.072651</td>\n",
       "      <td>-0.554368</td>\n",
       "      <td>0.000000</td>\n",
       "      <td>0.279851</td>\n",
       "      <td>0.451640</td>\n",
       "      <td>0</td>\n",
       "      <td>1</td>\n",
       "      <td>1</td>\n",
       "      <td>0</td>\n",
       "      <td>1</td>\n",
       "      <td>0</td>\n",
       "      <td>0</td>\n",
       "      <td>0</td>\n",
       "      <td>1</td>\n",
       "      <td>0</td>\n",
       "      <td>1</td>\n",
       "      <td>0</td>\n",
       "      <td>0</td>\n",
       "      <td>0</td>\n",
       "      <td>1</td>\n",
       "    </tr>\n",
       "    <tr>\n",
       "      <th>1</th>\n",
       "      <td>0.000000</td>\n",
       "      <td>-0.038610</td>\n",
       "      <td>-0.219273</td>\n",
       "      <td>0.279851</td>\n",
       "      <td>0.451640</td>\n",
       "      <td>0</td>\n",
       "      <td>1</td>\n",
       "      <td>0</td>\n",
       "      <td>1</td>\n",
       "      <td>0</td>\n",
       "      <td>1</td>\n",
       "      <td>0</td>\n",
       "      <td>0</td>\n",
       "      <td>1</td>\n",
       "      <td>0</td>\n",
       "      <td>1</td>\n",
       "      <td>0</td>\n",
       "      <td>1</td>\n",
       "      <td>0</td>\n",
       "      <td>0</td>\n",
       "    </tr>\n",
       "    <tr>\n",
       "      <th>2</th>\n",
       "      <td>-0.394096</td>\n",
       "      <td>-0.554368</td>\n",
       "      <td>-0.957641</td>\n",
       "      <td>0.279851</td>\n",
       "      <td>0.451640</td>\n",
       "      <td>0</td>\n",
       "      <td>1</td>\n",
       "      <td>0</td>\n",
       "      <td>1</td>\n",
       "      <td>1</td>\n",
       "      <td>0</td>\n",
       "      <td>0</td>\n",
       "      <td>0</td>\n",
       "      <td>1</td>\n",
       "      <td>0</td>\n",
       "      <td>0</td>\n",
       "      <td>1</td>\n",
       "      <td>0</td>\n",
       "      <td>0</td>\n",
       "      <td>1</td>\n",
       "    </tr>\n",
       "    <tr>\n",
       "      <th>3</th>\n",
       "      <td>-0.462412</td>\n",
       "      <td>0.252103</td>\n",
       "      <td>-0.314547</td>\n",
       "      <td>0.279851</td>\n",
       "      <td>0.451640</td>\n",
       "      <td>0</td>\n",
       "      <td>1</td>\n",
       "      <td>0</td>\n",
       "      <td>1</td>\n",
       "      <td>1</td>\n",
       "      <td>0</td>\n",
       "      <td>0</td>\n",
       "      <td>0</td>\n",
       "      <td>0</td>\n",
       "      <td>1</td>\n",
       "      <td>1</td>\n",
       "      <td>0</td>\n",
       "      <td>0</td>\n",
       "      <td>0</td>\n",
       "      <td>1</td>\n",
       "    </tr>\n",
       "    <tr>\n",
       "      <th>4</th>\n",
       "      <td>0.097389</td>\n",
       "      <td>-0.554368</td>\n",
       "      <td>-0.064454</td>\n",
       "      <td>0.279851</td>\n",
       "      <td>0.451640</td>\n",
       "      <td>0</td>\n",
       "      <td>1</td>\n",
       "      <td>1</td>\n",
       "      <td>0</td>\n",
       "      <td>1</td>\n",
       "      <td>0</td>\n",
       "      <td>0</td>\n",
       "      <td>0</td>\n",
       "      <td>1</td>\n",
       "      <td>0</td>\n",
       "      <td>1</td>\n",
       "      <td>0</td>\n",
       "      <td>0</td>\n",
       "      <td>0</td>\n",
       "      <td>1</td>\n",
       "    </tr>\n",
       "    <tr>\n",
       "      <th>...</th>\n",
       "      <td>...</td>\n",
       "      <td>...</td>\n",
       "      <td>...</td>\n",
       "      <td>...</td>\n",
       "      <td>...</td>\n",
       "      <td>...</td>\n",
       "      <td>...</td>\n",
       "      <td>...</td>\n",
       "      <td>...</td>\n",
       "      <td>...</td>\n",
       "      <td>...</td>\n",
       "      <td>...</td>\n",
       "      <td>...</td>\n",
       "      <td>...</td>\n",
       "      <td>...</td>\n",
       "      <td>...</td>\n",
       "      <td>...</td>\n",
       "      <td>...</td>\n",
       "      <td>...</td>\n",
       "      <td>...</td>\n",
       "    </tr>\n",
       "    <tr>\n",
       "      <th>609</th>\n",
       "      <td>-0.410479</td>\n",
       "      <td>-0.554368</td>\n",
       "      <td>-0.898095</td>\n",
       "      <td>0.279851</td>\n",
       "      <td>0.451640</td>\n",
       "      <td>1</td>\n",
       "      <td>0</td>\n",
       "      <td>1</td>\n",
       "      <td>0</td>\n",
       "      <td>1</td>\n",
       "      <td>0</td>\n",
       "      <td>0</td>\n",
       "      <td>0</td>\n",
       "      <td>1</td>\n",
       "      <td>0</td>\n",
       "      <td>1</td>\n",
       "      <td>0</td>\n",
       "      <td>1</td>\n",
       "      <td>0</td>\n",
       "      <td>0</td>\n",
       "    </tr>\n",
       "    <tr>\n",
       "      <th>610</th>\n",
       "      <td>-0.212902</td>\n",
       "      <td>-0.554368</td>\n",
       "      <td>-1.267279</td>\n",
       "      <td>-2.518655</td>\n",
       "      <td>0.451640</td>\n",
       "      <td>0</td>\n",
       "      <td>1</td>\n",
       "      <td>0</td>\n",
       "      <td>1</td>\n",
       "      <td>0</td>\n",
       "      <td>0</td>\n",
       "      <td>0</td>\n",
       "      <td>1</td>\n",
       "      <td>1</td>\n",
       "      <td>0</td>\n",
       "      <td>1</td>\n",
       "      <td>0</td>\n",
       "      <td>1</td>\n",
       "      <td>0</td>\n",
       "      <td>0</td>\n",
       "    </tr>\n",
       "    <tr>\n",
       "      <th>611</th>\n",
       "      <td>0.436842</td>\n",
       "      <td>-0.472284</td>\n",
       "      <td>1.269371</td>\n",
       "      <td>0.279851</td>\n",
       "      <td>0.451640</td>\n",
       "      <td>0</td>\n",
       "      <td>1</td>\n",
       "      <td>0</td>\n",
       "      <td>1</td>\n",
       "      <td>0</td>\n",
       "      <td>1</td>\n",
       "      <td>0</td>\n",
       "      <td>0</td>\n",
       "      <td>1</td>\n",
       "      <td>0</td>\n",
       "      <td>1</td>\n",
       "      <td>0</td>\n",
       "      <td>0</td>\n",
       "      <td>0</td>\n",
       "      <td>1</td>\n",
       "    </tr>\n",
       "    <tr>\n",
       "      <th>612</th>\n",
       "      <td>0.356730</td>\n",
       "      <td>-0.554368</td>\n",
       "      <td>0.483367</td>\n",
       "      <td>0.279851</td>\n",
       "      <td>0.451640</td>\n",
       "      <td>0</td>\n",
       "      <td>1</td>\n",
       "      <td>0</td>\n",
       "      <td>1</td>\n",
       "      <td>0</td>\n",
       "      <td>0</td>\n",
       "      <td>1</td>\n",
       "      <td>0</td>\n",
       "      <td>1</td>\n",
       "      <td>0</td>\n",
       "      <td>1</td>\n",
       "      <td>0</td>\n",
       "      <td>0</td>\n",
       "      <td>0</td>\n",
       "      <td>1</td>\n",
       "    </tr>\n",
       "    <tr>\n",
       "      <th>613</th>\n",
       "      <td>-0.134756</td>\n",
       "      <td>-0.554368</td>\n",
       "      <td>-0.159728</td>\n",
       "      <td>0.279851</td>\n",
       "      <td>-2.410441</td>\n",
       "      <td>1</td>\n",
       "      <td>0</td>\n",
       "      <td>1</td>\n",
       "      <td>0</td>\n",
       "      <td>1</td>\n",
       "      <td>0</td>\n",
       "      <td>0</td>\n",
       "      <td>0</td>\n",
       "      <td>1</td>\n",
       "      <td>0</td>\n",
       "      <td>0</td>\n",
       "      <td>1</td>\n",
       "      <td>0</td>\n",
       "      <td>1</td>\n",
       "      <td>0</td>\n",
       "    </tr>\n",
       "  </tbody>\n",
       "</table>\n",
       "<p>614 rows × 20 columns</p>\n",
       "</div>"
      ],
      "text/plain": [
       "     ApplicantIncome  CoapplicantIncome  LoanAmount  Loan_Amount_Term  \\\n",
       "0           0.072651          -0.554368    0.000000          0.279851   \n",
       "1           0.000000          -0.038610   -0.219273          0.279851   \n",
       "2          -0.394096          -0.554368   -0.957641          0.279851   \n",
       "3          -0.462412           0.252103   -0.314547          0.279851   \n",
       "4           0.097389          -0.554368   -0.064454          0.279851   \n",
       "..               ...                ...         ...               ...   \n",
       "609        -0.410479          -0.554368   -0.898095          0.279851   \n",
       "610        -0.212902          -0.554368   -1.267279         -2.518655   \n",
       "611         0.436842          -0.472284    1.269371          0.279851   \n",
       "612         0.356730          -0.554368    0.483367          0.279851   \n",
       "613        -0.134756          -0.554368   -0.159728          0.279851   \n",
       "\n",
       "     Credit_History  Gender_Female  Gender_Male  Married_No  Married_Yes  \\\n",
       "0          0.451640              0            1           1            0   \n",
       "1          0.451640              0            1           0            1   \n",
       "2          0.451640              0            1           0            1   \n",
       "3          0.451640              0            1           0            1   \n",
       "4          0.451640              0            1           1            0   \n",
       "..              ...            ...          ...         ...          ...   \n",
       "609        0.451640              1            0           1            0   \n",
       "610        0.451640              0            1           0            1   \n",
       "611        0.451640              0            1           0            1   \n",
       "612        0.451640              0            1           0            1   \n",
       "613       -2.410441              1            0           1            0   \n",
       "\n",
       "     Dependents_0  Dependents_1  Dependents_2  Dependents_3+  \\\n",
       "0               1             0             0              0   \n",
       "1               0             1             0              0   \n",
       "2               1             0             0              0   \n",
       "3               1             0             0              0   \n",
       "4               1             0             0              0   \n",
       "..            ...           ...           ...            ...   \n",
       "609             1             0             0              0   \n",
       "610             0             0             0              1   \n",
       "611             0             1             0              0   \n",
       "612             0             0             1              0   \n",
       "613             1             0             0              0   \n",
       "\n",
       "     Education_Graduate  Education_Not Graduate  Self_Employed_No  \\\n",
       "0                     1                       0                 1   \n",
       "1                     1                       0                 1   \n",
       "2                     1                       0                 0   \n",
       "3                     0                       1                 1   \n",
       "4                     1                       0                 1   \n",
       "..                  ...                     ...               ...   \n",
       "609                   1                       0                 1   \n",
       "610                   1                       0                 1   \n",
       "611                   1                       0                 1   \n",
       "612                   1                       0                 1   \n",
       "613                   1                       0                 0   \n",
       "\n",
       "     Self_Employed_Yes  Property_Area_Rural  Property_Area_Semiurban  \\\n",
       "0                    0                    0                        0   \n",
       "1                    0                    1                        0   \n",
       "2                    1                    0                        0   \n",
       "3                    0                    0                        0   \n",
       "4                    0                    0                        0   \n",
       "..                 ...                  ...                      ...   \n",
       "609                  0                    1                        0   \n",
       "610                  0                    1                        0   \n",
       "611                  0                    0                        0   \n",
       "612                  0                    0                        0   \n",
       "613                  1                    0                        1   \n",
       "\n",
       "     Property_Area_Urban  \n",
       "0                      1  \n",
       "1                      0  \n",
       "2                      1  \n",
       "3                      1  \n",
       "4                      1  \n",
       "..                   ...  \n",
       "609                    0  \n",
       "610                    0  \n",
       "611                    1  \n",
       "612                    1  \n",
       "613                    0  \n",
       "\n",
       "[614 rows x 20 columns]"
      ]
     },
     "execution_count": 13,
     "metadata": {},
     "output_type": "execute_result"
    }
   ],
   "source": [
    "Xnew"
   ]
  },
  {
   "cell_type": "code",
   "execution_count": 14,
   "id": "ef8593d1",
   "metadata": {},
   "outputs": [
    {
     "data": {
      "text/html": [
       "<div>\n",
       "<style scoped>\n",
       "    .dataframe tbody tr th:only-of-type {\n",
       "        vertical-align: middle;\n",
       "    }\n",
       "\n",
       "    .dataframe tbody tr th {\n",
       "        vertical-align: top;\n",
       "    }\n",
       "\n",
       "    .dataframe thead th {\n",
       "        text-align: right;\n",
       "    }\n",
       "</style>\n",
       "<table border=\"1\" class=\"dataframe\">\n",
       "  <thead>\n",
       "    <tr style=\"text-align: right;\">\n",
       "      <th></th>\n",
       "      <th>ApplicantIncome</th>\n",
       "      <th>CoapplicantIncome</th>\n",
       "      <th>LoanAmount</th>\n",
       "      <th>Loan_Amount_Term</th>\n",
       "      <th>Credit_History</th>\n",
       "      <th>Gender_Female</th>\n",
       "      <th>Gender_Male</th>\n",
       "      <th>Married_No</th>\n",
       "      <th>Married_Yes</th>\n",
       "      <th>Dependents_0</th>\n",
       "      <th>Dependents_1</th>\n",
       "      <th>Dependents_2</th>\n",
       "      <th>Dependents_3+</th>\n",
       "      <th>Education_Graduate</th>\n",
       "      <th>Education_Not Graduate</th>\n",
       "      <th>Self_Employed_No</th>\n",
       "      <th>Self_Employed_Yes</th>\n",
       "      <th>Property_Area_Rural</th>\n",
       "      <th>Property_Area_Semiurban</th>\n",
       "      <th>Property_Area_Urban</th>\n",
       "    </tr>\n",
       "  </thead>\n",
       "  <tbody>\n",
       "    <tr>\n",
       "      <th>0</th>\n",
       "      <td>0.186461</td>\n",
       "      <td>-0.673335</td>\n",
       "      <td>-0.429368</td>\n",
       "      <td>0.270603</td>\n",
       "      <td>0.47918</td>\n",
       "      <td>0</td>\n",
       "      <td>1</td>\n",
       "      <td>0</td>\n",
       "      <td>1</td>\n",
       "      <td>1</td>\n",
       "      <td>0</td>\n",
       "      <td>0</td>\n",
       "      <td>0</td>\n",
       "      <td>1</td>\n",
       "      <td>0</td>\n",
       "      <td>1</td>\n",
       "      <td>0</td>\n",
       "      <td>0</td>\n",
       "      <td>0</td>\n",
       "      <td>1</td>\n",
       "    </tr>\n",
       "    <tr>\n",
       "      <th>1</th>\n",
       "      <td>-0.352692</td>\n",
       "      <td>-0.029848</td>\n",
       "      <td>-0.166482</td>\n",
       "      <td>0.270603</td>\n",
       "      <td>0.47918</td>\n",
       "      <td>0</td>\n",
       "      <td>1</td>\n",
       "      <td>0</td>\n",
       "      <td>1</td>\n",
       "      <td>0</td>\n",
       "      <td>1</td>\n",
       "      <td>0</td>\n",
       "      <td>0</td>\n",
       "      <td>1</td>\n",
       "      <td>0</td>\n",
       "      <td>1</td>\n",
       "      <td>0</td>\n",
       "      <td>0</td>\n",
       "      <td>0</td>\n",
       "      <td>1</td>\n",
       "    </tr>\n",
       "    <tr>\n",
       "      <th>2</th>\n",
       "      <td>0.039641</td>\n",
       "      <td>0.098849</td>\n",
       "      <td>1.180807</td>\n",
       "      <td>0.270603</td>\n",
       "      <td>0.47918</td>\n",
       "      <td>0</td>\n",
       "      <td>1</td>\n",
       "      <td>0</td>\n",
       "      <td>1</td>\n",
       "      <td>0</td>\n",
       "      <td>0</td>\n",
       "      <td>1</td>\n",
       "      <td>0</td>\n",
       "      <td>1</td>\n",
       "      <td>0</td>\n",
       "      <td>1</td>\n",
       "      <td>0</td>\n",
       "      <td>0</td>\n",
       "      <td>0</td>\n",
       "      <td>1</td>\n",
       "    </tr>\n",
       "    <tr>\n",
       "      <th>3</th>\n",
       "      <td>-0.502774</td>\n",
       "      <td>0.418877</td>\n",
       "      <td>-0.593671</td>\n",
       "      <td>0.270603</td>\n",
       "      <td>0.00000</td>\n",
       "      <td>0</td>\n",
       "      <td>1</td>\n",
       "      <td>0</td>\n",
       "      <td>1</td>\n",
       "      <td>0</td>\n",
       "      <td>0</td>\n",
       "      <td>1</td>\n",
       "      <td>0</td>\n",
       "      <td>1</td>\n",
       "      <td>0</td>\n",
       "      <td>1</td>\n",
       "      <td>0</td>\n",
       "      <td>0</td>\n",
       "      <td>0</td>\n",
       "      <td>1</td>\n",
       "    </tr>\n",
       "    <tr>\n",
       "      <th>4</th>\n",
       "      <td>-0.311909</td>\n",
       "      <td>-0.673335</td>\n",
       "      <td>-0.955139</td>\n",
       "      <td>0.270603</td>\n",
       "      <td>0.47918</td>\n",
       "      <td>0</td>\n",
       "      <td>1</td>\n",
       "      <td>1</td>\n",
       "      <td>0</td>\n",
       "      <td>1</td>\n",
       "      <td>0</td>\n",
       "      <td>0</td>\n",
       "      <td>0</td>\n",
       "      <td>0</td>\n",
       "      <td>1</td>\n",
       "      <td>1</td>\n",
       "      <td>0</td>\n",
       "      <td>0</td>\n",
       "      <td>0</td>\n",
       "      <td>1</td>\n",
       "    </tr>\n",
       "    <tr>\n",
       "      <th>...</th>\n",
       "      <td>...</td>\n",
       "      <td>...</td>\n",
       "      <td>...</td>\n",
       "      <td>...</td>\n",
       "      <td>...</td>\n",
       "      <td>...</td>\n",
       "      <td>...</td>\n",
       "      <td>...</td>\n",
       "      <td>...</td>\n",
       "      <td>...</td>\n",
       "      <td>...</td>\n",
       "      <td>...</td>\n",
       "      <td>...</td>\n",
       "      <td>...</td>\n",
       "      <td>...</td>\n",
       "      <td>...</td>\n",
       "      <td>...</td>\n",
       "      <td>...</td>\n",
       "      <td>...</td>\n",
       "      <td>...</td>\n",
       "    </tr>\n",
       "    <tr>\n",
       "      <th>362</th>\n",
       "      <td>-0.162439</td>\n",
       "      <td>0.088982</td>\n",
       "      <td>-0.380077</td>\n",
       "      <td>0.270603</td>\n",
       "      <td>0.47918</td>\n",
       "      <td>0</td>\n",
       "      <td>1</td>\n",
       "      <td>0</td>\n",
       "      <td>1</td>\n",
       "      <td>0</td>\n",
       "      <td>0</td>\n",
       "      <td>0</td>\n",
       "      <td>1</td>\n",
       "      <td>0</td>\n",
       "      <td>1</td>\n",
       "      <td>0</td>\n",
       "      <td>1</td>\n",
       "      <td>0</td>\n",
       "      <td>0</td>\n",
       "      <td>1</td>\n",
       "    </tr>\n",
       "    <tr>\n",
       "      <th>363</th>\n",
       "      <td>-0.132056</td>\n",
       "      <td>-0.369180</td>\n",
       "      <td>-0.347216</td>\n",
       "      <td>0.270603</td>\n",
       "      <td>0.47918</td>\n",
       "      <td>0</td>\n",
       "      <td>1</td>\n",
       "      <td>0</td>\n",
       "      <td>1</td>\n",
       "      <td>1</td>\n",
       "      <td>0</td>\n",
       "      <td>0</td>\n",
       "      <td>0</td>\n",
       "      <td>1</td>\n",
       "      <td>0</td>\n",
       "      <td>1</td>\n",
       "      <td>0</td>\n",
       "      <td>0</td>\n",
       "      <td>0</td>\n",
       "      <td>1</td>\n",
       "    </tr>\n",
       "    <tr>\n",
       "      <th>364</th>\n",
       "      <td>-0.317211</td>\n",
       "      <td>0.181644</td>\n",
       "      <td>-0.166482</td>\n",
       "      <td>0.270603</td>\n",
       "      <td>0.00000</td>\n",
       "      <td>0</td>\n",
       "      <td>1</td>\n",
       "      <td>1</td>\n",
       "      <td>0</td>\n",
       "      <td>1</td>\n",
       "      <td>0</td>\n",
       "      <td>0</td>\n",
       "      <td>0</td>\n",
       "      <td>1</td>\n",
       "      <td>0</td>\n",
       "      <td>1</td>\n",
       "      <td>0</td>\n",
       "      <td>0</td>\n",
       "      <td>1</td>\n",
       "      <td>0</td>\n",
       "    </tr>\n",
       "    <tr>\n",
       "      <th>365</th>\n",
       "      <td>0.039641</td>\n",
       "      <td>0.353241</td>\n",
       "      <td>0.359289</td>\n",
       "      <td>0.270603</td>\n",
       "      <td>0.47918</td>\n",
       "      <td>0</td>\n",
       "      <td>1</td>\n",
       "      <td>0</td>\n",
       "      <td>1</td>\n",
       "      <td>1</td>\n",
       "      <td>0</td>\n",
       "      <td>0</td>\n",
       "      <td>0</td>\n",
       "      <td>1</td>\n",
       "      <td>0</td>\n",
       "      <td>1</td>\n",
       "      <td>0</td>\n",
       "      <td>1</td>\n",
       "      <td>0</td>\n",
       "      <td>0</td>\n",
       "    </tr>\n",
       "    <tr>\n",
       "      <th>366</th>\n",
       "      <td>0.896087</td>\n",
       "      <td>-0.673335</td>\n",
       "      <td>-0.626532</td>\n",
       "      <td>-2.518700</td>\n",
       "      <td>0.47918</td>\n",
       "      <td>0</td>\n",
       "      <td>1</td>\n",
       "      <td>1</td>\n",
       "      <td>0</td>\n",
       "      <td>1</td>\n",
       "      <td>0</td>\n",
       "      <td>0</td>\n",
       "      <td>0</td>\n",
       "      <td>1</td>\n",
       "      <td>0</td>\n",
       "      <td>0</td>\n",
       "      <td>1</td>\n",
       "      <td>1</td>\n",
       "      <td>0</td>\n",
       "      <td>0</td>\n",
       "    </tr>\n",
       "  </tbody>\n",
       "</table>\n",
       "<p>367 rows × 20 columns</p>\n",
       "</div>"
      ],
      "text/plain": [
       "     ApplicantIncome  CoapplicantIncome  LoanAmount  Loan_Amount_Term  \\\n",
       "0           0.186461          -0.673335   -0.429368          0.270603   \n",
       "1          -0.352692          -0.029848   -0.166482          0.270603   \n",
       "2           0.039641           0.098849    1.180807          0.270603   \n",
       "3          -0.502774           0.418877   -0.593671          0.270603   \n",
       "4          -0.311909          -0.673335   -0.955139          0.270603   \n",
       "..               ...                ...         ...               ...   \n",
       "362        -0.162439           0.088982   -0.380077          0.270603   \n",
       "363        -0.132056          -0.369180   -0.347216          0.270603   \n",
       "364        -0.317211           0.181644   -0.166482          0.270603   \n",
       "365         0.039641           0.353241    0.359289          0.270603   \n",
       "366         0.896087          -0.673335   -0.626532         -2.518700   \n",
       "\n",
       "     Credit_History  Gender_Female  Gender_Male  Married_No  Married_Yes  \\\n",
       "0           0.47918              0            1           0            1   \n",
       "1           0.47918              0            1           0            1   \n",
       "2           0.47918              0            1           0            1   \n",
       "3           0.00000              0            1           0            1   \n",
       "4           0.47918              0            1           1            0   \n",
       "..              ...            ...          ...         ...          ...   \n",
       "362         0.47918              0            1           0            1   \n",
       "363         0.47918              0            1           0            1   \n",
       "364         0.00000              0            1           1            0   \n",
       "365         0.47918              0            1           0            1   \n",
       "366         0.47918              0            1           1            0   \n",
       "\n",
       "     Dependents_0  Dependents_1  Dependents_2  Dependents_3+  \\\n",
       "0               1             0             0              0   \n",
       "1               0             1             0              0   \n",
       "2               0             0             1              0   \n",
       "3               0             0             1              0   \n",
       "4               1             0             0              0   \n",
       "..            ...           ...           ...            ...   \n",
       "362             0             0             0              1   \n",
       "363             1             0             0              0   \n",
       "364             1             0             0              0   \n",
       "365             1             0             0              0   \n",
       "366             1             0             0              0   \n",
       "\n",
       "     Education_Graduate  Education_Not Graduate  Self_Employed_No  \\\n",
       "0                     1                       0                 1   \n",
       "1                     1                       0                 1   \n",
       "2                     1                       0                 1   \n",
       "3                     1                       0                 1   \n",
       "4                     0                       1                 1   \n",
       "..                  ...                     ...               ...   \n",
       "362                   0                       1                 0   \n",
       "363                   1                       0                 1   \n",
       "364                   1                       0                 1   \n",
       "365                   1                       0                 1   \n",
       "366                   1                       0                 0   \n",
       "\n",
       "     Self_Employed_Yes  Property_Area_Rural  Property_Area_Semiurban  \\\n",
       "0                    0                    0                        0   \n",
       "1                    0                    0                        0   \n",
       "2                    0                    0                        0   \n",
       "3                    0                    0                        0   \n",
       "4                    0                    0                        0   \n",
       "..                 ...                  ...                      ...   \n",
       "362                  1                    0                        0   \n",
       "363                  0                    0                        0   \n",
       "364                  0                    0                        1   \n",
       "365                  0                    1                        0   \n",
       "366                  1                    1                        0   \n",
       "\n",
       "     Property_Area_Urban  \n",
       "0                      1  \n",
       "1                      1  \n",
       "2                      1  \n",
       "3                      1  \n",
       "4                      1  \n",
       "..                   ...  \n",
       "362                    1  \n",
       "363                    1  \n",
       "364                    0  \n",
       "365                    0  \n",
       "366                    0  \n",
       "\n",
       "[367 rows x 20 columns]"
      ]
     },
     "execution_count": 14,
     "metadata": {},
     "output_type": "execute_result"
    }
   ],
   "source": [
    "Xnewb"
   ]
  },
  {
   "cell_type": "markdown",
   "id": "54fce7d4",
   "metadata": {},
   "source": [
    "# Splitting"
   ]
  },
  {
   "cell_type": "code",
   "execution_count": 15,
   "id": "53910a5b",
   "metadata": {},
   "outputs": [],
   "source": [
    "from sklearn.model_selection import train_test_split\n",
    "xtrain,xtest,ytrain,ytest=train_test_split(Xnew,Y,test_size=0.2,random_state=21)"
   ]
  },
  {
   "cell_type": "markdown",
   "id": "17c07d03",
   "metadata": {},
   "source": [
    "# Model1  Logistic Regression"
   ]
  },
  {
   "cell_type": "code",
   "execution_count": 16,
   "id": "47bd6cd4",
   "metadata": {},
   "outputs": [],
   "source": [
    "from sklearn.linear_model import LogisticRegression\n",
    "lr=LogisticRegression()\n",
    "model=lr.fit(xtrain,ytrain)"
   ]
  },
  {
   "cell_type": "markdown",
   "id": "087e02d2",
   "metadata": {},
   "source": [
    "# Prediction"
   ]
  },
  {
   "cell_type": "code",
   "execution_count": 17,
   "id": "e05e9fcf",
   "metadata": {},
   "outputs": [],
   "source": [
    "tr_pred= model.predict(xtrain)\n",
    "ts_pred=model.predict(xtest)\n"
   ]
  },
  {
   "cell_type": "markdown",
   "id": "2cce1c03",
   "metadata": {},
   "source": [
    "# Accuracy"
   ]
  },
  {
   "cell_type": "code",
   "execution_count": 18,
   "id": "8fe487e2",
   "metadata": {},
   "outputs": [
    {
     "data": {
      "text/plain": [
       "(0.814663951120163, 0.8130081300813008)"
      ]
     },
     "execution_count": 18,
     "metadata": {},
     "output_type": "execute_result"
    }
   ],
   "source": [
    "from sklearn.metrics import accuracy_score,confusion_matrix\n",
    "accuracy_score(ytrain,tr_pred) ,accuracy_score(ytest,ts_pred)"
   ]
  },
  {
   "cell_type": "code",
   "execution_count": 19,
   "id": "f019704c",
   "metadata": {},
   "outputs": [
    {
     "data": {
      "text/plain": [
       "array([[ 67,  87],\n",
       "       [  4, 333]], dtype=int64)"
      ]
     },
     "execution_count": 19,
     "metadata": {},
     "output_type": "execute_result"
    }
   ],
   "source": [
    "from sklearn.metrics import confusion_matrix,recall_score\n",
    "confusion_matrix(ytrain,tr_pred)"
   ]
  },
  {
   "cell_type": "code",
   "execution_count": 20,
   "id": "23e97fe4",
   "metadata": {},
   "outputs": [
    {
     "data": {
      "text/plain": [
       "array([[20, 18],\n",
       "       [ 5, 80]], dtype=int64)"
      ]
     },
     "execution_count": 20,
     "metadata": {},
     "output_type": "execute_result"
    }
   ],
   "source": [
    "confusion_matrix(ytest,ts_pred)"
   ]
  },
  {
   "cell_type": "markdown",
   "id": "f69454cb",
   "metadata": {},
   "source": [
    "# Model 2 KNN classification"
   ]
  },
  {
   "cell_type": "code",
   "execution_count": 21,
   "id": "08e73f35",
   "metadata": {},
   "outputs": [
    {
     "data": {
      "text/plain": [
       "(0.8309572301425662, 0.7886178861788617)"
      ]
     },
     "execution_count": 21,
     "metadata": {},
     "output_type": "execute_result"
    }
   ],
   "source": [
    "from sklearn.neighbors import KNeighborsClassifier\n",
    "knc = KNeighborsClassifier(n_neighbors=5)\n",
    "\n",
    "model = knc.fit(xtrain,ytrain)\n",
    "tr_pred = model.predict(xtrain)\n",
    "ts_pred = model.predict(xtest)\n",
    "from sklearn.metrics import accuracy_score\n",
    "tr_acc = accuracy_score(ytrain,tr_pred)\n",
    "ts_acc = accuracy_score(ytest,ts_pred)\n",
    "tr_acc,ts_acc"
   ]
  },
  {
   "cell_type": "code",
   "execution_count": 22,
   "id": "234e2992",
   "metadata": {},
   "outputs": [
    {
     "data": {
      "text/plain": [
       "array([[ 79,  75],\n",
       "       [  8, 329]], dtype=int64)"
      ]
     },
     "execution_count": 22,
     "metadata": {},
     "output_type": "execute_result"
    }
   ],
   "source": [
    "from sklearn.metrics import confusion_matrix\n",
    "confusion_matrix(ytrain,tr_pred)"
   ]
  },
  {
   "cell_type": "raw",
   "id": "3dafde70",
   "metadata": {},
   "source": [
    "false positive is more"
   ]
  },
  {
   "cell_type": "markdown",
   "id": "4e38274f",
   "metadata": {},
   "source": [
    "# Gridsearch CV"
   ]
  },
  {
   "cell_type": "code",
   "execution_count": 23,
   "id": "ab015886",
   "metadata": {},
   "outputs": [
    {
     "data": {
      "text/plain": [
       "{'n_neighbors': 9}"
      ]
     },
     "execution_count": 23,
     "metadata": {},
     "output_type": "execute_result"
    }
   ],
   "source": [
    "tg = {\"n_neighbors\":range(2,10,1)}\n",
    "knc = KNeighborsClassifier()\n",
    "\n",
    "from sklearn.model_selection import GridSearchCV\n",
    "cv = GridSearchCV(knc,tg,scoring = \"accuracy\",cv=4)\n",
    "cvmodel = cv.fit(Xnew,Y)\n",
    "cvmodel.best_params_"
   ]
  },
  {
   "cell_type": "code",
   "execution_count": 24,
   "id": "dc307b17",
   "metadata": {},
   "outputs": [
    {
     "data": {
      "text/plain": [
       "(0.8167006109979633, 0.8048780487804879)"
      ]
     },
     "execution_count": 24,
     "metadata": {},
     "output_type": "execute_result"
    }
   ],
   "source": [
    "from sklearn.neighbors import KNeighborsClassifier\n",
    "knc = KNeighborsClassifier(n_neighbors=9)\n",
    "\n",
    "model = knc.fit(xtrain,ytrain)\n",
    "tr_pred = model.predict(xtrain)\n",
    "ts_pred = model.predict(xtest)\n",
    "from sklearn.metrics import accuracy_score\n",
    "tr_acc = accuracy_score(ytrain,tr_pred)\n",
    "ts_acc = accuracy_score(ytest,ts_pred)\n",
    "tr_acc,ts_acc"
   ]
  },
  {
   "cell_type": "code",
   "execution_count": 25,
   "id": "e1520ed4",
   "metadata": {},
   "outputs": [
    {
     "data": {
      "text/plain": [
       "array([[ 68,  86],\n",
       "       [  4, 333]], dtype=int64)"
      ]
     },
     "execution_count": 25,
     "metadata": {},
     "output_type": "execute_result"
    }
   ],
   "source": [
    "from sklearn.metrics import confusion_matrix\n",
    "confusion_matrix(ytrain,tr_pred)"
   ]
  },
  {
   "cell_type": "raw",
   "id": "80828330",
   "metadata": {},
   "source": [
    "false positive is more"
   ]
  },
  {
   "cell_type": "markdown",
   "id": "7e434a25",
   "metadata": {},
   "source": [
    "# Model3 Desicion Tree classifier"
   ]
  },
  {
   "cell_type": "code",
   "execution_count": 26,
   "id": "9135757f",
   "metadata": {},
   "outputs": [],
   "source": [
    "from sklearn.tree import DecisionTreeClassifier\n",
    "dtc=DecisionTreeClassifier(criterion=\"entropy\",random_state=21)\n",
    "model=dtc.fit(xtrain,ytrain)\n",
    "tr_pred=dtc.predict(xtrain)\n",
    "ts_pred=dtc.predict(xtest)"
   ]
  },
  {
   "cell_type": "code",
   "execution_count": 27,
   "id": "bc5795ae",
   "metadata": {},
   "outputs": [
    {
     "data": {
      "text/plain": [
       "(1.0, 0.7235772357723578)"
      ]
     },
     "execution_count": 27,
     "metadata": {},
     "output_type": "execute_result"
    }
   ],
   "source": [
    "tr_acc = accuracy_score(ytrain,tr_pred)\n",
    "ts_acc = accuracy_score(ytest,ts_pred)\n",
    "tr_acc,ts_acc"
   ]
  },
  {
   "cell_type": "markdown",
   "id": "4879880e",
   "metadata": {},
   "source": [
    "# Pruning"
   ]
  },
  {
   "cell_type": "code",
   "execution_count": 28,
   "id": "9ce10cbf",
   "metadata": {},
   "outputs": [
    {
     "data": {
      "text/plain": [
       "{'criterion': 'entropy', 'max_depth': 2}"
      ]
     },
     "execution_count": 28,
     "metadata": {},
     "output_type": "execute_result"
    }
   ],
   "source": [
    "from sklearn.model_selection import GridSearchCV\n",
    "\n",
    "tg = {\"criterion\":[\"entropy\",\"gini\"],\"max_depth\":range(2,15,1)}\n",
    "dtc = DecisionTreeClassifier(random_state=21)\n",
    "cv = GridSearchCV(dtc,tg,scoring=\"accuracy\",cv=4)\n",
    "cvmodel = cv.fit(Xnew,Y)\n",
    "cvmodel.best_params_"
   ]
  },
  {
   "cell_type": "code",
   "execution_count": 29,
   "id": "b403a5d7",
   "metadata": {},
   "outputs": [
    {
     "data": {
      "text/plain": [
       "{'criterion': 'entropy', 'min_samples_leaf': 12}"
      ]
     },
     "execution_count": 29,
     "metadata": {},
     "output_type": "execute_result"
    }
   ],
   "source": [
    "from sklearn.model_selection import GridSearchCV\n",
    "\n",
    "tg = {\"criterion\":[\"entropy\",\"gini\"],\"min_samples_leaf\":range(2,15,1)}\n",
    "dtc = DecisionTreeClassifier(random_state=21)\n",
    "cv = GridSearchCV(dtc,tg,scoring=\"accuracy\",cv=4)\n",
    "cvmodel = cv.fit(Xnew,Y)\n",
    "cvmodel.best_params_"
   ]
  },
  {
   "cell_type": "code",
   "execution_count": 30,
   "id": "30425fcc",
   "metadata": {},
   "outputs": [
    {
     "data": {
      "text/plain": [
       "{'criterion': 'entropy', 'min_samples_split': 12}"
      ]
     },
     "execution_count": 30,
     "metadata": {},
     "output_type": "execute_result"
    }
   ],
   "source": [
    "from sklearn.model_selection import GridSearchCV\n",
    "\n",
    "tg = {\"criterion\":[\"entropy\",\"gini\"],\"min_samples_split\":range(2,15,1)}\n",
    "dtc = DecisionTreeClassifier(random_state=21)\n",
    "cv = GridSearchCV(dtc,tg,scoring=\"accuracy\",cv=4)\n",
    "cvmodel = cv.fit(Xnew,Y)\n",
    "cvmodel.best_params_"
   ]
  },
  {
   "cell_type": "markdown",
   "id": "7f6fa1f7",
   "metadata": {},
   "source": [
    "# Finding accuracy based on best parameters obtained for max_depth ,min_samples_split,min_samples_leaf"
   ]
  },
  {
   "cell_type": "code",
   "execution_count": 31,
   "id": "7e9f8629",
   "metadata": {},
   "outputs": [
    {
     "data": {
      "text/plain": [
       "(0.9022403258655805, 0.6747967479674797)"
      ]
     },
     "execution_count": 31,
     "metadata": {},
     "output_type": "execute_result"
    }
   ],
   "source": [
    "dtc = DecisionTreeClassifier(min_samples_split=13)\n",
    "model1 = dtc.fit(xtrain,ytrain)\n",
    "tr_pred = model1.predict(xtrain)\n",
    "ts_pred = model1.predict(xtest)\n",
    "from sklearn.metrics import accuracy_score\n",
    "tr_err = accuracy_score(ytrain,tr_pred)\n",
    "ts_err  = accuracy_score(ytest,ts_pred)\n",
    "tr_err,ts_err"
   ]
  },
  {
   "cell_type": "code",
   "execution_count": 32,
   "id": "134db791",
   "metadata": {},
   "outputs": [
    {
     "data": {
      "text/plain": [
       "(0.8309572301425662, 0.7723577235772358)"
      ]
     },
     "execution_count": 32,
     "metadata": {},
     "output_type": "execute_result"
    }
   ],
   "source": [
    "dtc = DecisionTreeClassifier(min_samples_leaf=13)\n",
    "model2 = dtc.fit(xtrain,ytrain)\n",
    "tr_pred = model2.predict(xtrain)\n",
    "ts_pred = model2.predict(xtest)\n",
    "from sklearn.metrics import accuracy_score\n",
    "tr_err = accuracy_score(ytrain,tr_pred)\n",
    "ts_err  = accuracy_score(ytest,ts_pred)\n",
    "tr_err,ts_err"
   ]
  },
  {
   "cell_type": "code",
   "execution_count": 33,
   "id": "aa8117a2",
   "metadata": {},
   "outputs": [
    {
     "data": {
      "text/plain": [
       "(0.814663951120163, 0.8211382113821138)"
      ]
     },
     "execution_count": 33,
     "metadata": {},
     "output_type": "execute_result"
    }
   ],
   "source": [
    "dtc = DecisionTreeClassifier(max_depth=2)\n",
    "model3 = dtc.fit(xtrain,ytrain)\n",
    "tr_pred = model3.predict(xtrain)\n",
    "ts_pred = model3.predict(xtest)\n",
    "from sklearn.metrics import accuracy_score\n",
    "tr_err = accuracy_score(ytrain,tr_pred)\n",
    "ts_err  = accuracy_score(ytest,ts_pred)\n",
    "tr_err,ts_err"
   ]
  },
  {
   "cell_type": "markdown",
   "id": "76ec0d59",
   "metadata": {},
   "source": [
    "# Model 4 Random Forest "
   ]
  },
  {
   "cell_type": "code",
   "execution_count": 34,
   "id": "2da9c2c8",
   "metadata": {},
   "outputs": [
    {
     "data": {
      "text/plain": [
       "(1.0, 0.7804878048780488)"
      ]
     },
     "execution_count": 34,
     "metadata": {},
     "output_type": "execute_result"
    }
   ],
   "source": [
    "from sklearn.ensemble import RandomForestClassifier\n",
    "rfr = RandomForestClassifier(random_state=21)\n",
    "model = rfr.fit(xtrain,ytrain)\n",
    "tr_pred = model.predict(xtrain)\n",
    "ts_pred = model.predict(xtest)\n",
    "from sklearn.metrics import accuracy_score\n",
    "tr_acc = accuracy_score(ytrain,tr_pred)\n",
    "ts_acc  = accuracy_score(ytest,ts_pred)\n",
    "\n",
    "tr_acc,ts_acc"
   ]
  },
  {
   "cell_type": "markdown",
   "id": "548ec49b",
   "metadata": {},
   "source": [
    "# Model 5 Adaboost"
   ]
  },
  {
   "cell_type": "code",
   "execution_count": 35,
   "id": "c3bc4f92",
   "metadata": {},
   "outputs": [
    {
     "data": {
      "text/plain": [
       "(1.0, 0.6504065040650406)"
      ]
     },
     "execution_count": 35,
     "metadata": {},
     "output_type": "execute_result"
    }
   ],
   "source": [
    "from sklearn.ensemble import AdaBoostClassifier\n",
    "from sklearn.tree import DecisionTreeClassifier\n",
    "\n",
    "dtc = DecisionTreeClassifier(random_state=21,max_depth=2)\n",
    "abc = AdaBoostClassifier(dtc,n_estimators=100)\n",
    "\n",
    "model = abc.fit(xtrain,ytrain)\n",
    "tr_pred = model.predict(xtrain)\n",
    "ts_pred = model.predict(xtest)\n",
    "from sklearn.metrics import accuracy_score\n",
    "tr_acc = accuracy_score(ytrain,tr_pred)\n",
    "ts_acc  = accuracy_score(ytest,ts_pred)\n",
    "\n",
    "tr_acc,ts_acc"
   ]
  },
  {
   "cell_type": "code",
   "execution_count": 36,
   "id": "129a7c82",
   "metadata": {},
   "outputs": [
    {
     "data": {
      "text/plain": [
       "{'n_estimators': 2}"
      ]
     },
     "execution_count": 36,
     "metadata": {},
     "output_type": "execute_result"
    }
   ],
   "source": [
    "tg = {\"n_estimators\":range(2,30,10)}\n",
    "\n",
    "dtc = DecisionTreeClassifier(random_state=21,max_depth=2)\n",
    "abc = AdaBoostClassifier(dtc)\n",
    "\n",
    "from sklearn.model_selection import GridSearchCV\n",
    "cv = GridSearchCV(abc,tg,scoring = \"accuracy\",cv=4)\n",
    "cvmodel = cv.fit(Xnew,Y)\n",
    "cvmodel.best_params_"
   ]
  },
  {
   "cell_type": "code",
   "execution_count": 37,
   "id": "8c3e3e7d",
   "metadata": {},
   "outputs": [
    {
     "data": {
      "text/plain": [
       "(0.814663951120163, 0.8211382113821138)"
      ]
     },
     "execution_count": 37,
     "metadata": {},
     "output_type": "execute_result"
    }
   ],
   "source": [
    "abc = AdaBoostClassifier(dtc,n_estimators=2)\n",
    "\n",
    "model = abc.fit(xtrain,ytrain)\n",
    "tr_pred = model.predict(xtrain)\n",
    "ts_pred = model.predict(xtest)\n",
    "from sklearn.metrics import accuracy_score\n",
    "tr_acc = accuracy_score(ytrain,tr_pred)\n",
    "ts_acc  = accuracy_score(ytest,ts_pred)\n",
    "tr_acc,ts_acc"
   ]
  },
  {
   "cell_type": "markdown",
   "id": "2d727113",
   "metadata": {},
   "source": [
    "# KNN is  the best model"
   ]
  },
  {
   "cell_type": "code",
   "execution_count": 38,
   "id": "8e1b45bb",
   "metadata": {},
   "outputs": [
    {
     "data": {
      "text/plain": [
       "(0.8167006109979633, 0.8048780487804879)"
      ]
     },
     "execution_count": 38,
     "metadata": {},
     "output_type": "execute_result"
    }
   ],
   "source": [
    "from sklearn.neighbors import KNeighborsClassifier\n",
    "knc = KNeighborsClassifier(n_neighbors=9)\n",
    "\n",
    "model = knc.fit(xtrain,ytrain)\n",
    "tr_pred = model.predict(xtrain)\n",
    "ts_pred = model.predict(xtest)\n",
    "from sklearn.metrics import accuracy_score\n",
    "tr_acc = accuracy_score(ytrain,tr_pred)\n",
    "ts_acc = accuracy_score(ytest,ts_pred)\n",
    "tr_acc,ts_acc"
   ]
  },
  {
   "cell_type": "code",
   "execution_count": 39,
   "id": "dd6688ca",
   "metadata": {},
   "outputs": [],
   "source": [
    "model = knc.fit(Xnew,Y)\n",
    "ts_pred=model.predict(Xnewb)"
   ]
  },
  {
   "cell_type": "code",
   "execution_count": 40,
   "id": "1dff7215",
   "metadata": {},
   "outputs": [
    {
     "data": {
      "text/plain": [
       "array(['Y', 'Y', 'Y', 'Y', 'N', 'Y', 'Y', 'N', 'Y', 'Y', 'N', 'Y', 'Y',\n",
       "       'N', 'Y', 'Y', 'Y', 'Y', 'Y', 'Y', 'Y', 'Y', 'Y', 'Y', 'Y', 'N',\n",
       "       'Y', 'Y', 'Y', 'Y', 'Y', 'Y', 'Y', 'Y', 'Y', 'N', 'Y', 'Y', 'Y',\n",
       "       'Y', 'Y', 'Y', 'Y', 'Y', 'Y', 'Y', 'Y', 'Y', 'Y', 'Y', 'Y', 'Y',\n",
       "       'Y', 'Y', 'Y', 'N', 'Y', 'Y', 'N', 'Y', 'Y', 'Y', 'Y', 'N', 'Y',\n",
       "       'Y', 'N', 'N', 'Y', 'N', 'Y', 'Y', 'Y', 'Y', 'Y', 'Y', 'Y', 'Y',\n",
       "       'Y', 'Y', 'N', 'Y', 'N', 'Y', 'N', 'Y', 'Y', 'Y', 'Y', 'Y', 'Y',\n",
       "       'Y', 'Y', 'Y', 'N', 'Y', 'Y', 'Y', 'Y', 'Y', 'Y', 'N', 'Y', 'Y',\n",
       "       'Y', 'Y', 'N', 'Y', 'Y', 'Y', 'Y', 'Y', 'Y', 'Y', 'Y', 'Y', 'Y',\n",
       "       'N', 'N', 'N', 'Y', 'Y', 'Y', 'N', 'N', 'Y', 'N', 'Y', 'Y', 'Y',\n",
       "       'Y', 'Y', 'Y', 'Y', 'Y', 'Y', 'Y', 'Y', 'Y', 'Y', 'N', 'Y', 'N',\n",
       "       'Y', 'Y', 'Y', 'Y', 'N', 'Y', 'Y', 'Y', 'Y', 'Y', 'N', 'Y', 'Y',\n",
       "       'Y', 'Y', 'Y', 'Y', 'Y', 'N', 'Y', 'Y', 'Y', 'N', 'N', 'Y', 'N',\n",
       "       'Y', 'Y', 'Y', 'Y', 'N', 'N', 'Y', 'Y', 'Y', 'Y', 'Y', 'Y', 'Y',\n",
       "       'Y', 'Y', 'Y', 'Y', 'Y', 'Y', 'Y', 'Y', 'Y', 'Y', 'N', 'N', 'Y',\n",
       "       'Y', 'N', 'Y', 'N', 'Y', 'Y', 'Y', 'Y', 'Y', 'Y', 'Y', 'Y', 'Y',\n",
       "       'Y', 'Y', 'Y', 'N', 'Y', 'Y', 'Y', 'Y', 'Y', 'Y', 'Y', 'Y', 'Y',\n",
       "       'Y', 'Y', 'Y', 'N', 'Y', 'Y', 'Y', 'Y', 'N', 'Y', 'Y', 'Y', 'Y',\n",
       "       'Y', 'N', 'N', 'Y', 'Y', 'N', 'N', 'N', 'Y', 'N', 'Y', 'N', 'Y',\n",
       "       'Y', 'Y', 'Y', 'N', 'Y', 'Y', 'Y', 'Y', 'N', 'Y', 'Y', 'Y', 'Y',\n",
       "       'Y', 'Y', 'Y', 'Y', 'Y', 'Y', 'N', 'Y', 'N', 'Y', 'Y', 'Y', 'Y',\n",
       "       'N', 'N', 'Y', 'Y', 'Y', 'N', 'Y', 'Y', 'Y', 'Y', 'Y', 'Y', 'Y',\n",
       "       'Y', 'Y', 'Y', 'Y', 'Y', 'Y', 'Y', 'N', 'Y', 'Y', 'Y', 'Y', 'Y',\n",
       "       'Y', 'Y', 'N', 'Y', 'Y', 'Y', 'Y', 'Y', 'Y', 'Y', 'Y', 'Y', 'N',\n",
       "       'Y', 'Y', 'Y', 'Y', 'Y', 'N', 'Y', 'Y', 'Y', 'Y', 'Y', 'Y', 'Y',\n",
       "       'N', 'Y', 'Y', 'Y', 'Y', 'Y', 'Y', 'Y', 'Y', 'Y', 'Y', 'Y', 'Y',\n",
       "       'Y', 'N', 'Y', 'Y', 'Y', 'Y', 'Y', 'Y', 'N', 'N', 'Y', 'Y', 'Y',\n",
       "       'Y', 'Y', 'Y', 'N', 'Y', 'Y', 'Y', 'Y', 'Y', 'Y', 'Y', 'Y', 'Y',\n",
       "       'Y', 'Y', 'Y'], dtype=object)"
      ]
     },
     "execution_count": 40,
     "metadata": {},
     "output_type": "execute_result"
    }
   ],
   "source": [
    "ts_pred"
   ]
  },
  {
   "cell_type": "code",
   "execution_count": 41,
   "id": "595094de",
   "metadata": {},
   "outputs": [
    {
     "data": {
      "text/plain": [
       "(367, 12)"
      ]
     },
     "execution_count": 41,
     "metadata": {},
     "output_type": "execute_result"
    }
   ],
   "source": [
    "B.shape"
   ]
  },
  {
   "cell_type": "code",
   "execution_count": 42,
   "id": "f43d1363",
   "metadata": {},
   "outputs": [],
   "source": [
    "B[\"Loan_Status\"]=ts_pred"
   ]
  },
  {
   "cell_type": "code",
   "execution_count": 43,
   "id": "e60c3268",
   "metadata": {},
   "outputs": [],
   "source": [
    "B.to_csv(\"C:/Users/Suja4/OneDrive/Documents/Data Science/Dataset/submission_loan_1.csv\")"
   ]
  },
  {
   "cell_type": "markdown",
   "id": "3f173c3d",
   "metadata": {},
   "source": [
    "# NeuralNetworks"
   ]
  },
  {
   "cell_type": "code",
   "execution_count": 60,
   "id": "bf83a91d",
   "metadata": {},
   "outputs": [],
   "source": [
    "Y= A[[\"Loan_Status\"]]\n",
    "X=A.drop(labels=[\"Loan_Status\",\"Loan_ID\"],axis=1)\n",
    "Xb=B.drop(labels=[\"Loan_ID\"],axis=1)"
   ]
  },
  {
   "cell_type": "code",
   "execution_count": 61,
   "id": "193aa0e4",
   "metadata": {},
   "outputs": [],
   "source": [
    "from sklearn.preprocessing import LabelEncoder\n",
    "le = LabelEncoder()\n",
    "Ynew = pd.DataFrame(le.fit_transform(Y.Loan_Status),columns=[\"Loan_Status\"])"
   ]
  },
  {
   "cell_type": "code",
   "execution_count": 62,
   "id": "1ba1a787",
   "metadata": {},
   "outputs": [],
   "source": [
    "from Wd8pm import catcon\n",
    "cat,con=catcon(X)"
   ]
  },
  {
   "cell_type": "code",
   "execution_count": 63,
   "id": "a49b56ca",
   "metadata": {},
   "outputs": [],
   "source": [
    "from sklearn.preprocessing import MinMaxScaler\n",
    "mm = MinMaxScaler()\n",
    "X1 = pd.DataFrame(mm.fit_transform(X[con]),columns=con)\n",
    "X2 = pd.get_dummies(X[cat])\n",
    "Xnew = X1.join(X2)"
   ]
  },
  {
   "cell_type": "code",
   "execution_count": 64,
   "id": "4ebc6ca0",
   "metadata": {},
   "outputs": [],
   "source": [
    "from keras.models import Sequential\n",
    "from keras.layers import Dense,Dropout"
   ]
  },
  {
   "cell_type": "code",
   "execution_count": 83,
   "id": "6729ec01",
   "metadata": {},
   "outputs": [
    {
     "name": "stdout",
     "output_type": "stream",
     "text": [
      "Epoch 1/250\n",
      "20/20 [==============================] - 1s 9ms/step - loss: 0.1940 - val_loss: 0.1882\n",
      "Epoch 2/250\n",
      "20/20 [==============================] - 0s 3ms/step - loss: 0.1634 - val_loss: 0.2492\n",
      "Epoch 3/250\n",
      "20/20 [==============================] - 0s 3ms/step - loss: 0.1578 - val_loss: 0.1604\n",
      "Epoch 4/250\n",
      "20/20 [==============================] - 0s 3ms/step - loss: 0.1548 - val_loss: 0.1454\n",
      "Epoch 5/250\n",
      "20/20 [==============================] - 0s 3ms/step - loss: 0.1476 - val_loss: 0.1430\n",
      "Epoch 6/250\n",
      "20/20 [==============================] - 0s 3ms/step - loss: 0.1522 - val_loss: 0.1565\n",
      "Epoch 7/250\n",
      "20/20 [==============================] - 0s 3ms/step - loss: 0.1535 - val_loss: 0.1400\n",
      "Epoch 8/250\n",
      "20/20 [==============================] - 0s 3ms/step - loss: 0.1498 - val_loss: 0.1404\n",
      "Epoch 9/250\n",
      "20/20 [==============================] - 0s 3ms/step - loss: 0.1527 - val_loss: 0.1429\n",
      "Epoch 10/250\n",
      "20/20 [==============================] - 0s 3ms/step - loss: 0.1442 - val_loss: 0.1420\n",
      "Epoch 11/250\n",
      "20/20 [==============================] - 0s 3ms/step - loss: 0.1448 - val_loss: 0.1481\n",
      "Epoch 12/250\n",
      "20/20 [==============================] - 0s 3ms/step - loss: 0.1433 - val_loss: 0.1443\n",
      "Epoch 13/250\n",
      "20/20 [==============================] - 0s 3ms/step - loss: 0.1429 - val_loss: 0.1354\n",
      "Epoch 14/250\n",
      "20/20 [==============================] - 0s 3ms/step - loss: 0.1421 - val_loss: 0.1547\n",
      "Epoch 15/250\n",
      "20/20 [==============================] - 0s 3ms/step - loss: 0.1440 - val_loss: 0.1322\n",
      "Epoch 16/250\n",
      "20/20 [==============================] - 0s 3ms/step - loss: 0.1397 - val_loss: 0.1347\n",
      "Epoch 17/250\n",
      "20/20 [==============================] - 0s 3ms/step - loss: 0.1387 - val_loss: 0.1348\n",
      "Epoch 18/250\n",
      "20/20 [==============================] - 0s 3ms/step - loss: 0.1373 - val_loss: 0.1289\n",
      "Epoch 19/250\n",
      "20/20 [==============================] - 0s 3ms/step - loss: 0.1358 - val_loss: 0.1275\n",
      "Epoch 20/250\n",
      "20/20 [==============================] - 0s 3ms/step - loss: 0.1319 - val_loss: 0.1287\n",
      "Epoch 21/250\n",
      "20/20 [==============================] - 0s 3ms/step - loss: 0.1373 - val_loss: 0.1308\n",
      "Epoch 22/250\n",
      "20/20 [==============================] - 0s 3ms/step - loss: 0.1329 - val_loss: 0.1252\n",
      "Epoch 23/250\n",
      "20/20 [==============================] - 0s 3ms/step - loss: 0.1312 - val_loss: 0.1254\n",
      "Epoch 24/250\n",
      "20/20 [==============================] - 0s 3ms/step - loss: 0.1325 - val_loss: 0.1251\n",
      "Epoch 25/250\n",
      "20/20 [==============================] - 0s 3ms/step - loss: 0.1318 - val_loss: 0.1275\n",
      "Epoch 26/250\n",
      "20/20 [==============================] - 0s 3ms/step - loss: 0.1285 - val_loss: 0.1210\n",
      "Epoch 27/250\n",
      "20/20 [==============================] - 0s 3ms/step - loss: 0.1277 - val_loss: 0.1391\n",
      "Epoch 28/250\n",
      "20/20 [==============================] - 0s 3ms/step - loss: 0.1274 - val_loss: 0.1231\n",
      "Epoch 29/250\n",
      "20/20 [==============================] - 0s 3ms/step - loss: 0.1267 - val_loss: 0.1458\n",
      "Epoch 30/250\n",
      "20/20 [==============================] - 0s 3ms/step - loss: 0.1294 - val_loss: 0.1238\n",
      "Epoch 31/250\n",
      "20/20 [==============================] - 0s 3ms/step - loss: 0.1292 - val_loss: 0.1185\n",
      "Epoch 32/250\n",
      "20/20 [==============================] - 0s 3ms/step - loss: 0.1296 - val_loss: 0.1235\n",
      "Epoch 33/250\n",
      "20/20 [==============================] - 0s 3ms/step - loss: 0.1273 - val_loss: 0.1224\n",
      "Epoch 34/250\n",
      "20/20 [==============================] - 0s 3ms/step - loss: 0.1262 - val_loss: 0.1205\n",
      "Epoch 35/250\n",
      "20/20 [==============================] - 0s 3ms/step - loss: 0.1231 - val_loss: 0.1198\n",
      "Epoch 36/250\n",
      "20/20 [==============================] - 0s 3ms/step - loss: 0.1257 - val_loss: 0.1156\n",
      "Epoch 37/250\n",
      "20/20 [==============================] - 0s 3ms/step - loss: 0.1215 - val_loss: 0.1138\n",
      "Epoch 38/250\n",
      "20/20 [==============================] - 0s 3ms/step - loss: 0.1203 - val_loss: 0.1124\n",
      "Epoch 39/250\n",
      "20/20 [==============================] - 0s 3ms/step - loss: 0.1233 - val_loss: 0.1256\n",
      "Epoch 40/250\n",
      "20/20 [==============================] - 0s 3ms/step - loss: 0.1225 - val_loss: 0.1161\n",
      "Epoch 41/250\n",
      "20/20 [==============================] - 0s 3ms/step - loss: 0.1217 - val_loss: 0.1114\n",
      "Epoch 42/250\n",
      "20/20 [==============================] - 0s 3ms/step - loss: 0.1172 - val_loss: 0.1117\n",
      "Epoch 43/250\n",
      "20/20 [==============================] - 0s 3ms/step - loss: 0.1200 - val_loss: 0.1114\n",
      "Epoch 44/250\n",
      "20/20 [==============================] - 0s 3ms/step - loss: 0.1194 - val_loss: 0.1107\n",
      "Epoch 45/250\n",
      "20/20 [==============================] - 0s 3ms/step - loss: 0.1180 - val_loss: 0.1123\n",
      "Epoch 46/250\n",
      "20/20 [==============================] - 0s 3ms/step - loss: 0.1192 - val_loss: 0.1080\n",
      "Epoch 47/250\n",
      "20/20 [==============================] - 0s 3ms/step - loss: 0.1197 - val_loss: 0.1090\n",
      "Epoch 48/250\n",
      "20/20 [==============================] - 0s 3ms/step - loss: 0.1210 - val_loss: 0.1089\n",
      "Epoch 49/250\n",
      "20/20 [==============================] - 0s 3ms/step - loss: 0.1158 - val_loss: 0.1082\n",
      "Epoch 50/250\n",
      "20/20 [==============================] - 0s 3ms/step - loss: 0.1199 - val_loss: 0.1173\n",
      "Epoch 51/250\n",
      "20/20 [==============================] - 0s 3ms/step - loss: 0.1191 - val_loss: 0.1165\n",
      "Epoch 52/250\n",
      "20/20 [==============================] - 0s 3ms/step - loss: 0.1170 - val_loss: 0.1070\n",
      "Epoch 53/250\n",
      "20/20 [==============================] - 0s 3ms/step - loss: 0.1135 - val_loss: 0.1105\n",
      "Epoch 54/250\n",
      "20/20 [==============================] - 0s 3ms/step - loss: 0.1137 - val_loss: 0.1047\n",
      "Epoch 55/250\n",
      "20/20 [==============================] - 0s 3ms/step - loss: 0.1148 - val_loss: 0.1096\n",
      "Epoch 56/250\n",
      "20/20 [==============================] - 0s 3ms/step - loss: 0.1139 - val_loss: 0.1026\n",
      "Epoch 57/250\n",
      "20/20 [==============================] - 0s 3ms/step - loss: 0.1129 - val_loss: 0.1006\n",
      "Epoch 58/250\n",
      "20/20 [==============================] - 0s 3ms/step - loss: 0.1151 - val_loss: 0.1032\n",
      "Epoch 59/250\n",
      "20/20 [==============================] - 0s 3ms/step - loss: 0.1143 - val_loss: 0.1007\n",
      "Epoch 60/250\n",
      "20/20 [==============================] - 0s 3ms/step - loss: 0.1124 - val_loss: 0.1025\n",
      "Epoch 61/250\n",
      "20/20 [==============================] - 0s 3ms/step - loss: 0.1127 - val_loss: 0.1053\n",
      "Epoch 62/250\n",
      "20/20 [==============================] - 0s 3ms/step - loss: 0.1141 - val_loss: 0.1027\n",
      "Epoch 63/250\n",
      "20/20 [==============================] - 0s 3ms/step - loss: 0.1034 - val_loss: 0.1034\n",
      "Epoch 64/250\n",
      "20/20 [==============================] - 0s 3ms/step - loss: 0.1115 - val_loss: 0.1060\n",
      "Epoch 65/250\n",
      "20/20 [==============================] - 0s 3ms/step - loss: 0.1115 - val_loss: 0.1014\n",
      "Epoch 66/250\n",
      "20/20 [==============================] - 0s 3ms/step - loss: 0.1135 - val_loss: 0.1086\n",
      "Epoch 67/250\n",
      "20/20 [==============================] - 0s 3ms/step - loss: 0.1117 - val_loss: 0.0979\n",
      "Epoch 68/250\n",
      "20/20 [==============================] - 0s 3ms/step - loss: 0.1078 - val_loss: 0.0990\n",
      "Epoch 69/250\n",
      "20/20 [==============================] - 0s 3ms/step - loss: 0.1104 - val_loss: 0.1004\n",
      "Epoch 70/250\n",
      "20/20 [==============================] - 0s 3ms/step - loss: 0.1102 - val_loss: 0.1040\n",
      "Epoch 71/250\n",
      "20/20 [==============================] - 0s 3ms/step - loss: 0.1116 - val_loss: 0.1087\n",
      "Epoch 72/250\n",
      "20/20 [==============================] - 0s 3ms/step - loss: 0.1099 - val_loss: 0.0991\n",
      "Epoch 73/250\n",
      "20/20 [==============================] - 0s 3ms/step - loss: 0.1086 - val_loss: 0.1000\n",
      "Epoch 74/250\n",
      "20/20 [==============================] - 0s 3ms/step - loss: 0.1053 - val_loss: 0.0998\n",
      "Epoch 75/250\n",
      "20/20 [==============================] - 0s 3ms/step - loss: 0.1079 - val_loss: 0.1033\n",
      "Epoch 76/250\n",
      "20/20 [==============================] - 0s 3ms/step - loss: 0.1046 - val_loss: 0.0996\n",
      "Epoch 77/250\n",
      "20/20 [==============================] - 0s 3ms/step - loss: 0.1086 - val_loss: 0.0989\n"
     ]
    }
   ],
   "source": [
    "nn = Sequential()\n",
    "nn.add(Dense(units=100,input_dim=(len(Xnew.columns)))) # input\n",
    "nn.add(Dense(100,activation=\"relu\")) # hidden\n",
    "nn.add(Dropout(0.1))\n",
    "nn.add(Dense(100))\n",
    "nn.add(Dropout(0.1))\n",
    "nn.add(Dense(100))\n",
    "nn.add(Dropout(0.1))\n",
    "nn.add(Dense(1,activation=\"sigmoid\")) # output\n",
    "\n",
    "from keras.callbacks import EarlyStopping\n",
    "es = EarlyStopping(patience=10)\n",
    "nn.compile(loss=\"mse\")\n",
    "model = nn.fit(Xnew,Ynew,validation_data=(Xnew,Ynew),epochs=250,callbacks=es)"
   ]
  },
  {
   "cell_type": "code",
   "execution_count": 84,
   "id": "dab91188",
   "metadata": {},
   "outputs": [
    {
     "ename": "KeyError",
     "evalue": "'accuracy'",
     "output_type": "error",
     "traceback": [
      "\u001b[1;31m---------------------------------------------------------------------------\u001b[0m",
      "\u001b[1;31mKeyError\u001b[0m                                  Traceback (most recent call last)",
      "Cell \u001b[1;32mIn [84], line 1\u001b[0m\n\u001b[1;32m----> 1\u001b[0m tr \u001b[38;5;241m=\u001b[39m \u001b[43mmodel\u001b[49m\u001b[38;5;241;43m.\u001b[39;49m\u001b[43mhistory\u001b[49m\u001b[43m[\u001b[49m\u001b[38;5;124;43m'\u001b[39;49m\u001b[38;5;124;43maccuracy\u001b[39;49m\u001b[38;5;124;43m'\u001b[39;49m\u001b[43m]\u001b[49m\n\u001b[0;32m      2\u001b[0m ts \u001b[38;5;241m=\u001b[39m model\u001b[38;5;241m.\u001b[39mhistory[\u001b[38;5;124m'\u001b[39m\u001b[38;5;124mval_accuracy\u001b[39m\u001b[38;5;124m'\u001b[39m]\n",
      "\u001b[1;31mKeyError\u001b[0m: 'accuracy'"
     ]
    }
   ],
   "source": [
    "tr = model.history['accuracy']\n",
    "ts = model.history['val_accuracy']"
   ]
  },
  {
   "cell_type": "code",
   "execution_count": 85,
   "id": "6c7720fa",
   "metadata": {},
   "outputs": [
    {
     "data": {
      "text/plain": [
       "([<matplotlib.axis.XTick at 0x22392ace4f0>,\n",
       "  <matplotlib.axis.XTick at 0x2238d826b20>,\n",
       "  <matplotlib.axis.XTick at 0x22388ef07f0>,\n",
       "  <matplotlib.axis.XTick at 0x22392af9310>,\n",
       "  <matplotlib.axis.XTick at 0x22392aeee50>,\n",
       "  <matplotlib.axis.XTick at 0x22392af9dc0>,\n",
       "  <matplotlib.axis.XTick at 0x22392afc550>,\n",
       "  <matplotlib.axis.XTick at 0x22392afce20>,\n",
       "  <matplotlib.axis.XTick at 0x22392b01460>,\n",
       "  <matplotlib.axis.XTick at 0x22392b01bb0>,\n",
       "  <matplotlib.axis.XTick at 0x22392b01e80>],\n",
       " [Text(0, 0, ''),\n",
       "  Text(0, 0, ''),\n",
       "  Text(0, 0, ''),\n",
       "  Text(0, 0, ''),\n",
       "  Text(0, 0, ''),\n",
       "  Text(0, 0, ''),\n",
       "  Text(0, 0, ''),\n",
       "  Text(0, 0, ''),\n",
       "  Text(0, 0, ''),\n",
       "  Text(0, 0, ''),\n",
       "  Text(0, 0, '')])"
      ]
     },
     "execution_count": 85,
     "metadata": {},
     "output_type": "execute_result"
    },
    {
     "data": {
      "image/png": "[encoded data removed]",
      "text/plain": [
       "<Figure size 640x480 with 1 Axes>"
      ]
     },
     "metadata": {},
     "output_type": "display_data"
    }
   ],
   "source": [
    "import matplotlib.pyplot as plt\n",
    "plt.plot(tr,c=\"blue\")\n",
    "plt.plot(ts,c=\"red\")\n",
    "plt.xticks(range(1,12,1))"
   ]
  },
  {
   "cell_type": "code",
   "execution_count": 87,
   "id": "9deaebca",
   "metadata": {},
   "outputs": [
    {
     "name": "stdout",
     "output_type": "stream",
     "text": [
      "12/12 [==============================] - 0s 754us/step\n"
     ]
    }
   ],
   "source": [
    "final_DF = Xnewb[Xnew.columns]\n",
    "pred = nn.predict(final_DF)\n"
   ]
  },
  {
   "cell_type": "code",
   "execution_count": 88,
   "id": "62f6dbff",
   "metadata": {},
   "outputs": [
    {
     "data": {
      "text/plain": [
       "array([[9.35663879e-02],\n",
       "       [4.60663319e-01],\n",
       "       [9.99787629e-01],\n",
       "       [2.35944486e-09],\n",
       "       [8.83201480e-01],\n",
       "       [4.06810424e-19],\n",
       "       [1.00000000e+00],\n",
       "       [0.00000000e+00],\n",
       "       [1.00000000e+00],\n",
       "       [1.05292618e-01],\n",
       "       [3.89729589e-01],\n",
       "       [9.91819277e-02],\n",
       "       [1.00000000e+00],\n",
       "       [1.11659275e-17],\n",
       "       [3.69316846e-01],\n",
       "       [8.26671440e-03],\n",
       "       [2.02222012e-07],\n",
       "       [9.99974608e-01],\n",
       "       [0.00000000e+00],\n",
       "       [1.42515173e-08],\n",
       "       [9.99980688e-01],\n",
       "       [1.00000000e+00],\n",
       "       [4.25749868e-02],\n",
       "       [3.69728990e-02],\n",
       "       [8.95636240e-14],\n",
       "       [0.00000000e+00],\n",
       "       [1.51489019e-01],\n",
       "       [2.29695688e-05],\n",
       "       [1.00000000e+00],\n",
       "       [4.17307794e-01],\n",
       "       [9.99999940e-01],\n",
       "       [9.99999881e-01],\n",
       "       [8.77416909e-01],\n",
       "       [6.21169922e-04],\n",
       "       [9.99911189e-01],\n",
       "       [1.27160560e-37],\n",
       "       [6.75236386e-12],\n",
       "       [9.43497991e-09],\n",
       "       [7.42440939e-01],\n",
       "       [6.35288596e-01],\n",
       "       [9.99883354e-01],\n",
       "       [1.52440831e-01],\n",
       "       [9.99932110e-01],\n",
       "       [2.60846257e-01],\n",
       "       [9.99737680e-01],\n",
       "       [1.95458401e-15],\n",
       "       [5.93005959e-03],\n",
       "       [9.99119997e-01],\n",
       "       [1.66773447e-04],\n",
       "       [1.00000000e+00],\n",
       "       [5.52872904e-02],\n",
       "       [9.99195457e-01],\n",
       "       [2.55853720e-08],\n",
       "       [1.00000000e+00],\n",
       "       [5.10211766e-01],\n",
       "       [0.00000000e+00],\n",
       "       [1.74596995e-01],\n",
       "       [7.71940237e-12],\n",
       "       [0.00000000e+00],\n",
       "       [1.00000000e+00],\n",
       "       [9.99991775e-01],\n",
       "       [9.99996424e-01],\n",
       "       [1.00000000e+00],\n",
       "       [0.00000000e+00],\n",
       "       [3.15281264e-02],\n",
       "       [3.13934521e-07],\n",
       "       [0.00000000e+00],\n",
       "       [0.00000000e+00],\n",
       "       [9.99935746e-01],\n",
       "       [0.00000000e+00],\n",
       "       [9.99999404e-01],\n",
       "       [9.99999881e-01],\n",
       "       [5.67240715e-01],\n",
       "       [6.35405362e-01],\n",
       "       [9.31823993e-11],\n",
       "       [2.51905341e-08],\n",
       "       [2.91163102e-02],\n",
       "       [1.00000000e+00],\n",
       "       [1.65929045e-14],\n",
       "       [9.70145106e-01],\n",
       "       [6.83589937e-37],\n",
       "       [1.00000000e+00],\n",
       "       [0.00000000e+00],\n",
       "       [9.99974847e-01],\n",
       "       [6.57185417e-10],\n",
       "       [0.00000000e+00],\n",
       "       [9.80388582e-01],\n",
       "       [9.99747813e-01],\n",
       "       [9.99998093e-01],\n",
       "       [5.05043976e-02],\n",
       "       [1.35956736e-06],\n",
       "       [1.00000000e+00],\n",
       "       [6.39306309e-05],\n",
       "       [1.00000000e+00],\n",
       "       [0.00000000e+00],\n",
       "       [1.00000000e+00],\n",
       "       [1.99243407e-24],\n",
       "       [1.34309317e-04],\n",
       "       [1.00000000e+00],\n",
       "       [9.99995589e-01],\n",
       "       [1.34972960e-01],\n",
       "       [0.00000000e+00],\n",
       "       [9.80031133e-01],\n",
       "       [1.00000000e+00],\n",
       "       [4.21691537e-02],\n",
       "       [7.41436064e-01],\n",
       "       [0.00000000e+00],\n",
       "       [9.99998689e-01],\n",
       "       [8.22225153e-01],\n",
       "       [8.99572670e-03],\n",
       "       [9.99883056e-01],\n",
       "       [9.99999940e-01],\n",
       "       [8.49184871e-01],\n",
       "       [1.99501288e-12],\n",
       "       [1.56720170e-14],\n",
       "       [1.83653638e-19],\n",
       "       [8.77025013e-06],\n",
       "       [0.00000000e+00],\n",
       "       [0.00000000e+00],\n",
       "       [0.00000000e+00],\n",
       "       [9.99979675e-01],\n",
       "       [6.78919276e-09],\n",
       "       [9.85941887e-01],\n",
       "       [0.00000000e+00],\n",
       "       [4.06835562e-25],\n",
       "       [1.13476412e-02],\n",
       "       [7.87356256e-38],\n",
       "       [1.00000000e+00],\n",
       "       [1.00000000e+00],\n",
       "       [9.99987602e-01],\n",
       "       [9.99927223e-01],\n",
       "       [1.77441925e-01],\n",
       "       [4.22662675e-01],\n",
       "       [9.99975324e-01],\n",
       "       [1.00000000e+00],\n",
       "       [6.16801828e-02],\n",
       "       [9.98757303e-01],\n",
       "       [5.36305697e-06],\n",
       "       [9.99965787e-01],\n",
       "       [9.99421597e-01],\n",
       "       [4.64005373e-36],\n",
       "       [2.17710840e-04],\n",
       "       [0.00000000e+00],\n",
       "       [1.00000000e+00],\n",
       "       [1.00000000e+00],\n",
       "       [1.00000000e+00],\n",
       "       [9.78378952e-01],\n",
       "       [3.17314139e-34],\n",
       "       [5.37905276e-01],\n",
       "       [1.60343567e-04],\n",
       "       [1.28440619e-17],\n",
       "       [9.99861956e-01],\n",
       "       [1.42838201e-02],\n",
       "       [0.00000000e+00],\n",
       "       [1.00000000e+00],\n",
       "       [1.85803911e-12],\n",
       "       [3.18719527e-23],\n",
       "       [9.99228954e-01],\n",
       "       [7.31227556e-06],\n",
       "       [6.70628142e-05],\n",
       "       [8.40899899e-16],\n",
       "       [8.31477954e-37],\n",
       "       [3.97286567e-05],\n",
       "       [1.00000000e+00],\n",
       "       [4.61292439e-05],\n",
       "       [0.00000000e+00],\n",
       "       [0.00000000e+00],\n",
       "       [1.52134826e-05],\n",
       "       [0.00000000e+00],\n",
       "       [1.00000000e+00],\n",
       "       [9.80645776e-01],\n",
       "       [5.10344982e-01],\n",
       "       [1.97777703e-01],\n",
       "       [7.43961852e-32],\n",
       "       [0.00000000e+00],\n",
       "       [1.26869072e-19],\n",
       "       [1.48768327e-16],\n",
       "       [9.99999285e-01],\n",
       "       [9.99747217e-01],\n",
       "       [1.00000000e+00],\n",
       "       [8.63038178e-04],\n",
       "       [1.62620842e-03],\n",
       "       [9.98695076e-01],\n",
       "       [1.15839562e-18],\n",
       "       [1.00000000e+00],\n",
       "       [1.86294005e-06],\n",
       "       [9.99128520e-01],\n",
       "       [1.00000000e+00],\n",
       "       [6.18958771e-01],\n",
       "       [2.10167689e-10],\n",
       "       [9.99997556e-01],\n",
       "       [1.10853687e-01],\n",
       "       [0.00000000e+00],\n",
       "       [0.00000000e+00],\n",
       "       [9.64180231e-01],\n",
       "       [7.42440939e-01],\n",
       "       [3.75713874e-38],\n",
       "       [9.99531388e-01],\n",
       "       [0.00000000e+00],\n",
       "       [9.87043619e-01],\n",
       "       [5.22904609e-10],\n",
       "       [9.99999285e-01],\n",
       "       [9.94220972e-01],\n",
       "       [9.42104459e-01],\n",
       "       [1.00000000e+00],\n",
       "       [9.63786185e-01],\n",
       "       [2.73445366e-05],\n",
       "       [7.15778530e-01],\n",
       "       [9.99758482e-01],\n",
       "       [2.45100424e-26],\n",
       "       [1.00000000e+00],\n",
       "       [0.00000000e+00],\n",
       "       [1.00000000e+00],\n",
       "       [1.67710781e-02],\n",
       "       [4.15558432e-09],\n",
       "       [2.52785403e-02],\n",
       "       [1.25797966e-03],\n",
       "       [5.82033098e-01],\n",
       "       [2.99125090e-15],\n",
       "       [7.29547394e-03],\n",
       "       [4.84202494e-04],\n",
       "       [6.35998622e-02],\n",
       "       [2.99202979e-01],\n",
       "       [9.98699665e-01],\n",
       "       [1.01486690e-33],\n",
       "       [9.99999464e-01],\n",
       "       [9.98710871e-01],\n",
       "       [7.03342801e-11],\n",
       "       [2.42775790e-02],\n",
       "       [0.00000000e+00],\n",
       "       [0.00000000e+00],\n",
       "       [2.76401853e-11],\n",
       "       [1.00000000e+00],\n",
       "       [9.99999881e-01],\n",
       "       [3.80636811e-01],\n",
       "       [0.00000000e+00],\n",
       "       [0.00000000e+00],\n",
       "       [0.00000000e+00],\n",
       "       [1.00000000e+00],\n",
       "       [2.01427621e-08],\n",
       "       [1.23302254e-03],\n",
       "       [4.40630203e-38],\n",
       "       [1.00000000e+00],\n",
       "       [0.00000000e+00],\n",
       "       [1.00000000e+00],\n",
       "       [4.24439970e-34],\n",
       "       [7.50143901e-02],\n",
       "       [9.60654557e-01],\n",
       "       [9.99999702e-01],\n",
       "       [1.00000000e+00],\n",
       "       [0.00000000e+00],\n",
       "       [1.00000000e+00],\n",
       "       [9.88508105e-01],\n",
       "       [9.99588013e-01],\n",
       "       [4.61494952e-01],\n",
       "       [7.79101498e-37],\n",
       "       [9.99996483e-01],\n",
       "       [4.08047822e-14],\n",
       "       [6.91656723e-08],\n",
       "       [1.14359915e-33],\n",
       "       [7.73486310e-12],\n",
       "       [9.99999762e-01],\n",
       "       [9.79090691e-01],\n",
       "       [1.00000000e+00],\n",
       "       [9.88433540e-01],\n",
       "       [1.49291601e-09],\n",
       "       [0.00000000e+00],\n",
       "       [1.73847758e-21],\n",
       "       [1.09568122e-32],\n",
       "       [9.91838574e-01],\n",
       "       [1.37472767e-09],\n",
       "       [2.80076111e-24],\n",
       "       [1.00000000e+00],\n",
       "       [8.67795048e-38],\n",
       "       [2.80746952e-38],\n",
       "       [9.99999404e-01],\n",
       "       [1.56353980e-01],\n",
       "       [1.00000000e+00],\n",
       "       [0.00000000e+00],\n",
       "       [1.00000000e+00],\n",
       "       [9.77165580e-01],\n",
       "       [6.12260759e-01],\n",
       "       [1.60402828e-06],\n",
       "       [1.31462948e-04],\n",
       "       [0.00000000e+00],\n",
       "       [9.99999523e-01],\n",
       "       [5.06533114e-11],\n",
       "       [1.77601884e-13],\n",
       "       [4.07760781e-05],\n",
       "       [2.33104913e-09],\n",
       "       [2.80605674e-01],\n",
       "       [1.82626998e-08],\n",
       "       [9.75754380e-01],\n",
       "       [0.00000000e+00],\n",
       "       [4.03466549e-09],\n",
       "       [1.26054510e-03],\n",
       "       [1.34959966e-01],\n",
       "       [9.84214723e-01],\n",
       "       [9.99999881e-01],\n",
       "       [9.98381376e-01],\n",
       "       [1.00000000e+00],\n",
       "       [1.05726691e-37],\n",
       "       [1.00000000e+00],\n",
       "       [6.09207823e-12],\n",
       "       [1.00000000e+00],\n",
       "       [4.64720875e-02],\n",
       "       [1.00000000e+00],\n",
       "       [9.67620671e-01],\n",
       "       [7.92520702e-01],\n",
       "       [4.35120080e-14],\n",
       "       [7.13231202e-05],\n",
       "       [0.00000000e+00],\n",
       "       [5.44026613e-01],\n",
       "       [9.99731183e-01],\n",
       "       [9.99530256e-01],\n",
       "       [1.00000000e+00],\n",
       "       [6.36445343e-01],\n",
       "       [0.00000000e+00],\n",
       "       [7.82917894e-04],\n",
       "       [4.07413871e-04],\n",
       "       [9.58177507e-01],\n",
       "       [3.30455862e-07],\n",
       "       [1.00000000e+00],\n",
       "       [2.56379193e-04],\n",
       "       [9.99916077e-01],\n",
       "       [2.29220411e-22],\n",
       "       [9.99994159e-01],\n",
       "       [9.98422563e-01],\n",
       "       [1.00000000e+00],\n",
       "       [2.99954653e-01],\n",
       "       [2.31908113e-01],\n",
       "       [1.00000000e+00],\n",
       "       [6.74009730e-13],\n",
       "       [9.99994695e-01],\n",
       "       [1.00000000e+00],\n",
       "       [1.00000000e+00],\n",
       "       [8.98649766e-10],\n",
       "       [9.98548925e-01],\n",
       "       [5.35492982e-13],\n",
       "       [0.00000000e+00],\n",
       "       [3.79535002e-26],\n",
       "       [6.30295723e-22],\n",
       "       [1.00000000e+00],\n",
       "       [9.99999940e-01],\n",
       "       [1.15924068e-01],\n",
       "       [1.00000000e+00],\n",
       "       [0.00000000e+00],\n",
       "       [9.96267021e-01],\n",
       "       [7.85737157e-01],\n",
       "       [9.99999940e-01],\n",
       "       [1.00000000e+00],\n",
       "       [0.00000000e+00],\n",
       "       [9.99200523e-01],\n",
       "       [1.45459650e-04],\n",
       "       [4.66329585e-15],\n",
       "       [9.99999642e-01],\n",
       "       [6.55294776e-01],\n",
       "       [9.99998629e-01],\n",
       "       [9.99996424e-01],\n",
       "       [9.65980887e-02],\n",
       "       [3.55762329e-11],\n",
       "       [8.81990135e-01],\n",
       "       [6.45976746e-03],\n",
       "       [9.99532640e-01],\n",
       "       [1.18788473e-01],\n",
       "       [9.98180747e-01],\n",
       "       [1.00000000e+00]], dtype=float32)"
      ]
     },
     "execution_count": 88,
     "metadata": {},
     "output_type": "execute_result"
    }
   ],
   "source": [
    "\n",
    "pred"
   ]
  },
  {
   "cell_type": "code",
   "execution_count": 89,
   "id": "d0005e70",
   "metadata": {},
   "outputs": [],
   "source": [
    "Q=[]\n",
    "for i in pred:\n",
    "    Q.append(int(i[0]))"
   ]
  },
  {
   "cell_type": "code",
   "execution_count": 90,
   "id": "d3d0b183",
   "metadata": {},
   "outputs": [
    {
     "data": {
      "text/plain": [
       "array(['N', 'N', 'N', 'N', 'N', 'N', 'Y', 'N', 'Y', 'N', 'N', 'N', 'Y',\n",
       "       'N', 'N', 'N', 'N', 'N', 'N', 'N', 'N', 'Y', 'N', 'N', 'N', 'N',\n",
       "       'N', 'N', 'Y', 'N', 'N', 'N', 'N', 'N', 'N', 'N', 'N', 'N', 'N',\n",
       "       'N', 'N', 'N', 'N', 'N', 'N', 'N', 'N', 'N', 'N', 'Y', 'N', 'N',\n",
       "       'N', 'Y', 'N', 'N', 'N', 'N', 'N', 'Y', 'N', 'N', 'Y', 'N', 'N',\n",
       "       'N', 'N', 'N', 'N', 'N', 'N', 'N', 'N', 'N', 'N', 'N', 'N', 'Y',\n",
       "       'N', 'N', 'N', 'Y', 'N', 'N', 'N', 'N', 'N', 'N', 'N', 'N', 'N',\n",
       "       'Y', 'N', 'Y', 'N', 'Y', 'N', 'N', 'Y', 'N', 'N', 'N', 'N', 'Y',\n",
       "       'N', 'N', 'N', 'N', 'N', 'N', 'N', 'N', 'N', 'N', 'N', 'N', 'N',\n",
       "       'N', 'N', 'N', 'N', 'N', 'N', 'N', 'N', 'N', 'N', 'Y', 'Y', 'N',\n",
       "       'N', 'N', 'N', 'N', 'Y', 'N', 'N', 'N', 'N', 'N', 'N', 'N', 'N',\n",
       "       'Y', 'Y', 'Y', 'N', 'N', 'N', 'N', 'N', 'N', 'N', 'N', 'Y', 'N',\n",
       "       'N', 'N', 'N', 'N', 'N', 'N', 'N', 'Y', 'N', 'N', 'N', 'N', 'N',\n",
       "       'Y', 'N', 'N', 'N', 'N', 'N', 'N', 'N', 'N', 'N', 'Y', 'N', 'N',\n",
       "       'N', 'N', 'Y', 'N', 'N', 'Y', 'N', 'N', 'N', 'N', 'N', 'N', 'N',\n",
       "       'N', 'N', 'N', 'N', 'N', 'N', 'N', 'N', 'N', 'Y', 'N', 'N', 'N',\n",
       "       'N', 'N', 'Y', 'N', 'Y', 'N', 'N', 'N', 'N', 'N', 'N', 'N', 'N',\n",
       "       'N', 'N', 'N', 'N', 'N', 'N', 'N', 'N', 'N', 'N', 'N', 'Y', 'N',\n",
       "       'N', 'N', 'N', 'N', 'Y', 'N', 'N', 'N', 'Y', 'N', 'Y', 'N', 'N',\n",
       "       'N', 'N', 'Y', 'N', 'Y', 'N', 'N', 'N', 'N', 'N', 'N', 'N', 'N',\n",
       "       'N', 'N', 'N', 'Y', 'N', 'N', 'N', 'N', 'N', 'N', 'N', 'N', 'Y',\n",
       "       'N', 'N', 'N', 'N', 'Y', 'N', 'Y', 'N', 'N', 'N', 'N', 'N', 'N',\n",
       "       'N', 'N', 'N', 'N', 'N', 'N', 'N', 'N', 'N', 'N', 'N', 'N', 'N',\n",
       "       'N', 'Y', 'N', 'Y', 'N', 'Y', 'N', 'Y', 'N', 'N', 'N', 'N', 'N',\n",
       "       'N', 'N', 'N', 'Y', 'N', 'N', 'N', 'N', 'N', 'N', 'Y', 'N', 'N',\n",
       "       'N', 'N', 'N', 'Y', 'N', 'N', 'Y', 'N', 'N', 'Y', 'Y', 'N', 'N',\n",
       "       'N', 'N', 'N', 'N', 'Y', 'N', 'N', 'Y', 'N', 'N', 'N', 'N', 'Y',\n",
       "       'N', 'N', 'N', 'N', 'N', 'N', 'N', 'N', 'N', 'N', 'N', 'N', 'N',\n",
       "       'N', 'N', 'Y'], dtype=object)"
      ]
     },
     "execution_count": 90,
     "metadata": {},
     "output_type": "execute_result"
    }
   ],
   "source": [
    "le.inverse_transform(Q)"
   ]
  },
  {
   "cell_type": "markdown",
   "id": "6f240052",
   "metadata": {},
   "source": [
    "# Second Question"
   ]
  },
  {
   "cell_type": "code",
   "execution_count": null,
   "id": "edaed346",
   "metadata": {},
   "outputs": [],
   "source": []
  },
  {
   "cell_type": "raw",
   "id": "a164b283",
   "metadata": {},
   "source": [
    "# 3.)If customer is not eligible for the input required amount and duration:\n",
    "\n",
    "# a.)what can be amount for the given duration.(Regression)\n",
    "1.create a regression model to predict loan amount .\n",
    "2.use the earlier predicted data and predict the loan amount for all customers with \n",
    "loan_status=\"N\""
   ]
  },
  {
   "cell_type": "code",
   "execution_count": null,
   "id": "7b13e700",
   "metadata": {},
   "outputs": [],
   "source": [
    "Xb=B.drop(labels=[\"Loan_ID\"],axis=1)\n",
    "Xb=B[(B.Loan_Status==\"N\")]"
   ]
  },
  {
   "cell_type": "code",
   "execution_count": null,
   "id": "dce0f074",
   "metadata": {},
   "outputs": [],
   "source": [
    "Xb.shape"
   ]
  },
  {
   "cell_type": "code",
   "execution_count": null,
   "id": "027daa6c",
   "metadata": {},
   "outputs": [],
   "source": [
    "Xb.index=range(0,64)"
   ]
  },
  {
   "cell_type": "markdown",
   "id": "b8d95b29",
   "metadata": {},
   "source": [
    "# Bivariate analysis"
   ]
  },
  {
   "cell_type": "code",
   "execution_count": null,
   "id": "c1f04198",
   "metadata": {},
   "outputs": [],
   "source": [
    "Y= A[\"LoanAmount\"]\n",
    "X=A.drop(labels=[\"LoanAmount\",\"Loan_Status\",\"Loan_ID\"],axis=1)\n",
    "Xb=Xb.drop(labels=[\"LoanAmount\",\"Loan_Status\",\"Loan_ID\"],axis=1)"
   ]
  },
  {
   "cell_type": "code",
   "execution_count": null,
   "id": "a26f45d5",
   "metadata": {},
   "outputs": [],
   "source": [
    "\n",
    "from Wd8pm import preprocessing\n",
    "Xnew =preprocessing(X)\n",
    "Xnewb=preprocessing(Xb)"
   ]
  },
  {
   "cell_type": "code",
   "execution_count": null,
   "id": "40c5491e",
   "metadata": {},
   "outputs": [],
   "source": [
    "\n",
    "from sklearn.model_selection import train_test_split\n",
    "xtrain,xtest,ytrain,ytest =train_test_split(Xnew,Y,test_size=0.2,random_state=21)\n"
   ]
  },
  {
   "cell_type": "markdown",
   "id": "52102c46",
   "metadata": {},
   "source": [
    "# DecisionTreeRegressor "
   ]
  },
  {
   "cell_type": "code",
   "execution_count": null,
   "id": "a271cafc",
   "metadata": {},
   "outputs": [],
   "source": [
    "from sklearn.tree import DecisionTreeRegressor\n",
    "dtr = DecisionTreeRegressor(random_state=21)\n",
    "model = dtr.fit(xtrain,ytrain)\n",
    "tr_pred = model.predict(xtrain)\n",
    "ts_pred = model.predict(xtest)\n",
    "from sklearn.metrics import mean_absolute_error\n",
    "tr_err = mean_absolute_error(ytrain,tr_pred)\n",
    "ts_err  = mean_absolute_error(ytest,ts_pred)\n",
    "\n",
    "tr_err,ts_err"
   ]
  },
  {
   "cell_type": "markdown",
   "id": "443a6334",
   "metadata": {},
   "source": [
    "# Pruning"
   ]
  },
  {
   "cell_type": "code",
   "execution_count": null,
   "id": "2ee552da",
   "metadata": {},
   "outputs": [],
   "source": [
    "tg = {\"max_depth\":range(2,20,1)}\n",
    "dtr = DecisionTreeRegressor(random_state=21)\n",
    "\n",
    "from sklearn.model_selection import GridSearchCV\n",
    "cv = GridSearchCV(dtr,tg,scoring = \"neg_mean_absolute_error\",cv=4)\n",
    "cvmodel = cv.fit(Xnew,Y)\n",
    "cvmodel.best_params_"
   ]
  },
  {
   "cell_type": "code",
   "execution_count": null,
   "id": "f09a0137",
   "metadata": {},
   "outputs": [],
   "source": [
    "tg = {\"min_samples_leaf\":range(2,20,1)}\n",
    "dtr = DecisionTreeRegressor(random_state=21)\n",
    "\n",
    "from sklearn.model_selection import GridSearchCV\n",
    "cv = GridSearchCV(dtr,tg,scoring = \"neg_mean_absolute_error\",cv=4)\n",
    "cvmodel = cv.fit(Xnew,Y)\n",
    "cvmodel.best_params_"
   ]
  },
  {
   "cell_type": "code",
   "execution_count": null,
   "id": "41139cdc",
   "metadata": {},
   "outputs": [],
   "source": [
    "tg = {\"min_samples_split\":range(2,20,1)}\n",
    "dtr = DecisionTreeRegressor(random_state=21)\n",
    "\n",
    "from sklearn.model_selection import GridSearchCV\n",
    "cv = GridSearchCV(dtr,tg,scoring = \"neg_mean_absolute_error\",cv=4)\n",
    "cvmodel = cv.fit(Xnew,Y)\n",
    "cvmodel.best_params_"
   ]
  },
  {
   "cell_type": "raw",
   "id": "9ae09ff0",
   "metadata": {},
   "source": [
    "Finding accuracy based on best parameters obtained for max_depth ,min_samples_split,min_samples_leaf"
   ]
  },
  {
   "cell_type": "code",
   "execution_count": null,
   "id": "8322dd82",
   "metadata": {},
   "outputs": [],
   "source": [
    "dtr = DecisionTreeRegressor(max_depth=2)\n",
    "model1 = dtr.fit(xtrain,ytrain)\n",
    "tr_pred = model1.predict(xtrain)\n",
    "ts_pred = model1.predict(xtest)\n",
    "from sklearn.metrics import mean_absolute_error\n",
    "tr_err = mean_absolute_error(ytrain,tr_pred)\n",
    "ts_err  = mean_absolute_error(ytest,ts_pred)\n",
    "tr_err,ts_err"
   ]
  },
  {
   "cell_type": "code",
   "execution_count": null,
   "id": "f544ac99",
   "metadata": {},
   "outputs": [],
   "source": [
    "dtr = DecisionTreeRegressor(min_samples_split=2)\n",
    "model1 = dtr.fit(xtrain,ytrain)\n",
    "tr_pred = model1.predict(xtrain)\n",
    "ts_pred = model1.predict(xtest)\n",
    "from sklearn.metrics import mean_absolute_error\n",
    "tr_err = mean_absolute_error(ytrain,tr_pred)\n",
    "ts_err  = mean_absolute_error(ytest,ts_pred)\n",
    "tr_err,ts_err"
   ]
  },
  {
   "cell_type": "code",
   "execution_count": null,
   "id": "1a3681e7",
   "metadata": {},
   "outputs": [],
   "source": [
    "dtr = DecisionTreeRegressor(min_samples_leaf=2)\n",
    "model1 = dtr.fit(xtrain,ytrain)\n",
    "tr_pred = model1.predict(xtrain)\n",
    "ts_pred = model1.predict(xtest)\n",
    "from sklearn.metrics import mean_absolute_error\n",
    "tr_err = mean_absolute_error(ytrain,tr_pred)\n",
    "ts_err  = mean_absolute_error(ytest,ts_pred)\n",
    "tr_err,ts_err"
   ]
  },
  {
   "cell_type": "markdown",
   "id": "0b2daa00",
   "metadata": {},
   "source": [
    "# KNN Regression"
   ]
  },
  {
   "cell_type": "code",
   "execution_count": null,
   "id": "2e998ab9",
   "metadata": {},
   "outputs": [],
   "source": [
    "from sklearn.neighbors import KNeighborsRegressor\n",
    "knr= KNeighborsRegressor(n_neighbors=2)\n",
    "\n",
    "model =knr.fit(xtrain,ytrain)\n",
    "tr_pred= model.predict(xtrain)\n",
    "ts_pred =model.predict(xtest)\n",
    "from sklearn.metrics import mean_absolute_error\n",
    "tr_err= mean_absolute_error(ytrain,tr_pred)\n",
    "ts_err= mean_absolute_error(ytest,ts_pred)\n",
    "tr_err,ts_err\n"
   ]
  },
  {
   "cell_type": "code",
   "execution_count": null,
   "id": "a6d0fb92",
   "metadata": {},
   "outputs": [],
   "source": [
    "tg = {\"n_neighbors\":range(2,10,1)}\n",
    "knr = KNeighborsRegressor()\n",
    "\n",
    "from sklearn.model_selection import GridSearchCV\n",
    "cv = GridSearchCV(knr,tg,scoring = \"neg_mean_absolute_error\",cv=4)\n",
    "cvmodel = cv.fit(Xnew,Y)\n",
    "cvmodel.best_params_"
   ]
  },
  {
   "cell_type": "code",
   "execution_count": null,
   "id": "127c59f9",
   "metadata": {},
   "outputs": [],
   "source": [
    "from sklearn.neighbors import KNeighborsRegressor\n",
    "knr= KNeighborsRegressor(n_neighbors=9)\n",
    "\n",
    "model =knr.fit(xtrain,ytrain)\n",
    "tr_pred= model.predict(xtrain)\n",
    "ts_pred =model.predict(xtest)\n",
    "from sklearn.metrics import mean_absolute_error\n",
    "tr_err= mean_absolute_error(ytrain,tr_pred)\n",
    "ts_err= mean_absolute_error(ytest,ts_pred)\n",
    "tr_err,ts_err"
   ]
  },
  {
   "cell_type": "markdown",
   "id": "20ddf361",
   "metadata": {},
   "source": [
    "# RandomForestRegression"
   ]
  },
  {
   "cell_type": "code",
   "execution_count": null,
   "id": "3be4ac1a",
   "metadata": {},
   "outputs": [],
   "source": [
    "from sklearn.ensemble import RandomForestRegressor\n",
    "rfr = RandomForestRegressor(random_state=21)\n",
    "model = rfr.fit(xtrain,ytrain)\n",
    "tr_pred = model.predict(xtrain)\n",
    "ts_pred = model.predict(xtest)\n",
    "from sklearn.metrics import mean_absolute_error\n",
    "tr_acc = mean_absolute_error(ytrain,tr_pred)\n",
    "ts_acc  = mean_absolute_error(ytest,ts_pred)\n",
    "\n",
    "tr_acc,ts_acc"
   ]
  },
  {
   "cell_type": "markdown",
   "id": "937ed035",
   "metadata": {},
   "source": [
    "# GridsearchCV"
   ]
  },
  {
   "cell_type": "code",
   "execution_count": null,
   "id": "bacdae3d",
   "metadata": {},
   "outputs": [],
   "source": [
    "tg = {\"max_depth\":range(2,20,1),\"n_estimators\":range(2,200,10)}\n",
    "rfc = RandomForestRegressor(random_state=21)\n",
    "from sklearn.model_selection import GridSearchCV\n",
    "cv = GridSearchCV(rfc,tg,scoring = \"neg_mean_absolute_error\",cv=4)\n",
    "cvmodel = cv.fit(Xnew,Y)\n",
    "cvmodel.best_params_"
   ]
  },
  {
   "cell_type": "code",
   "execution_count": null,
   "id": "229b35ba",
   "metadata": {},
   "outputs": [],
   "source": [
    "rfr= RandomForestRegressor(random_state=21,max_depth=6,n_estimators=132)\n",
    "model = rfr.fit(xtrain,ytrain)\n",
    "tr_pred = model.predict(xtrain)\n",
    "ts_pred = model.predict(xtest)\n",
    "from sklearn.metrics import mean_absolute_error\n",
    "tr_acc = mean_absolute_error(ytrain,tr_pred)\n",
    "ts_acc  = mean_absolute_error(ytest,ts_pred)\n",
    "tr_acc,ts_acc"
   ]
  },
  {
   "cell_type": "markdown",
   "id": "7d86b8ad",
   "metadata": {},
   "source": [
    "# Predicting loan amount for the customers "
   ]
  },
  {
   "cell_type": "markdown",
   "id": "3d6a3abc",
   "metadata": {},
   "source": [
    "# KNN is best "
   ]
  },
  {
   "cell_type": "code",
   "execution_count": null,
   "id": "b1c6377e",
   "metadata": {},
   "outputs": [],
   "source": [
    "model = knr.fit(Xnew,Y)"
   ]
  },
  {
   "cell_type": "code",
   "execution_count": null,
   "id": "07260561",
   "metadata": {},
   "outputs": [],
   "source": [
    "Xb[\"Loan_amount\"]=model.predict(Xnewb)"
   ]
  },
  {
   "cell_type": "code",
   "execution_count": null,
   "id": "016c8777",
   "metadata": {},
   "outputs": [],
   "source": [
    "Xb"
   ]
  },
  {
   "cell_type": "code",
   "execution_count": null,
   "id": "fc322771",
   "metadata": {},
   "outputs": [],
   "source": [
    "Xb.to_csv(\"C:/Users/Suja4/OneDrive/Documents/Data Science/Dataset/submission_loan_2.csv\")"
   ]
  },
  {
   "cell_type": "markdown",
   "id": "37b50291",
   "metadata": {},
   "source": [
    "# b.)if duration is less than equal to 20 years,"
   ]
  },
  {
   "cell_type": "markdown",
   "id": "260d2c3c",
   "metadata": {},
   "source": [
    "# is customer eligible for required amount for some longer duration? What is that duration?(Regression)"
   ]
  },
  {
   "cell_type": "raw",
   "id": "84c45c6f",
   "metadata": {},
   "source": [
    "1.create a regression model from old data to predict duration .\n",
    "2.choose all the Loan status with \"N \" and duration <20 years from predicted data \n",
    "3.predict the loan duration for chosen customers "
   ]
  },
  {
   "cell_type": "code",
   "execution_count": null,
   "id": "a3ff5df8",
   "metadata": {},
   "outputs": [],
   "source": [
    "B[((B.Loan_Amount_Term<=240) & (B.Loan_Status ==\"N\"))]"
   ]
  },
  {
   "cell_type": "markdown",
   "id": "585c773d",
   "metadata": {},
   "source": [
    "# Bivariate analysis"
   ]
  },
  {
   "cell_type": "code",
   "execution_count": null,
   "id": "d48fcdd5",
   "metadata": {},
   "outputs": [],
   "source": [
    "Y= A[\"Loan_Amount_Term\"]\n",
    "X=A.drop(labels=[\"Loan_Amount_Term\",\"Loan_Status\",\"Loan_ID\"],axis=1)\n",
    "\n",
    "Xb=B[((B.Loan_Amount_Term<=240) & (B.Loan_Status ==\"N\"))]\n",
    "Xb=Xb.drop(labels=[\"Loan_Amount_Term\",\"Loan_ID\",\"Loan_Status\"],axis=1)"
   ]
  },
  {
   "cell_type": "code",
   "execution_count": null,
   "id": "cb291163",
   "metadata": {},
   "outputs": [],
   "source": [
    "Xb.shape"
   ]
  },
  {
   "cell_type": "code",
   "execution_count": null,
   "id": "4be705f9",
   "metadata": {},
   "outputs": [],
   "source": [
    "Xb.index=range(0,5)"
   ]
  },
  {
   "cell_type": "code",
   "execution_count": null,
   "id": "8597b1f6",
   "metadata": {},
   "outputs": [],
   "source": [
    "\n",
    "Xnew =preprocessing(X)\n",
    "\n",
    "Xnewb=preprocessing(Xb)\n",
    "\n"
   ]
  },
  {
   "cell_type": "code",
   "execution_count": null,
   "id": "6331257a",
   "metadata": {},
   "outputs": [],
   "source": [
    "from sklearn.model_selection import train_test_split\n",
    "xtrain,xtest,ytrain,ytest =train_test_split(Xnew,Y,test_size=0.2,random_state=21)\n"
   ]
  },
  {
   "cell_type": "markdown",
   "id": "4c0e7348",
   "metadata": {},
   "source": [
    "# KNN regression"
   ]
  },
  {
   "cell_type": "code",
   "execution_count": null,
   "id": "67819da3",
   "metadata": {},
   "outputs": [],
   "source": [
    "from sklearn.neighbors import KNeighborsRegressor\n",
    "knr= KNeighborsRegressor(n_neighbors=2)\n",
    "\n",
    "model =knr.fit(xtrain,ytrain)\n",
    "tr_pred= model.predict(xtrain)\n",
    "ts_pred =model.predict(xtest)\n",
    "from sklearn.metrics import mean_absolute_error\n",
    "tr_err= mean_absolute_error(ytrain,tr_pred)\n",
    "ts_err= mean_absolute_error(ytest,ts_pred)\n",
    "tr_err,ts_err\n"
   ]
  },
  {
   "cell_type": "code",
   "execution_count": null,
   "id": "37a4f337",
   "metadata": {},
   "outputs": [],
   "source": [
    "tg = {\"n_neighbors\":range(2,10,1)}\n",
    "knr = KNeighborsRegressor()\n",
    "\n",
    "from sklearn.model_selection import GridSearchCV\n",
    "cv = GridSearchCV(knr,tg,scoring = \"neg_mean_absolute_error\",cv=4)\n",
    "cvmodel = cv.fit(Xnew,Y)\n",
    "cvmodel.best_params_"
   ]
  },
  {
   "cell_type": "markdown",
   "id": "167160fe",
   "metadata": {},
   "source": [
    "# DecisionTreeRegressor"
   ]
  },
  {
   "cell_type": "code",
   "execution_count": null,
   "id": "85306758",
   "metadata": {},
   "outputs": [],
   "source": [
    "\n",
    "from sklearn.tree import DecisionTreeRegressor\n",
    "dtr = DecisionTreeRegressor(random_state=21)\n",
    "model = dtr.fit(xtrain,ytrain)\n",
    "tr_pred = model.predict(xtrain)\n",
    "ts_pred = model.predict(xtest)\n",
    "from sklearn.metrics import mean_absolute_error\n",
    "tr_err = mean_absolute_error(ytrain,tr_pred)\n",
    "ts_err  = mean_absolute_error(ytest,ts_pred)\n",
    "\n",
    "tr_err,ts_err"
   ]
  },
  {
   "cell_type": "markdown",
   "id": "e086d4be",
   "metadata": {},
   "source": [
    "# Pruning"
   ]
  },
  {
   "cell_type": "code",
   "execution_count": null,
   "id": "3d1dc627",
   "metadata": {},
   "outputs": [],
   "source": [
    "tg = {\"max_depth\":range(2,20,1)}\n",
    "dtr = DecisionTreeRegressor(random_state=21)\n",
    "\n",
    "from sklearn.model_selection import GridSearchCV\n",
    "cv = GridSearchCV(dtr,tg,scoring = \"neg_mean_absolute_error\",cv=4)\n",
    "cvmodel = cv.fit(Xnew,Y)\n",
    "cvmodel.best_params_"
   ]
  },
  {
   "cell_type": "code",
   "execution_count": null,
   "id": "18165252",
   "metadata": {},
   "outputs": [],
   "source": [
    "tg = {\"min_samples_leaf\":range(2,20,1)}\n",
    "dtr = DecisionTreeRegressor(random_state=21)\n",
    "\n",
    "from sklearn.model_selection import GridSearchCV\n",
    "cv = GridSearchCV(dtr,tg,scoring = \"neg_mean_absolute_error\",cv=4)\n",
    "cvmodel = cv.fit(Xnew,Y)\n",
    "cvmodel.best_params_"
   ]
  },
  {
   "cell_type": "code",
   "execution_count": null,
   "id": "48c6b4e7",
   "metadata": {},
   "outputs": [],
   "source": [
    "tg = {\"min_samples_split\":range(2,20,1)}\n",
    "dtr = DecisionTreeRegressor(random_state=21)\n",
    "\n",
    "from sklearn.model_selection import GridSearchCV\n",
    "cv = GridSearchCV(dtr,tg,scoring = \"neg_mean_absolute_error\",cv=4)\n",
    "cvmodel = cv.fit(Xnew,Y)\n",
    "cvmodel.best_params_"
   ]
  },
  {
   "cell_type": "code",
   "execution_count": null,
   "id": "9b9b71fa",
   "metadata": {},
   "outputs": [],
   "source": [
    "dtr = DecisionTreeRegressor(min_samples_split=2)\n",
    "model1 = dtr.fit(xtrain,ytrain)\n",
    "tr_pred = model1.predict(xtrain)\n",
    "ts_pred = model1.predict(xtest)\n",
    "from sklearn.metrics import mean_absolute_error\n",
    "tr_err = mean_absolute_error(ytrain,tr_pred)\n",
    "ts_err  = mean_absolute_error(ytest,ts_pred)\n",
    "tr_err,ts_err"
   ]
  },
  {
   "cell_type": "code",
   "execution_count": null,
   "id": "e31b9167",
   "metadata": {},
   "outputs": [],
   "source": [
    "dtr = DecisionTreeRegressor(min_samples_leaf=2)\n",
    "model1 = dtr.fit(xtrain,ytrain)\n",
    "tr_pred = model1.predict(xtrain)\n",
    "ts_pred = model1.predict(xtest)\n",
    "from sklearn.metrics import mean_absolute_error\n",
    "tr_err = mean_absolute_error(ytrain,tr_pred)\n",
    "ts_err  = mean_absolute_error(ytest,ts_pred)\n",
    "tr_err,ts_err"
   ]
  },
  {
   "cell_type": "code",
   "execution_count": null,
   "id": "3aa87a3f",
   "metadata": {},
   "outputs": [],
   "source": [
    "dtr = DecisionTreeRegressor(max_depth=2)\n",
    "model1 = dtr.fit(xtrain,ytrain)\n",
    "tr_pred = model1.predict(xtrain)\n",
    "ts_pred = model1.predict(xtest)\n",
    "from sklearn.metrics import mean_absolute_error\n",
    "tr_err = mean_absolute_error(ytrain,tr_pred)\n",
    "ts_err  = mean_absolute_error(ytest,ts_pred)\n",
    "tr_err,ts_err"
   ]
  },
  {
   "cell_type": "markdown",
   "id": "2e34cd58",
   "metadata": {},
   "source": [
    "# RandomForest"
   ]
  },
  {
   "cell_type": "code",
   "execution_count": null,
   "id": "7eab5705",
   "metadata": {},
   "outputs": [],
   "source": [
    "from sklearn.ensemble import RandomForestRegressor\n",
    "rfr = RandomForestRegressor(random_state=21)\n",
    "model = rfr.fit(xtrain,ytrain)\n",
    "tr_pred = model.predict(xtrain)\n",
    "ts_pred = model.predict(xtest)\n",
    "from sklearn.metrics import mean_absolute_error\n",
    "tr_acc = mean_absolute_error(ytrain,tr_pred)\n",
    "ts_acc  = mean_absolute_error(ytest,ts_pred)\n",
    "\n",
    "tr_acc,ts_acc"
   ]
  },
  {
   "cell_type": "code",
   "execution_count": null,
   "id": "867eb712",
   "metadata": {},
   "outputs": [],
   "source": [
    "tg = {\"max_depth\":range(2,20,1),\"n_estimators\":range(2,200,10)}\n",
    "rfc = RandomForestRegressor(random_state=21)\n",
    "from sklearn.model_selection import GridSearchCV\n",
    "cv = GridSearchCV(rfc,tg,scoring = \"neg_mean_absolute_error\",cv=4)\n",
    "cvmodel = cv.fit(Xnew,Y)\n",
    "cvmodel.best_params_"
   ]
  },
  {
   "cell_type": "code",
   "execution_count": null,
   "id": "2a5a59fb",
   "metadata": {},
   "outputs": [],
   "source": [
    "rfr = RandomForestRegressor(random_state=21,max_depth=5,n_estimators=42)\n",
    "model = rfr.fit(xtrain,ytrain)\n",
    "tr_pred = model.predict(xtrain)\n",
    "ts_pred = model.predict(xtest)\n",
    "from sklearn.metrics import mean_absolute_error\n",
    "tr_acc = mean_absolute_error(ytrain,tr_pred)\n",
    "ts_acc  = mean_absolute_error(ytest,ts_pred)\n",
    "\n",
    "tr_acc,ts_acc"
   ]
  },
  {
   "cell_type": "markdown",
   "id": "feb76be3",
   "metadata": {},
   "source": [
    "# Adaboost"
   ]
  },
  {
   "cell_type": "code",
   "execution_count": null,
   "id": "f67feefa",
   "metadata": {},
   "outputs": [],
   "source": [
    "from sklearn.ensemble import AdaBoostRegressor\n",
    "from sklearn.tree import DecisionTreeRegressor\n",
    "abr = AdaBoostRegressor(DecisionTreeRegressor(random_state=21,max_depth=2),n_estimators=40)\n",
    "model = abr.fit(xtrain,ytrain)\n",
    "tr_pred = model.predict(xtrain)\n",
    "ts_pred = model.predict(xtest)\n",
    "from sklearn.metrics import mean_absolute_error\n",
    "tr_err = mean_absolute_error(ytrain,tr_pred)\n",
    "ts_err  = mean_absolute_error(ytest,ts_pred)\n",
    "tr_err,ts_err"
   ]
  },
  {
   "cell_type": "code",
   "execution_count": null,
   "id": "351d5eb7",
   "metadata": {},
   "outputs": [],
   "source": [
    "tg = {\"n_estimators\":range(2,30,10)}\n",
    "\n",
    "dtc = DecisionTreeClassifier(random_state=21,max_depth=2)\n",
    "abc = AdaBoostClassifier(dtc)\n",
    "\n",
    "from sklearn.model_selection import GridSearchCV\n",
    "cv = GridSearchCV(abc,tg,scoring = \"accuracy\",cv=4)\n",
    "cvmodel = cv.fit(Xnew,Y)\n",
    "cvmodel.best_params_"
   ]
  },
  {
   "cell_type": "code",
   "execution_count": null,
   "id": "e47f1dde",
   "metadata": {},
   "outputs": [],
   "source": [
    "from sklearn.ensemble import AdaBoostRegressor\n",
    "from sklearn.tree import DecisionTreeRegressor\n",
    "abr = AdaBoostRegressor(DecisionTreeRegressor(random_state=21,max_depth=2),n_estimators=2)\n",
    "model = abr.fit(xtrain,ytrain)\n",
    "tr_pred = model.predict(xtrain)\n",
    "ts_pred = model.predict(xtest)\n",
    "from sklearn.metrics import mean_absolute_error\n",
    "tr_err = mean_absolute_error(ytrain,tr_pred)\n",
    "ts_err  = mean_absolute_error(ytest,ts_pred)\n",
    "tr_err,ts_err"
   ]
  },
  {
   "cell_type": "markdown",
   "id": "49951705",
   "metadata": {},
   "source": [
    "# Predict duration for customers "
   ]
  },
  {
   "cell_type": "markdown",
   "id": "0ad8e8f8",
   "metadata": {},
   "source": [
    "# DTR is best"
   ]
  },
  {
   "cell_type": "code",
   "execution_count": null,
   "id": "c897adcf",
   "metadata": {},
   "outputs": [],
   "source": [
    "from sklearn.neighbors import KNeighborsRegressor\n",
    "knr= KNeighborsRegressor(n_neighbors=2)\n",
    "\n",
    "model =dtr.fit(Xnew,Y)\n"
   ]
  },
  {
   "cell_type": "code",
   "execution_count": null,
   "id": "69ee110e",
   "metadata": {},
   "outputs": [],
   "source": [
    "Xnew.columns"
   ]
  },
  {
   "cell_type": "code",
   "execution_count": null,
   "id": "e211dc74",
   "metadata": {},
   "outputs": [],
   "source": [
    "Xnewb.columns"
   ]
  },
  {
   "cell_type": "code",
   "execution_count": null,
   "id": "ba2e0341",
   "metadata": {},
   "outputs": [],
   "source": [
    "Xnewb[\"Gender_Female\"]=0\n",
    "Xnewb[\"Dependents_2\"]=0\n",
    "Xnewb[\"Self_Employed_Yes\"]=0\n",
    "Xnewb[\"Property_Area_Rural\"]=0\n",
    "Xnewb[\"Dependents_1\"]=0"
   ]
  },
  {
   "cell_type": "code",
   "execution_count": null,
   "id": "bac0af38",
   "metadata": {},
   "outputs": [],
   "source": [
    "Xb[\"Loan_Amount_Term \"]=model.predict(Xnewb)"
   ]
  },
  {
   "cell_type": "code",
   "execution_count": null,
   "id": "55367c6f",
   "metadata": {},
   "outputs": [],
   "source": []
  },
  {
   "cell_type": "code",
   "execution_count": null,
   "id": "b77c2972",
   "metadata": {},
   "outputs": [],
   "source": [
    "Xb[\"Loan_ID\"]=B[\"Loan_ID\"]"
   ]
  },
  {
   "cell_type": "code",
   "execution_count": null,
   "id": "b4bcafc4",
   "metadata": {},
   "outputs": [],
   "source": [
    "Xb"
   ]
  },
  {
   "cell_type": "code",
   "execution_count": null,
   "id": "337ca83c",
   "metadata": {},
   "outputs": [],
   "source": [
    "Xb.to_csv(\"C:/Users/Suja4/OneDrive/Documents/Data Science/Dataset/submission_loan_3.csv\")"
   ]
  },
  {
   "cell_type": "code",
   "execution_count": null,
   "id": "b0e75295",
   "metadata": {},
   "outputs": [],
   "source": []
  },
  {
   "cell_type": "markdown",
   "id": "f686bcf1",
   "metadata": {},
   "source": [
    "# Neural Networks"
   ]
  },
  {
   "cell_type": "code",
   "execution_count": null,
   "id": "48c723fc",
   "metadata": {},
   "outputs": [],
   "source": [
    "from keras.models import Sequential\n",
    "from keras.layers import Dense,Dropout"
   ]
  },
  {
   "cell_type": "code",
   "execution_count": null,
   "id": "ea3e1a51",
   "metadata": {},
   "outputs": [],
   "source": [
    "nn = Sequential()\n",
    "nn.add(Dense(100,input_dim=len(xtrain.columns)))\n",
    "nn.add(Dropout(0.1))\n",
    "nn.add(Dense(100))\n",
    "nn.add(Dropout(0.1))\n",
    "nn.add(Dense(100))\n",
    "nn.add(Dropout(0.1))\n",
    "nn.add(Dense(1))\n",
    "\n",
    "from keras.callbacks import EarlyStopping\n",
    "es = EarlyStopping(patience=10)\n",
    "nn.compile(loss=\"mse\")\n",
    "model = nn.fit(Xnew,Y,validation_data=(xtest,ytest),epochs=250,callbacks=es)"
   ]
  },
  {
   "cell_type": "code",
   "execution_count": null,
   "id": "a35de138",
   "metadata": {},
   "outputs": [],
   "source": [
    "tr_err = model.history['loss']\n",
    "ts_err = model.history['val_loss']"
   ]
  },
  {
   "cell_type": "code",
   "execution_count": null,
   "id": "03cad54e",
   "metadata": {},
   "outputs": [],
   "source": [
    "import matplotlib.pyplot as plt\n",
    "plt.plot(tr_err)\n",
    "plt.plot(ts_err)"
   ]
  },
  {
   "cell_type": "code",
   "execution_count": null,
   "id": "deb2139d",
   "metadata": {},
   "outputs": [],
   "source": [
    "final_DF = Xnewb[Xnew.columns]"
   ]
  },
  {
   "cell_type": "code",
   "execution_count": null,
   "id": "766742fe",
   "metadata": {},
   "outputs": [],
   "source": [
    "pred = nn.predict(final_DF)"
   ]
  },
  {
   "cell_type": "code",
   "execution_count": null,
   "id": "428b08fb",
   "metadata": {},
   "outputs": [],
   "source": [
    "pred"
   ]
  },
  {
   "cell_type": "code",
   "execution_count": null,
   "id": "aaebf365",
   "metadata": {},
   "outputs": [],
   "source": []
  }
 ],
 "metadata": {
  "kernelspec": {
   "display_name": "Python 3 (ipykernel)",
   "language": "python",
   "name": "python3"
  },
  "language_info": {
   "codemirror_mode": {
    "name": "ipython",
    "version": 3
   },
   "file_extension": ".py",
   "mimetype": "text/x-python",
   "name": "python",
   "nbconvert_exporter": "python",
   "pygments_lexer": "ipython3",
   "version": "3.9.15"
  }
 },
 "nbformat": 4,
 "nbformat_minor": 5
}
