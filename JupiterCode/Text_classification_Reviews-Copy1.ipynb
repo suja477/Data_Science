{
 "cells": [
  {
   "cell_type": "code",
   "execution_count": 1,
   "id": "27b00ef4",
   "metadata": {},
   "outputs": [],
   "source": [
    "from warnings import filterwarnings\n",
    "filterwarnings(\"ignore\")"
   ]
  },
  {
   "cell_type": "code",
   "execution_count": 2,
   "id": "c9c4faa2",
   "metadata": {},
   "outputs": [],
   "source": [
    "import pandas as pd\n",
    "A = pd.read_csv(\"C:/Users/Suja4/OneDrive/Documents/Data Science/Dataset/Restaurant_Reviews.tsv\",sep=\"\\t\")\n"
   ]
  },
  {
   "cell_type": "code",
   "execution_count": 3,
   "id": "bfb115a0",
   "metadata": {},
   "outputs": [
    {
     "data": {
      "text/html": [
       "<div>\n",
       "<style scoped>\n",
       "    .dataframe tbody tr th:only-of-type {\n",
       "        vertical-align: middle;\n",
       "    }\n",
       "\n",
       "    .dataframe tbody tr th {\n",
       "        vertical-align: top;\n",
       "    }\n",
       "\n",
       "    .dataframe thead th {\n",
       "        text-align: right;\n",
       "    }\n",
       "</style>\n",
       "<table border=\"1\" class=\"dataframe\">\n",
       "  <thead>\n",
       "    <tr style=\"text-align: right;\">\n",
       "      <th></th>\n",
       "      <th>Review</th>\n",
       "      <th>Liked</th>\n",
       "    </tr>\n",
       "  </thead>\n",
       "  <tbody>\n",
       "    <tr>\n",
       "      <th>0</th>\n",
       "      <td>Wow... Loved this place.</td>\n",
       "      <td>1</td>\n",
       "    </tr>\n",
       "    <tr>\n",
       "      <th>1</th>\n",
       "      <td>Crust is not good.</td>\n",
       "      <td>0</td>\n",
       "    </tr>\n",
       "    <tr>\n",
       "      <th>2</th>\n",
       "      <td>Not tasty and the texture was just nasty.</td>\n",
       "      <td>0</td>\n",
       "    </tr>\n",
       "    <tr>\n",
       "      <th>3</th>\n",
       "      <td>Stopped by during the late May bank holiday of...</td>\n",
       "      <td>1</td>\n",
       "    </tr>\n",
       "    <tr>\n",
       "      <th>4</th>\n",
       "      <td>The selection on the menu was great and so wer...</td>\n",
       "      <td>1</td>\n",
       "    </tr>\n",
       "    <tr>\n",
       "      <th>5</th>\n",
       "      <td>Now I am getting angry and I want my damn pho.</td>\n",
       "      <td>0</td>\n",
       "    </tr>\n",
       "    <tr>\n",
       "      <th>6</th>\n",
       "      <td>Honeslty it didn't taste THAT fresh.)</td>\n",
       "      <td>0</td>\n",
       "    </tr>\n",
       "    <tr>\n",
       "      <th>7</th>\n",
       "      <td>The potatoes were like rubber and you could te...</td>\n",
       "      <td>0</td>\n",
       "    </tr>\n",
       "    <tr>\n",
       "      <th>8</th>\n",
       "      <td>The fries were great too.</td>\n",
       "      <td>1</td>\n",
       "    </tr>\n",
       "    <tr>\n",
       "      <th>9</th>\n",
       "      <td>A great touch.</td>\n",
       "      <td>1</td>\n",
       "    </tr>\n",
       "  </tbody>\n",
       "</table>\n",
       "</div>"
      ],
      "text/plain": [
       "                                              Review  Liked\n",
       "0                           Wow... Loved this place.      1\n",
       "1                                 Crust is not good.      0\n",
       "2          Not tasty and the texture was just nasty.      0\n",
       "3  Stopped by during the late May bank holiday of...      1\n",
       "4  The selection on the menu was great and so wer...      1\n",
       "5     Now I am getting angry and I want my damn pho.      0\n",
       "6              Honeslty it didn't taste THAT fresh.)      0\n",
       "7  The potatoes were like rubber and you could te...      0\n",
       "8                          The fries were great too.      1\n",
       "9                                     A great touch.      1"
      ]
     },
     "execution_count": 3,
     "metadata": {},
     "output_type": "execute_result"
    }
   ],
   "source": [
    "A.head(10)"
   ]
  },
  {
   "cell_type": "markdown",
   "id": "bca959ff",
   "metadata": {},
   "source": [
    "# Preprocessing"
   ]
  },
  {
   "cell_type": "code",
   "execution_count": 4,
   "id": "661abf08",
   "metadata": {},
   "outputs": [],
   "source": [
    "Q = []\n",
    "for i in A.Review:\n",
    "    j = i.lower()\n",
    "    import re\n",
    "    k = re.sub(\"[^a-z0-9 ]\",\"\",j)\n",
    "    Q.append(k)"
   ]
  },
  {
   "cell_type": "code",
   "execution_count": 5,
   "id": "fc392433",
   "metadata": {},
   "outputs": [],
   "source": [
    "from sklearn.feature_extraction.text import TfidfVectorizer\n",
    "tf = TfidfVectorizer()"
   ]
  },
  {
   "cell_type": "code",
   "execution_count": 6,
   "id": "c55216fd",
   "metadata": {},
   "outputs": [],
   "source": [
    "data=tf.fit_transform(Q).toarray()"
   ]
  },
  {
   "cell_type": "code",
   "execution_count": 7,
   "id": "9974ce69",
   "metadata": {},
   "outputs": [
    {
     "data": {
      "text/plain": [
       "array([[0., 0., 0., ..., 0., 0., 0.],\n",
       "       [0., 0., 0., ..., 0., 0., 0.],\n",
       "       [0., 0., 0., ..., 0., 0., 0.],\n",
       "       ...,\n",
       "       [0., 0., 0., ..., 0., 0., 0.],\n",
       "       [0., 0., 0., ..., 0., 0., 0.],\n",
       "       [0., 0., 0., ..., 0., 0., 0.]])"
      ]
     },
     "execution_count": 7,
     "metadata": {},
     "output_type": "execute_result"
    }
   ],
   "source": [
    "data"
   ]
  },
  {
   "cell_type": "markdown",
   "id": "e3c210cd",
   "metadata": {},
   "source": [
    "# Declare X and Y"
   ]
  },
  {
   "cell_type": "code",
   "execution_count": 8,
   "id": "bb05e3e0",
   "metadata": {},
   "outputs": [],
   "source": [
    "X = data\n",
    "Y = A.Liked.values"
   ]
  },
  {
   "cell_type": "code",
   "execution_count": 9,
   "id": "4f3f5430",
   "metadata": {},
   "outputs": [
    {
     "data": {
      "text/plain": [
       "(1000, 2067)"
      ]
     },
     "execution_count": 9,
     "metadata": {},
     "output_type": "execute_result"
    }
   ],
   "source": [
    "X.shape"
   ]
  },
  {
   "cell_type": "code",
   "execution_count": 10,
   "id": "94c237bd",
   "metadata": {},
   "outputs": [
    {
     "data": {
      "text/plain": [
       "(1000,)"
      ]
     },
     "execution_count": 10,
     "metadata": {},
     "output_type": "execute_result"
    }
   ],
   "source": [
    "Y.shape"
   ]
  },
  {
   "cell_type": "markdown",
   "id": "19ddd637",
   "metadata": {},
   "source": [
    "# create a neural network"
   ]
  },
  {
   "cell_type": "code",
   "execution_count": 11,
   "id": "9af38644",
   "metadata": {},
   "outputs": [],
   "source": [
    "from keras.models import Sequential\n",
    "from keras.layers import Dense,Dropout"
   ]
  },
  {
   "cell_type": "code",
   "execution_count": 12,
   "id": "8a8519e4",
   "metadata": {},
   "outputs": [],
   "source": [
    "nn=Sequential()\n",
    "nn.add(Dense(2067,input_dim=2067))\n",
    "nn.add(Dense(2067))\n",
    "nn.add(Dropout(0.1))\n",
    "nn.add(Dense(1,activation=\"sigmoid\"))"
   ]
  },
  {
   "cell_type": "code",
   "execution_count": 58,
   "id": "aff1e6c7",
   "metadata": {},
   "outputs": [
    {
     "name": "stdout",
     "output_type": "stream",
     "text": [
      "Epoch 1/10\n",
      "25/25 [==============================] - 2s 58ms/step - loss: 4.2245e-09 - accuracy: 1.0000 - val_loss: 1.6669 - val_accuracy: 0.8050\n",
      "Epoch 2/10\n",
      "25/25 [==============================] - 1s 49ms/step - loss: 4.2531e-09 - accuracy: 1.0000 - val_loss: 1.6954 - val_accuracy: 0.8050\n",
      "Epoch 3/10\n",
      "25/25 [==============================] - 1s 49ms/step - loss: 4.0521e-09 - accuracy: 1.0000 - val_loss: 1.6794 - val_accuracy: 0.8100\n",
      "Epoch 4/10\n",
      "25/25 [==============================] - 1s 51ms/step - loss: 4.0130e-09 - accuracy: 1.0000 - val_loss: 1.6755 - val_accuracy: 0.8050\n",
      "Epoch 5/10\n",
      "25/25 [==============================] - 1s 51ms/step - loss: 3.9299e-09 - accuracy: 1.0000 - val_loss: 1.6938 - val_accuracy: 0.8050\n",
      "Epoch 6/10\n",
      "25/25 [==============================] - 1s 50ms/step - loss: 3.8426e-09 - accuracy: 1.0000 - val_loss: 1.6828 - val_accuracy: 0.8050\n",
      "Epoch 7/10\n",
      "25/25 [==============================] - 1s 49ms/step - loss: 3.7610e-09 - accuracy: 1.0000 - val_loss: 1.6773 - val_accuracy: 0.8100\n",
      "Epoch 8/10\n",
      "25/25 [==============================] - 1s 50ms/step - loss: 3.7594e-09 - accuracy: 1.0000 - val_loss: 1.6679 - val_accuracy: 0.8100\n",
      "Epoch 9/10\n",
      "25/25 [==============================] - 1s 52ms/step - loss: 3.7182e-09 - accuracy: 1.0000 - val_loss: 1.6688 - val_accuracy: 0.8100\n",
      "Epoch 10/10\n",
      "25/25 [==============================] - 1s 50ms/step - loss: 3.6753e-09 - accuracy: 1.0000 - val_loss: 1.6848 - val_accuracy: 0.8050\n"
     ]
    }
   ],
   "source": [
    "nn.compile(loss=\"binary_crossentropy\",metrics=\"accuracy\")\n",
    "model = nn.fit(X,Y,validation_split=0.2,epochs=10)\n"
   ]
  },
  {
   "cell_type": "code",
   "execution_count": null,
   "id": "9ea0b31c",
   "metadata": {},
   "outputs": [],
   "source": []
  },
  {
   "cell_type": "markdown",
   "id": "e4e4b31e",
   "metadata": {},
   "source": [
    "# Predictions"
   ]
  },
  {
   "cell_type": "code",
   "execution_count": 59,
   "id": "1b6b983e",
   "metadata": {},
   "outputs": [],
   "source": [
    "A1 = pd.read_csv(\"C:/Users/Suja4/OneDrive/Documents/Data Science/Dataset/rest_reviews_testing.csv\")"
   ]
  },
  {
   "cell_type": "code",
   "execution_count": 60,
   "id": "29fdf1db",
   "metadata": {},
   "outputs": [
    {
     "data": {
      "text/html": [
       "<div>\n",
       "<style scoped>\n",
       "    .dataframe tbody tr th:only-of-type {\n",
       "        vertical-align: middle;\n",
       "    }\n",
       "\n",
       "    .dataframe tbody tr th {\n",
       "        vertical-align: top;\n",
       "    }\n",
       "\n",
       "    .dataframe thead th {\n",
       "        text-align: right;\n",
       "    }\n",
       "</style>\n",
       "<table border=\"1\" class=\"dataframe\">\n",
       "  <thead>\n",
       "    <tr style=\"text-align: right;\">\n",
       "      <th></th>\n",
       "      <th>Review</th>\n",
       "    </tr>\n",
       "  </thead>\n",
       "  <tbody>\n",
       "    <tr>\n",
       "      <th>0</th>\n",
       "      <td>Tasty and delicious</td>\n",
       "    </tr>\n",
       "    <tr>\n",
       "      <th>1</th>\n",
       "      <td>crust is hard</td>\n",
       "    </tr>\n",
       "    <tr>\n",
       "      <th>2</th>\n",
       "      <td>yummy....I like Dominos pizza</td>\n",
       "    </tr>\n",
       "    <tr>\n",
       "      <th>3</th>\n",
       "      <td>fast service and good taste</td>\n",
       "    </tr>\n",
       "    <tr>\n",
       "      <th>4</th>\n",
       "      <td>Good taste</td>\n",
       "    </tr>\n",
       "  </tbody>\n",
       "</table>\n",
       "</div>"
      ],
      "text/plain": [
       "                          Review\n",
       "0            Tasty and delicious\n",
       "1                  crust is hard\n",
       "2  yummy....I like Dominos pizza\n",
       "3    fast service and good taste\n",
       "4                    Good taste "
      ]
     },
     "execution_count": 60,
     "metadata": {},
     "output_type": "execute_result"
    }
   ],
   "source": [
    "A1.head()"
   ]
  },
  {
   "cell_type": "code",
   "execution_count": 61,
   "id": "348258bc",
   "metadata": {},
   "outputs": [],
   "source": [
    "Q = []\n",
    "for i in A1.Review:\n",
    "    j = i.lower()\n",
    "    import re\n",
    "    k = re.sub(\"[^a-z0-9 ]\",\"\",j)\n",
    "    Q.append(k)"
   ]
  },
  {
   "cell_type": "code",
   "execution_count": 62,
   "id": "16083f34",
   "metadata": {},
   "outputs": [
    {
     "data": {
      "text/plain": [
       "['tasty and delicious',\n",
       " 'crust is hard',\n",
       " 'yummyi like dominos pizza',\n",
       " 'fast service and good taste',\n",
       " 'good taste ',\n",
       " 'its very delicious hope it will maintain tast',\n",
       " 'food was okay but the cheesy dip provided was expired',\n",
       " 'taste is ok but not satisfied',\n",
       " 'poor service ',\n",
       " 'good hygiene food delivered by dominos with proper safety',\n",
       " 'not good',\n",
       " 'taste is not ok also service is not satisfied',\n",
       " 'delayed service',\n",
       " 'horrible taste',\n",
       " 'late service',\n",
       " 'taste is ok but delivery is too latecant spend that much time',\n",
       " 'disappointing food experience']"
      ]
     },
     "execution_count": 62,
     "metadata": {},
     "output_type": "execute_result"
    }
   ],
   "source": [
    "Q"
   ]
  },
  {
   "cell_type": "code",
   "execution_count": 63,
   "id": "948a475f",
   "metadata": {},
   "outputs": [],
   "source": [
    "data_pred = tf.transform(Q).toarray()"
   ]
  },
  {
   "cell_type": "code",
   "execution_count": 64,
   "id": "fad6b3f5",
   "metadata": {},
   "outputs": [
    {
     "name": "stdout",
     "output_type": "stream",
     "text": [
      "WARNING:tensorflow:5 out of the last 9 calls to <function Model.make_predict_function.<locals>.predict_function at 0x0000023A7FAE3310> triggered tf.function retracing. Tracing is expensive and the excessive number of tracings could be due to (1) creating @tf.function repeatedly in a loop, (2) passing tensors with different shapes, (3) passing Python objects instead of tensors. For (1), please define your @tf.function outside of the loop. For (2), @tf.function has reduce_retracing=True option that can avoid unnecessary retracing. For (3), please refer to https://www.tensorflow.org/guide/function#controlling_retracing and https://www.tensorflow.org/api_docs/python/tf/function for  more details.\n",
      "1/1 [==============================] - 0s 39ms/step\n"
     ]
    },
    {
     "data": {
      "text/plain": [
       "array([[1.0000000e+00],\n",
       "       [1.1208059e-15],\n",
       "       [1.0000000e+00],\n",
       "       [1.0000000e+00],\n",
       "       [1.0000000e+00],\n",
       "       [1.0000000e+00],\n",
       "       [1.2064746e-04],\n",
       "       [6.6356365e-14],\n",
       "       [4.8684404e-14],\n",
       "       [9.9999982e-01],\n",
       "       [1.6669634e-06],\n",
       "       [6.0873907e-14],\n",
       "       [8.0909288e-01],\n",
       "       [1.6098142e-10],\n",
       "       [9.8611349e-01],\n",
       "       [1.3671763e-12],\n",
       "       [1.6952258e-04]], dtype=float32)"
      ]
     },
     "execution_count": 64,
     "metadata": {},
     "output_type": "execute_result"
    }
   ],
   "source": [
    "nn.predict(data_pred)"
   ]
  },
  {
   "cell_type": "code",
   "execution_count": 65,
   "id": "31f68c93",
   "metadata": {},
   "outputs": [
    {
     "name": "stdout",
     "output_type": "stream",
     "text": [
      "1/1 [==============================] - 0s 17ms/step\n"
     ]
    }
   ],
   "source": [
    "T = []\n",
    "for i in nn.predict(data_pred):\n",
    "    if(round(i[0],2) < 0.5):\n",
    "       T.append(0)\n",
    "    else:\n",
    "       T.append(1)"
   ]
  },
  {
   "cell_type": "code",
   "execution_count": 66,
   "id": "9842cb80",
   "metadata": {},
   "outputs": [
    {
     "data": {
      "text/plain": [
       "[1, 0, 1, 1, 1, 1, 0, 0, 0, 1, 0, 0, 1, 0, 1, 0, 0]"
      ]
     },
     "execution_count": 66,
     "metadata": {},
     "output_type": "execute_result"
    }
   ],
   "source": [
    "T"
   ]
  },
  {
   "cell_type": "code",
   "execution_count": 67,
   "id": "804aff79",
   "metadata": {},
   "outputs": [],
   "source": [
    "A1[\"Liked\"]=T"
   ]
  },
  {
   "cell_type": "code",
   "execution_count": 68,
   "id": "633ad714",
   "metadata": {},
   "outputs": [
    {
     "data": {
      "text/html": [
       "<div>\n",
       "<style scoped>\n",
       "    .dataframe tbody tr th:only-of-type {\n",
       "        vertical-align: middle;\n",
       "    }\n",
       "\n",
       "    .dataframe tbody tr th {\n",
       "        vertical-align: top;\n",
       "    }\n",
       "\n",
       "    .dataframe thead th {\n",
       "        text-align: right;\n",
       "    }\n",
       "</style>\n",
       "<table border=\"1\" class=\"dataframe\">\n",
       "  <thead>\n",
       "    <tr style=\"text-align: right;\">\n",
       "      <th></th>\n",
       "      <th>Review</th>\n",
       "      <th>Liked</th>\n",
       "    </tr>\n",
       "  </thead>\n",
       "  <tbody>\n",
       "    <tr>\n",
       "      <th>0</th>\n",
       "      <td>Tasty and delicious</td>\n",
       "      <td>1</td>\n",
       "    </tr>\n",
       "    <tr>\n",
       "      <th>1</th>\n",
       "      <td>crust is hard</td>\n",
       "      <td>0</td>\n",
       "    </tr>\n",
       "    <tr>\n",
       "      <th>2</th>\n",
       "      <td>yummy....I like Dominos pizza</td>\n",
       "      <td>1</td>\n",
       "    </tr>\n",
       "    <tr>\n",
       "      <th>3</th>\n",
       "      <td>fast service and good taste</td>\n",
       "      <td>1</td>\n",
       "    </tr>\n",
       "    <tr>\n",
       "      <th>4</th>\n",
       "      <td>Good taste</td>\n",
       "      <td>1</td>\n",
       "    </tr>\n",
       "    <tr>\n",
       "      <th>5</th>\n",
       "      <td>Its very delicious... hope it will maintain ta...</td>\n",
       "      <td>1</td>\n",
       "    </tr>\n",
       "    <tr>\n",
       "      <th>6</th>\n",
       "      <td>Food was okay but the cheesy dip provided was ...</td>\n",
       "      <td>0</td>\n",
       "    </tr>\n",
       "    <tr>\n",
       "      <th>7</th>\n",
       "      <td>taste is ok but not satisfied</td>\n",
       "      <td>0</td>\n",
       "    </tr>\n",
       "    <tr>\n",
       "      <th>8</th>\n",
       "      <td>Poor service</td>\n",
       "      <td>0</td>\n",
       "    </tr>\n",
       "    <tr>\n",
       "      <th>9</th>\n",
       "      <td>Good hygiene food delivered by dominos with pr...</td>\n",
       "      <td>1</td>\n",
       "    </tr>\n",
       "    <tr>\n",
       "      <th>10</th>\n",
       "      <td>Not Good</td>\n",
       "      <td>0</td>\n",
       "    </tr>\n",
       "    <tr>\n",
       "      <th>11</th>\n",
       "      <td>taste is not ok also service is not satisfied</td>\n",
       "      <td>0</td>\n",
       "    </tr>\n",
       "    <tr>\n",
       "      <th>12</th>\n",
       "      <td>Delayed service</td>\n",
       "      <td>1</td>\n",
       "    </tr>\n",
       "    <tr>\n",
       "      <th>13</th>\n",
       "      <td>Horrible taste</td>\n",
       "      <td>0</td>\n",
       "    </tr>\n",
       "    <tr>\n",
       "      <th>14</th>\n",
       "      <td>Late Service</td>\n",
       "      <td>1</td>\n",
       "    </tr>\n",
       "    <tr>\n",
       "      <th>15</th>\n",
       "      <td>taste is ok but delivery is too late..Can't sp...</td>\n",
       "      <td>0</td>\n",
       "    </tr>\n",
       "    <tr>\n",
       "      <th>16</th>\n",
       "      <td>disappointing food experience</td>\n",
       "      <td>0</td>\n",
       "    </tr>\n",
       "  </tbody>\n",
       "</table>\n",
       "</div>"
      ],
      "text/plain": [
       "                                               Review  Liked\n",
       "0                                 Tasty and delicious      1\n",
       "1                                       crust is hard      0\n",
       "2                       yummy....I like Dominos pizza      1\n",
       "3                         fast service and good taste      1\n",
       "4                                         Good taste       1\n",
       "5   Its very delicious... hope it will maintain ta...      1\n",
       "6   Food was okay but the cheesy dip provided was ...      0\n",
       "7                       taste is ok but not satisfied      0\n",
       "8                                       Poor service       0\n",
       "9   Good hygiene food delivered by dominos with pr...      1\n",
       "10                                           Not Good      0\n",
       "11      taste is not ok also service is not satisfied      0\n",
       "12                                    Delayed service      1\n",
       "13                                     Horrible taste      0\n",
       "14                                       Late Service      1\n",
       "15  taste is ok but delivery is too late..Can't sp...      0\n",
       "16                      disappointing food experience      0"
      ]
     },
     "execution_count": 68,
     "metadata": {},
     "output_type": "execute_result"
    }
   ],
   "source": [
    "A1"
   ]
  },
  {
   "cell_type": "code",
   "execution_count": null,
   "id": "ba773450",
   "metadata": {},
   "outputs": [],
   "source": []
  },
  {
   "cell_type": "code",
   "execution_count": null,
   "id": "2b9c06e8",
   "metadata": {},
   "outputs": [],
   "source": []
  },
  {
   "cell_type": "code",
   "execution_count": null,
   "id": "4a47954f",
   "metadata": {},
   "outputs": [],
   "source": []
  }
 ],
 "metadata": {
  "kernelspec": {
   "display_name": "Python 3 (ipykernel)",
   "language": "python",
   "name": "python3"
  },
  "language_info": {
   "codemirror_mode": {
    "name": "ipython",
    "version": 3
   },
   "file_extension": ".py",
   "mimetype": "text/x-python",
   "name": "python",
   "nbconvert_exporter": "python",
   "pygments_lexer": "ipython3",
   "version": "3.9.15"
  }
 },
 "nbformat": 4,
 "nbformat_minor": 5
}
