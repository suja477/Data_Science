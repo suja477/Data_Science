{
 "cells": [
  {
   "cell_type": "code",
   "execution_count": 1,
   "id": "989f5df9",
   "metadata": {},
   "outputs": [],
   "source": [
    "import pandas as pd\n",
    "A=pd.read_csv(\"C:/Users/Suja4/OneDrive/Documents/Data Science/Dataset/train.csv\")\n",
    "\n",
    "from warnings import filterwarnings\n",
    "filterwarnings(\"ignore\")"
   ]
  },
  {
   "cell_type": "code",
   "execution_count": 2,
   "id": "dff21060",
   "metadata": {},
   "outputs": [
    {
     "data": {
      "text/plain": [
       "id                    0\n",
       "Manufacturer          0\n",
       "Model                 0\n",
       "Type                  0\n",
       "Min.Price             0\n",
       "Price                 0\n",
       "Max.Price             0\n",
       "MPG.city              0\n",
       "MPG.highway           0\n",
       "AirBags               4\n",
       "DriveTrain            0\n",
       "Cylinders             0\n",
       "EngineSize            0\n",
       "Horsepower            0\n",
       "RPM                   0\n",
       "Rev.per.mile          0\n",
       "Man.trans.avail       0\n",
       "Fuel.tank.capacity    0\n",
       "Passengers            0\n",
       "Length                0\n",
       "Wheelbase             0\n",
       "Width                 0\n",
       "Turn.circle           0\n",
       "Rear.seat.room        2\n",
       "Luggage.room          9\n",
       "Weight                0\n",
       "Origin                0\n",
       "Make                  0\n",
       "dtype: int64"
      ]
     },
     "execution_count": 2,
     "metadata": {},
     "output_type": "execute_result"
    }
   ],
   "source": [
    "A.isna().sum()"
   ]
  },
  {
   "cell_type": "code",
   "execution_count": 3,
   "id": "ea74bad7",
   "metadata": {},
   "outputs": [],
   "source": [
    "from Wd8pm import replacer\n",
    "replacer(A)"
   ]
  },
  {
   "cell_type": "code",
   "execution_count": 4,
   "id": "26124716",
   "metadata": {},
   "outputs": [
    {
     "data": {
      "text/plain": [
       "id                    70\n",
       "Manufacturer          23\n",
       "Model                 70\n",
       "Type                   6\n",
       "Min.Price             62\n",
       "Price                 63\n",
       "Max.Price             62\n",
       "MPG.city              18\n",
       "MPG.highway           18\n",
       "AirBags                3\n",
       "DriveTrain             3\n",
       "Cylinders              5\n",
       "EngineSize            23\n",
       "Horsepower            46\n",
       "RPM                   22\n",
       "Rev.per.mile          59\n",
       "Man.trans.avail        2\n",
       "Fuel.tank.capacity    34\n",
       "Passengers             6\n",
       "Length                44\n",
       "Wheelbase             26\n",
       "Width                 14\n",
       "Turn.circle           14\n",
       "Rear.seat.room        23\n",
       "Luggage.room          17\n",
       "Weight                65\n",
       "Origin                 2\n",
       "Make                  70\n",
       "dtype: int64"
      ]
     },
     "execution_count": 4,
     "metadata": {},
     "output_type": "execute_result"
    }
   ],
   "source": [
    "A.nunique()"
   ]
  },
  {
   "cell_type": "code",
   "execution_count": 5,
   "id": "80314e68",
   "metadata": {},
   "outputs": [],
   "source": [
    "Y = A[[\"Origin\"]]\n",
    "X = A.drop(labels=[\"Origin\",\"id\",\"Model\",\"Make\"],axis=1)\n",
    "from Wd8pm import catcon\n",
    "cat,con = catcon(X)"
   ]
  },
  {
   "cell_type": "code",
   "execution_count": 6,
   "id": "3710c3c3",
   "metadata": {},
   "outputs": [],
   "source": [
    "from Wd8pm import prep_NN\n",
    "Xnew,Ynew = prep_NN(X,Y)"
   ]
  },
  {
   "cell_type": "code",
   "execution_count": 7,
   "id": "4e5114cc",
   "metadata": {},
   "outputs": [
    {
     "data": {
      "text/html": [
       "<div>\n",
       "<style scoped>\n",
       "    .dataframe tbody tr th:only-of-type {\n",
       "        vertical-align: middle;\n",
       "    }\n",
       "\n",
       "    .dataframe tbody tr th {\n",
       "        vertical-align: top;\n",
       "    }\n",
       "\n",
       "    .dataframe thead th {\n",
       "        text-align: right;\n",
       "    }\n",
       "</style>\n",
       "<table border=\"1\" class=\"dataframe\">\n",
       "  <thead>\n",
       "    <tr style=\"text-align: right;\">\n",
       "      <th></th>\n",
       "      <th>Origin</th>\n",
       "    </tr>\n",
       "  </thead>\n",
       "  <tbody>\n",
       "    <tr>\n",
       "      <th>0</th>\n",
       "      <td>1</td>\n",
       "    </tr>\n",
       "    <tr>\n",
       "      <th>1</th>\n",
       "      <td>1</td>\n",
       "    </tr>\n",
       "  </tbody>\n",
       "</table>\n",
       "</div>"
      ],
      "text/plain": [
       "   Origin\n",
       "0       1\n",
       "1       1"
      ]
     },
     "execution_count": 7,
     "metadata": {},
     "output_type": "execute_result"
    }
   ],
   "source": [
    "Ynew.head(2)"
   ]
  },
  {
   "cell_type": "code",
   "execution_count": 8,
   "id": "6336c850",
   "metadata": {},
   "outputs": [],
   "source": [
    "from sklearn.model_selection import train_test_split\n",
    "xtrain,xtest,ytrain,ytest=train_test_split(Xnew,Ynew,test_size=0.2,random_state=21)\n",
    "from keras.models import Sequential\n",
    "from keras.layers import Dense,Dropout"
   ]
  },
  {
   "cell_type": "code",
   "execution_count": 9,
   "id": "9cba3b77",
   "metadata": {},
   "outputs": [
    {
     "name": "stdout",
     "output_type": "stream",
     "text": [
      "Epoch 1/250\n",
      "2/2 [==============================] - 1s 206ms/step - loss: 0.7739 - accuracy: 0.4821 - val_loss: 0.6016 - val_accuracy: 0.7143\n",
      "Epoch 2/250\n",
      "2/2 [==============================] - 0s 26ms/step - loss: 0.6120 - accuracy: 0.6786 - val_loss: 0.5860 - val_accuracy: 0.6429\n",
      "Epoch 3/250\n",
      "2/2 [==============================] - 0s 26ms/step - loss: 0.5330 - accuracy: 0.7679 - val_loss: 0.5624 - val_accuracy: 0.7143\n",
      "Epoch 4/250\n",
      "2/2 [==============================] - 0s 25ms/step - loss: 0.5046 - accuracy: 0.8214 - val_loss: 0.5036 - val_accuracy: 0.7143\n",
      "Epoch 5/250\n",
      "2/2 [==============================] - 0s 24ms/step - loss: 0.4644 - accuracy: 0.8214 - val_loss: 0.5110 - val_accuracy: 0.7143\n",
      "Epoch 6/250\n",
      "2/2 [==============================] - 0s 23ms/step - loss: 0.4235 - accuracy: 0.8571 - val_loss: 0.4718 - val_accuracy: 0.8571\n",
      "Epoch 7/250\n",
      "2/2 [==============================] - 0s 25ms/step - loss: 0.3954 - accuracy: 0.8750 - val_loss: 0.4681 - val_accuracy: 0.8571\n",
      "Epoch 8/250\n",
      "2/2 [==============================] - 0s 24ms/step - loss: 0.3752 - accuracy: 0.9107 - val_loss: 0.5113 - val_accuracy: 0.6429\n",
      "Epoch 9/250\n",
      "2/2 [==============================] - 0s 24ms/step - loss: 0.3587 - accuracy: 0.8750 - val_loss: 0.4357 - val_accuracy: 0.8571\n",
      "Epoch 10/250\n",
      "2/2 [==============================] - 0s 25ms/step - loss: 0.3141 - accuracy: 0.9464 - val_loss: 0.4229 - val_accuracy: 0.9286\n",
      "Epoch 11/250\n",
      "2/2 [==============================] - 0s 23ms/step - loss: 0.2861 - accuracy: 0.9464 - val_loss: 0.4158 - val_accuracy: 0.9286\n",
      "Epoch 12/250\n",
      "2/2 [==============================] - 0s 28ms/step - loss: 0.2684 - accuracy: 0.9643 - val_loss: 0.3727 - val_accuracy: 0.9286\n",
      "Epoch 13/250\n",
      "2/2 [==============================] - 0s 29ms/step - loss: 0.2443 - accuracy: 0.9643 - val_loss: 0.4023 - val_accuracy: 0.7143\n",
      "Epoch 14/250\n",
      "2/2 [==============================] - 0s 29ms/step - loss: 0.2562 - accuracy: 0.9464 - val_loss: 0.3800 - val_accuracy: 0.7857\n",
      "Epoch 15/250\n",
      "2/2 [==============================] - 0s 29ms/step - loss: 0.1871 - accuracy: 0.9643 - val_loss: 0.3284 - val_accuracy: 0.9286\n",
      "Epoch 16/250\n",
      "2/2 [==============================] - 0s 29ms/step - loss: 0.1715 - accuracy: 1.0000 - val_loss: 0.3212 - val_accuracy: 0.9286\n",
      "Epoch 17/250\n",
      "2/2 [==============================] - 0s 23ms/step - loss: 0.1675 - accuracy: 0.9643 - val_loss: 0.3209 - val_accuracy: 0.9286\n",
      "Epoch 18/250\n",
      "2/2 [==============================] - 0s 25ms/step - loss: 0.1538 - accuracy: 1.0000 - val_loss: 0.3435 - val_accuracy: 0.7857\n",
      "Epoch 19/250\n",
      "2/2 [==============================] - 0s 24ms/step - loss: 0.1359 - accuracy: 0.9821 - val_loss: 0.2778 - val_accuracy: 0.9286\n",
      "Epoch 20/250\n",
      "2/2 [==============================] - 0s 24ms/step - loss: 0.1381 - accuracy: 0.9643 - val_loss: 0.2900 - val_accuracy: 0.8571\n",
      "Epoch 21/250\n",
      "2/2 [==============================] - 0s 29ms/step - loss: 0.1038 - accuracy: 1.0000 - val_loss: 0.2627 - val_accuracy: 0.9286\n",
      "Epoch 22/250\n",
      "2/2 [==============================] - 0s 27ms/step - loss: 0.1033 - accuracy: 1.0000 - val_loss: 0.2539 - val_accuracy: 0.9286\n",
      "Epoch 23/250\n",
      "2/2 [==============================] - 0s 30ms/step - loss: 0.0863 - accuracy: 1.0000 - val_loss: 0.2403 - val_accuracy: 0.9286\n",
      "Epoch 24/250\n",
      "2/2 [==============================] - 0s 29ms/step - loss: 0.0705 - accuracy: 1.0000 - val_loss: 0.2319 - val_accuracy: 0.9286\n",
      "Epoch 25/250\n",
      "2/2 [==============================] - 0s 29ms/step - loss: 0.0629 - accuracy: 1.0000 - val_loss: 0.2201 - val_accuracy: 0.9286\n",
      "Epoch 26/250\n",
      "2/2 [==============================] - 0s 26ms/step - loss: 0.0709 - accuracy: 1.0000 - val_loss: 0.2123 - val_accuracy: 0.9286\n",
      "Epoch 27/250\n",
      "2/2 [==============================] - 0s 28ms/step - loss: 0.0583 - accuracy: 1.0000 - val_loss: 0.2244 - val_accuracy: 0.8571\n",
      "Epoch 28/250\n",
      "2/2 [==============================] - 0s 26ms/step - loss: 0.0496 - accuracy: 1.0000 - val_loss: 0.1852 - val_accuracy: 0.9286\n",
      "Epoch 29/250\n",
      "2/2 [==============================] - 0s 35ms/step - loss: 0.0678 - accuracy: 1.0000 - val_loss: 0.2394 - val_accuracy: 0.8571\n",
      "Epoch 30/250\n",
      "2/2 [==============================] - 0s 27ms/step - loss: 0.0576 - accuracy: 1.0000 - val_loss: 0.1628 - val_accuracy: 0.9286\n",
      "Epoch 31/250\n",
      "2/2 [==============================] - 0s 30ms/step - loss: 0.0337 - accuracy: 1.0000 - val_loss: 0.1541 - val_accuracy: 0.9286\n",
      "Epoch 32/250\n",
      "2/2 [==============================] - 0s 25ms/step - loss: 0.0335 - accuracy: 1.0000 - val_loss: 0.1455 - val_accuracy: 0.9286\n",
      "Epoch 33/250\n",
      "2/2 [==============================] - 0s 29ms/step - loss: 0.0310 - accuracy: 1.0000 - val_loss: 0.1398 - val_accuracy: 0.9286\n",
      "Epoch 34/250\n",
      "2/2 [==============================] - 0s 26ms/step - loss: 0.0279 - accuracy: 1.0000 - val_loss: 0.1338 - val_accuracy: 0.9286\n",
      "Epoch 35/250\n",
      "2/2 [==============================] - 0s 28ms/step - loss: 0.0234 - accuracy: 1.0000 - val_loss: 0.1325 - val_accuracy: 0.9286\n",
      "Epoch 36/250\n",
      "2/2 [==============================] - 0s 24ms/step - loss: 0.0263 - accuracy: 1.0000 - val_loss: 0.1273 - val_accuracy: 0.9286\n",
      "Epoch 37/250\n",
      "2/2 [==============================] - 0s 26ms/step - loss: 0.0233 - accuracy: 1.0000 - val_loss: 0.1236 - val_accuracy: 0.9286\n",
      "Epoch 38/250\n",
      "2/2 [==============================] - 0s 23ms/step - loss: 0.0174 - accuracy: 1.0000 - val_loss: 0.1282 - val_accuracy: 0.9286\n",
      "Epoch 39/250\n",
      "2/2 [==============================] - 0s 22ms/step - loss: 0.0144 - accuracy: 1.0000 - val_loss: 0.1228 - val_accuracy: 0.9286\n",
      "Epoch 40/250\n",
      "2/2 [==============================] - 0s 26ms/step - loss: 0.0122 - accuracy: 1.0000 - val_loss: 0.1158 - val_accuracy: 0.9286\n",
      "Epoch 41/250\n",
      "2/2 [==============================] - 0s 22ms/step - loss: 0.0146 - accuracy: 1.0000 - val_loss: 0.1300 - val_accuracy: 0.9286\n",
      "Epoch 42/250\n",
      "2/2 [==============================] - 0s 23ms/step - loss: 0.0143 - accuracy: 1.0000 - val_loss: 0.1122 - val_accuracy: 0.9286\n",
      "Epoch 43/250\n",
      "2/2 [==============================] - 0s 26ms/step - loss: 0.0090 - accuracy: 1.0000 - val_loss: 0.1048 - val_accuracy: 0.9286\n",
      "Epoch 44/250\n",
      "2/2 [==============================] - 0s 22ms/step - loss: 0.0078 - accuracy: 1.0000 - val_loss: 0.0964 - val_accuracy: 1.0000\n",
      "Epoch 45/250\n",
      "2/2 [==============================] - 0s 25ms/step - loss: 0.0085 - accuracy: 1.0000 - val_loss: 0.0867 - val_accuracy: 0.9286\n",
      "Epoch 46/250\n",
      "2/2 [==============================] - 0s 28ms/step - loss: 0.0064 - accuracy: 1.0000 - val_loss: 0.0848 - val_accuracy: 1.0000\n",
      "Epoch 47/250\n",
      "2/2 [==============================] - 0s 24ms/step - loss: 0.0065 - accuracy: 1.0000 - val_loss: 0.0749 - val_accuracy: 1.0000\n",
      "Epoch 48/250\n",
      "2/2 [==============================] - 0s 27ms/step - loss: 0.0066 - accuracy: 1.0000 - val_loss: 0.0738 - val_accuracy: 1.0000\n",
      "Epoch 49/250\n",
      "2/2 [==============================] - 0s 24ms/step - loss: 0.0054 - accuracy: 1.0000 - val_loss: 0.0662 - val_accuracy: 1.0000\n",
      "Epoch 50/250\n",
      "2/2 [==============================] - 0s 26ms/step - loss: 0.0039 - accuracy: 1.0000 - val_loss: 0.0649 - val_accuracy: 1.0000\n",
      "Epoch 51/250\n",
      "2/2 [==============================] - 0s 25ms/step - loss: 0.0042 - accuracy: 1.0000 - val_loss: 0.0693 - val_accuracy: 0.9286\n",
      "Epoch 52/250\n",
      "2/2 [==============================] - 0s 25ms/step - loss: 0.0039 - accuracy: 1.0000 - val_loss: 0.0801 - val_accuracy: 0.9286\n",
      "Epoch 53/250\n",
      "2/2 [==============================] - 0s 24ms/step - loss: 0.0023 - accuracy: 1.0000 - val_loss: 0.0664 - val_accuracy: 0.9286\n",
      "Epoch 54/250\n",
      "2/2 [==============================] - 0s 26ms/step - loss: 0.0028 - accuracy: 1.0000 - val_loss: 0.0562 - val_accuracy: 1.0000\n",
      "Epoch 55/250\n",
      "2/2 [==============================] - 0s 25ms/step - loss: 0.0037 - accuracy: 1.0000 - val_loss: 0.0557 - val_accuracy: 1.0000\n",
      "Epoch 56/250\n",
      "2/2 [==============================] - 0s 24ms/step - loss: 0.0019 - accuracy: 1.0000 - val_loss: 0.0550 - val_accuracy: 1.0000\n",
      "Epoch 57/250\n",
      "2/2 [==============================] - 0s 24ms/step - loss: 0.0026 - accuracy: 1.0000 - val_loss: 0.0558 - val_accuracy: 1.0000\n",
      "Epoch 58/250\n",
      "2/2 [==============================] - 0s 27ms/step - loss: 0.0016 - accuracy: 1.0000 - val_loss: 0.0519 - val_accuracy: 1.0000\n",
      "Epoch 59/250\n"
     ]
    },
    {
     "name": "stdout",
     "output_type": "stream",
     "text": [
      "2/2 [==============================] - 0s 25ms/step - loss: 0.0022 - accuracy: 1.0000 - val_loss: 0.0676 - val_accuracy: 0.9286\n",
      "Epoch 60/250\n",
      "2/2 [==============================] - 0s 27ms/step - loss: 0.0020 - accuracy: 1.0000 - val_loss: 0.0554 - val_accuracy: 1.0000\n",
      "Epoch 61/250\n",
      "2/2 [==============================] - 0s 26ms/step - loss: 0.0013 - accuracy: 1.0000 - val_loss: 0.0541 - val_accuracy: 1.0000\n",
      "Epoch 62/250\n",
      "2/2 [==============================] - 0s 25ms/step - loss: 9.2011e-04 - accuracy: 1.0000 - val_loss: 0.0508 - val_accuracy: 1.0000\n",
      "Epoch 63/250\n",
      "2/2 [==============================] - 0s 25ms/step - loss: 0.0017 - accuracy: 1.0000 - val_loss: 0.0571 - val_accuracy: 0.9286\n",
      "Epoch 64/250\n",
      "2/2 [==============================] - 0s 24ms/step - loss: 0.0010 - accuracy: 1.0000 - val_loss: 0.0428 - val_accuracy: 1.0000\n",
      "Epoch 65/250\n",
      "2/2 [==============================] - 0s 27ms/step - loss: 8.6106e-04 - accuracy: 1.0000 - val_loss: 0.0536 - val_accuracy: 1.0000\n",
      "Epoch 66/250\n",
      "2/2 [==============================] - 0s 25ms/step - loss: 5.4614e-04 - accuracy: 1.0000 - val_loss: 0.0470 - val_accuracy: 1.0000\n",
      "Epoch 67/250\n",
      "2/2 [==============================] - 0s 22ms/step - loss: 4.9351e-04 - accuracy: 1.0000 - val_loss: 0.0410 - val_accuracy: 1.0000\n",
      "Epoch 68/250\n",
      "2/2 [==============================] - 0s 23ms/step - loss: 8.8498e-04 - accuracy: 1.0000 - val_loss: 0.0410 - val_accuracy: 1.0000\n",
      "Epoch 69/250\n",
      "2/2 [==============================] - 0s 27ms/step - loss: 5.9195e-04 - accuracy: 1.0000 - val_loss: 0.0304 - val_accuracy: 1.0000\n",
      "Epoch 70/250\n",
      "2/2 [==============================] - 0s 23ms/step - loss: 3.5760e-04 - accuracy: 1.0000 - val_loss: 0.0301 - val_accuracy: 1.0000\n",
      "Epoch 71/250\n",
      "2/2 [==============================] - 0s 28ms/step - loss: 9.5422e-04 - accuracy: 1.0000 - val_loss: 0.0359 - val_accuracy: 1.0000\n",
      "Epoch 72/250\n",
      "2/2 [==============================] - 0s 28ms/step - loss: 4.5479e-04 - accuracy: 1.0000 - val_loss: 0.0269 - val_accuracy: 1.0000\n",
      "Epoch 73/250\n",
      "2/2 [==============================] - 0s 23ms/step - loss: 2.2639e-04 - accuracy: 1.0000 - val_loss: 0.0268 - val_accuracy: 1.0000\n",
      "Epoch 74/250\n",
      "2/2 [==============================] - 0s 26ms/step - loss: 3.2023e-04 - accuracy: 1.0000 - val_loss: 0.0241 - val_accuracy: 1.0000\n",
      "Epoch 75/250\n",
      "2/2 [==============================] - 0s 29ms/step - loss: 3.5204e-04 - accuracy: 1.0000 - val_loss: 0.0246 - val_accuracy: 1.0000\n",
      "Epoch 76/250\n",
      "2/2 [==============================] - 0s 24ms/step - loss: 2.5934e-04 - accuracy: 1.0000 - val_loss: 0.0234 - val_accuracy: 1.0000\n",
      "Epoch 77/250\n",
      "2/2 [==============================] - 0s 25ms/step - loss: 2.9789e-04 - accuracy: 1.0000 - val_loss: 0.0234 - val_accuracy: 1.0000\n",
      "Epoch 78/250\n",
      "2/2 [==============================] - 0s 23ms/step - loss: 2.2329e-04 - accuracy: 1.0000 - val_loss: 0.0210 - val_accuracy: 1.0000\n",
      "Epoch 79/250\n",
      "2/2 [==============================] - 0s 26ms/step - loss: 1.4799e-04 - accuracy: 1.0000 - val_loss: 0.0217 - val_accuracy: 1.0000\n",
      "Epoch 80/250\n",
      "2/2 [==============================] - 0s 25ms/step - loss: 1.3005e-04 - accuracy: 1.0000 - val_loss: 0.0215 - val_accuracy: 1.0000\n",
      "Epoch 81/250\n",
      "2/2 [==============================] - 0s 24ms/step - loss: 1.1250e-04 - accuracy: 1.0000 - val_loss: 0.0182 - val_accuracy: 1.0000\n",
      "Epoch 82/250\n",
      "2/2 [==============================] - 0s 53ms/step - loss: 9.3038e-05 - accuracy: 1.0000 - val_loss: 0.0172 - val_accuracy: 1.0000\n",
      "Epoch 83/250\n",
      "2/2 [==============================] - 0s 27ms/step - loss: 1.3512e-04 - accuracy: 1.0000 - val_loss: 0.0189 - val_accuracy: 1.0000\n",
      "Epoch 84/250\n",
      "2/2 [==============================] - 0s 26ms/step - loss: 8.6618e-05 - accuracy: 1.0000 - val_loss: 0.0187 - val_accuracy: 1.0000\n",
      "Epoch 85/250\n",
      "2/2 [==============================] - 0s 31ms/step - loss: 8.0483e-05 - accuracy: 1.0000 - val_loss: 0.0191 - val_accuracy: 1.0000\n",
      "Epoch 86/250\n",
      "2/2 [==============================] - 0s 26ms/step - loss: 6.4378e-05 - accuracy: 1.0000 - val_loss: 0.0190 - val_accuracy: 1.0000\n"
     ]
    }
   ],
   "source": [
    "nn = Sequential()\n",
    "nn.add(Dense(100,input_dim=len(xtrain.columns)))\n",
    "\n",
    "nn.add(Dropout(0.1))\n",
    "nn.add(Dense(100))\n",
    "nn.add(Dropout(0.1))\n",
    "nn.add(Dense(1,activation=\"sigmoid\"))\n",
    "\n",
    "from keras.callbacks import EarlyStopping\n",
    "es = EarlyStopping(patience=4)\n",
    "nn.compile(loss=\"binary_crossentropy\",metrics=\"accuracy\")\n",
    "model = nn.fit(xtrain,ytrain,validation_data=(xtest,ytest),epochs=250,callbacks=es)"
   ]
  },
  {
   "cell_type": "code",
   "execution_count": 10,
   "id": "ebf567ff",
   "metadata": {},
   "outputs": [],
   "source": [
    "tr = model.history['accuracy']\n",
    "ts = model.history['val_accuracy']"
   ]
  },
  {
   "cell_type": "code",
   "execution_count": 11,
   "id": "417db694",
   "metadata": {},
   "outputs": [
    {
     "data": {
      "text/plain": [
       "[<matplotlib.lines.Line2D at 0x1daad60c610>]"
      ]
     },
     "execution_count": 11,
     "metadata": {},
     "output_type": "execute_result"
    },
    {
     "data": {
      "image/png": "[encoded data removed]",
      "text/plain": [
       "<Figure size 640x480 with 1 Axes>"
      ]
     },
     "metadata": {},
     "output_type": "display_data"
    }
   ],
   "source": [
    "import matplotlib.pyplot as plt\n",
    "plt.plot(tr)\n",
    "plt.plot(ts)"
   ]
  },
  {
   "cell_type": "code",
   "execution_count": 12,
   "id": "e4813f86",
   "metadata": {},
   "outputs": [
    {
     "name": "stdout",
     "output_type": "stream",
     "text": [
      "1/1 [==============================] - 0s 58ms/step\n"
     ]
    }
   ],
   "source": [
    "w1 = []\n",
    "for i in nn.predict(xtest):\n",
    "    if(i<0.5):\n",
    "        w1.append(\"USA\")\n",
    "    else:\n",
    "        w1.append(\"Non-USA\")"
   ]
  },
  {
   "cell_type": "code",
   "execution_count": 13,
   "id": "79a7cc31",
   "metadata": {},
   "outputs": [],
   "source": [
    "w2 = []\n",
    "for i in ytest.Origin:\n",
    "    if(i==0):\n",
    "        w2.append(\"USA\")\n",
    "    else:\n",
    "        w2.append(\"Non-USA\")"
   ]
  },
  {
   "cell_type": "code",
   "execution_count": 14,
   "id": "ad49c438",
   "metadata": {},
   "outputs": [
    {
     "data": {
      "text/plain": [
       "array([[ 4,  0],\n",
       "       [ 0, 10]], dtype=int64)"
      ]
     },
     "execution_count": 14,
     "metadata": {},
     "output_type": "execute_result"
    }
   ],
   "source": [
    "from sklearn.metrics import confusion_matrix\n",
    "confusion_matrix(w1,w2)"
   ]
  },
  {
   "cell_type": "code",
   "execution_count": null,
   "id": "0f536506",
   "metadata": {},
   "outputs": [],
   "source": []
  }
 ],
 "metadata": {
  "kernelspec": {
   "display_name": "Python 3 (ipykernel)",
   "language": "python",
   "name": "python3"
  },
  "language_info": {
   "codemirror_mode": {
    "name": "ipython",
    "version": 3
   },
   "file_extension": ".py",
   "mimetype": "text/x-python",
   "name": "python",
   "nbconvert_exporter": "python",
   "pygments_lexer": "ipython3",
   "version": "3.9.15"
  }
 },
 "nbformat": 4,
 "nbformat_minor": 5
}
